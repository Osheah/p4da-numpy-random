{
 "cells": [
  {
   "cell_type": "markdown",
   "metadata": {},
   "source": [
    "\n",
    "\n",
    "# Assignment - Explain the numpy.random package\n",
    "\n",
    "![numpylogo](img/numpy.jpeg)\n",
    "\n",
    "\n",
    "\n",
    "## Why are random numbers needed? \n",
    "\n",
    "The ability to generate random numbers has many useful applications. Say a researcher is interested in the effectiveness of a new ulcer drug. The population of interest is every person with ulcers. It would impractically costly and time-consuming contact everyone with ulcers, give them the drug and then compare before and after reports. Indeed, the population of people with ulcers as a total population would be impossible to judge as many people may have ulcers without ever seeking treatment.\n",
    "\n",
    "## Why take samples?\n",
    "The researcher needs to take a sample from this population. This sample should be big enough and diverse enough so that it fairly represents the wider population. The sample data is used to make **generalisations** about its population. For example, the drug’s effectiveness in a sample containing only men with ulcers aged seventy or over is unlikely to represent its effectiveness on women half that age. Sampling involves taking a sufficiently sized subset of a given population that accurately reflects the phenomena under investigation so that information from the sample can be used to infer things from the overall population. It is vital then that *the sample shares the same characteristics as its target population*. \n",
    "\n",
    "## Problems with picking samples \n",
    "Picking samples that represent a population is prone to **biases**. For example, if asked to pick a number at random between 1 and 10 there will be far more 3's and 7's than would be expected if the choice was truly random [ref](https://micro.magnet.fsu.edu/creatures/pages/random.html).\n",
    "\n",
    "One way to reduce sampling bias is to use **random sampling**. Random sampling means that every item in the target population has an *equal* chance of being selected. In the example above, the target population would be the numbers between 1 and 10 inclusive and random sampling means that each number in this interval would have an equal probability of being selected. \n",
    "\n",
    "If random sampling is not used then certain elements of the population are favoured over others which skews the results and limits its generalising ability. In reality, it is often difficult to define the target population and its sample precisely so that only the phenomena in question is investigated.  \n",
    "\n",
    "![Literary Digest](img/digest.jpg)\n",
    "\n",
    "For example in 1936 there was a phone poll conducted by The Literary Digest which predicted that the Republican Alfred Landon would win the election 57% to 43% from the Democrat F.D.Roosevelt. However, the actual results from the election was 62% in favour of FDR. The problem was sample bias. Only people with phones were polled and they were more likely to vote Republican in depression era America. People with phones were also more likely to come from a more affluent background and were not as likely to be moved by FDR’s new deal rhetoric. [Ref]( https://www.math.upenn.edu/~deturck/m170/wk4/lecture/case1.html). Random sampling does not remove sample bias but it does limit one aspect of it, biases introduced by favouring subsets of the target population rather than then every element being as likely to be selected as every other one.   \n",
    "\n",
    "## Algorithms and random numbers\n",
    "\n",
    "Computing algorithms are deterministic. They cannot generate true randomness without using some external piece of information. \n",
    "\n",
    "![lave lamps](img/lava.jpg)\n",
    "\n",
    "\n",
    "For example the DNS service Cloudflare uses its lava lamps in its head office to help generate the randomness needed for its cryptography [ref]( https://blog.cloudflare.com/randomness-101-lavarand-in-production/). Many areas of science and computing do not need true randomness. In fact, some areas require predictable ‘randomness’ so that model parameters can be tested with the same random ‘noise’. Computer algorithms use **pseudo random numbers** (Idris, 2015). To all appearances these look random but if a key piece of information is known, the whole random sequence can be predicted. There are several **pseudo random number generator** (PRNG) algorithms. \n",
    "\n",
    "One of the most widely used PRNG is the *Mersenne Twister*. A Mersenne number is one less than a power of 2. The twister aspect refers to its period length being a Mersenne prime which is ‘twisted’ by various transformations when random numbers are generated. A commonly used Mersenne twister uses 19937 as its power.  This algorithm takes a ‘seed’ value as a starting point. This is initialised into a state and transformed via reversable and non-reversable transformations in order to generate the pseudo random numbers PRN. [Ref](https://www.cryptologie.net/article/331/how-does-the-mersennes-twister-work/). The Mersenne Twister is not secure enough for cryptology however it a useful and widely used all purpose PRNG [Ref]( https://en.wikipedia.org/wiki/Mersenne_Twister).  \n",
    "\n",
    "## Random numbers in Python\n",
    "\n",
    "![python logo](img/python.png)\n",
    "\n",
    "Python has an in built random package *random*. NumPy extends this by adding extra functionality and methods in its *numpy.random* package. Both Python and Numpy.random use the Mersenne twister 19937 algorithm to generate PRNs.\n",
    "\n",
    "## Why use NumPy for generating random numbers\n",
    "\n",
    "Python's random method generates a random float number uniformly from the interval 0 inclusive to 1 exclusive [Ref]( https://docs.python.org/3/library/random.html). .random has many of the functions and methods contained in numpy.random so *why use numpy.random*?\n",
    "\n",
    "The main reason numpy.random is used over Python’s random.random package is that NumPy is designed to work with n dimensional arrays. Numpy uses less memory and is faster than lists used in the default python.   NumPy is specialised for scientific operations and has more advanced mathematical functionality than Python. It is especially useful for manipulating numerical data that can be arranged in matrices [ref](https://metaspace.blog/programming/python/python-numpy-basics/). \n",
    "\n",
    "PRN’s can be arranged in arrays, a speciality in NumPy. Numpy.random and python’s default random.random have similar functions and methods but numpy.random has some extra probability distributions common to scientific research and some extra simple random data convenience functions.  Neither are suitable for cryptography purposes. [ref](https://stackoverflow.com/questions/7029993/differences-between-numpy-random-and-random-random-in-python). \n",
    "\n",
    "The functions and methods offered in numpy.random are\n",
    "\n",
    "* simple random data\n",
    "* permutations\n",
    "* distributions\n",
    "* random generator\n",
    "\n",
    "*Simple random data* section consist of several functions that generate simple random data.Inputs can be size or range. *Permutation* functions randomly shuffle or permutes a given sequence. *Distribution* functions allow specific population distributions or ranges to be sampled. This may require statistical measures such as mean and standard deviation. Numpy.random can generate samples from continuous and descrite distributins (Idris, 2015). Lastly, the *random generator* section contains functions that allow seeds to be specified (Mehta, 2015). This is useful in cases where the exact same sequence of random data is required. Each of these sections will be explored. \n",
    "\n",
    " "
   ]
  },
  {
   "cell_type": "markdown",
   "metadata": {},
   "source": [
    "## What does Simple random data do?\n"
   ]
  },
  {
   "cell_type": "markdown",
   "metadata": {},
   "source": [
    "There are 10 simple random data functions in numpy.random namely\n",
    "\n",
    "1. rand\n",
    "2. randn\n",
    "3. randint\n",
    "4. random_integers\n",
    "5. random_sample\n",
    "6. random\n",
    "7. randf\n",
    "8. sample\n",
    "9. choice\n",
    "10. bytes\n",
    "\n",
    "[ref](https://docs.scipy.org/doc/numpy-1.15.1/reference/routines.random.html). Of these random, ranf and sample [](https://stackoverflow.com/questions/18829185/difference-between-various-numpy-random-functions)are aliases of random_sample, with similar inputs and outputs. In addition rand and randn are convenience functions, meaning that their functionality can be achived by Python's in built functions. Each of these functions are used to generate simple random data of various sizes or shapes over various intervals or ranges. Which function is used depends on the requirments. \n"
   ]
  },
  {
   "cell_type": "markdown",
   "metadata": {},
   "source": [
    "### Import libraries"
   ]
  },
  {
   "cell_type": "code",
   "execution_count": 1,
   "metadata": {
    "scrolled": true
   },
   "outputs": [],
   "source": [
    "#Import packages numpy and matplotlib.pyplot\n",
    "import numpy as np\n",
    "import random\n",
    "import matplotlib.pyplot as plt\n",
    "# display pyplot in jupyter notebook\n",
    "%matplotlib inline"
   ]
  },
  {
   "cell_type": "markdown",
   "metadata": {},
   "source": [
    "### Python's default random function\n",
    "\n",
    "Python has the built in random function for generating simple random data."
   ]
  },
  {
   "cell_type": "code",
   "execution_count": 2,
   "metadata": {
    "scrolled": true
   },
   "outputs": [
    {
     "name": "stdout",
     "output_type": "stream",
     "text": [
      "Simple random data from python's inbuilt random function \n",
      "\n",
      "0.3632256659072777 \n",
      "\n",
      "Simple random data from python's inbuilt random function uniformly distriubted between 0 and 1 \n",
      "\n",
      "0.30464143039760205\n"
     ]
    }
   ],
   "source": [
    "r1 = random.random()\n",
    "print(\"Simple random data from python's inbuilt random function\", '\\n')\n",
    "print(r1, '\\n')\n",
    "print(\"Simple random data from python's inbuilt random function uniformly distriubted between 0 and 1\", '\\n')\n",
    "r2 = random.uniform(0,1)\n",
    "print(r2)"
   ]
  },
  {
   "cell_type": "markdown",
   "metadata": {},
   "source": [
    "numpy.random extends this, adding extra functions and methods.[ref](https://docs.scipy.org/doc/numpy-1.15.1/reference/routines.random.html) \n",
    "\n",
    "\n",
    "|Simple Random Data| Input                       | Output                                                           |\n",
    "| -----------------|:------------------------    | :--------------------------------------------------------------- |\n",
    "| rand             | d0, d1, …, dn               | Random values in a given shape                                   |               \n",
    "| randn            | d0, d1, …, dn               | sample (or samples) from the “standard normal” distribution      |              \n",
    "| randint          | low`[, high, size, dtype]`  | Return random integers from low (inclusive) to high (exclusive)  |            \n",
    "| random_integers  | low`[, high, size])` \t     | Random integers of type np.int between low and high, inclusive.  |\n",
    "| random_sample    | `[size]`                    | Random floats in the half-open interval `[0.0, 1.0)`             |               \n",
    "| random           | `[size]`                    | Random floats in the half-open interval `[0.0, 1.0)`             |               \n",
    "| ranf             | `[size]`                    | Random floats in the half-open interval `[0.0, 1.0)`             |               \n",
    "| sample           | `[size]`                    | Random floats in the half-open interval `[0.0, 1.0)`             |               \n",
    "| choice           | `a[, size, replace, p]`     | Generates a random sample from a given 1-D array                 |                     \n",
    "| bytes            | length                      | Random bytes                                                     |      \n",
    "\n",
    "### rand\n",
    "\n",
    "rand(d0, d1, ..., dn) outputs random values in a given shape. Shape refers to the arrangment of the arrays. eg. a input of  (1)is a single 1x1 matrix array, an input of (2,3) is  a 2x3 matrix array (number of rows x columns) while an input of (2,3,4) is 2 arrays consisting each consisting of 3x4 matrix arrays. \n",
    "rand is a convenience or helper function. It creates random values in a given shape [ref](https://docs.scipy.org/doc/numpy-1.15.1/reference/generated/numpy.random.rand.html#numpy.random.rand). Inputs are non negative integers, although 0 returns an empty array.  If no input is given a single number is outputed. Output arrays come from the uniform distribution (i.e. each number has the same probability of being selected) between 0 inclusive and 1 exclusive `[0, 1)` \n",
    "\n",
    "#### When would you use rand?\n",
    "Use rand if you want to generate random values from a uniform semi closed interval `[0,1)` to populate matrices (rows by columns) of a given size; note single floats can be generated with empty parameters and single element arrays can be generated with argument 1. It is similar to Python's random.random but extends the input to accept different array sizes [ref](https://docs.python.org/3/library/random.html).\n",
    "\n",
    "\n"
   ]
  },
  {
   "cell_type": "code",
   "execution_count": 3,
   "metadata": {
    "scrolled": true
   },
   "outputs": [
    {
     "name": "stdout",
     "output_type": "stream",
     "text": [
      "Generate a 2x4 matrix and fill it with random numbers \n",
      "\n",
      "[[ 0.23929008  0.41718781  0.08679009  0.94732903]\n",
      " [ 0.40277607  0.96542667  0.9492136   0.56182605]] \n",
      "\n",
      "Generate a single float \n",
      "\n",
      "0.8930744030849747 \n",
      "\n",
      "Generate a 1-d matrix \n",
      "\n",
      "[ 0.10696445] \n",
      "\n"
     ]
    }
   ],
   "source": [
    "print(\"Generate a 2x4 matrix and fill it with random numbers\", \"\\n\")\n",
    "print(np.random.rand(2,4), \"\\n\")\n",
    "print(\"Generate a single float\", \"\\n\")\n",
    "print(np.random.rand(),\"\\n\")\n",
    "print(\"Generate a 1-d matrix\", \"\\n\")\n",
    "print(np.random.rand(1),\"\\n\")\n"
   ]
  },
  {
   "cell_type": "markdown",
   "metadata": {},
   "source": [
    "### randn\n",
    "\n",
    "randn((d0, d1, ..., dn) outputs a sample(s) from the “standard normal” distribution N(0,1).\n",
    "Randn is similar to rand but takes its random numbers from the standard normal distrubution with mean 0 and standard deviation 1 N(0,1)[ref](https://docs.scipy.org/doc/numpy-1.15.1/reference/generated/numpy.random.randn.html#numpy.random.randn). It is similar to the standard_normal distrubution in NumPy.random however standard_normal can have tuples as arguments. Randn's arguements must be positive integers or integer like (such as int(1.02)). Like rand, it is a convenience function with inputs for sizes. If no input given a single random number (float) from the standard normal distribution is outputted. Outputs take the form of n dimentional arrays in the shape specifed by the inputs. If a non standard normal distribution N(m,sd<sup>2</sup>) is required, the transformation m + sd * np.random.rand() can be applied. \n",
    "\n",
    "#### When would you use randn?\n",
    "Use randn If you want to generate random values in a specified shape with values taken from the standard normal distrubution centered in a bell curve round 0 with most values falling between -3 and 3. Unlike rand - negative values can be returned. "
   ]
  },
  {
   "cell_type": "code",
   "execution_count": 4,
   "metadata": {
    "scrolled": true
   },
   "outputs": [
    {
     "name": "stdout",
     "output_type": "stream",
     "text": [
      "No input given  - single random float returned \n",
      "\n",
      "0.8762336104852386 \n",
      "\n",
      "1 input given  - single random array from N(0,1) \n",
      "\n",
      "[ 0.94657836] \n",
      "\n",
      "5 outputs a 1x1 array of 5 random floats from N(0,1) \n",
      "\n",
      "[ 0.93786913  2.60136656 -0.26853479 -0.03409456  0.21009046] \n",
      "\n",
      "outputs 2 arrays of 3x4 matrices filled with random numbers from N(0,1) \n",
      "\n",
      "[[[-0.52978746  1.0583704   1.8675308  -1.27655686]\n",
      "  [-1.68789071 -0.04397438  0.11587385  0.50443108]\n",
      "  [ 0.70407856 -0.79458766 -1.1661233   0.44998773]]\n",
      "\n",
      " [[ 0.59081685  1.01742264  0.52514156  0.31551274]\n",
      "  [ 0.19727273 -0.27316264  0.67122986  0.72160074]\n",
      "  [-0.53090218  1.45767266 -0.62971252  2.1504887 ]]] \n",
      "\n"
     ]
    }
   ],
   "source": [
    "print(\"No input given  - single random float returned\", \"\\n\")\n",
    "print(np.random.randn(), \"\\n\")\n",
    "\n",
    "print(\"1 input given  - single random array from N(0,1)\",\"\\n\")\n",
    "print(np.random.randn(1),'\\n')\n",
    "\n",
    "print(\"5 outputs a 1x1 array of 5 random floats from N(0,1)\",\"\\n\")\n",
    "print(np.random.randn(5),'\\n')\n",
    "\n",
    "print(\"outputs 2 arrays of 3x4 matrices filled with random numbers from N(0,1)\",\"\\n\")\n",
    "print(np.random.randn(2,3,4),'\\n')\n"
   ]
  },
  {
   "cell_type": "markdown",
   "metadata": {},
   "source": [
    "To see the shape of the distribution plot a histogram. This is the standard normal distrubution around 0 with standard deviation 1.  "
   ]
  },
  {
   "cell_type": "code",
   "execution_count": 5,
   "metadata": {
    "scrolled": true
   },
   "outputs": [
    {
     "data": {
      "text/plain": [
       "(array([  946.,  1072.,   958.,   972.,  1024.,  1002.,   971.,  1024.,\n",
       "          960.,  1071.]),\n",
       " array([  5.97873324e-05,   1.00052395e-01,   2.00045002e-01,\n",
       "          3.00037609e-01,   4.00030216e-01,   5.00022823e-01,\n",
       "          6.00015431e-01,   7.00008038e-01,   8.00000645e-01,\n",
       "          8.99993252e-01,   9.99985859e-01]),\n",
       " <a list of 10 Patch objects>)"
      ]
     },
     "execution_count": 5,
     "metadata": {},
     "output_type": "execute_result"
    },
    {
     "data": {
      "image/png": "[encoded data removed]",
      "text/plain": [
       "<matplotlib.figure.Figure at 0x1564ea82d68>"
      ]
     },
     "metadata": {
      "needs_background": "light"
     },
     "output_type": "display_data"
    }
   ],
   "source": [
    "plt.subplot(1,2,1)\n",
    "x = np.random.randn(10000)\n",
    "plt.title(\"Standard Normal - randn\")\n",
    "plt.hist(x)\n",
    "plt.subplot(1,2,2)\n",
    "x = np.random.rand(10000)\n",
    "plt.title(\"Uniform - rand\")\n",
    "plt.hist(x)"
   ]
  },
  {
   "cell_type": "markdown",
   "metadata": {},
   "source": [
    "To shift the distribution from standard normal  to n N(m,sd<sup>2</sup>) use the transformation m + sd * np.random.rand()"
   ]
  },
  {
   "cell_type": "code",
   "execution_count": 6,
   "metadata": {
    "scrolled": true
   },
   "outputs": [
    {
     "name": "stdout",
     "output_type": "stream",
     "text": [
      "outputs random numbers from N(2, 9) \n",
      "\n",
      "this shifts the plot left to centre it round 2 with a spread of 9\n"
     ]
    },
    {
     "data": {
      "image/png": "[encoded data removed]",
      "text/plain": [
       "<matplotlib.figure.Figure at 0x1564cdbf198>"
      ]
     },
     "metadata": {
      "needs_background": "light"
     },
     "output_type": "display_data"
    }
   ],
   "source": [
    "print(\"outputs random numbers from N(2, 9)\",\"\\n\")\n",
    "plt.hist(2+3*np.random.randn(1000))\n",
    "print(\"this shifts the plot left to centre it round 2 with a spread of 9\")"
   ]
  },
  {
   "cell_type": "markdown",
   "metadata": {},
   "source": [
    "### randint\n",
    "\n",
    "randint((low`[, high, size, dtype]`))outputs random integers from low (inclusive) to high (exclusive). \n",
    "randint is differs from the two above functions in that it returns integers within a specifeid interval low (inclusive) to high (exclusive). Integers are returned from the discrete uniform distribution [ref](). Whereas rand returned numbers from the continous uniform distribution between `[0,1)`. Randint expands this interval by returing values from `[low,high)`. If no arguments are given an error is returned. If one argument is given, say h then this is assumed to be the higher bound and positive and the lower bound is 0 `[0, h)`.  Size can also be specified e.g. if 10 random numbers are required between `[0, 5)` the arguments would be (0,5,10). Data type can also be specified, the default is np.int. dTypes relate to the way memory blocks are interpreted [ref](https://stackoverflow.com/questions/9457037/what-does-dtype-do).   \n",
    "\n",
    "#### When would you use randint?\n",
    "randint would be used when integers rather than floats are required and the integers lie within a certain range. e.g. generate a random number between 1 and 10 inclusive"
   ]
  },
  {
   "cell_type": "code",
   "execution_count": 7,
   "metadata": {
    "scrolled": true
   },
   "outputs": [
    {
     "name": "stdout",
     "output_type": "stream",
     "text": [
      "Generate a random number between 1 and 10 inclusive \n",
      "\n",
      "4 \n",
      "\n",
      "Generate 3 random number between 1 and 10 inclusive \n",
      "\n",
      "[3 9 5] \n",
      "\n",
      "Generate a random positive number less than 4 \n",
      "\n",
      "2 \n",
      "\n",
      "Generate a random integer between -5 and 5 inclusive  \n",
      "\n",
      "-3 \n",
      "\n"
     ]
    }
   ],
   "source": [
    "print(\"Generate a random number between 1 and 10 inclusive\",\"\\n\")\n",
    "print(np.random.randint(1, 11),\"\\n\")\n",
    "\n",
    "print(\"Generate 3 random number between 1 and 10 inclusive\",\"\\n\")\n",
    "print(np.random.randint(1, 11, 3),\"\\n\")\n",
    "\n",
    "print(\"Generate a random positive number less than 4\",\"\\n\")\n",
    "print(np.random.randint(4),\"\\n\")\n",
    "\n",
    "print(\"Generate a random integer between -5 and 5 inclusive \",\"\\n\")\n",
    "print(np.random.randint(-5, 6),\"\\n\")"
   ]
  },
  {
   "cell_type": "markdown",
   "metadata": {},
   "source": [
    "### random_integers\n",
    "\n",
    "random_integers(low`[, high, size]`) outputs random integers of type np.int between low and high, inclusive. Size refers to the number of random values required from the specified interval. This function is no longer maintained. \n",
    "\n",
    "Random_integers is very similar to randint, both return integers from a discrete uniform distribution. However random_integers is inclusive of the higher range value `[low, high]`. This function is deprecated i.e replaced, in favour of randint. Thus when called by python a warning will display, although the function will still work. Both randint and random_integers can use the transformation  a + (b - a) * (np.random.random_integers(N) - 1) / (N - 1) to give N evenly spaced integers between a and b but random_integers includes the b value whereas randind does not.\n",
    "\n",
    "#### When would you use random_integers?\n",
    "You wouldn't. The function is retired in favour of randint which was discussed above. It will still work but python will give a warning when its used.  "
   ]
  },
  {
   "cell_type": "code",
   "execution_count": 8,
   "metadata": {
    "scrolled": true
   },
   "outputs": [
    {
     "name": "stdout",
     "output_type": "stream",
     "text": [
      "Output 10 1's or 0's randomly \n",
      "\n",
      "[0 0 0 0 0 1 1 0 1 0] \n",
      "\n"
     ]
    },
    {
     "name": "stderr",
     "output_type": "stream",
     "text": [
      "C:\\ProgramData\\Anaconda3\\lib\\site-packages\\ipykernel_launcher.py:2: DeprecationWarning: This function is deprecated. Please call randint(0, 1 + 1) instead\n",
      "  \n"
     ]
    }
   ],
   "source": [
    "print(\"Output 10 1's or 0's randomly\", \"\\n\")\n",
    "print(np.random.random_integers(0,1, 10), '\\n')\n"
   ]
  },
  {
   "cell_type": "markdown",
   "metadata": {},
   "source": [
    "To specify intervals equally spaced..... ## add stuff here\n",
    "\n",
    "a,b,N=3,5,10\n",
    "print(a + (b - a) * (np.random.random_integers(N) - 1) / (N - 1), '\\n')\n",
    "print(a + (b - a) * (np.random.randint(N) - 1) / (N - 1))"
   ]
  },
  {
   "cell_type": "markdown",
   "metadata": {},
   "source": [
    "### random_sample (random, ranf and sample)\n",
    "\n",
    "random_sample(`[size]`) outputs random floats in the half-open interval `[0.0, 1.0)` [ref](https://docs.scipy.org/doc/numpy-1.15.1/reference/generated/numpy.random.random_sample.html#numpy.random.random_sample).\n",
    "Random_sample and its aliases [ref](https://stackoverflow.com/questions/18829185/difference-between-various-numpy-random-functions) random [ref](https://docs.scipy.org/doc/numpy-1.15.1/reference/generated/numpy.random.random.html#numpy.random.random), ranf [ref](https://docs.scipy.org/doc/numpy-1.15.1/reference/generated/numpy.random.ranf.html#numpy.random.ranf) and sample [ref](https://docs.scipy.org/doc/numpy-1.15.1/reference/generated/numpy.random.sample.html#numpy.random.sample) . unlike randint which returned random values from the descrite uniform distribution `[low, high)` and rand which populates arrays with random values in a given shape, random_sample returns random floats from the continous uniform distrubtion `[0,1)`. It's input is size i.e. the number of random values required. To expand values outside of U`[0,1)` to cover U`[a, b)` the transformation a +  (b - a)`*` random_sample() can be used. the size can be an integer or tuples of integers (a,b,c) \n",
    "\n",
    "#### When would you use random_sample or its aliases?\n",
    "random_sample is used when random floats are required from the continous uniform distrubution in the interval 0 inclusive to 1 exclusive. Each number is as likey to be generated as every other. A single number can be returned E.g. pick any number in the interval `[0,1)` or an array of a specified size e.g. pick 20 numbers in the interval `[0, 1)` "
   ]
  },
  {
   "cell_type": "code",
   "execution_count": 9,
   "metadata": {
    "scrolled": false
   },
   "outputs": [
    {
     "name": "stdout",
     "output_type": "stream",
     "text": [
      "generate a random float in [0,1) \n",
      "\n",
      "0.5796465489160985 \n",
      "\n",
      "generate a random float in [0,1) \n",
      "\n",
      "[ 0.9499438   0.64410786  0.84785579  0.99676042  0.63024611  0.57286282\n",
      "  0.51978549  0.88646803  0.99502571  0.58458751  0.9936373   0.83883766\n",
      "  0.48561633  0.47500276  0.62772618  0.253012    0.15396324  0.94456324\n",
      "  0.62741461  0.60005585] \n",
      "\n"
     ]
    }
   ],
   "source": [
    "print(\"generate a random float in [0,1)\", \"\\n\")\n",
    "print(np.random.random_sample(), \"\\n\")\n",
    "\n",
    "print(\"generate a random float in [0,1)\", \"\\n\")\n",
    "print(np.random.random_sample(20), \"\\n\")\n",
    "\n"
   ]
  },
  {
   "cell_type": "code",
   "execution_count": 10,
   "metadata": {
    "scrolled": true
   },
   "outputs": [
    {
     "name": "stdout",
     "output_type": "stream",
     "text": [
      "The histogram of random_sample shows its uniform distrubution \n",
      "\n"
     ]
    },
    {
     "data": {
      "image/png": "[encoded data removed]",
      "text/plain": [
       "<matplotlib.figure.Figure at 0x1564f101080>"
      ]
     },
     "metadata": {
      "needs_background": "light"
     },
     "output_type": "display_data"
    },
    {
     "name": "stdout",
     "output_type": "stream",
     "text": [
      "The aliases show a similar pattern \n",
      "\n"
     ]
    },
    {
     "data": {
      "image/png": "[encoded data removed]",
      "text/plain": [
       "<matplotlib.figure.Figure at 0x1564ebf2dd8>"
      ]
     },
     "metadata": {
      "needs_background": "light"
     },
     "output_type": "display_data"
    },
    {
     "data": {
      "image/png": "[encoded data removed]",
      "text/plain": [
       "<matplotlib.figure.Figure at 0x1564eab9588>"
      ]
     },
     "metadata": {
      "needs_background": "light"
     },
     "output_type": "display_data"
    },
    {
     "data": {
      "image/png": "[encoded data removed]",
      "text/plain": [
       "<matplotlib.figure.Figure at 0x1564f2b7d30>"
      ]
     },
     "metadata": {
      "needs_background": "light"
     },
     "output_type": "display_data"
    }
   ],
   "source": [
    "print(\"The histogram of random_sample shows its uniform distrubution\", \"\\n\")\n",
    "plt.hist(np.random.random_sample(10000))\n",
    "plt.title(\"random_sample\")\n",
    "plt.show()\n",
    "print(\"The aliases show a similar pattern\", \"\\n\")\n",
    "plt.hist(np.random.random(10000))\n",
    "plt.title(\"random\")\n",
    "plt.show()\n",
    "plt.hist(np.random.ranf(10000))\n",
    "plt.title(\"ranf\")\n",
    "plt.show()\n",
    "plt.hist(np.random.sample(10000))\n",
    "plt.title(\"sample\")\n",
    "plt.show()\n",
    "\n"
   ]
  },
  {
   "cell_type": "markdown",
   "metadata": {},
   "source": [
    "To change the interval `U[0, 1)` from which the numbers are selected to `U[a,b)` from use the transformation a + (b - a)* random_sample()\n",
    "\n"
   ]
  },
  {
   "cell_type": "code",
   "execution_count": 11,
   "metadata": {
    "scrolled": true
   },
   "outputs": [
    {
     "name": "stdout",
     "output_type": "stream",
     "text": [
      "This outputs an 1x10 array filled with random floats between [3, 5) \n",
      "\n",
      "[ 3.45673679  3.19500278  4.20386483  4.40857941  4.24286779  4.64666688\n",
      "  4.89709809  4.16778313  4.63725919  3.63919295] \n",
      "\n"
     ]
    },
    {
     "data": {
      "image/png": "[encoded data removed]",
      "text/plain": [
       "<matplotlib.figure.Figure at 0x1564edfa4e0>"
      ]
     },
     "metadata": {
      "needs_background": "light"
     },
     "output_type": "display_data"
    }
   ],
   "source": [
    "print(\"This outputs an 1x10 array filled with random floats between [3, 5)\", \"\\n\")\n",
    "a,b,N=3,5,10\n",
    "x = a + (b - a) * np.random.random_sample(10) \n",
    "print(x, \"\\n\")\n",
    "plt.hist(x)\n",
    "plt.title(\"random floats in U[3,5)\")\n",
    "plt.show()\n",
    "\n"
   ]
  },
  {
   "cell_type": "markdown",
   "metadata": {},
   "source": [
    "### choice\n",
    "\n",
    "choice(a`[, size, replace, p]`) outputs a random sample from a given 1-D array [ref](https://docs.scipy.org/doc/numpy-1.15.1/reference/routines.random.html). its input is a 1 dimentional array or integer. The number of random values required can be specified by size. The difference between this function and the ones above is that here the population is specified in an array and the function returns one of these choices randomly. e.g. an input of all the harry potter book titles would randomly return one book from this population. The probability p of elements in the 1 d array can be specified (probabilities total to 1). If p is not provided then p is assumed to be uniformly distruibuted across the array. Size refers to the number of random elements from the population that are returned. There is also the option to replace which defaults to true. This refers to whether or not the random choice element is returned to the sample population and is used when unique values from the population are needed [ref](https://stackoverflow.com/questions/40689152/what-does-replacement-mean-in-numpy-random-choice). \n",
    "\n",
    "\n",
    "#### When would you use choice?\n",
    "choice is used when you want to generate a random choice from a fixed sample, you can specify if you want the choise to be returned to the selection pool or not. For example pick one Harry Potter book from a pool of all Harry potter books.\n"
   ]
  },
  {
   "cell_type": "code",
   "execution_count": 12,
   "metadata": {
    "scrolled": true
   },
   "outputs": [
    {
     "name": "stdout",
     "output_type": "stream",
     "text": [
      "List all Harry Potter books \n",
      "\n",
      "Harry Potter and the Philosopher’s Stone\n",
      "Harry Potter and the Chamber of Secrets\n",
      "Harry Potter and the Prisoner of Azkaban\n",
      "Harry Potter and the Goblet of Fire\n",
      "Harry Potter and the Order of the Phoenix\n",
      "Harry Potter and the Half-Blood Prince\n",
      "Harry Potter and the Deathly Hallows\n",
      "\n",
      "\n",
      "pick one at random \n",
      "\n",
      "['Harry Potter and the Prisoner of Azkaban'] \n",
      "\n",
      "pick 5 books at random and remove it from the pool when picked  - only unique books will be returned for each choice \n",
      "\n",
      "['Harry Potter and the Philosopher’s Stone'\n",
      " 'Harry Potter and the Order of the Phoenix'\n",
      " 'Harry Potter and the Prisoner of Azkaban'\n",
      " 'Harry Potter and the Chamber of Secrets'\n",
      " 'Harry Potter and the Half-Blood Prince'] \n",
      "\n",
      "pick 5 books at random and keep it in the pool when picked  - choices may be repeated \n",
      "\n",
      "['Harry Potter and the Half-Blood Prince'\n",
      " 'Harry Potter and the Deathly Hallows'\n",
      " 'Harry Potter and the Half-Blood Prince'\n",
      " 'Harry Potter and the Chamber of Secrets'\n",
      " 'Harry Potter and the Deathly Hallows'] \n",
      "\n",
      "Choices can be weighted to make them more or less likely \n",
      "\n",
      "Here, Chamber of secrets more likely to be selected \n",
      "\n",
      "['Harry Potter and the Chamber of Secrets'\n",
      " 'Harry Potter and the Philosopher’s Stone'\n",
      " 'Harry Potter and the Chamber of Secrets'\n",
      " 'Harry Potter and the Chamber of Secrets'\n",
      " 'Harry Potter and the Philosopher’s Stone'] \n",
      "\n"
     ]
    }
   ],
   "source": [
    "print(\"List all Harry Potter books\", \"\\n\")\n",
    "hp = ['Harry Potter and the Philosopher’s Stone', 'Harry Potter and the Chamber of Secrets', 'Harry Potter and the Prisoner of Azkaban', 'Harry Potter and the Goblet of Fire', 'Harry Potter and the Order of the Phoenix', 'Harry Potter and the Half-Blood Prince', 'Harry Potter and the Deathly Hallows']\n",
    "for book in hp:\n",
    "    print(book)\n",
    "print(\"\\n\")\n",
    "print(\"pick one at random\", \"\\n\")\n",
    "print(np.random.choice(hp, 1), '\\n')#  books can be repeatedly returned\n",
    "\n",
    "print(\"pick 5 books at random and remove it from the pool when picked  - only unique books will be returned for each choice\", \"\\n\")\n",
    "print(np.random.choice(hp, 5, replace=False), '\\n')\n",
    "# only unique books are returned\n",
    "print(\"pick 5 books at random and keep it in the pool when picked  - choices may be repeated\", \"\\n\")\n",
    "print(np.random.choice(hp, 5, replace=True), '\\n')\n",
    "print(\"Choices can be weighted to make them more or less likely\", \"\\n\")\n",
    "print(\"Here, Chamber of secrets more likely to be selected\", \"\\n\")\n",
    "print(np.random.choice(hp, 5, p=[0.2,0.5,0.1,0.1,0.015,0.03,0.055], replace=True), '\\n')\n"
   ]
  },
  {
   "cell_type": "markdown",
   "metadata": {},
   "source": [
    "### bytes\n",
    "\n",
    "bytes(length)outputs random bytes of the specified length size [Ref](https://docs.scipy.org/doc/numpy-1.15.1/reference/routines.random.html). \n",
    "\n",
    "bytes takes non negative integer inputs and outputs randomly byte strings. outputs are prefixed with b and the bytes are enclosed within apostrophies or quotation marks, hence outputs are strings of specified length [Ref](https://docs.scipy.org/doc/numpy-1.15.1/reference/generated/numpy.random.bytes.html#numpy.random.bytes). The b at the start indicates that it is a byte literal [why the b at the front](https://stackoverflow.com/questions/6269765/what-does-the-b-character-do-in-front-of-a-string-literal)\n",
    "\n",
    "#### When would you use bytes\n",
    "bytes would be used when you want to generate random byte strings"
   ]
  },
  {
   "cell_type": "code",
   "execution_count": 13,
   "metadata": {
    "scrolled": true
   },
   "outputs": [
    {
     "name": "stdout",
     "output_type": "stream",
     "text": [
      "b'' \n",
      "\n",
      "b'\\x1d' \n",
      "\n",
      "b' \\x9e\\x9a\\xd8\\xb4\\xa8h,\\x9bV' \n",
      "\n"
     ]
    }
   ],
   "source": [
    "print(np.random.bytes(0),'\\n')\n",
    "print(np.random.bytes(1),'\\n')\n",
    "print(np.random.bytes(10),'\\n')"
   ]
  },
  {
   "cell_type": "markdown",
   "metadata": {},
   "source": [
    "Hence *Simple Random Data* contains functions for generating random elements consisting of integers, arrays, sizes and shapes from continous or discrete uniform populations or normally distributed populations that may or may not be probabilistically weighted towards some values depending on what is required. It also contains functions to randomly pick elements from a given population array such as a list or set of bytes. The next section of numpy.random to be discussed is its permutation functions. "
   ]
  },
  {
   "cell_type": "markdown",
   "metadata": {},
   "source": [
    "## What does permutations do?\n",
    "![permutation](img/perm.png)\n",
    "\n",
    "A permutation is a way of cycling through all options in a given set. For example chosing unique pairs of 3 numbers (1,2 and 3)would give 3<sup>2</sup> combinations namely (1,1)(1,2)(1,3)(2,1)(2,2)(2,3)(3,1) (3,2) (3,3). Numpy.random has two permutation functions namely [Ref](https://docs.scipy.org/doc/numpy-1.15.1/reference/routines.random.html), \n",
    "- shuffle\n",
    "- permutation\n",
    "\n",
    "The functions in this section are ways of randomly selecting elements from a finite set.\n",
    "\n",
    "### shuffle\n",
    "shuffle(x) takes an array or array like input and randomly reorders elements in the array. E.g. randomly shuffling the order of harry potter books\n",
    "\n",
    "#### When would you use shuffle?\n",
    "shuffle is used when you have an array i.e. a finite list of elements and you want to randomly shuffle them. The same list is returned but the order items are presented in has changed. "
   ]
  },
  {
   "cell_type": "code",
   "execution_count": 14,
   "metadata": {
    "scrolled": true
   },
   "outputs": [
    {
     "name": "stdout",
     "output_type": "stream",
     "text": [
      "Harry Potter books listed in order of publication date \n",
      "\n",
      "Harry Potter and the Philosopher’s Stone\n",
      "Harry Potter and the Chamber of Secrets\n",
      "Harry Potter and the Prisoner of Azkaban\n",
      "Harry Potter and the Goblet of Fire\n",
      "Harry Potter and the Order of the Phoenix\n",
      "Harry Potter and the Half-Blood Prince\n",
      "Harry Potter and the Deathly Hallows\n",
      "\n",
      "\n",
      "Harry Potter books listed in shuffled order \n",
      "\n"
     ]
    },
    {
     "data": {
      "text/plain": [
       "['Harry Potter and the Order of the Phoenix',\n",
       " 'Harry Potter and the Philosopher’s Stone',\n",
       " 'Harry Potter and the Chamber of Secrets',\n",
       " 'Harry Potter and the Deathly Hallows',\n",
       " 'Harry Potter and the Prisoner of Azkaban',\n",
       " 'Harry Potter and the Half-Blood Prince',\n",
       " 'Harry Potter and the Goblet of Fire']"
      ]
     },
     "execution_count": 14,
     "metadata": {},
     "output_type": "execute_result"
    }
   ],
   "source": [
    "hp = ['Harry Potter and the Philosopher’s Stone', 'Harry Potter and the Chamber of Secrets', 'Harry Potter and the Prisoner of Azkaban', 'Harry Potter and the Goblet of Fire', 'Harry Potter and the Order of the Phoenix', 'Harry Potter and the Half-Blood Prince', 'Harry Potter and the Deathly Hallows']\n",
    "print(\"Harry Potter books listed in order of publication date\", \"\\n\")\n",
    "for book in hp:\n",
    "    print(book)\n",
    "print(\"\\n\")    \n",
    "# shuffle the books\n",
    "print(\"Harry Potter books listed in shuffled order\", \"\\n\")\n",
    "np.random.shuffle(hp)\n",
    "\n",
    "hp\n"
   ]
  },
  {
   "cell_type": "markdown",
   "metadata": {},
   "source": [
    "You can shuffle a deck of cards and deal 5 [ref](https://www.programiz.com/python-programming/examples/shuffle-card)"
   ]
  },
  {
   "cell_type": "code",
   "execution_count": 15,
   "metadata": {
    "scrolled": true
   },
   "outputs": [
    {
     "name": "stdout",
     "output_type": "stream",
     "text": [
      "Your cards are \n",
      "\n",
      "2 of Club\n",
      "5 of Club\n",
      "1 of Diamond\n",
      "1 of Heart\n",
      "6 of Club\n"
     ]
    }
   ],
   "source": [
    "# Python program to shuffle a deck of card using the module random and draw 5 cards\n",
    "# code adapted from https://www.programiz.com/python-programming/examples/shuffle-card\n",
    "\n",
    "# import modules\n",
    "import itertools\n",
    "\n",
    "# make a deck of cards\n",
    "deck = list(itertools.product(range(1,14),['Spade','Heart','Diamond','Club']))\n",
    "\n",
    "# shuffle the cards\n",
    "np.random.shuffle(deck)\n",
    "\n",
    "# draw five cards\n",
    "print(\"Your cards are\", \"\\n\")\n",
    "for i in range(5):\n",
    "   print(deck[i][0], \"of\", deck[i][1])"
   ]
  },
  {
   "cell_type": "markdown",
   "metadata": {},
   "source": [
    "### Permutation\n",
    "\n",
    "permutation(x) has an array as an input and randomly permutates/shuffles outputs. \n",
    "\n",
    "Randomly permute a sequence, or return a permuted range [Ref](https://docs.scipy.org/doc/numpy-1.15.1/reference/routines.random.html). Unlike shuffle which reorders the original array, permutation takes a copy of the original array and shuffles the copy. The original array remains intact. In addition permutation can take integer inputs and will output a range e.g an input of 5 will output a random range populated with unique elements from 0 to 4 inclusive. [Ref](https://stackoverflow.com/questions/15474159/shuffle-vs-permute-numpy)\n",
    "\n",
    "#### When would you use permutation?\n",
    "permutation is used when you want to shuffle your array but you also want to keep a record of your unshuffled array.\n"
   ]
  },
  {
   "cell_type": "code",
   "execution_count": 16,
   "metadata": {
    "scrolled": true
   },
   "outputs": [
    {
     "name": "stdout",
     "output_type": "stream",
     "text": [
      "Harry Potter books listed in order of publication date \n",
      "\n",
      "Harry Potter and the Philosopher’s Stone\n",
      "Harry Potter and the Chamber of Secrets\n",
      "Harry Potter and the Prisoner of Azkaban\n",
      "Harry Potter and the Goblet of Fire\n",
      "Harry Potter and the Order of the Phoenix\n",
      "Harry Potter and the Half-Blood Prince\n",
      "Harry Potter and the Deathly Hallows\n",
      "\n",
      "\n",
      "books are shuffled using the permutation function \n",
      "\n",
      "['Harry Potter and the Goblet of Fire'\n",
      " 'Harry Potter and the Order of the Phoenix'\n",
      " 'Harry Potter and the Prisoner of Azkaban'\n",
      " 'Harry Potter and the Half-Blood Prince'\n",
      " 'Harry Potter and the Chamber of Secrets'\n",
      " 'Harry Potter and the Deathly Hallows'\n",
      " 'Harry Potter and the Philosopher’s Stone'] \n",
      "\n",
      "the original book order is preserved \n",
      "\n",
      "Harry Potter and the Philosopher’s Stone\n",
      "Harry Potter and the Chamber of Secrets\n",
      "Harry Potter and the Prisoner of Azkaban\n",
      "Harry Potter and the Goblet of Fire\n",
      "Harry Potter and the Order of the Phoenix\n",
      "Harry Potter and the Half-Blood Prince\n",
      "Harry Potter and the Deathly Hallows\n",
      "\n",
      "\n",
      "unlike shuffling with the shuffle function \n",
      "\n",
      "Harry Potter and the Chamber of Secrets\n",
      "Harry Potter and the Order of the Phoenix\n",
      "Harry Potter and the Prisoner of Azkaban\n",
      "Harry Potter and the Philosopher’s Stone\n",
      "Harry Potter and the Goblet of Fire\n",
      "Harry Potter and the Deathly Hallows\n",
      "Harry Potter and the Half-Blood Prince\n"
     ]
    }
   ],
   "source": [
    "print(\"Harry Potter books listed in order of publication date\", '\\n')\n",
    "\n",
    "hp = ['Harry Potter and the Philosopher’s Stone', 'Harry Potter and the Chamber of Secrets', 'Harry Potter and the Prisoner of Azkaban', 'Harry Potter and the Goblet of Fire', 'Harry Potter and the Order of the Phoenix', 'Harry Potter and the Half-Blood Prince', 'Harry Potter and the Deathly Hallows']\n",
    "for book in hp:\n",
    "    print(book)\n",
    "print('\\n')\n",
    "print(\"books are shuffled using the permutation function\",\"\\n\")\n",
    "print(np.random.permutation(hp), \"\\n\")\n",
    "print(\"the original book order is preserved\", \"\\n\")\n",
    "for book in hp:\n",
    "    print(book)\n",
    "print(\"\\n\")  \n",
    "print(\"unlike shuffling with the shuffle function\", \"\\n\")\n",
    "np.random.shuffle(hp)\n",
    "for book in hp:\n",
    "    print(book)\n",
    "#print('\\n')\n",
    "## input is an integer output is a range\n",
    "#print(np.random.permutation(5), '\\n')"
   ]
  },
  {
   "cell_type": "code",
   "execution_count": null,
   "metadata": {
    "scrolled": true
   },
   "outputs": [],
   "source": []
  },
  {
   "cell_type": "code",
   "execution_count": null,
   "metadata": {
    "scrolled": true
   },
   "outputs": [],
   "source": []
  },
  {
   "cell_type": "code",
   "execution_count": null,
   "metadata": {
    "scrolled": true
   },
   "outputs": [],
   "source": []
  },
  {
   "cell_type": "markdown",
   "metadata": {},
   "source": [
    "## What are distributions and why do we need them.\n"
   ]
  },
  {
   "cell_type": "markdown",
   "metadata": {},
   "source": [
    "A probability distribution is a table or an equation that links each outcome of a statistical experiment or event with its probability of occurring. Consider tossing a coin. It has two possible outcomes, heads or tails. Here the event is the coin toss and the outcome is the result, heads or tails. Similarly, throwing a die has 6 outcomes, 1, 2, 3, 4, 5 or 6 being the face up side. Outcomes of a statistical test often show a pattern based on the probibility of an event occuring. Eg. rolling a fair 6 faced die will produce each of the numbers 1 to 6 roughly 1/6 of the time. Similarly, tossing a non biased coin enough times will show a probability of 1/2 for both heads and tails. In each of these senarios performing the test of throwing the dice or tossing a coin, will better match its underlying probability as the number of trials or trys increases.\n",
    "\n",
    "![dice](img/die.jpg)\n",
    "\n",
    "When a random sample is generated (the event) it produces a specific outcome from a list of all possible outcomes. For example tossing a coin could produce an outcome of heads or tails. Performing this test will produce only one of these outcomes, its either heads or its tails. When the list of possible outcomes (heads or tails) are plotted against its probablity of occuring (1/2 for both Heads and Tails)you get a probability distribution. \n",
    "\n",
    "Consider the die throw; Rolling a die 10  times may give a pattern of 1,3,5,1,4,4. In this sample set, the outcome, the probability of getting a 4, is 2/10 (1/5 - two 4's from 10 throws). This is greater than the underlying probabiligy of 1/6 but the law of large numbers states [ref](https://stattrek.com/statistics/dictionary.aspx?definition=law_of_large_numbers) that the more times an event is tested, i.e. the larger the sample size is, the closer it will be to its underlying probability of that event occuring. Rolling  the die 10 times and getting two four's may have a probability not equal to 1/6 but if the dice is rolled a very large number of  times, the small deviations from 1/6 will be smoothed out and the underlying probibiliy will be constant at probability p of 1/6. This is the idea behind probibility distributions; They are equations that plot the underlying model when sample size reaches the same size as its total population.\n",
    "\n",
    "The code below simulates 10, 100, 1000 and `1000000` random rolls of a dice and calculates the probibility of each outcome.  As the sample size increases, the sample probibility tends towards the actual probility of the distribution. \n"
   ]
  },
  {
   "cell_type": "code",
   "execution_count": 17,
   "metadata": {
    "scrolled": true
   },
   "outputs": [
    {
     "name": "stdout",
     "output_type": "stream",
     "text": [
      "Sample Size is 10\n",
      "[0 0 2 4 1 0 3]\n",
      "sample prob of getting 1 0.0\n",
      "sample prob of getting 2 0.2\n",
      "sample prob of getting 3 0.4\n",
      "sample prob of getting 4 0.1\n",
      "sample prob of getting 5 0.0\n",
      "sample prob of getting 6 0.3\n",
      "actual probability 0.167 \n",
      "\n",
      "Sample Size is 100\n",
      "[ 0 22 16 15 22 10 15]\n",
      "sample prob of getting 1 0.22\n",
      "sample prob of getting 2 0.16\n",
      "sample prob of getting 3 0.15\n",
      "sample prob of getting 4 0.22\n",
      "sample prob of getting 5 0.1\n",
      "sample prob of getting 6 0.15\n",
      "actual probability 0.167 \n",
      "\n",
      "Sample Size is 1000\n",
      "[  0 151 156 189 166 171 167]\n",
      "sample prob of getting 1 0.151\n",
      "sample prob of getting 2 0.156\n",
      "sample prob of getting 3 0.189\n",
      "sample prob of getting 4 0.166\n",
      "sample prob of getting 5 0.171\n",
      "sample prob of getting 6 0.167\n",
      "actual probability 0.167 \n",
      "\n",
      "Sample Size is 1000000\n",
      "[     0 166165 167164 166861 166170 166379 167261]\n",
      "sample prob of getting 1 0.166165\n",
      "sample prob of getting 2 0.167164\n",
      "sample prob of getting 3 0.166861\n",
      "sample prob of getting 4 0.16617\n",
      "sample prob of getting 5 0.166379\n",
      "sample prob of getting 6 0.167261\n",
      "actual probability 0.167 \n",
      "\n"
     ]
    }
   ],
   "source": [
    "print(\"Sample Size is 10\")\n",
    "size=10\n",
    "outcome = np.bincount(np.random.randint(1,7,size))\n",
    "print(outcome)\n",
    "p1=outcome[1]/size\n",
    "print(\"sample prob of getting 1\",p1)\n",
    "p2=outcome[2]/size\n",
    "print(\"sample prob of getting 2\",p2)\n",
    "p3=outcome[3]/size\n",
    "print(\"sample prob of getting 3\",p3)\n",
    "p4=outcome[4]/size\n",
    "print(\"sample prob of getting 4\",p4)\n",
    "p5=outcome[5]/size\n",
    "print(\"sample prob of getting 5\",p5)\n",
    "p6=outcome[6]/size\n",
    "print(\"sample prob of getting 6\",p6)\n",
    "p = 1/6\n",
    "print(\"actual probability\",f\"{p:.3}\", \"\\n\")\n",
    "\n",
    "print(\"Sample Size is 100\")\n",
    "size=100\n",
    "outcome = np.bincount(np.random.randint(1,7,size))\n",
    "print(outcome)\n",
    "p1=outcome[1]/size\n",
    "print(\"sample prob of getting 1\",p1)\n",
    "p2=outcome[2]/size\n",
    "print(\"sample prob of getting 2\",p2)\n",
    "p3=outcome[3]/size\n",
    "print(\"sample prob of getting 3\",p3)\n",
    "p4=outcome[4]/size\n",
    "print(\"sample prob of getting 4\",p4)\n",
    "p5=outcome[5]/size\n",
    "print(\"sample prob of getting 5\",p5)\n",
    "p6=outcome[6]/size\n",
    "print(\"sample prob of getting 6\",p6)\n",
    "p = 1/6\n",
    "print(\"actual probability\",f\"{p:.3}\", \"\\n\")\n",
    "print(\"Sample Size is 1000\")\n",
    "size=1000\n",
    "outcome = np.bincount(np.random.randint(1,7,size))\n",
    "print(outcome)\n",
    "p1=outcome[1]/size\n",
    "print(\"sample prob of getting 1\",p1)\n",
    "p2=outcome[2]/size\n",
    "print(\"sample prob of getting 2\",p2)\n",
    "p3=outcome[3]/size\n",
    "print(\"sample prob of getting 3\",p3)\n",
    "p4=outcome[4]/size\n",
    "print(\"sample prob of getting 4\",p4)\n",
    "p5=outcome[5]/size\n",
    "print(\"sample prob of getting 5\",p5)\n",
    "p6=outcome[6]/size\n",
    "print(\"sample prob of getting 6\",p6)\n",
    "p = 1/6\n",
    "print(\"actual probability\",f\"{p:.3}\", \"\\n\")\n",
    "print(\"Sample Size is 1000000\")\n",
    "size=1000000\n",
    "outcome = np.bincount(np.random.randint(1,7,size))\n",
    "print(outcome)\n",
    "p1=outcome[1]/size\n",
    "print(\"sample prob of getting 1\",p1)\n",
    "p2=outcome[2]/size\n",
    "print(\"sample prob of getting 2\",p2)\n",
    "p3=outcome[3]/size\n",
    "print(\"sample prob of getting 3\",p3)\n",
    "p4=outcome[4]/size\n",
    "print(\"sample prob of getting 4\",p4)\n",
    "p5=outcome[5]/size\n",
    "print(\"sample prob of getting 5\",p5)\n",
    "p6=outcome[6]/size\n",
    "print(\"sample prob of getting 6\",p6)\n",
    "p = 1/6\n",
    "print(\"actual probability\",f\"{p:.3}\", \"\\n\")\n"
   ]
  },
  {
   "cell_type": "markdown",
   "metadata": {},
   "source": [
    "![descrite uniform distribution](img/dudist.png)\n",
    "\n",
    "\n",
    "### Uniform Distribution\n",
    "#### Discrete\n",
    "Often there is an underlying pattern based on this probability. For example in die throw above, each outcome of getting 1, 2, 3, 4, 5 or 6  has the underlying probabiligy of 1 divided by the number of possible outcomes i.e. 6 hence p =1/6 is the same for all the outcomes. Similarly if we were to toss a coin, there would be 2 outcomes, heads or tails but the underlying distribution would be the same as in the die throw, i.e. 1 divided by the possible outcomes, in this case 2 not 6 but its still the same for heads and tails with p = 1 divided by the number of outcomes, albeit the number of outcomes differs, 2 for the coin toss and 6 for the die throw. This type of distribution is called a **uniform distribution**. In particular it is a descrete uniform distribution. i.e outcomes are stepped, they are either 1 or 2 or 3 etc and not midway between 2 and 3. This distrubtion has a known finite set of possible outcomes; For the die throw it's the integers from 1 to 6 and for the coin toss its heads or tails. In each case the probibility is constant. \n",
    "\n"
   ]
  },
  {
   "cell_type": "code",
   "execution_count": 18,
   "metadata": {
    "scrolled": true
   },
   "outputs": [
    {
     "name": "stdout",
     "output_type": "stream",
     "text": [
      "Roll the dice \n",
      "\n",
      "3\n"
     ]
    },
    {
     "data": {
      "image/png": "[encoded data removed]",
      "text/plain": [
       "<matplotlib.figure.Figure at 0x1564f374fd0>"
      ]
     },
     "metadata": {
      "needs_background": "light"
     },
     "output_type": "display_data"
    }
   ],
   "source": [
    "print(\"Roll the dice\", \"\\n\")\n",
    "x=np.random.randint(1,7)\n",
    "print(x)\n",
    "plt.title(\"rolls\")\n",
    "plt.xlabel(\"face number\")\n",
    "plt.ylabel(\"count\")\n",
    "plt.hist(x)\n",
    "plt.show()"
   ]
  },
  {
   "cell_type": "markdown",
   "metadata": {},
   "source": [
    "Say you do this a million times and plot your results"
   ]
  },
  {
   "cell_type": "code",
   "execution_count": 19,
   "metadata": {
    "scrolled": true
   },
   "outputs": [
    {
     "data": {
      "image/png": "[encoded data removed]",
      "text/plain": [
       "<matplotlib.figure.Figure at 0x1564f346d68>"
      ]
     },
     "metadata": {
      "needs_background": "light"
     },
     "output_type": "display_data"
    }
   ],
   "source": [
    "plt.title(\"1 million rolls\")\n",
    "plt.xlabel(\"face number\")\n",
    "plt.ylabel(\"count\")\n",
    "plt.hist(np.random.randint(1,7,1000000))\n",
    "plt.show()\n"
   ]
  },
  {
   "cell_type": "markdown",
   "metadata": {},
   "source": [
    "The results of the roll all seem to be equally likely, 1 million rolls with 6 possible outcomes is "
   ]
  },
  {
   "cell_type": "code",
   "execution_count": 20,
   "metadata": {
    "scrolled": true
   },
   "outputs": [
    {
     "name": "stdout",
     "output_type": "stream",
     "text": [
      "166666.67\n"
     ]
    }
   ],
   "source": [
    "print(f\"{1000000/6:.8}\")\n"
   ]
  },
  {
   "cell_type": "markdown",
   "metadata": {},
   "source": [
    "What if you extend the number of throws to its limit so that the 'sample' extends to the total population. Then you would get a probability distribution, in particular you would get a Uniform distribution over the interval 1 to 6. Values between 1 and 6 would each have the same probability (1/6th) of being face up when rolled. "
   ]
  },
  {
   "cell_type": "code",
   "execution_count": 21,
   "metadata": {
    "scrolled": true
   },
   "outputs": [
    {
     "data": {
      "image/png": "[encoded data removed]",
      "text/plain": [
       "<matplotlib.figure.Figure at 0x1564f4b08d0>"
      ]
     },
     "metadata": {
      "needs_background": "light"
     },
     "output_type": "display_data"
    }
   ],
   "source": [
    "p=100/6\n",
    "plt.subplot(121)\n",
    "plt.xlabel(\"Sample roll\")\n",
    "plt.ylabel('Count')\n",
    "plt.title(\"Sample\")\n",
    "plt.axis([0, 7, 0, 25]) # x_start, x_end, y_start, y_end\n",
    "sample = np.random.randint(1,7,100) # You are generating 100 points between 1 and 6.\n",
    "plt.axhline(y=p, color='r')\n",
    "plt.hist(sample)\n",
    "\n",
    "plt.subplot(122)\n",
    "plt.title(\"Distribution function\")\n",
    "plt.ylabel('Count')\n",
    "plt.xlabel('X~U[0,1]')\n",
    "plt.axhline(y=p, color='r')\n",
    "updf = np.random.uniform(1,6,100)\n",
    "count, bins, ignored = plt.hist(updf, 6, facecolor='green') \n",
    "plt.subplots_adjust(bottom=1.0, right=2.0, top=2.0)\n"
   ]
  },
  {
   "cell_type": "markdown",
   "metadata": {},
   "source": [
    "Probability distributions have different 'shapes'.  "
   ]
  },
  {
   "cell_type": "markdown",
   "metadata": {},
   "source": [
    "#### Continous\n",
    "\n",
    "But what if values could be anywere along a range? For example you arrive at a bus stop to catch a very regular bus that comes exactly once an hour. However you have no idea what time it is or when the bus last left the stop. The time spent waiting would be a uniform distribution from 0 to 1 hour, with the bus equally likely to arrive at anytime within that interval. Time, temperture and measures like height do not take a fixed set of values, rather they vary on a continuum. Thus the distribution these measures form are continous along range.\n",
    "\n",
    "Say we wanted to model the bus senario. Numpy.random has a function to allow us to do this."
   ]
  },
  {
   "cell_type": "code",
   "execution_count": 22,
   "metadata": {
    "scrolled": true
   },
   "outputs": [
    {
     "name": "stdout",
     "output_type": "stream",
     "text": [
      "How long will I wait for the bus?\n",
      "0.75  hours\n"
     ]
    }
   ],
   "source": [
    "print(\"How long will I wait for the bus?\")\n",
    "print(f\"{np.random.uniform():.2}\", \" hours\")\n",
    "   "
   ]
  },
  {
   "cell_type": "markdown",
   "metadata": {},
   "source": [
    "What if I measure the waiting times daily over a year and plot the results?\n"
   ]
  },
  {
   "cell_type": "code",
   "execution_count": 23,
   "metadata": {
    "scrolled": true
   },
   "outputs": [
    {
     "name": "stdout",
     "output_type": "stream",
     "text": [
      "[ 0.34790218  0.86487079  0.89479324  0.68036859  0.40512817  0.84666183\n",
      "  0.65950762  0.02989641  0.96431386  0.86358452  0.11326602  0.16605381\n",
      "  0.3456093   0.56907109  0.59443523  0.09110764  0.22403895  0.61720172\n",
      "  0.22301511  0.83131287  0.48215836  0.4090159   0.74715382  0.9826831\n",
      "  0.77395006  0.28852486  0.83376837  0.04652906  0.52754872  0.06258847\n",
      "  0.26450175  0.72516757  0.41262677  0.54513997  0.50462569  0.95234866\n",
      "  0.2984608   0.04002537  0.63228754  0.35393529  0.28484772  0.57832081\n",
      "  0.39032542  0.07466006  0.84686557  0.63798466  0.74171751  0.13141384\n",
      "  0.30446829  0.94665186  0.71734641  0.83182898  0.27735906  0.69988403\n",
      "  0.29190677  0.8090038   0.7037839   0.04380247  0.34914758  0.57727564\n",
      "  0.05906523  0.76191176  0.3437523   0.08357364  0.18132121  0.61858336\n",
      "  0.44160991  0.04327913  0.12034558  0.24969743  0.33264917  0.81017674\n",
      "  0.17996511  0.62928552  0.99115016  0.77078595  0.73709356  0.92594288\n",
      "  0.41215837  0.88211743  0.82737055  0.10630455  0.34759154  0.12942663\n",
      "  0.47318002  0.88027945  0.13799934  0.18886601  0.69767893  0.20058719\n",
      "  0.70541804  0.56434637  0.15961278  0.33622032  0.89985237  0.04857091\n",
      "  0.09134961  0.72661159  0.85595769  0.4019245   0.70364635  0.99726646\n",
      "  0.72444621  0.6729702   0.80684429  0.57910848  0.41026338  0.89729577\n",
      "  0.329549    0.12040973  0.29151756  0.8861525   0.71398688  0.3020477\n",
      "  0.5870695   0.80005001  0.78161467  0.04473485  0.39888831  0.71836883\n",
      "  0.51188571  0.5800187   0.00159246  0.19893875  0.43010539  0.51608479\n",
      "  0.04212083  0.06160491  0.54148934  0.63053153  0.18234767  0.63050739\n",
      "  0.23289306  0.9523411   0.0591948   0.59228241  0.39350775  0.14564669\n",
      "  0.86180974  0.91436423  0.33644293  0.10688106  0.09040064  0.58868168\n",
      "  0.18475838  0.83184766  0.29641491  0.22152094  0.37737965  0.12585966\n",
      "  0.1549748   0.42111578  0.01265784  0.5843721   0.36164396  0.05614699\n",
      "  0.46273331  0.12454331  0.06198602  0.71737239  0.76416836  0.43281842\n",
      "  0.08263867  0.22042074  0.43460064  0.62993034  0.20421375  0.89571694\n",
      "  0.52867287  0.88137479  0.9541886   0.38818373  0.21603528  0.03866139\n",
      "  0.4899175   0.03064524  0.62955775  0.5395263   0.163833    0.30991513\n",
      "  0.64957724  0.43280652  0.67545662  0.5126436   0.41615863  0.9667331\n",
      "  0.53556963  0.03499583  0.91886423  0.52419945  0.30547071  0.97174366\n",
      "  0.18010554  0.72624986  0.37510362  0.09622845  0.64376155  0.99467956\n",
      "  0.21186466  0.19967248  0.22540249  0.825236    0.37992992  0.93218232\n",
      "  0.68607084  0.18523476  0.17385439  0.37766837  0.28026472  0.47416945\n",
      "  0.80484863  0.0779761   0.96556717  0.98577942  0.23703249  0.00920828\n",
      "  0.89757792  0.92068049  0.49876387  0.31938125  0.49964257  0.54728148\n",
      "  0.84189953  0.35462166  0.51027667  0.42479333  0.85295389  0.3280313\n",
      "  0.79745849  0.60364314  0.07638758  0.84170932  0.68173263  0.94899732\n",
      "  0.3502186   0.42105351  0.15196149  0.48621067  0.13549512  0.28015449\n",
      "  0.8212943   0.22810976  0.18044239  0.01522367  0.70141664  0.79335101\n",
      "  0.78359644  0.55620826  0.30820739  0.68850831  0.38459851  0.30574322\n",
      "  0.09601044  0.27180856  0.36436988  0.60356592  0.0223783   0.32824251\n",
      "  0.24563846  0.47754699  0.41260003  0.67754765  0.66895854  0.43367305\n",
      "  0.14747727  0.56083464  0.13790376  0.93931129  0.64208715  0.01464741\n",
      "  0.22411364  0.15234041  0.92261761  0.15998427  0.30104842  0.72798312\n",
      "  0.89214379  0.17650895  0.810786    0.46387314  0.57412068  0.38332525\n",
      "  0.94530739  0.9887286   0.12390848  0.39403592  0.42940762  0.65831542\n",
      "  0.22079087  0.03096467  0.43730319  0.7590518   0.53131974  0.96787252\n",
      "  0.48072281  0.781445    0.23865191  0.86846326  0.41033184  0.57606774\n",
      "  0.0156024   0.60742847  0.90632175  0.03017222  0.61595406  0.25878986\n",
      "  0.83091062  0.36294376  0.31951078  0.92765755  0.15531222  0.50270897\n",
      "  0.98078241  0.32059848  0.79988725  0.77058368  0.80701782  0.59830609\n",
      "  0.59328664  0.67608153  0.02437252  0.65841699  0.78548674  0.68938949\n",
      "  0.09536626  0.31186784  0.94915703  0.31278225  0.06000677  0.69298101\n",
      "  0.14332365  0.27522103  0.37345688  0.61583867  0.06378227  0.2982724\n",
      "  0.90752119  0.44876108  0.78553046  0.05135108  0.41886957  0.54059765\n",
      "  0.99717159  0.61881396  0.20066392  0.23924025  0.38900296  0.97543227\n",
      "  0.43723667  0.14793635  0.43783609  0.02731376  0.42214861  0.02139419\n",
      "  0.82929358  0.57631819  0.17458105  0.35228147  0.21638331  0.82725176\n",
      "  0.85911652  0.76853957  0.75325843  0.84616312  0.62310233]\n"
     ]
    }
   ],
   "source": [
    "how_long = np.random.uniform(0,1,365)\n",
    "print(how_long)"
   ]
  },
  {
   "cell_type": "code",
   "execution_count": 24,
   "metadata": {},
   "outputs": [
    {
     "data": {
      "image/png": "[encoded data removed]",
      "text/plain": [
       "<matplotlib.figure.Figure at 0x1564f50f4e0>"
      ]
     },
     "metadata": {
      "needs_background": "light"
     },
     "output_type": "display_data"
    }
   ],
   "source": [
    "plt.hist(how_long)\n",
    "plt.title(\"Waiting Time over a year\")\n",
    "plt.xlabel(\"Time\")\n",
    "plt.ylabel(\"Days\")\n",
    "plt.show()"
   ]
  },
  {
   "cell_type": "markdown",
   "metadata": {},
   "source": [
    "numpy.random.uniform takes inputs of a range low to high. Size i.e. the number of results return can also be specified. The range interval includes the lower number but excludes the higher one. All numbers within the range are equally likely to be selected. The probability density funciton for this distribution is \n",
    "\n",
    "$$p(x) = \\frac{1}{b-a}$$ where a is the low value and b is the high value. \n",
    "\n",
    "It can be written as $X\\sim U(a,\\,b)$\n",
    "\n",
    "\n",
    "### Binomial\n",
    "\n",
    "Going back to the die example, what if we were only interested in getting one of the outcomes? Say the die was rolled 100 times but we were only counting number of times 4's popped up? \n",
    "\n",
    "\n",
    " \n"
   ]
  },
  {
   "cell_type": "code",
   "execution_count": 25,
   "metadata": {},
   "outputs": [
    {
     "name": "stdout",
     "output_type": "stream",
     "text": [
      "How many times was 4 faceup after 100 rolls -  10 times\n"
     ]
    },
    {
     "data": {
      "image/png": "[encoded data removed]",
      "text/plain": [
       "<matplotlib.figure.Figure at 0x1564f477dd8>"
      ]
     },
     "metadata": {
      "needs_background": "light"
     },
     "output_type": "display_data"
    }
   ],
   "source": [
    "print(\"How many times was 4 faceup after 100 rolls - \", np.random.binomial(100,1/6), \"times\")\n",
    "plt.title(\"roll 500 dice 100 times and count the number of times 4 showed \")\n",
    "plt.xlabel(\"no of times 4 showed\")\n",
    "plt.ylabel(\"no of dice rolled\")\n",
    "plt.hist(np.random.binomial(100,1/6, 500))\n",
    "plt.show()"
   ]
  },
  {
   "cell_type": "markdown",
   "metadata": {},
   "source": [
    "4 is just as likely to pop up as any of the other faces, but the distribution pattern is different than the uniform pattern discussed earlier. There is a tendency for 4's to crop up in 100 rolls close to the 100\\6 mark. The outcome of a die roll is fixed, it can only be numbers from 1 to 6 but we are only interested in 2 outcome namely is it a 4 or not. This type of distribution is called a **binomial** distribution. It is a descrite distribution with 2 required parameters, the number of trials n, i.e. the number of times the die is rolled and the probibility associated with the outcome p i.e getting a 4 (1/6).\n",
    "\n",
    "numpy.random.binomial takes inputs n i.e. number of trials and p i.e. probability of a sucessful event. The size can also be specified. it has the probability distribution function [ref](https://docs.scipy.org/doc/numpy/reference/generated/numpy.random.binomial.html#numpy.random.binomial)\n",
    "\n",
    "$$P(N) = \\binom{n}{N}p^N(1-p)^{n-N}$$\n",
    "\n",
    "### Geometric\n",
    "Now suppose we were just interested in the time till the first 4 was rolled? The binomial distribution address the question of \"how many successful events from n tries\" [](https://blog.cloudera.com/blog/2015/12/common-probability-distributions-the-data-scientists-crib-sheet/). The question now becomes \"how many failures till we get the first success\". In this case we dont know what n, the number of tries, will be. This pattern is called the **geometric** distribution. \n",
    "\n",
    "\n"
   ]
  },
  {
   "cell_type": "code",
   "execution_count": 26,
   "metadata": {},
   "outputs": [
    {
     "name": "stdout",
     "output_type": "stream",
     "text": [
      "How many rolls till '4' pops up? -  2 rolls\n"
     ]
    }
   ],
   "source": [
    "print(\"How many rolls till '4' pops up? - \", np.random.geometric(1/6), \"rolls\")\n"
   ]
  },
  {
   "cell_type": "markdown",
   "metadata": {},
   "source": [
    "This distribution has a different shape, it is asymmetrical with a long tail to the right. The geometric distrubtion has underlying assumptions\n",
    "1. The event is made up of independent trials i.e. events do not influence each other. \n",
    "2. There are only two outcomes, sucess or failure\n",
    "3. The probability of success is the same in each trial [](https://en.wikipedia.org/wiki/Geometric_distribution)\n"
   ]
  },
  {
   "cell_type": "code",
   "execution_count": 27,
   "metadata": {},
   "outputs": [
    {
     "data": {
      "image/png": "[encoded data removed]",
      "text/plain": [
       "<matplotlib.figure.Figure at 0x1564f488cc0>"
      ]
     },
     "metadata": {
      "needs_background": "light"
     },
     "output_type": "display_data"
    }
   ],
   "source": [
    "plt.title(\"How many rolls till 4 shows up \")\n",
    "plt.xlabel(\"number of rolls\")\n",
    "plt.ylabel(\"number of dice rolled\")\n",
    "plt.hist(np.random.geometric(1/6, 500))\n",
    "plt.show()"
   ]
  },
  {
   "cell_type": "markdown",
   "metadata": {},
   "source": [
    "### Negative Binomal \n",
    "\n",
    "Now suppose we are sill interested in the number of tries till a success of 4 is reached but rather than declaring a success when the first success is reached, we want to extend the number of success, say rolling ten 4's?  "
   ]
  },
  {
   "cell_type": "code",
   "execution_count": 28,
   "metadata": {},
   "outputs": [
    {
     "name": "stdout",
     "output_type": "stream",
     "text": [
      "How many rolls till 10 '4s' pops up? -  47 rolls\n"
     ]
    },
    {
     "data": {
      "image/png": "[encoded data removed]",
      "text/plain": [
       "<matplotlib.figure.Figure at 0x1564f319470>"
      ]
     },
     "metadata": {
      "needs_background": "light"
     },
     "output_type": "display_data"
    }
   ],
   "source": [
    "print(\"How many rolls till 10 '4s' pops up? - \", np.random.negative_binomial(10,1/6), \"rolls\")\n",
    "\n",
    "plt.title(\"How many rolls till 10 4's pop up \")\n",
    "plt.xlabel(\"number of rolls\")\n",
    "plt.ylabel(\"number of dice rolled\")\n",
    "plt.hist(np.random.negative_binomial(10,1/6, 500))\n",
    "plt.show()\n"
   ]
  },
  {
   "cell_type": "markdown",
   "metadata": {},
   "source": [
    "This type of distrubution is called the negative binomial distribution. \n",
    "\n",
    "numpy.random.negative_binomial has two required inputs, the number of success required n, and the probability of a success p. There is also a size option [ref](https://docs.scipy.org/doc/numpy/reference/generated/numpy.random.negative_binomial.html#numpy.random.negative_binomial). It's probability density function is\n",
    "\n",
    "$$P(N;n,p) = \\binom{N+n-1}{N}p^{n}(1-p)^{N}$$\n",
    "\n",
    "What if the probability p was very small and the number of tries was very large? Say we have a 1000 faced die that will be rolled a million times. What's the distribution of getting a 4 now? In this case the n x p tends towards a constant rate $\\lambda$. This is the *Poisson* distribution. It is frequently used when counting the number of times an event occurs over an interval of time or space. Eg. the number of customers arriving in a shop.  \n",
    "\n"
   ]
  },
  {
   "cell_type": "code",
   "execution_count": 29,
   "metadata": {},
   "outputs": [
    {
     "name": "stdout",
     "output_type": "stream",
     "text": [
      "How many customers arrive at a shop on a Sunday when the average Sunday rate is 100? -  116 customers\n"
     ]
    },
    {
     "data": {
      "image/png": "[encoded data removed]",
      "text/plain": [
       "<matplotlib.figure.Figure at 0x1564f25ff60>"
      ]
     },
     "metadata": {
      "needs_background": "light"
     },
     "output_type": "display_data"
    }
   ],
   "source": [
    "print(\"How many customers arrive at a shop on a Sunday when the average Sunday rate is 100? - \", np.random.poisson(100), \"customers\")\n",
    "\n",
    "plt.title(\"How many customers arrive on Sunday \")\n",
    "plt.xlabel(\"number of customers\")\n",
    "plt.ylabel(\"number of Sunday's\")\n",
    "plt.hist(np.random.poisson(100,500))\n",
    "plt.show()"
   ]
  },
  {
   "cell_type": "markdown",
   "metadata": {},
   "source": [
    "This can be thought of as the limit of a binomial distribution when the number of trials is large and the probability of a sucess is small ()[https://medium.com/@andrew.chamberlain/deriving-the-poisson-distribution-from-the-binomial-distribution-840cc1668239]. "
   ]
  },
  {
   "cell_type": "code",
   "execution_count": 49,
   "metadata": {},
   "outputs": [
    {
     "data": {
      "image/png": "[encoded data removed]",
      "text/plain": [
       "<matplotlib.figure.Figure at 0x1564f7ed160>"
      ]
     },
     "metadata": {
      "needs_background": "light"
     },
     "output_type": "display_data"
    }
   ],
   "source": [
    "plt.subplot(121)\n",
    "plt.title(\"Poisson How many customers arrive on Sunday \\n when average is 100 \")\n",
    "plt.xlabel(\"number of customers\")\n",
    "plt.ylabel(\"number of Sunday's\")\n",
    "plt.hist(np.random.poisson(100,500))\n",
    "\n",
    "plt.subplot(122)\n",
    "plt.title(\"Binomial How many customers arrive on Sunday when \\n 20000 potential shoppers have a probibility of shopping of 0.005 \")\n",
    "plt.xlabel(\"number of customers\")\n",
    "plt.ylabel(\"number of Sunday's\")\n",
    "plt.hist(np.random.binomial(20000, 0.005, 500))\n",
    "plt.subplots_adjust(bottom=1.0, right=2.0, top=2.0)\n"
   ]
  },
  {
   "cell_type": "code",
   "execution_count": null,
   "metadata": {},
   "outputs": [],
   "source": []
  },
  {
   "cell_type": "code",
   "execution_count": null,
   "metadata": {},
   "outputs": [],
   "source": []
  },
  {
   "cell_type": "code",
   "execution_count": null,
   "metadata": {},
   "outputs": [],
   "source": []
  },
  {
   "cell_type": "code",
   "execution_count": null,
   "metadata": {},
   "outputs": [],
   "source": []
  },
  {
   "cell_type": "code",
   "execution_count": null,
   "metadata": {},
   "outputs": [],
   "source": []
  },
  {
   "cell_type": "markdown",
   "metadata": {},
   "source": [
    "## What are seeds and how are they involved in generating pseudorandom numbers. "
   ]
  },
  {
   "cell_type": "markdown",
   "metadata": {},
   "source": [
    "##  The use of seeds in generating pseudorandom numbers\n",
    "\n",
    "## Random generator\n",
    "\n",
    "Random numbers are difficult to generate. Typically when true random numbers are requied some random natural process is used such as radioactive decay levels. Computational random number generation is not truely random. Algorithms can produce long sequences of random looking data but which in reality are completely deterministic once a key value or a seed is known [](https://en.wikipedia.org/wiki/Random_number_generation#%22True%22_vs._pseudo-random_numbers). \n",
    "\n",
    "Numpy.random contains four functions involved with the generation of random data from a specified range or given population, RandomState, Seen, get_state and set_state. As noted before 'random' in this sence means pseudo random. Numpy.random uses the pseudo random number generator (PSNG) algorithm named the 'Mersenne Twister'. This is a widely used computer algorithm that is suitable for most random number generaton needs. A PSNG requires a seed as a starting point in the random  sequence. Once a seed is defined, the random sequence it generates can be predicted [](Vo. T.H et al., 2017). If no seed is given then Numpy picks a 'random' one based on either the computers internal clock settings or on the computers own random number generator [](Vo. T.H et al., 2017). \n",
    "\n",
    "- RandomState\n",
    "- Seed\n",
    "- get_state\n",
    "- set_state\n",
    "\n",
    "Simple random data function and and random distrubution functions use the same universal random seed. If you want a different seed for one particular random pattern then you can specify the unique seed with the RandomState function. This creates a local random number gererator that differs from the global one used by the other functions [](McKinny, 2018). \n",
    "\n",
    "Numpy.random has a function seed that allows the user to specify the seed and therefore generate a predictible random pattern of data. This is required when testing statistical models that require the same 'random noise' so as not to affect the statistical parameters. \n",
    "\n",
    "get_state and set_state are ways of setting a specific random state (set_state) and recalling (get_state)for specific use [](https://stackoverflow.com/questions/48504854/python-random-getstate-and-random-setstate). \n",
    "\n",
    "Each of these four functions will be discussed below. \n",
    "\n",
    "\n",
    "### RandomState\n",
    "RandomState(`[seed]`) takes the seed value for the Mersenne Twister as input and outputs the container for the Mersenne Twister pseudo-random number generator [](https://docs.scipy.org/doc/numpy-1.15.1/reference/routines.random.html). There is always an underlying RandomState in numpy. All the functions in Numpy.random operate within an global instance of a default RandomState that is not explicitly set. RandomState function is used when the same set of random numbers is required. It allows random numbers from specific instance of the random state to be generated at a local level. \n",
    "\n",
    "This means that rather than changing global seed for the Mersenne Twister, a container or instance is created with that specific seed. It is used prior to calling other numpy.random functions. RandomState, like the seed function, allows for functions that call and create random data to return the same random data when called again. RandomState comes with a wide varity of methods to call various probability distrubtions and simple random data function. \n",
    "\n",
    "Generally RandomState is prefered over seed as if seed is used all instances of random numbers called within the session will be affected but in RandomState only the instance where it is used with the random method is affected. One thing that I'm not sure off is why RandomState shows different values when called agrepeatedly run but subesquent runs s \n",
    "\n",
    "----delete----\n",
    "\n",
    "Container for the Mersenne Twister pseudo-random number generator.\n",
    "\n",
    "RandomState exposes a number of methods for generating random numbers drawn from a variety of probability distributions. In addition to the distribution-specific arguments, each method takes a keyword argument size that defaults to None. If size is None, then a single value is generated and returned. If size is an integer, then a 1-D array filled with generated values is returned. If size is a tuple, then an array with that shape is filled and returned.\n",
    "\n",
    "Compatibility Guarantee A fixed seed and a fixed series of calls to ‘RandomState’ methods using the same parameters will always produce the same results up to roundoff error except when the values were incorrect. Incorrect values will be fixed and the NumPy version in which the fix was made will be noted in the relevant docstring. Extension of existing parameter ranges and the addition of new parameters is allowed as long the previous behavior remains unchanged.\n",
    "Parameters:\t\n",
    "\n",
    "seed : {None, int, array_like}, optional\n",
    "\n",
    "    Random seed used to initialize the pseudo-random number generator. Can be any integer between 0 and 2**32 - 1 inclusive, an array (or other sequence) of such integers, or None (the default). If seed is None, then RandomState will try to read data from /dev/urandom (or the Windows analogue) if available or seed from the clock otherwise.\n",
    "\n",
    "--- end delete ----\n",
    "\n",
    "--- useful links and things to check ---\n",
    "https://stackoverflow.com/questions/5836335/consistently-create-same-random-numpy-array\n",
    "\n",
    "https://stackoverflow.com/questions/32462273/how-to-use-random-randomstate\n",
    "\n",
    "How does randomstate differ from seed? seed uses the functions of numpy.random i.e. the simple random data, permutation and distribution functions mentioned above, whereas RandomSeed uses a wide varitey of methods that are similar to numpy.random's global functions but local to just the RandomState function. \n",
    "\n",
    "\n"
   ]
  },
  {
   "cell_type": "code",
   "execution_count": 31,
   "metadata": {
    "scrolled": true
   },
   "outputs": [
    {
     "data": {
      "text/plain": [
       "\"\\n# generate a random number with seed 5\\nseed = 5\\nnp.random.seed(seed)\\nprint(np.random.rand())\\n# output is always 0.22199317108973948\\n\\n#This uses the global rand function and the seed affects all random functions within numpy.random for example \\n\\nprint(np.random.randint(10)) # picks a random integer between [0, 10) - its always 6 with a seed of 5 a different simple random function than the one rand used above\\n# This will always be 6 when the seed is 5\\n\\n\\n#another way to achive the same result without affecting other the randomness of other numpy functions is to use RandomState\\n# set the state\\nrs = np.random.RandomState(seed)\\n# call the method\\nprint(rs.rand())\\n# This will be 0.8928601514360016 \\n# however the other global function will not be affected by the RandomState's seed value and will remain at the previously 5 seeded value of 6\\nprint(np.random.randint(10))\\n#reset random seed\\n\\n# when the above code is run but the seed value is changed\\n\\n# generate a random number with seed 5\\nseed = 50\\nnp.random.seed(seed)\\nprint(np.random.rand())\\n# output is always 0.22199317108973948\\n\\n#This uses the global rand function and the seed affects all random functions within numpy.random for example \\n\\nprint(np.random.randint(10)) # picks a random integer between [0, 10) - its always 6 with a seed of 5 a different simple random function than the one rand used above\\n# This will always be 6 when the seed is 5\\n\\n\\n#another way to achive the same result without affecting other the randomness of other numpy functions is to use RandomState\\n# set the state\\nrs = np.random.RandomState(seed)\\n# call the method\\nprint(rs.rand())\\n# This will be 0.8928601514360016 \\n# however the other global function will not be affected by the RandomState's seed value and will remain at the previously 5 seeded value of 6\\nprint(np.random.randint(10))\\n#reset random seed\\n\\n# this shows that the local call to RandomState's methods same (0.49460164553802144) but the global numpy.random functions have different seeds and hence differnt random values \\n\\n# This allows you to have many instances of randomly generated numbers with differnt seeds within the same instance of python running\\n\\n\\n## still not 100 pc sure whats going on with the numbers\\n\\n# https://stackoverflow.com/questions/32462273/how-to-use-random-randomstate\\n\""
      ]
     },
     "execution_count": 31,
     "metadata": {},
     "output_type": "execute_result"
    }
   ],
   "source": [
    "'''\n",
    "# generate a random number with seed 5\n",
    "seed = 5\n",
    "np.random.seed(seed)\n",
    "print(np.random.rand())\n",
    "# output is always 0.22199317108973948\n",
    "\n",
    "#This uses the global rand function and the seed affects all random functions within numpy.random for example \n",
    "\n",
    "print(np.random.randint(10)) # picks a random integer between [0, 10) - its always 6 with a seed of 5 a different simple random function than the one rand used above\n",
    "# This will always be 6 when the seed is 5\n",
    "\n",
    "\n",
    "#another way to achive the same result without affecting other the randomness of other numpy functions is to use RandomState\n",
    "# set the state\n",
    "rs = np.random.RandomState(seed)\n",
    "# call the method\n",
    "print(rs.rand())\n",
    "# This will be 0.8928601514360016 \n",
    "# however the other global function will not be affected by the RandomState's seed value and will remain at the previously 5 seeded value of 6\n",
    "print(np.random.randint(10))\n",
    "#reset random seed\n",
    "\n",
    "# when the above code is run but the seed value is changed\n",
    "\n",
    "# generate a random number with seed 5\n",
    "seed = 50\n",
    "np.random.seed(seed)\n",
    "print(np.random.rand())\n",
    "# output is always 0.22199317108973948\n",
    "\n",
    "#This uses the global rand function and the seed affects all random functions within numpy.random for example \n",
    "\n",
    "print(np.random.randint(10)) # picks a random integer between [0, 10) - its always 6 with a seed of 5 a different simple random function than the one rand used above\n",
    "# This will always be 6 when the seed is 5\n",
    "\n",
    "\n",
    "#another way to achive the same result without affecting other the randomness of other numpy functions is to use RandomState\n",
    "# set the state\n",
    "rs = np.random.RandomState(seed)\n",
    "# call the method\n",
    "print(rs.rand())\n",
    "# This will be 0.8928601514360016 \n",
    "# however the other global function will not be affected by the RandomState's seed value and will remain at the previously 5 seeded value of 6\n",
    "print(np.random.randint(10))\n",
    "#reset random seed\n",
    "\n",
    "# this shows that the local call to RandomState's methods same (0.49460164553802144) but the global numpy.random functions have different seeds and hence differnt random values \n",
    "\n",
    "# This allows you to have many instances of randomly generated numbers with differnt seeds within the same instance of python running\n",
    "\n",
    "\n",
    "## still not 100 pc sure whats going on with the numbers\n",
    "\n",
    "# https://stackoverflow.com/questions/32462273/how-to-use-random-randomstate\n",
    "'''"
   ]
  },
  {
   "cell_type": "code",
   "execution_count": 32,
   "metadata": {
    "scrolled": true
   },
   "outputs": [
    {
     "data": {
      "text/plain": [
       "\"\\n# Create the random state rn with seed 10 \\n# example adapted from https://www.machinelearningplus.com/python/numpy-tutorial-part1-array-python-examples/\\nprint(np.random.RandomState(None))\\n\\nprint(np.random.RandomState())\\n\\nprint(np.random.RandomState(100))\\n\\n\\n\\n\\nrn = np.random.RandomState(10)\\n\\n# Create 20 random numbers between [0,1) with the rand simple random data function\\nprint(rn.rand(20), '\\n')\\nprint(rn.rand(20), '\\n')\\nprint(rn.rand(20), '\\n')\\nprint(rn.rand(20), '\\n')\\nprint(rn.rand(20), '\\n')\\n\""
      ]
     },
     "execution_count": 32,
     "metadata": {},
     "output_type": "execute_result"
    }
   ],
   "source": [
    "'''\n",
    "# Create the random state rn with seed 10 \n",
    "# example adapted from https://www.machinelearningplus.com/python/numpy-tutorial-part1-array-python-examples/\n",
    "print(np.random.RandomState(None))\n",
    "\n",
    "print(np.random.RandomState())\n",
    "\n",
    "print(np.random.RandomState(100))\n",
    "\n",
    "\n",
    "\n",
    "\n",
    "rn = np.random.RandomState(10)\n",
    "\n",
    "# Create 20 random numbers between [0,1) with the rand simple random data function\n",
    "print(rn.rand(20), '\\n')\n",
    "print(rn.rand(20), '\\n')\n",
    "print(rn.rand(20), '\\n')\n",
    "print(rn.rand(20), '\\n')\n",
    "print(rn.rand(20), '\\n')\n",
    "'''\n"
   ]
  },
  {
   "cell_type": "markdown",
   "metadata": {},
   "source": [
    "In the above example, the random numbers generated were the same each time as the state was created locally before the simple random data function was called. If the RandomState is not set each time, numpy.random will default back to the global instance and use a random seed. "
   ]
  },
  {
   "cell_type": "code",
   "execution_count": 33,
   "metadata": {
    "scrolled": true
   },
   "outputs": [
    {
     "data": {
      "text/plain": [
       "\"\\n# Create the random state rn with seed 10 \\n# example adapted from https://www.machinelearningplus.com/python/numpy-tutorial-part1-array-python-examples/\\n\\nseed = 10\\nrn = np.random.RandomState() # this array has a RandomState created\\nprint(rn)\\n\\nrn.get_state\\n\\n\\n# Create 20 random numbers between [0,1) with the rand simple random data function\\n#print(rn.rand(20), '\\n') # This array has a random\\n# The numbers will be the same each time once rn's RandomState is created each time\\n#create the random state\\n#print(rn.rand(20), '\\n')\\n#create the random state\\n#print(rn.rand(5), '\\n')\\n\\n\""
      ]
     },
     "execution_count": 33,
     "metadata": {},
     "output_type": "execute_result"
    }
   ],
   "source": [
    "'''\n",
    "# Create the random state rn with seed 10 \n",
    "# example adapted from https://www.machinelearningplus.com/python/numpy-tutorial-part1-array-python-examples/\n",
    "\n",
    "seed = 10\n",
    "rn = np.random.RandomState() # this array has a RandomState created\n",
    "print(rn)\n",
    "\n",
    "rn.get_state\n",
    "\n",
    "\n",
    "# Create 20 random numbers between [0,1) with the rand simple random data function\n",
    "#print(rn.rand(20), '\\n') # This array has a random\n",
    "# The numbers will be the same each time once rn's RandomState is created each time\n",
    "#create the random state\n",
    "#print(rn.rand(20), '\\n')\n",
    "#create the random state\n",
    "#print(rn.rand(5), '\\n')\n",
    "\n",
    "'''"
   ]
  },
  {
   "cell_type": "markdown",
   "metadata": {},
   "source": [
    "### Seed\n",
    "\n",
    "seed([seed])takes the value selected to seed the Mersenne twister algorithm and its output is not called directly rather it uses the seed input to generate Mersenne twister.[](https://docs.scipy.org/doc/numpy/reference/routines.random.html). It does not return any value as output. If the seed value is not set with this function or the RandomState functon it defaults randomly generated seeds based on the computers internal clock time or internal random generator. Unlike RandomState which only affects the local instance of random method calls, the seed function acts on a global scale and affects all the Numpy.random functions. If the RandomState is not set, it is randomly allocated. Seed is used when the same set of random data is needed. This is used to test models particularly in machine learning. Its input is an integer or 1 dimentional array and if not specified, a random seed is used as mentioned above. [](https://docs.scipy.org/doc/numpy/reference/generated/numpy.random.seed.html#numpy.random.seed) \n",
    "\n",
    "\n",
    "----delete ----\n",
    " numpy.random.seed(seed=None)\n",
    "\n",
    "    Seed the generator.\n",
    "\n",
    "    This method is called when RandomState is initialized. It can be called again to re-seed the generator. For details, see RandomState.\n",
    "    Parameters:\t\n",
    "\n",
    "    seed : int or 1-d array_like, optional\n",
    "\n",
    "        Seed for RandomState. Must be convertible to 32 bit unsigned integers.\n",
    "        \n",
    " ----delete ----\n"
   ]
  },
  {
   "cell_type": "code",
   "execution_count": 34,
   "metadata": {
    "scrolled": true
   },
   "outputs": [
    {
     "data": {
      "text/plain": [
       "'\\n#changes everytime as seed is randomly set\\nnp.random.seed()\\nprint(np.random.rand(5))\\n\\n# remains the same as seed is set\\nnp.random.seed(1)\\n\\nprint(np.random.rand(5))\\nnp.random.seed(1)\\nprint(np.random.ranf(5))\\n'"
      ]
     },
     "execution_count": 34,
     "metadata": {},
     "output_type": "execute_result"
    }
   ],
   "source": [
    "'''\n",
    "#changes everytime as seed is randomly set\n",
    "np.random.seed()\n",
    "print(np.random.rand(5))\n",
    "\n",
    "# remains the same as seed is set\n",
    "np.random.seed(1)\n",
    "\n",
    "print(np.random.rand(5))\n",
    "np.random.seed(1)\n",
    "print(np.random.ranf(5))\n",
    "'''"
   ]
  },
  {
   "cell_type": "markdown",
   "metadata": {},
   "source": [
    "Rough work\n",
    "\n",
    "Container for the Mersenne Twister pseudo-random number generator.\n",
    "\n",
    "RandomState exposes a number of methods for generating random numbers drawn from a variety of probability distributions. In addition to the distribution-specific arguments, each method takes a keyword argument size that defaults to None. If size is None, then a single value is generated and returned. If size is an integer, then a 1-D array filled with generated values is returned. If size is a tuple, then an array with that shape is filled and returned.\n",
    "\n",
    "Compatibility Guarantee A fixed seed and a fixed series of calls to ‘RandomState’ methods using the same parameters will always produce the same results up to roundoff error except when the values were incorrect. Incorrect values will be fixed and the NumPy version in which the fix was made will be noted in the relevant docstring. Extension of existing parameter ranges and the addition of new parameters is allowed as long the previous behavior remains unchanged.\n",
    "Parameters:\t\n",
    "\n",
    "seed : {None, int, array_like}, optional\n",
    "\n",
    "    Random seed used to initialize the pseudo-random number generator. Can be any integer between 0 and 2**32 - 1 inclusive, an array (or other sequence) of such integers, or None (the default). If seed is None, then RandomState will try to read data from /dev/urandom (or the Windows analogue) if available or seed from the clock otherwise.\n",
    "\n",
    "Notes\n",
    "\n",
    "The Python stdlib module “random” also contains a Mersenne Twister pseudo-random number generator with a number of methods that are similar to the ones available in RandomState. RandomState, besides being NumPy-aware, has the advantage that it provides a much larger number of probability distributions to choose from. \n",
    "\n",
    "\n",
    "\n",
    "if RandomState is not used then any random numbers generate may differ the next time they are called as they are been seeded from a difference instance of RandomState\n",
    "\n",
    "If you use the functions in the numpy.random namespace, you will not get consistent pseudorandom numbers because they are pulling from a different RandomState instance than the one you just created.\n",
    "\n",
    "\n",
    "\n",
    "\n",
    "Random generator\n",
    "RandomState([seed]) \tContainer for the Mersenne Twister pseudo-random number generator.\n",
    "seed([seed]) \tSeed the generator.\n",
    "get_state() \tReturn a tuple representing the internal state of the generator.\n",
    "set_state(state) \tSet the internal state of the generator from a tuple."
   ]
  },
  {
   "cell_type": "markdown",
   "metadata": {},
   "source": [
    "### get_state\n",
    "\n",
    "get_state has no input and returns a tuple representing the internal state of the generator [](https://docs.scipy.org/doc/numpy/reference/routines.random.html). It outputs 5 items namely a string 'MT19937' which denotes the (M)ersenne (T)wister 19937 generator. This algorithm as 2<sup>199937</sup> - 1 states [](https://stackoverflow.com/questions/32172054/how-can-i-retrieve-the-current-seed-of-numpys-random-number-generator); The second output item is an array of 624 unsigned 32 bit integer keys. 2<642`*`32> > 2<sup>199937</sup> - 1 hence there is enough bits to represent all the internal states; The third output is a ....; The fourth and fifth output refers to generator states for the standard normal varibale [](https://stackoverflow.com/questions/44313620/converting-to-and-from-numpys-np-random-randomstate-and-pythons-random-random). The Box-Muller transformation is used by Numpy which creates pairs of these variables, one for immediate use and one stored for later use. [](https://en.wikipedia.org/wiki/Box%E2%80%93Muller_transform). I dont know want the 10 in the third output refers to, but I speculate its something to do with position. \n",
    "\n",
    "\n",
    "e last two entries there refer to the state of the generator for standard normal deviates: NumPy uses the Box–Muller transform, which generates these deviates in pairs. So the first call to the gaussian generator produces two values, returns the first, and then stores the second away for later use. The second call then retrieves that second value. Thus we have extra state here that it's necessary to store and retrieve.\n",
    "\n",
    "\n",
    "\n",
    "postive integer \n",
    "\n",
    "\n",
    ", a specific 624 element array\n",
    "get_state() \tReturn a tuple representing the internal state of the generator.\n",
    "\n",
    " numpy.random.get_state()¶\n",
    "\n",
    "    Return a tuple representing the internal state of the generator.\n",
    "\n",
    "    For more details, see set_state.\n",
    "    Returns:\t\n",
    "\n",
    "    out : tuple(str, ndarray of 624 uints, int, int, float)\n",
    "\n",
    "        The returned tuple has the following items:\n",
    "\n",
    "            the string ‘MT19937’.\n",
    "            a 1-D array of 624 unsigned integer keys.\n",
    "            an integer pos.\n",
    "            an integer has_gauss.\n",
    "            a float cached_gaussian.\n",
    "\n"
   ]
  },
  {
   "cell_type": "code",
   "execution_count": 35,
   "metadata": {
    "scrolled": false
   },
   "outputs": [
    {
     "name": "stdout",
     "output_type": "stream",
     "text": [
      "('MT19937', array([2279520802, 3404749130, 2731489681, 2937705653, 3766592705,\n",
      "        537658342,  204919673, 2413466795, 3546710982, 2212421205,\n",
      "       2737837908, 3676853136,   99528885, 3847939658, 4119023821,\n",
      "        771963443, 4236479108, 2518119256,  725270670, 1739291211,\n",
      "       2932716500, 3309278397, 3189521545, 3458661669, 1027110542,\n",
      "       4029857069, 3350876418, 1133533164, 2870552217,  723738969,\n",
      "       1607132675,  422573034, 4054685019, 3372253552, 2208274509,\n",
      "        291943440,  309714333, 4080316575, 2989707647,  577917486,\n",
      "       1050692087,  232162680, 2135634854, 3654591248, 3999034632,\n",
      "       4062244625, 2350472659, 2083966233,  824748292, 2681063722,\n",
      "       1704710790,  888078444,  789273336,  429373776, 2234261963,\n",
      "       2334396912, 2193105602, 3120300540, 1508481595, 2885271526,\n",
      "       3681984130, 2119507523,  810930784, 3031461805, 3968561360,\n",
      "        653293111, 2368261903,  209361299, 3464755787, 4141855342,\n",
      "       2196393793, 3955425500, 2409140575,  663709591,  998893176,\n",
      "       3503905949, 2149052278, 3951355973, 4064291434,  486162527,\n",
      "        166591870, 2801675358,  641191933, 3711565090,  300996859,\n",
      "        769404858, 3874584718, 2587955143,  891133500, 2521594984,\n",
      "       3947001294,  299993149, 4291550467, 1867575170, 2420163897,\n",
      "       2724958082, 2598547466, 4038724312, 2424056153, 3184222013,\n",
      "       1502716811, 3452498266, 3075890147,  693752510, 1741022786,\n",
      "       2929055649, 2683537196, 1992551549, 3036752783, 1605859578,\n",
      "       3513535315,   18553666, 1645493270,  916753386, 1451375051,\n",
      "       3882794885,  467871114,  582235926, 3663219917, 3729026372,\n",
      "       2392232284, 2255239044, 3408965331, 2479048365, 2304976574,\n",
      "       1064141603, 2289334636, 1196656297, 4027576222, 3298619410,\n",
      "        827389246, 3532896706, 3257957955, 3403519179, 3976032202,\n",
      "       3852531175, 1980801310,  221185486, 3926381994,  671192272,\n",
      "       3416761482, 1783762878, 2886954900, 2457217799,  900334137,\n",
      "        471589396, 3033119664, 3294098865,  278641430, 3051111099,\n",
      "       3611674211, 4150032656, 3814930519, 3820264012, 1206899659,\n",
      "       1831734006,  728590798, 2669673264, 2328590965, 3506747344,\n",
      "        766064278,   52862655, 3801247609, 2588170396, 1714659997,\n",
      "        727471877, 3583588675, 1741440450,   56534697, 1595987914,\n",
      "       3812680565, 4129265024, 2340959468, 3269305612, 3480467665,\n",
      "       2128022956,  171291025, 1898691638, 2614260493, 3406756011,\n",
      "        559305969, 4116194135, 1314731371,  334339397, 2584147503,\n",
      "       3071300874,   24961719, 2889053030, 1202326991, 3626640426,\n",
      "       2347073242, 3802454412,  469341691, 3096607505, 3218642142,\n",
      "       3810294098, 1939400715,  672257120, 1647789573, 2508053105,\n",
      "       3634123231, 3378515760, 4160131021, 3300105984,  987363732,\n",
      "         14810447,  638431502, 2758282515,  723729250,  941074258,\n",
      "        548037264, 3063187602, 3408592261, 1516968519, 3005959401,\n",
      "       2931447045,  854903939,  729723684, 1077908202, 3027945102,\n",
      "       2772200573, 3818614401, 2250195377, 2981196397, 2724745998,\n",
      "       1827061454, 3869683422, 4173248406, 3192136317,  496485604,\n",
      "       3816272829, 3299876996, 2507898396, 2689531253,  572057715,\n",
      "       2476289716, 3660860931, 3275196290, 3517454719, 1795344716,\n",
      "       1328814659, 3037746195, 2101771678, 3683920243, 1867803643,\n",
      "       3286538527, 1910507486, 2975422987, 1367687037, 4134042324,\n",
      "       3242012981, 3798973931, 2219479586,  428618679, 1248511483,\n",
      "        619470954, 1829703248, 3311653200, 1572590651, 2456414304,\n",
      "       2415134980, 4187143070, 3000696905, 2960953462, 2903463914,\n",
      "        934025627, 2566266124, 2383129690,  938012262,  101281136,\n",
      "       1317239577, 1590025930, 3208854239,  989573782, 1796196915,\n",
      "       3542491230, 3016039864, 3039709328,  310572677, 1731459085,\n",
      "       2894432610,  278628479,   63052314, 3191338572,  128061649,\n",
      "       2084044185, 2723635142, 2652493953, 1493102372, 3109624183,\n",
      "       2480525330,  264195944, 4012180448, 4172005435, 1173111258,\n",
      "       2562838628, 2169594643, 3617303051, 4246090867, 1678900088,\n",
      "       2443803056, 2805135529, 3312305128, 2566662901, 1207270396,\n",
      "        842801677,  139380534, 1075263992, 3997359463, 3026196714,\n",
      "       2844883004, 1192790131,  164832261,  531319271, 1887329855,\n",
      "       2633842903, 2435832053, 2207229952, 1422728322, 1729422933,\n",
      "       2251229989, 2395891735, 2628750294, 2490206857,  880396284,\n",
      "        642519998, 4041824313,  516475812, 3118582236, 1118061291,\n",
      "       1329512163, 1469569738, 1186112130, 4085331765, 2596922066,\n",
      "       1099322288, 2357182436,  689256923, 1318918130, 2365469721,\n",
      "         13509127, 4272769467,  279194177, 1152054959, 3585120639,\n",
      "       1218413051, 3351825766, 3685886320, 1215476995, 1676268452,\n",
      "       2307954839, 2772775579, 1121069214, 1105173580,  458447468,\n",
      "       1378649684, 1813272778,  179594142, 1994819859, 1390773652,\n",
      "       2662467996, 3975117061,  641899204, 2538174126, 3554919050,\n",
      "       2124028697,  143524746,  692463203, 1170251699, 2715831775,\n",
      "       1458423588, 4214386396, 1625415877, 1365374411, 2217295944,\n",
      "       1531409455,  637301433, 3389345320,  492372204,  705869581,\n",
      "       3783207401,  104922372, 1662332339, 3527522754, 2767387036,\n",
      "       3727891023, 1250206470, 2530452300,  502765020, 3270739613,\n",
      "       3378351416, 2560887116, 1847181558, 3495374687, 3290830552,\n",
      "       3610579068,   18386353,  629475825, 1215623547, 4093689537,\n",
      "        691591288, 1817025908, 2727681731, 3230765343, 3924548559,\n",
      "        550576747, 1159701124, 4187912720, 2670593421, 1377394152,\n",
      "       2240664092, 2573561095, 4258133100, 3758336084,  284441145,\n",
      "       3021114033,  295877830,  680164273, 1743872692, 3482364260,\n",
      "       2983154503, 3796793217, 2972238718,  101254521,  944480961,\n",
      "       2053973080, 2519581436,  557432048, 2496774980, 2023378363,\n",
      "       2733610314, 4171934426, 1861095695, 2118927354, 3209354987,\n",
      "       4122330570, 3429202948, 1908917179, 3230172450,  548885523,\n",
      "       2375337162, 3591943733, 2094634581, 3142850668, 3284017053,\n",
      "       3517498735, 1636590816, 4101981669, 3052393643, 3077097573,\n",
      "       1939424552,   81576676, 1458460288, 1133672732, 3184801020,\n",
      "       1458295283,  263919832, 4013210021, 3485574947, 4045281202,\n",
      "       2259872045,   93697974,  118480904, 3945432768, 3061494445,\n",
      "       2768770682,  672724899, 3070562776,  934783719, 2287554383,\n",
      "       2158787956, 1832555015, 1990602112,  520719950, 4245348827,\n",
      "       1746559942,  985118452, 3575501924, 1780517713, 1809569670,\n",
      "       3868166523, 3253294237, 1732038869, 1443214019,  633607617,\n",
      "        890454258, 1785447823, 3047850275,  826814009, 3327742150,\n",
      "       4170692407, 2010505844, 3453362252, 1440973778,  872692379,\n",
      "       3578740808,  152983680, 3310685881,  787402193,  380149656,\n",
      "       2668799190, 3254662007, 2767614896,  311347859,  479047707,\n",
      "       1178234063, 3590505014, 4274337197, 2041213678, 2180246341,\n",
      "        533854993, 3249583497,  313249017, 1391831934, 3053041897,\n",
      "        164587659, 1547979816, 2546395952, 1908408270, 3655896860,\n",
      "       2350210979, 1517369643,  927624945, 4113033418, 1335485212,\n",
      "       2632420782, 1938504723, 2624616610,  623807644, 1834252892,\n",
      "       1814839066, 1020820427, 2235961497, 1303423185, 4045602377,\n",
      "       4048417420, 3300678227, 1915575475, 1215143686, 1769124488,\n",
      "       4171021057, 1998282860, 2192304963, 3831489147,  854712858,\n",
      "       1530819971, 2851686796, 2241835579,   55532052,   98640051,\n",
      "       2499308366, 2518640158, 4288838595, 2059314857,  460359923,\n",
      "       3353422714, 2593971796, 2926814247, 2103683666, 3201788191,\n",
      "       2796979012, 1048069564,  833405808,  414668860, 4211370591,\n",
      "       2806639201,  822356489, 1202949147,   70012756, 1159013939,\n",
      "       4035678341, 1410799785,  214366722,  602874708, 1712420342,\n",
      "       1625461412, 3056256357, 3834140645, 3585222445,  853144776,\n",
      "       1792937508, 3867922696, 4169994268,  573589101, 2743315481,\n",
      "       1011000449, 2588115038, 3177100926, 1996729821, 2845833650,\n",
      "       2461773859, 1683401688, 1051627904, 1272358203, 1062127539,\n",
      "       3740510715, 4151636450, 4165428296, 3598367348,  817004244,\n",
      "       2495667953,  362269182,  984753410,  427060978, 1560777792,\n",
      "       1765477604, 2423361080, 3881109327,  811087136, 3525492668,\n",
      "       2463846654, 1706778255,  318616763, 3862875601, 2301268837,\n",
      "        208188539, 1681185824, 1867134570, 3555270482,  244560781,\n",
      "       2640077766, 3019343342,  176785452,   49795232], dtype=uint32), 90, 1, 0.23319302144959583)\n",
      "90\n",
      "1\n",
      "0.23319302144959583\n"
     ]
    }
   ],
   "source": [
    "#print(np.random.get_state())\n",
    "\n",
    "# adapted from https://stackoverflow.com/questions/45190558/direct-way-to-access-numpy-randomstate-object/45190832#45190832\n",
    "\n",
    "state = np.random.get_state()\n",
    "np.random.rand()\n",
    "print(state)\n",
    "\n",
    "#print(np.random.set_state(state))\n",
    "\n",
    "np.random.rand()\n",
    "\n",
    "#print(state[0]) # the algorithm used MT (2**19937) - 1 \n",
    "#print(state[1]) # used in representing the internal states\n",
    "print(state[2]) # ??? is this the state number?? it goes up in 4's every time its executed some sort of counter - restart python and see if it resets\n",
    "# it seems to have gone back to 10 - comment out the other random state calls above and see if it goes back to 2\n",
    "# is it a number that counts the number of times the random state is called in a particular session? no that didn't do anything - turn off and one jp and see if that does something\n",
    "print(state[3]) # used in the box muller transformation of the MT\n",
    "print(state[4]) # used in the box muller transformation of the MT"
   ]
  },
  {
   "cell_type": "markdown",
   "metadata": {},
   "source": [
    "\n",
    "# Reference\n",
    "\n",
    "Idris, I. (2015). NumPy: Beginner's Guide - Third Edition. 3rd ed. BIRMINGHAM - MUMBAI: Packt Publishing. \n",
    "\n",
    "McKinney, W. (2018). Python for data analysis. Beijing [i 4 pozostałe]: O'Reilly.\n",
    "\n",
    "Docs.scipy.org. (2018). Random sampling (numpy.random) — NumPy v1.15 Manual. [online] Available at: https://docs.scipy.org/doc/numpy-1.15.1/reference/routines.random.html [Accessed 20 Oct. 2018].\n",
    "\n",
    "Vo. T.H, P., Czygan, M., Kumar, A. and Raman, K. (2017). Python. Birmingham: Packt Publishing.\n",
    "\n",
    "McLeod, S. (2018). Sampling Methods | Simply Psychology. [online] Simplypsychology.org. Available at: https://www.simplypsychology.org/sampling.html [Accessed 20 Oct. 2018].\n",
    "\n",
    "En.wikipedia.org. (2018). Simple random sample. [online] Available at: https://en.wikipedia.org/wiki/Simple_random_sample [Accessed 20 Oct. 2018].\n",
    "\n",
    "Mehta, H. (2015). Mastering Python scientific computing. 1st ed. Birmingham: Packt Publishing."
   ]
  },
  {
   "cell_type": "code",
   "execution_count": null,
   "metadata": {
    "scrolled": true
   },
   "outputs": [],
   "source": []
  },
  {
   "cell_type": "code",
   "execution_count": null,
   "metadata": {
    "scrolled": true
   },
   "outputs": [],
   "source": []
  }
 ],
 "metadata": {
  "kernelspec": {
   "display_name": "Python 3",
   "language": "python",
   "name": "python3"
  },
  "language_info": {
   "codemirror_mode": {
    "name": "ipython",
    "version": 3
   },
   "file_extension": ".py",
   "mimetype": "text/x-python",
   "name": "python",
   "nbconvert_exporter": "python",
   "pygments_lexer": "ipython3",
   "version": "3.6.6"
  }
 },
 "nbformat": 4,
 "nbformat_minor": 2
}
