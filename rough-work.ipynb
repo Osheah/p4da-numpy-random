{
 "cells": [
  {
   "cell_type": "markdown",
   "metadata": {},
   "source": [
    "# The numpy.random package"
   ]
  },
  {
   "cell_type": "markdown",
   "metadata": {},
   "source": [
    "An exploratory  investigation in to the numpy random package. The documentation can be found on scipy [here](https://docs.scipy.org/doc/numpy-1.15.0/reference/routines.random.html)"
   ]
  },
  {
   "cell_type": "markdown",
   "metadata": {},
   "source": [
    "## The overall purpose of the package"
   ]
  },
  {
   "cell_type": "markdown",
   "metadata": {},
   "source": [
    "Random numbers have many uses. Marketing, psychology, clinical research and STEM disciplines, all use random numbers to some degree.  \n",
    "\n",
    "Often, information about a specific population or groups is sought, such as people aged between 20 and 30 shopping habits.  These groups form a target population. Frequently the target population is too large, to costly to measure, if not impossible, so a sample is drawn from the target population. Sampling involves taking a subset of a given population and making generalisations about the general target population. It is vital therefore that the sample shares the same characteristics of its target population. Picking samples from a population is prone to biases. For example, if asked to pick a number at random between 1 and 10 there will be far more 3's and 7's than would be expected if the choice was truly random [ref](https://micro.magnet.fsu.edu/creatures/pages/random.html).  \n",
    "\n",
    "One way to reduce this sampling bias is to use random sampling. Random sampling means that every item in the target population as an equal chance of being selected. In the example above, the target population would be the numbers between 1 and 10 and random sampling means that all numbers in this interval have an equal probability in being picked. The target population may follow a probability distribution.  \n",
    "\n",
    "\n",
    "Sample data is used to infer something about its target population so it’s vital that sample should be representative of it as it will be used to make generalisations outside of the sample. For example, throwing a fair 6-sided dice has a population 1, 2, 3, 4, 5 and 6, each with the same chance of coming up whereas the heights of people would fall in a bell-shaped curve, most values lying within 3 standard deviations of the average height and very few people being exceptionally tall or exceptionally short.  \n",
    "\n",
    "Computing algorithms are deterministic and cannot generate true randomness. Rather, pseudo random numbers are used (Idris, 2015). To all appearances these look random but if a key piece of information is known the whole random sequence can be predicted. This is not necessarily a bad thing. A statistical model may need the same randomness to test out other parameters. In cryptography however less, deterministic randomness would be appropriate. \n",
    "\n",
    "Python has an in-built random package. NumPy extends this by adding extra functionality. Both base their random generator on the Mersenne Twister algorithm [ref](https://en.wikipedia.org/ wiki/Mersenne_Twister). This is suitable to use in many areas that require random sampling [ref](https://stackoverflow.com/questions/7029993/differences-between-numpy-random-and-random-random-in-python). In order to generate a random sample, NumPy.random uses a 'seed' value in the Mersenne Twister. The random sequence propagates from this seed. For example, if the seed was 20 and the algorithm was every odd number in sequence after 20 then the generated (non random)sequence would be 21, 23, 25 etc. If no seed is specified then NumPy.random automatically selects random seed using either the computers random number generator or the current exact time on the systems clock (Vo. T.H et al., 2017).  \n",
    "\n",
    "Numpy.random can be subdivided into 4 main routines. \n",
    "\n",
    "- simple random data\n",
    "- permutations\n",
    "- distributions\n",
    "- random generator\n",
    "\n",
    "Simple random data section consist of several functions that generate simple random data.Inputs can be size or range. Permutation functions randomly shuffle or permutes a given sequence. Distribution functions allow specific population distributions or ranges to be sampled. This may require statistical measures such as mean and standard deviation. Numpy.random can generate samples from continuous and descrite distributins (Idris, 2015). Lastly, the random generator section contains functions that allow seeds to be specified (Mehta, 2015). This is useful in cases where the exact same sequence of random data is required. Each of these sections will be explored.         \n"
   ]
  },
  {
   "cell_type": "markdown",
   "metadata": {},
   "source": [
    "## The use of the 'Simple random data' and 'Permutations' function"
   ]
  },
  {
   "cell_type": "markdown",
   "metadata": {},
   "source": [
    "- ### Simple Random Data"
   ]
  },
  {
   "cell_type": "markdown",
   "metadata": {},
   "source": [
    "There are 10 simple random data functions in Numpy.random namely,rand, randn, randint, random_integers, random_sample, random, randf, sample, choice and bytes [ref](https://docs.scipy.org/doc/numpy-1.15.1/reference/routines.random.html). Of these random, ranf and sample [](https://stackoverflow.com/questions/18829185/difference-between-various-numpy-random-functions)are aliases of random_sample, with similar inputs and outputs.      "
   ]
  },
  {
   "cell_type": "code",
   "execution_count": 1,
   "metadata": {},
   "outputs": [],
   "source": [
    "#Import packages numpy and matplotlib.pyplot\n",
    "import numpy as np\n",
    "import random\n",
    "import matplotlib.pyplot as plt\n",
    "# display pyplot in jupyter notebook\n",
    "%matplotlib inline"
   ]
  },
  {
   "cell_type": "markdown",
   "metadata": {},
   "source": [
    "Python has the built in random function for generating simple random data."
   ]
  },
  {
   "cell_type": "code",
   "execution_count": 2,
   "metadata": {},
   "outputs": [
    {
     "name": "stdout",
     "output_type": "stream",
     "text": [
      "Simple random data from python's inbuilt random function \n",
      "\n",
      "0.08105048057087916 \n",
      "\n",
      "Simple random data from python's inbuilt random function uniformly distriubted between 0 and 1 \n",
      "\n",
      "0.5241745236978549\n"
     ]
    }
   ],
   "source": [
    "r1 = random.random()\n",
    "print(\"Simple random data from python's inbuilt random function\", '\\n')\n",
    "print(r1, '\\n')\n",
    "print(\"Simple random data from python's inbuilt random function uniformly distriubted between 0 and 1\", '\\n')\n",
    "r2 = random.uniform(0,1)\n",
    "print(r2)\n"
   ]
  },
  {
   "cell_type": "markdown",
   "metadata": {},
   "source": [
    "numpy.random extends this, adding extra functions and methods. \n",
    "\n",
    "\n",
    "|Simple Random Data| Input                       | Output                                                           |\n",
    "| -----------------|:------------------------    | :--------------------------------------------------------------- |\n",
    "| rand             | d0, d1, …, dn               | Random values in a given shape                                   |               \n",
    "| randn            | d0, d1, …, dn               | sample (or samples) from the “standard normal” distribution      |              \n",
    "| randint          | low`[, high, size, dtype]`  | Return random integers from low (inclusive) to high (exclusive)  |            \n",
    "| random_integers  | low`[, high, size])` \t     | Random integers of type np.int between low and high, inclusive.  |\n",
    "| random_sample    | `[size]`                    | Random floats in the half-open interval `[0.0, 1.0)`             |               \n",
    "| random           | `[size]`                    | Random floats in the half-open interval `[0.0, 1.0)`             |               \n",
    "| ranf             | `[size]`                    | Random floats in the half-open interval `[0.0, 1.0)`             |               \n",
    "| sample           | `[size]`                    | Random floats in the half-open interval `[0.0, 1.0)`             |               \n",
    "| choice           | `a[, size, replace, p]`     | Generates a random sample from a given 1-D array                 |                     \n",
    "| bytes            | length                      | Random bytes                                                     |      \n",
    "\n",
    "\n"
   ]
  },
  {
   "cell_type": "markdown",
   "metadata": {},
   "source": [
    "### rand\n",
    "rand(d0, d1, ..., dn) outputs random values in a given shape. Shape refers to the arrangment of the arrays. eg. a input of  (1)is a single 1x1 matrix array, an input of (2,3) is  a 2x3 matrix array (number of rows x columns) while an input of (2,3,4) is 2 arrays consisting each consisting of 3x4 matrix arrays. \n",
    "rand is a convenience or helper function. It creates random values in a given shape [ref](https://docs.scipy.org/doc/numpy-1.15.1/reference/generated/numpy.random.rand.html#numpy.random.rand). Inputs are non negative integers, although 0 returns an empty array.  If no input is given a single number is outputed. Output arrays come from the uniform distribution (i.e. each number has the same probability of being selected) between 0 inclusive and 1 exclusive `[0, 1)` \n",
    "\n"
   ]
  },
  {
   "cell_type": "code",
   "execution_count": 3,
   "metadata": {},
   "outputs": [
    {
     "name": "stdout",
     "output_type": "stream",
     "text": [
      "no input - output is a random number in the interval [0,1)\n"
     ]
    },
    {
     "data": {
      "text/plain": [
       "0.655240735939617"
      ]
     },
     "execution_count": 3,
     "metadata": {},
     "output_type": "execute_result"
    }
   ],
   "source": [
    "# no input - output is a random number in the interval [0,1)\n",
    "print (\"no input - output is a random number in the interval [0,1)\")\n",
    "np.random.rand()\n"
   ]
  },
  {
   "cell_type": "code",
   "execution_count": 4,
   "metadata": {},
   "outputs": [
    {
     "data": {
      "text/plain": [
       "array([ 0.84688139])"
      ]
     },
     "execution_count": 4,
     "metadata": {},
     "output_type": "execute_result"
    }
   ],
   "source": [
    "# input is size 1, output is a random number in an array with 1 element from the interval [0, 1) \n",
    "np.random.rand(1)"
   ]
  },
  {
   "cell_type": "code",
   "execution_count": 5,
   "metadata": {},
   "outputs": [
    {
     "data": {
      "text/plain": [
       "array([ 0.09320593,  0.46748115,  0.18819445,  0.18278631,  0.59800183])"
      ]
     },
     "execution_count": 5,
     "metadata": {},
     "output_type": "execute_result"
    }
   ],
   "source": [
    "# input is size 5, output is 1 array containing 5 random numbers from the interval [0,1)\n",
    "np.random.rand(5)"
   ]
  },
  {
   "cell_type": "code",
   "execution_count": 6,
   "metadata": {
    "scrolled": false
   },
   "outputs": [
    {
     "data": {
      "text/plain": [
       "array([[[ 0.46493195,  0.25467373,  0.59595356,  0.46623397],\n",
       "        [ 0.08101718,  0.86256719,  0.54749548,  0.95643676],\n",
       "        [ 0.07921826,  0.67318968,  0.74270214,  0.99622688]],\n",
       "\n",
       "       [[ 0.15431847,  0.41954913,  0.5393811 ,  0.71091001],\n",
       "        [ 0.30201211,  0.10430041,  0.40040172,  0.51248318],\n",
       "        [ 0.57813528,  0.69170413,  0.74619841,  0.13803069]]])"
      ]
     },
     "execution_count": 6,
     "metadata": {},
     "output_type": "execute_result"
    }
   ],
   "source": [
    "# input has 3 size dimentions of 2, 3 and 4, output is 2 3x4 matrices filled with random numbers from the interval [0,1)\n",
    "np.random.rand(2, 3, 4)"
   ]
  },
  {
   "cell_type": "code",
   "execution_count": 7,
   "metadata": {},
   "outputs": [
    {
     "data": {
      "text/plain": [
       "array([[[[ 0.24962176,  0.82851413,  0.30404513,  0.6149145 ,  0.22504671],\n",
       "         [ 0.54430228,  0.89794204,  0.4477056 ,  0.24812144,  0.001894  ],\n",
       "         [ 0.38313176,  0.03751988,  0.6552661 ,  0.18204324,  0.91851124],\n",
       "         [ 0.5600389 ,  0.14287945,  0.70755633,  0.25624302,  0.02026132]],\n",
       "\n",
       "        [[ 0.3548635 ,  0.94656024,  0.68720817,  0.65391883,  0.94959274],\n",
       "         [ 0.53985338,  0.79586276,  0.45790551,  0.29995383,  0.47082465],\n",
       "         [ 0.47513564,  0.54336602,  0.40246094,  0.87844662,  0.0779827 ],\n",
       "         [ 0.60562665,  0.10991712,  0.25610256,  0.05122473,  0.41783014]],\n",
       "\n",
       "        [[ 0.0066435 ,  0.23927547,  0.77176176,  0.13462247,  0.71109507],\n",
       "         [ 0.66832425,  0.38213534,  0.67015884,  0.88898465,  0.99746821],\n",
       "         [ 0.7797687 ,  0.48120641,  0.7439714 ,  0.52818935,  0.90288646],\n",
       "         [ 0.69997302,  0.4066946 ,  0.68644837,  0.9279568 ,  0.28754286]]],\n",
       "\n",
       "\n",
       "       [[[ 0.55923932,  0.67258428,  0.52806124,  0.47250314,  0.78711305],\n",
       "         [ 0.71229679,  0.88840697,  0.62976832,  0.05738926,  0.01433956],\n",
       "         [ 0.14912275,  0.61587547,  0.8952552 ,  0.56434214,  0.19020168],\n",
       "         [ 0.08838655,  0.65194066,  0.19373116,  0.21785339,  0.91295965]],\n",
       "\n",
       "        [[ 0.9796343 ,  0.34331918,  0.49938868,  0.15923455,  0.23034573],\n",
       "         [ 0.70402309,  0.44317864,  0.71221232,  0.80281569,  0.76155639],\n",
       "         [ 0.465103  ,  0.9674389 ,  0.71896083,  0.98480467,  0.10231832],\n",
       "         [ 0.78191605,  0.63378538,  0.37864973,  0.16939456,  0.08544398]],\n",
       "\n",
       "        [[ 0.49249236,  0.32959393,  0.91457669,  0.51775216,  0.60658417],\n",
       "         [ 0.92193428,  0.73221261,  0.78991145,  0.93528799,  0.06688544],\n",
       "         [ 0.54356868,  0.60585868,  0.66048426,  0.08670922,  0.24538274],\n",
       "         [ 0.0462552 ,  0.68026818,  0.18459562,  0.94585875,  0.09968579]]]])"
      ]
     },
     "execution_count": 7,
     "metadata": {},
     "output_type": "execute_result"
    }
   ],
   "source": [
    "# input as 4 size dimentions of 2, 3, 4 and 5, output is 2 groups of 3 4x5 matrices filled with random numbers from the interval [0,1)\n",
    "np.random.rand(2,3,4,5)"
   ]
  },
  {
   "cell_type": "markdown",
   "metadata": {},
   "source": [
    "### randn\n",
    "\n",
    "randn((d0, d1, ..., dn) outputs a sample(s) from the “standard normal” distribution N(0,1).\n",
    "Randn is similar to rand but takes its random numbers from the standard normal distrubution with mean 0 and standard deviation 1 N(0,1)[ref](https://docs.scipy.org/doc/numpy-1.15.1/reference/generated/numpy.random.randn.html#numpy.random.randn). It is similar to the standard_normal distrubution in NumPy.random however standard_normal can have tuples as arguments. Randn's arguements must be positive integers or integer like (such as int(1.02)). Like rand, it is a convenience function with inputs for sizes. If no input given a single random number (float) from the standard normal distribution is outputted. Outputs take the form of n dimentional arrays in the shape specifed by the inputs. If a non standard normal distribution N(m,sd<sup>2</sup>) is required, the transformation m + sd * np.random.rand() can be applied. "
   ]
  },
  {
   "cell_type": "code",
   "execution_count": 8,
   "metadata": {},
   "outputs": [
    {
     "data": {
      "text/plain": [
       "0.47445114448185605"
      ]
     },
     "execution_count": 8,
     "metadata": {},
     "output_type": "execute_result"
    }
   ],
   "source": [
    "# no input given  - single random float returned\n",
    "np.random.randn()\n"
   ]
  },
  {
   "cell_type": "markdown",
   "metadata": {},
   "source": [
    "note that this number can be negative with the majority of the datapoints normally distributed within `[-3,3]`\n"
   ]
  },
  {
   "cell_type": "code",
   "execution_count": 9,
   "metadata": {},
   "outputs": [
    {
     "name": "stdout",
     "output_type": "stream",
     "text": [
      "[ 0.05111766] \n",
      "\n",
      "[-0.41908229  1.06794613  2.65979035 -0.51649917  1.54609761] \n",
      "\n",
      "[[[-1.06986029  0.75363688 -1.13738688  1.17058316]\n",
      "  [-0.8469741  -1.00693838 -0.17623392 -0.06985469]\n",
      "  [-2.11674485 -0.01246222 -0.13669156 -0.90723216]]\n",
      "\n",
      " [[-0.64244833 -0.55731607 -1.09998913 -0.20644307]\n",
      "  [-0.42091513  0.36888296 -0.4743091  -0.17951099]\n",
      "  [-1.69121309 -0.17295023  0.75170875  0.67300121]]] \n",
      "\n"
     ]
    },
    {
     "data": {
      "text/plain": [
       "array([[ 1.5305667 ,  7.33732159,  1.84936521],\n",
       "       [ 4.76862026,  5.28165674,  4.29943028]])"
      ]
     },
     "execution_count": 9,
     "metadata": {},
     "output_type": "execute_result"
    }
   ],
   "source": [
    "# 1 input given  - single random array from N(0,1)\n",
    "print(np.random.randn(1),'\\n')\n",
    "\n",
    "# outputs a 1x1 array of 5 random floats from N(0,1)\n",
    "print(np.random.randn(5),'\\n')\n",
    "\n",
    "# outputs 2 arrays of 3x4 matrices filled with random numbers from N(0,1)\n",
    "print(np.random.randn(2,3,4),'\\n')\n",
    "\n",
    "# outputs a 2x3 matrix with filled with random numbers from N(2, 9)\n",
    "2+3*np.random.randn(2,3)"
   ]
  },
  {
   "cell_type": "markdown",
   "metadata": {},
   "source": [
    "### randint\n",
    "\n",
    "randint((low`[, high, size, dtype]`))outputs random integers from low (inclusive) to high (exclusive). \n",
    "randint is differs from the two above functions in that it returns integers within a specifeid interval low (inclusive) to high (exclusive). Integers are returned from the discrete uniform distribution [ref](). Whereas rand returned numbers from the continous uniform distribution between `[0,1)`. Randint expands this interval by returing values from `[low,high)`. If no arguments are given an error is returned. If one argument is given, say h then this is assumed to be the higher bound and the lower bound is one less `[h-1, h)`.  Size can also be specified e.g. if 10 random numbers are required between `[0, 5)` the arguments would be (0,5,10). Data type can also be specified, the default is np.int. dTypes relate to the way memory blocks are interpreted [ref](https://stackoverflow.com/questions/9457037/what-does-dtype-do).    "
   ]
  },
  {
   "cell_type": "code",
   "execution_count": 10,
   "metadata": {},
   "outputs": [
    {
     "name": "stdout",
     "output_type": "stream",
     "text": [
      "0 \n",
      "\n",
      "2 \n",
      "\n",
      "[1 2 0 1 0 2 3 0 3 2] \n",
      "\n",
      "[2 1 2 0 4 1 4 2 2 3] \n",
      "\n"
     ]
    }
   ],
   "source": [
    "# returns an error - uncomment the line below to veiw the error\n",
    "# print(np.random.randint(), '\\n')\n",
    "# gives a 'random' integer between 0 inclusive and 1 exclusive (there is only one integer in this interval, 0) \n",
    "print(np.random.randint(1), '\\n')\n",
    "\n",
    "# gives a random integer between [-1, 3)\n",
    "print(np.random.randint(-1, 3), '\\n')\n",
    "\n",
    "# Size can be specified by the third argument\n",
    "print(np.random.randint(0, 5, 10), '\\n')\n",
    "\n",
    "# Datatype can also be specified \n",
    "print(np.random.randint(0, 5, 10, dtype=\"int32\"), '\\n')\n"
   ]
  },
  {
   "cell_type": "markdown",
   "metadata": {},
   "source": [
    "### random_integers\n",
    "\n",
    "random_integers(low`[, high, size]`) outputs random integers of type np.int between low and high, inclusive. Size refers to the number of random values required from the specified interval. This function is no longer maintained. \n",
    "\n",
    "Random_integers is very similar to randint, both return integers from a discrete uniform distribution. However random_integers is inclusive of the higher range value `[low, high]`. This function is deprecated i.e replaced, in favour of randint. Thus when called by python a warning will display, although the function will still work. Both randint and random_integers can use the transformation  a + (b - a) * (np.random.random_integers(N) - 1) / (N - 1) to give N evenly spaced integers between a and b but random_integers includes the b value whereas randind does not. \n",
    "\n"
   ]
  },
  {
   "cell_type": "code",
   "execution_count": 11,
   "metadata": {},
   "outputs": [
    {
     "name": "stdout",
     "output_type": "stream",
     "text": [
      "1 \n",
      "\n",
      "3.66666666667 \n",
      "\n",
      "4.555555555555555\n"
     ]
    },
    {
     "name": "stderr",
     "output_type": "stream",
     "text": [
      "C:\\ProgramData\\Anaconda3\\lib\\site-packages\\ipykernel_launcher.py:2: DeprecationWarning: This function is deprecated. Please call randint(0, 1 + 1) instead\n",
      "  \n",
      "C:\\ProgramData\\Anaconda3\\lib\\site-packages\\ipykernel_launcher.py:6: DeprecationWarning: This function is deprecated. Please call randint(1, 10 + 1) instead\n",
      "  \n"
     ]
    }
   ],
   "source": [
    "# This will output 1's or 0's randomly\n",
    "print(np.random.random_integers(0,1), '\\n')\n",
    "\n",
    "\n",
    "a,b,N=3,5,10\n",
    "print(a + (b - a) * (np.random.random_integers(N) - 1) / (N - 1), '\\n')\n",
    "print(a + (b - a) * (np.random.randint(N) - 1) / (N - 1))"
   ]
  },
  {
   "cell_type": "markdown",
   "metadata": {},
   "source": [
    "### random_sample (random, ranf and sample)\n",
    "\n",
    "random_sample(`[size]`) outputs random floats in the half-open interval `[0.0, 1.0)` [ref](https://docs.scipy.org/doc/numpy-1.15.1/reference/generated/numpy.random.random_sample.html#numpy.random.random_sample).\n",
    "Random_sample and its aliases [ref](https://stackoverflow.com/questions/18829185/difference-between-various-numpy-random-functions) random [ref](https://docs.scipy.org/doc/numpy-1.15.1/reference/generated/numpy.random.random.html#numpy.random.random), ranf [ref](https://docs.scipy.org/doc/numpy-1.15.1/reference/generated/numpy.random.ranf.html#numpy.random.ranf) and sample [ref](https://docs.scipy.org/doc/numpy-1.15.1/reference/generated/numpy.random.sample.html#numpy.random.sample) . unlike randint which returned random values from the descrite uniform distribution `[low, high)` and rand which populates arrays with random values in a given shape, random_sample returns random floats from the continous uniform distrubtion `[0,1)`. It's input is size i.e. the number of random values required. To expand values outside of U`[0,1)` to cover U`[a, b)` the transformation a +  (b - a)`*` random_sample() can be used. the size can be an integer or tuples of integers (a,b,c) \n"
   ]
  },
  {
   "cell_type": "code",
   "execution_count": 12,
   "metadata": {},
   "outputs": [
    {
     "name": "stdout",
     "output_type": "stream",
     "text": [
      "0.04488324244199271 \n",
      "\n"
     ]
    },
    {
     "data": {
      "image/png": "[encoded data removed]",
      "text/plain": [
       "<matplotlib.figure.Figure at 0x1e1bb99b6a0>"
      ]
     },
     "metadata": {
      "needs_background": "light"
     },
     "output_type": "display_data"
    },
    {
     "name": "stdout",
     "output_type": "stream",
     "text": [
      "[[[ 0.69484641  0.2140371   0.04072638  0.91133883]\n",
      "  [ 0.54802252  0.87238748  0.23756447  0.80043231]\n",
      "  [ 0.07987863  0.59646883  0.29549213  0.66590327]]\n",
      "\n",
      " [[ 0.20994838  0.51512409  0.1293021   0.8342824 ]\n",
      "  [ 0.77183624  0.35561807  0.5061464   0.11724335]\n",
      "  [ 0.80337199  0.09795292  0.1036741   0.44948611]]] \n",
      "\n",
      "[ 2.94332556  2.93742152  2.86988802  2.8867473   2.96939289  2.88424496\n",
      "  2.79679069  2.95202531  2.93882261  2.80676295] \n",
      "\n",
      "[ 2.97384167  2.7823983   2.84999258  2.86890241  2.84361855  2.8581224\n",
      "  2.98611423  2.79993976  2.77895104  2.89788006] \n",
      "\n",
      "[ 2.93561987  2.92963378  2.80622817  2.91372408  2.92063842  2.93570286\n",
      "  2.86611772  2.87945287  2.79721672  2.80535361] \n",
      "\n",
      "[ 2.93290822  2.99812302  2.78988695  2.8506234   2.80278011  2.90373523\n",
      "  2.89223977  2.98289636  2.87360011  2.79633313] \n",
      "\n"
     ]
    }
   ],
   "source": [
    "# when no arguments are given a single random float between [0,1) is given\n",
    "print(np.random.random_sample(), '\\n')\n",
    "\n",
    "# when size is 50000, an array with 50000 random floats between [0,1) is given\n",
    "x =np.random.random_sample(50000)\n",
    "\n",
    "# This shows the continous uniform distribution over {0,1)\n",
    "plt.hist(x)\n",
    "plt.show()\n",
    "\n",
    "# arguments can be tuples\n",
    "print(np.random.random_sample((2,3,4)), '\\n')\n",
    "\n",
    "# To change the interval U[0, 1) from which the numbers are selected from use the transformation a + (b - a)* random_sample() in U[a,b)\n",
    "# This outputs 10 random floats between [3, 5)}\n",
    "a,b,N=3,5,10\n",
    "print(a + (b - a) * (np.random.random_sample(N) - 1) / (N - 1), '\\n')\n",
    "print(a + (b - a) * (np.random.random(N) - 1) / (N - 1), '\\n')\n",
    "print(a + (b - a) * (np.random.ranf(N) - 1) / (N - 1), '\\n')\n",
    "print(a + (b - a) * (np.random.sample(N) - 1) / (N - 1), '\\n')"
   ]
  },
  {
   "cell_type": "markdown",
   "metadata": {},
   "source": [
    "seems to generate one point at 0.5"
   ]
  },
  {
   "cell_type": "markdown",
   "metadata": {},
   "source": [
    "### choice\n",
    "\n",
    "choice(a`[, size, replace, p]`) outputs a random sample from a given 1-D array [ref](https://docs.scipy.org/doc/numpy-1.15.1/reference/routines.random.html). its input is a 1 dimentional array or integer. The number of random values required can be specified by size. The difference between this function and the ones above is that here the population is specified in an array and the function returns one of these choices randomly. e.g. an input of all the harry potter book titles would randomly return one book from this population. The probability p of elements in the 1 d array can be specified (probabilities total to 1). If p is not provided then p is assumed to be uniformly distruibuted across the array. Size refers to the number of random elements from the population that are returned. There is also the option to replace which defaults to true. This refers to whether or not the random choice element is returned to the sample population and is used when unique values from the population are needed [ref](https://stackoverflow.com/questions/40689152/what-does-replacement-mean-in-numpy-random-choice). \n",
    "\n"
   ]
  },
  {
   "cell_type": "markdown",
   "metadata": {},
   "source": [
    "seems to generate 10 datapoints 3 between 0.1 and 0.2, 2 between 03 and 0.4 and 0.7 and 0.8 and 1 in each of 0.5 and 0.6 intervals."
   ]
  },
  {
   "cell_type": "code",
   "execution_count": 13,
   "metadata": {},
   "outputs": [
    {
     "name": "stdout",
     "output_type": "stream",
     "text": [
      "['Harry Potter and the Goblet of Fire'\n",
      " 'Harry Potter and the Half-Blood Prince'\n",
      " 'Harry Potter and the Chamber of Secrets'\n",
      " 'Harry Potter and the Prisoner of Azkaban'\n",
      " 'Harry Potter and the Philosopher’s Stone'\n",
      " 'Harry Potter and the Deathly Hallows'] \n",
      "\n",
      "['Harry Potter and the Half-Blood Prince'\n",
      " 'Harry Potter and the Goblet of Fire'\n",
      " 'Harry Potter and the Deathly Hallows'\n",
      " 'Harry Potter and the Prisoner of Azkaban'\n",
      " 'Harry Potter and the Chamber of Secrets'\n",
      " 'Harry Potter and the Order of the Phoenix'] \n",
      "\n",
      "['Harry Potter and the Philosopher’s Stone'\n",
      " 'Harry Potter and the Chamber of Secrets'\n",
      " 'Harry Potter and the Chamber of Secrets'\n",
      " 'Harry Potter and the Chamber of Secrets'\n",
      " 'Harry Potter and the Half-Blood Prince'\n",
      " 'Harry Potter and the Deathly Hallows'] \n",
      "\n"
     ]
    }
   ],
   "source": [
    "hp = ['Harry Potter and the Philosopher’s Stone', 'Harry Potter and the Chamber of Secrets', 'Harry Potter and the Prisoner of Azkaban', 'Harry Potter and the Goblet of Fire', 'Harry Potter and the Order of the Phoenix', 'Harry Potter and the Half-Blood Prince', 'Harry Potter and the Deathly Hallows']\n",
    "print(np.random.choice(hp, 6, replace=False), '\\n')# only unique books are returned\n",
    "print(np.random.choice(hp, 6), '\\n')#  books can be repeatedly returned\n",
    "print(np.random.choice(hp, 6, p=[0.2,0.5,0.1,0.1,0.015,0.03,0.055], replace=True), '\\n')# Chamber of secrets more likely to be selected \n"
   ]
  },
  {
   "cell_type": "markdown",
   "metadata": {},
   "source": [
    "### Bytes\n",
    "\n",
    "bytes(length)outputs random bytes of the specified length size [Ref](https://docs.scipy.org/doc/numpy-1.15.1/reference/routines.random.html). \n",
    "\n",
    "bytes takes non negative integer inputs and outputs randomly byte strings. outputs are prefixed with b and the bytes are enclosed within apostrophies or quotation marks, hence outputs are strings of specified length [Ref](https://docs.scipy.org/doc/numpy-1.15.1/reference/generated/numpy.random.bytes.html#numpy.random.bytes). The b at the start indicates that it is a byte literal [why the b at the front](https://stackoverflow.com/questions/6269765/what-does-the-b-character-do-in-front-of-a-string-literal)\n",
    "\n"
   ]
  },
  {
   "cell_type": "code",
   "execution_count": 14,
   "metadata": {},
   "outputs": [
    {
     "name": "stdout",
     "output_type": "stream",
     "text": [
      "b'' \n",
      "\n",
      "b'\\n' \n",
      "\n",
      "b'r\\x8b\\x13Iw-#]|\\x17' \n",
      "\n"
     ]
    }
   ],
   "source": [
    "print(np.random.bytes(0),'\\n')\n",
    "print(np.random.bytes(1),'\\n')\n",
    "print(np.random.bytes(10),'\\n')"
   ]
  },
  {
   "cell_type": "markdown",
   "metadata": {},
   "source": [
    "Hence Simple Random Data contains functions for generating random elements consisting of integers, arrays, sizes and shapes from continous or discrete uniform populations or normally distributed populations that may or may not be probabilistically weighted towards some values depending on what is required. It also contains functions to randomly pick elements from a given population array such as a list or set of bytes. The next section of numpy.random to be discussed is its permutation functions. \n"
   ]
  },
  {
   "cell_type": "markdown",
   "metadata": {},
   "source": [
    "## Permutations\n",
    "A permutation is a way of cycling through all options in a given set. For example chosing unique pairs of 3 numbers (1,2 and 3)would give 3<sup>2</sup> combinations namely (1,1)(1,2)(1,3)(2,1)(2,2)(2,3)(3,1) (3,2) (3,3). Numpy.random has two permutation functions namely [Ref](https://docs.scipy.org/doc/numpy-1.15.1/reference/routines.random.html), \n",
    "- shuffle\n",
    "- permutation\n",
    "\n",
    "### shuffle\n",
    "shuffle(x) takes an array or array like input and randomly reorders elements in the array. E.g. randomly shuffling the order of harry potter books\n"
   ]
  },
  {
   "cell_type": "code",
   "execution_count": 15,
   "metadata": {},
   "outputs": [
    {
     "name": "stdout",
     "output_type": "stream",
     "text": [
      "Harry Potter and the Philosopher’s Stone\n",
      "Harry Potter and the Chamber of Secrets\n",
      "Harry Potter and the Prisoner of Azkaban\n",
      "Harry Potter and the Goblet of Fire\n",
      "Harry Potter and the Order of the Phoenix\n",
      "Harry Potter and the Half-Blood Prince\n",
      "Harry Potter and the Deathly Hallows\n"
     ]
    },
    {
     "data": {
      "text/plain": [
       "['Harry Potter and the Prisoner of Azkaban',\n",
       " 'Harry Potter and the Deathly Hallows',\n",
       " 'Harry Potter and the Half-Blood Prince',\n",
       " 'Harry Potter and the Order of the Phoenix',\n",
       " 'Harry Potter and the Chamber of Secrets',\n",
       " 'Harry Potter and the Philosopher’s Stone',\n",
       " 'Harry Potter and the Goblet of Fire']"
      ]
     },
     "execution_count": 15,
     "metadata": {},
     "output_type": "execute_result"
    }
   ],
   "source": [
    "hp = ['Harry Potter and the Philosopher’s Stone', 'Harry Potter and the Chamber of Secrets', 'Harry Potter and the Prisoner of Azkaban', 'Harry Potter and the Goblet of Fire', 'Harry Potter and the Order of the Phoenix', 'Harry Potter and the Half-Blood Prince', 'Harry Potter and the Deathly Hallows']\n",
    "for book in hp:\n",
    "    print(book)\n",
    "# shuffle the books\n",
    "np.random.shuffle(hp)\n",
    "hp\n"
   ]
  },
  {
   "cell_type": "markdown",
   "metadata": {},
   "source": [
    "### Permutation\n",
    "\n",
    "permutation(x) has an array as an input and randomly permutates the \n",
    "\n",
    "Randomly permute a sequence, or return a permuted range [Ref](https://docs.scipy.org/doc/numpy-1.15.1/reference/routines.random.html). Unlike shuffle which reorders the original array, permutation takes a copy of the original array and shuffles the copy. The original array remains intact. In addition permutation can take integer inputs and will output a range e.g an input of 5 will output a random range populated with unique elements from 0 to 4 inclusive. [Ref](https://stackoverflow.com/questions/15474159/shuffle-vs-permute-numpy)\n",
    "\n"
   ]
  },
  {
   "cell_type": "code",
   "execution_count": 16,
   "metadata": {},
   "outputs": [
    {
     "name": "stdout",
     "output_type": "stream",
     "text": [
      "Harry Potter and the Philosopher’s Stone\n",
      "Harry Potter and the Chamber of Secrets\n",
      "Harry Potter and the Prisoner of Azkaban\n",
      "Harry Potter and the Goblet of Fire\n",
      "Harry Potter and the Order of the Phoenix\n",
      "Harry Potter and the Half-Blood Prince\n",
      "Harry Potter and the Deathly Hallows\n",
      "\n",
      "\n",
      "['Harry Potter and the Deathly Hallows'\n",
      " 'Harry Potter and the Philosopher’s Stone'\n",
      " 'Harry Potter and the Prisoner of Azkaban'\n",
      " 'Harry Potter and the Half-Blood Prince'\n",
      " 'Harry Potter and the Order of the Phoenix'\n",
      " 'Harry Potter and the Chamber of Secrets'\n",
      " 'Harry Potter and the Goblet of Fire']\n",
      "\n",
      "\n",
      "[4 1 2 0 3] \n",
      "\n"
     ]
    }
   ],
   "source": [
    "# Books listed in order of publication date\n",
    "hp = ['Harry Potter and the Philosopher’s Stone', 'Harry Potter and the Chamber of Secrets', 'Harry Potter and the Prisoner of Azkaban', 'Harry Potter and the Goblet of Fire', 'Harry Potter and the Order of the Phoenix', 'Harry Potter and the Half-Blood Prince', 'Harry Potter and the Deathly Hallows']\n",
    "for book in hp:\n",
    "    print(book)\n",
    "print('\\n')\n",
    "# Books randomly permutated\n",
    "print(np.random.permutation(hp))\n",
    "# original book order is preserved unlike shuffle function\n",
    "hp\n",
    "print('\\n')\n",
    "# input is an integer output is a range\n",
    "print(np.random.permutation(5), '\\n')\n",
    "\n"
   ]
  },
  {
   "cell_type": "markdown",
   "metadata": {},
   "source": [
    "## The use and purpose of at least five 'distributions' functions"
   ]
  },
  {
   "cell_type": "code",
   "execution_count": null,
   "metadata": {},
   "outputs": [],
   "source": []
  },
  {
   "cell_type": "markdown",
   "metadata": {},
   "source": [
    "- ### Uniform"
   ]
  },
  {
   "cell_type": "code",
   "execution_count": null,
   "metadata": {},
   "outputs": [],
   "source": []
  },
  {
   "cell_type": "markdown",
   "metadata": {},
   "source": [
    "- ### Normal"
   ]
  },
  {
   "cell_type": "markdown",
   "metadata": {},
   "source": []
  },
  {
   "cell_type": "markdown",
   "metadata": {},
   "source": [
    "- ### Binomial"
   ]
  },
  {
   "cell_type": "markdown",
   "metadata": {},
   "source": []
  },
  {
   "cell_type": "markdown",
   "metadata": {},
   "source": [
    "- ### Possion"
   ]
  },
  {
   "cell_type": "markdown",
   "metadata": {},
   "source": []
  },
  {
   "cell_type": "markdown",
   "metadata": {},
   "source": [
    " - ### Power"
   ]
  },
  {
   "cell_type": "markdown",
   "metadata": {},
   "source": [
    "##  The use of seeds in generating pseudorandom numbers"
   ]
  },
  {
   "cell_type": "markdown",
   "metadata": {},
   "source": [
    "##  The use of seeds in generating pseudorandom numbers\n",
    "\n",
    "## Random generator\n",
    "\n",
    "Random numbers are difficult to generate. Typically when true random numbers are requied some random natural process is used such as radioactive decay levels. Computational random number generation is not truely random. Algorithms can produce long sequences of random looking data but which in reality are completely deterministic once a key value or a seed is known [](https://en.wikipedia.org/wiki/Random_number_generation#%22True%22_vs._pseudo-random_numbers). \n",
    "\n",
    "Numpy.random contains four functions involved with the generation of random data from a specified range or given population, RandomState, Seen, get_state and set_state. As noted before 'random' in this sence means pseudo random. Numpy.random uses the pseudo random number generator (PSNG) algorithm named the 'Mersenne Twister'. This is a widely used computer algorithm that is suitable for most random number generaton needs. A PSNG requires a seed as a starting point in the random  sequence. Once a seed is defined, the random sequence it generates can be predicted [](Vo. T.H et al., 2017). If no seed is given then Numpy picks a 'random' one based on either the computers internal clock settings or on the computers own random number generator [](Vo. T.H et al., 2017). \n",
    "\n",
    "- RandomState\n",
    "- Seed\n",
    "- get_state\n",
    "- set_state\n",
    "\n",
    "Simple random data function and and random distrubution functions use the same universal random seed. If you want a different seed for one particular random pattern then you can specify the unique seed with the RandomState function. This creates a local random number gererator that differs from the global one used by the other functions [](McKinny, 2018). \n",
    "\n",
    "Numpy.random has a function seed that allows the user to specify the seed and therefore generate a predictible random pattern of data. This is required when testing statistical models that require the same 'random noise' so as not to affect the statistical parameters. \n",
    "\n",
    "get_state and set_state are ways of setting a specific random state (set_state) and recalling (get_state)for specific use [](https://stackoverflow.com/questions/48504854/python-random-getstate-and-random-setstate). \n",
    "\n",
    "Each of these four functions will be discussed below. \n",
    "\n",
    "\n",
    "### RandomState\n",
    "RandomState(`[seed]`) takes the seed value for the Mersenne Twister as input and outputs the container for the Mersenne Twister pseudo-random number generator [](https://docs.scipy.org/doc/numpy-1.15.1/reference/routines.random.html). There is always an underlying RandomState in numpy. All the functions in Numpy.random operate within an global instance of a default RandomState that is not explicitly set. RandomState function is used when the same set of random numbers is required. It allows random numbers from specific instance of the random state to be generated at a local level. \n",
    "\n",
    "This means that rather than changing global seed for the Mersenne Twister, a container or instance is created with that specific seed. It is used prior to calling other numpy.random functions. RandomState, like the seed function, allows for functions that call and create random data to return the same random data when called again. RandomState comes with a wide varity of methods to call various probability distrubtions and simple random data function. \n",
    "\n",
    "Generally RandomState is prefered over seed as if seed is used all instances of random numbers called within the session will be affected but in RandomState only the instance where it is used with the random method is affected. One thing that I'm not sure off is why RandomState shows different values when called agrepeatedly run but subesquent runs s \n",
    "\n",
    "----delete----\n",
    "\n",
    "Container for the Mersenne Twister pseudo-random number generator.\n",
    "\n",
    "RandomState exposes a number of methods for generating random numbers drawn from a variety of probability distributions. In addition to the distribution-specific arguments, each method takes a keyword argument size that defaults to None. If size is None, then a single value is generated and returned. If size is an integer, then a 1-D array filled with generated values is returned. If size is a tuple, then an array with that shape is filled and returned.\n",
    "\n",
    "Compatibility Guarantee A fixed seed and a fixed series of calls to ‘RandomState’ methods using the same parameters will always produce the same results up to roundoff error except when the values were incorrect. Incorrect values will be fixed and the NumPy version in which the fix was made will be noted in the relevant docstring. Extension of existing parameter ranges and the addition of new parameters is allowed as long the previous behavior remains unchanged.\n",
    "Parameters:\t\n",
    "\n",
    "seed : {None, int, array_like}, optional\n",
    "\n",
    "    Random seed used to initialize the pseudo-random number generator. Can be any integer between 0 and 2**32 - 1 inclusive, an array (or other sequence) of such integers, or None (the default). If seed is None, then RandomState will try to read data from /dev/urandom (or the Windows analogue) if available or seed from the clock otherwise.\n",
    "\n",
    "--- end delete ----\n",
    "\n",
    "--- useful links and things to check ---\n",
    "https://stackoverflow.com/questions/5836335/consistently-create-same-random-numpy-array\n",
    "\n",
    "https://stackoverflow.com/questions/32462273/how-to-use-random-randomstate\n",
    "\n",
    "How does randomstate differ from seed? seed uses the functions of numpy.random i.e. the simple random data, permutation and distribution functions mentioned above, whereas RandomSeed uses a wide varitey of methods that are similar to numpy.random's global functions but local to just the RandomState function. \n",
    "\n",
    "\n"
   ]
  },
  {
   "cell_type": "code",
   "execution_count": 17,
   "metadata": {},
   "outputs": [
    {
     "data": {
      "text/plain": [
       "\"\\n# generate a random number with seed 5\\nseed = 5\\nnp.random.seed(seed)\\nprint(np.random.rand())\\n# output is always 0.22199317108973948\\n\\n#This uses the global rand function and the seed affects all random functions within numpy.random for example \\n\\nprint(np.random.randint(10)) # picks a random integer between [0, 10) - its always 6 with a seed of 5 a different simple random function than the one rand used above\\n# This will always be 6 when the seed is 5\\n\\n\\n#another way to achive the same result without affecting other the randomness of other numpy functions is to use RandomState\\n# set the state\\nrs = np.random.RandomState(seed)\\n# call the method\\nprint(rs.rand())\\n# This will be 0.8928601514360016 \\n# however the other global function will not be affected by the RandomState's seed value and will remain at the previously 5 seeded value of 6\\nprint(np.random.randint(10))\\n#reset random seed\\n\\n# when the above code is run but the seed value is changed\\n\\n# generate a random number with seed 5\\nseed = 50\\nnp.random.seed(seed)\\nprint(np.random.rand())\\n# output is always 0.22199317108973948\\n\\n#This uses the global rand function and the seed affects all random functions within numpy.random for example \\n\\nprint(np.random.randint(10)) # picks a random integer between [0, 10) - its always 6 with a seed of 5 a different simple random function than the one rand used above\\n# This will always be 6 when the seed is 5\\n\\n\\n#another way to achive the same result without affecting other the randomness of other numpy functions is to use RandomState\\n# set the state\\nrs = np.random.RandomState(seed)\\n# call the method\\nprint(rs.rand())\\n# This will be 0.8928601514360016 \\n# however the other global function will not be affected by the RandomState's seed value and will remain at the previously 5 seeded value of 6\\nprint(np.random.randint(10))\\n#reset random seed\\n\\n# this shows that the local call to RandomState's methods same (0.49460164553802144) but the global numpy.random functions have different seeds and hence differnt random values \\n\\n# This allows you to have many instances of randomly generated numbers with differnt seeds within the same instance of python running\\n\\n\\n## still not 100 pc sure whats going on with the numbers\\n\\n# https://stackoverflow.com/questions/32462273/how-to-use-random-randomstate\\n\""
      ]
     },
     "execution_count": 17,
     "metadata": {},
     "output_type": "execute_result"
    }
   ],
   "source": [
    "'''\n",
    "# generate a random number with seed 5\n",
    "seed = 5\n",
    "np.random.seed(seed)\n",
    "print(np.random.rand())\n",
    "# output is always 0.22199317108973948\n",
    "\n",
    "#This uses the global rand function and the seed affects all random functions within numpy.random for example \n",
    "\n",
    "print(np.random.randint(10)) # picks a random integer between [0, 10) - its always 6 with a seed of 5 a different simple random function than the one rand used above\n",
    "# This will always be 6 when the seed is 5\n",
    "\n",
    "\n",
    "#another way to achive the same result without affecting other the randomness of other numpy functions is to use RandomState\n",
    "# set the state\n",
    "rs = np.random.RandomState(seed)\n",
    "# call the method\n",
    "print(rs.rand())\n",
    "# This will be 0.8928601514360016 \n",
    "# however the other global function will not be affected by the RandomState's seed value and will remain at the previously 5 seeded value of 6\n",
    "print(np.random.randint(10))\n",
    "#reset random seed\n",
    "\n",
    "# when the above code is run but the seed value is changed\n",
    "\n",
    "# generate a random number with seed 5\n",
    "seed = 50\n",
    "np.random.seed(seed)\n",
    "print(np.random.rand())\n",
    "# output is always 0.22199317108973948\n",
    "\n",
    "#This uses the global rand function and the seed affects all random functions within numpy.random for example \n",
    "\n",
    "print(np.random.randint(10)) # picks a random integer between [0, 10) - its always 6 with a seed of 5 a different simple random function than the one rand used above\n",
    "# This will always be 6 when the seed is 5\n",
    "\n",
    "\n",
    "#another way to achive the same result without affecting other the randomness of other numpy functions is to use RandomState\n",
    "# set the state\n",
    "rs = np.random.RandomState(seed)\n",
    "# call the method\n",
    "print(rs.rand())\n",
    "# This will be 0.8928601514360016 \n",
    "# however the other global function will not be affected by the RandomState's seed value and will remain at the previously 5 seeded value of 6\n",
    "print(np.random.randint(10))\n",
    "#reset random seed\n",
    "\n",
    "# this shows that the local call to RandomState's methods same (0.49460164553802144) but the global numpy.random functions have different seeds and hence differnt random values \n",
    "\n",
    "# This allows you to have many instances of randomly generated numbers with differnt seeds within the same instance of python running\n",
    "\n",
    "\n",
    "## still not 100 pc sure whats going on with the numbers\n",
    "\n",
    "# https://stackoverflow.com/questions/32462273/how-to-use-random-randomstate\n",
    "'''"
   ]
  },
  {
   "cell_type": "code",
   "execution_count": 18,
   "metadata": {},
   "outputs": [
    {
     "data": {
      "text/plain": [
       "\"\\n# Create the random state rn with seed 10 \\n# example adapted from https://www.machinelearningplus.com/python/numpy-tutorial-part1-array-python-examples/\\nprint(np.random.RandomState(None))\\n\\nprint(np.random.RandomState())\\n\\nprint(np.random.RandomState(100))\\n\\n\\n\\n\\nrn = np.random.RandomState(10)\\n\\n# Create 20 random numbers between [0,1) with the rand simple random data function\\nprint(rn.rand(20), '\\n')\\nprint(rn.rand(20), '\\n')\\nprint(rn.rand(20), '\\n')\\nprint(rn.rand(20), '\\n')\\nprint(rn.rand(20), '\\n')\\n\""
      ]
     },
     "execution_count": 18,
     "metadata": {},
     "output_type": "execute_result"
    }
   ],
   "source": [
    "'''\n",
    "# Create the random state rn with seed 10 \n",
    "# example adapted from https://www.machinelearningplus.com/python/numpy-tutorial-part1-array-python-examples/\n",
    "print(np.random.RandomState(None))\n",
    "\n",
    "print(np.random.RandomState())\n",
    "\n",
    "print(np.random.RandomState(100))\n",
    "\n",
    "\n",
    "\n",
    "\n",
    "rn = np.random.RandomState(10)\n",
    "\n",
    "# Create 20 random numbers between [0,1) with the rand simple random data function\n",
    "print(rn.rand(20), '\\n')\n",
    "print(rn.rand(20), '\\n')\n",
    "print(rn.rand(20), '\\n')\n",
    "print(rn.rand(20), '\\n')\n",
    "print(rn.rand(20), '\\n')\n",
    "'''\n"
   ]
  },
  {
   "cell_type": "markdown",
   "metadata": {},
   "source": [
    "In the above example, the random numbers generated were the same each time as the state was created locally before the simple random data function was called. If the RandomState is not set each time, numpy.random will default back to the global instance and use a random seed. "
   ]
  },
  {
   "cell_type": "code",
   "execution_count": 19,
   "metadata": {},
   "outputs": [
    {
     "data": {
      "text/plain": [
       "\"\\n# Create the random state rn with seed 10 \\n# example adapted from https://www.machinelearningplus.com/python/numpy-tutorial-part1-array-python-examples/\\n\\nseed = 10\\nrn = np.random.RandomState() # this array has a RandomState created\\nprint(rn)\\n\\nrn.get_state\\n\\n\\n# Create 20 random numbers between [0,1) with the rand simple random data function\\n#print(rn.rand(20), '\\n') # This array has a random\\n# The numbers will be the same each time once rn's RandomState is created each time\\n#create the random state\\n#print(rn.rand(20), '\\n')\\n#create the random state\\n#print(rn.rand(5), '\\n')\\n\\n\""
      ]
     },
     "execution_count": 19,
     "metadata": {},
     "output_type": "execute_result"
    }
   ],
   "source": [
    "'''\n",
    "# Create the random state rn with seed 10 \n",
    "# example adapted from https://www.machinelearningplus.com/python/numpy-tutorial-part1-array-python-examples/\n",
    "\n",
    "seed = 10\n",
    "rn = np.random.RandomState() # this array has a RandomState created\n",
    "print(rn)\n",
    "\n",
    "rn.get_state\n",
    "\n",
    "\n",
    "# Create 20 random numbers between [0,1) with the rand simple random data function\n",
    "#print(rn.rand(20), '\\n') # This array has a random\n",
    "# The numbers will be the same each time once rn's RandomState is created each time\n",
    "#create the random state\n",
    "#print(rn.rand(20), '\\n')\n",
    "#create the random state\n",
    "#print(rn.rand(5), '\\n')\n",
    "\n",
    "'''"
   ]
  },
  {
   "cell_type": "markdown",
   "metadata": {},
   "source": [
    "### Seed\n",
    "\n",
    "seed([seed])takes the value selected to seed the Mersenne twister algorithm and its output is not called directly rather it uses the seed input to generate Mersenne twister.[](https://docs.scipy.org/doc/numpy/reference/routines.random.html). It does not return any value as output. If the seed value is not set with this function or the RandomState functon it defaults randomly generated seeds based on the computers internal clock time or internal random generator. Unlike RandomState which only affects the local instance of random method calls, the seed function acts on a global scale and affects all the Numpy.random functions. If the RandomState is not set, it is randomly allocated. Seed is used when the same set of random data is needed. This is used to test models particularly in machine learning. Its input is an integer or 1 dimentional array and if not specified, a random seed is used as mentioned above. [](https://docs.scipy.org/doc/numpy/reference/generated/numpy.random.seed.html#numpy.random.seed) \n",
    "\n",
    "\n",
    "----delete ----\n",
    " numpy.random.seed(seed=None)\n",
    "\n",
    "    Seed the generator.\n",
    "\n",
    "    This method is called when RandomState is initialized. It can be called again to re-seed the generator. For details, see RandomState.\n",
    "    Parameters:\t\n",
    "\n",
    "    seed : int or 1-d array_like, optional\n",
    "\n",
    "        Seed for RandomState. Must be convertible to 32 bit unsigned integers.\n",
    "        \n",
    " ----delete ----\n"
   ]
  },
  {
   "cell_type": "markdown",
   "metadata": {},
   "source": []
  },
  {
   "cell_type": "code",
   "execution_count": 20,
   "metadata": {},
   "outputs": [
    {
     "data": {
      "text/plain": [
       "'\\n#changes everytime as seed is randomly set\\nnp.random.seed()\\nprint(np.random.rand(5))\\n\\n# remains the same as seed is set\\nnp.random.seed(1)\\n\\nprint(np.random.rand(5))\\nnp.random.seed(1)\\nprint(np.random.ranf(5))\\n'"
      ]
     },
     "execution_count": 20,
     "metadata": {},
     "output_type": "execute_result"
    }
   ],
   "source": [
    "'''\n",
    "#changes everytime as seed is randomly set\n",
    "np.random.seed()\n",
    "print(np.random.rand(5))\n",
    "\n",
    "# remains the same as seed is set\n",
    "np.random.seed(1)\n",
    "\n",
    "print(np.random.rand(5))\n",
    "np.random.seed(1)\n",
    "print(np.random.ranf(5))\n",
    "'''"
   ]
  },
  {
   "cell_type": "markdown",
   "metadata": {},
   "source": [
    "Rough work\n",
    "\n",
    "Container for the Mersenne Twister pseudo-random number generator.\n",
    "\n",
    "RandomState exposes a number of methods for generating random numbers drawn from a variety of probability distributions. In addition to the distribution-specific arguments, each method takes a keyword argument size that defaults to None. If size is None, then a single value is generated and returned. If size is an integer, then a 1-D array filled with generated values is returned. If size is a tuple, then an array with that shape is filled and returned.\n",
    "\n",
    "Compatibility Guarantee A fixed seed and a fixed series of calls to ‘RandomState’ methods using the same parameters will always produce the same results up to roundoff error except when the values were incorrect. Incorrect values will be fixed and the NumPy version in which the fix was made will be noted in the relevant docstring. Extension of existing parameter ranges and the addition of new parameters is allowed as long the previous behavior remains unchanged.\n",
    "Parameters:\t\n",
    "\n",
    "seed : {None, int, array_like}, optional\n",
    "\n",
    "    Random seed used to initialize the pseudo-random number generator. Can be any integer between 0 and 2**32 - 1 inclusive, an array (or other sequence) of such integers, or None (the default). If seed is None, then RandomState will try to read data from /dev/urandom (or the Windows analogue) if available or seed from the clock otherwise.\n",
    "\n",
    "Notes\n",
    "\n",
    "The Python stdlib module “random” also contains a Mersenne Twister pseudo-random number generator with a number of methods that are similar to the ones available in RandomState. RandomState, besides being NumPy-aware, has the advantage that it provides a much larger number of probability distributions to choose from. \n",
    "\n",
    "\n",
    "\n",
    "if RandomState is not used then any random numbers generate may differ the next time they are called as they are been seeded from a difference instance of RandomState\n",
    "\n",
    "If you use the functions in the numpy.random namespace, you will not get consistent pseudorandom numbers because they are pulling from a different RandomState instance than the one you just created.\n",
    "\n",
    "\n",
    "\n",
    "\n",
    "Random generator\n",
    "RandomState([seed]) \tContainer for the Mersenne Twister pseudo-random number generator.\n",
    "seed([seed]) \tSeed the generator.\n",
    "get_state() \tReturn a tuple representing the internal state of the generator.\n",
    "set_state(state) \tSet the internal state of the generator from a tuple."
   ]
  },
  {
   "cell_type": "markdown",
   "metadata": {},
   "source": [
    "\n",
    "### get_state\n",
    "\n",
    "get_state has no input and returns a tuple representing the internal state of the generator [](https://docs.scipy.org/doc/numpy/reference/routines.random.html). It outputs 5 items namely a string 'MT19937' which denotes the (M)ersenne (T)wister 19937 generator. This algorithm as 2<sup>199937</sup> - 1 states [](https://stackoverflow.com/questions/32172054/how-can-i-retrieve-the-current-seed-of-numpys-random-number-generator); The second output item is an array of 624 unsigned 32 bit integer keys. 2<642`*`32> > 2<sup>199937</sup> - 1 hence there is enough bits to represent all the internal states; The third output is a ....; The fourth and fifth output refers to generator states for the standard normal varibale [](https://stackoverflow.com/questions/44313620/converting-to-and-from-numpys-np-random-randomstate-and-pythons-random-random). The Box-Muller transformation is used by Numpy which creates pairs of these variables, one for immediate use and one stored for later use. [](https://en.wikipedia.org/wiki/Box%E2%80%93Muller_transform). I dont know want the 10 in the third output refers to, but I speculate its something to do with position. \n",
    "\n",
    "\n",
    "e last two entries there refer to the state of the generator for standard normal deviates: NumPy uses the Box–Muller transform, which generates these deviates in pairs. So the first call to the gaussian generator produces two values, returns the first, and then stores the second away for later use. The second call then retrieves that second value. Thus we have extra state here that it's necessary to store and retrieve.\n",
    "\n",
    "\n",
    "\n",
    "postive integer \n",
    "\n",
    "\n",
    ", a specific 624 element array\n",
    "get_state() \tReturn a tuple representing the internal state of the generator.\n",
    "\n",
    " numpy.random.get_state()¶\n",
    "\n",
    "    Return a tuple representing the internal state of the generator.\n",
    "\n",
    "    For more details, see set_state.\n",
    "    Returns:\t\n",
    "\n",
    "    out : tuple(str, ndarray of 624 uints, int, int, float)\n",
    "\n",
    "        The returned tuple has the following items:\n",
    "\n",
    "            the string ‘MT19937’.\n",
    "            a 1-D array of 624 unsigned integer keys.\n",
    "            an integer pos.\n",
    "            an integer has_gauss.\n",
    "            a float cached_gaussian.\n",
    "\n"
   ]
  },
  {
   "cell_type": "code",
   "execution_count": 7,
   "metadata": {},
   "outputs": [
    {
     "name": "stdout",
     "output_type": "stream",
     "text": [
      "('MT19937', array([3453901964, 2373723135,  250581539,  700909401, 1485773868,\n",
      "       1466218400, 2636756547, 1044990143,  188242103, 2904323723,\n",
      "        576858207, 3802563912, 3779325927, 1753273925, 2626960994,\n",
      "       4261277797,   75597900,  478655005, 4223432496, 1104736454,\n",
      "       1719662431, 1168190045, 3593170995,  452788805, 3723553945,\n",
      "       2419840240,  968539368, 3179643380,  167972319, 2085827195,\n",
      "       1118697150,  243161830, 2607260931, 1652037975, 3149771421,\n",
      "       1935200288,  711452379,  295561943,  763641030, 1122019315,\n",
      "       1775422216, 3217626196, 2346927249, 1799389456, 1691543750,\n",
      "       3025815218, 1329083410, 2868906846,  820294916, 3936524206,\n",
      "       1668218063, 3757126619, 1231924152, 2721318197,  424322306,\n",
      "       3325410510, 4248572649,   12635338, 2015938227, 2271788963,\n",
      "       3845692110, 3295102926,  472142374,   80219823, 3652068924,\n",
      "        595127247,   29913307,  925636283,  550272051, 4194935086,\n",
      "       3565959440, 4109345883, 3030431747, 1252652419, 1262310795,\n",
      "        325083042,  762891828,  176123206, 1938838678, 2449901651,\n",
      "       3572865988, 2531265909,  343998816, 3738235796, 2709556143,\n",
      "       3709046192,  834053889, 1090256384, 1446037549, 3895244309,\n",
      "       1457936649, 3687311531, 4210943599,      28746,  845906517,\n",
      "       3978359737,  130457328,  756450275, 2936922338, 1424822664,\n",
      "       2146303533, 4222338239,  761021700, 2696711439, 3243336899,\n",
      "       1726567034, 3730601260, 3674992606, 3266544695, 2435030593,\n",
      "       2029904485, 2124552236,  904151770, 3070887274, 3224553761,\n",
      "       1907930925,  719249784, 3093814191, 2587421717, 2809395994,\n",
      "       1014689448, 1913911316, 3427686095, 1762329516, 1839532681,\n",
      "       3974677670,  488259320,  234605245, 3142036201, 2828444411,\n",
      "       4218612213, 2967576942, 1124379509, 2769466864, 1073480207,\n",
      "       1293510824, 3342959529,  696183386,  558696694, 2482984354,\n",
      "        666837655, 2199900407, 4261540576,   22110100,  504019239,\n",
      "       2276113867, 3563620901,  246939465, 2806524714,  204404365,\n",
      "       2878646281, 3176883201, 2392560893, 2459332041, 1979109879,\n",
      "        139771147,  709195282,  576491276, 1329573512, 3313231074,\n",
      "       3402900138, 2065612309, 1724448186, 1219927342,  227827711,\n",
      "       2578217113, 3352176205, 2351997895, 2245339990, 2031307130,\n",
      "       4219769263, 1957331803,  415019441, 2479766138, 3495451811,\n",
      "       1537186655, 2157744966, 2619806025, 3066374360,  461234060,\n",
      "       3482045753,  767227672, 1948221898, 3210364204, 1965887086,\n",
      "       1834268820, 2498971993, 3440061211,  422546054, 2110522410,\n",
      "          3089495, 2635463085, 2227052595,  522688428, 3562112964,\n",
      "       3023354043, 2238856283, 1826110717, 3631002246, 1483383156,\n",
      "       4156438854, 3698852392, 1196038249,  936736182,  315245704,\n",
      "       2457713919, 2114276051, 2634376469, 3573195132, 2864025976,\n",
      "       2661590770, 4021786187, 3075577640,  342994190, 1409684935,\n",
      "       3023188999, 3570645581, 1507796838, 2697899172,  638638005,\n",
      "       3977345132, 4082869052, 1385553833,  201434992, 3399081745,\n",
      "       3749933996, 2333153267, 2020862706, 3981298538, 1732163217,\n",
      "       4263706283, 1895038852, 2619822462, 2453475401, 3902188135,\n",
      "       4196019628,  706397251, 2403079110, 2897321161, 3375414086,\n",
      "       3334321318, 2652829450, 2347294118, 1396298570, 3159483885,\n",
      "       1505381387, 2202675402, 3297885935, 1466383446, 3648819729,\n",
      "        220012827,  143141016,  759468424,   88083161, 2706908437,\n",
      "       1220960002, 4273827467, 3781108178,  142935211,  798023537,\n",
      "       3734341540,  236134998, 2114279964, 3592035960, 1285255324,\n",
      "        886950748, 1973146549, 3986696675, 4223845552, 3512405129,\n",
      "       2164539017, 3163450751, 3893036200, 1837815426, 3792595955,\n",
      "       3723664461, 1914593758, 3993290945, 1653353330, 1993348292,\n",
      "       2675333492, 3196822407, 2402885338, 2589816353, 2625570805,\n",
      "       2716387494, 1019445517, 2481125896, 3028713982,  512996888,\n",
      "       2151421394,  763228956, 2545312901, 4166326602, 2473263104,\n",
      "       1938890960, 2748232395, 2096411134, 1356540317, 1959368691,\n",
      "        200280482, 3948524655, 2299989758, 2250257879, 1050998096,\n",
      "       1630547941, 3224874155, 1313988248,  106536082, 1926694952,\n",
      "       3274783632, 2622995062, 2758044821,  540181452,  865286598,\n",
      "       3588563951, 1635007999, 1018220588, 3302232927, 2011179680,\n",
      "       1081065990, 3180402900, 1093203898, 4279945687, 3362268564,\n",
      "       2065738911, 3012148796, 3393286649, 3900835707, 3370605295,\n",
      "       1859059304, 3563122344, 1646882480, 1222099131, 2415668908,\n",
      "       1898307099, 2679392184, 4220079329,  571204828,  212401065,\n",
      "       1261491710,  835043342,  240381991,  390620147,  942422866,\n",
      "       1621702844, 2889274211, 2414556882, 3091702874, 3243261681,\n",
      "       2168836438, 1482936074, 1115695389, 2502125545, 2008136594,\n",
      "       2015774736, 2145684882,  844602590, 3145291943, 4167429047,\n",
      "       3533669531, 3970984325, 2059373997, 1552123163, 1958704538,\n",
      "         28299982,  993202006,  583548060,  485655753, 1050043377,\n",
      "       3877209084,  669697535, 1246775609, 3279703072,  863677426,\n",
      "       2717252162,  596728617,  486995135,  174118348, 2928638541,\n",
      "       4091138166, 3722600751, 2704595060, 1478873703, 2366994189,\n",
      "       2242071832, 3798244920, 2460296353,   86733664,  747261434,\n",
      "        592076510, 3532972364,  635657800, 1455286130, 3881461058,\n",
      "       3299068214, 2949364987, 2731238801,  948285149, 2722144463,\n",
      "       2876552149, 1810703879, 3491831909, 3901400712, 1844979516,\n",
      "       4105228173, 4175563959,   11495544, 3183976031, 4271016186,\n",
      "       4173703353,  532574192,  356973839, 1144841898, 1537475386,\n",
      "       3298066904, 3641659235,  480722803, 1031591376, 3615910406,\n",
      "       3205401370, 3599806934,  568950831,  453969680, 2489277278,\n",
      "       2811270354, 3102662884,  711098465, 4247196692,  940267336,\n",
      "       2240860782,  730783883, 3608092569, 3661332975,  571950538,\n",
      "       3892263173, 1866016068, 1301595136, 1479722271,   98784533,\n",
      "       3391962402, 1046464944, 3693738865, 2488610709, 2175416067,\n",
      "       1067278375, 3220890225,  623122657, 3794958118, 2225163405,\n",
      "        288273058, 3816818185, 3686920900, 2704084619, 1085793185,\n",
      "       2388789793, 1213586118, 2249739094, 1898292949,  394931452,\n",
      "       3467699926, 2973111515,  429211547, 3030598028, 3246965009,\n",
      "       1781342904, 2610039240, 1580155646,  236952293, 1054067304,\n",
      "       1866828701, 2264367186, 4001211826, 1318442059, 1700987875,\n",
      "       2305057300, 3552724666, 1859484188, 2688660367,  923795296,\n",
      "       1217430179,  576826378, 4197552009,  263200960, 3327288189,\n",
      "       4054265379, 2932377384, 3477898573,  487311960,  104730337,\n",
      "       2099386365,  951844796, 3377305180,   72576446, 1556114657,\n",
      "       2104842341, 2236429432,  828169367, 1219470371, 1272200151,\n",
      "       1749857123, 2060205693, 3907398778, 4248977140,  592853516,\n",
      "        269011349, 1151387980, 2088390341, 3146693904, 1343058029,\n",
      "       2262104340, 3334650455, 2350900552, 4055801963, 2284975713,\n",
      "       3142266692,   69881725, 2793853112, 4211951793, 1099183521,\n",
      "        288814862, 1889853348, 3735853114,  340134072, 4115872679,\n",
      "       3839210644,   98216565, 1592226309, 1876973309,    2405524,\n",
      "       2447623934,  384760698, 2685937237,  609198639, 3253291370,\n",
      "       2005256084, 3840242855,   92062843, 3047025730, 4031152751,\n",
      "       3708794373,  850255770, 3490891576, 3920915093, 3227138844,\n",
      "       2877041199, 1334819858,  622488881,  386276161, 1391878433,\n",
      "        744511863,  778134031, 2844947634, 3263621804, 3308700460,\n",
      "       2519734185, 1526372591, 3489457916, 4194181797,  242082680,\n",
      "         45339929, 1287988640,  127929210, 2303435329,  768407416,\n",
      "       2792053266,  821975329, 2791996644, 2374209995,  423615056,\n",
      "       2551893375, 3569763267, 2906972485,  104543576, 2273197976,\n",
      "       1301639339, 2948937092,  606731247, 2479320836, 4288312755,\n",
      "       4161083332, 2945079677,  323183221, 2452932334,  252228465,\n",
      "       2424179769, 1136062151,  392388558, 3865804333,    5846451,\n",
      "       1070348714, 1326924999, 3575044191,  228521970, 3431632090,\n",
      "       1424797681, 1455435573, 2490854505, 3308095952, 1049657606,\n",
      "       1547583445, 1702211406, 1917058730, 1970818074, 2490406269,\n",
      "       1733608036,  146997866,  294853029, 3767222277, 3150381999,\n",
      "       3376878008, 3328034880, 3065998866, 3154963570, 1393520488,\n",
      "       3834841083, 3123040778, 2355716760, 2962390270, 2667630632,\n",
      "        425157023, 2858452728, 1257083416, 2300875453], dtype=uint32), 20, 0, 0.0)\n",
      "20\n",
      "0\n",
      "0.0\n"
     ]
    }
   ],
   "source": [
    "#print(np.random.get_state())\n",
    "\n",
    "# adapted from https://stackoverflow.com/questions/45190558/direct-way-to-access-numpy-randomstate-object/45190832#45190832\n",
    "\n",
    "state = np.random.get_state()\n",
    "np.random.rand()\n",
    "print(state)\n",
    "\n",
    "#print(np.random.set_state(state))\n",
    "\n",
    "np.random.rand()\n",
    "\n",
    "#print(state[0]) # the algorithm used MT (2**19937) - 1 \n",
    "#print(state[1]) # used in representing the internal states\n",
    "print(state[2]) # ??? is this the state number?? it goes up in 4's every time its executed some sort of counter - restart python and see if it resets\n",
    "# it seems to have gone back to 10 - comment out the other random state calls above and see if it goes back to 2\n",
    "# is it a number that counts the number of times the random state is called in a particular session? no that didn't do anything - turn off and one jp and see if that does something\n",
    "print(state[3]) # used in the box muller transformation of the MT\n",
    "print(state[4]) # used in the box muller transformation of the MT"
   ]
  },
  {
   "cell_type": "markdown",
   "metadata": {},
   "source": [
    "\n",
    "# Reference\n",
    "\n",
    "Idris, I. (2015). NumPy: Beginner's Guide - Third Edition. 3rd ed. BIRMINGHAM - MUMBAI: Packt Publishing. \n",
    "\n",
    "McKinney, W. (2018). Python for data analysis. Beijing [i 4 pozostałe]: O'Reilly.\n",
    "\n",
    "Docs.scipy.org. (2018). Random sampling (numpy.random) — NumPy v1.15 Manual. [online] Available at: https://docs.scipy.org/doc/numpy-1.15.1/reference/routines.random.html [Accessed 20 Oct. 2018].\n",
    "\n",
    "Vo. T.H, P., Czygan, M., Kumar, A. and Raman, K. (2017). Python. Birmingham: Packt Publishing.\n",
    "\n",
    "McLeod, S. (2018). Sampling Methods | Simply Psychology. [online] Simplypsychology.org. Available at: https://www.simplypsychology.org/sampling.html [Accessed 20 Oct. 2018].\n",
    "\n",
    "En.wikipedia.org. (2018). Simple random sample. [online] Available at: https://en.wikipedia.org/wiki/Simple_random_sample [Accessed 20 Oct. 2018].\n",
    "\n",
    "Mehta, H. (2015). Mastering Python scientific computing. 1st ed. Birmingham: Packt Publishing."
   ]
  }
 ],
 "metadata": {
  "kernelspec": {
   "display_name": "Python 3",
   "language": "python",
   "name": "python3"
  },
  "language_info": {
   "codemirror_mode": {
    "name": "ipython",
    "version": 3
   },
   "file_extension": ".py",
   "mimetype": "text/x-python",
   "name": "python",
   "nbconvert_exporter": "python",
   "pygments_lexer": "ipython3",
   "version": "3.6.6"
  }
 },
 "nbformat": 4,
 "nbformat_minor": 2
}
