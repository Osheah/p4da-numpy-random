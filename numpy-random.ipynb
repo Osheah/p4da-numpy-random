{
 "cells": [
  {
   "cell_type": "markdown",
   "metadata": {},
   "source": [
    "# The numpy.random package"
   ]
  },
  {
   "cell_type": "markdown",
   "metadata": {},
   "source": [
    "An exploratory  investigation in to the numpy random package. The documentation can be found on scipy [here](https://docs.scipy.org/doc/numpy-1.15.0/reference/routines.random.html)"
   ]
  },
  {
   "cell_type": "markdown",
   "metadata": {},
   "source": [
    "## The overall purpose of the package"
   ]
  },
  {
   "cell_type": "markdown",
   "metadata": {},
   "source": [
    "Random numbers have many uses. Marketing, psychology, clinical research and STEM disciplines, all use random numbers to some degree.  \n",
    "\n",
    "Often, information about a specific population or groups is sought, such as people aged between 20 and 30 shopping habits.  These groups form a target population. Frequently the target population is too large, to costly to measure, if not impossible, so a sample is drawn from the target population. Sampling involves taking a subset of a given population and making generalisations about the general target population. It is vital therefore that the sample shares the same characteristics of its target population. Picking samples from a population is prone to biases. For example, if asked to pick a number at random between 1 and 10 there will be far more 3's and 7's than would be expected if the choice was truly random [ref](https://micro.magnet.fsu.edu/creatures/pages/random.html).  \n",
    "\n",
    "One way to reduce this sampling bias is to use random sampling. Random sampling means that every item in the target population as an equal chance of being selected. In the example above, the target population would be the numbers between 1 and 10 and random sampling means that all numbers in this interval have an equal probability in being picked. The target population may follow a probability distribution.  \n",
    "\n",
    "\n",
    "Sample data is used to infer something about its target population so it’s vital that sample should be representative of it as it will be used to make generalisations outside of the sample. For example, throwing a fair 6-sided dice has a population 1, 2, 3, 4, 5 and 6, each with the same chance of coming up whereas the heights of people would fall in a bell-shaped curve, most values lying within 3 standard deviations of the average height and very few people being exceptionally tall or exceptionally short.  \n",
    "\n",
    "Computing algorithms are deterministic and cannot generate true randomness. Rather, pseudo random numbers are used (Idris, 2015). To all appearances these look random but if a key piece of information is known the whole random sequence can be predicted. This is not necessarily a bad thing. A statistical model may need the same randomness to test out other parameters. In cryptography however less, deterministic randomness would be appropriate. \n",
    "\n",
    "Python has an in-built random package. NumPy extends this by adding extra functionality. Both base their random generator on the Mersenne Twister algorithm [ref](https://en.wikipedia.org/ wiki/Mersenne_Twister). This is suitable to use in many areas that require random sampling [ref](https://stackoverflow.com/questions/7029993/differences-between-numpy-random-and-random-random-in-python). In order to generate a random sample, NumPy.random uses a 'seed' value in the Mersenne Twister. The random sequence propagates from this seed. For example, if the seed was 20 and the algorithm was every odd number in sequence after 20 then the generated (non random)sequence would be 21, 23, 25 etc. If no seed is specified then NumPy.random automatically selects random seed using either the computers random number generator or the current exact time on the systems clock (Vo. T.H et al., 2017).  \n",
    "\n",
    "Numpy.random can be subdivided into 4 main routines. \n",
    "\n",
    "- simple random data\n",
    "- permutations\n",
    "- distributions\n",
    "- random generator\n",
    "\n",
    "Simple random data section consist of several functions that generate simple random data.Inputs can be size or range. Permutation functions randomly shuffle or permutes a given sequence. Distribution functions allow specific population distributions or ranges to be sampled. This may require statistical measures such as mean and standard deviation. Numpy.random can generate samples from continuous and descrite distributins (Idris, 2015). Lastly, the random generator section contains functions that allow seeds to be specified (Mehta, 2015). This is useful in cases where the exact same sequence of random data is required. Each of these sections will be explored.         \n"
   ]
  },
  {
   "cell_type": "markdown",
   "metadata": {},
   "source": [
    "## The use of the 'Simple random data' and 'Permutations' function"
   ]
  },
  {
   "cell_type": "markdown",
   "metadata": {},
   "source": [
    "- ### Simple Random Data"
   ]
  },
  {
   "cell_type": "markdown",
   "metadata": {},
   "source": [
    "There are 10 simple random data functions in Numpy.random namely,rand, randn, randint, random_integers, random_sample, random, randf, sample, choice and bytes [ref](https://docs.scipy.org/doc/numpy-1.15.1/reference/routines.random.html). Of these random, ranf and sample [](https://stackoverflow.com/questions/18829185/difference-between-various-numpy-random-functions)are aliases of random_sample, with similar inputs and outputs.      "
   ]
  },
  {
   "cell_type": "code",
   "execution_count": 1,
   "metadata": {},
   "outputs": [],
   "source": [
    "#Import packages numpy and matplotlib.pyplot\n",
    "import numpy as np\n",
    "import random\n",
    "import matplotlib.pyplot as plt\n",
    "# display pyplot in jupyter notebook\n",
    "%matplotlib inline"
   ]
  },
  {
   "cell_type": "markdown",
   "metadata": {},
   "source": [
    "Python has the built in random function for generating simple random data."
   ]
  },
  {
   "cell_type": "code",
   "execution_count": 2,
   "metadata": {},
   "outputs": [
    {
     "name": "stdout",
     "output_type": "stream",
     "text": [
      "Simple random data from python's inbuilt random function \n",
      "\n",
      "0.6189643640246479 \n",
      "\n",
      "Simple random data from python's inbuilt random function uniformly distriubted between 0 and 1 \n",
      "\n",
      "0.6374154798761937\n"
     ]
    }
   ],
   "source": [
    "r1 = random.random()\n",
    "print(\"Simple random data from python's inbuilt random function\", '\\n')\n",
    "print(r1, '\\n')\n",
    "print(\"Simple random data from python's inbuilt random function uniformly distriubted between 0 and 1\", '\\n')\n",
    "r2 = random.uniform(0,1)\n",
    "print(r2)\n"
   ]
  },
  {
   "cell_type": "markdown",
   "metadata": {},
   "source": [
    "numpy.random extends this, adding extra functions and methods. \n",
    "\n",
    "\n",
    "|Simple Random Data| Input                       | Output                                                           |\n",
    "| -----------------|:------------------------    | :--------------------------------------------------------------- |\n",
    "| rand             | d0, d1, …, dn               | Random values in a given shape                                   |               \n",
    "| randn            | d0, d1, …, dn               | sample (or samples) from the “standard normal” distribution      |              \n",
    "| randint          | low`[, high, size, dtype]`  | Return random integers from low (inclusive) to high (exclusive)  |            \n",
    "| random_integers  | low`[, high, size])` \t     | Random integers of type np.int between low and high, inclusive.  |\n",
    "| random_sample    | `[size]`                    | Random floats in the half-open interval `[0.0, 1.0)`             |               \n",
    "| random           | `[size]`                    | Random floats in the half-open interval `[0.0, 1.0)`             |               \n",
    "| ranf             | `[size]`                    | Random floats in the half-open interval `[0.0, 1.0)`             |               \n",
    "| sample           | `[size]`                    | Random floats in the half-open interval `[0.0, 1.0)`             |               \n",
    "| choice           | `a[, size, replace, p]`     | Generates a random sample from a given 1-D array                 |                     \n",
    "| bytes            | length                      | Random bytes                                                     |      \n",
    "\n",
    "\n"
   ]
  },
  {
   "cell_type": "markdown",
   "metadata": {},
   "source": [
    "### rand\n",
    "rand(d0, d1, ..., dn) outputs random values in a given shape. Shape refers to the arrangment of the arrays. eg. a input of  (1)is a single 1x1 matrix array, an input of (2,3) is  a 2x3 matrix array (number of rows x columns) while an input of (2,3,4) is 2 arrays consisting each consisting of 3x4 matrix arrays. \n",
    "rand is a convenience or helper function. It creates random values in a given shape [ref](https://docs.scipy.org/doc/numpy-1.15.1/reference/generated/numpy.random.rand.html#numpy.random.rand). Inputs are non negative integers, although 0 returns an empty array.  If no input is given a single number is outputed. Output arrays come from the uniform distribution (i.e. each number has the same probability of being selected) between 0 inclusive and 1 exclusive `[0, 1)` \n",
    "\n"
   ]
  },
  {
   "cell_type": "code",
   "execution_count": 3,
   "metadata": {},
   "outputs": [
    {
     "name": "stdout",
     "output_type": "stream",
     "text": [
      "no input - output is a random number in the interval [0,1)\n"
     ]
    },
    {
     "data": {
      "text/plain": [
       "0.06427725118128436"
      ]
     },
     "execution_count": 3,
     "metadata": {},
     "output_type": "execute_result"
    }
   ],
   "source": [
    "# no input - output is a random number in the interval [0,1)\n",
    "print (\"no input - output is a random number in the interval [0,1)\")\n",
    "np.random.rand()\n"
   ]
  },
  {
   "cell_type": "code",
   "execution_count": 4,
   "metadata": {},
   "outputs": [
    {
     "data": {
      "text/plain": [
       "array([ 0.44764583])"
      ]
     },
     "execution_count": 4,
     "metadata": {},
     "output_type": "execute_result"
    }
   ],
   "source": [
    "# input is size 1, output is a random number in an array with 1 element from the interval [0, 1) \n",
    "np.random.rand(1)"
   ]
  },
  {
   "cell_type": "code",
   "execution_count": 5,
   "metadata": {},
   "outputs": [
    {
     "data": {
      "text/plain": [
       "array([ 0.67719196,  0.06814099,  0.60606584,  0.79424724,  0.13736917])"
      ]
     },
     "execution_count": 5,
     "metadata": {},
     "output_type": "execute_result"
    }
   ],
   "source": [
    "# input is size 5, output is 1 array containing 5 random numbers from the interval [0,1)\n",
    "np.random.rand(5)"
   ]
  },
  {
   "cell_type": "code",
   "execution_count": 6,
   "metadata": {
    "scrolled": false
   },
   "outputs": [
    {
     "data": {
      "text/plain": [
       "array([[[ 0.98115144,  0.87047021,  0.19134747,  0.98111343],\n",
       "        [ 0.1950826 ,  0.28261221,  0.59291559,  0.63174349],\n",
       "        [ 0.11258874,  0.27840986,  0.1807567 ,  0.0881279 ]],\n",
       "\n",
       "       [[ 0.2760993 ,  0.52485306,  0.50074759,  0.11826968],\n",
       "        [ 0.65485695,  0.18096552,  0.66671329,  0.88503066],\n",
       "        [ 0.4025696 ,  0.85980778,  0.68221534,  0.1558539 ]]])"
      ]
     },
     "execution_count": 6,
     "metadata": {},
     "output_type": "execute_result"
    }
   ],
   "source": [
    "# input has 3 size dimentions of 2, 3 and 4, output is 2 3x4 matrices filled with random numbers from the interval [0,1)\n",
    "np.random.rand(2, 3, 4)"
   ]
  },
  {
   "cell_type": "code",
   "execution_count": 7,
   "metadata": {},
   "outputs": [
    {
     "data": {
      "text/plain": [
       "array([[[[ 0.72472613,  0.77730695,  0.94189867,  0.26119146,  0.80980194],\n",
       "         [ 0.88474171,  0.59202809,  0.25570364,  0.24479573,  0.53109699],\n",
       "         [ 0.55858049,  0.7674153 ,  0.90073   ,  0.1722519 ,  0.58882861],\n",
       "         [ 0.31414746,  0.975295  ,  0.76063328,  0.39133255,  0.20402851]],\n",
       "\n",
       "        [[ 0.649225  ,  0.65993408,  0.06616342,  0.24887483,  0.98639475],\n",
       "         [ 0.24472329,  0.5638942 ,  0.29802686,  0.04323204,  0.41708665],\n",
       "         [ 0.25931635,  0.76081387,  0.69729073,  0.99458695,  0.97939453],\n",
       "         [ 0.89059198,  0.54270102,  0.33514313,  0.8595996 ,  0.35981102]],\n",
       "\n",
       "        [[ 0.39652462,  0.73594747,  0.95322126,  0.24311605,  0.34328082],\n",
       "         [ 0.14694062,  0.55210016,  0.99801892,  0.40046702,  0.12180925],\n",
       "         [ 0.88835289,  0.5300996 ,  0.84104016,  0.6325918 ,  0.01024166],\n",
       "         [ 0.08294722,  0.64450085,  0.64214756,  0.18991066,  0.72334674]]],\n",
       "\n",
       "\n",
       "       [[[ 0.58083994,  0.42292936,  0.68925159,  0.79585194,  0.83497183],\n",
       "         [ 0.79868535,  0.66266522,  0.59486755,  0.07599522,  0.75484432],\n",
       "         [ 0.88584365,  0.94732479,  0.73154543,  0.84497405,  0.37049342],\n",
       "         [ 0.22317836,  0.04932047,  0.21123493,  0.91128012,  0.35368375]],\n",
       "\n",
       "        [[ 0.76075183,  0.63825354,  0.34516831,  0.13130964,  0.88260542],\n",
       "         [ 0.52136283,  0.7270897 ,  0.08366085,  0.10059988,  0.03617926],\n",
       "         [ 0.8353966 ,  0.65700899,  0.9064407 ,  0.11315642,  0.05095598],\n",
       "         [ 0.56704641,  0.88307517,  0.06147403,  0.04550226,  0.44546807]],\n",
       "\n",
       "        [[ 0.31602069,  0.86672513,  0.16745008,  0.8782071 ,  0.19969998],\n",
       "         [ 0.09500791,  0.93648701,  0.76483428,  0.38247736,  0.59889956],\n",
       "         [ 0.49929484,  0.13606546,  0.82530333,  0.36017184,  0.96356597],\n",
       "         [ 0.70059045,  0.90342164,  0.6041874 ,  0.34628063,  0.30512611]]]])"
      ]
     },
     "execution_count": 7,
     "metadata": {},
     "output_type": "execute_result"
    }
   ],
   "source": [
    "# input as 4 size dimentions of 2, 3, 4 and 5, output is 2 groups of 3 4x5 matrices filled with random numbers from the interval [0,1)\n",
    "np.random.rand(2,3,4,5)"
   ]
  },
  {
   "cell_type": "markdown",
   "metadata": {},
   "source": [
    "### randn\n",
    "\n",
    "randn((d0, d1, ..., dn) outputs a sample(s) from the “standard normal” distribution N(0,1).\n",
    "Randn is similar to rand but takes its random numbers from the standard normal distrubution with mean 0 and standard deviation 1 N(0,1)[ref](https://docs.scipy.org/doc/numpy-1.15.1/reference/generated/numpy.random.randn.html#numpy.random.randn). It is similar to the standard_normal distrubution in NumPy.random however standard_normal can have tuples as arguments. Randn's arguements must be positive integers or integer like (such as int(1.02)). Like rand, it is a convenience function with inputs for sizes. If no input given a single random number (float) from the standard normal distribution is outputted. Outputs take the form of n dimentional arrays in the shape specifed by the inputs. If a non standard normal distribution N(m,sd<sup>2</sup>) is required, the transformation m + sd * np.random.rand() can be applied. "
   ]
  },
  {
   "cell_type": "code",
   "execution_count": 8,
   "metadata": {},
   "outputs": [
    {
     "data": {
      "text/plain": [
       "-0.46921499292557095"
      ]
     },
     "execution_count": 8,
     "metadata": {},
     "output_type": "execute_result"
    }
   ],
   "source": [
    "# no input given  - single random float returned\n",
    "np.random.randn()\n"
   ]
  },
  {
   "cell_type": "markdown",
   "metadata": {},
   "source": [
    "note that this number can be negative with the majority of the datapoints normally distributed within `[-3,3]`\n"
   ]
  },
  {
   "cell_type": "code",
   "execution_count": 9,
   "metadata": {},
   "outputs": [
    {
     "name": "stdout",
     "output_type": "stream",
     "text": [
      "[-0.25095376] \n",
      "\n",
      "[ 0.83318327 -0.56947928  2.11436582 -1.42237775  1.28943682] \n",
      "\n",
      "[[[-1.46607666 -0.41291022  1.35054518 -0.07094804]\n",
      "  [ 0.49425625  0.31615567  0.04228335  0.87301858]\n",
      "  [ 0.64021246 -0.06915364 -0.84876281 -1.25561062]]\n",
      "\n",
      " [[ 0.68964726 -1.22205581  0.71146797  1.80606342]\n",
      "  [ 0.24937784  0.28833778 -0.07695092  1.07113885]\n",
      "  [ 0.18016425 -0.34234842  0.74102757  0.31630005]]] \n",
      "\n"
     ]
    },
    {
     "data": {
      "text/plain": [
       "array([[ 4.03965342, -3.11875351,  6.16608087],\n",
       "       [-0.42360671,  4.82368548,  7.07569063]])"
      ]
     },
     "execution_count": 9,
     "metadata": {},
     "output_type": "execute_result"
    }
   ],
   "source": [
    "# 1 input given  - single random array from N(0,1)\n",
    "print(np.random.randn(1),'\\n')\n",
    "\n",
    "# outputs a 1x1 array of 5 random floats from N(0,1)\n",
    "print(np.random.randn(5),'\\n')\n",
    "\n",
    "# outputs 2 arrays of 3x4 matrices filled with random numbers from N(0,1)\n",
    "print(np.random.randn(2,3,4),'\\n')\n",
    "\n",
    "# outputs a 2x3 matrix with filled with random numbers from N(2, 9)\n",
    "2+3*np.random.randn(2,3)"
   ]
  },
  {
   "cell_type": "markdown",
   "metadata": {},
   "source": [
    "### randint\n",
    "\n",
    "randint((low`[, high, size, dtype]`))outputs random integers from low (inclusive) to high (exclusive). \n",
    "randint is differs from the two above functions in that it returns integers within a specifeid interval low (inclusive) to high (exclusive). Integers are returned from the discrete uniform distribution [ref](). Whereas rand returned numbers from the continous uniform distribution between `[0,1)`. Randint expands this interval by returing values from `[low,high)`. If no arguments are given an error is returned. If one argument is given, say h then this is assumed to be the higher bound and the lower bound is one less `[h-1, h)`.  Size can also be specified e.g. if 10 random numbers are required between `[0, 5)` the arguments would be (0,5,10). Data type can also be specified, the default is np.int. dTypes relate to the way memory blocks are interpreted [ref](https://stackoverflow.com/questions/9457037/what-does-dtype-do).    "
   ]
  },
  {
   "cell_type": "code",
   "execution_count": 10,
   "metadata": {},
   "outputs": [
    {
     "name": "stdout",
     "output_type": "stream",
     "text": [
      "0 \n",
      "\n",
      "1 \n",
      "\n",
      "[3 1 1 2 1 0 0 1 0 3] \n",
      "\n",
      "[0 3 0 2 1 4 4 2 0 0] \n",
      "\n"
     ]
    }
   ],
   "source": [
    "# returns an error - uncomment the line below to veiw the error\n",
    "# print(np.random.randint(), '\\n')\n",
    "# gives a 'random' integer between 0 inclusive and 1 exclusive (there is only one integer in this interval, 0) \n",
    "print(np.random.randint(1), '\\n')\n",
    "\n",
    "# gives a random integer between [-1, 3)\n",
    "print(np.random.randint(-1, 3), '\\n')\n",
    "\n",
    "# Size can be specified by the third argument\n",
    "print(np.random.randint(0, 5, 10), '\\n')\n",
    "\n",
    "# Datatype can also be specified \n",
    "print(np.random.randint(0, 5, 10, dtype=\"int32\"), '\\n')\n"
   ]
  },
  {
   "cell_type": "markdown",
   "metadata": {},
   "source": [
    "### random_integers\n",
    "\n",
    "random_integers(low`[, high, size]`) outputs random integers of type np.int between low and high, inclusive. Size refers to the number of random values required from the specified interval. This function is no longer maintained. \n",
    "\n",
    "Random_integers is very similar to randint, both return integers from a discrete uniform distribution. However random_integers is inclusive of the higher range value `[low, high]`. This function is deprecated i.e replaced, in favour of randint. Thus when called by python a warning will display, although the function will still work. Both randint and random_integers can use the transformation  a + (b - a) * (np.random.random_integers(N) - 1) / (N - 1) to give N evenly spaced integers between a and b but random_integers includes the b value whereas randind does not. \n",
    "\n"
   ]
  },
  {
   "cell_type": "code",
   "execution_count": 11,
   "metadata": {},
   "outputs": [
    {
     "name": "stdout",
     "output_type": "stream",
     "text": [
      "0 \n",
      "\n",
      "3.88888888889 \n",
      "\n",
      "3.4444444444444446\n"
     ]
    },
    {
     "name": "stderr",
     "output_type": "stream",
     "text": [
      "C:\\ProgramData\\Anaconda3\\lib\\site-packages\\ipykernel_launcher.py:2: DeprecationWarning: This function is deprecated. Please call randint(0, 1 + 1) instead\n",
      "  \n",
      "C:\\ProgramData\\Anaconda3\\lib\\site-packages\\ipykernel_launcher.py:6: DeprecationWarning: This function is deprecated. Please call randint(1, 10 + 1) instead\n",
      "  \n"
     ]
    }
   ],
   "source": [
    "# This will output 1's or 0's randomly\n",
    "print(np.random.random_integers(0,1), '\\n')\n",
    "\n",
    "\n",
    "a,b,N=3,5,10\n",
    "print(a + (b - a) * (np.random.random_integers(N) - 1) / (N - 1), '\\n')\n",
    "print(a + (b - a) * (np.random.randint(N) - 1) / (N - 1))"
   ]
  },
  {
   "cell_type": "markdown",
   "metadata": {},
   "source": [
    "### random_sample (random, ranf and sample)\n",
    "\n",
    "random_sample(`[size]`) outputs random floats in the half-open interval `[0.0, 1.0)` [ref](https://docs.scipy.org/doc/numpy-1.15.1/reference/generated/numpy.random.random_sample.html#numpy.random.random_sample).\n",
    "Random_sample and its aliases [ref](https://stackoverflow.com/questions/18829185/difference-between-various-numpy-random-functions) random [ref](https://docs.scipy.org/doc/numpy-1.15.1/reference/generated/numpy.random.random.html#numpy.random.random), ranf [ref](https://docs.scipy.org/doc/numpy-1.15.1/reference/generated/numpy.random.ranf.html#numpy.random.ranf) and sample [ref](https://docs.scipy.org/doc/numpy-1.15.1/reference/generated/numpy.random.sample.html#numpy.random.sample) . unlike randint which returned random values from the descrite uniform distribution `[low, high)` and rand which populates arrays with random values in a given shape, random_sample returns random floats from the continous uniform distrubtion `[0,1)`. It's input is size i.e. the number of random values required. To expand values outside of U`[0,1)` to cover U`[a, b)` the transformation a +  (b - a)`*` random_sample() can be used. the size can be an integer or tuples of integers (a,b,c) \n"
   ]
  },
  {
   "cell_type": "code",
   "execution_count": 12,
   "metadata": {},
   "outputs": [
    {
     "name": "stdout",
     "output_type": "stream",
     "text": [
      "0.45910140437086144 \n",
      "\n"
     ]
    },
    {
     "data": {
      "image/png": "[encoded data removed]",
      "text/plain": [
       "<matplotlib.figure.Figure at 0x1e7ea2674e0>"
      ]
     },
     "metadata": {
      "needs_background": "light"
     },
     "output_type": "display_data"
    },
    {
     "name": "stdout",
     "output_type": "stream",
     "text": [
      "[[[ 0.65410963  0.72002656  0.81003395  0.7379062 ]\n",
      "  [ 0.64218132  0.84592642  0.13763292  0.21121455]\n",
      "  [ 0.26333684  0.68371694  0.45502998  0.30398488]]\n",
      "\n",
      " [[ 0.28966244  0.31862494  0.33202501  0.83898233]\n",
      "  [ 0.66862098  0.34374908  0.87125347  0.48875004]\n",
      "  [ 0.09319047  0.4973292   0.93973951  0.44347207]]] \n",
      "\n",
      "[ 2.90080651  2.97431375  2.85453642  2.85188269  2.84120549  2.9937806\n",
      "  2.81062121  2.79529399  2.88863856  2.97490819] \n",
      "\n",
      "[ 2.90108421  2.92539011  2.83025569  2.80281216  2.8576357   2.99578844\n",
      "  2.86162054  2.83633027  2.82375808  2.86941563] \n",
      "\n",
      "[ 2.86483591  2.88384242  2.92237421  2.91893207  2.94510646  2.85985249\n",
      "  2.80695184  2.89615983  2.88101861  2.85542768] \n",
      "\n",
      "[ 2.9754948   2.89972234  2.79555711  2.89602002  2.9765553   2.80943545\n",
      "  2.94603122  2.7958706   2.9921425   2.83675805] \n",
      "\n"
     ]
    }
   ],
   "source": [
    "# when no arguments are given a single random float between [0,1) is given\n",
    "print(np.random.random_sample(), '\\n')\n",
    "\n",
    "# when size is 50000, an array with 50000 random floats between [0,1) is given\n",
    "x =np.random.random_sample(50000)\n",
    "\n",
    "# This shows the continous uniform distribution over {0,1)\n",
    "plt.hist(x)\n",
    "plt.show()\n",
    "\n",
    "# arguments can be tuples\n",
    "print(np.random.random_sample((2,3,4)), '\\n')\n",
    "\n",
    "# To change the interval U[0, 1) from which the numbers are selected from use the transformation a + (b - a)* random_sample() in U[a,b)\n",
    "# This outputs 10 random floats between [3, 5)}\n",
    "a,b,N=3,5,10\n",
    "print(a + (b - a) * (np.random.random_sample(N) - 1) / (N - 1), '\\n')\n",
    "print(a + (b - a) * (np.random.random(N) - 1) / (N - 1), '\\n')\n",
    "print(a + (b - a) * (np.random.ranf(N) - 1) / (N - 1), '\\n')\n",
    "print(a + (b - a) * (np.random.sample(N) - 1) / (N - 1), '\\n')"
   ]
  },
  {
   "cell_type": "markdown",
   "metadata": {},
   "source": [
    "seems to generate one point at 0.5"
   ]
  },
  {
   "cell_type": "markdown",
   "metadata": {},
   "source": [
    "### choice\n",
    "\n",
    "choice(a`[, size, replace, p]`) outputs a random sample from a given 1-D array [ref](https://docs.scipy.org/doc/numpy-1.15.1/reference/routines.random.html). its input is a 1 dimentional array or integer. The number of random values required can be specified by size. The difference between this function and the ones above is that here the population is specified in an array and the function returns one of these choices randomly. e.g. an input of all the harry potter book titles would randomly return one book from this population. The probability p of elements in the 1 d array can be specified (probabilities total to 1). If p is not provided then p is assumed to be uniformly distruibuted across the array. Size refers to the number of random elements from the population that are returned. There is also the option to replace which defaults to true. This refers to whether or not the random choice element is returned to the sample population and is used when unique values from the population are needed [ref](https://stackoverflow.com/questions/40689152/what-does-replacement-mean-in-numpy-random-choice). \n",
    "\n"
   ]
  },
  {
   "cell_type": "markdown",
   "metadata": {},
   "source": [
    "seems to generate 10 datapoints 3 between 0.1 and 0.2, 2 between 03 and 0.4 and 0.7 and 0.8 and 1 in each of 0.5 and 0.6 intervals."
   ]
  },
  {
   "cell_type": "code",
   "execution_count": 13,
   "metadata": {},
   "outputs": [
    {
     "name": "stdout",
     "output_type": "stream",
     "text": [
      "['Harry Potter and the Chamber of Secrets'\n",
      " 'Harry Potter and the Philosopher’s Stone'\n",
      " 'Harry Potter and the Goblet of Fire'\n",
      " 'Harry Potter and the Deathly Hallows'\n",
      " 'Harry Potter and the Order of the Phoenix'\n",
      " 'Harry Potter and the Half-Blood Prince'] \n",
      "\n",
      "['Harry Potter and the Philosopher’s Stone'\n",
      " 'Harry Potter and the Philosopher’s Stone'\n",
      " 'Harry Potter and the Prisoner of Azkaban'\n",
      " 'Harry Potter and the Chamber of Secrets'\n",
      " 'Harry Potter and the Chamber of Secrets'\n",
      " 'Harry Potter and the Half-Blood Prince'] \n",
      "\n",
      "['Harry Potter and the Chamber of Secrets'\n",
      " 'Harry Potter and the Chamber of Secrets'\n",
      " 'Harry Potter and the Philosopher’s Stone'\n",
      " 'Harry Potter and the Chamber of Secrets'\n",
      " 'Harry Potter and the Chamber of Secrets'\n",
      " 'Harry Potter and the Deathly Hallows'] \n",
      "\n"
     ]
    }
   ],
   "source": [
    "hp = ['Harry Potter and the Philosopher’s Stone', 'Harry Potter and the Chamber of Secrets', 'Harry Potter and the Prisoner of Azkaban', 'Harry Potter and the Goblet of Fire', 'Harry Potter and the Order of the Phoenix', 'Harry Potter and the Half-Blood Prince', 'Harry Potter and the Deathly Hallows']\n",
    "print(np.random.choice(hp, 6, replace=False), '\\n')# only unique books are returned\n",
    "print(np.random.choice(hp, 6), '\\n')#  books can be repeatedly returned\n",
    "print(np.random.choice(hp, 6, p=[0.2,0.5,0.1,0.1,0.015,0.03,0.055], replace=True), '\\n')# Chamber of secrets more likely to be selected \n"
   ]
  },
  {
   "cell_type": "markdown",
   "metadata": {},
   "source": [
    "### Bytes\n",
    "\n",
    "bytes(length)outputs random bytes of the specified length size [Ref](https://docs.scipy.org/doc/numpy-1.15.1/reference/routines.random.html). \n",
    "\n",
    "bytes takes non negative integer inputs and outputs randomly byte strings. outputs are prefixed with b and the bytes are enclosed within apostrophies or quotation marks, hence outputs are strings of specified length [Ref](https://docs.scipy.org/doc/numpy-1.15.1/reference/generated/numpy.random.bytes.html#numpy.random.bytes). The b at the start indicates that it is a byte literal [why the b at the front](https://stackoverflow.com/questions/6269765/what-does-the-b-character-do-in-front-of-a-string-literal)\n",
    "\n"
   ]
  },
  {
   "cell_type": "code",
   "execution_count": 14,
   "metadata": {},
   "outputs": [
    {
     "name": "stdout",
     "output_type": "stream",
     "text": [
      "b'' \n",
      "\n",
      "b'#' \n",
      "\n",
      "b'\\x04\\xf9:\\xa9\\xa3\\xae\\xf9\\xa9\\x9et' \n",
      "\n"
     ]
    }
   ],
   "source": [
    "print(np.random.bytes(0),'\\n')\n",
    "print(np.random.bytes(1),'\\n')\n",
    "print(np.random.bytes(10),'\\n')"
   ]
  },
  {
   "cell_type": "markdown",
   "metadata": {},
   "source": [
    "Hence Simple Random Data contains functions for generating random elements consisting of integers, arrays, sizes and shapes from continous or discrete uniform populations or normally distributed populations that may or may not be probabilistically weighted towards some values depending on what is required. It also contains functions to randomly pick elements from a given population array such as a list or set of bytes. The next section of numpy.random to be discussed is its permutation functions. \n"
   ]
  },
  {
   "cell_type": "markdown",
   "metadata": {},
   "source": [
    "## Permutations\n",
    "A permutation is a way of cycling through all options in a given set. For example chosing unique pairs of 3 numbers (1,2 and 3)would give 3<sup>2</sup> combinations namely (1,1)(1,2)(1,3)(2,1)(2,2)(2,3)(3,1) (3,2) (3,3). Numpy.random has two permutation functions namely [Ref](https://docs.scipy.org/doc/numpy-1.15.1/reference/routines.random.html), \n",
    "- shuffle\n",
    "- permutation\n",
    "\n",
    "### shuffle\n",
    "shuffle(x) takes an array or array like input and randomly reorders elements in the array. E.g. randomly shuffling the order of harry potter books\n"
   ]
  },
  {
   "cell_type": "code",
   "execution_count": 15,
   "metadata": {},
   "outputs": [
    {
     "name": "stdout",
     "output_type": "stream",
     "text": [
      "Harry Potter and the Philosopher’s Stone\n",
      "Harry Potter and the Chamber of Secrets\n",
      "Harry Potter and the Prisoner of Azkaban\n",
      "Harry Potter and the Goblet of Fire\n",
      "Harry Potter and the Order of the Phoenix\n",
      "Harry Potter and the Half-Blood Prince\n",
      "Harry Potter and the Deathly Hallows\n"
     ]
    },
    {
     "data": {
      "text/plain": [
       "['Harry Potter and the Prisoner of Azkaban',\n",
       " 'Harry Potter and the Goblet of Fire',\n",
       " 'Harry Potter and the Half-Blood Prince',\n",
       " 'Harry Potter and the Philosopher’s Stone',\n",
       " 'Harry Potter and the Order of the Phoenix',\n",
       " 'Harry Potter and the Chamber of Secrets',\n",
       " 'Harry Potter and the Deathly Hallows']"
      ]
     },
     "execution_count": 15,
     "metadata": {},
     "output_type": "execute_result"
    }
   ],
   "source": [
    "hp = ['Harry Potter and the Philosopher’s Stone', 'Harry Potter and the Chamber of Secrets', 'Harry Potter and the Prisoner of Azkaban', 'Harry Potter and the Goblet of Fire', 'Harry Potter and the Order of the Phoenix', 'Harry Potter and the Half-Blood Prince', 'Harry Potter and the Deathly Hallows']\n",
    "for book in hp:\n",
    "    print(book)\n",
    "# shuffle the books\n",
    "np.random.shuffle(hp)\n",
    "hp\n"
   ]
  },
  {
   "cell_type": "markdown",
   "metadata": {},
   "source": [
    "### Permutation\n",
    "\n",
    "permutation(x) has an array as an input and randomly permutates the \n",
    "\n",
    "Randomly permute a sequence, or return a permuted range [Ref](https://docs.scipy.org/doc/numpy-1.15.1/reference/routines.random.html). Unlike shuffle which reorders the original array, permutation takes a copy of the original array and shuffles the copy. The original array remains intact. In addition permutation can take integer inputs and will output a range e.g an input of 5 will output a random range populated with unique elements from 0 to 4 inclusive. [Ref](https://stackoverflow.com/questions/15474159/shuffle-vs-permute-numpy)\n",
    "\n"
   ]
  },
  {
   "cell_type": "code",
   "execution_count": 16,
   "metadata": {},
   "outputs": [
    {
     "name": "stdout",
     "output_type": "stream",
     "text": [
      "Harry Potter and the Philosopher’s Stone\n",
      "Harry Potter and the Chamber of Secrets\n",
      "Harry Potter and the Prisoner of Azkaban\n",
      "Harry Potter and the Goblet of Fire\n",
      "Harry Potter and the Order of the Phoenix\n",
      "Harry Potter and the Half-Blood Prince\n",
      "Harry Potter and the Deathly Hallows\n",
      "\n",
      "\n",
      "['Harry Potter and the Prisoner of Azkaban'\n",
      " 'Harry Potter and the Philosopher’s Stone'\n",
      " 'Harry Potter and the Half-Blood Prince'\n",
      " 'Harry Potter and the Order of the Phoenix'\n",
      " 'Harry Potter and the Goblet of Fire'\n",
      " 'Harry Potter and the Chamber of Secrets'\n",
      " 'Harry Potter and the Deathly Hallows']\n",
      "\n",
      "\n",
      "[4 2 3 1 0] \n",
      "\n"
     ]
    }
   ],
   "source": [
    "# Books listed in order of publication date\n",
    "hp = ['Harry Potter and the Philosopher’s Stone', 'Harry Potter and the Chamber of Secrets', 'Harry Potter and the Prisoner of Azkaban', 'Harry Potter and the Goblet of Fire', 'Harry Potter and the Order of the Phoenix', 'Harry Potter and the Half-Blood Prince', 'Harry Potter and the Deathly Hallows']\n",
    "for book in hp:\n",
    "    print(book)\n",
    "print('\\n')\n",
    "# Books randomly permutated\n",
    "print(np.random.permutation(hp))\n",
    "# original book order is preserved unlike shuffle function\n",
    "hp\n",
    "print('\\n')\n",
    "# input is an integer output is a range\n",
    "print(np.random.permutation(5), '\\n')\n",
    "\n"
   ]
  },
  {
   "cell_type": "markdown",
   "metadata": {},
   "source": [
    "## The use and purpose of at least five 'distributions' functions"
   ]
  },
  {
   "cell_type": "code",
   "execution_count": null,
   "metadata": {},
   "outputs": [],
   "source": []
  },
  {
   "cell_type": "markdown",
   "metadata": {},
   "source": [
    "- ### Uniform"
   ]
  },
  {
   "cell_type": "code",
   "execution_count": null,
   "metadata": {},
   "outputs": [],
   "source": []
  },
  {
   "cell_type": "markdown",
   "metadata": {},
   "source": [
    "- ### Normal"
   ]
  },
  {
   "cell_type": "markdown",
   "metadata": {},
   "source": []
  },
  {
   "cell_type": "markdown",
   "metadata": {},
   "source": [
    "- ### Binomial"
   ]
  },
  {
   "cell_type": "markdown",
   "metadata": {},
   "source": []
  },
  {
   "cell_type": "markdown",
   "metadata": {},
   "source": [
    "- ### Possion"
   ]
  },
  {
   "cell_type": "markdown",
   "metadata": {},
   "source": []
  },
  {
   "cell_type": "markdown",
   "metadata": {},
   "source": [
    " - ### Power"
   ]
  },
  {
   "cell_type": "markdown",
   "metadata": {},
   "source": [
    "##  The use of seeds in generating pseudorandom numbers"
   ]
  },
  {
   "cell_type": "markdown",
   "metadata": {},
   "source": [
    "## Random generator\n",
    "\n",
    "add para on random generators\n",
    "\n",
    "[](https://en.wikipedia.org/wiki/Random_number_generation#%22True%22_vs._pseudo-random_numbers)from wiki The second method uses computational algorithms that can produce long sequences of apparently random results, which are in fact completely determined by a shorter initial value, known as a seed value or key. As a result, the entire seemingly random sequence can be reproduced if the seed value is known. This type of random number generator is often called a pseudorandom number generator. This type of generator typically does not rely on sources of naturally occurring entropy, though it may be periodically seeded by natural sources. This generator type is non-blocking, so they are not rate-limited by an external event, making large bulk reads a possibility. \n",
    "\n",
    "\n",
    "add that this has three sections\n",
    "\n",
    "- RandomState\n",
    "- Seed\n",
    "- get_state\n",
    "- set_state\n",
    "\n",
    "\n",
    "\n",
    "Random generator\n",
    "RandomState([seed]) \tContainer for the Mersenne Twister pseudo-random number generator.\n",
    "seed([seed]) \tSeed the generator.\n",
    "get_state() \tReturn a tuple representing the internal state of the generator.\n",
    "set_state(state) \tSet the internal state of the generator from a tuple."
   ]
  },
  {
   "cell_type": "code",
   "execution_count": null,
   "metadata": {},
   "outputs": [],
   "source": []
  },
  {
   "cell_type": "code",
   "execution_count": null,
   "metadata": {},
   "outputs": [],
   "source": []
  },
  {
   "cell_type": "code",
   "execution_count": null,
   "metadata": {},
   "outputs": [],
   "source": []
  },
  {
   "cell_type": "code",
   "execution_count": null,
   "metadata": {},
   "outputs": [],
   "source": []
  },
  {
   "cell_type": "code",
   "execution_count": null,
   "metadata": {},
   "outputs": [],
   "source": []
  },
  {
   "cell_type": "code",
   "execution_count": null,
   "metadata": {},
   "outputs": [],
   "source": []
  },
  {
   "cell_type": "markdown",
   "metadata": {},
   "source": [
    "\n",
    "# Reference\n",
    "\n",
    "Idris, I. (2015). NumPy: Beginner's Guide - Third Edition. 3rd ed. BIRMINGHAM - MUMBAI: Packt Publishing. \n",
    "\n",
    "McKinney, W. (2018). Python for data analysis. Beijing [i 4 pozostałe]: O'Reilly.\n",
    "\n",
    "Docs.scipy.org. (2018). Random sampling (numpy.random) — NumPy v1.15 Manual. [online] Available at: https://docs.scipy.org/doc/numpy-1.15.1/reference/routines.random.html [Accessed 20 Oct. 2018].\n",
    "\n",
    "Vo. T.H, P., Czygan, M., Kumar, A. and Raman, K. (2017). Python. Birmingham: Packt Publishing.\n",
    "\n",
    "McLeod, S. (2018). Sampling Methods | Simply Psychology. [online] Simplypsychology.org. Available at: https://www.simplypsychology.org/sampling.html [Accessed 20 Oct. 2018].\n",
    "\n",
    "En.wikipedia.org. (2018). Simple random sample. [online] Available at: https://en.wikipedia.org/wiki/Simple_random_sample [Accessed 20 Oct. 2018].\n",
    "\n",
    "Mehta, H. (2015). Mastering Python scientific computing. 1st ed. Birmingham: Packt Publishing."
   ]
  }
 ],
 "metadata": {
  "kernelspec": {
   "display_name": "Python 3",
   "language": "python",
   "name": "python3"
  },
  "language_info": {
   "codemirror_mode": {
    "name": "ipython",
    "version": 3
   },
   "file_extension": ".py",
   "mimetype": "text/x-python",
   "name": "python",
   "nbconvert_exporter": "python",
   "pygments_lexer": "ipython3",
   "version": "3.6.6"
  }
 },
 "nbformat": 4,
 "nbformat_minor": 2
}
