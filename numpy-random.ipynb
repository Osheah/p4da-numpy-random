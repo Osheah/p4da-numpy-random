{
 "cells": [
  {
   "cell_type": "markdown",
   "metadata": {},
   "source": [
    "\n",
    "\n",
    "# Assignment explain numpy.random package\n",
    "\n",
    "![numpylogo](img/numpy.jpeg)\n",
    "\n",
    "\n",
    "\n",
    "## Why are random numbers needed? \n",
    "\n",
    "The ability to generate random numbers has many useful applications. Say a researcher is interested in the effectiveness of a new ulcer drug. The population of interest is every person with ulcers. It would impractically costly and time-consuming contact everyone with ulcers, give them the drug and then compare before and after reports. Indeed, the population of people with ulcers as a total population would be impossible to judge as many people may have ulcers without ever seeking treatment.\n",
    "\n",
    "## Why take samples?\n",
    "The researcher needs to take a sample from this population. This sample should be big enough and diverse enough so that it fairly represents the wider population. The sample data is used to make **generalisations** about its population. For example, the drug’s effectiveness in a sample containing only men with ulcers aged seventy or over is unlikely to represent its effectiveness on women half that age. Sampling involves taking a sufficiently sized subset of a given population that accurately reflects the phenomena under investigation so that information from the sample can be used to infer things from the overall population. It is vital then that *the sample shares the same characteristics as its target population*. \n",
    "\n",
    "## Problems with picking samples \n",
    "Picking samples that represent a population is prone to **biases**. For example, if asked to pick a number at random between 1 and 10 there will be far more 3's and 7's than would be expected if the choice was truly random [ref](https://micro.magnet.fsu.edu/creatures/pages/random.html).\n",
    "\n",
    "One way to reduce sampling bias is to use **random sampling**. Random sampling means that every item in the target population has an *equal* chance of being selected. In the example above, the target population would be the numbers between 1 and 10 inclusive and random sampling means that each number in this interval would have an equal probability of being selected. \n",
    "\n",
    "If random sampling is not used then certain elements of the population are favoured over others which skews the results and limits its generalising ability. In reality, it is often difficult to define the target population and its sample precisely so that only the phenomena in question is investigated.  \n",
    "\n",
    "![Literary Digest](img/digest.jpg)\n",
    "\n",
    "For example in 1936 there was a phone poll conducted by The Literary Digest which predicted that the Republican Alfred Landon would win the election 57% to 43% from the Democrat F.D.Roosevelt. However, the actual results from the election was 62% in favour of FDR. The problem was sample bias. Only people with phones were polled and they were more likely to vote Republican in depression era America. People with phones were also more likely to come from a more affluent background and were not as likely to be moved by FDR’s new deal rhetoric. [Ref]( https://www.math.upenn.edu/~deturck/m170/wk4/lecture/case1.html). Random sampling does not remove sample bias but it does limit one aspect of it, biases introduced by favouring subsets of the target population rather than then every element being as likely to be selected as every other one.   \n",
    "\n",
    "## Algorithms and random numbers\n",
    "\n",
    "Computing algorithms are deterministic. They cannot generate true randomness without using some external piece of information. \n",
    "\n",
    "![lave lamps](img/lava.jpg)\n",
    "\n",
    "\n",
    "For example the DNS service Cloudflare uses its lava lamps in its head office to help generate the randomness needed for its cryptography [ref]( https://blog.cloudflare.com/randomness-101-lavarand-in-production/). Many areas of science and computing do not need true randomness. In fact, some areas require predictable ‘randomness’ so that model parameters can be tested with the same random ‘noise’. Computer algorithms use **pseudo random numbers** (Idris, 2015). To all appearances these look random but if a key piece of information is known, the whole random sequence can be predicted. There are several **pseudo random number generator** (PRNG) algorithms. \n",
    "\n",
    "One of the most widely used PRNG is the *Mersenne Twister*. A Mersenne number is one less than a power of 2. The twister aspect refers to its period length being a Mersenne prime which is ‘twisted’ by various transformations when random numbers are generated. A commonly used Mersenne twister uses 19937 as its power.  This algorithm takes a ‘seed’ value as a starting point. This is initialised into a state and transformed via reversable and non-reversable transformations in order to generate the pseudo random numbers PRN. [Ref](https://www.cryptologie.net/article/331/how-does-the-mersennes-twister-work/). The Mersenne Twister is not secure enough for cryptology however it a useful and widely used all purpose PRNG [Ref]( https://en.wikipedia.org/wiki/Mersenne_Twister).  \n",
    "\n",
    "## Random numbers in Python\n",
    "\n",
    "![python logo](img/python.png)\n",
    "\n",
    "Python has an in built random package *random*. NumPy extends this by adding extra functionality and methods in its *numpy.random* package. Both Python and Numpy.random use the Mersenne twister 19937 algorithm to generate PRNs.\n",
    "\n",
    "## Why use NumPy for generating random numbers\n",
    "\n",
    "Python's random method generates a random float number uniformly from the interval 0 inclusive to 1 exclusive [Ref]( https://docs.python.org/3/library/random.html). .random has many of the functions and methods contained in numpy.random so *why use numpy.random*?\n",
    "\n",
    "The main reason numpy.random is used over Python’s random.random package is that NumPy is designed to work with n dimensional arrays. Numpy uses less memory and is faster than lists used in the default python.   NumPy is specialised for scientific operations and has more advanced mathematical functionality than Python. It is especially useful for manipulating numerical data that can be arranged in matrices [ref](https://metaspace.blog/programming/python/python-numpy-basics/). \n",
    "\n",
    "PRN’s can be arranged in arrays, a speciality in NumPy. Numpy.random and python’s default random.random have similar functions and methods but numpy.random has some extra probability distributions common to scientific research and some extra simple random data convenience functions.  Neither are suitable for cryptography purposes. [ref](https://stackoverflow.com/questions/7029993/differences-between-numpy-random-and-random-random-in-python). \n",
    "\n",
    "The functions and methods offered in numpy.random are\n",
    "\n",
    "* simple random data\n",
    "* permutations\n",
    "* distributions\n",
    "* random generator\n",
    "\n",
    "*Simple random data* section consist of several functions that generate simple random data.Inputs can be size or range. *Permutation* functions randomly shuffle or permutes a given sequence. *Distribution* functions allow specific population distributions or ranges to be sampled. This may require statistical measures such as mean and standard deviation. Numpy.random can generate samples from continuous and descrite distributins (Idris, 2015). Lastly, the *random generator* section contains functions that allow seeds to be specified (Mehta, 2015). This is useful in cases where the exact same sequence of random data is required. Each of these sections will be explored. \n",
    "\n",
    " "
   ]
  },
  {
   "cell_type": "markdown",
   "metadata": {},
   "source": [
    "## What does Simple random data do?\n"
   ]
  },
  {
   "cell_type": "markdown",
   "metadata": {},
   "source": [
    "There are 10 simple random data functions in numpy.random namely\n",
    "\n",
    "1. rand\n",
    "2. randn\n",
    "3. randint\n",
    "4. random_integers\n",
    "5. random_sample\n",
    "6. random\n",
    "7. randf\n",
    "8. sample\n",
    "9. choice\n",
    "10. bytes\n",
    "\n",
    "[ref](https://docs.scipy.org/doc/numpy-1.15.1/reference/routines.random.html). Of these random, ranf and sample [](https://stackoverflow.com/questions/18829185/difference-between-various-numpy-random-functions)are aliases of random_sample, with similar inputs and outputs. In addition rand and randn are convenience functions, meaning that their functionality can be achived by Python's in built functions. Each of these functions are used to generate simple random data of various sizes or shapes over various intervals or ranges. Which function is used depends on the requirments. \n"
   ]
  },
  {
   "cell_type": "markdown",
   "metadata": {},
   "source": [
    "### Import libraries"
   ]
  },
  {
   "cell_type": "code",
   "execution_count": 1,
   "metadata": {},
   "outputs": [],
   "source": [
    "#Import packages numpy and matplotlib.pyplot\n",
    "import numpy as np\n",
    "import random\n",
    "import matplotlib.pyplot as plt\n",
    "# display pyplot in jupyter notebook\n",
    "%matplotlib inline"
   ]
  },
  {
   "cell_type": "markdown",
   "metadata": {},
   "source": [
    "### Python's default random function\n",
    "\n",
    "Python has the built in random function for generating simple random data."
   ]
  },
  {
   "cell_type": "code",
   "execution_count": 2,
   "metadata": {},
   "outputs": [
    {
     "name": "stdout",
     "output_type": "stream",
     "text": [
      "Simple random data from python's inbuilt random function \n",
      "\n",
      "0.7064219345416578 \n",
      "\n",
      "Simple random data from python's inbuilt random function uniformly distriubted between 0 and 1 \n",
      "\n",
      "0.5638634038098086\n"
     ]
    }
   ],
   "source": [
    "r1 = random.random()\n",
    "print(\"Simple random data from python's inbuilt random function\", '\\n')\n",
    "print(r1, '\\n')\n",
    "print(\"Simple random data from python's inbuilt random function uniformly distriubted between 0 and 1\", '\\n')\n",
    "r2 = random.uniform(0,1)\n",
    "print(r2)"
   ]
  },
  {
   "cell_type": "markdown",
   "metadata": {},
   "source": [
    "numpy.random extends this, adding extra functions and methods.[ref](https://docs.scipy.org/doc/numpy-1.15.1/reference/routines.random.html) \n",
    "\n",
    "\n",
    "|Simple Random Data| Input                       | Output                                                           |\n",
    "| -----------------|:------------------------    | :--------------------------------------------------------------- |\n",
    "| rand             | d0, d1, …, dn               | Random values in a given shape                                   |               \n",
    "| randn            | d0, d1, …, dn               | sample (or samples) from the “standard normal” distribution      |              \n",
    "| randint          | low`[, high, size, dtype]`  | Return random integers from low (inclusive) to high (exclusive)  |            \n",
    "| random_integers  | low`[, high, size])` \t     | Random integers of type np.int between low and high, inclusive.  |\n",
    "| random_sample    | `[size]`                    | Random floats in the half-open interval `[0.0, 1.0)`             |               \n",
    "| random           | `[size]`                    | Random floats in the half-open interval `[0.0, 1.0)`             |               \n",
    "| ranf             | `[size]`                    | Random floats in the half-open interval `[0.0, 1.0)`             |               \n",
    "| sample           | `[size]`                    | Random floats in the half-open interval `[0.0, 1.0)`             |               \n",
    "| choice           | `a[, size, replace, p]`     | Generates a random sample from a given 1-D array                 |                     \n",
    "| bytes            | length                      | Random bytes                                                     |      \n",
    "\n",
    "### rand\n",
    "\n",
    "rand(d0, d1, ..., dn) outputs random values in a given shape. Shape refers to the arrangment of the arrays. eg. a input of  (1)is a single 1x1 matrix array, an input of (2,3) is  a 2x3 matrix array (number of rows x columns) while an input of (2,3,4) is 2 arrays consisting each consisting of 3x4 matrix arrays. \n",
    "rand is a convenience or helper function. It creates random values in a given shape [ref](https://docs.scipy.org/doc/numpy-1.15.1/reference/generated/numpy.random.rand.html#numpy.random.rand). Inputs are non negative integers, although 0 returns an empty array.  If no input is given a single number is outputed. Output arrays come from the uniform distribution (i.e. each number has the same probability of being selected) between 0 inclusive and 1 exclusive `[0, 1)` \n",
    "\n",
    "#### When would you use rand?\n",
    "Use rand if you want to generate random values from a uniform semi closed interval `[0,1)` to populate matrices (rows by columns) of a given size; note single floats can be generated with empty parameters and single element arrays can be generated with argument 1. It is similar to Python's random.random but extends the input to accept different array sizes [ref](https://docs.python.org/3/library/random.html).\n",
    "\n",
    "\n"
   ]
  },
  {
   "cell_type": "code",
   "execution_count": 3,
   "metadata": {},
   "outputs": [
    {
     "name": "stdout",
     "output_type": "stream",
     "text": [
      "Generate a 2x4 matrix and fill it with random numbers \n",
      "\n",
      "[[ 0.92752452  0.52251454  0.24198961  0.11161688]\n",
      " [ 0.34764152  0.72244792  0.94016248  0.57662947]] \n",
      "\n",
      "Generate a single float \n",
      "\n",
      "0.29404572839065346 \n",
      "\n",
      "Generate a 1-d matrix \n",
      "\n",
      "[ 0.06774933] \n",
      "\n"
     ]
    }
   ],
   "source": [
    "print(\"Generate a 2x4 matrix and fill it with random numbers\", \"\\n\")\n",
    "print(np.random.rand(2,4), \"\\n\")\n",
    "print(\"Generate a single float\", \"\\n\")\n",
    "print(np.random.rand(),\"\\n\")\n",
    "print(\"Generate a 1-d matrix\", \"\\n\")\n",
    "print(np.random.rand(1),\"\\n\")\n"
   ]
  },
  {
   "cell_type": "markdown",
   "metadata": {},
   "source": [
    "### randn\n",
    "\n",
    "randn((d0, d1, ..., dn) outputs a sample(s) from the “standard normal” distribution N(0,1).\n",
    "Randn is similar to rand but takes its random numbers from the standard normal distrubution with mean 0 and standard deviation 1 N(0,1)[ref](https://docs.scipy.org/doc/numpy-1.15.1/reference/generated/numpy.random.randn.html#numpy.random.randn). It is similar to the standard_normal distrubution in NumPy.random however standard_normal can have tuples as arguments. Randn's arguements must be positive integers or integer like (such as int(1.02)). Like rand, it is a convenience function with inputs for sizes. If no input given a single random number (float) from the standard normal distribution is outputted. Outputs take the form of n dimentional arrays in the shape specifed by the inputs. If a non standard normal distribution N(m,sd<sup>2</sup>) is required, the transformation m + sd * np.random.rand() can be applied. \n",
    "\n",
    "#### When would you use randn?\n",
    "Use randn If you want to generate random values in a specified shape with values taken from the standard normal distrubution centered in a bell curve round 0 with most values falling between -3 and 3. Unlike rand - negative values can be returned. "
   ]
  },
  {
   "cell_type": "code",
   "execution_count": 4,
   "metadata": {},
   "outputs": [
    {
     "name": "stdout",
     "output_type": "stream",
     "text": [
      "No input given  - single random float returned \n",
      "\n",
      "0.09906374539328987 \n",
      "\n",
      "1 input given  - single random array from N(0,1) \n",
      "\n",
      "[-0.69477924] \n",
      "\n",
      "5 outputs a 1x1 array of 5 random floats from N(0,1) \n",
      "\n",
      "[-0.64180709 -1.32580718 -1.19615366 -0.26332225  0.56908839] \n",
      "\n",
      "outputs 2 arrays of 3x4 matrices filled with random numbers from N(0,1) \n",
      "\n",
      "[[[-0.02970592  0.6975422   0.31071076 -0.62474945]\n",
      "  [-2.07720976 -0.26789958  0.24317213  1.05658989]\n",
      "  [-0.0732887  -0.15008823 -0.77308912 -0.29597316]]\n",
      "\n",
      " [[-1.57666167 -0.37931577  1.78138557 -0.2192054 ]\n",
      "  [ 1.7504563   0.86636542 -1.04098072  1.78363144]\n",
      "  [ 0.24266041 -0.85160341  0.21627602 -0.04326565]]] \n",
      "\n"
     ]
    }
   ],
   "source": [
    "print(\"No input given  - single random float returned\", \"\\n\")\n",
    "print(np.random.randn(), \"\\n\")\n",
    "\n",
    "print(\"1 input given  - single random array from N(0,1)\",\"\\n\")\n",
    "print(np.random.randn(1),'\\n')\n",
    "\n",
    "print(\"5 outputs a 1x1 array of 5 random floats from N(0,1)\",\"\\n\")\n",
    "print(np.random.randn(5),'\\n')\n",
    "\n",
    "print(\"outputs 2 arrays of 3x4 matrices filled with random numbers from N(0,1)\",\"\\n\")\n",
    "print(np.random.randn(2,3,4),'\\n')\n"
   ]
  },
  {
   "cell_type": "markdown",
   "metadata": {},
   "source": [
    "To see the shape of the distribution plot a histogram. This is the standard normal distrubution around 0 with standard deviation 1.  "
   ]
  },
  {
   "cell_type": "code",
   "execution_count": 5,
   "metadata": {},
   "outputs": [
    {
     "data": {
      "text/plain": [
       "(array([ 1009.,   939.,  1024.,   986.,  1006.,   998.,   976.,  1019.,\n",
       "         1046.,   997.]),\n",
       " array([  2.48977300e-05,   1.00010835e-01,   1.99996773e-01,\n",
       "          2.99982710e-01,   3.99968648e-01,   4.99954585e-01,\n",
       "          5.99940523e-01,   6.99926460e-01,   7.99912398e-01,\n",
       "          8.99898335e-01,   9.99884273e-01]),\n",
       " <a list of 10 Patch objects>)"
      ]
     },
     "execution_count": 5,
     "metadata": {},
     "output_type": "execute_result"
    },
    {
     "data": {
      "image/png": "[encoded data removed]",
      "text/plain": [
       "<matplotlib.figure.Figure at 0x1a8af3a7cf8>"
      ]
     },
     "metadata": {
      "needs_background": "light"
     },
     "output_type": "display_data"
    }
   ],
   "source": [
    "plt.subplot(1,2,1)\n",
    "x = np.random.randn(10000)\n",
    "plt.title(\"Standard Normal - randn\")\n",
    "plt.hist(x)\n",
    "plt.subplot(1,2,2)\n",
    "x = np.random.rand(10000)\n",
    "plt.title(\"Uniform - rand\")\n",
    "plt.hist(x)"
   ]
  },
  {
   "cell_type": "markdown",
   "metadata": {},
   "source": [
    "To shift the distribution from standard normal  to n N(m,sd<sup>2</sup>) use the transformation m + sd * np.random.rand()"
   ]
  },
  {
   "cell_type": "code",
   "execution_count": 6,
   "metadata": {},
   "outputs": [
    {
     "name": "stdout",
     "output_type": "stream",
     "text": [
      "outputs random numbers from N(2, 9) \n",
      "\n",
      "this shifts the plot left to centre it round 2 with a spread of 9\n"
     ]
    },
    {
     "data": {
      "image/png": "[encoded data removed]",
      "text/plain": [
       "<matplotlib.figure.Figure at 0x1a8acbfa828>"
      ]
     },
     "metadata": {
      "needs_background": "light"
     },
     "output_type": "display_data"
    }
   ],
   "source": [
    "print(\"outputs random numbers from N(2, 9)\",\"\\n\")\n",
    "plt.hist(2+3*np.random.randn(1000))\n",
    "print(\"this shifts the plot left to centre it round 2 with a spread of 9\")"
   ]
  },
  {
   "cell_type": "markdown",
   "metadata": {},
   "source": [
    "### randint\n",
    "\n",
    "randint((low`[, high, size, dtype]`))outputs random integers from low (inclusive) to high (exclusive). \n",
    "randint is differs from the two above functions in that it returns integers within a specifeid interval low (inclusive) to high (exclusive). Integers are returned from the discrete uniform distribution [ref](). Whereas rand returned numbers from the continous uniform distribution between `[0,1)`. Randint expands this interval by returing values from `[low,high)`. If no arguments are given an error is returned. If one argument is given, say h then this is assumed to be the higher bound and positive and the lower bound is 0 `[0, h)`.  Size can also be specified e.g. if 10 random numbers are required between `[0, 5)` the arguments would be (0,5,10). Data type can also be specified, the default is np.int. dTypes relate to the way memory blocks are interpreted [ref](https://stackoverflow.com/questions/9457037/what-does-dtype-do).   \n",
    "\n",
    "#### When would you use randint?\n",
    "randint would be used when integers rather than floats are required and the integers lie within a certain range. e.g. generate a random number between 1 and 10 inclusive"
   ]
  },
  {
   "cell_type": "code",
   "execution_count": 7,
   "metadata": {},
   "outputs": [
    {
     "name": "stdout",
     "output_type": "stream",
     "text": [
      "Generate a random number between 1 and 10 inclusive \n",
      "\n",
      "6 \n",
      "\n",
      "Generate 3 random number between 1 and 10 inclusive \n",
      "\n",
      "[2 2 6] \n",
      "\n",
      "Generate a random positive number less than 4 \n",
      "\n",
      "2 \n",
      "\n",
      "Generate a random integer between -5 and 5 inclusive  \n",
      "\n",
      "2 \n",
      "\n"
     ]
    }
   ],
   "source": [
    "print(\"Generate a random number between 1 and 10 inclusive\",\"\\n\")\n",
    "print(np.random.randint(1, 11),\"\\n\")\n",
    "\n",
    "print(\"Generate 3 random number between 1 and 10 inclusive\",\"\\n\")\n",
    "print(np.random.randint(1, 11, 3),\"\\n\")\n",
    "\n",
    "print(\"Generate a random positive number less than 4\",\"\\n\")\n",
    "print(np.random.randint(4),\"\\n\")\n",
    "\n",
    "print(\"Generate a random integer between -5 and 5 inclusive \",\"\\n\")\n",
    "print(np.random.randint(-5, 6),\"\\n\")"
   ]
  },
  {
   "cell_type": "markdown",
   "metadata": {},
   "source": [
    "### random_integers\n",
    "\n",
    "random_integers(low`[, high, size]`) outputs random integers of type np.int between low and high, inclusive. Size refers to the number of random values required from the specified interval. This function is no longer maintained. \n",
    "\n",
    "Random_integers is very similar to randint, both return integers from a discrete uniform distribution. However random_integers is inclusive of the higher range value `[low, high]`. This function is deprecated i.e replaced, in favour of randint. Thus when called by python a warning will display, although the function will still work. Both randint and random_integers can use the transformation  a + (b - a) * (np.random.random_integers(N) - 1) / (N - 1) to give N evenly spaced integers between a and b but random_integers includes the b value whereas randind does not.\n",
    "\n",
    "#### When would you use random_integers?\n",
    "You wouldn't. The function is retired in favour of randint which was discussed above. It will still work but python will give a warning when its used.  "
   ]
  },
  {
   "cell_type": "code",
   "execution_count": 8,
   "metadata": {},
   "outputs": [
    {
     "name": "stdout",
     "output_type": "stream",
     "text": [
      "Output 10 1's or 0's randomly \n",
      "\n",
      "[1 0 0 1 1 0 0 0 1 1] \n",
      "\n"
     ]
    },
    {
     "name": "stderr",
     "output_type": "stream",
     "text": [
      "C:\\ProgramData\\Anaconda3\\lib\\site-packages\\ipykernel_launcher.py:2: DeprecationWarning: This function is deprecated. Please call randint(0, 1 + 1) instead\n",
      "  \n"
     ]
    }
   ],
   "source": [
    "print(\"Output 10 1's or 0's randomly\", \"\\n\")\n",
    "print(np.random.random_integers(0,1, 10), '\\n')\n"
   ]
  },
  {
   "cell_type": "markdown",
   "metadata": {},
   "source": [
    "To specify intervals equally spaced..... ## add stuff here\n",
    "\n",
    "a,b,N=3,5,10\n",
    "print(a + (b - a) * (np.random.random_integers(N) - 1) / (N - 1), '\\n')\n",
    "print(a + (b - a) * (np.random.randint(N) - 1) / (N - 1))"
   ]
  },
  {
   "cell_type": "markdown",
   "metadata": {},
   "source": [
    "### random_sample (random, ranf and sample)\n",
    "\n",
    "random_sample(`[size]`) outputs random floats in the half-open interval `[0.0, 1.0)` [ref](https://docs.scipy.org/doc/numpy-1.15.1/reference/generated/numpy.random.random_sample.html#numpy.random.random_sample).\n",
    "Random_sample and its aliases [ref](https://stackoverflow.com/questions/18829185/difference-between-various-numpy-random-functions) random [ref](https://docs.scipy.org/doc/numpy-1.15.1/reference/generated/numpy.random.random.html#numpy.random.random), ranf [ref](https://docs.scipy.org/doc/numpy-1.15.1/reference/generated/numpy.random.ranf.html#numpy.random.ranf) and sample [ref](https://docs.scipy.org/doc/numpy-1.15.1/reference/generated/numpy.random.sample.html#numpy.random.sample) . unlike randint which returned random values from the descrite uniform distribution `[low, high)` and rand which populates arrays with random values in a given shape, random_sample returns random floats from the continous uniform distrubtion `[0,1)`. It's input is size i.e. the number of random values required. To expand values outside of U`[0,1)` to cover U`[a, b)` the transformation a +  (b - a)`*` random_sample() can be used. the size can be an integer or tuples of integers (a,b,c) \n",
    "\n",
    "#### When would you use random_sample or its aliases?\n",
    "random_sample is used when random floats are required from the continous uniform distrubution in the interval 0 inclusive to 1 exclusive. Each number is as likey to be generated as every other. A single number can be returned E.g. pick any number in the interval `[0,1)` or an array of a specified size e.g. pick 20 numbers in the interval `[0, 1)` "
   ]
  },
  {
   "cell_type": "code",
   "execution_count": 9,
   "metadata": {
    "scrolled": true
   },
   "outputs": [
    {
     "name": "stdout",
     "output_type": "stream",
     "text": [
      "generate a random float in [0,1) \n",
      "\n",
      "0.14355503496027655 \n",
      "\n",
      "generate a random float in [0,1) \n",
      "\n",
      "[ 0.68354778  0.75384246  0.98574133  0.24119489  0.65977392  0.60456654\n",
      "  0.34297129  0.94008481  0.54121455  0.10802449  0.98324598  0.78552707\n",
      "  0.12617739  0.11091124  0.40085588  0.56392159  0.9565985   0.96918568\n",
      "  0.55785935  0.29661557] \n",
      "\n"
     ]
    }
   ],
   "source": [
    "print(\"generate a random float in [0,1)\", \"\\n\")\n",
    "print(np.random.random_sample(), \"\\n\")\n",
    "\n",
    "print(\"generate a random float in [0,1)\", \"\\n\")\n",
    "print(np.random.random_sample(20), \"\\n\")\n",
    "\n"
   ]
  },
  {
   "cell_type": "code",
   "execution_count": 10,
   "metadata": {},
   "outputs": [
    {
     "name": "stdout",
     "output_type": "stream",
     "text": [
      "The histogram of random_sample shows its uniform distrubution \n",
      "\n"
     ]
    },
    {
     "data": {
      "image/png": "[encoded data removed]",
      "text/plain": [
       "<matplotlib.figure.Figure at 0x1a8ad571a58>"
      ]
     },
     "metadata": {
      "needs_background": "light"
     },
     "output_type": "display_data"
    },
    {
     "name": "stdout",
     "output_type": "stream",
     "text": [
      "The aliases show a similar pattern \n",
      "\n"
     ]
    },
    {
     "data": {
      "image/png": "[encoded data removed]",
      "text/plain": [
       "<matplotlib.figure.Figure at 0x1a8af5e97b8>"
      ]
     },
     "metadata": {
      "needs_background": "light"
     },
     "output_type": "display_data"
    },
    {
     "data": {
      "image/png": "[encoded data removed]",
      "text/plain": [
       "<matplotlib.figure.Figure at 0x1a8af9ec588>"
      ]
     },
     "metadata": {
      "needs_background": "light"
     },
     "output_type": "display_data"
    },
    {
     "data": {
      "image/png": "[encoded data removed]",
      "text/plain": [
       "<matplotlib.figure.Figure at 0x1a8afb26c88>"
      ]
     },
     "metadata": {
      "needs_background": "light"
     },
     "output_type": "display_data"
    }
   ],
   "source": [
    "print(\"The histogram of random_sample shows its uniform distrubution\", \"\\n\")\n",
    "plt.hist(np.random.random_sample(10000))\n",
    "plt.title(\"random_sample\")\n",
    "plt.show()\n",
    "print(\"The aliases show a similar pattern\", \"\\n\")\n",
    "plt.hist(np.random.random(10000))\n",
    "plt.title(\"random\")\n",
    "plt.show()\n",
    "plt.hist(np.random.ranf(10000))\n",
    "plt.title(\"ranf\")\n",
    "plt.show()\n",
    "plt.hist(np.random.sample(10000))\n",
    "plt.title(\"sample\")\n",
    "plt.show()\n",
    "\n"
   ]
  },
  {
   "cell_type": "markdown",
   "metadata": {},
   "source": [
    "To change the interval `U[0, 1)` from which the numbers are selected to `U[a,b)` from use the transformation a + (b - a)* random_sample()\n",
    "\n"
   ]
  },
  {
   "cell_type": "code",
   "execution_count": 11,
   "metadata": {},
   "outputs": [
    {
     "name": "stdout",
     "output_type": "stream",
     "text": [
      "This outputs an 1x10 array filled with random floats between [3, 5) \n",
      "\n",
      "[ 4.27377964  4.72710216  3.62504492  4.76410523  3.86803932  4.69331382\n",
      "  3.23495411  4.99380886  3.17525506  3.05940059] \n",
      "\n"
     ]
    },
    {
     "data": {
      "image/png": "[encoded data removed]",
      "text/plain": [
       "<matplotlib.figure.Figure at 0x1a8af959978>"
      ]
     },
     "metadata": {
      "needs_background": "light"
     },
     "output_type": "display_data"
    }
   ],
   "source": [
    "print(\"This outputs an 1x10 array filled with random floats between [3, 5)\", \"\\n\")\n",
    "a,b,N=3,5,10\n",
    "x = a + (b - a) * np.random.random_sample(10) \n",
    "print(x, \"\\n\")\n",
    "plt.hist(x)\n",
    "plt.title(\"random floats in U[3,5)\")\n",
    "plt.show()\n",
    "\n"
   ]
  },
  {
   "cell_type": "markdown",
   "metadata": {},
   "source": [
    "### choice\n",
    "\n",
    "choice(a`[, size, replace, p]`) outputs a random sample from a given 1-D array [ref](https://docs.scipy.org/doc/numpy-1.15.1/reference/routines.random.html). its input is a 1 dimentional array or integer. The number of random values required can be specified by size. The difference between this function and the ones above is that here the population is specified in an array and the function returns one of these choices randomly. e.g. an input of all the harry potter book titles would randomly return one book from this population. The probability p of elements in the 1 d array can be specified (probabilities total to 1). If p is not provided then p is assumed to be uniformly distruibuted across the array. Size refers to the number of random elements from the population that are returned. There is also the option to replace which defaults to true. This refers to whether or not the random choice element is returned to the sample population and is used when unique values from the population are needed [ref](https://stackoverflow.com/questions/40689152/what-does-replacement-mean-in-numpy-random-choice). \n",
    "\n",
    "\n",
    "#### When would you use choice?\n",
    "choice is used when you want to generate a random choice from a fixed sample, you can specify if you want the choise to be returned to the selection pool or not. For example pick one Harry Potter book from a pool of all Harry potter books.\n"
   ]
  },
  {
   "cell_type": "code",
   "execution_count": 12,
   "metadata": {},
   "outputs": [
    {
     "name": "stdout",
     "output_type": "stream",
     "text": [
      "List all Harry Potter books \n",
      "\n",
      "Harry Potter and the Philosopher’s Stone\n",
      "Harry Potter and the Chamber of Secrets\n",
      "Harry Potter and the Prisoner of Azkaban\n",
      "Harry Potter and the Goblet of Fire\n",
      "Harry Potter and the Order of the Phoenix\n",
      "Harry Potter and the Half-Blood Prince\n",
      "Harry Potter and the Deathly Hallows\n",
      "\n",
      "\n",
      "pick one at random \n",
      "\n",
      "['Harry Potter and the Prisoner of Azkaban'] \n",
      "\n",
      "pick 5 books at random and remove it from the pool when picked  - only unique books will be returned for each choice \n",
      "\n",
      "['Harry Potter and the Order of the Phoenix'\n",
      " 'Harry Potter and the Chamber of Secrets'\n",
      " 'Harry Potter and the Goblet of Fire'\n",
      " 'Harry Potter and the Prisoner of Azkaban'\n",
      " 'Harry Potter and the Philosopher’s Stone'] \n",
      "\n",
      "pick 5 books at random and keep it in the pool when picked  - choices may be repeated \n",
      "\n",
      "['Harry Potter and the Chamber of Secrets'\n",
      " 'Harry Potter and the Order of the Phoenix'\n",
      " 'Harry Potter and the Prisoner of Azkaban'\n",
      " 'Harry Potter and the Half-Blood Prince'\n",
      " 'Harry Potter and the Philosopher’s Stone'] \n",
      "\n",
      "Choices can be weighted to make them more or less likely \n",
      "\n",
      "Here, Chamber of secrets more likely to be selected \n",
      "\n",
      "['Harry Potter and the Chamber of Secrets'\n",
      " 'Harry Potter and the Philosopher’s Stone'\n",
      " 'Harry Potter and the Goblet of Fire'\n",
      " 'Harry Potter and the Chamber of Secrets'\n",
      " 'Harry Potter and the Chamber of Secrets'] \n",
      "\n"
     ]
    }
   ],
   "source": [
    "print(\"List all Harry Potter books\", \"\\n\")\n",
    "hp = ['Harry Potter and the Philosopher’s Stone', 'Harry Potter and the Chamber of Secrets', 'Harry Potter and the Prisoner of Azkaban', 'Harry Potter and the Goblet of Fire', 'Harry Potter and the Order of the Phoenix', 'Harry Potter and the Half-Blood Prince', 'Harry Potter and the Deathly Hallows']\n",
    "for book in hp:\n",
    "    print(book)\n",
    "print(\"\\n\")\n",
    "print(\"pick one at random\", \"\\n\")\n",
    "print(np.random.choice(hp, 1), '\\n')#  books can be repeatedly returned\n",
    "\n",
    "print(\"pick 5 books at random and remove it from the pool when picked  - only unique books will be returned for each choice\", \"\\n\")\n",
    "print(np.random.choice(hp, 5, replace=False), '\\n')\n",
    "# only unique books are returned\n",
    "print(\"pick 5 books at random and keep it in the pool when picked  - choices may be repeated\", \"\\n\")\n",
    "print(np.random.choice(hp, 5, replace=True), '\\n')\n",
    "print(\"Choices can be weighted to make them more or less likely\", \"\\n\")\n",
    "print(\"Here, Chamber of secrets more likely to be selected\", \"\\n\")\n",
    "print(np.random.choice(hp, 5, p=[0.2,0.5,0.1,0.1,0.015,0.03,0.055], replace=True), '\\n')\n"
   ]
  },
  {
   "cell_type": "markdown",
   "metadata": {},
   "source": [
    "### bytes\n",
    "\n",
    "bytes(length)outputs random bytes of the specified length size [Ref](https://docs.scipy.org/doc/numpy-1.15.1/reference/routines.random.html). \n",
    "\n",
    "bytes takes non negative integer inputs and outputs randomly byte strings. outputs are prefixed with b and the bytes are enclosed within apostrophies or quotation marks, hence outputs are strings of specified length [Ref](https://docs.scipy.org/doc/numpy-1.15.1/reference/generated/numpy.random.bytes.html#numpy.random.bytes). The b at the start indicates that it is a byte literal [why the b at the front](https://stackoverflow.com/questions/6269765/what-does-the-b-character-do-in-front-of-a-string-literal)\n",
    "\n",
    "#### When would you use bytes\n",
    "bytes would be used when you want to generate random byte strings"
   ]
  },
  {
   "cell_type": "code",
   "execution_count": 13,
   "metadata": {},
   "outputs": [
    {
     "name": "stdout",
     "output_type": "stream",
     "text": [
      "b'' \n",
      "\n",
      "b'\\x8e' \n",
      "\n",
      "b'tF\\x0c\\x84\\n\\xbc\\x1ezT&' \n",
      "\n"
     ]
    }
   ],
   "source": [
    "print(np.random.bytes(0),'\\n')\n",
    "print(np.random.bytes(1),'\\n')\n",
    "print(np.random.bytes(10),'\\n')"
   ]
  },
  {
   "cell_type": "markdown",
   "metadata": {},
   "source": [
    "Hence *Simple Random Data* contains functions for generating random elements consisting of integers, arrays, sizes and shapes from continous or discrete uniform populations or normally distributed populations that may or may not be probabilistically weighted towards some values depending on what is required. It also contains functions to randomly pick elements from a given population array such as a list or set of bytes. The next section of numpy.random to be discussed is its permutation functions. "
   ]
  },
  {
   "cell_type": "markdown",
   "metadata": {},
   "source": [
    "## What does permutations do?\n",
    "![permutation](img/perm.png)\n",
    "\n",
    "A permutation is a way of cycling through all options in a given set. For example chosing unique pairs of 3 numbers (1,2 and 3)would give 3<sup>2</sup> combinations namely (1,1)(1,2)(1,3)(2,1)(2,2)(2,3)(3,1) (3,2) (3,3). Numpy.random has two permutation functions namely [Ref](https://docs.scipy.org/doc/numpy-1.15.1/reference/routines.random.html), \n",
    "- shuffle\n",
    "- permutation\n",
    "\n",
    "The functions in this section are ways of randomly selecting elements from a finite set.\n",
    "\n",
    "### shuffle\n",
    "shuffle(x) takes an array or array like input and randomly reorders elements in the array. E.g. randomly shuffling the order of harry potter books\n",
    "\n",
    "#### When would you use shuffle?\n",
    "shuffle is used when you have an array i.e. a finite list of elements and you want to randomly shuffle them. The same list is returned but the order items are presented in has changed. "
   ]
  },
  {
   "cell_type": "code",
   "execution_count": 14,
   "metadata": {},
   "outputs": [
    {
     "name": "stdout",
     "output_type": "stream",
     "text": [
      "Harry Potter books listed in order of publication date \n",
      "\n",
      "Harry Potter and the Philosopher’s Stone\n",
      "Harry Potter and the Chamber of Secrets\n",
      "Harry Potter and the Prisoner of Azkaban\n",
      "Harry Potter and the Goblet of Fire\n",
      "Harry Potter and the Order of the Phoenix\n",
      "Harry Potter and the Half-Blood Prince\n",
      "Harry Potter and the Deathly Hallows\n",
      "\n",
      "\n",
      "Harry Potter books listed in shuffled order \n",
      "\n"
     ]
    },
    {
     "data": {
      "text/plain": [
       "['Harry Potter and the Deathly Hallows',\n",
       " 'Harry Potter and the Philosopher’s Stone',\n",
       " 'Harry Potter and the Goblet of Fire',\n",
       " 'Harry Potter and the Half-Blood Prince',\n",
       " 'Harry Potter and the Order of the Phoenix',\n",
       " 'Harry Potter and the Chamber of Secrets',\n",
       " 'Harry Potter and the Prisoner of Azkaban']"
      ]
     },
     "execution_count": 14,
     "metadata": {},
     "output_type": "execute_result"
    }
   ],
   "source": [
    "hp = ['Harry Potter and the Philosopher’s Stone', 'Harry Potter and the Chamber of Secrets', 'Harry Potter and the Prisoner of Azkaban', 'Harry Potter and the Goblet of Fire', 'Harry Potter and the Order of the Phoenix', 'Harry Potter and the Half-Blood Prince', 'Harry Potter and the Deathly Hallows']\n",
    "print(\"Harry Potter books listed in order of publication date\", \"\\n\")\n",
    "for book in hp:\n",
    "    print(book)\n",
    "print(\"\\n\")    \n",
    "# shuffle the books\n",
    "print(\"Harry Potter books listed in shuffled order\", \"\\n\")\n",
    "np.random.shuffle(hp)\n",
    "\n",
    "hp\n"
   ]
  },
  {
   "cell_type": "markdown",
   "metadata": {},
   "source": [
    "You can shuffle a deck of cards and deal 5 [ref](https://www.programiz.com/python-programming/examples/shuffle-card)"
   ]
  },
  {
   "cell_type": "code",
   "execution_count": 15,
   "metadata": {},
   "outputs": [
    {
     "name": "stdout",
     "output_type": "stream",
     "text": [
      "Your cards are \n",
      "\n",
      "9 of Club\n",
      "10 of Heart\n",
      "2 of Spade\n",
      "6 of Club\n",
      "8 of Diamond\n"
     ]
    }
   ],
   "source": [
    "# Python program to shuffle a deck of card using the module random and draw 5 cards\n",
    "# code adapted from https://www.programiz.com/python-programming/examples/shuffle-card\n",
    "\n",
    "# import modules\n",
    "import itertools\n",
    "\n",
    "# make a deck of cards\n",
    "deck = list(itertools.product(range(1,14),['Spade','Heart','Diamond','Club']))\n",
    "\n",
    "# shuffle the cards\n",
    "np.random.shuffle(deck)\n",
    "\n",
    "# draw five cards\n",
    "print(\"Your cards are\", \"\\n\")\n",
    "for i in range(5):\n",
    "   print(deck[i][0], \"of\", deck[i][1])"
   ]
  },
  {
   "cell_type": "markdown",
   "metadata": {},
   "source": [
    "### Permutation\n",
    "\n",
    "permutation(x) has an array as an input and randomly permutates/shuffles outputs. \n",
    "\n",
    "Randomly permute a sequence, or return a permuted range [Ref](https://docs.scipy.org/doc/numpy-1.15.1/reference/routines.random.html). Unlike shuffle which reorders the original array, permutation takes a copy of the original array and shuffles the copy. The original array remains intact. In addition permutation can take integer inputs and will output a range e.g an input of 5 will output a random range populated with unique elements from 0 to 4 inclusive. [Ref](https://stackoverflow.com/questions/15474159/shuffle-vs-permute-numpy)\n",
    "\n",
    "#### When would you use permutation?\n",
    "permutation is used when you want to shuffle your array but you also want to keep a record of your unshuffled array.\n"
   ]
  },
  {
   "cell_type": "code",
   "execution_count": 16,
   "metadata": {},
   "outputs": [
    {
     "name": "stdout",
     "output_type": "stream",
     "text": [
      "Harry Potter books listed in order of publication date \n",
      "\n",
      "Harry Potter and the Philosopher’s Stone\n",
      "Harry Potter and the Chamber of Secrets\n",
      "Harry Potter and the Prisoner of Azkaban\n",
      "Harry Potter and the Goblet of Fire\n",
      "Harry Potter and the Order of the Phoenix\n",
      "Harry Potter and the Half-Blood Prince\n",
      "Harry Potter and the Deathly Hallows\n",
      "\n",
      "\n",
      "books are shuffled using the permutation function \n",
      "\n",
      "['Harry Potter and the Order of the Phoenix'\n",
      " 'Harry Potter and the Goblet of Fire'\n",
      " 'Harry Potter and the Chamber of Secrets'\n",
      " 'Harry Potter and the Half-Blood Prince'\n",
      " 'Harry Potter and the Deathly Hallows'\n",
      " 'Harry Potter and the Prisoner of Azkaban'\n",
      " 'Harry Potter and the Philosopher’s Stone'] \n",
      "\n",
      "the original book order is preserved \n",
      "\n",
      "Harry Potter and the Philosopher’s Stone\n",
      "Harry Potter and the Chamber of Secrets\n",
      "Harry Potter and the Prisoner of Azkaban\n",
      "Harry Potter and the Goblet of Fire\n",
      "Harry Potter and the Order of the Phoenix\n",
      "Harry Potter and the Half-Blood Prince\n",
      "Harry Potter and the Deathly Hallows\n",
      "\n",
      "\n",
      "unlike shuffling with the shuffle function \n",
      "\n",
      "Harry Potter and the Philosopher’s Stone\n",
      "Harry Potter and the Order of the Phoenix\n",
      "Harry Potter and the Half-Blood Prince\n",
      "Harry Potter and the Prisoner of Azkaban\n",
      "Harry Potter and the Goblet of Fire\n",
      "Harry Potter and the Deathly Hallows\n",
      "Harry Potter and the Chamber of Secrets\n"
     ]
    }
   ],
   "source": [
    "print(\"Harry Potter books listed in order of publication date\", '\\n')\n",
    "\n",
    "hp = ['Harry Potter and the Philosopher’s Stone', 'Harry Potter and the Chamber of Secrets', 'Harry Potter and the Prisoner of Azkaban', 'Harry Potter and the Goblet of Fire', 'Harry Potter and the Order of the Phoenix', 'Harry Potter and the Half-Blood Prince', 'Harry Potter and the Deathly Hallows']\n",
    "for book in hp:\n",
    "    print(book)\n",
    "print('\\n')\n",
    "print(\"books are shuffled using the permutation function\",\"\\n\")\n",
    "print(np.random.permutation(hp), \"\\n\")\n",
    "print(\"the original book order is preserved\", \"\\n\")\n",
    "for book in hp:\n",
    "    print(book)\n",
    "print(\"\\n\")  \n",
    "print(\"unlike shuffling with the shuffle function\", \"\\n\")\n",
    "np.random.shuffle(hp)\n",
    "for book in hp:\n",
    "    print(book)\n",
    "#print('\\n')\n",
    "## input is an integer output is a range\n",
    "#print(np.random.permutation(5), '\\n')"
   ]
  },
  {
   "cell_type": "code",
   "execution_count": null,
   "metadata": {},
   "outputs": [],
   "source": []
  },
  {
   "cell_type": "code",
   "execution_count": null,
   "metadata": {},
   "outputs": [],
   "source": []
  },
  {
   "cell_type": "code",
   "execution_count": null,
   "metadata": {},
   "outputs": [],
   "source": []
  },
  {
   "cell_type": "markdown",
   "metadata": {},
   "source": [
    "## What are distributions and why do we need them.\n"
   ]
  },
  {
   "cell_type": "markdown",
   "metadata": {},
   "source": [
    "A probability distribution is a table or an equation that links each outcome of a statistical experiment with its probability of occurring. Consider tossing a coin. It has two possible outcomes, heads or tails. Here the event is the coin toss and the outcome is the result, heads or tails. Similarly throwing a dice has 6 outcomes, 1, 2, 3, 4, 5 or 6 being the face up side. imes. Outcomes of a statistical test often show a pattern based on the probibility of an event occuring. For example rolling a fair 6 faced dice will produce each of the numbers 1 to 6 roughly 1/6 of the time. Similarly tossing a non biased coin enough times will show a probability of 1/2 for both heads and tails. In each of these senarios performing the test of throwing the dice or tossing a coin, will better match its underlying probability as the number of trials or trys increases.\n",
    "\n",
    "![dice](img/die.jpg)\n",
    "\n",
    "\n",
    "Rolling a dice 10  times may give a pattern of 1,3,5,1,4,4. In this outcome, the probability of getting a 4 is 2/10 or 1/5 (two 4's from 10 throws). This is greater than the underlying probabiligy of 1/6 but the law of large numbers states [ref](https://stattrek.com/statistics/dictionary.aspx?definition=law_of_large_numbers) that the more times an event is tested, or the larger the sample size is, the closer it will be to its underlying probability of that event occuring. Rolling  the dice 10 times and getting two four's may have a probability not equal to 1/6 but if the dice is rolled a very large number of  times, the small deviations from 1/6 will be smoothed out and the underlying probibiliy will be constant at probability p = 1/6. This is the idea behind probibility distributions, they are equations that plot the underlying model when sample size reaches the same size as its total population.\n",
    "\n",
    "When a random sample is generated it produces a specific outcome from a list of all possible outcomes. For example tossing a coin (performing the trial or test) could produce an outcome of heads or tails. Performing this test will produce only one of these outcomes, its either heads or its tails. When the list of possible outcomes (heads or tails) is plotted against its probablity of occuring (1/2)you get a probability distribution. The code below simulates 10, 100, 1000 and `1000000` random rolls of a dice and calculates the probibility of each outcome.  As the sample size increases, the sample probibility tends towards the actual probility of the distribution. \n"
   ]
  },
  {
   "cell_type": "code",
   "execution_count": 17,
   "metadata": {},
   "outputs": [
    {
     "name": "stdout",
     "output_type": "stream",
     "text": [
      "Sample Size is 10\n",
      "[0 4 0 1 1 3 1]\n",
      "sample prob of getting 1 0.4\n",
      "sample prob of getting 2 0.0\n",
      "sample prob of getting 3 0.1\n",
      "sample prob of getting 4 0.1\n",
      "sample prob of getting 5 0.3\n",
      "sample prob of getting 6 0.1\n",
      "actual probability 0.167 \n",
      "\n",
      "Sample Size is 100\n",
      "[ 0 12 18 18 14 20 18]\n",
      "sample prob of getting 1 0.12\n",
      "sample prob of getting 2 0.18\n",
      "sample prob of getting 3 0.18\n",
      "sample prob of getting 4 0.14\n",
      "sample prob of getting 5 0.2\n",
      "sample prob of getting 6 0.18\n",
      "actual probability 0.167 \n",
      "\n",
      "Sample Size is 1000\n",
      "[  0 142 182 196 168 166 146]\n",
      "sample prob of getting 1 0.142\n",
      "sample prob of getting 2 0.182\n",
      "sample prob of getting 3 0.196\n",
      "sample prob of getting 4 0.168\n",
      "sample prob of getting 5 0.166\n",
      "sample prob of getting 6 0.146\n",
      "actual probability 0.167 \n",
      "\n",
      "Sample Size is 1000000\n",
      "[     0 167229 165952 166552 166336 166662 167269]\n",
      "sample prob of getting 1 0.167229\n",
      "sample prob of getting 2 0.165952\n",
      "sample prob of getting 3 0.166552\n",
      "sample prob of getting 4 0.166336\n",
      "sample prob of getting 5 0.166662\n",
      "sample prob of getting 6 0.167269\n",
      "actual probability 0.167 \n",
      "\n"
     ]
    }
   ],
   "source": [
    "print(\"Sample Size is 10\")\n",
    "size=10\n",
    "outcome = np.bincount(np.random.randint(1,7,size))\n",
    "print(outcome)\n",
    "p1=outcome[1]/size\n",
    "print(\"sample prob of getting 1\",p1)\n",
    "p2=outcome[2]/size\n",
    "print(\"sample prob of getting 2\",p2)\n",
    "p3=outcome[3]/size\n",
    "print(\"sample prob of getting 3\",p3)\n",
    "p4=outcome[4]/size\n",
    "print(\"sample prob of getting 4\",p4)\n",
    "p5=outcome[5]/size\n",
    "print(\"sample prob of getting 5\",p5)\n",
    "p6=outcome[6]/size\n",
    "print(\"sample prob of getting 6\",p6)\n",
    "p = 1/6\n",
    "print(\"actual probability\",f\"{p:.3}\", \"\\n\")\n",
    "\n",
    "print(\"Sample Size is 100\")\n",
    "size=100\n",
    "outcome = np.bincount(np.random.randint(1,7,size))\n",
    "print(outcome)\n",
    "p1=outcome[1]/size\n",
    "print(\"sample prob of getting 1\",p1)\n",
    "p2=outcome[2]/size\n",
    "print(\"sample prob of getting 2\",p2)\n",
    "p3=outcome[3]/size\n",
    "print(\"sample prob of getting 3\",p3)\n",
    "p4=outcome[4]/size\n",
    "print(\"sample prob of getting 4\",p4)\n",
    "p5=outcome[5]/size\n",
    "print(\"sample prob of getting 5\",p5)\n",
    "p6=outcome[6]/size\n",
    "print(\"sample prob of getting 6\",p6)\n",
    "p = 1/6\n",
    "print(\"actual probability\",f\"{p:.3}\", \"\\n\")\n",
    "print(\"Sample Size is 1000\")\n",
    "size=1000\n",
    "outcome = np.bincount(np.random.randint(1,7,size))\n",
    "print(outcome)\n",
    "p1=outcome[1]/size\n",
    "print(\"sample prob of getting 1\",p1)\n",
    "p2=outcome[2]/size\n",
    "print(\"sample prob of getting 2\",p2)\n",
    "p3=outcome[3]/size\n",
    "print(\"sample prob of getting 3\",p3)\n",
    "p4=outcome[4]/size\n",
    "print(\"sample prob of getting 4\",p4)\n",
    "p5=outcome[5]/size\n",
    "print(\"sample prob of getting 5\",p5)\n",
    "p6=outcome[6]/size\n",
    "print(\"sample prob of getting 6\",p6)\n",
    "p = 1/6\n",
    "print(\"actual probability\",f\"{p:.3}\", \"\\n\")\n",
    "print(\"Sample Size is 1000000\")\n",
    "size=1000000\n",
    "outcome = np.bincount(np.random.randint(1,7,size))\n",
    "print(outcome)\n",
    "p1=outcome[1]/size\n",
    "print(\"sample prob of getting 1\",p1)\n",
    "p2=outcome[2]/size\n",
    "print(\"sample prob of getting 2\",p2)\n",
    "p3=outcome[3]/size\n",
    "print(\"sample prob of getting 3\",p3)\n",
    "p4=outcome[4]/size\n",
    "print(\"sample prob of getting 4\",p4)\n",
    "p5=outcome[5]/size\n",
    "print(\"sample prob of getting 5\",p5)\n",
    "p6=outcome[6]/size\n",
    "print(\"sample prob of getting 6\",p6)\n",
    "p = 1/6\n",
    "print(\"actual probability\",f\"{p:.3}\", \"\\n\")\n"
   ]
  },
  {
   "cell_type": "markdown",
   "metadata": {},
   "source": [
    "![descrite uniform distribution](img/dudist.png)\n",
    "\n",
    "Often there is an underlying pattern based on this probability. For example in dice throw above, each outcome of getting 1, 2, 3, 4, 5 or 6  has the underlying probabiligy of 1 divided by the number of possible outcomes i.e. 6 hence p =1/6 is the same for all the outcomes. Similarly if we were to toss a coin, there would be 2 outcomes, heads or tails but the underlying distribution would be the same as in the dice throw, i.e. 1 divided by the possible outcomes, in this case 2 not 6 but its still the same for heads and tails with p = 1 divided by the number of outcomes, albeit the number of outcomes differs, 2 for the coin toss and 6 for the dice throw. This type of distribution is called a **uniform distribution**. In particular it is a descrete uniform distribution. i.e outcomes are stepped, they are either 1 or 2 or 3 etc and not midway between 2 and 3. \n",
    "\n",
    "NumPy.random has a descrete uniform distribution built in function. You can generate this distrubtuion by plotting the histogram of randint but an alternative way is to call the \n",
    "\n",
    "\n",
    "\n",
    "\n",
    "\n",
    "There are numerous probibility distributions  \n",
    "\n"
   ]
  },
  {
   "cell_type": "code",
   "execution_count": 18,
   "metadata": {},
   "outputs": [
    {
     "name": "stdout",
     "output_type": "stream",
     "text": [
      "Roll the dice \n",
      "\n",
      "1\n"
     ]
    },
    {
     "data": {
      "image/png": "[encoded data removed]",
      "text/plain": [
       "<matplotlib.figure.Figure at 0x1a8afbb7f28>"
      ]
     },
     "metadata": {
      "needs_background": "light"
     },
     "output_type": "display_data"
    }
   ],
   "source": [
    "print(\"Roll the dice\", \"\\n\")\n",
    "x=np.random.randint(1,7)\n",
    "print(x)\n",
    "plt.title(\"rolls\")\n",
    "plt.xlabel(\"face number\")\n",
    "plt.ylabel(\"count\")\n",
    "plt.hist(x)\n",
    "plt.show()"
   ]
  },
  {
   "cell_type": "markdown",
   "metadata": {},
   "source": [
    "Say you do this a million times and plot your results"
   ]
  },
  {
   "cell_type": "code",
   "execution_count": 19,
   "metadata": {},
   "outputs": [
    {
     "data": {
      "image/png": "[encoded data removed]",
      "text/plain": [
       "<matplotlib.figure.Figure at 0x1a8afbc3fd0>"
      ]
     },
     "metadata": {
      "needs_background": "light"
     },
     "output_type": "display_data"
    }
   ],
   "source": [
    "plt.title(\"1 million rolls\")\n",
    "plt.xlabel(\"face number\")\n",
    "plt.ylabel(\"count\")\n",
    "plt.hist(np.random.randint(1,7,1000000))\n",
    "plt.show()\n"
   ]
  },
  {
   "cell_type": "markdown",
   "metadata": {},
   "source": [
    "The results of the roll all seem to be equally likely, 1 million rolls with 6 possible outcomes is "
   ]
  },
  {
   "cell_type": "code",
   "execution_count": 20,
   "metadata": {},
   "outputs": [
    {
     "name": "stdout",
     "output_type": "stream",
     "text": [
      "166666.67\n"
     ]
    }
   ],
   "source": [
    "print(f\"{1000000/6:.8}\")\n"
   ]
  },
  {
   "cell_type": "markdown",
   "metadata": {},
   "source": [
    "What if you extend the number of throws to its limit so that the 'sample' extends to the total population. Then you would get a probability distribution, in particular you would get a Uniform distribution over the interval 1 to 6. Values between 1 and 6 would each have the same probability (1/6th) of being face up when rolled. "
   ]
  },
  {
   "cell_type": "code",
   "execution_count": 21,
   "metadata": {},
   "outputs": [
    {
     "data": {
      "image/png": "[encoded data removed]",
      "text/plain": [
       "<matplotlib.figure.Figure at 0x1a8afc9def0>"
      ]
     },
     "metadata": {
      "needs_background": "light"
     },
     "output_type": "display_data"
    }
   ],
   "source": [
    "p=100/6\n",
    "plt.subplot(121)\n",
    "plt.xlabel(\"Sample roll\")\n",
    "plt.ylabel('Count')\n",
    "plt.title(\"Sample\")\n",
    "plt.axis([0, 7, 0, 25]) # x_start, x_end, y_start, y_end\n",
    "sample = np.random.randint(1,7,100) # You are generating 100 points between 1 and 6.\n",
    "plt.axhline(y=p, color='r')\n",
    "plt.hist(sample)\n",
    "\n",
    "plt.subplot(122)\n",
    "plt.title(\"Distribution function\")\n",
    "plt.ylabel('Count')\n",
    "plt.xlabel('X~U[0,1]')\n",
    "plt.axhline(y=p, color='r')\n",
    "updf = np.random.uniform(1,6,100)\n",
    "count, bins, ignored = plt.hist(updf, 6, facecolor='green') \n",
    "plt.subplots_adjust(bottom=1.0, right=2.0, top=2.0)\n"
   ]
  },
  {
   "cell_type": "markdown",
   "metadata": {},
   "source": [
    "Probability distributions have different 'shapes'.  "
   ]
  },
  {
   "cell_type": "markdown",
   "metadata": {},
   "source": [
    "## What are seeds and how are they involved in generating pseudorandom numbers. "
   ]
  },
  {
   "cell_type": "markdown",
   "metadata": {},
   "source": [
    "##  The use of seeds in generating pseudorandom numbers\n",
    "\n",
    "## Random generator\n",
    "\n",
    "Random numbers are difficult to generate. Typically when true random numbers are requied some random natural process is used such as radioactive decay levels. Computational random number generation is not truely random. Algorithms can produce long sequences of random looking data but which in reality are completely deterministic once a key value or a seed is known [](https://en.wikipedia.org/wiki/Random_number_generation#%22True%22_vs._pseudo-random_numbers). \n",
    "\n",
    "Numpy.random contains four functions involved with the generation of random data from a specified range or given population, RandomState, Seen, get_state and set_state. As noted before 'random' in this sence means pseudo random. Numpy.random uses the pseudo random number generator (PSNG) algorithm named the 'Mersenne Twister'. This is a widely used computer algorithm that is suitable for most random number generaton needs. A PSNG requires a seed as a starting point in the random  sequence. Once a seed is defined, the random sequence it generates can be predicted [](Vo. T.H et al., 2017). If no seed is given then Numpy picks a 'random' one based on either the computers internal clock settings or on the computers own random number generator [](Vo. T.H et al., 2017). \n",
    "\n",
    "- RandomState\n",
    "- Seed\n",
    "- get_state\n",
    "- set_state\n",
    "\n",
    "Simple random data function and and random distrubution functions use the same universal random seed. If you want a different seed for one particular random pattern then you can specify the unique seed with the RandomState function. This creates a local random number gererator that differs from the global one used by the other functions [](McKinny, 2018). \n",
    "\n",
    "Numpy.random has a function seed that allows the user to specify the seed and therefore generate a predictible random pattern of data. This is required when testing statistical models that require the same 'random noise' so as not to affect the statistical parameters. \n",
    "\n",
    "get_state and set_state are ways of setting a specific random state (set_state) and recalling (get_state)for specific use [](https://stackoverflow.com/questions/48504854/python-random-getstate-and-random-setstate). \n",
    "\n",
    "Each of these four functions will be discussed below. \n",
    "\n",
    "\n",
    "### RandomState\n",
    "RandomState(`[seed]`) takes the seed value for the Mersenne Twister as input and outputs the container for the Mersenne Twister pseudo-random number generator [](https://docs.scipy.org/doc/numpy-1.15.1/reference/routines.random.html). There is always an underlying RandomState in numpy. All the functions in Numpy.random operate within an global instance of a default RandomState that is not explicitly set. RandomState function is used when the same set of random numbers is required. It allows random numbers from specific instance of the random state to be generated at a local level. \n",
    "\n",
    "This means that rather than changing global seed for the Mersenne Twister, a container or instance is created with that specific seed. It is used prior to calling other numpy.random functions. RandomState, like the seed function, allows for functions that call and create random data to return the same random data when called again. RandomState comes with a wide varity of methods to call various probability distrubtions and simple random data function. \n",
    "\n",
    "Generally RandomState is prefered over seed as if seed is used all instances of random numbers called within the session will be affected but in RandomState only the instance where it is used with the random method is affected. One thing that I'm not sure off is why RandomState shows different values when called agrepeatedly run but subesquent runs s \n",
    "\n",
    "----delete----\n",
    "\n",
    "Container for the Mersenne Twister pseudo-random number generator.\n",
    "\n",
    "RandomState exposes a number of methods for generating random numbers drawn from a variety of probability distributions. In addition to the distribution-specific arguments, each method takes a keyword argument size that defaults to None. If size is None, then a single value is generated and returned. If size is an integer, then a 1-D array filled with generated values is returned. If size is a tuple, then an array with that shape is filled and returned.\n",
    "\n",
    "Compatibility Guarantee A fixed seed and a fixed series of calls to ‘RandomState’ methods using the same parameters will always produce the same results up to roundoff error except when the values were incorrect. Incorrect values will be fixed and the NumPy version in which the fix was made will be noted in the relevant docstring. Extension of existing parameter ranges and the addition of new parameters is allowed as long the previous behavior remains unchanged.\n",
    "Parameters:\t\n",
    "\n",
    "seed : {None, int, array_like}, optional\n",
    "\n",
    "    Random seed used to initialize the pseudo-random number generator. Can be any integer between 0 and 2**32 - 1 inclusive, an array (or other sequence) of such integers, or None (the default). If seed is None, then RandomState will try to read data from /dev/urandom (or the Windows analogue) if available or seed from the clock otherwise.\n",
    "\n",
    "--- end delete ----\n",
    "\n",
    "--- useful links and things to check ---\n",
    "https://stackoverflow.com/questions/5836335/consistently-create-same-random-numpy-array\n",
    "\n",
    "https://stackoverflow.com/questions/32462273/how-to-use-random-randomstate\n",
    "\n",
    "How does randomstate differ from seed? seed uses the functions of numpy.random i.e. the simple random data, permutation and distribution functions mentioned above, whereas RandomSeed uses a wide varitey of methods that are similar to numpy.random's global functions but local to just the RandomState function. \n",
    "\n",
    "\n"
   ]
  },
  {
   "cell_type": "code",
   "execution_count": null,
   "metadata": {},
   "outputs": [],
   "source": [
    "'''\n",
    "# generate a random number with seed 5\n",
    "seed = 5\n",
    "np.random.seed(seed)\n",
    "print(np.random.rand())\n",
    "# output is always 0.22199317108973948\n",
    "\n",
    "#This uses the global rand function and the seed affects all random functions within numpy.random for example \n",
    "\n",
    "print(np.random.randint(10)) # picks a random integer between [0, 10) - its always 6 with a seed of 5 a different simple random function than the one rand used above\n",
    "# This will always be 6 when the seed is 5\n",
    "\n",
    "\n",
    "#another way to achive the same result without affecting other the randomness of other numpy functions is to use RandomState\n",
    "# set the state\n",
    "rs = np.random.RandomState(seed)\n",
    "# call the method\n",
    "print(rs.rand())\n",
    "# This will be 0.8928601514360016 \n",
    "# however the other global function will not be affected by the RandomState's seed value and will remain at the previously 5 seeded value of 6\n",
    "print(np.random.randint(10))\n",
    "#reset random seed\n",
    "\n",
    "# when the above code is run but the seed value is changed\n",
    "\n",
    "# generate a random number with seed 5\n",
    "seed = 50\n",
    "np.random.seed(seed)\n",
    "print(np.random.rand())\n",
    "# output is always 0.22199317108973948\n",
    "\n",
    "#This uses the global rand function and the seed affects all random functions within numpy.random for example \n",
    "\n",
    "print(np.random.randint(10)) # picks a random integer between [0, 10) - its always 6 with a seed of 5 a different simple random function than the one rand used above\n",
    "# This will always be 6 when the seed is 5\n",
    "\n",
    "\n",
    "#another way to achive the same result without affecting other the randomness of other numpy functions is to use RandomState\n",
    "# set the state\n",
    "rs = np.random.RandomState(seed)\n",
    "# call the method\n",
    "print(rs.rand())\n",
    "# This will be 0.8928601514360016 \n",
    "# however the other global function will not be affected by the RandomState's seed value and will remain at the previously 5 seeded value of 6\n",
    "print(np.random.randint(10))\n",
    "#reset random seed\n",
    "\n",
    "# this shows that the local call to RandomState's methods same (0.49460164553802144) but the global numpy.random functions have different seeds and hence differnt random values \n",
    "\n",
    "# This allows you to have many instances of randomly generated numbers with differnt seeds within the same instance of python running\n",
    "\n",
    "\n",
    "## still not 100 pc sure whats going on with the numbers\n",
    "\n",
    "# https://stackoverflow.com/questions/32462273/how-to-use-random-randomstate\n",
    "'''"
   ]
  },
  {
   "cell_type": "code",
   "execution_count": null,
   "metadata": {},
   "outputs": [],
   "source": [
    "'''\n",
    "# Create the random state rn with seed 10 \n",
    "# example adapted from https://www.machinelearningplus.com/python/numpy-tutorial-part1-array-python-examples/\n",
    "print(np.random.RandomState(None))\n",
    "\n",
    "print(np.random.RandomState())\n",
    "\n",
    "print(np.random.RandomState(100))\n",
    "\n",
    "\n",
    "\n",
    "\n",
    "rn = np.random.RandomState(10)\n",
    "\n",
    "# Create 20 random numbers between [0,1) with the rand simple random data function\n",
    "print(rn.rand(20), '\\n')\n",
    "print(rn.rand(20), '\\n')\n",
    "print(rn.rand(20), '\\n')\n",
    "print(rn.rand(20), '\\n')\n",
    "print(rn.rand(20), '\\n')\n",
    "'''\n"
   ]
  },
  {
   "cell_type": "markdown",
   "metadata": {},
   "source": [
    "In the above example, the random numbers generated were the same each time as the state was created locally before the simple random data function was called. If the RandomState is not set each time, numpy.random will default back to the global instance and use a random seed. "
   ]
  },
  {
   "cell_type": "code",
   "execution_count": null,
   "metadata": {},
   "outputs": [],
   "source": [
    "'''\n",
    "# Create the random state rn with seed 10 \n",
    "# example adapted from https://www.machinelearningplus.com/python/numpy-tutorial-part1-array-python-examples/\n",
    "\n",
    "seed = 10\n",
    "rn = np.random.RandomState() # this array has a RandomState created\n",
    "print(rn)\n",
    "\n",
    "rn.get_state\n",
    "\n",
    "\n",
    "# Create 20 random numbers between [0,1) with the rand simple random data function\n",
    "#print(rn.rand(20), '\\n') # This array has a random\n",
    "# The numbers will be the same each time once rn's RandomState is created each time\n",
    "#create the random state\n",
    "#print(rn.rand(20), '\\n')\n",
    "#create the random state\n",
    "#print(rn.rand(5), '\\n')\n",
    "\n",
    "'''"
   ]
  },
  {
   "cell_type": "markdown",
   "metadata": {},
   "source": [
    "### Seed\n",
    "\n",
    "seed([seed])takes the value selected to seed the Mersenne twister algorithm and its output is not called directly rather it uses the seed input to generate Mersenne twister.[](https://docs.scipy.org/doc/numpy/reference/routines.random.html). It does not return any value as output. If the seed value is not set with this function or the RandomState functon it defaults randomly generated seeds based on the computers internal clock time or internal random generator. Unlike RandomState which only affects the local instance of random method calls, the seed function acts on a global scale and affects all the Numpy.random functions. If the RandomState is not set, it is randomly allocated. Seed is used when the same set of random data is needed. This is used to test models particularly in machine learning. Its input is an integer or 1 dimentional array and if not specified, a random seed is used as mentioned above. [](https://docs.scipy.org/doc/numpy/reference/generated/numpy.random.seed.html#numpy.random.seed) \n",
    "\n",
    "\n",
    "----delete ----\n",
    " numpy.random.seed(seed=None)\n",
    "\n",
    "    Seed the generator.\n",
    "\n",
    "    This method is called when RandomState is initialized. It can be called again to re-seed the generator. For details, see RandomState.\n",
    "    Parameters:\t\n",
    "\n",
    "    seed : int or 1-d array_like, optional\n",
    "\n",
    "        Seed for RandomState. Must be convertible to 32 bit unsigned integers.\n",
    "        \n",
    " ----delete ----\n"
   ]
  },
  {
   "cell_type": "code",
   "execution_count": null,
   "metadata": {},
   "outputs": [],
   "source": [
    "'''\n",
    "#changes everytime as seed is randomly set\n",
    "np.random.seed()\n",
    "print(np.random.rand(5))\n",
    "\n",
    "# remains the same as seed is set\n",
    "np.random.seed(1)\n",
    "\n",
    "print(np.random.rand(5))\n",
    "np.random.seed(1)\n",
    "print(np.random.ranf(5))\n",
    "'''"
   ]
  },
  {
   "cell_type": "markdown",
   "metadata": {},
   "source": [
    "Rough work\n",
    "\n",
    "Container for the Mersenne Twister pseudo-random number generator.\n",
    "\n",
    "RandomState exposes a number of methods for generating random numbers drawn from a variety of probability distributions. In addition to the distribution-specific arguments, each method takes a keyword argument size that defaults to None. If size is None, then a single value is generated and returned. If size is an integer, then a 1-D array filled with generated values is returned. If size is a tuple, then an array with that shape is filled and returned.\n",
    "\n",
    "Compatibility Guarantee A fixed seed and a fixed series of calls to ‘RandomState’ methods using the same parameters will always produce the same results up to roundoff error except when the values were incorrect. Incorrect values will be fixed and the NumPy version in which the fix was made will be noted in the relevant docstring. Extension of existing parameter ranges and the addition of new parameters is allowed as long the previous behavior remains unchanged.\n",
    "Parameters:\t\n",
    "\n",
    "seed : {None, int, array_like}, optional\n",
    "\n",
    "    Random seed used to initialize the pseudo-random number generator. Can be any integer between 0 and 2**32 - 1 inclusive, an array (or other sequence) of such integers, or None (the default). If seed is None, then RandomState will try to read data from /dev/urandom (or the Windows analogue) if available or seed from the clock otherwise.\n",
    "\n",
    "Notes\n",
    "\n",
    "The Python stdlib module “random” also contains a Mersenne Twister pseudo-random number generator with a number of methods that are similar to the ones available in RandomState. RandomState, besides being NumPy-aware, has the advantage that it provides a much larger number of probability distributions to choose from. \n",
    "\n",
    "\n",
    "\n",
    "if RandomState is not used then any random numbers generate may differ the next time they are called as they are been seeded from a difference instance of RandomState\n",
    "\n",
    "If you use the functions in the numpy.random namespace, you will not get consistent pseudorandom numbers because they are pulling from a different RandomState instance than the one you just created.\n",
    "\n",
    "\n",
    "\n",
    "\n",
    "Random generator\n",
    "RandomState([seed]) \tContainer for the Mersenne Twister pseudo-random number generator.\n",
    "seed([seed]) \tSeed the generator.\n",
    "get_state() \tReturn a tuple representing the internal state of the generator.\n",
    "set_state(state) \tSet the internal state of the generator from a tuple."
   ]
  },
  {
   "cell_type": "markdown",
   "metadata": {},
   "source": [
    "### get_state\n",
    "\n",
    "get_state has no input and returns a tuple representing the internal state of the generator [](https://docs.scipy.org/doc/numpy/reference/routines.random.html). It outputs 5 items namely a string 'MT19937' which denotes the (M)ersenne (T)wister 19937 generator. This algorithm as 2<sup>199937</sup> - 1 states [](https://stackoverflow.com/questions/32172054/how-can-i-retrieve-the-current-seed-of-numpys-random-number-generator); The second output item is an array of 624 unsigned 32 bit integer keys. 2<642`*`32> > 2<sup>199937</sup> - 1 hence there is enough bits to represent all the internal states; The third output is a ....; The fourth and fifth output refers to generator states for the standard normal varibale [](https://stackoverflow.com/questions/44313620/converting-to-and-from-numpys-np-random-randomstate-and-pythons-random-random). The Box-Muller transformation is used by Numpy which creates pairs of these variables, one for immediate use and one stored for later use. [](https://en.wikipedia.org/wiki/Box%E2%80%93Muller_transform). I dont know want the 10 in the third output refers to, but I speculate its something to do with position. \n",
    "\n",
    "\n",
    "e last two entries there refer to the state of the generator for standard normal deviates: NumPy uses the Box–Muller transform, which generates these deviates in pairs. So the first call to the gaussian generator produces two values, returns the first, and then stores the second away for later use. The second call then retrieves that second value. Thus we have extra state here that it's necessary to store and retrieve.\n",
    "\n",
    "\n",
    "\n",
    "postive integer \n",
    "\n",
    "\n",
    ", a specific 624 element array\n",
    "get_state() \tReturn a tuple representing the internal state of the generator.\n",
    "\n",
    " numpy.random.get_state()¶\n",
    "\n",
    "    Return a tuple representing the internal state of the generator.\n",
    "\n",
    "    For more details, see set_state.\n",
    "    Returns:\t\n",
    "\n",
    "    out : tuple(str, ndarray of 624 uints, int, int, float)\n",
    "\n",
    "        The returned tuple has the following items:\n",
    "\n",
    "            the string ‘MT19937’.\n",
    "            a 1-D array of 624 unsigned integer keys.\n",
    "            an integer pos.\n",
    "            an integer has_gauss.\n",
    "            a float cached_gaussian.\n",
    "\n"
   ]
  },
  {
   "cell_type": "code",
   "execution_count": null,
   "metadata": {},
   "outputs": [],
   "source": [
    "#print(np.random.get_state())\n",
    "\n",
    "# adapted from https://stackoverflow.com/questions/45190558/direct-way-to-access-numpy-randomstate-object/45190832#45190832\n",
    "\n",
    "state = np.random.get_state()\n",
    "np.random.rand()\n",
    "print(state)\n",
    "\n",
    "#print(np.random.set_state(state))\n",
    "\n",
    "np.random.rand()\n",
    "\n",
    "#print(state[0]) # the algorithm used MT (2**19937) - 1 \n",
    "#print(state[1]) # used in representing the internal states\n",
    "print(state[2]) # ??? is this the state number?? it goes up in 4's every time its executed some sort of counter - restart python and see if it resets\n",
    "# it seems to have gone back to 10 - comment out the other random state calls above and see if it goes back to 2\n",
    "# is it a number that counts the number of times the random state is called in a particular session? no that didn't do anything - turn off and one jp and see if that does something\n",
    "print(state[3]) # used in the box muller transformation of the MT\n",
    "print(state[4]) # used in the box muller transformation of the MT"
   ]
  },
  {
   "cell_type": "markdown",
   "metadata": {},
   "source": [
    "\n",
    "# Reference\n",
    "\n",
    "Idris, I. (2015). NumPy: Beginner's Guide - Third Edition. 3rd ed. BIRMINGHAM - MUMBAI: Packt Publishing. \n",
    "\n",
    "McKinney, W. (2018). Python for data analysis. Beijing [i 4 pozostałe]: O'Reilly.\n",
    "\n",
    "Docs.scipy.org. (2018). Random sampling (numpy.random) — NumPy v1.15 Manual. [online] Available at: https://docs.scipy.org/doc/numpy-1.15.1/reference/routines.random.html [Accessed 20 Oct. 2018].\n",
    "\n",
    "Vo. T.H, P., Czygan, M., Kumar, A. and Raman, K. (2017). Python. Birmingham: Packt Publishing.\n",
    "\n",
    "McLeod, S. (2018). Sampling Methods | Simply Psychology. [online] Simplypsychology.org. Available at: https://www.simplypsychology.org/sampling.html [Accessed 20 Oct. 2018].\n",
    "\n",
    "En.wikipedia.org. (2018). Simple random sample. [online] Available at: https://en.wikipedia.org/wiki/Simple_random_sample [Accessed 20 Oct. 2018].\n",
    "\n",
    "Mehta, H. (2015). Mastering Python scientific computing. 1st ed. Birmingham: Packt Publishing."
   ]
  },
  {
   "cell_type": "code",
   "execution_count": null,
   "metadata": {},
   "outputs": [],
   "source": []
  },
  {
   "cell_type": "code",
   "execution_count": null,
   "metadata": {},
   "outputs": [],
   "source": []
  }
 ],
 "metadata": {
  "kernelspec": {
   "display_name": "Python 3",
   "language": "python",
   "name": "python3"
  },
  "language_info": {
   "codemirror_mode": {
    "name": "ipython",
    "version": 3
   },
   "file_extension": ".py",
   "mimetype": "text/x-python",
   "name": "python",
   "nbconvert_exporter": "python",
   "pygments_lexer": "ipython3",
   "version": "3.6.6"
  }
 },
 "nbformat": 4,
 "nbformat_minor": 2
}
