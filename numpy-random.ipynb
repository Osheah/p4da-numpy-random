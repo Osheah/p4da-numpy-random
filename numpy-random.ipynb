{
 "cells": [
  {
   "cell_type": "markdown",
   "metadata": {},
   "source": [
    "\n",
    "\n",
    "# Assignment - Explain the numpy.random package\n",
    "\n",
    "![numpylogo](img/numpy.jpeg)\n",
    "\n",
    "\n",
    "\n",
    "## Why are random numbers needed? \n",
    "\n",
    "The ability to generate random numbers has many useful applications. Say a researcher is interested in the effectiveness of a new ulcer drug. The population of interest is every person with ulcers. It would impractically costly and time-consuming contact everyone with ulcers, give them the drug and then compare before and after reports. Indeed, the population of people with ulcers as a total population would be impossible to judge as many people may have ulcers without ever seeking treatment or are undiagnosed. \n",
    "\n",
    "## Why take samples?\n",
    "\n",
    "The researcher needs to take a sample from this population. This sample should be big enough and diverse enough so that it fairly represents the wider population. The sample data is used to make **generalisations** about its population. For example, a common bias in psychology research is using its student population as a sample of the general population. In reality students are not fair models of the general population as they are more likely to be from a more affluent and better educated subset of the general population (Hanel & Vione 2016). Sampling involves taking a sufficiently sized subset of a given population, that accurately reflects the phenomena under investigation,so that information from the sample can be used to infer things about the overall population. It is vital then that *the sample shares the same characteristics as its target population*. \n",
    "\n",
    "## Problems with picking samples \n",
    "\n",
    "Picking samples that represent a population is prone to **biases**. For example, if asked to pick a number at random between 1 and 10 there will be far more 3's and 7's than would be expected if the choice was truly random (Bellos,2014).\n",
    "\n",
    "One way to reduce sampling bias is to use **random sampling** (Foley, 2018). Random sampling means that every item in the target population has an *equal* chance of being selected. In the example above, the target population would be the numbers between 1 and 10 inclusive and random sampling means that each number in this interval would have an equal probability of being selected. \n",
    "\n",
    "If random sampling is not used then certain elements of the population are favoured over others which skews the results and limits its generalising ability. In reality, it is often difficult to define the target population from its sample precisely so that *only* the phenomena in question is investigated.  \n",
    "\n",
    "![Literary Digest](img/digest.jpg)\n",
    "\n",
    "For example in 1936 there was a phone poll conducted by The Literary Digest which predicted that the Republican Alfred Landon would win the election 57% to 43% from the Democrat F.D.Roosevelt. However, the actual results from the election was 62% in favour of FDR. The problem was **sample bias**. Only readers of the Digest that also had phones and cars were polled and they were more likely to vote Republican in depression era America. People with cars/phones were also more likely to come from a more affluent background and were not as likely to be moved by FDR’s new deal rhetoric(Wikipedia contributors 2018a). It appears that lessons were not learned and a similar bias occurred in the 1948 Truman-Dewey United States presidential election (Foley, 2018, Wikipedia contributors, 2018a).  Random sampling does not remove sample bias but it does limit one aspect of it, biases introduced by favouring subsets of the target population rather than then every element being as likely to be selected as every other one.   \n",
    "\n",
    "\n",
    "## Algorithms and random numbers\n",
    "\n",
    "Computing algorithms are deterministic . They cannot generate true randomness without using some external piece of information(Wikipedia contributors, 2018b). \n",
    "\n",
    "![lave lamps](img/lava.jpg)\n",
    "\n",
    "\n",
    "For example the DNS service, *Cloudflare* uses a wall of lava lamps in its head office to help generate the randomness needed for its cryptography (Liebow-Feeser, 2018). Many areas of science and computing do not need true randomness. In fact, some areas *require* predictable ‘randomness’ so that model parameters can be tested with the same random ‘noise’. Computer algorithms use **pseudo random numbers** (PRNs) (Idris, 2015). To all appearances these look random but if a key piece of information is known, the whole random sequence can be predicted. There are several **pseudo random number generator**(PRNG) algorithms. \n",
    "\n",
    "One of the most widely used PRNG is the *Mersenne Twister*. A Mersenne number (otherwise known as a Mersenne prime) is a prime number that is one less than a power of 2 (Weisstein, 2018). The twister aspect refers to its period length being a Mersenne prime which is ‘twisted’ by various transformations when random numbers are generated (Wikipedia contributors, 2018c). A commonly used Mersenne twister algorithm uses 19937 as its power e.g $2^19937 - 1$.  This algorithm takes a ‘seed’ value as a starting point. This is initialised into a state (or stream) and transformed via reversible and non-reversible transformations in order to generate the PRNs (Wong, n.d.). The Mersenne Twister is not secure enough for cryptography however it is a useful and widely used all purpose PRNG (Wikipedia contributors, 2018c).  \n",
    "\n",
    "## Random numbers in Python\n",
    "\n",
    "![python logo](img/python.png)\n",
    "\n",
    "Python has an in-built random package *random* (Python community, 2018). NumPy extends this by adding extra functionality and methods in its *numpy.random* package (NumPy community, 2018). Both Python and Numpy.random use the Mersenne twister 19937 algorithm to generate PRNs (NumPy community, 2018; Python community, 2018; Stackoverflow, alexdor, 2018).\n",
    "\n",
    "\n",
    "## Why use NumPy for generating random numbers?\n",
    "\n",
    "Python's *random* method generates a random float number uniformly from the interval 0 inclusive to 1 exclusive (Python community, 2018). *random* has many of the functions and methods contained in numpy.random so *why use numpy.random?*\n",
    "\n",
    "The main reason numpy.random function is used over Python’s random.random package is that NumPy is designed to work with n dimensional arrays . Numpy uses less memory and is faster than lists used in the default python.   NumPy is specialised for scientific operations and has more advanced mathematical functionality than Python. It is especially useful for manipulating numerical data that can be arranged in matrices (Oliphant, 2006; Metaspace contributors, n.d.; NumPy community, 2018). \n",
    "\n",
    "PRN’s can be arranged in arrays, a speciality in NumPy (NumPy community, 2018). Numpy.random and Python’s default random.random have similar functions and methods but numpy.random has some extra probability distributions common to scientific research, some extra simple random data convenience functions and more distributions (Python community, 2018; Oliphant, 2006; NumPy community, 2018).  Neither random.random or numpy.random are suitable for cryptography purposes (Stackoverflow, Hannele, 2011).\n",
    "\n",
    "The functions and methods offered in numpy.random are the following (NumPy community, 2018): \n",
    "\n",
    "* simple random data\n",
    "* permutations\n",
    "* distributions\n",
    "* random generator\n",
    "\n",
    "*Simple random data* section consist of several functions that generate simple random data.Inputs can be sizes or ranges. *Permutation* functions randomly shuffle or permutes a given sequence. *Distribution* functions allow specific population distributions or ranges to be sampled. This may require statistical measures such as mean and standard deviation. numpy.random can generate samples from continuous and discrete distributions (Idris, 2015). Lastly, the *random generator* section contains functions that allow seeds to be specified (Mehta, 2015). This is useful in cases where the exact same sequence of random data is required. Each of these sections will be explored. \n",
    " "
   ]
  },
  {
   "cell_type": "markdown",
   "metadata": {},
   "source": [
    "## What does Simple random data do?\n"
   ]
  },
  {
   "cell_type": "markdown",
   "metadata": {},
   "source": [
    "There are 10 simple random data functions in numpy.random, namely (Oliphant, 2006;NumPy community, 2018); \n",
    "\n",
    "1. rand\n",
    "2. randn\n",
    "3. randint\n",
    "4. random_integers\n",
    "5. random_sample\n",
    "6. random\n",
    "7. randf\n",
    "8. sample\n",
    "9. choice\n",
    "10. bytes\n",
    "\n",
    "Of these random, ranf and sample are aliases of random_sample, with similar inputs and outputs (Stackoverflow, askewchan,  2018). In addition rand and randn are convenience functions, meaning that their functionality can be achieved by Python's in built functions (Oliphant, 2006; NumPy community, 2018; Python community, 2018). Each of these functions are used to generate simple random data of various sizes or shapes over various intervals or ranges. Which function is used depends on the requirements. \n"
   ]
  },
  {
   "cell_type": "markdown",
   "metadata": {},
   "source": [
    "### Import libraries"
   ]
  },
  {
   "cell_type": "code",
   "execution_count": 3,
   "metadata": {
    "scrolled": true
   },
   "outputs": [],
   "source": [
    "#Import packages numpy and matplotlib.pyplot\n",
    "import numpy as np\n",
    "import random\n",
    "import matplotlib.pyplot as plt\n",
    "import pandas as pd\n",
    "# display pyplot in jupyter notebook\n",
    "%matplotlib inline"
   ]
  },
  {
   "cell_type": "markdown",
   "metadata": {},
   "source": [
    "#### Python's default random function\n",
    "\n",
    "Python has the built in random function for generating simple random data (Python community, 2018)."
   ]
  },
  {
   "cell_type": "code",
   "execution_count": 2,
   "metadata": {
    "scrolled": true
   },
   "outputs": [
    {
     "name": "stdout",
     "output_type": "stream",
     "text": [
      "Simple random data from python's inbuilt random function \n",
      "\n",
      "0.2652831576022916 \n",
      "\n",
      "Simple random data from python's inbuilt random function uniformly distriubted between 0 and 1 \n",
      "\n",
      "0.5756531014836602\n"
     ]
    }
   ],
   "source": [
    "r1 = random.random()\n",
    "print(\"Simple random data from python's inbuilt random function\", '\\n')\n",
    "print(r1, '\\n')\n",
    "print(\"Simple random data from python's inbuilt random function uniformly distriubted between 0 and 1\", '\\n')\n",
    "r2 = random.uniform(0,1)\n",
    "print(r2)"
   ]
  },
  {
   "cell_type": "markdown",
   "metadata": {},
   "source": [
    "numpy.random extends this, adding extra functions and methods (Oliphant, 2006;NumPy community, 2018) \n",
    "\n",
    "\n",
    "|Simple Random Data |    Input                    |     Output                                                       |\n",
    "| ----------------- |--------------------------   | ---------------------------------------------------------------  |\n",
    "| rand              | d0, d1, …, dn               | Random values in a given shape                                   |               \n",
    "| randn             | d0, d1, …, dn               | sample (or samples) from the 'standard normal' distribution      |              \n",
    "| randint           | low\\[, high, size, dtype\\]  | Return random integers from low (inclusive) to high (exclusive)  |            \n",
    "| random_integers   | low\\[, high, size \\]) \t  | Random integers of type np.int between low and high, inclusive.  |\n",
    "| random_sample     | \\[size\\]                    | Random floats in the half-open interval \\[0.0, 1.0)              |               \n",
    "| random            | \\[size\\]                    | Random floats in the half-open interval \\[0.0, 1.0)              |               \n",
    "| ranf              | \\[size\\]                    | Random floats in the half-open interval \\[0.0, 1.0)              |               \n",
    "| sample            | \\[size\\]                    | Random floats in the half-open interval \\[0.0, 1.0)              |               \n",
    "| choice            | a\\[, size, replace, p\\]     | Generates a random sample from a given 1-D array                 |                     \n",
    "| bytes             | length                      | Random bytes                                                     |      \n",
    "\n",
    "### rand\n",
    "\n",
    "rand outputs random values in a given shape (NumPy community, 2018). Shape refers to the arrangement of the arrays. e.g. a input of  rand(1) is a single 1 by 1 matrix array(number of rows x columns); An input of (2,3) is  a 2 by 3 matrix array, while an input of (2,3,4) is 2 arrays each consisting of 3 by 4 matrix arrays. \n",
    "\n",
    "It creates random values in a given shape. Inputs are non negative integers, although 0 returns an empty array.  If no input is given a single number is outputted. \n",
    "\n",
    "Output arrays come from the continuous uniform distribution i.e. each number has the same probability of being selected in the interval between 0 inclusive and 1 exclusive \\[0, 1) (square bracket indicates the number enclosed by it is included and round brackets indicates that the number enclosed by it is excluded). Rand is a convenience function as a similar output can be generated by Python's random.random function. \n",
    "\n",
    "#### When would you use rand?\n",
    "\n",
    "Use rand if you want to generate random values from a uniform semi closed interval [0,1) to populate matrices of a given size; note that single floats can be generated with empty parameters and single element arrays can be generated with argument 1. It is similar to Python's random.random but extends the input to accept different array sizes (Python community, 2018; Oliphant, 2006; NumPy community, 2018).\n"
   ]
  },
  {
   "cell_type": "code",
   "execution_count": 6,
   "metadata": {
    "scrolled": true
   },
   "outputs": [
    {
     "name": "stdout",
     "output_type": "stream",
     "text": [
      "Generate a 2 by 4 matrix filled with random numbers in [0,1) \n",
      " [[ 0.72441121  0.59806919  0.16336741  0.49591748]\n",
      " [ 0.59357699  0.64837213  0.21460555  0.55302104]] \n",
      "\n",
      "Generate a single float \n",
      " 0.7494832784239026 \n",
      "\n",
      "Generate a 1-d matrix \n",
      " [ 0.80063078] \n",
      "\n"
     ]
    }
   ],
   "source": [
    "print(\"Generate a 2 by 4 matrix filled with random numbers in [0,1) \\n\",np.random.rand(2,4), \"\\n\")\n",
    "print(\"Generate a single float \\n\", np.random.rand(),\"\\n\")\n",
    "print(\"Generate a 1-d matrix \\n\",np.random.rand(1), \"\\n\")\n",
    "\n"
   ]
  },
  {
   "cell_type": "markdown",
   "metadata": {},
   "source": [
    "### randn\n",
    "\n",
    "randn outputs a sample(s) from the *standard normal* distribution $X\\sim N(0,\\,1)$ (Oliphant, 2006; NumPy community, 2018).\n",
    "randn is similar to rand but takes its random numbers from the standard normal distribution with mean 0 and standard deviation 1. It is similar to the standard_normal distribution in Python.random (Python community, 2018) however standard_normal can have tuples as arguments. randn's arguments must be positive integers or integer like (such as int(1.02). Like rand, it is a convenience function with inputs for sizes. If no input given a single random number (float) from the standard normal distribution is outputted. \n",
    "\n",
    "Outputs take the form of n dimensional arrays in the shape specified by the inputs. If a non-standard normal distribution $X\\sim N(\\mu,\\,\\sigma^2)$ is required, the transformation $\\mu + \\sigma * np.random.rand()$ can be applied where $\\mu$ is the mean and $\\sigma$ is the standard deviation. \n",
    "\n",
    "#### When would you use randn?\n",
    "\n",
    "Use randn If you want to generate random values in a specified shape with values taken from the standard normal distribution centered in a bell curve round 0 with most values falling between -3 and 3. Unlike rand - negative values can be returned. If a normal but not standard normal distribution is required you can transform the random values taken from the standard normal to the normal distribution. "
   ]
  },
  {
   "cell_type": "code",
   "execution_count": 8,
   "metadata": {
    "scrolled": false
   },
   "outputs": [
    {
     "name": "stdout",
     "output_type": "stream",
     "text": [
      "No input given  - single random float returned \n",
      " 0.3435460515136769 \n",
      "\n",
      "1 input given  - single random array from N(0,1) \n",
      " [-0.07445848] \n",
      "\n",
      "5 outputs a 1x1 array of 5 random floats from N(0,1) \n",
      " [ 0.6607607   0.77116901 -1.30877506  0.69256638  0.55561735] \n",
      "\n",
      "outputs 2 arrays of 3x4 matrices filled with random numbers from N(0,1) \n",
      "  [[[-0.71489076  0.07594604  0.49145232 -2.05141972]\n",
      "  [ 0.24479781  2.97889087  0.71252194  1.47749048]\n",
      "  [ 0.29852129 -1.04380739  0.503494   -0.41580947]]\n",
      "\n",
      " [[-1.2541523   1.83270902  0.40039921  0.70165554]\n",
      "  [-0.25537252  0.50832965 -0.80489868  0.21802505]\n",
      "  [-0.49806303 -0.33700856  0.66367863  0.1750652 ]]] \n",
      "\n"
     ]
    }
   ],
   "source": [
    "print(\"No input given  - single random float returned \\n\", np.random.randn(),\"\\n\")\n",
    "print(\"1 input given  - single random array from N(0,1) \\n\", np.random.randn(1),\"\\n\")\n",
    "print(\"5 outputs a 1x1 array of 5 random floats from N(0,1) \\n\",np.random.randn(5),\"\\n\")\n",
    "print(\"outputs 2 arrays of 3x4 matrices filled with random numbers from N(0,1) \\n \", np.random.randn(2,3,4),\"\\n\")\n",
    "\n"
   ]
  },
  {
   "cell_type": "markdown",
   "metadata": {},
   "source": [
    "To see the shape of the distribution plot a histogram. This is the standard normal distribution around its mean of 0 with a standard deviation 1.  "
   ]
  },
  {
   "cell_type": "code",
   "execution_count": 9,
   "metadata": {
    "scrolled": false
   },
   "outputs": [
    {
     "data": {
      "image/png": "[encoded data removed]",
      "text/plain": [
       "<matplotlib.figure.Figure at 0x22643e0c588>"
      ]
     },
     "metadata": {
      "needs_background": "light"
     },
     "output_type": "display_data"
    }
   ],
   "source": [
    "plt.subplot(121)\n",
    "x = np.random.randn(10000)\n",
    "plt.title(\"Standard Normal - randn\")\n",
    "plt.hist(x)\n",
    "plt.subplot(122)\n",
    "x = np.random.rand(10000)\n",
    "plt.title(\"Uniform - rand\")\n",
    "plt.hist(x)\n",
    "plt.subplots_adjust(bottom=1.0, right=2.0, top=2.0)\n",
    "plt.show()"
   ]
  },
  {
   "cell_type": "code",
   "execution_count": 6,
   "metadata": {
    "scrolled": false
   },
   "outputs": [
    {
     "name": "stdout",
     "output_type": "stream",
     "text": [
      "To generate shaped random numbers from a normal distribution N(2, 9) \n",
      " transform randn by mean + standard deviation times randn \n",
      "\n",
      "this shifts the plot left to centre it round 2 with a spread of 9\n"
     ]
    },
    {
     "data": {
      "image/png": "[encoded data removed]",
      "text/plain": [
       "<matplotlib.figure.Figure at 0x1fecb2edb00>"
      ]
     },
     "metadata": {
      "needs_background": "light"
     },
     "output_type": "display_data"
    }
   ],
   "source": [
    "print(\"To generate shaped random numbers from a normal distribution N(2, 9) \\n transform randn by mean + standard deviation times randn\",\"\\n\")\n",
    "plt.hist(2+3*np.random.randn(1000))\n",
    "print(\"this shifts the plot left to centre it round 2 with a spread of 9\")"
   ]
  },
  {
   "cell_type": "markdown",
   "metadata": {},
   "source": [
    "### randint\n",
    "\n",
    "randint outputs random integers from the range low (inclusive) to high (exclusive)(NumPy community, 2018). \n",
    "\n",
    "randint differs from the rand and randn, in that it returns **integers** not floats, within a specified interval \\[low, high). Integers are returned from the **discrete** uniform distribution* $X\\sim U(a,\\,b)$. \n",
    "\n",
    "Whereas rand returned numbers from the **continuous** uniform distribution $X\\sim U(0,\\,1)$. \n",
    "\n",
    "If no arguments are given an error is returned. If one argument is given, say h then this is assumed to be the higher bound and positive and the lower bound is assumed to be  0  i.e. [0, h). \n",
    "\n",
    "Size can also be specified. For example if 10 random numbers are required between [0, 5) the arguments would be (0,5,10). Data type can also be specified, the default is np.int. dTypes relate to the way memory blocks are interpreted (Stackoverflow, Joe Kington,  2012).   \n",
    "\n",
    "#### When would you use randint?\n",
    "\n",
    "randint would be used when integers rather than floats are required and the integers lie within a certain range. e.g. generate a random number between 1 and 10 inclusive."
   ]
  },
  {
   "cell_type": "code",
   "execution_count": 10,
   "metadata": {
    "scrolled": true
   },
   "outputs": [
    {
     "name": "stdout",
     "output_type": "stream",
     "text": [
      "Generate a random integer between 1 and 10 inclusive \n",
      " 1 \n",
      "\n",
      "Generate 3 random integer between 1 and 10 inclusive \n",
      " [2 8 1] \n",
      "\n",
      "Generate a random non negative integer less than 4 \n",
      " 3 \n",
      "\n",
      "Generate a random integer between -5 and 5 inclusive \n",
      " 1 \n",
      "\n"
     ]
    }
   ],
   "source": [
    "print(\"Generate a random integer between 1 and 10 inclusive \\n\",np.random.randint(1, 11),\"\\n\")\n",
    "print(\"Generate 3 random integer between 1 and 10 inclusive \\n\",np.random.randint(1, 11, 3),\"\\n\")\n",
    "print(\"Generate a random non negative integer less than 4 \\n\",np.random.randint(4),\"\\n\")\n",
    "print(\"Generate a random integer between -5 and 5 inclusive \\n\",np.random.randint(-5, 6),\"\\n\")\n"
   ]
  },
  {
   "cell_type": "markdown",
   "metadata": {},
   "source": [
    "### random_integers\n",
    "\n",
    "random_integers outputs random integers between low and high, inclusive. Size refers to the number of random values required from the specified interval. This function is no longer maintained (NumPy community, 2018). \n",
    "\n",
    "Random_integers is very similar to randint, both return integers from a *discrete uniform distribution*. However random_integers is *inclusive* of the higher range value \\[low, high\\]. This function is **deprecated** i.e replaced, in favour of randint. Thus when it is called by python, a warning will display in red; The function, however will still work. Both randint and random_integers can use the transformation  $a + (b - a) * \\frac{np.random.random\\_integers(N) - 1} {N - 1}$ to give N evenly spaced integers between $a$ and $b$ i.e. $X\\sim U(a,\\,b)$ but random_integers includes the $b$ value whereas randint does not.\n",
    "\n",
    "#### When would you use random_integers?\n",
    "\n",
    "You wouldn't. The function is retired in favour of randint. It will still work but python will give a warning when its used.  "
   ]
  },
  {
   "cell_type": "code",
   "execution_count": 11,
   "metadata": {
    "scrolled": true
   },
   "outputs": [
    {
     "name": "stdout",
     "output_type": "stream",
     "text": [
      "Output ten 1's or 0's randomly \n",
      " [1 1 1 0 0 1 1 0 0 1] \n",
      "\n"
     ]
    },
    {
     "name": "stderr",
     "output_type": "stream",
     "text": [
      "C:\\ProgramData\\Anaconda3\\lib\\site-packages\\ipykernel_launcher.py:1: DeprecationWarning: This function is deprecated. Please call randint(0, 1 + 1) instead\n",
      "  \"\"\"Entry point for launching an IPython kernel.\n"
     ]
    }
   ],
   "source": [
    "print(\"Output ten 1's or 0's randomly \\n\", np.random.random_integers(0,1, 10),\"\\n\")\n",
    "\n"
   ]
  },
  {
   "cell_type": "markdown",
   "metadata": {},
   "source": [
    "### random_sample (random, ranf and sample)\n",
    "\n",
    "random_sample outputs random floats in the half-open interval \\[0.0, 1.0) (NumPy community, 2018).\n",
    "Random_sample has several aliases (Stackoverflow, askewchan,  2013), namely random , ranf and sample . Unlike randint which returned random values from the *discrete uniform distribution* [low, high) and, rand which populates arrays with random values in a given shape, random_sample returns random floats from the continuous uniform distribution [0,1). Its input is size i.e. the number of random values required. To expand this to values outside of $X \\sim U(0,\\,1)$ i.e.to cover $X \\sim U(a,\\,b)$ the transformation $a +  (b - a)* random\\_sample()$ can be used. The size can be an integer or tuples of integers (a,b,c) (Oliphant, 2006; NumPy community, 2018).  \n",
    "\n",
    "#### When would you use random_sample or its aliases?\n",
    "\n",
    "random_sample is used when random floats are required from the continuous uniform distribution in the interval 0 inclusive to 1 exclusive. Each number is as likely to be generated as every other. A single number can be returned E.g. pick any number in the interval [0,1) or an array of a specified size e.g. pick 20 numbers in the interval [0, 1) "
   ]
  },
  {
   "cell_type": "code",
   "execution_count": 12,
   "metadata": {
    "scrolled": false
   },
   "outputs": [
    {
     "name": "stdout",
     "output_type": "stream",
     "text": [
      "generate a random float in [0,1) \n",
      " 0.4801936016302988 \n",
      "\n",
      "generate 20 random floats in [0,1) \n",
      " [ 0.92777216  0.20928726  0.66472791  0.2514722   0.95003808  0.63740962\n",
      "  0.3660136   0.97796164  0.3399237   0.69383505  0.32468552  0.4320625\n",
      "  0.17222862  0.04097911  0.20033979  0.23774002  0.55116676  0.1793012\n",
      "  0.73501156  0.38206621] \n",
      "\n"
     ]
    }
   ],
   "source": [
    "print(\"generate a random float in [0,1) \\n\",np.random.random_sample(), \"\\n\")\n",
    "print(\"generate 20 random floats in [0,1) \\n\",np.random.random_sample(20), \"\\n\")\n"
   ]
  },
  {
   "cell_type": "code",
   "execution_count": 10,
   "metadata": {
    "scrolled": false
   },
   "outputs": [
    {
     "name": "stdout",
     "output_type": "stream",
     "text": [
      "The histogram of random_sample shows its uniform distrubution \n",
      "\n"
     ]
    },
    {
     "data": {
      "image/png": "[encoded data removed]",
      "text/plain": [
       "<matplotlib.figure.Figure at 0x1fecb5b1278>"
      ]
     },
     "metadata": {
      "needs_background": "light"
     },
     "output_type": "display_data"
    },
    {
     "name": "stdout",
     "output_type": "stream",
     "text": [
      "The aliases show a similar pattern \n",
      "\n"
     ]
    },
    {
     "data": {
      "image/png": "[encoded data removed]",
      "text/plain": [
       "<matplotlib.figure.Figure at 0x1fecb5c14a8>"
      ]
     },
     "metadata": {
      "needs_background": "light"
     },
     "output_type": "display_data"
    },
    {
     "data": {
      "image/png": "[encoded data removed]",
      "text/plain": [
       "<matplotlib.figure.Figure at 0x1fecbac2908>"
      ]
     },
     "metadata": {
      "needs_background": "light"
     },
     "output_type": "display_data"
    },
    {
     "data": {
      "image/png": "[encoded data removed]",
      "text/plain": [
       "<matplotlib.figure.Figure at 0x1fecbb2fac8>"
      ]
     },
     "metadata": {
      "needs_background": "light"
     },
     "output_type": "display_data"
    }
   ],
   "source": [
    "print(\"The histogram of random_sample shows its uniform distrubution\", \"\\n\")\n",
    "plt.hist(np.random.random_sample(10000))\n",
    "plt.title(\"random_sample\")\n",
    "plt.show()\n",
    "print(\"The aliases show a similar pattern\", \"\\n\")\n",
    "plt.hist(np.random.random(10000))\n",
    "plt.title(\"random\")\n",
    "plt.show()\n",
    "plt.hist(np.random.ranf(10000))\n",
    "plt.title(\"ranf\")\n",
    "plt.show()\n",
    "plt.hist(np.random.sample(10000))\n",
    "plt.title(\"sample\")\n",
    "plt.show()\n",
    "\n"
   ]
  },
  {
   "cell_type": "markdown",
   "metadata": {},
   "source": [
    "To change the interval $X \\sim U(0,\\,1)$ from which the numbers are selected to $X \\sim U(a,\\,b)$ use the transformation $a + (b - a)* random\\_sample()$\n",
    "\n"
   ]
  },
  {
   "cell_type": "code",
   "execution_count": 11,
   "metadata": {
    "scrolled": false
   },
   "outputs": [
    {
     "name": "stdout",
     "output_type": "stream",
     "text": [
      "This outputs an 1x10 array filled with random floats between [3, 5) \n",
      "\n",
      "[ 4.20249073  3.17685932  4.23865027  3.20631962  4.83706267  4.79424918\n",
      "  4.09433061  3.89742236  4.12066593  4.26907559] \n",
      "\n"
     ]
    },
    {
     "data": {
      "image/png": "[encoded data removed]",
      "text/plain": [
       "<matplotlib.figure.Figure at 0x1fecb5b12e8>"
      ]
     },
     "metadata": {
      "needs_background": "light"
     },
     "output_type": "display_data"
    }
   ],
   "source": [
    "print(\"This outputs an 1x10 array filled with random floats between [3, 5)\", \"\\n\")\n",
    "a,b,N=3,5,10\n",
    "x = a + (b - a) * np.random.random_sample(10) \n",
    "print(x, \"\\n\")\n",
    "plt.hist(x)\n",
    "plt.title(\"random floats in U[3,5)\")\n",
    "plt.show()\n",
    "\n"
   ]
  },
  {
   "cell_type": "markdown",
   "metadata": {},
   "source": [
    "### choice\n",
    "\n",
    "choice outputs a random sample from a given 1-D array (NumPy community, 2018). Its input is a 1 dimensional array or integer. The number of random values required can be specified by size. \n",
    "\n",
    "The difference between this function and the ones above is that here the population is specified to come from a specific finite array and the function returns one of these choices randomly. e.g. an input of all the Harry Potter book titles would randomly return one book from this population. \n",
    "\n",
    "The probability p of elements in the 1 d array can be specified (probabilities total to 1). If p is not provided then p is assumed to be uniformly distributed across the array. Size refers to the number of random elements from the population that are returned. There is also the option to replace which defaults to true. This refers to whether or not the random choice element is returned to the sample population and is used when unique values from the population are needed (NumPy community, 2018). \n",
    "\n",
    "\n",
    "#### When would you use choice?\n",
    "\n",
    "choice is used when you want to generate a random choice from a fixed sample, you can specify if you want the choice to be returned to the selection pool or not. For example pick one Harry Potter book from a pool of all Harry potter books.\n"
   ]
  },
  {
   "cell_type": "code",
   "execution_count": 13,
   "metadata": {
    "scrolled": false
   },
   "outputs": [
    {
     "name": "stdout",
     "output_type": "stream",
     "text": [
      "List all Harry Potter books \n",
      "\n",
      "Harry Potter and the Philosopher’s Stone\n",
      "Harry Potter and the Chamber of Secrets\n",
      "Harry Potter and the Prisoner of Azkaban\n",
      "Harry Potter and the Goblet of Fire\n",
      "Harry Potter and the Order of the Phoenix\n",
      "Harry Potter and the Half-Blood Prince\n",
      "Harry Potter and the Deathly Hallows\n",
      "\n",
      "\n",
      "pick one at random \n",
      " ['Harry Potter and the Deathly Hallows'] \n",
      "\n",
      "pick 5 books at random and remove it from the pool when picked \n",
      " - only unique books will be returned for each choice \n",
      " ['Harry Potter and the Philosopher’s Stone'\n",
      " 'Harry Potter and the Prisoner of Azkaban'\n",
      " 'Harry Potter and the Deathly Hallows'\n",
      " 'Harry Potter and the Goblet of Fire'\n",
      " 'Harry Potter and the Order of the Phoenix'] \n",
      "\n",
      "pick 5 books at random and keep it in the pool when picked  \n",
      "- choices may be repeated \n",
      " ['Harry Potter and the Order of the Phoenix'\n",
      " 'Harry Potter and the Deathly Hallows'\n",
      " 'Harry Potter and the Deathly Hallows'\n",
      " 'Harry Potter and the Philosopher’s Stone'\n",
      " 'Harry Potter and the Deathly Hallows'] \n",
      "\n",
      "Choices can be weighted to make them more or less likely \n",
      " Here, 'Chamber of Secrets' is more likely to be selected \n",
      " ['Harry Potter and the Chamber of Secrets'\n",
      " 'Harry Potter and the Philosopher’s Stone'\n",
      " 'Harry Potter and the Prisoner of Azkaban'\n",
      " 'Harry Potter and the Chamber of Secrets'\n",
      " 'Harry Potter and the Chamber of Secrets'] \n",
      "\n"
     ]
    }
   ],
   "source": [
    "print(\"List all Harry Potter books\", \"\\n\")\n",
    "hp = ['Harry Potter and the Philosopher’s Stone', 'Harry Potter and the Chamber of Secrets', 'Harry Potter and the Prisoner of Azkaban', 'Harry Potter and the Goblet of Fire', 'Harry Potter and the Order of the Phoenix', 'Harry Potter and the Half-Blood Prince', 'Harry Potter and the Deathly Hallows']\n",
    "for book in hp:\n",
    "    print(book)\n",
    "print(\"\\n\")\n",
    "print(\"pick one at random \\n\",np.random.choice(hp, 1), \"\\n\")#  books can be repeatedly returned\n",
    "print(\"pick 5 books at random and remove it from the pool when picked \\n - only unique books will be returned for each choice \\n\",np.random.choice(hp, 5, replace=False), \"\\n\") # only unique books are returned\n",
    "print(\"pick 5 books at random and keep it in the pool when picked  \\n- choices may be repeated \\n\",np.random.choice(hp, 5, replace=True), \"\\n\")\n",
    "print(\"Choices can be weighted to make them more or less likely \\n Here, \\'Chamber of Secrets\\' is more likely to be selected \\n\", np.random.choice(hp, 5, p=[0.2,0.5,0.1,0.1,0.015,0.03,0.055], replace=True),\"\\n\")\n",
    "\n"
   ]
  },
  {
   "cell_type": "markdown",
   "metadata": {},
   "source": [
    "### bytes\n",
    "\n",
    "bytes - outputs random bytes of the specified length size (NumPy community, 2018). \n",
    "\n",
    "bytes takes non negative integer inputs and outputs randomly byte strings. Outputs are prefixed with b and the bytes are enclosed within apostrophes or quotation marks, hence outputs are strings of specified length (Oliphant, 2006; NumPy community, 2018).  The prefix indicates that it is a *byte literal* and will consist of ASCII characters. If the numeric value is 128 or more then escapes (\\\\) are used; bytes with a numeric value of 128 or greater must be expressed with escapes (Stackoverflow NPE,2011 )\n",
    "\n",
    "#### When would you use bytes\n",
    "\n",
    "bytes would be used when you want to generate random byte strings"
   ]
  },
  {
   "cell_type": "code",
   "execution_count": 13,
   "metadata": {
    "scrolled": true
   },
   "outputs": [
    {
     "name": "stdout",
     "output_type": "stream",
     "text": [
      "b'' \n",
      "\n",
      "b'\\xa4' \n",
      "\n",
      "b'\\xc2\\xa7#\\x85\\x04K`\\x0e[\\xa6' \n",
      "\n",
      "note the escapes - \\ used  b'\\xe9\\xe1\\xeb\\xff|\\xdad\\xe7{\\n\\xc3\\xc6\\x80\\x86sf\\xec}\\x1bA' \n",
      "\n"
     ]
    }
   ],
   "source": [
    "print(np.random.bytes(0),'\\n')\n",
    "print(np.random.bytes(1),'\\n')\n",
    "print(np.random.bytes(10),'\\n')\n",
    "\n",
    "print(\"note the escapes - \\\\ used \", np.random.bytes(20),'\\n')"
   ]
  },
  {
   "cell_type": "markdown",
   "metadata": {},
   "source": [
    "To sum, *Simple Random Data* contains functions for generating random elements consisting of integers, arrays, sizes and shapes from continuous or discrete uniform populations or normally distributed populations that may or may not be probabilistically weighted towards some values depending on what is required. It also contains functions to randomly pick elements from a given population array such as a list or set of bytes. \n",
    "\n",
    "The next section of numpy.random to be discussed is its permutation functions. "
   ]
  },
  {
   "cell_type": "markdown",
   "metadata": {},
   "source": [
    "## What does permutations do?\n",
    "\n",
    "![permutation](img/perm.png)\n",
    "\n",
    "\n",
    "A permutation is a way of cycling through all options in a given set. For example choosing unique pairs of 3 numbers (1,2 and 3)would give $3^2$ combinations namely \n",
    "$$(1,1), (1,2), (1,3)$$ \n",
    "$$(2,1), (2,2), (2,3)$$\n",
    "$$(3,1), (3,2), (3,3)$$.\n",
    "\n",
    "numpy.random has two permutation functions namely (NumPy community, 2018);   \n",
    "- shuffle\n",
    "- permutation\n",
    "\n",
    "The functions in this section are ways of randomly selecting elements from a finite set.\n",
    "\n",
    "### shuffle\n",
    "\n",
    "shuffle takes an array or array like input and randomly reorders elements in the array (Oliphant, 2006; NumPy community, 2018). E.g. randomly shuffling the order of Harry Potter books. \n",
    "\n",
    "#### When would you use shuffle?\n",
    "\n",
    "shuffle is used when you have an array i.e. a finite list of elements and you want to randomly shuffle them. The same list is returned but the order items are presented in has changed. "
   ]
  },
  {
   "cell_type": "code",
   "execution_count": 14,
   "metadata": {
    "scrolled": false
   },
   "outputs": [
    {
     "name": "stdout",
     "output_type": "stream",
     "text": [
      "Harry Potter books listed in order of publication date \n",
      "\n",
      "Harry Potter and the Philosopher’s Stone\n",
      "Harry Potter and the Chamber of Secrets\n",
      "Harry Potter and the Prisoner of Azkaban\n",
      "Harry Potter and the Goblet of Fire\n",
      "Harry Potter and the Order of the Phoenix\n",
      "Harry Potter and the Half-Blood Prince\n",
      "Harry Potter and the Deathly Hallows\n",
      "\n",
      "\n",
      "Harry Potter books listed in shuffled order \n",
      "\n",
      "Harry Potter and the Deathly Hallows\n",
      "Harry Potter and the Chamber of Secrets\n",
      "Harry Potter and the Goblet of Fire\n",
      "Harry Potter and the Prisoner of Azkaban\n",
      "Harry Potter and the Half-Blood Prince\n",
      "Harry Potter and the Philosopher’s Stone\n",
      "Harry Potter and the Order of the Phoenix\n",
      "\n",
      "\n"
     ]
    }
   ],
   "source": [
    "hp = ['Harry Potter and the Philosopher’s Stone', 'Harry Potter and the Chamber of Secrets', 'Harry Potter and the Prisoner of Azkaban', 'Harry Potter and the Goblet of Fire', 'Harry Potter and the Order of the Phoenix', 'Harry Potter and the Half-Blood Prince', 'Harry Potter and the Deathly Hallows']\n",
    "print(\"Harry Potter books listed in order of publication date\", \"\\n\")\n",
    "for book in hp:\n",
    "    print(book)\n",
    "print(\"\\n\")    \n",
    "# shuffle the books\n",
    "np.random.shuffle(hp)\n",
    "print(\"Harry Potter books listed in shuffled order\", \"\\n\")\n",
    "for book in hp:\n",
    "    print(book)\n",
    "print(\"\\n\")\n"
   ]
  },
  {
   "cell_type": "markdown",
   "metadata": {},
   "source": [
    "For another example lets shuffle a deck of cards and then deal 5 "
   ]
  },
  {
   "cell_type": "code",
   "execution_count": 56,
   "metadata": {
    "scrolled": true
   },
   "outputs": [
    {
     "name": "stdout",
     "output_type": "stream",
     "text": [
      "Your cards are \n",
      "\n",
      "9 of Hearts\n",
      "12 of Clubs\n",
      "8 of Diamonds\n",
      "3 of Diamonds\n",
      "1 of Diamonds\n",
      "\n",
      " 1 is Ace; 10 is Jack; 12 is Queen; 13 is King\n"
     ]
    }
   ],
   "source": [
    "# Python program to shuffle a deck of card using the module random and draw 5 cards\n",
    "# code taken from https://www.programiz.com/python-programming/examples/shuffle-card\n",
    "\n",
    "# import modules\n",
    "import itertools\n",
    "\n",
    "# make a deck of cards\n",
    "deck = list(itertools.product(range(1,14),['Spades','Hearts','Diamonds','Clubs']))\n",
    "\n",
    "# shuffle the cards\n",
    "np.random.shuffle(deck)\n",
    "\n",
    "# draw five cards\n",
    "print(\"Your cards are\", \"\\n\")\n",
    "for i in range(5):\n",
    "    print(deck[i][0], \"of\", deck[i][1])\n",
    "print(\"\\n 1 is Ace; 10 is Jack; 12 is Queen; 13 is King\")    \n",
    "\n",
    "    \n",
    "  "
   ]
  },
  {
   "cell_type": "markdown",
   "metadata": {},
   "source": [
    "### Permutation\n",
    "\n",
    "permutation has an array as an input and randomly permutes i.e. shuffles outputs. \n",
    "\n",
    "permutation randomly permute a sequence, or return a permuted range (Oliphant, 2006; NumPy community, 2018). Unlike shuffle which **reorders** the **original** array, permutation **takes a copy** of the original array and **shuffles the copy**. The original array remains intact. \n",
    "\n",
    "In addition, permutation can take integer inputs and will output a range e.g an input of 5 will output a random range populated with unique elements from 0 to 4 inclusive (Stackoverflow, ecatmur,  2013)\n",
    "\n",
    "#### When would you use permutation?\n",
    "\n",
    "permutation is used when you want to shuffle your array but you also want to keep a record of your original array.\n"
   ]
  },
  {
   "cell_type": "code",
   "execution_count": 66,
   "metadata": {
    "scrolled": false
   },
   "outputs": [
    {
     "name": "stdout",
     "output_type": "stream",
     "text": [
      "Harry Potter books listed in order of publication date \n",
      "\n",
      "Harry Potter and the Philosopher’s Stone\n",
      "Harry Potter and the Chamber of Secrets\n",
      "Harry Potter and the Prisoner of Azkaban\n",
      "Harry Potter and the Goblet of Fire\n",
      "Harry Potter and the Order of the Phoenix\n",
      "Harry Potter and the Half-Blood Prince\n",
      "Harry Potter and the Deathly Hallows\n",
      "\n",
      "\n",
      "books are shuffled using the permutation function \n",
      "\n",
      "['Harry Potter and the Half-Blood Prince'\n",
      " 'Harry Potter and the Deathly Hallows'\n",
      " 'Harry Potter and the Order of the Phoenix'\n",
      " 'Harry Potter and the Goblet of Fire'\n",
      " 'Harry Potter and the Prisoner of Azkaban'\n",
      " 'Harry Potter and the Philosopher’s Stone'\n",
      " 'Harry Potter and the Chamber of Secrets'] \n",
      "\n",
      "the original book order is preserved \n",
      "\n",
      "Harry Potter and the Philosopher’s Stone\n",
      "Harry Potter and the Chamber of Secrets\n",
      "Harry Potter and the Prisoner of Azkaban\n",
      "Harry Potter and the Goblet of Fire\n",
      "Harry Potter and the Order of the Phoenix\n",
      "Harry Potter and the Half-Blood Prince\n",
      "Harry Potter and the Deathly Hallows\n",
      "\n",
      "\n",
      "shuffle books with the shuffle function \n",
      "\n",
      "Harry Potter and the Half-Blood Prince\n",
      "Harry Potter and the Deathly Hallows\n",
      "Harry Potter and the Prisoner of Azkaban\n",
      "Harry Potter and the Chamber of Secrets\n",
      "Harry Potter and the Philosopher’s Stone\n",
      "Harry Potter and the Goblet of Fire\n",
      "Harry Potter and the Order of the Phoenix\n",
      " \n",
      " The order of books has changed from its original order \n",
      " and it at its new shuffled order \n",
      "\n",
      "Harry Potter and the Half-Blood Prince\n",
      "Harry Potter and the Deathly Hallows\n",
      "Harry Potter and the Prisoner of Azkaban\n",
      "Harry Potter and the Chamber of Secrets\n",
      "Harry Potter and the Philosopher’s Stone\n",
      "Harry Potter and the Goblet of Fire\n",
      "Harry Potter and the Order of the Phoenix\n"
     ]
    }
   ],
   "source": [
    "print(\"Harry Potter books listed in order of publication date\", '\\n')\n",
    "\n",
    "hp = ['Harry Potter and the Philosopher’s Stone', 'Harry Potter and the Chamber of Secrets', 'Harry Potter and the Prisoner of Azkaban', 'Harry Potter and the Goblet of Fire', 'Harry Potter and the Order of the Phoenix', 'Harry Potter and the Half-Blood Prince', 'Harry Potter and the Deathly Hallows']\n",
    "for book in hp:\n",
    "    print(book)\n",
    "print('\\n')\n",
    "print(\"books are shuffled using the permutation function\",\"\\n\")\n",
    "print(np.random.permutation(hp), \"\\n\")\n",
    "print(\"the original book order is preserved\", \"\\n\")\n",
    "for book in hp:\n",
    "    print(book)\n",
    "print(\"\\n\")  \n",
    "print(\"shuffle books with the shuffle function\", \"\\n\")\n",
    "np.random.shuffle(hp)\n",
    "for book in hp:\n",
    "    print(book)\n",
    "print(\" \\n The order of books has changed from its original order \\n and it at its new shuffled order\", \"\\n\")    \n",
    "for book in hp:\n",
    "    print(book)"
   ]
  },
  {
   "cell_type": "markdown",
   "metadata": {},
   "source": [
    "## What are distributions and why do we need them?\n"
   ]
  },
  {
   "cell_type": "markdown",
   "metadata": {},
   "source": [
    "A probability distribution is a table or an equation that links each outcome of a statistical experiment or event with its probability of occurring (Wikipedia contributors 2018d). \n",
    "\n",
    "Consider tossing a coin: This has two possible outcomes, heads or tails. Here the *event* is the coin toss and the *outcome* is heads or tails. Similarly, throwing a die has 6 outcomes, 1, 2, 3, 4, 5 or 6. Outcomes of a statistical test often show a pattern based on the probability of an event occurring. E.g. rolling a fair 6 faced die will produce each of the numbers 1 to 6 roughly $\\frac{1}{6}$ of the time. Similarly, tossing a non biased coin enough times will show a probability of $\\frac{1}{2}$ for both heads and tails. In each of these scenarios performing the test of throwing the dice or tossing a coin, will better match its underlying probability as the number of **trials** or tries increases.\n",
    "\n",
    "![dice](img/die.jpg)\n",
    "\n",
    "When a random sample is generated (the event) it produces a specific outcome from a list of all possible outcomes. For example, with the coin toss, only two outcomes are possible; its either heads or its tails. These two events are *independent* i.e previous states does not influence the probability of the current state. Rolls of the die have no memory. Believing that previous running streaks will influence future chances is a common bias named the *gambler's fallacy* (Wikipedia contributors, 2018e). When the list of outcomes(heads or tails)are plotted against its probability of occurring ($\\frac{1}{2}$ for both Heads and Tails)you get a *probability distribution*. \n",
    "\n",
    "Consider the die throw; Rolling a die 10 times may give a pattern of $1,3,5,1,4,4$ Here, the outcome i.e. probability of getting a 4, is $\\frac{2}{10}$ ($\\frac{1}{5}$ - two 4's from 10 throws). This is greater than the underlying probability of $\\frac{1}{outcomes} = \\frac{1}{6}$ but the *Law of Large Numbers* states (Stat Trek contributors, n.d.) that the more times an event is tested, i.e. the larger its sample size, the closer it will be to its underlying probability of that event occurring. Rolling  the die 10 times and getting two four's may have a probability not equal to $\\frac{1}{6}$ but if the dice is rolled a very large number of  times, the small deviations from $\\frac{1}{6}$ will be smoothed out and the underlying probability will be constant at $\\frac{1}{6}$. This is the idea behind probability distributions; They are equations that plot the underlying model when sample size reaches the same size as its total population.\n",
    "\n",
    "The code below simulates 10, 100, 1,000 and 1,000,000 random rolls of a dice and calculates the probability of each outcome.  As the sample size increases, the sample probability tends towards the actual probability of the distribution. \n"
   ]
  },
  {
   "cell_type": "code",
   "execution_count": 17,
   "metadata": {
    "scrolled": false
   },
   "outputs": [
    {
     "name": "stdout",
     "output_type": "stream",
     "text": [
      "Sample Size is 10\n",
      "[0 0 4 2 1 2 1]\n",
      "sample prob of getting 1 0.0\n",
      "sample prob of getting 2 0.4\n",
      "sample prob of getting 3 0.2\n",
      "sample prob of getting 4 0.1\n",
      "sample prob of getting 5 0.2\n",
      "sample prob of getting 6 0.1\n",
      "actual probability 0.167 \n",
      "\n",
      "Sample Size is 100\n",
      "[ 0 22 16 17  9 11 25]\n",
      "sample prob of getting 1 0.22\n",
      "sample prob of getting 2 0.16\n",
      "sample prob of getting 3 0.17\n",
      "sample prob of getting 4 0.09\n",
      "sample prob of getting 5 0.11\n",
      "sample prob of getting 6 0.25\n",
      "actual probability 0.167 \n",
      "\n",
      "Sample Size is 1000\n",
      "[  0 155 205 154 163 180 143]\n",
      "sample prob of getting 1 0.155\n",
      "sample prob of getting 2 0.205\n",
      "sample prob of getting 3 0.154\n",
      "sample prob of getting 4 0.163\n",
      "sample prob of getting 5 0.18\n",
      "sample prob of getting 6 0.143\n",
      "actual probability 0.167 \n",
      "\n",
      "Sample Size is 1000000\n",
      "[     0 166823 166852 166554 166664 166821 166286]\n",
      "sample prob of getting 1 0.166823\n",
      "sample prob of getting 2 0.166852\n",
      "sample prob of getting 3 0.166554\n",
      "sample prob of getting 4 0.166664\n",
      "sample prob of getting 5 0.166821\n",
      "sample prob of getting 6 0.166286\n",
      "actual probability 0.167 \n",
      "\n"
     ]
    }
   ],
   "source": [
    "print(\"Sample Size is 10\")\n",
    "size=10\n",
    "outcome = np.bincount(np.random.randint(1,7,size))\n",
    "print(outcome)\n",
    "p1=outcome[1]/size\n",
    "print(\"sample prob of getting 1\",p1)\n",
    "p2=outcome[2]/size\n",
    "print(\"sample prob of getting 2\",p2)\n",
    "p3=outcome[3]/size\n",
    "print(\"sample prob of getting 3\",p3)\n",
    "p4=outcome[4]/size\n",
    "print(\"sample prob of getting 4\",p4)\n",
    "p5=outcome[5]/size\n",
    "print(\"sample prob of getting 5\",p5)\n",
    "p6=outcome[6]/size\n",
    "print(\"sample prob of getting 6\",p6)\n",
    "p = 1/6\n",
    "print(\"actual probability\",f\"{p:.3}\", \"\\n\")\n",
    "\n",
    "print(\"Sample Size is 100\")\n",
    "size=100\n",
    "outcome = np.bincount(np.random.randint(1,7,size))\n",
    "print(outcome)\n",
    "p1=outcome[1]/size\n",
    "print(\"sample prob of getting 1\",p1)\n",
    "p2=outcome[2]/size\n",
    "print(\"sample prob of getting 2\",p2)\n",
    "p3=outcome[3]/size\n",
    "print(\"sample prob of getting 3\",p3)\n",
    "p4=outcome[4]/size\n",
    "print(\"sample prob of getting 4\",p4)\n",
    "p5=outcome[5]/size\n",
    "print(\"sample prob of getting 5\",p5)\n",
    "p6=outcome[6]/size\n",
    "print(\"sample prob of getting 6\",p6)\n",
    "p = 1/6\n",
    "print(\"actual probability\",f\"{p:.3}\", \"\\n\")\n",
    "print(\"Sample Size is 1000\")\n",
    "size=1000\n",
    "outcome = np.bincount(np.random.randint(1,7,size))\n",
    "print(outcome)\n",
    "p1=outcome[1]/size\n",
    "print(\"sample prob of getting 1\",p1)\n",
    "p2=outcome[2]/size\n",
    "print(\"sample prob of getting 2\",p2)\n",
    "p3=outcome[3]/size\n",
    "print(\"sample prob of getting 3\",p3)\n",
    "p4=outcome[4]/size\n",
    "print(\"sample prob of getting 4\",p4)\n",
    "p5=outcome[5]/size\n",
    "print(\"sample prob of getting 5\",p5)\n",
    "p6=outcome[6]/size\n",
    "print(\"sample prob of getting 6\",p6)\n",
    "p = 1/6\n",
    "print(\"actual probability\",f\"{p:.3}\", \"\\n\")\n",
    "print(\"Sample Size is 1000000\")\n",
    "size=1000000\n",
    "outcome = np.bincount(np.random.randint(1,7,size))\n",
    "print(outcome)\n",
    "p1=outcome[1]/size\n",
    "print(\"sample prob of getting 1\",p1)\n",
    "p2=outcome[2]/size\n",
    "print(\"sample prob of getting 2\",p2)\n",
    "p3=outcome[3]/size\n",
    "print(\"sample prob of getting 3\",p3)\n",
    "p4=outcome[4]/size\n",
    "print(\"sample prob of getting 4\",p4)\n",
    "p5=outcome[5]/size\n",
    "print(\"sample prob of getting 5\",p5)\n",
    "p6=outcome[6]/size\n",
    "print(\"sample prob of getting 6\",p6)\n",
    "p = 1/6\n",
    "print(\"actual probability\",f\"{p:.3}\", \"\\n\")\n"
   ]
  },
  {
   "cell_type": "markdown",
   "metadata": {},
   "source": [
    "![discrete uniform distribution](img/uniform.png)\n",
    "\n",
    "\n",
    "\n",
    "### Uniform Distribution\n",
    "\n",
    "#### Discrete\n",
    "Often there is an underlying pattern based on this probability. For example in the coin toss the probability was $\\frac{1}{2}$ and in the dice roll it was $\\frac{1}{6}$. In each case outcomes ($n$) were equally likely with $p = \\frac{1}{n}$. This type of distribution is called a **uniform distribution**. In particular it is a *discrete* uniform distribution. i.e outcomes are from a finite set, they are either 1 or 2 or 3 etc and not midway between 2 and 3. \n",
    "\n"
   ]
  },
  {
   "cell_type": "code",
   "execution_count": 18,
   "metadata": {
    "scrolled": false
   },
   "outputs": [
    {
     "name": "stdout",
     "output_type": "stream",
     "text": [
      "Roll the dice \n",
      "\n",
      "5\n"
     ]
    },
    {
     "data": {
      "image/png": "[encoded data removed]",
      "text/plain": [
       "<matplotlib.figure.Figure at 0x1fecbbc2748>"
      ]
     },
     "metadata": {
      "needs_background": "light"
     },
     "output_type": "display_data"
    }
   ],
   "source": [
    "print(\"Roll the dice\", \"\\n\")\n",
    "x=np.random.randint(1,7)\n",
    "print(x)\n",
    "plt.title(\"rolls\")\n",
    "plt.xlabel(\"face number\")\n",
    "plt.ylabel(\"count\")\n",
    "plt.hist(x)\n",
    "plt.show()"
   ]
  },
  {
   "cell_type": "markdown",
   "metadata": {},
   "source": [
    "Say you do this a million times and plot your results"
   ]
  },
  {
   "cell_type": "code",
   "execution_count": 19,
   "metadata": {
    "scrolled": false
   },
   "outputs": [
    {
     "data": {
      "image/png": "[encoded data removed]",
      "text/plain": [
       "<matplotlib.figure.Figure at 0x1fecbbc27b8>"
      ]
     },
     "metadata": {
      "needs_background": "light"
     },
     "output_type": "display_data"
    }
   ],
   "source": [
    "plt.title(\"1 million rolls\")\n",
    "plt.xlabel(\"face number\")\n",
    "plt.ylabel(\"count\")\n",
    "plt.hist(np.random.randint(1,7,1000000))\n",
    "plt.show()\n"
   ]
  },
  {
   "cell_type": "markdown",
   "metadata": {},
   "source": [
    "The results of the roll all seem to be equally likely, 1 million rolls with 6 possible outcomes is "
   ]
  },
  {
   "cell_type": "code",
   "execution_count": 20,
   "metadata": {
    "scrolled": false
   },
   "outputs": [
    {
     "name": "stdout",
     "output_type": "stream",
     "text": [
      "166666.67\n"
     ]
    }
   ],
   "source": [
    "print(f\"{1000000/6:.8}\")\n"
   ]
  },
  {
   "cell_type": "markdown",
   "metadata": {},
   "source": [
    "Probability distributions have different 'shapes'.  \n",
    "\n",
    "#### Continous\n",
    "\n",
    "What if outcomes could be anywhere along a range rather than specific outcomes of heads/tails or die faces? \n",
    "\n",
    "For example, you arrive at a bus stop to catch a very regular bus that comes exactly once an hour. However you have no idea what time it is or when the bus last left the stop. The time spent waiting would be a *uniform* distribution from 0 to 1 hour, with the bus equally likely to arrive at anytime within that interval. \n",
    "\n",
    "Time, temperature and measures like height do not take a fixed set of values, rather they vary on a continuum. Thus the distribution these measures form are *continuous*.\n",
    "\n",
    "Say we wanted to model the bus scenario. numpy.random has a function to allow us to do this (NumPy community, 2018)."
   ]
  },
  {
   "cell_type": "code",
   "execution_count": 67,
   "metadata": {
    "scrolled": false
   },
   "outputs": [
    {
     "name": "stdout",
     "output_type": "stream",
     "text": [
      "How long will I wait for the bus?\n",
      "0.71  hours\n"
     ]
    }
   ],
   "source": [
    "print(\"How long will I wait for the bus?\")\n",
    "print(f\"{np.random.uniform():.2}\", \" hours\")\n",
    "   "
   ]
  },
  {
   "cell_type": "markdown",
   "metadata": {},
   "source": [
    "What if the waiting times is modeled over the course of a year and the results are plotted?\n"
   ]
  },
  {
   "cell_type": "code",
   "execution_count": 22,
   "metadata": {
    "scrolled": false
   },
   "outputs": [
    {
     "name": "stdout",
     "output_type": "stream",
     "text": [
      "[ 0.66525778  0.12907102  0.4483556   0.30527925  0.16431084  0.52534241\n",
      "  0.89123503  0.52863813  0.66033132  0.71748313  0.37201841  0.09764683\n",
      "  0.29718065  0.82777138  0.12602894  0.10789374  0.2120155   0.22453468\n",
      "  0.13559817  0.65812252  0.63652254  0.6981214   0.72898763  0.03959231\n",
      "  0.4473341   0.57909554  0.65657868  0.41896917  0.5694511   0.33299779\n",
      "  0.95669391  0.90278636  0.9348984   0.07023641  0.24981565  0.67469765\n",
      "  0.54379561  0.41271232  0.52395057  0.50216443  0.61209429  0.01858072\n",
      "  0.54726268  0.20197317  0.10414442  0.26829567  0.95672851  0.7650277\n",
      "  0.51576826  0.8463152   0.53812427  0.58156355  0.56263771  0.40590897\n",
      "  0.380816    0.47043446  0.2009402   0.91277959  0.0885494   0.69592597\n",
      "  0.68602724  0.60311717  0.44847712  0.47947464  0.21164565  0.99114798\n",
      "  0.51597315  0.51802274  0.91560345  0.55912484  0.18863436  0.81053572\n",
      "  0.0841068   0.29057566  0.6997728   0.12967113  0.65516623  0.27981524\n",
      "  0.26940841  0.21573649  0.17117538  0.01849969  0.81167553  0.63955324\n",
      "  0.46218824  0.37782199  0.36807629  0.19854997  0.70509321  0.10362584\n",
      "  0.8498582   0.27868204  0.5997924   0.9893744   0.95596519  0.57831443\n",
      "  0.73709427  0.37781029  0.29565733  0.40438222  0.53592409  0.50573605\n",
      "  0.35644306  0.28572232  0.97435183  0.75836718  0.95472543  0.70462795\n",
      "  0.223305    0.89566029  0.43286316  0.5480304   0.91126788  0.41158522\n",
      "  0.71659192  0.95913083  0.29191541  0.10191061  0.36805095  0.95638039\n",
      "  0.40692709  0.42332074  0.67727552  0.79643023  0.25181381  0.6922502\n",
      "  0.96816698  0.02885188  0.81069254  0.74655987  0.8304914   0.71027202\n",
      "  0.16282244  0.56408699  0.41248363  0.40354147  0.09388159  0.0404577\n",
      "  0.81979146  0.82921713  0.10840153  0.12834379  0.6640051   0.81061263\n",
      "  0.42815063  0.81539562  0.12128748  0.27988178  0.61737345  0.5760721\n",
      "  0.05155147  0.93425454  0.40748793  0.60517149  0.50413186  0.99693401\n",
      "  0.97666176  0.1237762   0.79024663  0.10658195  0.72856249  0.86925961\n",
      "  0.97860495  0.47276934  0.85747244  0.41591446  0.55890681  0.86833621\n",
      "  0.0357016   0.6398303   0.53480872  0.21632663  0.2503786   0.65154127\n",
      "  0.87799751  0.79018479  0.10850148  0.93231719  0.07289042  0.45123171\n",
      "  0.31080463  0.22357658  0.59876262  0.64783595  0.80692413  0.5060574\n",
      "  0.54393758  0.87599153  0.87108813  0.39628981  0.47710616  0.74922008\n",
      "  0.51575104  0.85416671  0.90124803  0.044162    0.55967484  0.99905396\n",
      "  0.90522022  0.4154155   0.98367342  0.42060046  0.56303859  0.21275596\n",
      "  0.82719325  0.99722207  0.38120311  0.2426116   0.24781139  0.91761844\n",
      "  0.31637265  0.65599489  0.45271852  0.51434631  0.9770617   0.57909051\n",
      "  0.92690965  0.47932553  0.86379222  0.598126    0.27358866  0.95026728\n",
      "  0.78490158  0.19878484  0.43964232  0.51914266  0.41611063  0.06662013\n",
      "  0.57936944  0.52383588  0.18587435  0.62162953  0.56689093  0.9913352\n",
      "  0.09842379  0.96223762  0.92294207  0.9203928   0.80054039  0.36735519\n",
      "  0.20972697  0.13817075  0.96152078  0.5428892   0.56586001  0.19210087\n",
      "  0.7502035   0.93215132  0.46839146  0.02184258  0.93244225  0.43280532\n",
      "  0.74291426  0.80344519  0.84743053  0.30947324  0.04095784  0.16465833\n",
      "  0.08693371  0.62636269  0.7936176   0.25866947  0.45405982  0.10597273\n",
      "  0.14409676  0.07027777  0.24205056  0.53222075  0.76750213  0.92104857\n",
      "  0.96942082  0.21284328  0.82281325  0.93304347  0.20328356  0.97783221\n",
      "  0.04383876  0.51372624  0.35719919  0.41397836  0.12559753  0.1079811\n",
      "  0.20304497  0.04047862  0.80075619  0.34973642  0.55935972  0.82367367\n",
      "  0.99393644  0.83283187  0.76032685  0.7621516   0.07461167  0.40998713\n",
      "  0.6955112   0.32117922  0.477872    0.04072269  0.70638775  0.26227732\n",
      "  0.58365597  0.83712762  0.84467602  0.22979305  0.90922705  0.93122786\n",
      "  0.13439676  0.9077013   0.96980069  0.45195961  0.18611228  0.12459912\n",
      "  0.36950796  0.40200368  0.2600214   0.61945374  0.13324026  0.41657862\n",
      "  0.97697553  0.43978216  0.38033141  0.44004358  0.22890657  0.07190193\n",
      "  0.90505417  0.03565634  0.32696069  0.24330281  0.57361736  0.14883916\n",
      "  0.23572923  0.44333706  0.0735543   0.57183434  0.35135982  0.17343162\n",
      "  0.64548825  0.60247423  0.89185135  0.228284    0.54027779  0.21893165\n",
      "  0.74231136  0.71946469  0.03693833  0.9478232   0.78332043  0.69717729\n",
      "  0.94060183  0.30456543  0.56353527  0.11404814  0.70737616  0.04584943\n",
      "  0.12739547  0.01750077  0.80215457  0.81787179  0.16009175  0.93236391\n",
      "  0.20591448  0.52923467  0.76942558  0.86681052  0.36448273]\n"
     ]
    },
    {
     "data": {
      "image/png": "[encoded data removed]",
      "text/plain": [
       "<matplotlib.figure.Figure at 0x1feccccc240>"
      ]
     },
     "metadata": {
      "needs_background": "light"
     },
     "output_type": "display_data"
    }
   ],
   "source": [
    "how_long = np.random.uniform(0,1,365)\n",
    "print(how_long)\n",
    "plt.hist(how_long)\n",
    "plt.title(\"Waiting Time over a year\")\n",
    "plt.xlabel(\"Time\")\n",
    "plt.ylabel(\"Days\")\n",
    "plt.show()\n"
   ]
  },
  {
   "cell_type": "markdown",
   "metadata": {},
   "source": [
    "numpy.random.uniform (Oliphant, 2006; NumPy community, 2018)takes inputs of a range low to high. Size i.e. the number of results return, can also be specified. The range interval includes the lower number but excludes the higher one. All numbers within the range are equally likely to be selected. \n",
    "\n",
    "The probability density function for this distribution is \n",
    "$$X\\sim Uniform(a,\\,b)$$\n",
    "$\\\\ $\n",
    "$$p(x) = \\frac{1}{b-a}$$ where a is the low value and b is the high value. \n",
    "\n",
    "\n",
    "The probability for any event in a uniform continuous distribution is given as $\\frac {1}{b-a}$ where a is the lower value of the interval and b is the higher value of the interval. \n",
    "\n",
    "\n",
    "### Binomial\n",
    "\n",
    "Going back to the die example, what if we were only interested in getting *one* of the outcomes? Say the die was rolled 100 times but we were only counting number of times 4's were rolled? \n"
   ]
  },
  {
   "cell_type": "code",
   "execution_count": 68,
   "metadata": {
    "scrolled": true
   },
   "outputs": [
    {
     "name": "stdout",
     "output_type": "stream",
     "text": [
      "How many times was a 4 rolled after 100 rolls -  14 times\n"
     ]
    },
    {
     "data": {
      "image/png": "[encoded data removed]",
      "text/plain": [
       "<matplotlib.figure.Figure at 0x2264425b828>"
      ]
     },
     "metadata": {
      "needs_background": "light"
     },
     "output_type": "display_data"
    }
   ],
   "source": [
    "print(\"How many times was a 4 rolled after 100 rolls - \", np.random.binomial(100,1/6), \"times\")\n",
    "plt.title(\"roll 500 dice 100 times and count the number of times 4 was rolled \")\n",
    "plt.xlabel(\"no of times 4 was rolled\")\n",
    "plt.ylabel(\"no of dice rolled\")\n",
    "plt.hist(np.random.binomial(100,1/6, 500))\n",
    "plt.show()"
   ]
  },
  {
   "cell_type": "markdown",
   "metadata": {},
   "source": [
    "4 is just as likely to be rolled as any of the other faces i.e. the independence assumption holds, but the distribution pattern is different than the uniform pattern discussed earlier. \n",
    "\n",
    "Here there is not equal probability of outcomes. The probability of a success (in this case a 4) is $\\frac{1}{6}$ but the probability of a failure (i.e. not getting a 4) is $\\frac{5}{6}$. Here there is only two outcomes, success with probability $p$ or failure with probability $1-p$. This type of distribution is called a **binomial** distribution. It is a **discrete** distribution with two required parameters, the number of trials $n$, i.e. the number of times the die is rolled and the probability associated with a successful outcome $p$.\n",
    "\n",
    "numpy.random.binomial takes inputs n i.e. number of trials and p i.e. probability of a successful event. The size can also be specified (Oliphant, 2006; NumPy community, 2018). In the special case where the size $n = 1$ the distribution is called a *Bernoulli* distribution. The binomial distribution has the probability distribution function \n",
    "\n",
    "$$X\\sim Binomial(n,\\,p)$$\n",
    "$\\\\ $\n",
    "\n",
    "$$P(x) = \\binom{n}{x}p^x(1-p)^{n-x}$$\n",
    "\n",
    "$\\\\ $\n",
    "$$X\\sim Bernoulli(p)$$\n",
    "\n",
    "$$P(x) = p^x(1-p)^{1-x}$$\n",
    "\n",
    "note that $1-p$ is the probability of the event not occurring i.e. a failure. It is sometimes denoted as $q$. \n",
    "\n",
    "\n",
    "### Geometric\n",
    "\n",
    "\n",
    "Now suppose we were just interested in the time till the first 4 was rolled? The binomial distribution address the question of \"how many successful events from $n$ tries\"(Owen, 2015). The question now becomes \"how many failures till we get the first success?\". In this case we don't know what the number of tries $n$ will be. This pattern is called the **geometric** distribution. \n",
    "\n"
   ]
  },
  {
   "cell_type": "code",
   "execution_count": 69,
   "metadata": {
    "scrolled": true
   },
   "outputs": [
    {
     "name": "stdout",
     "output_type": "stream",
     "text": [
      "How many rolls till a '4' is rolled? -  9 rolls\n"
     ]
    }
   ],
   "source": [
    "print(\"How many rolls till a '4' is rolled? - \", np.random.geometric(1/6), \"rolls\")\n"
   ]
  },
  {
   "cell_type": "markdown",
   "metadata": {},
   "source": [
    "This distribution has a different shape, it is asymmetrical with a long tail to the right (right skewed). The geometric distribution has some underlying assumptions(Wikipedia contributors, 2018f) namely, \n",
    "\n",
    "1. The event is made up of independent trials i.e. events do not influence each other as with the other distributions discussed. \n",
    "2. There are only two outcomes, success p or failure q\n",
    "3. The probability of success is the same in each trial \n"
   ]
  },
  {
   "cell_type": "code",
   "execution_count": 70,
   "metadata": {
    "scrolled": true
   },
   "outputs": [
    {
     "data": {
      "image/png": "[encoded data removed]",
      "text/plain": [
       "<matplotlib.figure.Figure at 0x226442b5cc0>"
      ]
     },
     "metadata": {
      "needs_background": "light"
     },
     "output_type": "display_data"
    }
   ],
   "source": [
    "plt.title(\"How many rolls till 4 is rolled\")\n",
    "plt.xlabel(\"number of rolls\")\n",
    "plt.ylabel(\"number of dice rolled\")\n",
    "plt.hist(np.random.geometric(1/6, 500))\n",
    "plt.show()"
   ]
  },
  {
   "cell_type": "markdown",
   "metadata": {},
   "source": [
    "numpy.random.geometric has one required input, its probability of a success $p$ (Oliphant, 2006; NumPy community, 2018). The size can also be specified.  \n",
    "\n",
    "its probability density function is \n",
    "\n",
    "$$X\\sim Geometric(p)$$\n",
    "\n",
    "$ \\\\ $\n",
    "\n",
    "$$p(x)=  (1 - p)^{x-1}p$$ \n",
    "\n"
   ]
  },
  {
   "cell_type": "markdown",
   "metadata": {},
   "source": [
    "### Negative Binomal \n",
    "\n",
    "\n",
    "Now suppose we are still interested in the number of trials till a success is reached; But rather than stopping when the first success is reached, we want to extend the number of success, say rolling ten 4's?  "
   ]
  },
  {
   "cell_type": "code",
   "execution_count": 71,
   "metadata": {
    "scrolled": true
   },
   "outputs": [
    {
     "name": "stdout",
     "output_type": "stream",
     "text": [
      "How many rolls till 10 '4s' are rolled? -  35 rolls\n"
     ]
    },
    {
     "data": {
      "image/png": "[encoded data removed]",
      "text/plain": [
       "<matplotlib.figure.Figure at 0x22644311a58>"
      ]
     },
     "metadata": {
      "needs_background": "light"
     },
     "output_type": "display_data"
    }
   ],
   "source": [
    "print(\"How many rolls till 10 '4s' are rolled? - \", np.random.negative_binomial(10,1/6), \"rolls\")\n",
    "\n",
    "plt.title(\"How many rolls till 10 4's are rolled \")\n",
    "plt.xlabel(\"number of rolls\")\n",
    "plt.ylabel(\"number of dice rolled\")\n",
    "plt.hist(np.random.negative_binomial(10,1/6, 500))\n",
    "plt.show()\n"
   ]
  },
  {
   "cell_type": "markdown",
   "metadata": {},
   "source": [
    "This type of distribution is called the *negative binomial* distribution. \n",
    "\n",
    "numpy.random.negative_binomial has two required inputs, the number of success required $n$, and the probability of a success $p$. There is also a size option (Oliphant, 2006; NumPy community, 2018). It's probability density function is\n",
    "\n",
    "$$X\\sim NegativeBinomial(n,\\,p)$$\n",
    "$$ \\\\ $$\n",
    "$$P(X;n,p) = \\binom{X+n-1}{X}p^{n}(1-p)^{X}$$\n",
    "\n",
    "again $1-p$ is the probability of a failure. \n",
    "\n",
    "\n",
    "### Poisson\n",
    "\n",
    "\n",
    "\n",
    "What if the probability $p$ was very small and the number of tries $n$ was very large? Say we have a 1000 face die that will be rolled a million times; What is the distribution of getting a 4 now? In this case the $n$ by $p$ ratio tends towards a constant rate $\\lambda$. This is the *Poisson* distribution. It is frequently used when counting the number of times an event occurs over an interval of time or space. E.g. the number of customers arriving in a shop over the course of a day.  \n",
    "\n"
   ]
  },
  {
   "cell_type": "code",
   "execution_count": 72,
   "metadata": {
    "scrolled": true
   },
   "outputs": [
    {
     "name": "stdout",
     "output_type": "stream",
     "text": [
      "How many customers arrive at a shop on a Sunday when the average Sunday rate is 100? -  98 customers\n"
     ]
    },
    {
     "data": {
      "image/png": "[encoded data removed]",
      "text/plain": [
       "<matplotlib.figure.Figure at 0x2264436b898>"
      ]
     },
     "metadata": {
      "needs_background": "light"
     },
     "output_type": "display_data"
    }
   ],
   "source": [
    "print(\"How many customers arrive at a shop on a Sunday when the average Sunday rate is 100? - \", np.random.poisson(100), \"customers\")\n",
    "\n",
    "plt.title(\"How many customers arrive on Sunday \")\n",
    "plt.xlabel(\"number of customers\")\n",
    "plt.ylabel(\"number of Sunday's\")\n",
    "plt.hist(np.random.poisson(100,500))\n",
    "plt.show()"
   ]
  },
  {
   "cell_type": "markdown",
   "metadata": {},
   "source": [
    "The Poisson distribution can be thought of as the limiting case of a Binomial distribution when the number of trials $n$ is very large and the probability of a success $p$ is very small (Chamberlain, 2016). "
   ]
  },
  {
   "cell_type": "code",
   "execution_count": 43,
   "metadata": {
    "scrolled": false
   },
   "outputs": [
    {
     "data": {
      "image/png": "[encoded data removed]",
      "text/plain": [
       "<matplotlib.figure.Figure at 0x1fecd0ec080>"
      ]
     },
     "metadata": {
      "needs_background": "light"
     },
     "output_type": "display_data"
    }
   ],
   "source": [
    "plt.subplot(121)\n",
    "plt.title(\"Poisson How many customers arrive on Sunday \\n when average is 100 \")\n",
    "plt.xlabel(\"number of customers\")\n",
    "plt.ylabel(\"number of Sunday's\")\n",
    "plt.hist(np.random.poisson(100,500))\n",
    "\n",
    "plt.subplot(122)\n",
    "plt.title(\"Binomial How many customers arrive on Sunday when \\n 20000 potential shoppers have a probibility of shopping of 0.005 \")\n",
    "plt.xlabel(\"number of customers\")\n",
    "plt.ylabel(\"number of Sunday's\")\n",
    "plt.hist(np.random.binomial(20000, 0.005, 500))\n",
    "plt.subplots_adjust(bottom=1.0, right=2.0, top=2.0)\n"
   ]
  },
  {
   "cell_type": "markdown",
   "metadata": {},
   "source": [
    "\n",
    "numpy.random.posson has one required input its rate $\\lambda$. Size can also be specified (Oliphant, 2006; NumPy community, 2018). \n",
    "\n",
    "Its probability density function is \n",
    "\n",
    "$$X\\sim Poisson(\\,\\lambda)$$\n",
    "$$ \\\\  $$\n",
    "$$p(x; \\lambda)=\\frac{\\lambda^x e^{-\\lambda}}{x!}$$\n",
    "\n"
   ]
  },
  {
   "cell_type": "markdown",
   "metadata": {},
   "source": [
    "### Normal\n",
    "\n",
    "So far the focus has been the **discrete** distributions, discrete uniform, binomial, geometric, negative binomial and Poisson. The **continuous** uniform distribution was also discussed. Regarding the binomial distribution, if the number tries is very large, a bell shaped pattern emerges. "
   ]
  },
  {
   "cell_type": "code",
   "execution_count": 29,
   "metadata": {
    "scrolled": true
   },
   "outputs": [
    {
     "data": {
      "image/png": "[encoded data removed]",
      "text/plain": [
       "<matplotlib.figure.Figure at 0x1feccd053c8>"
      ]
     },
     "metadata": {
      "needs_background": "light"
     },
     "output_type": "display_data"
    }
   ],
   "source": [
    "plt.subplot(121)\n",
    "plt.title(\"10 trials \")\n",
    "plt.hist(np.random.binomial(100,1/6, 5))\n",
    "plt.subplot(122)\n",
    "plt.title(\"10000 trials \")\n",
    "plt.hist(np.random.binomial(100,1/6, 10000))\n",
    "plt.subplots_adjust(bottom=1.0, right=2.0, top=2.0)"
   ]
  },
  {
   "cell_type": "markdown",
   "metadata": {},
   "source": [
    "Taking this to its limit of an infinite number of trials gives one of the most ubiquitous distributions, the *Normal* distribution. This is the continuous distribution that is commonly found in real world situations. For example, measure people's height and plot the results and you will find the vast majority will be clustered around the average value with almost all heights within 3 standard deviations of this average. You may get a few cases of people being extremely tall or extremely small but you will not get someone of height 1 cm or 1 km. \n",
    "\n",
    "Other examples of the normal distribution include marks on an exam, blood pressure readings, salary  levels etc. For example the data below comes from the public dataset ANSUR2, in particular the male data. This is data from the U.S. Army Anthropometry survey which took several measurements of its military population and made this data publicly available (U.S. Army Anthropometry, 2012).  \n"
   ]
  },
  {
   "cell_type": "code",
   "execution_count": 30,
   "metadata": {
    "scrolled": false
   },
   "outputs": [
    {
     "name": "stdout",
     "output_type": "stream",
     "text": [
      "The Height in Inches of Male US Military Personnel from ANSUR2 dataset 2012\n",
      "0    71\n",
      "1    68\n",
      "2    68\n",
      "3    66\n",
      "4    77\n",
      "Name: Heightin, dtype: int64 \n",
      "\n",
      "count    4082.000000\n",
      "mean       70.035767\n",
      "std         2.947419\n",
      "min        60.000000\n",
      "25%        68.000000\n",
      "50%        70.000000\n",
      "75%        72.000000\n",
      "max        94.000000\n",
      "Name: Heightin, dtype: float64 \n",
      "\n"
     ]
    },
    {
     "data": {
      "image/png": "[encoded data removed]",
      "text/plain": [
       "<matplotlib.figure.Figure at 0x1fecb5a8438>"
      ]
     },
     "metadata": {
      "needs_background": "light"
     },
     "output_type": "display_data"
    }
   ],
   "source": [
    "# data taken from http://www.ucd.ie/ecomodel/Resources/datasets_WebVersion.html in particular http://mreed.umtri.umich.edu/mreed/downloads/anthro/ANSUR2Distribution.zip\n",
    "df=pd.read_csv(\"data/ANSURIIMALEPublic.csv\", encoding = \"ISO-8859-1\")\n",
    "print(\"The Height in Inches of Male US Military Personnel from ANSUR2 dataset 2012\")\n",
    "heights = df.loc[:,'Heightin'] \n",
    "print(heights.head(), \"\\n\")\n",
    "print(heights.describe(), \"\\n\")\n",
    "plt.title(\"Histogram of height in Inches of Male ANSUR2 dataset\")\n",
    "plt.xlabel(\"height in inches\")\n",
    "plt.ylabel(\"number of military personnel\")\n",
    "plt.hist(heights)\n",
    "plt.show()\n"
   ]
  },
  {
   "cell_type": "markdown",
   "metadata": {},
   "source": [
    "This shows the bell shape curve characteristic of the normal distribution. \n",
    "\n",
    "The normal distribution is especially important as many other non normal distributions such as the binomial one above, tend toward a normal distribution pattern as their sample size increases under certain assumptions of each sample added being independent from each other. This is the idea behind the ***central limit theorem*** (Yearsley, n.d.). \n",
    "\n",
    "numpy.random has two normal functions (Oliphant, 2006; NumPy community, 2018)\n",
    "\n",
    "1. standard_normal\n",
    "2. normal\n",
    "\n",
    "#### Standard Normal\n",
    "\n",
    "numpy.random.standard_normal (Oliphant, 2006; NumPy community, 2018) produces samples from the standard normal distribution. The standard normal distribution has a mean of 0 and a standard deviation of 1. \n",
    "\n",
    "\n",
    "Its probability density function is \n",
    "\n",
    "$$X\\sim Normal(0,\\, 1)$$\n",
    "$$ \\\\ $$\n",
    "\n",
    "$$p(x)\t=\t\\frac{1}{\\sqrt{2\\pi}}e^{-\\frac{x^2}{2}}$$\n",
    "\n",
    "\n",
    "\n",
    "\n",
    "#### Normal\n",
    "\n",
    "The standard normal distribution is a specific case of the *normal* distribution with a mean of 0 and a standard deviation of 1. The normal distribution can have other values for its mean $\\mu$ and standard deviation $\\sigma$. Its inputs are $\\mu$  and $\\sigma$ and it outputs random samples from this distribution. \n",
    "\n",
    "numpy.random.normal has as two required inputs, its mean and its standard deviation. The number of random samples from this distribution can also be specified (Oliphant, 2006; NumPy community, 2018). \n",
    "\n",
    "Its probability density function is \n",
    "\n",
    "$$X\\sim Normal(\\mu,\\, \\sigma)$$\n",
    "$$ \\\\ $$\n",
    "$$p(x) = \\frac{1}{\\sqrt{ 2 \\pi \\sigma^2 }} e^{ - \\frac{ (x - \\mu)^2 } {2 \\sigma^2} }$$\n",
    "\n",
    "where $\\mu$ is the mean and $\\sigma$ the standard deviation. The square of the standard deviation, $\\sigma^2$ is called the variance.\n"
   ]
  },
  {
   "cell_type": "code",
   "execution_count": 31,
   "metadata": {
    "scrolled": false
   },
   "outputs": [
    {
     "data": {
      "image/png": "[encoded data removed]",
      "text/plain": [
       "<matplotlib.figure.Figure at 0x1fecb5a87f0>"
      ]
     },
     "metadata": {
      "needs_background": "light"
     },
     "output_type": "display_data"
    }
   ],
   "source": [
    "plt.subplot(121)\n",
    "plt.title(\"Standard Normal \\n samples centered round 0\")\n",
    "plt.hist(np.random.standard_normal(100))\n",
    "plt.subplot(122)\n",
    "plt.title(\"Normal \\n samples centered round 50 \")\n",
    "plt.hist(np.random.normal(50, 9, 100))\n",
    "plt.subplots_adjust(bottom=1.0, right=2.0, top=2.0)"
   ]
  },
  {
   "cell_type": "markdown",
   "metadata": {},
   "source": [
    "In general, numpy.random has 35 distribution functions (Oliphant, 2006; Wikipedia contributors, 2018g; NumPy community, 2018). Namely \n",
    "\n",
    "                           \n",
    "1. beta - Discrete\n",
    "2. *binomial* - Discrete\n",
    "3. chisquare - Continuous\n",
    "4. dirichlet - Joint\n",
    "5. exponential - Continuous\n",
    "6. f - Continuous\n",
    "7. gamma - Continuous\n",
    "8. *geometric* - Discrete\n",
    "9. gumbel - Continuous\n",
    "10. hypergeometric - Discrete\n",
    "11. laplace - Continuous\n",
    "12. logistic - Continuous\n",
    "13. lognormal - Continuous\n",
    "14. logseries - Discrete\n",
    "15. multinomial - Joint\n",
    "16. multivariate_normal - Continuous\n",
    "17. *negative_binomial* - Discrete\n",
    "18. noncentral_chisquare - Continuous\n",
    "19. noncentral_f - Continuous\n",
    "20. *normal* - Continuous\n",
    "21. pareto - Continuous\n",
    "22. *poisson* - Discrete\n",
    "23. power - Continuous\n",
    "24. rayleigh - Continuous\n",
    "25. standard_cauchy - Continuous\n",
    "26. standard_exponential - Continuous\n",
    "27. standard_gamma - Continuous\n",
    "28. *standard_normal* - Continuous\n",
    "29. standard_t - Continuous\n",
    "30. triangular - Continuous\n",
    "31. *uniform* - Continuous\n",
    "32. vonmises - Continuous\n",
    "33. wald - Continuous\n",
    "34. weibull - Continuous\n",
    "35. zipf - Discrete\n",
    "\n",
    "\n",
    "Each of these distributions has their own shape and parameters. numpy.random's distribution functions allows random samples to be generated from any of these probability distributions. This report has looked at several of these.\n",
    "\n",
    "1. Uniform, discrete and continuous\n",
    "2. Binomial including Bernoulli\n",
    "3. Geometric\n",
    "4. Negative binomial \n",
    "5. Poisson\n",
    "6. Normal including Standard Normal"
   ]
  },
  {
   "cell_type": "markdown",
   "metadata": {},
   "source": [
    "## What are seeds and how are they involved in generating pseudorandom numbers? "
   ]
  },
  {
   "cell_type": "markdown",
   "metadata": {},
   "source": [
    "Random number generation requires a way of producing sequences of numbers in such a way that they do not show a predictable pattern and they appear to be random. \n",
    "\n",
    "At start of a soccer match to decide which side of the pitch teams attack, the referee tosses a coin and the team captains pick heads or tails. This is because events like coin toss, dice throw, card picks are ways of generating random numbers. \n",
    "\n",
    "Modern uses of random numbers can't wait around all day to flip coins or roll dice a million times or so. They need a way of making a computer do it, while still keeping the appearance of randomness.\n",
    "\n",
    "However, computers are deterministic, they run on predictable algorithms and any random numbers they produce has a pattern, IF, you know where to look. \n",
    "\n",
    "Random numbers have two characteristics that make them random. They are independent i.e. every random number only depends on its self and not on any other random number; They are uniformly distributed i.e. the are not clustered around certain values. \n",
    "\n",
    "\n",
    "Computers use algorithms to produce pseudo random numbers to mimic features of random numbers. One way of doing this is via *Random Number Streams*. Random number streams require a *seed* value to *initialise* the stream. This is the first value in the random number stream. The seed can come from any value within the stream (Houlding, n.d.). \n",
    "\n",
    "##  The use of seeds in generating pseudorandom numbers\n",
    "\n",
    "For example suppose you wanted 5 random non negative integers; let the digits in $\\pi$ be the random number stream; and the 'seed' be the 7th digit; Generating 5 random numbers from this stream with that seed will give 2,6,5,3,5 as these are the 7th to 11th digits of $\\pi$; This could be made less predictable by altering the space between the seed and the next number in the sequence; e.g taking every third value from the same starting point would give the sequence, 2,3,9,3,8 which makes it a bit harder to spot that its numbers from $\\pi =  3.14159265358979323846.....$. Once you know two pieces of information, which stream is used e.g. digits in $\\pi$ in steps of 1 and the initial starting point e.g 7 - you can predict every number in the sequence; however without that information it will appear to be random. \n"
   ]
  },
  {
   "cell_type": "code",
   "execution_count": 73,
   "metadata": {
    "scrolled": true
   },
   "outputs": [
    {
     "name": "stdout",
     "output_type": "stream",
     "text": [
      "pi to 20 digits \n",
      " 3.141592653589793116\n",
      "\n",
      " Starting from 7th value of pi, generate 5 numbers in steps of 1 \n",
      " 26535\n",
      "\n",
      " Starting from 7th value of pi, generate 5 numbers in steps of 3 \n",
      " 23936\n",
      "actually this looks a bit non random, which is the point of randomness, \n",
      " the digits can appear to form a pattern but any pattern is an illusion\n"
     ]
    }
   ],
   "source": [
    "# import math  in python\n",
    "import math\n",
    "# format pi so it can be sliced\n",
    "print(\"pi to 20 digits \\n\", f\"{math.pi:.20}\"[:20])\n",
    "print(\"\\n Starting from 7th value of pi, generate 5 numbers in steps of 1 \\n\", f\"{math.pi:.20}\"[7:12])\n",
    "print(\"\\n Starting from 7th value of pi, generate 5 numbers in steps of 3 \\n\", f\"{math.pi:.20}\"[7:20:3])\n",
    "print(\"actually this looks a bit non random, which is the point of randomness, \\n the digits can appear to form a pattern but any pattern is an illusion\")"
   ]
  },
  {
   "cell_type": "markdown",
   "metadata": {},
   "source": [
    "\n",
    "![random seed pic](img/randseed.png)\n",
    "\n",
    "\n",
    "## Random generator\n",
    "\n",
    "Random numbers are difficult to generate. Typically when true random numbers are required some random natural process is used such as radioactive decay levels. Computational random number generation is not truly random. Algorithms can produce long sequences of random looking data but which in reality are completely deterministic once a key piece of information is known (Wikipedia contributors, 2018h). \n",
    "\n",
    "numpy.random contains four functions involved with the generation of random data from a specified range or given population (NumPy community, 2018);  \n",
    "\n",
    "* RandomState\n",
    "* Seed\n",
    "* get_state\n",
    "* set_state \n",
    "\n",
    "As noted before 'random' in this sense means PRN and PRNGs. Numpy.random uses the PRNG algorithm named the 'Mersenne Twister'. This is a widely used computer algorithm that is suitable for most random number generation needs. A PRNG requires a seed as a starting point in the random sequence and this seed resides with in a class called its random state (e.g. random stream). Once a seed is defined, the random sequence it generates can be predicted.  If no seed is given then Numpy picks a 'random' one based on either the computers internal clock settings or on the computers own random number generator (H & Czygan, 2015).  \n",
    "\n",
    "\n",
    "Simple random data functions and and random distribution functions operate within the same random state class. numpy.random has a class called RandomState. Random number generation uses an instance of the RandomState. Each RandomState instance has its own set of random number sequences that can be initialized by a *seed* value similar to the $\\pi$ example above. Choosing different seed values within an instance of RandomState will produce a different set of random numbers, namely its *stream or thread* from within that RandomState Class (Schloerb, n.d.).   \n",
    "\n",
    "\n",
    "If you want a different seed for one particular random state instance then you can specify the unique seed with the RandomState function. This creates a local random number generator that differs from the global one used by the other functions (Mc Kinney, 2018). \n",
    "\n",
    "Numpy.random has a function *seed* that allows the user to specify the seed for the default RandomState and therefore generate a predictable random pattern of data. This is required for statistical model testing that require the same 'random noise' to be generated. \n",
    "\n",
    "get_state and set_state are ways of setting a specific random state (set_state) and recalling it(get_state)for specific use (Stackoverflow Patrick Artner, 2018). \n",
    "\n",
    "Each of these four functions will be discussed below. \n",
    "\n",
    "\n",
    "### RandomState\n",
    "\n",
    "![Random State](img/rstate.jpeg)\n",
    "\n",
    "numpy.random operates within a RandomState and takes a randomly generated seed from within this state if none is specified.The seed is the key piece of information from which the 'random' pattern can be deterministically generated. This is required as there are times when its the exact same set of random numbers need to be produced. The functions in the random generator section allows the RandomState and its Seed to be specifically set and not randomly allocated. \n",
    "\n",
    "\n",
    "RandomState has  a seed value as input and outputs the container or instance of its class which contains all the random number streams for PRNG in that class (NumPy community, 2018). The seed value can be any integer from 0 to $2^{32}-1$, an array or the defalut value None which generates a random integer from the computer systems clock or other method (H & Czygan, 2015). There is always an underlying RandomState in numpy.random. All the functions in Numpy.random operate within an global instance of a default RandomState that is not explicitly set. All the functions and methods generate their random data within this state. E.g. if numpy.random.rand is used to generate some random floats then another function is called like np.random.uniform both functions will operate within the same random state. Different random numbers will be generated because the seed value will be different at each time but they will all be in the same RandomState container. RandomState allows you to specify the container to use by creating a local instance of this container. \n",
    "\n",
    "![Random State](img/randomstate.jpeg)\n",
    "\n",
    "This means that rather than changing global seed for the PRNG, a container or instance is created with that specific seed. It is used prior to calling other numpy.random functions. RandomState, like the seed function, allows for functions that call and create random data to return the same random data when called again. RandomState comes with a wide varity of methods very similar to numpy.random's functions, to call various probability distributions and simple random data functions. However these are methods rather than functions as each operate within a local instance of  the RandomState and do not affect global settings of numpy.random.  \n",
    "\n",
    "\n",
    "Generally RandomState is prefered over seed as if seed is used all instances of random numbers called within the session will be set to the new random state. But if RandomState is used a method is called that produces the PRNG, leaving the Global RandomState unchanged  (Stackoverflow Sven Marnach, 2011; Stackoverflow DSM 2015).  The same PRNG is used by numpy.random and python.random (NumPy community, 2018) but numpy.random has more distribution methods and functions. \n",
    "\n",
    "#### When would you use RandomState\n",
    "\n",
    "RandomState is used when you want to generate the same set of random data locally without changing the global PRNG. \n"
   ]
  },
  {
   "cell_type": "code",
   "execution_count": 33,
   "metadata": {
    "scrolled": false
   },
   "outputs": [
    {
     "name": "stdout",
     "output_type": "stream",
     "text": [
      "<mtrand.RandomState object at 0x000001FECCEFDC60>\n",
      "the current random state RandomState \n",
      "  <mtrand.RandomState object at 0x000001FECCEFDC60> \n",
      " random number with rand not setting rs will vary \n",
      "  0.6938384475529483  \n",
      " random number with rand setting rs is fixed at 0.417022004702574 \n",
      "  0.417022004702574\n",
      " \n",
      " rs.rand with rs set to 1 will always generate the same set of random values \n",
      " [  7.20324493e-01   1.14374817e-04   3.02332573e-01   1.46755891e-01\n",
      "   9.23385948e-02   1.86260211e-01   3.45560727e-01]\n",
      " \n",
      " rs.rand with rs set to 5 will always generate the same set of random values  that differ from rs set to 1 \n",
      " [ 0.39676747  0.53881673  0.41919451  0.6852195   0.20445225  0.87811744\n",
      "  0.02738759]\n",
      "\n",
      " np.random.rand will return random numbers \n",
      "  0.4625466304344632\n",
      "\n",
      " np.random.rand will return random numbers \n",
      "  [ 0.3605672   0.35704521  0.05009893  0.31790287  0.23536155  0.0178859\n",
      "  0.87931964]\n"
     ]
    }
   ],
   "source": [
    "print(np.random.RandomState())\n",
    "rs = np.random.RandomState(1)\n",
    "print(\"the current random state RandomState \\n \", rs, \"\\n random number with rand not setting rs will vary \\n \", np.random.rand(),\" \\n random number with rand setting rs is fixed at 0.417022004702574 \\n \", rs.rand())\n",
    "print(\" \\n rs.rand with rs set to 1 will always generate the same set of random values \\n\", rs.rand(7))\n",
    "print(\" \\n rs.rand with rs set to 5 will always generate the same set of random values  that differ from rs set to 1 \\n\", rs.rand(7))\n",
    "print(\"\\n np.random.rand will return random numbers \\n \", np.random.rand())\n",
    "print(\"\\n np.random.rand will return random numbers \\n \", np.random.rand(7))\n"
   ]
  },
  {
   "cell_type": "code",
   "execution_count": 34,
   "metadata": {
    "scrolled": true
   },
   "outputs": [
    {
     "name": "stdout",
     "output_type": "stream",
     "text": [
      "[ 0.77132064  0.02075195  0.63364823  0.74880388] \n",
      "\n"
     ]
    }
   ],
   "source": [
    "# Create the random state rn with seed 10 \n",
    "\n",
    "rn = np.random.RandomState(10)\n",
    "\n",
    "# Create random numbers between [0,1) with the rand simple random data function\n",
    "print(rn.rand(4), '\\n')\n"
   ]
  },
  {
   "cell_type": "code",
   "execution_count": 35,
   "metadata": {
    "scrolled": true
   },
   "outputs": [
    {
     "name": "stdout",
     "output_type": "stream",
     "text": [
      "[ 0.77132064  0.02075195  0.63364823  0.74880388] \n",
      "\n",
      "[ 0.49850701  0.22479665  0.19806286  0.76053071] \n",
      "\n",
      "[ 0.16911084  0.08833981  0.68535982  0.95339335] \n",
      "\n"
     ]
    }
   ],
   "source": [
    "# Create the random state rn with seed 10 \n",
    "\n",
    "rn = np.random.RandomState(10)\n",
    "\n",
    "# Create random numbers between [0,1) with the rand simple random data function\n",
    "print(rn.rand(4), '\\n')\n",
    "print(rn.rand(4), '\\n')\n",
    "print(rn.rand(4), '\\n')"
   ]
  },
  {
   "cell_type": "markdown",
   "metadata": {},
   "source": [
    "I would need more time to investigate why consistently different random numbers are recalled by the rn.rand method in the above case.  I suspect its something to do with the number of times the PRNG is called. "
   ]
  },
  {
   "cell_type": "code",
   "execution_count": 36,
   "metadata": {
    "scrolled": false
   },
   "outputs": [
    {
     "name": "stdout",
     "output_type": "stream",
     "text": [
      "[ 0.4135635   1.7730444  -0.34126973 -1.10770959 -0.85747765  3.10280235\n",
      " -0.93708645  1.4062394  -1.30865288  1.47934145]\n"
     ]
    },
    {
     "data": {
      "image/png": "[encoded data removed]",
      "text/plain": [
       "<matplotlib.figure.Figure at 0x1fecbab4198>"
      ]
     },
     "metadata": {
      "needs_background": "light"
     },
     "output_type": "display_data"
    },
    {
     "name": "stdout",
     "output_type": "stream",
     "text": [
      " \n",
      " the random noise changes everytime the code is run\n",
      " \n",
      " now generate the same noise pattern \n",
      "\n",
      "[ 1.3315865   0.71527897 -1.54540029 -0.00838385  0.62133597 -0.72008556\n",
      "  0.26551159  0.10854853  0.00429143 -0.17460021]\n"
     ]
    },
    {
     "data": {
      "image/png": "[encoded data removed]",
      "text/plain": [
       "<matplotlib.figure.Figure at 0x1fecbadb2b0>"
      ]
     },
     "metadata": {
      "needs_background": "light"
     },
     "output_type": "display_data"
    },
    {
     "data": {
      "image/png": "[encoded data removed]",
      "text/plain": [
       "<matplotlib.figure.Figure at 0x1fecd0ced68>"
      ]
     },
     "metadata": {
      "needs_background": "light"
     },
     "output_type": "display_data"
    }
   ],
   "source": [
    "# create random noise from a uniform distribution\n",
    "\n",
    "x = np.arange(0.0, 10.0, 1) # 0 to <10 in 1 increments\n",
    "y = 5.0 * x + 7.0\n",
    "noise = np.random.normal(0.0, 1.0, len(x)) # center, sd, size\n",
    "print(noise)\n",
    "plt.plot(x, y + noise, 'r.')\n",
    "plt.show()\n",
    "\n",
    "print(\" \\n the random noise changes everytime the code is run\")\n",
    "print(\" \\n now generate the same noise pattern \\n\")\n",
    "rn = np.random.RandomState(10)\n",
    "x = np.arange(0.0, 10.0, 1) # 0 to <10 in 1 increments\n",
    "y = 5.0 * x + 7.0\n",
    "noise = rn.normal(0.0, 1.0, len(x)) # center, sd, size\n",
    "print(noise)\n",
    "plt.plot(x, y + noise, 'r.')\n",
    "plt.show()\n",
    "\n",
    "x = np.arange(0.0, 10.0, 1) # 0 to <10 in 1 increments\n",
    "y = 5.0 * x + 7.0\n",
    "noise = np.random.normal(0.0, 1.0, len(x))\n",
    "pseudo_noise = np.random.normal(0.0, 1.0, len(x))\n",
    "plt.plot(x, y + noise, 'ro')\n",
    "plt.plot(x, y + pseudo_noise, 'go')\n",
    "plt.show()\n"
   ]
  },
  {
   "cell_type": "markdown",
   "metadata": {},
   "source": [
    "### Seed\n",
    "\n",
    "seed has as its input the starting point for the PRNG (NumPy community, 2018). No value is outputted rather it sets an internal process, the starting value for the random number stream. If the seed value is not set with this function or the RandomState function it defaults randomly generated seeds based on the computers internal clock time or internal random generator (H & Czygan, 2015). Unlike RandomState which only affects the local instance of random method calls, the seed function acts on a global scale and affects the PRNG on all the numpy.random functions. Seed is used when the same set of random data from the same random state is needed. This is used to test models particularly in machine learning. Its input is an integer or 1 dimensional array that can be converted into an unsigned 32 bit integer. If not specified, a random seed is used as mentioned above (NumPy community, 2018).  \n",
    "\n",
    "#### When would you use Seed\n",
    "\n",
    "Seed is used when you want to generate the same set of random data globally"
   ]
  },
  {
   "cell_type": "code",
   "execution_count": 37,
   "metadata": {
    "scrolled": false
   },
   "outputs": [
    {
     "name": "stdout",
     "output_type": "stream",
     "text": [
      "seed is set to 5 \n",
      "  [ 0.22199317  0.87073231  0.20671916  0.91861091  0.48841119  0.61174386\n",
      "  0.76590786]\n",
      "seed is set to 50 \n",
      "  [ 0.49460165  0.2280831   0.25547392  0.39632991  0.3773151   0.99657423\n",
      "  0.4081972 ]\n",
      "seed is not set \n",
      "  [ 0.1632323   0.06797468  0.03662554  0.82299453  0.77944296  0.96972769\n",
      "  0.00506574]\n",
      "random values from poisson distribution are \n",
      "  [51 43 40 56 45 56 40 68 63 46]\n"
     ]
    },
    {
     "data": {
      "image/png": "[encoded data removed]",
      "text/plain": [
       "<matplotlib.figure.Figure at 0x1fecd145d68>"
      ]
     },
     "metadata": {
      "needs_background": "light"
     },
     "output_type": "display_data"
    },
    {
     "name": "stdout",
     "output_type": "stream",
     "text": [
      " \n",
      " the random noise changes everytime the code is run\n",
      " \n",
      " now generate the same noise pattern using seed \n",
      "\n",
      "random values from poisson distribution with seed = 1 are \n",
      "  [48 41 43 48 48 48 41 46 38 39]\n"
     ]
    },
    {
     "data": {
      "image/png": "[encoded data removed]",
      "text/plain": [
       "<matplotlib.figure.Figure at 0x1fecd12e470>"
      ]
     },
     "metadata": {
      "needs_background": "light"
     },
     "output_type": "display_data"
    },
    {
     "name": "stdout",
     "output_type": "stream",
     "text": [
      "random values from poisson distribution with seed = 1 are \n",
      "  [48 41 43 48 48 48 41 46 38 39]\n"
     ]
    },
    {
     "data": {
      "image/png": "[encoded data removed]",
      "text/plain": [
       "<matplotlib.figure.Figure at 0x1fecbab4518>"
      ]
     },
     "metadata": {
      "needs_background": "light"
     },
     "output_type": "display_data"
    }
   ],
   "source": [
    "#set the seed\n",
    "np.random.seed(5) ;\n",
    "# print the random list\n",
    "print(\"seed is set to 5 \\n \", np.random.rand(7))\n",
    "# set the seed\n",
    "np.random.seed(50) ; \n",
    "print(\"seed is set to 50 \\n \", np.random.rand(7))\n",
    "np.random.seed(); # the default \n",
    "print(\"seed is not set \\n \", np.random.rand(7))\n",
    "\n",
    "\n",
    "# create random noise from a poisson distribution\n",
    "\n",
    "x = np.arange(0.0, 10.0, 1) # 0 to <10 in 1 increments\n",
    "y = 5.0 * x + 7.0\n",
    "noise = np.random.poisson(50, 10) # center, sd, size\n",
    "print(\"random values from poisson distribution are \\n \", noise)\n",
    "plt.plot(x, y + noise, 'r.')\n",
    "plt.show()\n",
    "\n",
    "print(\" \\n the random noise changes everytime the code is run\")\n",
    "print(\" \\n now generate the same noise pattern using seed \\n\")\n",
    "\n",
    "x = np.arange(0.0, 10.0, 1) # 0 to <10 in 1 increments\n",
    "y = 5.0 * x + 7.0\n",
    "np.random.seed(1); \n",
    "noise = np.random.poisson(50, 10) # center, sd, size\n",
    "print(\"random values from poisson distribution with seed = 1 are \\n \", noise)\n",
    "plt.plot(x, y + noise, 'r.')\n",
    "plt.show()\n",
    "\n",
    "x = np.arange(0.0, 10.0, 1) # 0 to <10 in 1 increments\n",
    "y = 5.0 * x + 7.0\n",
    "np.random.seed(1); \n",
    "noise = np.random.poisson(50, 10) # center, sd, size\n",
    "print(\"random values from poisson distribution with seed = 1 are \\n \", noise)\n",
    "plt.plot(x, y + noise, 'r.')\n",
    "plt.show()\n",
    "\n",
    "\n"
   ]
  },
  {
   "cell_type": "markdown",
   "metadata": {},
   "source": [
    "Apart from the local and global difference, the main difference between Seed and RandomState is that seed is used prior to calling the PRNG function such as rand or normal so that the same random numbers are generated; While RandomState is set prior to calling a method of random state. "
   ]
  },
  {
   "cell_type": "code",
   "execution_count": 74,
   "metadata": {},
   "outputs": [
    {
     "data": {
      "text/plain": [
       "19968"
      ]
     },
     "execution_count": 74,
     "metadata": {},
     "output_type": "execute_result"
    }
   ],
   "source": [
    "# quick calculation\n",
    "p = 624*32\n",
    "p\n",
    "\n"
   ]
  },
  {
   "cell_type": "markdown",
   "metadata": {},
   "source": [
    "### get_state\n",
    "\n",
    "get_state has no input and returns a tuple representing the internal state of the generator (NumPy community, 2018). It outputs 5 items; \n",
    "\n",
    "Firstly, a string 'MT19937' which denotes the Mersenne Twister 19937 generator used i.e. $2^{19937} -1$. Thus there are 19937 state (Stackoverflow, ali_m 2015) that can be used to generate $2^{(264)(32)=19968}$ random values. Its state is an array of 624 32 bit integers (Stackoverflow,  Robert Kern  2014) \n",
    "\n",
    "The second output item is this array of 624 unsigned 32 bit integer keys. Hence there is enough bits to represent all the internal states; The first item in this array is the seed value. \n",
    "\n",
    "The third output was difficult to find information on but (Cppreference community 2016)suggests that the Mersenne Twister engine has a *discard* third argument that advances the engine on by a specific amount (similar idea as in the step distance to use in picking the second digit in the $\\pi$ example given above).  \n",
    "\n",
    "The fourth and fifth output refers to generator states for the standard normal variable (Stackoverflow,  Mark Dickinson, 2017). The Box-Muller transformation is used by numpy which creates pairs of these variables, one for immediate use and one stored for later use (Wikipedia contributors (2018i). \n",
    "\n",
    "#### When would you use get_state?\n",
    "\n",
    "You would use get_state when you want to identify the current RandomState used by the Mersenne Twister in numpy.random. Normally you would pass the state into a variable so that it can be used in conjunction with set_state. "
   ]
  },
  {
   "cell_type": "code",
   "execution_count": 38,
   "metadata": {
    "scrolled": false
   },
   "outputs": [
    {
     "name": "stdout",
     "output_type": "stream",
     "text": [
      "<mtrand.RandomState object at 0x000001FECCEE7708>\n",
      "the version of the prng used \n",
      " MT19937\n",
      "the 624 array used for integer keys \n",
      " note that the first item in the array is the seed value \n",
      " [         5  472231674 2253902500 3404394881 1014880846  396156619\n",
      " 4289431837  316679901 3007748665 2667670608  214277732 1349976447\n",
      " 2704409794 2122751949 1697986442 2441432294  167336452 2259199909\n",
      " 1809023989 1203544919    3110658 2457339359 1770558791 1471109813\n",
      " 3668253980 2140345428 1966834339   64044037  986602261 4223347814\n",
      " 1314754807 3157776173 3665366187  840951401 1908611215 3724455465\n",
      " 1540698294 3677300568  757545485 3773160520 1738607807 2475537695\n",
      " 1017117083 3203296594 2847994044 4146506019 1386404302  158905818\n",
      " 1189570866  889048144  279473090 2120963517 4183715680 3146968388\n",
      " 2799440596 1723987109  921520364  907546965 2383958979 3400684640\n",
      " 2050573899   54285679 3129941001 2563044246 3306835364 1786774052\n",
      "  816424411 3920470698 3693911537  666817215  608853153 2437919948\n",
      " 3587609486 3078204394  324532946  716068645  560869093  198446502\n",
      " 2374056140 1896064917 2418758068  332112671 1400631949 4136082831\n",
      "  900011152 3524406565 3747554900 3429871530 2259730181 3878100252\n",
      "   14488725  324000804 2420973200 2714186231  654693127 1013711138\n",
      "   52798666  479206931  997787873 1722280488  263082897 4017525146\n",
      " 1960923843 3447552241 2664970722 2003285449 4104831058 1451243872\n",
      " 1022528689 1574124354 4058135773 3538342405   27267790 3118049719\n",
      " 3466908123 2554028715 3587792417 2635093471 1248863655 1911468277\n",
      " 1988781244 1370350602  686939089 3301282544 3862693211  972174389\n",
      " 1139930727  270322877  437840913 1117862966 1817653557 2955361799\n",
      " 1305421181 3828164209 1417751936  584580460 3553216548 2009716460\n",
      "  589406475 3871370466 3931528785 3637188839  380556930  961819609\n",
      " 2766575149 1688299548  691050755 3039033794 2350467412  395507075\n",
      " 3975346245 3567479349  130665958 3138933335 4042979619 2989910587\n",
      " 1642031641  865317909  758663655 1880278978 4272237455  474749661\n",
      " 3698450131 3235526835 2873003540  877778259 1219990885  891057435\n",
      " 3332548431  214412709 1110953923 2223098421 2012034911 1858741955\n",
      " 3419217208 3710786550  265954649 2424069582  802631214 3000882905\n",
      " 2373842971 2435269522 3767908486 3799251504 3289121239 1115893085\n",
      " 2123047430 1145777278 4159800791  733233505 1791079683 2472049801\n",
      " 2287765143 3667515018 1010824655  208716398 4186674218 2138727922\n",
      "  427705509  504390368 3581993768 2409145280 2838064724  901680825\n",
      "  564023497 4264587546 3646029995 2219584279 4272831769 1562838547\n",
      " 1696794604 3649762900 2718482471 2034932846 3811581857 2555915713\n",
      " 3483134407  833330989 3340755611 4060069587 1320392940 1412246366\n",
      " 2778788953 2378308550 1087166772 2105675722  827383545 3775543840\n",
      " 2635770803 2671670970  540364670 2433010589 1832218019   86897619\n",
      " 1365384745 1357991603 1362054950 4145486416 2507722413  437138170\n",
      " 3182946194 1500146881  879732914  640864557 4164459701 1261255363\n",
      " 1352139136 2605556188 3864177550 1229399194 1608869153 3699312283\n",
      " 1187836660 2643720358 1475141042  117261214 3429710934 2662681482\n",
      "  329946538 3691710229  817795762 1385112383 1258755708 3191850328\n",
      " 2369521546 1835975089 4264139642 3605862600 4284247075 2855520685\n",
      "  891697689 2413514220 2814123510 2599118421 2567237733  174782646\n",
      " 4031219426 2945294554 2480672334 2374783251 1395987917 3845113493\n",
      " 3006898248  646568013 1597934717  876595721  310937515  975506070\n",
      " 1432450126 1490692940 2052737923 2157337965 2505852143  751110054\n",
      " 1482546084 3038115392 3326180146 1293538430 2707541573 2599117358\n",
      " 1436240008 2815684666 3551772486  237593704 1541948984 2277979822\n",
      " 1015979790 2026192825 2465438924 2326338683  138673651  459226390\n",
      " 3084771558 2652880685 1847563717  569899919 1365165991 1355193275\n",
      " 3787979680 3204809614 4184265596 3375982940  312699581 1975730900\n",
      " 2761972813 2664674160 4104900416 1753784758 4235443579 1482095009\n",
      " 3108445546 3584246611 1067409372 3543240473 3117965456 1510620393\n",
      " 2331652312  114291027 2507448849 3561299410 3102776777 2951538028\n",
      " 3711984572  234984114 2029921170 3125982552 3005528028   49568241\n",
      "  270562929 2772972786 2355188750 3568604699 3392803032 3052067528\n",
      " 2823056660 1157222673 1591807156 2475286990 1003504354  958617233\n",
      " 4265329053  998437567 3318414789  592385673 2869048953  140792564\n",
      "  883249074 2193405097 2781858791 3462135754 1890417855 3714442857\n",
      " 3865617222 2039175342 3342378369 1215946689 4011001912 2676413376\n",
      " 3117571844  100906201 3643636761 1662116287 4228824948 3330882162\n",
      "  159484181 2919912394 3680573290 1924427504 2233843609 1554746540\n",
      "  850532039 3789847818 2639144725 2824977564 2362571232  448760245\n",
      "  775303925 4250548534  698937463 2677510018 4279705360 3779424016\n",
      "  375062289 2849881160  205841606 2131114419  506660560  678887847\n",
      "  644286331 1644415008  377397151  347738710 2308129674 1324707397\n",
      "  850585202  587591321  271975677  753294962 2894874268 3144969209\n",
      "  445968043 3676876316  320096993 1530590572 1033185961 2521646934\n",
      "  183835086  438595057 2093767361  342921069  891612335  117705146\n",
      " 2850185746 2604352001  113879009  462268024 3661686540 2091594144\n",
      "  343981883  465503998 2249044462 2769453013  966230157 3429641820\n",
      " 3826787383 3595705921  744833992 4021405607 1517717876 1049025002\n",
      " 2201498900 2502932849 4231509795 3571147109  326567172  851451995\n",
      "  496662703 2035303892 2531101651  334627904 2155998988 2912145491\n",
      " 1946389187 1307939417 1302058632 2919888606 2400068254 3277661535\n",
      " 3259104032 2506281380 2511900244   39202757 1978943377 4170993065\n",
      " 2464194540 4021778625 3897587814 2666565302 1211278050 3445276782\n",
      " 3569566177 2490954251 3078443119 2742424036  846407586 4111619791\n",
      " 4030950498 3259018540 3497753715 4250929689 2600593452 3997383185\n",
      "  689409286  871160651 3772426629 3852966349 1762717238  984247460\n",
      " 2178720422 4052873383  752334504    7535165 1223844103 2897641301\n",
      " 4253470283  780921953 2707107135 1826193420 1404140573  892663049\n",
      " 3561324427 3445824167 4225190068 3269108020 2097744821 1841361927\n",
      " 3286335074 1430243146 3671967133  395478877 2798333625 3041428688\n",
      " 2389625572  278209737  688264793 2580247594 2609266134 1406720691\n",
      "  880118858 2826564931 3710160311 2670542359 2443558237 1783926672\n",
      " 1294483275 3989148745 3512016202 3158286566 3899686926 3846470716\n",
      "  339459575 1509696400 2490999635 1335544340 2697591145 2081860696\n",
      " 1503437375 3310432921 2807259878 2282621465 3685708237 2495686253\n",
      " 4006515443  145910489 1635863239 1014003785  515737593 1381623914\n",
      "  432469861   94874120 4217134936 2583057432 3588692596 4271383078\n",
      " 1733183437 2900525489 2091579605 3966345691 1513190512 3890899918\n",
      " 1640513307 1870385533 1230570536 4235695978  185921451 1160909750\n",
      " 3612326003 3879188081  515637052  107401455  384391055 2731807920\n",
      " 1704816256 3368461356 3582259155 2960715609 1196106801 2488465723\n",
      " 3366639305 2950617599 1467967519  885924901 3215921641 4061517576\n",
      " 3086990505 3230266570 1206658721 1328996213 2858893082 1428668111\n",
      " 4251748254   28280906 2352374156 4270554465 3637505030 1601817942\n",
      "  726832305  100558132  905102308 3201847125 3979206325 4265756209\n",
      " 3407115806 2299732182 2800314890  168632207  771357907 3652365480\n",
      " 1586668769 3426152139 3740090196 1507888832 4114914707 2337553471]\n",
      "the  no of keys  \n",
      " 624\n",
      "to do with the  state of the generator for standard normal deviates \n",
      " 0\n",
      "to do with the  state of the generator for standard normal deviates \n",
      " 0.0\n",
      "the version of the prng used \n",
      " MT19937\n",
      "the 624 array used for integer keys \n",
      " note that the first item in the array is the seed value \n",
      " [        10  944463347 2695371745 3765730194 1896634681 1176906525\n",
      "  400883218 2211307297  177718231 1955549916  804189755 1789507666\n",
      " 4141818827  715597301 2901743287 1623970424  291228365    5879794\n",
      " 1182012556 4138111156 2620000071 1767623502 2486009153 2127578758\n",
      " 1603998299  762734491 2254820161 2400203914 3979968964 3734287008\n",
      "  179877229   99739936 2920487360 1923087275 1886536756 3171436044\n",
      " 3559072170 3061758162 2660645430 2111228587 3671650106  103473830\n",
      " 2629845416 1050927677 1449518909 1100437209 1578556262 3460280018\n",
      " 1734660517 2859694565 3575428949 3184220961 4143296515 3122556981\n",
      " 4254119145  625908361 3463792965 3244711639  502193630 1561024209\n",
      " 3869151308  502412904 3431276358 3844359032 2345169607 2867049722\n",
      " 3665239578 1321812256 2099796809 3636300717  743061996 1471948387\n",
      " 2993919730 2750479609 1951605329  307845595 3881019059 3607425981\n",
      " 1301731396 1545814152 3341862749 3431069287  685619654 1682915697\n",
      "  123322756 3918855529 2303440168 1526199273  548561632 2439701177\n",
      " 2845738785  936512554 2072463086 3856524200 3440268757  863069133\n",
      "  817894721  133114886 3692401856 3061124178 3052710900  893943411\n",
      " 3395972805 1622125189 2167073404 2128474655  452236352 2475998635\n",
      " 1322075417 4104002277 3809456940 3059669242 1146114632 4223174718\n",
      " 2254529923 1447433560 2894204305  194512500  194682938  760627545\n",
      " 1634691477 1669389277  176388678 1647883289  627566068 2511949249\n",
      " 2702051693  597631050 1343575986 3997132064 1947705937 2740967955\n",
      " 3808109113 1509657447 4121007556 1851299594 3071638239 1380236986\n",
      " 1515082577 2460790555 2642703977 1770978244  680051271 1910351250\n",
      "  353566351 3298948604 2391049517 2648159006 1790420640 3708282650\n",
      " 1283034739  911095185 3934043085 1314477791 3234731056 1803699130\n",
      " 3737177187  638583421 1662050543 2894732421 3077734627  424428134\n",
      " 2741553376 1644573645 2025757728 3584574122 1974320723  883161345\n",
      " 3220817677  779849876 3677044494 3525891532 4046529111 3557654481\n",
      " 4185444488 1813097094 3035334387 3367646918 1948911979 1300590981\n",
      " 3389091272  450819276 2894840114 1708517543  191864886 1765874695\n",
      " 2866365720 2305371645 1444257111  487856555  307733557 4243007144\n",
      " 2911946039 3021613994  558375434 3790784693 1462539922 1664160708\n",
      "  206846591  503450594 2589500146  146454905 2101079687 2297745833\n",
      " 3967302723 1231947277  335073162 3976248385 3822557402 4274679662\n",
      " 3816442835   75643363 3515896419 2862997685 1907660809  164905983\n",
      " 3910880115 3811816457 1929732812 1922740412 2429018221  218100648\n",
      " 2750941734 3846522131  700043312 3624457169 1469379772 2984817780\n",
      " 1889294706  263378500 1913974202 2576866990 2244536004  590152455\n",
      "    9564589 3953454892 2589689207 3803858198 3792207671  601425011\n",
      " 3945090383 3911789549 2705503192  881238005 2154445213  706204592\n",
      " 1702868326 3444027802 3263361877 3242002407 1300832750 3150728006\n",
      "  717035216 1837060365 2632869562 3993960343 1606224484 3571984346\n",
      " 3755596447 2973023375 3331381669 3609834883  739646598 2309421029\n",
      " 3839585835 2610814673 4249670985  444252477  679666461 2029592702\n",
      " 2217134633 2427176710  576891300  825340613   11138507 2485427498\n",
      "  916744668 1082687713 2297608566 4012785627 4233218384 3594967512\n",
      " 3448186753 1459956069 1777064336  544370770 3045077880  393648705\n",
      " 1579066821 3240708981  652668080 2794820243 4066995545   76763047\n",
      " 1162857737  141372751 1367025747 3228093315 2394933930 1605819763\n",
      " 3318047014 3957268934 2155725031 3759843464 4001620743 2476848581\n",
      " 3045406645 2724260710 2381407144 2688044359 2423482991 2792903480\n",
      " 3499680026 3497406742 2994248579 2706662432 3838817446 4196504406\n",
      " 2322243271  510333432 1789120536 4188896286 4188569011 1519175603\n",
      " 2655456382  521816625  174751643 4220210286 3705044297 2394032507\n",
      " 3785260807 4271718879  961394968 1667227589 1374629282 1446919582\n",
      "  417425419 3991466152 1046443977 3309556896 3036881059 3877177818\n",
      " 1679099123 4136531665 1535722546 4094440568  608405729  487353120\n",
      " 2300208380  577226643 2512677213  679111386 1601229666 2488820336\n",
      " 2628508252 1748727417 3475240636 1265996224  413780875 3451367998\n",
      "  327612537 3330787878  566464259  650447002 4052537390 1429289006\n",
      " 1355109113 1544058183 2466429966 2869599789 1361088765 3058962655\n",
      " 2654727589 1935942488 2698744979  890910636  282526804 1148299933\n",
      " 1332333830 2192024638  279701800 3551618629 3366113564  369039802\n",
      " 1585426914 1070115600 4213640914 2433594104 3959777318 2011227422\n",
      " 4264623553 1232007441 2939595992  352902539 3185298529 3805126554\n",
      " 1857542633 3883803157  194722364 2383157051  834776077 1993791410\n",
      " 1175905841 1938326147  205590750 3317987115 1281322078 1027447314\n",
      " 4013911218 4194802798 4205972891 2964174483 3576930769 3283499895\n",
      " 1289914978  505714094 4165676358 2311441114 3766395098 1207474240\n",
      "   72735817 2059533170 2721956101 1239083114 3366713055 3271041653\n",
      " 1871757368 3364444456  857027235 2783655676 4281115108 1888583890\n",
      " 3508387823 1004930509 1601568915 1809472845  103316656 3246613285\n",
      " 1726969268 1449807648  305193661 1170971466 1652320593  279010891\n",
      "  590174291 2473411964 2998852212 1768904781 2839708604  569420215\n",
      "  113698293 3275479148 3430468751 4176716033 3629554064 3915334598\n",
      "   71117697   82916526 3776768112  670188074 4012021342  866654590\n",
      "  828931716 2408222691 2748395157 2375496292  795441680 1029683747\n",
      " 1280715939 3427815359  343872258 1952224161 4242989048 1490072288\n",
      " 2318925215 2853901772  469555746 2859221831  530151703 2633701106\n",
      "  786857616  278593713  828178615 2014591254 1982387959  568358643\n",
      " 1104935621 1079563579  968764362 4160512667 3112058850 4263384395\n",
      " 1345974100  256043894  228789628 1374662619 1604455666 1384261840\n",
      " 2129196391 2064017713  404894180 1600959721 2768996734 1552194531\n",
      "  317420578 4244178275 3082780890 2691264307 1819351377 3227176589\n",
      "  171933188  664329619 2162694143 1951587794 1378644289 1290006595\n",
      " 3142524430  530532545  554565419 2789257470 1562423668 1930469938\n",
      " 1069697833 2080348728 4176436105  120715647 4222969897 4101412001\n",
      " 1354848250 2688158488 2358070612 2004650753 2542131476 2694147523\n",
      " 3203897403  229937556 1966187900  277950826 1319123692 1564153500\n",
      " 1102377741 2009682393 1545725014 1861396338 3112017279 1916930418\n",
      "  826361729 3196862728  996803862 2569456083 3741678235 1710012447\n",
      " 2512303102 1584586901 1368248462  427348374 3085826138 3576829157\n",
      " 2218481388 3044060181 1244476995 3383606331 1355627594    4845258\n",
      " 1836798438 3788304728 3229740573 2793603597  808638755 3996674056\n",
      " 2822500753  317914170 3765341982 3690986926 3061558399 2709845136\n",
      "  676635098 2566358851 4023461863 3541680951 1494014408 3273490322\n",
      " 1826549627 1181927273 2346145360 1566896803 3642388020   65662206\n",
      " 1578135682 1078427900 3811068703  215720027 1643378999 3457759903\n",
      "  982883806  664082665 1652983617 2419367573  398615273 1727969604\n",
      "  545785745   44996494 2329856864 3966480901 1324119226 3269403428\n",
      " 3051995073 1596785998  499343755 2618679608 3938445380 2666898790\n",
      " 3794323160 3766397388 1401014289 2662629559  386574033 2251336670\n",
      " 2150665270 1402676975 2089663570  670612012 2281112010 1088405079]\n",
      "the  no of keys  \n",
      " 624\n",
      "to do with the  state of the generator for standard normal deviates \n",
      " 0\n",
      "to do with the  state of the generator for standard normal deviates \n",
      " 0.0\n"
     ]
    }
   ],
   "source": [
    "# Create the random state rn with seed 10 \n",
    "# example adapted from https://www.machinelearningplus.com/python/numpy-tutorial-part1-array-python-examples/\n",
    "\n",
    "rn = np.random.RandomState(5) # this array has a RandomState created\n",
    "print(rn)\n",
    "\n",
    "print(\"the version of the prng used \\n\",rn.get_state()[0])\n",
    "print(\"the 624 array used for integer keys \\n note that the first item in the array is the seed value \\n\" ,rn.get_state()[1])\n",
    "print(\"the  no of keys  \\n\" ,rn.get_state()[2])\n",
    "print(\"to do with the  state of the generator for standard normal deviates \\n\" ,rn.get_state()[3])\n",
    "print(\"to do with the  state of the generator for standard normal deviates \\n\" ,rn.get_state()[4])\n",
    "\n",
    "np.random.seed(10)\n",
    "print(\"the version of the prng used \\n\",np.random.get_state()[0])\n",
    "print(\"the 624 array used for integer keys \\n note that the first item in the array is the seed value \\n\" ,np.random.get_state()[1])\n",
    "print(\"the  no of keys  \\n\" ,rn.get_state()[2])\n",
    "print(\"to do with the  state of the generator for standard normal deviates \\n\" ,np.random.get_state()[3])\n",
    "print(\"to do with the  state of the generator for standard normal deviates \\n\" ,np.random.get_state()[4])"
   ]
  },
  {
   "cell_type": "markdown",
   "metadata": {},
   "source": [
    "### set_state\n",
    "\n",
    "If you want to use a specific RandomState you can set it with the set_state function. set_state allows the internal state of the Mersenne Twister to be fixed (NumPy community, 2018). \n",
    "\n",
    "numpy.random.set_state has one input, the state of the RandomState required. The state is a tuple with five entries as per get_state. This five entry tuple was discussed in the get_state section above. \n",
    "\n",
    "It is not necessary to input this tuple manually. get_state and set_state are used in conjunction to identify the state via get_state and to set it via set_state as noted earlier.\n"
   ]
  },
  {
   "cell_type": "code",
   "execution_count": 40,
   "metadata": {
    "scrolled": true
   },
   "outputs": [
    {
     "name": "stdout",
     "output_type": "stream",
     "text": [
      "[ 0.63364823  0.74880388  0.49850701  0.22479665  0.19806286  0.76053071\n",
      "  0.16911084  0.08833981  0.68535982  0.95339335] \n",
      "\n",
      "[ 0.63364823  0.74880388  0.49850701  0.22479665  0.19806286  0.76053071\n",
      "  0.16911084  0.08833981  0.68535982  0.95339335] \n",
      "\n",
      "state is not set this time \n",
      " [ 0.00394827  0.51219226  0.81262096  0.61252607  0.72175532  0.29187607\n",
      "  0.91777412  0.71457578  0.54254437  0.14217005] \n",
      "\n"
     ]
    }
   ],
   "source": [
    "state = np.random.get_state() # fixes a random state into a variable\n",
    "print(np.random.rand(10),\"\\n\")\n",
    "\n",
    "np.random.set_state(state)\n",
    "print(np.random.rand(10),\"\\n\")\n",
    "\n",
    "print(\"state is not set this time \\n\", np.random.rand(10),\"\\n\")"
   ]
  },
  {
   "cell_type": "markdown",
   "metadata": {
    "scrolled": true
   },
   "source": [
    "In conclusion, numpy.random offers more distributions and efficiency in processing arrays than the default python.random. It has a wide array of shapes in which to generate random numbers from; Shapes can be matrices or distributions. It has functions that allow the random numbers to be regenerated in a predictable sequence.  "
   ]
  },
  {
   "cell_type": "markdown",
   "metadata": {},
   "source": [
    "## References\n",
    "\n",
    "\n",
    "Bellos, A. (2014, June 13). The World's Most Popular Numbers [Excerpt]. Retrieved November 4, 2018, from https://www.scientificamerican.com/article/most-popular-numbers-grapes-of-math/\n",
    "\n",
    "Chamberlain, A. (2016, November 10). Deriving the Poisson Distribution from the Binomial Distribution Retrieved November 4, 2018, from https://medium.com/@andrew.chamberlain/deriving-the-poisson-distribution-from-the-binomial-distribution-840cc1668239\n",
    "\n",
    "Cppreference community. (2016 September 17). Std::mersenne_twister_engine. Retrieved November 5, 2018, from https://en.cppreference.com/w/cpp/numeric/random/mersenne_twister_engine\n",
    "\n",
    "Foley, B. (2018, June 12). How to Avoid Sampling Bias in Research. Retrieved November 4, 2018, from https://www.surveygizmo.com/resources/blog/how-to-avoid-sampling-bias-in-research/\n",
    "\n",
    "H, Vo.T.P. & Czygan, M. (2015). Getting Started with Python Data Analysis. Packt Publishing.\n",
    "\n",
    "Hanel, P. H., & Vione, K. C. (2016). Do Student Samples Provide an Accurate Estimate of the General Public?. PloS one, 11(12), e0168354. doi:10.1371/journal.pone.0168354\n",
    "\n",
    "Houlding, B. (n.d.). Random Numbers. Lecture. Retrieved November 6, 2018, from https://www.scss.tcd.ie/Brett.Houlding/Domain.sites2/sslides3.pdf. \n",
    "\n",
    "Idris, I. (2015). NumPy beginners guide: Build efficient, high-speed programs using the high-performance NumPy mathematical library. Birmingham: Packt.\n",
    "\n",
    "Liebow-Feeser, J. (2018, August 29). Randomness 101: LavaRand in Production. Retrieved November 4, 2018, from https://blog.cloudflare.com/randomness-101-lavarand-in-production/\n",
    "\n",
    "Mc Kinney, W. (2018). Python for Data Analysis (2nd ed.). USA: O Reilly.\n",
    "\n",
    "Mehta, H. K. (2015). Mastering Python scientific computing: A complete guide for Python programmers to master scientific computing using Python APIs and tools. Birmingham: Packt Publishing.\n",
    "\n",
    "Metaspace contributors, (n.d.), Python – Numpy Arrays. (2018, March 25). Retrieved November 4, 2018, from https://metaspace.blog/programming/python/python-numpy-basics/\n",
    "\n",
    "\n",
    "NumPy community, (2018). NumPy Reference\n",
    "Release 1.15.1.\\[ebook\\] Retrieved from https://docs.scipy.org/doc/numpy/numpy-ref-1.15.1.pdf\n",
    "\n",
    "Oliphant, T. (2006). Guide to NumPy. 1st ed. \\[ebook\\] Available at: https://docs.scipy.org/doc/_static/numpybook.pdf \\[Accessed 20 Oct. 2018\\].\n",
    "\n",
    "Owen, S. (2015, December 04). Common Probability Distributions: The Data Scientist's Crib Sheet. Retrieved November 4, 2018, from https://blog.cloudera.com/blog/2015/12/common-probability-distributions-the-data-scientists-crib-sheet/\n",
    "\n",
    "Python community. (2018). Python 3.7.1 Random - Generate pseudo-random numbers. Retrieved November 4, 2018, from https://docs.python.org/3/library/random.html\n",
    "\n",
    "Schloerb, P. (n.d.). Random Numbers Random Walk Computational Physics Random Numbers Random Walk. Lecture. Retrieved November 5, 2018, from https://www.astro.umass.edu/~schloerb/ph281/Lectures/RandomNumbers/RandomNumbers.pdf \n",
    "\n",
    "Stackoverflow, alexdor(2018, March 9). Why do the numpy and random modules give different random numbers for the same seed? Retrieved November 4, 2018, from https://stackoverflow.com/questions/49195632/why-do-the-numpy-and-random-modules-give-different-random-numbers-for-the-same-s\n",
    "\n",
    "Stackoverflow, ali_m(2015, August 24). How can I retrieve the current seed of NumPy's random number generator? Retrieved November 4, 2018, from  https://stackoverflow.com/questions/32172054/how-can-i-retrieve-the-current-seed-of-numpys-random-number-generator\n",
    "\n",
    "Stackoverflow, askewchan 2013, September 16). Difference between various numpy random functions Retrieved November 4, 2018, from https://stackoverflow.com/questions/18829185/difference-between-various-numpy-random-functions\n",
    "\n",
    "Stackoverflow, DSM (2015, September 8). How to use random.RandomState Retrieved November 4, 2018, from https://stackoverflow.com/questions/32462273/how-to-use-random-randomstate\n",
    "\n",
    "Stackoverflow, ecatmur (2013 March 18). Shuffle vs permute numpy Retrieved November 4, 2018, from https://stackoverflow.com/questions/15474159/shuffle-vs-permute-numpy\n",
    "\n",
    "Stackoverflow, Hannele (2011, August 11). Differences between numpy.random and random.random in Python? Retrieved November 4, 2018, from https://stackoverflow.com/questions/7029993/differences-between-numpy-random-and-random-random-in-python\n",
    "\n",
    "Stackoverflow, Joe Kington (2012, Febuary 26). What does .dtype do? Retrieved November 4, 2018, from https://stackoverflow.com/questions/9457037/what-does-dtype-do\n",
    "\n",
    "Stackoverflow,  Mark Dickinson (2017, June 1). Converting to and from numpy's np.random.RandomState and Python's random.Random? Retrieved November 4, 2018, from  https://stackoverflow.com/questions/44313620/converting-to-and-from-numpys-np-random-randomstate-and-pythons-random-random\n",
    "\n",
    "Stackoverflow, NPE (2011, June 7). What does the 'b' character do in front of a string literal? Retrieved November 4, 2018, from https://stackoverflow.com/questions/6269765/what-does-the-b-character-do-in-front-of-a-string-literal\n",
    "\n",
    "Stackoverflow, Patrick Artner (2018, January 29). Python random.getstate() and random.setstate() Retrieved November 4, 2018, from https://stackoverflow.com/questions/48504854/python-random-getstate-and-random-setstate\n",
    "\n",
    "Stackoverflow,  Robert Kern (2014, January 3). Choose random seed and save it Retrieved November 4, 2018, from  https://stackoverflow.com/questions/20911147/choose-random-seed-and-save-it\n",
    "\n",
    "Stackoverflow, Sven Marnach (2011, April 29). Consistently create same random numpy array Retrieved November 4, 2018, from  https://stackoverflow.com/questions/5836335/consistently-create-same-random-numpy-array/\n",
    "\n",
    "Stat Trek Contributors. (n.d.). Stat Trek. Retrieved November 4, 2018, from https://stattrek.com/statistics/dictionary.aspx?definition=law_of_large_numbers\n",
    "\n",
    "U.S. Army Anthropometry. (2012). ANSUR II MALE Public (ANSUR 2)  [zipped csv]. Retrieved from http://mreed.umtri.umich.edu/mreed/downloads.html \n",
    "\n",
    "Weisstein, Eric W. (2018). \"Mersenne Prime\" From MathWorld--A Wolfram Web Resource.[online] Retrieved October 20, 2018, from http://mathworld.wolfram.com/MersennePrime.html [\n",
    "\n",
    "Wikipedia contributors. (2018a, August 15). Sampling bias. In Wikipedia, The Free Encyclopedia. Retrieved 12:53, November 4, 2018, from https://en.wikipedia.org/w/index.php?title=Sampling_bias&oldid=855021882\n",
    "\n",
    "Wikipedia contributors. (2018b, August 6). Deterministic algorithm. In Wikipedia, The Free Encyclopedia. Retrieved 12:56, November 4, 2018, from https://en.wikipedia.org/w/index.php?title=Deterministic_algorithm&oldid=853694464\n",
    "\n",
    "Wikipedia contributors. (2018c, October 20). Mersenne Twister. In Wikipedia, The Free Encyclopedia. Retrieved 13:04, November 4, 2018, from https://en.wikipedia.org/w/index.php?title=Mersenne_Twister&oldid=\n",
    "\n",
    "Wikipedia contributors. (2018d, October 13). Probability distribution. In Wikipedia, The Free Encyclopedia. Retrieved 17:24, November 4, 2018, from https://en.wikipedia.org/w/index.php?title=Probability_distribution&oldid=863786713\n",
    "\n",
    "Wikipedia contributors. (2018e, October 21). Gambler's fallacy. In Wikipedia, The Free Encyclopedia. Retrieved 17:35, November 4, 2018, from https://en.wikipedia.org/w/index.php?title=Gambler%27s_fallacy&oldid=865002258\n",
    "\n",
    "Wikipedia contributors. (2018f, October 10). Geometric distribution. In Wikipedia, The Free Encyclopedia. Retrieved 18:34, November 4, 2018, from https://en.wikipedia.org/w/index.php?title=Geometric_distribution&oldid=863324032\n",
    "\n",
    "Wikipedia contributors. (2018g, October 25). List of probability distributions. In Wikipedia, The Free Encyclopedia. Retrieved 20:50, November 4, 2018, from https://en.wikipedia.org/w/index.php?title=List_of_probability_distributions&oldid=865630495\n",
    "\n",
    "Wikipedia contributors. (2018h, November 2). Random number generation. In Wikipedia, The Free Encyclopedia. Retrieved 10:23, November 5, 2018, from https://en.wikipedia.org/w/index.php?title=Random_number_generation&oldid=866915695\n",
    "\n",
    "Wikipedia contributors. (2018i, November 4). Box–Muller transform. In Wikipedia, The Free Encyclopedia. Retrieved 17:45, November 5, 2018, from https://en.wikipedia.org/w/index.php?title=Box%E2%80%93Muller_transform&oldid=867236035\n",
    "\n",
    "Wong, D. (n.d.). How does the Mersenne's Twister work? Retrieved November 4, 2018, from https://www.cryptologie.net/article/331/how-does-the-mersennes-twister-work/\n",
    "\n",
    "Yearsley, J. (n.d.). Data Distributions. Retrieved November 4, 2018, from http://www.ucd.ie/ecomodel/Resources/Sheet4_data_distributions_WebVersion.html#central_limit_theorem\n",
    "\n"
   ]
  }
 ],
 "metadata": {
  "kernelspec": {
   "display_name": "Python 3",
   "language": "python",
   "name": "python3"
  },
  "language_info": {
   "codemirror_mode": {
    "name": "ipython",
    "version": 3
   },
   "file_extension": ".py",
   "mimetype": "text/x-python",
   "name": "python",
   "nbconvert_exporter": "python",
   "pygments_lexer": "ipython3",
   "version": "3.6.6"
  }
 },
 "nbformat": 4,
 "nbformat_minor": 2
}
