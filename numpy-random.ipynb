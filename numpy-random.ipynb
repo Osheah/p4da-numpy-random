{
 "cells": [
  {
   "cell_type": "markdown",
   "metadata": {},
   "source": [
    "\n",
    "\n",
    "# Assignment - Explain the numpy.random package\n",
    "\n",
    "![numpylogo](img/numpy.jpeg)\n",
    "\n",
    "\n",
    "\n",
    "## Why are random numbers needed? \n",
    "\n",
    "The ability to generate random numbers has many useful applications. Say a researcher is interested in the effectiveness of a new ulcer drug. The population of interest is every person with ulcers. It would impractically costly and time-consuming contact everyone with ulcers, give them the drug and then compare before and after reports. Indeed, the population of people with ulcers as a total population would be impossible to judge as many people may have ulcers without ever seeking treatment.\n",
    "\n",
    "## Why take samples?\n",
    "The researcher needs to take a sample from this population. This sample should be big enough and diverse enough so that it fairly represents the wider population. The sample data is used to make **generalisations** about its population. For example, the drug’s effectiveness in a sample containing only men with ulcers aged seventy or over is unlikely to represent its effectiveness on women half that age. Sampling involves taking a sufficiently sized subset of a given population that accurately reflects the phenomena under investigation so that information from the sample can be used to infer things from the overall population. It is vital then that *the sample shares the same characteristics as its target population*. \n",
    "\n",
    "## Problems with picking samples \n",
    "Picking samples that represent a population is prone to **biases**. For example, if asked to pick a number at random between 1 and 10 there will be far more 3's and 7's than would be expected if the choice was truly random [ref](https://micro.magnet.fsu.edu/creatures/pages/random.html).\n",
    "\n",
    "One way to reduce sampling bias is to use **random sampling**. Random sampling means that every item in the target population has an *equal* chance of being selected. In the example above, the target population would be the numbers between 1 and 10 inclusive and random sampling means that each number in this interval would have an equal probability of being selected. \n",
    "\n",
    "If random sampling is not used then certain elements of the population are favoured over others which skews the results and limits its generalising ability. In reality, it is often difficult to define the target population and its sample precisely so that only the phenomena in question is investigated.  \n",
    "\n",
    "![Literary Digest](img/digest.jpg)\n",
    "\n",
    "For example in 1936 there was a phone poll conducted by The Literary Digest which predicted that the Republican Alfred Landon would win the election 57% to 43% from the Democrat F.D.Roosevelt. However, the actual results from the election was 62% in favour of FDR. The problem was sample bias. Only people with phones were polled and they were more likely to vote Republican in depression era America. People with phones were also more likely to come from a more affluent background and were not as likely to be moved by FDR’s new deal rhetoric. [Ref]( https://www.math.upenn.edu/~deturck/m170/wk4/lecture/case1.html). Random sampling does not remove sample bias but it does limit one aspect of it, biases introduced by favouring subsets of the target population rather than then every element being as likely to be selected as every other one.   \n",
    "\n",
    "## Algorithms and random numbers\n",
    "\n",
    "Computing algorithms are deterministic. They cannot generate true randomness without using some external piece of information. \n",
    "\n",
    "![lave lamps](img/lava.jpg)\n",
    "\n",
    "\n",
    "For example the DNS service Cloudflare uses its lava lamps in its head office to help generate the randomness needed for its cryptography [ref]( https://blog.cloudflare.com/randomness-101-lavarand-in-production/). Many areas of science and computing do not need true randomness. In fact, some areas require predictable ‘randomness’ so that model parameters can be tested with the same random ‘noise’. Computer algorithms use **pseudo random numbers** (Idris, 2015). To all appearances these look random but if a key piece of information is known, the whole random sequence can be predicted. There are several **pseudo random number generator** (PRNG) algorithms. \n",
    "\n",
    "One of the most widely used PRNG is the *Mersenne Twister*. A Mersenne number is one less than a power of 2. The twister aspect refers to its period length being a Mersenne prime which is ‘twisted’ by various transformations when random numbers are generated. A commonly used Mersenne twister uses 19937 as its power.  This algorithm takes a ‘seed’ value as a starting point. This is initialised into a state and transformed via reversible and non-reversible transformations in order to generate the pseudo random numbers PRN. [Ref](https://www.cryptologie.net/article/331/how-does-the-mersennes-twister-work/). The Mersenne Twister is not secure enough for cryptology however it a useful and widely used all purpose PRNG [Ref]( https://en.wikipedia.org/wiki/Mersenne_Twister).  \n",
    "\n",
    "## Random numbers in Python\n",
    "\n",
    "![python logo](img/python.png)\n",
    "\n",
    "Python has an in built random package *random*. NumPy extends this by adding extra functionality and methods in its *numpy.random* package. Both Python and Numpy.random use the Mersenne twister 19937 algorithm to generate PRNs.\n",
    "\n",
    "## Why use NumPy for generating random numbers\n",
    "\n",
    "Python's random method generates a random float number uniformly from the interval 0 inclusive to 1 exclusive [Ref]( https://docs.python.org/3/library/random.html). .random has many of the functions and methods contained in numpy.random so *why use numpy.random*?\n",
    "\n",
    "The main reason numpy.random is used over Python’s random.random package is that NumPy is designed to work with n dimensional arrays. Numpy uses less memory and is faster than lists used in the default python.   NumPy is specialised for scientific operations and has more advanced mathematical functionality than Python. It is especially useful for manipulating numerical data that can be arranged in matrices [ref](https://metaspace.blog/programming/python/python-numpy-basics/). \n",
    "\n",
    "PRN’s can be arranged in arrays, a speciality in NumPy. Numpy.random and Python’s default random.random have similar functions and methods but numpy.random has some extra probability distributions common to scientific research and some extra simple random data convenience functions.  Neither are suitable for cryptography purposes. [ref](https://stackoverflow.com/questions/7029993/differences-between-numpy-random-and-random-random-in-python). \n",
    "\n",
    "The functions and methods offered in numpy.random are\n",
    "\n",
    "* simple random data\n",
    "* permutations\n",
    "* distributions\n",
    "* random generator\n",
    "\n",
    "*Simple random data* section consist of several functions that generate simple random data.Inputs can be size or range. *Permutation* functions randomly shuffle or permutes a given sequence. *Distribution* functions allow specific population distributions or ranges to be sampled. This may require statistical measures such as mean and standard deviation. numpy.random can generate samples from continuous and discrete distributions (Idris, 2015). Lastly, the *random generator* section contains functions that allow seeds to be specified (Mehta, 2015). This is useful in cases where the exact same sequence of random data is required. Each of these sections will be explored. \n",
    "\n",
    " "
   ]
  },
  {
   "cell_type": "markdown",
   "metadata": {},
   "source": [
    "## What does Simple random data do?\n"
   ]
  },
  {
   "cell_type": "markdown",
   "metadata": {},
   "source": [
    "There are 10 simple random data functions in numpy.random namely\n",
    "\n",
    "1. rand\n",
    "2. randn\n",
    "3. randint\n",
    "4. random_integers\n",
    "5. random_sample\n",
    "6. random\n",
    "7. randf\n",
    "8. sample\n",
    "9. choice\n",
    "10. bytes\n",
    "\n",
    "[ref](https://docs.scipy.org/doc/numpy-1.15.1/reference/routines.random.html). Of these random, ranf and sample [](https://stackoverflow.com/questions/18829185/difference-between-various-numpy-random-functions)are aliases of random_sample, with similar inputs and outputs. In addition rand and randn are convenience functions, meaning that their functionality can be achieved by Python's in built functions. Each of these functions are used to generate simple random data of various sizes or shapes over various intervals or ranges. Which function is used depends on the requirements. \n"
   ]
  },
  {
   "cell_type": "markdown",
   "metadata": {},
   "source": [
    "### Import libraries"
   ]
  },
  {
   "cell_type": "code",
   "execution_count": 1,
   "metadata": {
    "scrolled": true
   },
   "outputs": [],
   "source": [
    "#Import packages numpy and matplotlib.pyplot\n",
    "import numpy as np\n",
    "import random\n",
    "import matplotlib.pyplot as plt\n",
    "import pandas as pd\n",
    "# display pyplot in jupyter notebook\n",
    "%matplotlib inline"
   ]
  },
  {
   "cell_type": "markdown",
   "metadata": {},
   "source": [
    "### Python's default random function\n",
    "\n",
    "Python has the built in random function for generating simple random data."
   ]
  },
  {
   "cell_type": "code",
   "execution_count": 2,
   "metadata": {
    "scrolled": true
   },
   "outputs": [
    {
     "name": "stdout",
     "output_type": "stream",
     "text": [
      "Simple random data from python's inbuilt random function \n",
      "\n",
      "0.7344126801321991 \n",
      "\n",
      "Simple random data from python's inbuilt random function uniformly distriubted between 0 and 1 \n",
      "\n",
      "0.3335144219612811\n"
     ]
    }
   ],
   "source": [
    "r1 = random.random()\n",
    "print(\"Simple random data from python's inbuilt random function\", '\\n')\n",
    "print(r1, '\\n')\n",
    "print(\"Simple random data from python's inbuilt random function uniformly distriubted between 0 and 1\", '\\n')\n",
    "r2 = random.uniform(0,1)\n",
    "print(r2)"
   ]
  },
  {
   "cell_type": "markdown",
   "metadata": {},
   "source": [
    "numpy.random extends this, adding extra functions and methods.[ref](https://docs.scipy.org/doc/numpy-1.15.1/reference/routines.random.html) \n",
    "\n",
    "\n",
    "|Simple Random Data | Input                       | Output                                                           |\n",
    "| ----------------- |--------------------------   | ---------------------------------------------------------------  |\n",
    "| rand              | d0, d1, …, dn               | Random values in a given shape                                   |               \n",
    "| randn             | d0, d1, …, dn               | sample (or samples) from the “standard normal” distribution      |              \n",
    "| randint           | low`[`, high, size, dtype`]`| Return random integers from low (inclusive) to high (exclusive)  |            \n",
    "| random_integers   | low`[`, high, size`]`) \t  | Random integers of type np.int between low and high, inclusive.  |\n",
    "| random_sample     | `[`size`]`                  | Random floats in the half-open interval `[`0.0, 1.0)             |               \n",
    "| random            | `[`size`]`                  | Random floats in the half-open interval `[`0.0, 1.0)             |               \n",
    "| ranf              | `[`size`]`                  | Random floats in the half-open interval `[`0.0, 1.0)             |               \n",
    "| sample            | `[`size`]`                  | Random floats in the half-open interval `[`0.0, 1.0)             |               \n",
    "| choice            | `a[`, size, replace, p`]`   | Generates a random sample from a given 1-D array                 |                     \n",
    "| bytes             | length                      | Random bytes                                                     |      \n",
    "\n",
    "### rand\n",
    "\n",
    "rand(d0, d1, ..., dn) outputs random values in a given shape. Shape refers to the arrangement of the arrays. e.g. a input of  (1)is a single 1 by 1 matrix array, an input of (2,3) is  a 2 by 3 matrix array (number of rows x columns) while an input of (2,3,4) is 2 arrays consisting each consisting of 3 by 4 matrix arrays. \n",
    "rand is a convenience or helper function. It creates random values in a given shape [ref](https://docs.scipy.org/doc/numpy-1.15.1/reference/generated/numpy.random.rand.html#numpy.random.rand). Inputs are non negative integers, although 0 returns an empty array.  If no input is given a single number is outputted. Output arrays come from the uniform distribution (i.e. each number has the same probability of being selected) between 0 inclusive and 1 exclusive `[0, 1)` \n",
    "\n",
    "#### When would you use rand?\n",
    "\n",
    "Use rand if you want to generate random values from a uniform semi closed interval `[`0,1) to populate matrices (rows by columns) of a given size; note single floats can be generated with empty parameters and single element arrays can be generated with argument 1. It is similar to Python's random.random but extends the input to accept different array sizes [ref](https://docs.python.org/3/library/random.html).\n"
   ]
  },
  {
   "cell_type": "code",
   "execution_count": 3,
   "metadata": {
    "scrolled": true
   },
   "outputs": [
    {
     "name": "stdout",
     "output_type": "stream",
     "text": [
      "Generate a 2x4 matrix and fill it with random numbers \n",
      "\n",
      "[[ 0.54830533  0.79981947  0.21026145  0.99638592]\n",
      " [ 0.93669993  0.70608218  0.71286598  0.73155025]] \n",
      "\n",
      "Generate a single float \n",
      "\n",
      "0.5441716081216085 \n",
      "\n",
      "Generate a 1-d matrix \n",
      "\n",
      "[ 0.8941292] \n",
      "\n"
     ]
    }
   ],
   "source": [
    "print(\"Generate a 2x4 matrix and fill it with random numbers\", \"\\n\")\n",
    "print(np.random.rand(2,4), \"\\n\")\n",
    "print(\"Generate a single float\", \"\\n\")\n",
    "print(np.random.rand(),\"\\n\")\n",
    "print(\"Generate a 1-d matrix\", \"\\n\")\n",
    "print(np.random.rand(1),\"\\n\")\n"
   ]
  },
  {
   "cell_type": "markdown",
   "metadata": {},
   "source": [
    "### randn\n",
    "\n",
    "randn((d0, d1, ..., dn) outputs a sample(s) from the *standard normal* distribution N(0,1).\n",
    "randn is similar to rand but takes its random numbers from the standard normal distribution with mean 0 and standard deviation 1 N(0,1)[ref](https://docs.scipy.org/doc/numpy-1.15.1/reference/generated/numpy.random.randn.html#numpy.random.randn). It is similar to the standard_normal distribution in NumPy.random however standard_normal can have tuples as arguments. randn's arguments must be positive integers or integer like (such as int(1.02)). Like rand, it is a convenience function with inputs for sizes. If no input given a single random number (float) from the standard normal distribution is outputted. Outputs take the form of n dimensional arrays in the shape specified by the inputs. If a non standard normal distribution N(m,sd<sup>2</sup>) is required, the transformation m + sd * np.random.rand() can be applied where m is the mean and sd is the standard deviation. \n",
    "\n",
    "#### When would you use randn?\n",
    "Use randn If you want to generate random values in a specified shape with values taken from the standard normal distribution centered in a bell curve round 0 with most values falling between -3 and 3. Unlike rand - negative values can be returned. "
   ]
  },
  {
   "cell_type": "code",
   "execution_count": 4,
   "metadata": {
    "scrolled": true
   },
   "outputs": [
    {
     "name": "stdout",
     "output_type": "stream",
     "text": [
      "No input given  - single random float returned \n",
      "\n",
      "-0.3423934674606188 \n",
      "\n",
      "1 input given  - single random array from N(0,1) \n",
      "\n",
      "[ 0.38378057] \n",
      "\n",
      "5 outputs a 1x1 array of 5 random floats from N(0,1) \n",
      "\n",
      "[-0.77614476  1.62260286 -0.01847829 -0.81872102 -1.11413586] \n",
      "\n",
      "outputs 2 arrays of 3x4 matrices filled with random numbers from N(0,1) \n",
      "\n",
      "[[[-0.74910344 -0.08734461 -1.70221627 -0.5006542 ]\n",
      "  [-0.51329631 -1.09302041 -0.28311432  1.65549591]\n",
      "  [ 0.53933966 -0.35705495 -0.19587982 -0.82610224]]\n",
      "\n",
      " [[-0.05892513  0.68839428  0.87036239  0.85220616]\n",
      "  [ 0.63383331  0.85961865  1.50870062  0.29997299]\n",
      "  [ 0.71231888  0.36467443 -1.55874336  1.21247981]]] \n",
      "\n"
     ]
    }
   ],
   "source": [
    "print(\"No input given  - single random float returned\", \"\\n\")\n",
    "print(np.random.randn(), \"\\n\")\n",
    "\n",
    "print(\"1 input given  - single random array from N(0,1)\",\"\\n\")\n",
    "print(np.random.randn(1),'\\n')\n",
    "\n",
    "print(\"5 outputs a 1x1 array of 5 random floats from N(0,1)\",\"\\n\")\n",
    "print(np.random.randn(5),'\\n')\n",
    "\n",
    "print(\"outputs 2 arrays of 3x4 matrices filled with random numbers from N(0,1)\",\"\\n\")\n",
    "print(np.random.randn(2,3,4),'\\n')\n"
   ]
  },
  {
   "cell_type": "markdown",
   "metadata": {},
   "source": [
    "To see the shape of the distribution plot a histogram. This is the standard normal distribution around 0 with standard deviation 1.  "
   ]
  },
  {
   "cell_type": "code",
   "execution_count": 5,
   "metadata": {
    "scrolled": true
   },
   "outputs": [
    {
     "data": {
      "text/plain": [
       "(array([  993.,   980.,   991.,  1055.,  1039.,  1035.,   970.,   980.,\n",
       "          974.,   983.]),\n",
       " array([  4.15466295e-05,   1.00035905e-01,   2.00030264e-01,\n",
       "          3.00024623e-01,   4.00018981e-01,   5.00013340e-01,\n",
       "          6.00007699e-01,   7.00002058e-01,   7.99996416e-01,\n",
       "          8.99990775e-01,   9.99985134e-01]),\n",
       " <a list of 10 Patch objects>)"
      ]
     },
     "execution_count": 5,
     "metadata": {},
     "output_type": "execute_result"
    },
    {
     "data": {
      "image/png": "[encoded data removed]",
      "text/plain": [
       "<matplotlib.figure.Figure at 0x1eda7653160>"
      ]
     },
     "metadata": {
      "needs_background": "light"
     },
     "output_type": "display_data"
    }
   ],
   "source": [
    "plt.subplot(1,2,1)\n",
    "x = np.random.randn(10000)\n",
    "plt.title(\"Standard Normal - randn\")\n",
    "plt.hist(x)\n",
    "plt.subplot(1,2,2)\n",
    "x = np.random.rand(10000)\n",
    "plt.title(\"Uniform - rand\")\n",
    "plt.hist(x)"
   ]
  },
  {
   "cell_type": "markdown",
   "metadata": {},
   "source": [
    "To shift the distribution from standard normal  to n N(m,sd<sup>2</sup>) use the transformation m + sd * np.random.rand()"
   ]
  },
  {
   "cell_type": "code",
   "execution_count": 6,
   "metadata": {
    "scrolled": true
   },
   "outputs": [
    {
     "name": "stdout",
     "output_type": "stream",
     "text": [
      "outputs random numbers from N(2, 9) \n",
      "\n",
      "this shifts the plot left to centre it round 2 with a spread of 9\n"
     ]
    },
    {
     "data": {
      "image/png": "[encoded data removed]",
      "text/plain": [
       "<matplotlib.figure.Figure at 0x1eda74fb6a0>"
      ]
     },
     "metadata": {
      "needs_background": "light"
     },
     "output_type": "display_data"
    }
   ],
   "source": [
    "print(\"outputs random numbers from N(2, 9)\",\"\\n\")\n",
    "plt.hist(2+3*np.random.randn(1000))\n",
    "print(\"this shifts the plot left to centre it round 2 with a spread of 9\")"
   ]
  },
  {
   "cell_type": "markdown",
   "metadata": {},
   "source": [
    "### randint\n",
    "\n",
    "randint((low`[`, high, size, dtype`]`))outputs random integers from low (inclusive) to high (exclusive). \n",
    "randint is differs from the two above functions in that it returns integers within a specified interval low (inclusive) to high (exclusive). Integers are returned from the discrete uniform distribution [ref](forgot to add link). Whereas rand returned numbers from the continuous uniform distribution between `[0,1)`. randint expands this interval by returning values from `[`low,high). If no arguments are given an error is returned. If one argument is given, say h then this is assumed to be the higher bound and positive and the lower bound is 0 `[0, h)`.  Size can also be specified e.g. if 10 random numbers are required between `[0, 5)` the arguments would be (0,5,10). Data type can also be specified, the default is np.int. dTypes relate to the way memory blocks are interpreted [ref](https://stackoverflow.com/questions/9457037/what-does-dtype-do).   \n",
    "\n",
    "#### When would you use randint?\n",
    "randint would be used when integers rather than floats are required and the integers lie within a certain range. e.g. generate a random number between 1 and 10 inclusive"
   ]
  },
  {
   "cell_type": "code",
   "execution_count": 7,
   "metadata": {
    "scrolled": true
   },
   "outputs": [
    {
     "name": "stdout",
     "output_type": "stream",
     "text": [
      "Generate a random number between 1 and 10 inclusive \n",
      "\n",
      "2 \n",
      "\n",
      "Generate 3 random number between 1 and 10 inclusive \n",
      "\n",
      "[ 4  3 10] \n",
      "\n",
      "Generate a random positive number less than 4 \n",
      "\n",
      "3 \n",
      "\n",
      "Generate a random integer between -5 and 5 inclusive  \n",
      "\n",
      "-4 \n",
      "\n"
     ]
    }
   ],
   "source": [
    "print(\"Generate a random number between 1 and 10 inclusive\",\"\\n\")\n",
    "print(np.random.randint(1, 11),\"\\n\")\n",
    "\n",
    "print(\"Generate 3 random number between 1 and 10 inclusive\",\"\\n\")\n",
    "print(np.random.randint(1, 11, 3),\"\\n\")\n",
    "\n",
    "print(\"Generate a random positive number less than 4\",\"\\n\")\n",
    "print(np.random.randint(4),\"\\n\")\n",
    "\n",
    "print(\"Generate a random integer between -5 and 5 inclusive \",\"\\n\")\n",
    "print(np.random.randint(-5, 6),\"\\n\")"
   ]
  },
  {
   "cell_type": "markdown",
   "metadata": {},
   "source": [
    "### random_integers\n",
    "\n",
    "random_integers(low`[`, high, size`]`) outputs random integers of type np.int between low and high, inclusive. Size refers to the number of random values required from the specified interval. This function is no longer maintained. \n",
    "\n",
    "Random_integers is very similar to randint, both return integers from a discrete uniform distribution. However random_integers is inclusive of the higher range value `[low, high]`. This function is deprecated i.e replaced, in favour of randint. Thus when called by python a warning will display, although the function will still work. Both randint and random_integers can use the transformation  a + (b - a) * (np.random.random_integers(N) - 1) / (N - 1) to give N evenly spaced integers between a and b but random_integers includes the b value whereas randint does not.\n",
    "\n",
    "#### When would you use random_integers?\n",
    "You wouldn't. The function is retired in favour of randint which was discussed above. It will still work but python will give a warning when its used.  "
   ]
  },
  {
   "cell_type": "code",
   "execution_count": 8,
   "metadata": {
    "scrolled": true
   },
   "outputs": [
    {
     "name": "stdout",
     "output_type": "stream",
     "text": [
      "Output 10 1's or 0's randomly \n",
      "\n",
      "[0 0 1 1 1 0 1 0 1 1] \n",
      "\n"
     ]
    },
    {
     "name": "stderr",
     "output_type": "stream",
     "text": [
      "C:\\ProgramData\\Anaconda3\\lib\\site-packages\\ipykernel_launcher.py:2: DeprecationWarning: This function is deprecated. Please call randint(0, 1 + 1) instead\n",
      "  \n"
     ]
    }
   ],
   "source": [
    "print(\"Output 10 1's or 0's randomly\", \"\\n\")\n",
    "print(np.random.random_integers(0,1, 10), '\\n')\n"
   ]
  },
  {
   "cell_type": "markdown",
   "metadata": {},
   "source": [
    "To specify intervals equally spaced..... ## add stuff here\n",
    "\n",
    "a,b,N=3,5,10\n",
    "print(a + (b - a) * (np.random.random_integers(N) - 1) / (N - 1), '\\n')\n",
    "print(a + (b - a) * (np.random.randint(N) - 1) / (N - 1))"
   ]
  },
  {
   "cell_type": "markdown",
   "metadata": {},
   "source": [
    "### random_sample (random, ranf and sample)\n",
    "\n",
    "random_sample(`[`size`]`) outputs random floats in the half-open interval `[`0.0, 1.0) [ref](https://docs.scipy.org/doc/numpy-1.15.1/reference/generated/numpy.random.random_sample.html#numpy.random.random_sample).\n",
    "Random_sample and its aliases [ref](https://stackoverflow.com/questions/18829185/difference-between-various-numpy-random-functions) random [ref](https://docs.scipy.org/doc/numpy-1.15.1/reference/generated/numpy.random.random.html#numpy.random.random), ranf [ref](https://docs.scipy.org/doc/numpy-1.15.1/reference/generated/numpy.random.ranf.html#numpy.random.ranf) and sample [ref](https://docs.scipy.org/doc/numpy-1.15.1/reference/generated/numpy.random.sample.html#numpy.random.sample) . unlike randint which returned random values from the discrete uniform distribution `[`low, high) and rand which populates arrays with random values in a given shape, random_sample returns random floats from the continuous uniform distribution `[`0,1). It's input is size i.e. the number of random values required. To expand values outside of U`[`0,1) to cover U`[`a, b) the transformation a +  (b - a)`*` random_sample() can be used. the size can be an integer or tuples of integers (a,b,c) \n",
    "\n",
    "#### When would you use random_sample or its aliases?\n",
    "\n",
    "random_sample is used when random floats are required from the continuous uniform distribution in the interval 0 inclusive to 1 exclusive. Each number is as likely to be generated as every other. A single number can be returned E.g. pick any number in the interval `[`0,1) or an array of a specified size e.g. pick 20 numbers in the interval `[`0, 1) "
   ]
  },
  {
   "cell_type": "code",
   "execution_count": 9,
   "metadata": {
    "scrolled": false
   },
   "outputs": [
    {
     "name": "stdout",
     "output_type": "stream",
     "text": [
      "generate a random float in [0,1) \n",
      "\n",
      "0.015537366185093715 \n",
      "\n",
      "generate a random float in [0,1) \n",
      "\n",
      "[ 0.36318191  0.81713317  0.39285488  0.63511112  0.27330719  0.03943876\n",
      "  0.15168798  0.37031262  0.48940696  0.80911885  0.95920785  0.41730988\n",
      "  0.02950407  0.21108951  0.94499018  0.0945882   0.68892727  0.12888583\n",
      "  0.06284093  0.1984283 ] \n",
      "\n"
     ]
    }
   ],
   "source": [
    "print(\"generate a random float in [0,1)\", \"\\n\")\n",
    "print(np.random.random_sample(), \"\\n\")\n",
    "\n",
    "print(\"generate a random float in [0,1)\", \"\\n\")\n",
    "print(np.random.random_sample(20), \"\\n\")\n",
    "\n"
   ]
  },
  {
   "cell_type": "code",
   "execution_count": 10,
   "metadata": {
    "scrolled": true
   },
   "outputs": [
    {
     "name": "stdout",
     "output_type": "stream",
     "text": [
      "The histogram of random_sample shows its uniform distrubution \n",
      "\n"
     ]
    },
    {
     "data": {
      "image/png": "[encoded data removed]",
      "text/plain": [
       "<matplotlib.figure.Figure at 0x1eda75bad30>"
      ]
     },
     "metadata": {
      "needs_background": "light"
     },
     "output_type": "display_data"
    },
    {
     "name": "stdout",
     "output_type": "stream",
     "text": [
      "The aliases show a similar pattern \n",
      "\n"
     ]
    },
    {
     "data": {
      "image/png": "[encoded data removed]",
      "text/plain": [
       "<matplotlib.figure.Figure at 0x1eda76c34e0>"
      ]
     },
     "metadata": {
      "needs_background": "light"
     },
     "output_type": "display_data"
    },
    {
     "data": {
      "image/png": "[encoded data removed]",
      "text/plain": [
       "<matplotlib.figure.Figure at 0x1eda75baf28>"
      ]
     },
     "metadata": {
      "needs_background": "light"
     },
     "output_type": "display_data"
    },
    {
     "data": {
      "image/png": "[encoded data removed]",
      "text/plain": [
       "<matplotlib.figure.Figure at 0x1eda798ec50>"
      ]
     },
     "metadata": {
      "needs_background": "light"
     },
     "output_type": "display_data"
    }
   ],
   "source": [
    "print(\"The histogram of random_sample shows its uniform distrubution\", \"\\n\")\n",
    "plt.hist(np.random.random_sample(10000))\n",
    "plt.title(\"random_sample\")\n",
    "plt.show()\n",
    "print(\"The aliases show a similar pattern\", \"\\n\")\n",
    "plt.hist(np.random.random(10000))\n",
    "plt.title(\"random\")\n",
    "plt.show()\n",
    "plt.hist(np.random.ranf(10000))\n",
    "plt.title(\"ranf\")\n",
    "plt.show()\n",
    "plt.hist(np.random.sample(10000))\n",
    "plt.title(\"sample\")\n",
    "plt.show()\n",
    "\n"
   ]
  },
  {
   "cell_type": "markdown",
   "metadata": {},
   "source": [
    "To change the interval U`[`0, 1) from which the numbers are selected to U`[`a,b) from use the transformation a + (b - a)* random_sample()\n",
    "\n"
   ]
  },
  {
   "cell_type": "code",
   "execution_count": 11,
   "metadata": {
    "scrolled": true
   },
   "outputs": [
    {
     "name": "stdout",
     "output_type": "stream",
     "text": [
      "This outputs an 1x10 array filled with random floats between [3, 5) \n",
      "\n",
      "[ 4.21275529  3.13085769  4.15236885  4.99169482  4.3296168   3.76483862\n",
      "  4.30734757  3.14272664  3.26951373  4.78289037] \n",
      "\n"
     ]
    },
    {
     "data": {
      "image/png": "[encoded data removed]",
      "text/plain": [
       "<matplotlib.figure.Figure at 0x1eda77919b0>"
      ]
     },
     "metadata": {
      "needs_background": "light"
     },
     "output_type": "display_data"
    }
   ],
   "source": [
    "print(\"This outputs an 1x10 array filled with random floats between [3, 5)\", \"\\n\")\n",
    "a,b,N=3,5,10\n",
    "x = a + (b - a) * np.random.random_sample(10) \n",
    "print(x, \"\\n\")\n",
    "plt.hist(x)\n",
    "plt.title(\"random floats in U[3,5)\")\n",
    "plt.show()\n",
    "\n"
   ]
  },
  {
   "cell_type": "markdown",
   "metadata": {},
   "source": [
    "### choice\n",
    "\n",
    "choice(a`[`, size, replace, p`]`) outputs a random sample from a given 1-D array [ref](https://docs.scipy.org/doc/numpy-1.15.1/reference/routines.random.html). its input is a 1 dimensional array or integer. The number of random values required can be specified by size. The difference between this function and the ones above is that here the population is specified in an array and the function returns one of these choices randomly. e.g. an input of all the harry potter book titles would randomly return one book from this population. The probability p of elements in the 1 d array can be specified (probabilities total to 1). If p is not provided then p is assumed to be uniformly distributed across the array. Size refers to the number of random elements from the population that are returned. There is also the option to replace which defaults to true. This refers to whether or not the random choice element is returned to the sample population and is used when unique values from the population are needed [ref](https://stackoverflow.com/questions/40689152/what-does-replacement-mean-in-numpy-random-choice). \n",
    "\n",
    "\n",
    "#### When would you use choice?\n",
    "choice is used when you want to generate a random choice from a fixed sample, you can specify if you want the choice to be returned to the selection pool or not. For example pick one Harry Potter book from a pool of all Harry potter books.\n"
   ]
  },
  {
   "cell_type": "code",
   "execution_count": 12,
   "metadata": {
    "scrolled": true
   },
   "outputs": [
    {
     "name": "stdout",
     "output_type": "stream",
     "text": [
      "List all Harry Potter books \n",
      "\n",
      "Harry Potter and the Philosopher’s Stone\n",
      "Harry Potter and the Chamber of Secrets\n",
      "Harry Potter and the Prisoner of Azkaban\n",
      "Harry Potter and the Goblet of Fire\n",
      "Harry Potter and the Order of the Phoenix\n",
      "Harry Potter and the Half-Blood Prince\n",
      "Harry Potter and the Deathly Hallows\n",
      "\n",
      "\n",
      "pick one at random \n",
      "\n",
      "['Harry Potter and the Prisoner of Azkaban'] \n",
      "\n",
      "pick 5 books at random and remove it from the pool when picked  - only unique books will be returned for each choice \n",
      "\n",
      "['Harry Potter and the Philosopher’s Stone'\n",
      " 'Harry Potter and the Chamber of Secrets'\n",
      " 'Harry Potter and the Deathly Hallows'\n",
      " 'Harry Potter and the Half-Blood Prince'\n",
      " 'Harry Potter and the Prisoner of Azkaban'] \n",
      "\n",
      "pick 5 books at random and keep it in the pool when picked  - choices may be repeated \n",
      "\n",
      "['Harry Potter and the Goblet of Fire'\n",
      " 'Harry Potter and the Chamber of Secrets'\n",
      " 'Harry Potter and the Chamber of Secrets'\n",
      " 'Harry Potter and the Deathly Hallows'\n",
      " 'Harry Potter and the Deathly Hallows'] \n",
      "\n",
      "Choices can be weighted to make them more or less likely \n",
      "\n",
      "Here, Chamber of secrets more likely to be selected \n",
      "\n",
      "['Harry Potter and the Prisoner of Azkaban'\n",
      " 'Harry Potter and the Half-Blood Prince'\n",
      " 'Harry Potter and the Chamber of Secrets'\n",
      " 'Harry Potter and the Philosopher’s Stone'\n",
      " 'Harry Potter and the Chamber of Secrets'] \n",
      "\n"
     ]
    }
   ],
   "source": [
    "print(\"List all Harry Potter books\", \"\\n\")\n",
    "hp = ['Harry Potter and the Philosopher’s Stone', 'Harry Potter and the Chamber of Secrets', 'Harry Potter and the Prisoner of Azkaban', 'Harry Potter and the Goblet of Fire', 'Harry Potter and the Order of the Phoenix', 'Harry Potter and the Half-Blood Prince', 'Harry Potter and the Deathly Hallows']\n",
    "for book in hp:\n",
    "    print(book)\n",
    "print(\"\\n\")\n",
    "print(\"pick one at random\", \"\\n\")\n",
    "print(np.random.choice(hp, 1), '\\n')#  books can be repeatedly returned\n",
    "\n",
    "print(\"pick 5 books at random and remove it from the pool when picked  - only unique books will be returned for each choice\", \"\\n\")\n",
    "print(np.random.choice(hp, 5, replace=False), '\\n')\n",
    "# only unique books are returned\n",
    "print(\"pick 5 books at random and keep it in the pool when picked  - choices may be repeated\", \"\\n\")\n",
    "print(np.random.choice(hp, 5, replace=True), '\\n')\n",
    "print(\"Choices can be weighted to make them more or less likely\", \"\\n\")\n",
    "print(\"Here, Chamber of secrets more likely to be selected\", \"\\n\")\n",
    "print(np.random.choice(hp, 5, p=[0.2,0.5,0.1,0.1,0.015,0.03,0.055], replace=True), '\\n')\n"
   ]
  },
  {
   "cell_type": "markdown",
   "metadata": {},
   "source": [
    "### bytes\n",
    "\n",
    "bytes(length)outputs random bytes of the specified length size [Ref](https://docs.scipy.org/doc/numpy-1.15.1/reference/routines.random.html). \n",
    "\n",
    "bytes takes non negative integer inputs and outputs randomly byte strings. outputs are prefixed with b and the bytes are enclosed within apostrophes or quotation marks, hence outputs are strings of specified length [Ref](https://docs.scipy.org/doc/numpy-1.15.1/reference/generated/numpy.random.bytes.html#numpy.random.bytes). The b at the start indicates that it is a byte literal [ref](https://stackoverflow.com/questions/6269765/what-does-the-b-character-do-in-front-of-a-string-literal)\n",
    "\n",
    "#### When would you use bytes\n",
    "\n",
    "bytes would be used when you want to generate random byte strings"
   ]
  },
  {
   "cell_type": "code",
   "execution_count": 13,
   "metadata": {
    "scrolled": true
   },
   "outputs": [
    {
     "name": "stdout",
     "output_type": "stream",
     "text": [
      "b'' \n",
      "\n",
      "b'\\xea' \n",
      "\n",
      "b'\\xe5}-\\xa7CQ#\\xd5E\\x9d' \n",
      "\n"
     ]
    }
   ],
   "source": [
    "print(np.random.bytes(0),'\\n')\n",
    "print(np.random.bytes(1),'\\n')\n",
    "print(np.random.bytes(10),'\\n')"
   ]
  },
  {
   "cell_type": "markdown",
   "metadata": {},
   "source": [
    "Hence *Simple Random Data* contains functions for generating random elements consisting of integers, arrays, sizes and shapes from continuous or discrete uniform populations or normally distributed populations that may or may not be probabilistically weighted towards some values depending on what is required. It also contains functions to randomly pick elements from a given population array such as a list or set of bytes. The next section of numpy.random to be discussed is its permutation functions. "
   ]
  },
  {
   "cell_type": "markdown",
   "metadata": {},
   "source": [
    "## What does permutations do?\n",
    "\n",
    "![permutation](img/perm.png)\n",
    "\n",
    "\n",
    "A permutation is a way of cycling through all options in a given set. For example choosing unique pairs of 3 numbers (1,2 and 3)would give 3<sup>2</sup> combinations namely (1,1)(1,2)(1,3)(2,1)(2,2)(2,3)(3,1) (3,2) (3,3). numpy.random has two permutation functions namely [Ref](https://docs.scipy.org/doc/numpy-1.15.1/reference/routines.random.html), namely,  \n",
    "- shuffle\n",
    "- permutation\n",
    "\n",
    "The functions in this section are ways of randomly selecting elements from a finite set.\n",
    "\n",
    "### shuffle\n",
    "\n",
    "shuffle(x) takes an array or array like input and randomly reorders elements in the array. E.g. randomly shuffling the order of harry potter books\n",
    "\n",
    "#### When would you use shuffle?\n",
    "\n",
    "shuffle is used when you have an array i.e. a finite list of elements and you want to randomly shuffle them. The same list is returned but the order items are presented in has changed. "
   ]
  },
  {
   "cell_type": "code",
   "execution_count": 14,
   "metadata": {
    "scrolled": true
   },
   "outputs": [
    {
     "name": "stdout",
     "output_type": "stream",
     "text": [
      "Harry Potter books listed in order of publication date \n",
      "\n",
      "Harry Potter and the Philosopher’s Stone\n",
      "Harry Potter and the Chamber of Secrets\n",
      "Harry Potter and the Prisoner of Azkaban\n",
      "Harry Potter and the Goblet of Fire\n",
      "Harry Potter and the Order of the Phoenix\n",
      "Harry Potter and the Half-Blood Prince\n",
      "Harry Potter and the Deathly Hallows\n",
      "\n",
      "\n",
      "Harry Potter books listed in shuffled order \n",
      "\n"
     ]
    },
    {
     "data": {
      "text/plain": [
       "['Harry Potter and the Philosopher’s Stone',\n",
       " 'Harry Potter and the Half-Blood Prince',\n",
       " 'Harry Potter and the Order of the Phoenix',\n",
       " 'Harry Potter and the Prisoner of Azkaban',\n",
       " 'Harry Potter and the Goblet of Fire',\n",
       " 'Harry Potter and the Deathly Hallows',\n",
       " 'Harry Potter and the Chamber of Secrets']"
      ]
     },
     "execution_count": 14,
     "metadata": {},
     "output_type": "execute_result"
    }
   ],
   "source": [
    "hp = ['Harry Potter and the Philosopher’s Stone', 'Harry Potter and the Chamber of Secrets', 'Harry Potter and the Prisoner of Azkaban', 'Harry Potter and the Goblet of Fire', 'Harry Potter and the Order of the Phoenix', 'Harry Potter and the Half-Blood Prince', 'Harry Potter and the Deathly Hallows']\n",
    "print(\"Harry Potter books listed in order of publication date\", \"\\n\")\n",
    "for book in hp:\n",
    "    print(book)\n",
    "print(\"\\n\")    \n",
    "# shuffle the books\n",
    "print(\"Harry Potter books listed in shuffled order\", \"\\n\")\n",
    "np.random.shuffle(hp)\n",
    "\n",
    "hp\n"
   ]
  },
  {
   "cell_type": "markdown",
   "metadata": {},
   "source": [
    "You can shuffle a deck of cards and deal 5 [ref](https://www.programiz.com/python-programming/examples/shuffle-card)"
   ]
  },
  {
   "cell_type": "code",
   "execution_count": 15,
   "metadata": {
    "scrolled": true
   },
   "outputs": [
    {
     "name": "stdout",
     "output_type": "stream",
     "text": [
      "Your cards are \n",
      "\n",
      "13 of Heart\n",
      "10 of Club\n",
      "2 of Diamond\n",
      "12 of Club\n",
      "3 of Heart\n"
     ]
    }
   ],
   "source": [
    "# Python program to shuffle a deck of card using the module random and draw 5 cards\n",
    "# code adapted from https://www.programiz.com/python-programming/examples/shuffle-card\n",
    "\n",
    "# import modules\n",
    "import itertools\n",
    "\n",
    "# make a deck of cards\n",
    "deck = list(itertools.product(range(1,14),['Spade','Heart','Diamond','Club']))\n",
    "\n",
    "# shuffle the cards\n",
    "np.random.shuffle(deck)\n",
    "\n",
    "# draw five cards\n",
    "print(\"Your cards are\", \"\\n\")\n",
    "for i in range(5):\n",
    "   print(deck[i][0], \"of\", deck[i][1])"
   ]
  },
  {
   "cell_type": "markdown",
   "metadata": {},
   "source": [
    "### Permutation\n",
    "\n",
    "permutation(x) has an array as an input and randomly permutes/shuffles outputs. \n",
    "\n",
    "permutation randomly permute a sequence, or return a permuted range [Ref](https://docs.scipy.org/doc/numpy-1.15.1/reference/routines.random.html). Unlike shuffle which reorders the original array, permutation takes a copy of the original array and shuffles the copy. The original array remains intact. In addition permutation can take integer inputs and will output a range e.g an input of 5 will output a random range populated with unique elements from 0 to 4 inclusive. [Ref](https://stackoverflow.com/questions/15474159/shuffle-vs-permute-numpy)\n",
    "\n",
    "#### When would you use permutation?\n",
    "\n",
    "permutation is used when you want to shuffle your array but you also want to keep a record of your original array.\n"
   ]
  },
  {
   "cell_type": "code",
   "execution_count": 16,
   "metadata": {
    "scrolled": true
   },
   "outputs": [
    {
     "name": "stdout",
     "output_type": "stream",
     "text": [
      "Harry Potter books listed in order of publication date \n",
      "\n",
      "Harry Potter and the Philosopher’s Stone\n",
      "Harry Potter and the Chamber of Secrets\n",
      "Harry Potter and the Prisoner of Azkaban\n",
      "Harry Potter and the Goblet of Fire\n",
      "Harry Potter and the Order of the Phoenix\n",
      "Harry Potter and the Half-Blood Prince\n",
      "Harry Potter and the Deathly Hallows\n",
      "\n",
      "\n",
      "books are shuffled using the permutation function \n",
      "\n",
      "['Harry Potter and the Goblet of Fire'\n",
      " 'Harry Potter and the Prisoner of Azkaban'\n",
      " 'Harry Potter and the Philosopher’s Stone'\n",
      " 'Harry Potter and the Deathly Hallows'\n",
      " 'Harry Potter and the Half-Blood Prince'\n",
      " 'Harry Potter and the Chamber of Secrets'\n",
      " 'Harry Potter and the Order of the Phoenix'] \n",
      "\n",
      "the original book order is preserved \n",
      "\n",
      "Harry Potter and the Philosopher’s Stone\n",
      "Harry Potter and the Chamber of Secrets\n",
      "Harry Potter and the Prisoner of Azkaban\n",
      "Harry Potter and the Goblet of Fire\n",
      "Harry Potter and the Order of the Phoenix\n",
      "Harry Potter and the Half-Blood Prince\n",
      "Harry Potter and the Deathly Hallows\n",
      "\n",
      "\n",
      "unlike shuffling with the shuffle function \n",
      "\n",
      "Harry Potter and the Philosopher’s Stone\n",
      "Harry Potter and the Chamber of Secrets\n",
      "Harry Potter and the Prisoner of Azkaban\n",
      "Harry Potter and the Half-Blood Prince\n",
      "Harry Potter and the Goblet of Fire\n",
      "Harry Potter and the Deathly Hallows\n",
      "Harry Potter and the Order of the Phoenix\n"
     ]
    }
   ],
   "source": [
    "print(\"Harry Potter books listed in order of publication date\", '\\n')\n",
    "\n",
    "hp = ['Harry Potter and the Philosopher’s Stone', 'Harry Potter and the Chamber of Secrets', 'Harry Potter and the Prisoner of Azkaban', 'Harry Potter and the Goblet of Fire', 'Harry Potter and the Order of the Phoenix', 'Harry Potter and the Half-Blood Prince', 'Harry Potter and the Deathly Hallows']\n",
    "for book in hp:\n",
    "    print(book)\n",
    "print('\\n')\n",
    "print(\"books are shuffled using the permutation function\",\"\\n\")\n",
    "print(np.random.permutation(hp), \"\\n\")\n",
    "print(\"the original book order is preserved\", \"\\n\")\n",
    "for book in hp:\n",
    "    print(book)\n",
    "print(\"\\n\")  \n",
    "print(\"unlike shuffling with the shuffle function\", \"\\n\")\n",
    "np.random.shuffle(hp)\n",
    "for book in hp:\n",
    "    print(book)\n",
    "#print('\\n')\n",
    "## input is an integer output is a range\n",
    "#print(np.random.permutation(5), '\\n')"
   ]
  },
  {
   "cell_type": "markdown",
   "metadata": {},
   "source": [
    "## What are distributions and why do we need them.\n"
   ]
  },
  {
   "cell_type": "markdown",
   "metadata": {},
   "source": [
    "A probability distribution is a table or an equation that links each outcome of a statistical experiment or event with its probability of occurring. Consider tossing a coin. It has two possible outcomes, heads or tails. Here the event is the coin toss and the outcome is the result, heads or tails. Similarly, throwing a die has 6 outcomes, 1, 2, 3, 4, 5 or 6 being the face up side. Outcomes of a statistical test often show a pattern based on the probability of an event occurring. E.g. rolling a fair 6 faced die will produce each of the numbers 1 to 6 roughly 1/6 of the time. Similarly, tossing a non biased coin enough times will show a probability of 1/2 for both heads and tails. In each of these scenarios performing the test of throwing the dice or tossing a coin, will better match its underlying probability as the number of trials or tries increases.\n",
    "\n",
    "![dice](img/die.jpg)\n",
    "\n",
    "When a random sample is generated (the event) it produces a specific outcome from a list of all possible outcomes. For example tossing a coin could produce an outcome of heads or tails. Performing this test will produce only one of these outcomes, its either heads or its tails. When the list of possible outcomes (heads or tails) are plotted against its probability of occurring (1/2 for both Heads and Tails)you get a probability distribution. \n",
    "\n",
    "Consider the die throw; Rolling a die 10  times may give a pattern of 1,3,5,1,4,4. In this sample set, the outcome, the probability of getting a 4, is 2/10 (1/5 - two 4's from 10 throws). This is greater than the underlying probability of 1/6 but the law of large numbers states [ref](https://stattrek.com/statistics/dictionary.aspx?definition=law_of_large_numbers) that the more times an event is tested, i.e. the larger the sample size is, the closer it will be to its underlying probability of that event occurring. Rolling  the die 10 times and getting two four's may have a probability not equal to 1/6 but if the dice is rolled a very large number of  times, the small deviations from 1/6 will be smoothed out and the underlying probability will be constant at probability p of 1/6. This is the idea behind probability distributions; They are equations that plot the underlying model when sample size reaches the same size as its total population.\n",
    "\n",
    "The code below simulates 10, 100, 1000 and `1000000` random rolls of a dice and calculates the probability of each outcome.  As the sample size increases, the sample probability tends towards the actual probability of the distribution. \n"
   ]
  },
  {
   "cell_type": "code",
   "execution_count": 17,
   "metadata": {
    "scrolled": true
   },
   "outputs": [
    {
     "name": "stdout",
     "output_type": "stream",
     "text": [
      "Sample Size is 10\n",
      "[0 3 2 2 1 0 2]\n",
      "sample prob of getting 1 0.3\n",
      "sample prob of getting 2 0.2\n",
      "sample prob of getting 3 0.2\n",
      "sample prob of getting 4 0.1\n",
      "sample prob of getting 5 0.0\n",
      "sample prob of getting 6 0.2\n",
      "actual probability 0.167 \n",
      "\n",
      "Sample Size is 100\n",
      "[ 0 15 17 16 15 21 16]\n",
      "sample prob of getting 1 0.15\n",
      "sample prob of getting 2 0.17\n",
      "sample prob of getting 3 0.16\n",
      "sample prob of getting 4 0.15\n",
      "sample prob of getting 5 0.21\n",
      "sample prob of getting 6 0.16\n",
      "actual probability 0.167 \n",
      "\n",
      "Sample Size is 1000\n",
      "[  0 161 155 180 176 160 168]\n",
      "sample prob of getting 1 0.161\n",
      "sample prob of getting 2 0.155\n",
      "sample prob of getting 3 0.18\n",
      "sample prob of getting 4 0.176\n",
      "sample prob of getting 5 0.16\n",
      "sample prob of getting 6 0.168\n",
      "actual probability 0.167 \n",
      "\n",
      "Sample Size is 1000000\n",
      "[     0 166250 166999 166789 166454 166705 166803]\n",
      "sample prob of getting 1 0.16625\n",
      "sample prob of getting 2 0.166999\n",
      "sample prob of getting 3 0.166789\n",
      "sample prob of getting 4 0.166454\n",
      "sample prob of getting 5 0.166705\n",
      "sample prob of getting 6 0.166803\n",
      "actual probability 0.167 \n",
      "\n"
     ]
    }
   ],
   "source": [
    "print(\"Sample Size is 10\")\n",
    "size=10\n",
    "outcome = np.bincount(np.random.randint(1,7,size))\n",
    "print(outcome)\n",
    "p1=outcome[1]/size\n",
    "print(\"sample prob of getting 1\",p1)\n",
    "p2=outcome[2]/size\n",
    "print(\"sample prob of getting 2\",p2)\n",
    "p3=outcome[3]/size\n",
    "print(\"sample prob of getting 3\",p3)\n",
    "p4=outcome[4]/size\n",
    "print(\"sample prob of getting 4\",p4)\n",
    "p5=outcome[5]/size\n",
    "print(\"sample prob of getting 5\",p5)\n",
    "p6=outcome[6]/size\n",
    "print(\"sample prob of getting 6\",p6)\n",
    "p = 1/6\n",
    "print(\"actual probability\",f\"{p:.3}\", \"\\n\")\n",
    "\n",
    "print(\"Sample Size is 100\")\n",
    "size=100\n",
    "outcome = np.bincount(np.random.randint(1,7,size))\n",
    "print(outcome)\n",
    "p1=outcome[1]/size\n",
    "print(\"sample prob of getting 1\",p1)\n",
    "p2=outcome[2]/size\n",
    "print(\"sample prob of getting 2\",p2)\n",
    "p3=outcome[3]/size\n",
    "print(\"sample prob of getting 3\",p3)\n",
    "p4=outcome[4]/size\n",
    "print(\"sample prob of getting 4\",p4)\n",
    "p5=outcome[5]/size\n",
    "print(\"sample prob of getting 5\",p5)\n",
    "p6=outcome[6]/size\n",
    "print(\"sample prob of getting 6\",p6)\n",
    "p = 1/6\n",
    "print(\"actual probability\",f\"{p:.3}\", \"\\n\")\n",
    "print(\"Sample Size is 1000\")\n",
    "size=1000\n",
    "outcome = np.bincount(np.random.randint(1,7,size))\n",
    "print(outcome)\n",
    "p1=outcome[1]/size\n",
    "print(\"sample prob of getting 1\",p1)\n",
    "p2=outcome[2]/size\n",
    "print(\"sample prob of getting 2\",p2)\n",
    "p3=outcome[3]/size\n",
    "print(\"sample prob of getting 3\",p3)\n",
    "p4=outcome[4]/size\n",
    "print(\"sample prob of getting 4\",p4)\n",
    "p5=outcome[5]/size\n",
    "print(\"sample prob of getting 5\",p5)\n",
    "p6=outcome[6]/size\n",
    "print(\"sample prob of getting 6\",p6)\n",
    "p = 1/6\n",
    "print(\"actual probability\",f\"{p:.3}\", \"\\n\")\n",
    "print(\"Sample Size is 1000000\")\n",
    "size=1000000\n",
    "outcome = np.bincount(np.random.randint(1,7,size))\n",
    "print(outcome)\n",
    "p1=outcome[1]/size\n",
    "print(\"sample prob of getting 1\",p1)\n",
    "p2=outcome[2]/size\n",
    "print(\"sample prob of getting 2\",p2)\n",
    "p3=outcome[3]/size\n",
    "print(\"sample prob of getting 3\",p3)\n",
    "p4=outcome[4]/size\n",
    "print(\"sample prob of getting 4\",p4)\n",
    "p5=outcome[5]/size\n",
    "print(\"sample prob of getting 5\",p5)\n",
    "p6=outcome[6]/size\n",
    "print(\"sample prob of getting 6\",p6)\n",
    "p = 1/6\n",
    "print(\"actual probability\",f\"{p:.3}\", \"\\n\")\n"
   ]
  },
  {
   "cell_type": "markdown",
   "metadata": {},
   "source": [
    "![discrete uniform distribution](img/uniform.png)\n",
    "\n",
    "\n",
    "\n",
    "### Uniform Distribution\n",
    "\n",
    "#### Discrete\n",
    "Often there is an underlying pattern based on this probability. For example in die throw above, each outcome of getting 1, 2, 3, 4, 5 or 6  has the underlying probability of 1 divided by the number of possible outcomes i.e. 6 hence p =1/6 is the same for all the outcomes. Similarly if we were to toss a coin, there would be 2 outcomes, heads or tails but the underlying distribution would be the same as in the die throw, i.e. 1 divided by the possible outcomes, in this case 2 not 6 but its still the same for heads and tails with p = 1 divided by the number of outcomes, albeit the number of outcomes differs, 2 for the coin toss and 6 for the die throw. This type of distribution is called a **uniform distribution**. In particular it is a discrete uniform distribution. i.e outcomes are stepped, they are either 1 or 2 or 3 etc and not midway between 2 and 3. This distribution has a known finite set of possible outcomes; For the die throw it's the integers from 1 to 6 and for the coin toss its heads or tails. In each case the probability is constant. \n",
    "\n"
   ]
  },
  {
   "cell_type": "code",
   "execution_count": 18,
   "metadata": {
    "scrolled": true
   },
   "outputs": [
    {
     "name": "stdout",
     "output_type": "stream",
     "text": [
      "Roll the dice \n",
      "\n",
      "4\n"
     ]
    },
    {
     "data": {
      "image/png": "[encoded data removed]",
      "text/plain": [
       "<matplotlib.figure.Figure at 0x1eda8cdda58>"
      ]
     },
     "metadata": {
      "needs_background": "light"
     },
     "output_type": "display_data"
    }
   ],
   "source": [
    "print(\"Roll the dice\", \"\\n\")\n",
    "x=np.random.randint(1,7)\n",
    "print(x)\n",
    "plt.title(\"rolls\")\n",
    "plt.xlabel(\"face number\")\n",
    "plt.ylabel(\"count\")\n",
    "plt.hist(x)\n",
    "plt.show()"
   ]
  },
  {
   "cell_type": "markdown",
   "metadata": {},
   "source": [
    "Say you do this a million times and plot your results"
   ]
  },
  {
   "cell_type": "code",
   "execution_count": 19,
   "metadata": {
    "scrolled": true
   },
   "outputs": [
    {
     "data": {
      "image/png": "[encoded data removed]",
      "text/plain": [
       "<matplotlib.figure.Figure at 0x1eda8d394a8>"
      ]
     },
     "metadata": {
      "needs_background": "light"
     },
     "output_type": "display_data"
    }
   ],
   "source": [
    "plt.title(\"1 million rolls\")\n",
    "plt.xlabel(\"face number\")\n",
    "plt.ylabel(\"count\")\n",
    "plt.hist(np.random.randint(1,7,1000000))\n",
    "plt.show()\n"
   ]
  },
  {
   "cell_type": "markdown",
   "metadata": {},
   "source": [
    "The results of the roll all seem to be equally likely, 1 million rolls with 6 possible outcomes is "
   ]
  },
  {
   "cell_type": "code",
   "execution_count": 20,
   "metadata": {
    "scrolled": true
   },
   "outputs": [
    {
     "name": "stdout",
     "output_type": "stream",
     "text": [
      "166666.67\n"
     ]
    }
   ],
   "source": [
    "print(f\"{1000000/6:.8}\")\n"
   ]
  },
  {
   "cell_type": "markdown",
   "metadata": {},
   "source": [
    "What if you extend the number of throws to its limit so that the 'sample' extends to the total population? Then you would get a probability distribution, in particular you would get a (discrete) *uniform* distribution over the interval 1 to 6. Values between 1 and 6 would each have the same probability (1/6th) of being face up when rolled. "
   ]
  },
  {
   "cell_type": "code",
   "execution_count": 21,
   "metadata": {
    "scrolled": true
   },
   "outputs": [
    {
     "data": {
      "image/png": "[encoded data removed]",
      "text/plain": [
       "<matplotlib.figure.Figure at 0x1eda8e22d30>"
      ]
     },
     "metadata": {
      "needs_background": "light"
     },
     "output_type": "display_data"
    }
   ],
   "source": [
    "p=100/6\n",
    "plt.subplot(121)\n",
    "plt.xlabel(\"Sample roll\")\n",
    "plt.ylabel('Count')\n",
    "plt.title(\"Sample\")\n",
    "plt.axis([0, 7, 0, 25]) # x_start, x_end, y_start, y_end\n",
    "sample = np.random.randint(1,7,100) # You are generating 100 points between 1 and 6.\n",
    "plt.axhline(y=p, color='r')\n",
    "plt.hist(sample)\n",
    "\n",
    "plt.subplot(122)\n",
    "plt.title(\"Distribution function\")\n",
    "plt.ylabel('Count')\n",
    "plt.xlabel('X~U[0,1]')\n",
    "plt.axhline(y=p, color='r')\n",
    "updf = np.random.uniform(1,6,100)\n",
    "count, bins, ignored = plt.hist(updf, 6, facecolor='green') \n",
    "plt.subplots_adjust(bottom=1.0, right=2.0, top=2.0)\n"
   ]
  },
  {
   "cell_type": "markdown",
   "metadata": {},
   "source": [
    "Probability distributions have different 'shapes'.  "
   ]
  },
  {
   "cell_type": "markdown",
   "metadata": {},
   "source": [
    "#### Continous\n",
    "\n",
    "But what if values could be anywhere along a range? For example you arrive at a bus stop to catch a very regular bus that comes exactly once an hour. However you have no idea what time it is or when the bus last left the stop. The time spent waiting would be a uniform distribution from 0 to 1 hour, with the bus equally likely to arrive at anytime within that interval. Time, temperature and measures like height do not take a fixed set of values, rather they vary on a continuum. Thus the distribution these measures form are continuous along range.\n",
    "\n",
    "Say we wanted to model the bus scenario. numpy.random has a function to allow us to do this."
   ]
  },
  {
   "cell_type": "code",
   "execution_count": 22,
   "metadata": {
    "scrolled": true
   },
   "outputs": [
    {
     "name": "stdout",
     "output_type": "stream",
     "text": [
      "How long will I wait for the bus?\n",
      "0.37  hours\n"
     ]
    }
   ],
   "source": [
    "print(\"How long will I wait for the bus?\")\n",
    "print(f\"{np.random.uniform():.2}\", \" hours\")\n",
    "   "
   ]
  },
  {
   "cell_type": "markdown",
   "metadata": {},
   "source": [
    "What if the waiting times is measured daily over the course of a year and the results are plotted?\n"
   ]
  },
  {
   "cell_type": "code",
   "execution_count": 23,
   "metadata": {
    "scrolled": true
   },
   "outputs": [
    {
     "name": "stdout",
     "output_type": "stream",
     "text": [
      "[ 0.81113386  0.35357231  0.19310115  0.30216282  0.14504239  0.27190493\n",
      "  0.80638916  0.60121401  0.46272112  0.94320545  0.14593606  0.67370374\n",
      "  0.44632041  0.26329049  0.7996061   0.32886536  0.09997692  0.80521964\n",
      "  0.66676963  0.09136686  0.02524359  0.74726417  0.63377587  0.99935953\n",
      "  0.09880461  0.82091984  0.16515399  0.41091388  0.68382591  0.73854014\n",
      "  0.2876738   0.48506959  0.12876803  0.45649405  0.03999139  0.89399101\n",
      "  0.76940449  0.57635054  0.0957612   0.66493986  0.11880776  0.41084469\n",
      "  0.57296111  0.42250455  0.06940926  0.33465124  0.91519856  0.23099258\n",
      "  0.59035533  0.65605829  0.96306023  0.11235231  0.20549935  0.16604304\n",
      "  0.26270316  0.86520606  0.61380169  0.43067419  0.52527429  0.60863911\n",
      "  0.19640489  0.21864352  0.38022752  0.15461079  0.30136698  0.44780175\n",
      "  0.49009343  0.3444165   0.89921198  0.41405478  0.98052638  0.73019621\n",
      "  0.32496732  0.49902932  0.41345749  0.95942054  0.77146863  0.07246845\n",
      "  0.53470335  0.30869538  0.46574227  0.08940217  0.62862359  0.02903557\n",
      "  0.07223675  0.99552623  0.55778674  0.80044434  0.03011924  0.18215359\n",
      "  0.65163917  0.43040399  0.79494049  0.48179579  0.03279327  0.36192237\n",
      "  0.57257478  0.17250308  0.81832332  0.85697658  0.10241125  0.28106097\n",
      "  0.82109928  0.81840002  0.05244834  0.52667081  0.23724169  0.48651238\n",
      "  0.39317948  0.42522361  0.02238955  0.83146778  0.81838257  0.09749151\n",
      "  0.28567258  0.59804659  0.74732256  0.88237862  0.79515096  0.43880472\n",
      "  0.14386357  0.42781825  0.62638727  0.74227884  0.71050562  0.67839361\n",
      "  0.50988735  0.79555286  0.51746506  0.59813703  0.73530862  0.80084841\n",
      "  0.20455431  0.09717013  0.99454092  0.21077866  0.47450394  0.5118683\n",
      "  0.85258082  0.88882416  0.52896116  0.21449892  0.05666993  0.17555637\n",
      "  0.67495758  0.60135896  0.64891769  0.55349407  0.65642913  0.69857875\n",
      "  0.10735681  0.15007809  0.15359362  0.63468887  0.64969683  0.51269569\n",
      "  0.70438295  0.06770091  0.97260033  0.1461262   0.37395079  0.56521066\n",
      "  0.97197505  0.99052201  0.69640355  0.33113456  0.46147786  0.81910989\n",
      "  0.89416325  0.95923814  0.59578201  0.33302795  0.42708127  0.25410014\n",
      "  0.99309645  0.63015811  0.61680126  0.11381615  0.5184102   0.37568269\n",
      "  0.05183729  0.97705439  0.74361624  0.81589456  0.16905615  0.1152268\n",
      "  0.52686859  0.8075471   0.33285581  0.42849902  0.78239029  0.79182777\n",
      "  0.30385187  0.75269877  0.49542595  0.16108184  0.61173975  0.59847813\n",
      "  0.06353807  0.96273585  0.9842841   0.80506359  0.63419255  0.38966695\n",
      "  0.71073773  0.89634143  0.84480884  0.20310067  0.46211191  0.02105341\n",
      "  0.34675169  0.46637422  0.21269715  0.84578419  0.94847761  0.94913696\n",
      "  0.47919723  0.30630386  0.81518003  0.2446728   0.99607107  0.52400408\n",
      "  0.10059705  0.0919638   0.90498067  0.03243093  0.0198613   0.66271409\n",
      "  0.96971962  0.66706055  0.0853571   0.03922578  0.38571207  0.59651998\n",
      "  0.37380751  0.10420235  0.97841253  0.20292938  0.68308124  0.46446242\n",
      "  0.33062202  0.4751278   0.04332483  0.43629648  0.03355083  0.70915522\n",
      "  0.43779278  0.13204595  0.67079927  0.40731206  0.20149626  0.87667938\n",
      "  0.90096161  0.47898962  0.0681479   0.90532917  0.77054752  0.7765705\n",
      "  0.45322276  0.95706093  0.34344238  0.43399482  0.24845412  0.33069109\n",
      "  0.12713757  0.58758101  0.48237309  0.77227051  0.3657454   0.16712132\n",
      "  0.6656375   0.75506144  0.44435532  0.89481447  0.3820963   0.82498005\n",
      "  0.23725829  0.08749672  0.62661087  0.9863858   0.57700136  0.23697091\n",
      "  0.32422959  0.26524024  0.30744471  0.25908451  0.09199359  0.53648449\n",
      "  0.47717934  0.72513266  0.69375387  0.26389755  0.57838031  0.66714165\n",
      "  0.62649984  0.21189747  0.82684687  0.28510465  0.09786642  0.32950071\n",
      "  0.38694665  0.79974046  0.52281302  0.18385297  0.56821857  0.07210946\n",
      "  0.07767343  0.96122552  0.56626172  0.87939501  0.97684197  0.15156533\n",
      "  0.93672059  0.60305819  0.69304131  0.19032002  0.14125525  0.68018303\n",
      "  0.06515285  0.85298373  0.8788764   0.67500732  0.1431174   0.02000738\n",
      "  0.29302467  0.76860766  0.30982329  0.34382188  0.33466557  0.66415077\n",
      "  0.1932826   0.57960929  0.83162387  0.65212912  0.75810412  0.98160029\n",
      "  0.37511145  0.66916586  0.89928641  0.42154078  0.69658207  0.99945436\n",
      "  0.68564315  0.01412772  0.18911776  0.40624107  0.44537106  0.9238485\n",
      "  0.20350829  0.06663655  0.1793282   0.62196193  0.00118817  0.14523797\n",
      "  0.19143685  0.10783892  0.90977512  0.14072178  0.90702647  0.47462126\n",
      "  0.84685464  0.84805562  0.04474428  0.15656977  0.60546271]\n"
     ]
    }
   ],
   "source": [
    "how_long = np.random.uniform(0,1,365)\n",
    "print(how_long)"
   ]
  },
  {
   "cell_type": "code",
   "execution_count": 24,
   "metadata": {
    "scrolled": false
   },
   "outputs": [
    {
     "data": {
      "image/png": "[encoded data removed]",
      "text/plain": [
       "<matplotlib.figure.Figure at 0x1eda8eaab38>"
      ]
     },
     "metadata": {
      "needs_background": "light"
     },
     "output_type": "display_data"
    }
   ],
   "source": [
    "plt.hist(how_long)\n",
    "plt.title(\"Waiting Time over a year\")\n",
    "plt.xlabel(\"Time\")\n",
    "plt.ylabel(\"Days\")\n",
    "plt.show()"
   ]
  },
  {
   "cell_type": "markdown",
   "metadata": {},
   "source": [
    "numpy.random.uniform takes inputs of a range low to high. Size i.e. the number of results return can also be specified. The range interval includes the lower number but excludes the higher one. All numbers within the range are equally likely to be selected. The probability density function for this distribution is \n",
    "\n",
    "$$p(x) = \\frac{1}{b-a}$$ where a is the low value and b is the high value. \n",
    "\n",
    "It can be written as $X\\sim Uniform(a,\\,b)$\n",
    "\n",
    "The probability for any event in a uniform continuous distribution is given as $\\frac {1}{b-a}$ where a is the lower value of the interval and b is the higher value of the interval. \n",
    "\n",
    "\n",
    "### Binomial\n",
    "\n",
    "Going back to the die example, what if we were only interested in getting one of the outcomes? Say the die was rolled 100 times but we were only counting number of times 4's popped up? \n"
   ]
  },
  {
   "cell_type": "code",
   "execution_count": 25,
   "metadata": {
    "scrolled": false
   },
   "outputs": [
    {
     "name": "stdout",
     "output_type": "stream",
     "text": [
      "How many times was 4 faceup after 100 rolls -  16 times\n"
     ]
    },
    {
     "data": {
      "image/png": "[encoded data removed]",
      "text/plain": [
       "<matplotlib.figure.Figure at 0x1eda8d6df60>"
      ]
     },
     "metadata": {
      "needs_background": "light"
     },
     "output_type": "display_data"
    }
   ],
   "source": [
    "print(\"How many times was 4 faceup after 100 rolls - \", np.random.binomial(100,1/6), \"times\")\n",
    "plt.title(\"roll 500 dice 100 times and count the number of times 4 showed \")\n",
    "plt.xlabel(\"no of times 4 showed\")\n",
    "plt.ylabel(\"no of dice rolled\")\n",
    "plt.hist(np.random.binomial(100,1/6, 500))\n",
    "plt.show()"
   ]
  },
  {
   "cell_type": "markdown",
   "metadata": {},
   "source": [
    "4 is just as likely to pop up as any of the other faces, but the distribution pattern is different than the uniform pattern discussed earlier. There is a tendency for 4's to crop up in 100 rolls close to the 100\\6 mark. The outcome of a die roll is fixed, it can only be numbers from 1 to 6 but we are only interested in 2 outcome namely is it a 4 - a success or is it not a 4 - a failure. This type of distribution is called a **binomial** distribution. It is a discrete distribution with two required parameters, the number of trials n, i.e. the number of times the die is rolled and the probability associated with the outcome p i.e getting a 4 (1/6).\n",
    "\n",
    "numpy.random.binomial takes inputs n i.e. number of trials and p i.e. probability of a successful event. The size can also be specified.[ref](https://docs.scipy.org/doc/numpy/reference/generated/numpy.random.binomial.html#numpy.random.binomial) If the size is one the distribution is called a *Bernoulli* distribution. The binomial distribution has the probability distribution function \n",
    "\n",
    "$$X\\sim Binomial(n,p)$$\n",
    "\n",
    "$$P(x) = \\binom{n}{x}p^x(1-p)^{n-x}$$\n",
    "\n",
    "\n",
    "$$X\\sim Bernoulli(p)$$\n",
    "\n",
    "$$P(x) = p^x(1-p)^{1-x}$$\n",
    "\n",
    "note that 1-p is the probability of the event not occurring i.e. a failure\n",
    "\n",
    "\n",
    "### Geometric\n",
    "\n",
    "\n",
    "Now suppose we were just interested in the time till the first 4 was rolled? The binomial distribution address the question of \"how many successful events from n tries\" [](https://blog.cloudera.com/blog/2015/12/common-probability-distributions-the-data-scientists-crib-sheet/). The question now becomes \"how many failures till we get the first success?\". In this case we don't know what n, the number of tries, will be. This pattern is called the **geometric** distribution. \n",
    "\n"
   ]
  },
  {
   "cell_type": "code",
   "execution_count": 26,
   "metadata": {
    "scrolled": false
   },
   "outputs": [
    {
     "name": "stdout",
     "output_type": "stream",
     "text": [
      "How many rolls till '4' pops up? -  2 rolls\n"
     ]
    }
   ],
   "source": [
    "print(\"How many rolls till '4' pops up? - \", np.random.geometric(1/6), \"rolls\")\n"
   ]
  },
  {
   "cell_type": "markdown",
   "metadata": {},
   "source": [
    "This distribution has a different shape, it is asymmetrical with a long tail to the right (right skewed). The geometric distribution has some underlying assumptions\n",
    "\n",
    "1. The event is made up of independent trials i.e. events do not influence each other. \n",
    "2. There are only two outcomes, success or failure\n",
    "3. The probability of success is the same in each trial [Ref](https://en.wikipedia.org/wiki/Geometric_distribution)\n"
   ]
  },
  {
   "cell_type": "code",
   "execution_count": 27,
   "metadata": {
    "scrolled": false
   },
   "outputs": [
    {
     "data": {
      "image/png": "[encoded data removed]",
      "text/plain": [
       "<matplotlib.figure.Figure at 0x1eda8e2cf28>"
      ]
     },
     "metadata": {
      "needs_background": "light"
     },
     "output_type": "display_data"
    }
   ],
   "source": [
    "plt.title(\"How many rolls till 4 shows up \")\n",
    "plt.xlabel(\"number of rolls\")\n",
    "plt.ylabel(\"number of dice rolled\")\n",
    "plt.hist(np.random.geometric(1/6, 500))\n",
    "plt.show()"
   ]
  },
  {
   "cell_type": "markdown",
   "metadata": {},
   "source": [
    "numpy.random.geometric has one required input, its probability of a success p. The size can also be specified.  \n",
    "\n",
    "its probability density function is \n",
    "\n",
    "$$X\\sim Geometric(p)$$\n",
    "\n",
    "$$p(x)=  (1 - p)^{x-1}p $$ \n"
   ]
  },
  {
   "cell_type": "markdown",
   "metadata": {},
   "source": [
    "### Negative Binomal \n",
    "\n",
    "\n",
    "Now suppose we are sill interested in the number of tries till a success of 4 is reached; But rather than declaring a success when the first success is reached, we want to extend the number of success, say rolling ten 4's?  "
   ]
  },
  {
   "cell_type": "code",
   "execution_count": 28,
   "metadata": {
    "scrolled": false
   },
   "outputs": [
    {
     "name": "stdout",
     "output_type": "stream",
     "text": [
      "How many rolls till 10 '4s' pops up? -  41 rolls\n"
     ]
    },
    {
     "data": {
      "image/png": "[encoded data removed]",
      "text/plain": [
       "<matplotlib.figure.Figure at 0x1eda8cce080>"
      ]
     },
     "metadata": {
      "needs_background": "light"
     },
     "output_type": "display_data"
    }
   ],
   "source": [
    "print(\"How many rolls till 10 '4s' pops up? - \", np.random.negative_binomial(10,1/6), \"rolls\")\n",
    "\n",
    "plt.title(\"How many rolls till 10 4's pop up \")\n",
    "plt.xlabel(\"number of rolls\")\n",
    "plt.ylabel(\"number of dice rolled\")\n",
    "plt.hist(np.random.negative_binomial(10,1/6, 500))\n",
    "plt.show()\n"
   ]
  },
  {
   "cell_type": "markdown",
   "metadata": {},
   "source": [
    "This type of distribution is called the *negative binomial* distribution. \n",
    "\n",
    "numpy.random.negative_binomial has two required inputs, the number of success required n, and the probability of a success p. There is also a size option [ref](https://docs.scipy.org/doc/numpy/reference/generated/numpy.random.negative_binomial.html#numpy.random.negative_binomial). It's probability density function is\n",
    "\n",
    "$$X\\sim NegativeBinomial(n,p)$$\n",
    "\n",
    "$$P(N;n,p) = \\binom{N+n-1}{N}p^{n}(1-p)^{N}$$\n",
    "\n",
    "again 1-p is the probability of a failure. \n",
    "\n",
    "\n",
    "### Poisson\n",
    "\n",
    "\n",
    "\n",
    "What if the probability p was very small and the number of tries was very large? Say we have a 1000 faced die that will be rolled a million times. What's the distribution of getting a 4 now? In this case the n by p ratio tends towards a constant rate $\\lambda$. This is the *Poisson* distribution. It is frequently used when counting the number of times an event occurs over an interval of time or space. E.g. the number of customers arriving in a shop over the course of a day.  \n",
    "\n"
   ]
  },
  {
   "cell_type": "code",
   "execution_count": 29,
   "metadata": {
    "scrolled": false
   },
   "outputs": [
    {
     "name": "stdout",
     "output_type": "stream",
     "text": [
      "How many customers arrive at a shop on a Sunday when the average Sunday rate is 100? -  94 customers\n"
     ]
    },
    {
     "data": {
      "image/png": "[encoded data removed]",
      "text/plain": [
       "<matplotlib.figure.Figure at 0x1eda8f01710>"
      ]
     },
     "metadata": {
      "needs_background": "light"
     },
     "output_type": "display_data"
    }
   ],
   "source": [
    "print(\"How many customers arrive at a shop on a Sunday when the average Sunday rate is 100? - \", np.random.poisson(100), \"customers\")\n",
    "\n",
    "plt.title(\"How many customers arrive on Sunday \")\n",
    "plt.xlabel(\"number of customers\")\n",
    "plt.ylabel(\"number of Sunday's\")\n",
    "plt.hist(np.random.poisson(100,500))\n",
    "plt.show()"
   ]
  },
  {
   "cell_type": "markdown",
   "metadata": {},
   "source": [
    "This can be thought of as the limiting case of a binomial distribution when the number of trials is very large and the probability of a success is very small [ref]([https://medium.com/@andrew.chamberlain/deriving-the-poisson-distribution-from-the-binomial-distribution-840cc1668239). "
   ]
  },
  {
   "cell_type": "code",
   "execution_count": 30,
   "metadata": {
    "scrolled": false
   },
   "outputs": [
    {
     "data": {
      "image/png": "[encoded data removed]",
      "text/plain": [
       "<matplotlib.figure.Figure at 0x1eda8d77eb8>"
      ]
     },
     "metadata": {
      "needs_background": "light"
     },
     "output_type": "display_data"
    }
   ],
   "source": [
    "plt.subplot(121)\n",
    "plt.title(\"Poisson How many customers arrive on Sunday \\n when average is 100 \")\n",
    "plt.xlabel(\"number of customers\")\n",
    "plt.ylabel(\"number of Sunday's\")\n",
    "plt.hist(np.random.poisson(100,500))\n",
    "\n",
    "plt.subplot(122)\n",
    "plt.title(\"Binomial How many customers arrive on Sunday when \\n 20000 potential shoppers have a probibility of shopping of 0.005 \")\n",
    "plt.xlabel(\"number of customers\")\n",
    "plt.ylabel(\"number of Sunday's\")\n",
    "plt.hist(np.random.binomial(20000, 0.005, 500))\n",
    "plt.subplots_adjust(bottom=1.0, right=2.0, top=2.0)\n"
   ]
  },
  {
   "cell_type": "markdown",
   "metadata": {},
   "source": [
    "\n",
    "numpy.random.posson has 1 required input its rate $\\lambda$. Size can also be specified. \n",
    "\n",
    "Its probability density function is \n",
    "\n",
    "$$X\\sim Poisson(\\lambda)$$\n",
    "$$p(x; \\lambda)=\\frac{\\lambda^x e^{-\\lambda}}{x!}$$\n",
    "\n"
   ]
  },
  {
   "cell_type": "markdown",
   "metadata": {},
   "source": [
    "### Normal\n",
    "\n",
    "So far the focus has been the **discrete** distributions, discrete uniform, binomial, geometric, negative binomial and Poisson. The **continuous** uniform distribution was also investigated. Regarding the binomial distribution, if the number tries is very large, a bell shaped pattern emerges. "
   ]
  },
  {
   "cell_type": "code",
   "execution_count": 31,
   "metadata": {
    "scrolled": false
   },
   "outputs": [
    {
     "data": {
      "image/png": "[encoded data removed]",
      "text/plain": [
       "<matplotlib.figure.Figure at 0x1eda7cbf898>"
      ]
     },
     "metadata": {
      "needs_background": "light"
     },
     "output_type": "display_data"
    }
   ],
   "source": [
    "plt.subplot(121)\n",
    "plt.title(\"10 trials \")\n",
    "plt.hist(np.random.binomial(100,1/6, 5))\n",
    "plt.subplot(122)\n",
    "plt.title(\"10000 trials \")\n",
    "plt.hist(np.random.binomial(100,1/6, 10000))\n",
    "plt.subplots_adjust(bottom=1.0, right=2.0, top=2.0)"
   ]
  },
  {
   "cell_type": "markdown",
   "metadata": {},
   "source": [
    "Taking this to its limit of an infinite number of trials gives one of the most ubiquitous distributions, the *Normal* distribution. This is a continuous distribution that is commonly found in real world situations. For example, measure people's height and plot the results and you will find the vast majority will be clustered around the average value with almost all heights within 3 standard deviations of this average. You may get a few cases of people being extremely tall or extremely small but you will not get someone of height 1 cm or 1 km. Other examples of the normal distribution include marks on an exam, blood pressure readings, salary  levels etc. For example that data below comes from the public dataset ANSUR2, in particular the male data. This is data from the U.S. Army Anthropometry survey which took several measurements of its military population and made this data publicly available [ref](http://mreed.umtri.umich.edu/mreed/downloads.html).  \n"
   ]
  },
  {
   "cell_type": "code",
   "execution_count": 32,
   "metadata": {
    "scrolled": false
   },
   "outputs": [
    {
     "name": "stdout",
     "output_type": "stream",
     "text": [
      "The Height in Inches of Male US Military Personnel from ANSUR2 dataset 2012\n",
      "0    71\n",
      "1    68\n",
      "2    68\n",
      "3    66\n",
      "4    77\n",
      "Name: Heightin, dtype: int64 \n",
      "\n",
      "count    4082.000000\n",
      "mean       70.035767\n",
      "std         2.947419\n",
      "min        60.000000\n",
      "25%        68.000000\n",
      "50%        70.000000\n",
      "75%        72.000000\n",
      "max        94.000000\n",
      "Name: Heightin, dtype: float64 \n",
      "\n"
     ]
    },
    {
     "data": {
      "image/png": "[encoded data removed]",
      "text/plain": [
       "<matplotlib.figure.Figure at 0x1eda7c81d68>"
      ]
     },
     "metadata": {
      "needs_background": "light"
     },
     "output_type": "display_data"
    }
   ],
   "source": [
    "# data taken from http://www.ucd.ie/ecomodel/Resources/datasets_WebVersion.html in particular http://mreed.umtri.umich.edu/mreed/downloads/anthro/ANSUR2Distribution.zip\n",
    "df=pd.read_csv(\"data/ANSURIIMALEPublic.csv\", encoding = \"ISO-8859-1\")\n",
    "print(\"The Height in Inches of Male US Military Personnel from ANSUR2 dataset 2012\")\n",
    "heights = df.loc[:,'Heightin'] \n",
    "print(heights.head(), \"\\n\")\n",
    "print(heights.describe(), \"\\n\")\n",
    "plt.title(\"Histogram of height in Inches of Male ANSUR2 dataset\")\n",
    "plt.xlabel(\"height in inches\")\n",
    "plt.ylabel(\"number of military personnel\")\n",
    "plt.hist(heights)\n",
    "plt.show()\n"
   ]
  },
  {
   "cell_type": "markdown",
   "metadata": {},
   "source": [
    "This shows the bell shape curve characteristic of the normal distribution. The normal distribution is especially important as many other non normal distributions such as the binomial one above, tend toward a normal distribution pattern as their sample size increases under certain assumptions of each sample added being independent from each other. This is the idea behind the central limit theorem [ref](http://www.ucd.ie/ecomodel/Resources/Sheet4_data_distributions_WebVersion.html#central_limit_theorem). \n",
    "\n",
    "numpy.random has two normal functions\n",
    "1. standard_normal\n",
    "2. normal\n",
    "\n",
    "#### Standard Normal\n",
    "\n",
    "numpy.random.standard_normal produces samples from the standard normal distribution. The standard normal distribution has a mean of 0 and a standard deviation of 1. \n",
    "\n",
    "\n",
    "\n",
    "Its probability density function is \n",
    "\n",
    "$$X\\sim Normal(0, 1)$$\n",
    "$$p(x)\t=\t\\frac{1}{\\sqrt{2\\pi}}e^{-\\frac{x^2}{2}}$$\n",
    "\n",
    "\n",
    "\n",
    "\n",
    "\n",
    "#### Normal\n",
    "\n",
    "The standard normal distribution is a specific case of the normal distribution with a mean of 0 and a standard deviation of 1. The normal distribution can have other values for its mean $\\mu$ and standard deviation $\\sigma$. Its inputs are $\\mu$  and $\\sigma$ and it outputs random samples from this distribution. \n",
    "\n",
    "Its probability density function is \n",
    "\n",
    "$$X\\sim Normal(\\mu, \\sigma)$$\n",
    "$$p(x) = \\frac{1}{\\sqrt{ 2 \\pi \\sigma^2 }} e^{ - \\frac{ (x - \\mu)^2 } {2 \\sigma^2} }$$\n",
    "\n",
    "where $\\mu$ is the mean and $\\sigma$ the standard deviation. The square of the standard deviation, $\\sigma^2$ is called the variance.\n"
   ]
  },
  {
   "cell_type": "code",
   "execution_count": 33,
   "metadata": {},
   "outputs": [
    {
     "data": {
      "image/png": "[encoded data removed]",
      "text/plain": [
       "<matplotlib.figure.Figure at 0x1eda78f1278>"
      ]
     },
     "metadata": {
      "needs_background": "light"
     },
     "output_type": "display_data"
    }
   ],
   "source": [
    "plt.subplot(121)\n",
    "plt.title(\"Standard Normal \\n samples centered round 0\")\n",
    "plt.hist(np.random.standard_normal(100))\n",
    "plt.subplot(122)\n",
    "plt.title(\"Normal \\n samples centered round 50 \")\n",
    "plt.hist(np.random.normal(50, 9, 100))\n",
    "plt.subplots_adjust(bottom=1.0, right=2.0, top=2.0)"
   ]
  },
  {
   "cell_type": "markdown",
   "metadata": {},
   "source": [
    "In general, numpy.random has 35 distribution functions. Namely \n",
    "\n",
    "1. beta - Discrete\n",
    "2. *binomial* - Discrete\n",
    "3. chisquare - Continuous\n",
    "4. dirichlet - Joint\n",
    "5. exponential - Continuous\n",
    "6. f - Continuous\n",
    "7. gamma - Continuous\n",
    "8. *geometric* - Discrete\n",
    "9. gumbel - Continuous\n",
    "10. hypergeometric - Discrete\n",
    "11. laplace - Continuous\n",
    "12. logistic - Continuous\n",
    "13. lognormal - Continuous\n",
    "14. logseries - Discrete\n",
    "15. multinomial - Joint\n",
    "16. multivariate_normal - Continuous\n",
    "17. *negative_binomial* - Discrete\n",
    "18. noncentral_chisquare - Continuous\n",
    "19. noncentral_f - Continuous\n",
    "20. *normal* - Continuous\n",
    "21. pareto - Continuous\n",
    "22. *poisson* - Discrete\n",
    "23. power - Continuous\n",
    "24. rayleigh - Continuous\n",
    "25. standard_cauchy - Continuous\n",
    "26. standard_exponential - Continuous\n",
    "27. standard_gamma - Continuous\n",
    "28. *standard_normal* - Continuous\n",
    "29. standard_t - Continuous\n",
    "30. triangular - Continuous\n",
    "31. *uniform* - Continuous\n",
    "32. vonmises - Continuous\n",
    "33. wald - Continuous\n",
    "34. weibull - Continuous\n",
    "35. zipf - Discrete\n",
    "\n",
    "\n",
    "[ref](https://en.wikipedia.org/wiki/List_of_probability_distributions)\n",
    "Each of these distributions has their own shape and parameters. numpy.random's distribution functions allows random samples to be generated from any of these probability distributions. This report has looked at several of these.\n",
    "\n",
    "1. Uniform, discrete and continuous\n",
    "2. Binomial including Bernoulli\n",
    "3. Geometric\n",
    "4. Negative binomial \n",
    "5. Poisson\n",
    "6. Normal including Standard Normal"
   ]
  },
  {
   "cell_type": "markdown",
   "metadata": {},
   "source": [
    "## What are seeds and how are they involved in generating pseudorandom numbers. "
   ]
  },
  {
   "cell_type": "markdown",
   "metadata": {},
   "source": [
    "\n",
    "![random seed pic](img/randseed.png)\n",
    "\n",
    "##  The use of seeds in generating pseudorandom numbers\n",
    "\n",
    "## Random generator\n",
    "\n",
    "Random numbers are difficult to generate. Typically when true random numbers are required some random natural process is used such as radioactive decay levels. Computational random number generation is not truly random. Algorithms can produce long sequences of random looking data but which in reality are completely deterministic once a key value or a seed is known [ref](https://en.wikipedia.org/wiki/Random_number_generation#%22True%22_vs._pseudo-random_numbers). \n",
    "\n",
    "numpy.random contains four functions involved with the generation of random data from a specified range or given population, RandomState, Seed, get_state and set_state. As noted before 'random' in this sense means pseudo random. Numpy.random uses the pseudo random number generator (PRNG) algorithm named the 'Mersenne Twister'. This is a widely used computer algorithm that is suitable for most random number generation needs. A PRNG requires a seed as a starting point in the random  sequence. Once a seed is defined, the random sequence it generates can be predicted [](Vo. T.H et al., 2017). If no seed is given then Numpy picks a 'random' one based on either the computers internal clock settings or on the computers own random number generator [](Vo. T.H et al., 2017). \n",
    "\n",
    "\n",
    "numpy.random operates within a RandomState and takes a randomly generated seed from within this state if none is specified.The seed is the key piece of information from which the 'random' pattern can be deterministically generated. This is required as there are times when its the exact same set of random numbers need to be produced. The functions in the random generator section allows the RandomState and its Seed to be specifically set and not randomly allocated. \n",
    "\n",
    "There are four functions \n",
    "\n",
    "- RandomState\n",
    "- Seed\n",
    "- get_state\n",
    "- set_state\n",
    "\n",
    "Simple random data functions and and random distribution functions use the same universal random seed from the same random state. If you want a different seed for one particular random pattern then you can specify the unique seed with the RandomState function. This creates a local random number gererator that differs from the global one used by the other functions [](McKinny, 2018). \n",
    "\n",
    "Numpy.random has a function *seed* that allows the user to specify the seed and therefore generate a predictable random pattern of data. This is required when testing statistical models that require the same 'random noise' so as not to affect the statistical parameters. \n",
    "\n",
    "get_state and set_state are ways of setting a specific random state (set_state) and recalling it(get_state)for specific use [](https://stackoverflow.com/questions/48504854/python-random-getstate-and-random-setstate). \n",
    "\n",
    "Each of these four functions will be discussed below. \n",
    "\n",
    "\n",
    "### RandomState\n",
    "\n",
    "![Random State](img/rstate.jpeg)\n",
    "\n",
    "\n",
    "numpy.random operates within a random state. If its not set it will be allocated randomly. \n",
    "RandomState(`[`seed`]`) takes the seed value for the Mersenne Twister algorithm as input and outputs the container for the Mersenne Twister pseudo-random number generator [REf](https://docs.scipy.org/doc/numpy-1.15.1/reference/routines.random.html). There is always an underlying RandomState in numpy. All the functions in Numpy.random operate within an global instance of a default RandomState that is not explicitly set. All the functions and methods generate their random data within this state. E.g. if numpy.random.rand is used to generate some random floats then another function is called like np.random.uniform both functions will operate within the same random state and generate data from a random seed within that state. RandomState function is used when the same set of random numbers is required. It allows random numbers from specific instance of the random state to be generated at a local or contained level. \n",
    "\n",
    "This means that rather than changing global seed for the Mersenne Twister, a container or instance is created with that specific seed. It is used prior to calling other numpy.random functions. RandomState, like the seed function, allows for functions that call and create random data to return the same random data when called again. RandomState comes with a wide varity of methods very similar to numpy.random's functions, to call various probability distributions and simple random data functions. However these are methods rather than functions as each operate within the random state created by RandomState and do not affect global settings (its random state and its seed) of numpy.random.  \n",
    "\n",
    "\n",
    "Generally RandomState is prefered over seed as if seed is used all instances of random numbers called within the session will be affected but in RandomState only the instance where it is used with the random method is affected. \n",
    "\n",
    "\n",
    "--- useful links and things to check ---\n",
    "https://stackoverflow.com/questions/5836335/consistently-create-same-random-numpy-array\n",
    "\n",
    "https://stackoverflow.com/questions/32462273/how-to-use-random-randomstate\n",
    "\n"
   ]
  },
  {
   "cell_type": "code",
   "execution_count": 39,
   "metadata": {
    "scrolled": true
   },
   "outputs": [
    {
     "name": "stdout",
     "output_type": "stream",
     "text": [
      "0.22199317108973948\n",
      "6\n",
      "0.22199317108973948\n",
      "6\n",
      "0.49460164553802144\n",
      "1\n",
      "0.49460164553802144\n",
      "4\n"
     ]
    }
   ],
   "source": [
    "# generate a random number with seed 5\n",
    "seed = 5\n",
    "np.random.seed(seed)\n",
    "print(np.random.rand())\n",
    "# output is always 0.22199317108973948\n",
    "\n",
    "#This uses the global rand function and the seed affects all random functions within numpy.random for example \n",
    "\n",
    "print(np.random.randint(10)) # picks a random integer between [0, 10) - its always 6 with a seed of 5 a different simple random function than the one rand used above\n",
    "# This will always be 6 when the seed is 5\n",
    "\n",
    "\n",
    "#another way to achive the same result without affecting other the randomness of other numpy functions is to use RandomState\n",
    "# set the state\n",
    "rs = np.random.RandomState(seed)\n",
    "# call the method\n",
    "print(rs.rand())\n",
    "# This will be 0.8928601514360016 \n",
    "# however the other global function will not be affected by the RandomState's seed value and will remain at the previously 5 seeded value of 6\n",
    "print(np.random.randint(10))\n",
    "#reset random seed\n",
    "\n",
    "# when the above code is run but the seed value is changed\n",
    "\n",
    "# generate a random number with seed 5\n",
    "seed = 50\n",
    "np.random.seed(seed)\n",
    "print(np.random.rand())\n",
    "# output is always 0.22199317108973948\n",
    "\n",
    "#This uses the global rand function and the seed affects all random functions within numpy.random for example \n",
    "\n",
    "print(np.random.randint(10)) # picks a random integer between [0, 10) - its always 6 with a seed of 5 a different simple random function than the one rand used above\n",
    "# This will always be 6 when the seed is 5\n",
    "\n",
    "\n",
    "#another way to achive the same result without affecting other the randomness of other numpy functions is to use RandomState\n",
    "# set the state\n",
    "rs = np.random.RandomState(seed)\n",
    "# call the method\n",
    "print(rs.rand())\n",
    "# This will be 0.8928601514360016 \n",
    "# however the other global function will not be affected by the RandomState's seed value and will remain at the previously 5 seeded value of 6\n",
    "print(np.random.randint(10))\n",
    "#reset random seed\n",
    "\n",
    "# this shows that the local call to RandomState's methods same (0.49460164553802144) but the global numpy.random functions have different seeds and hence differnt random values \n",
    "\n",
    "# This allows you to have many instances of randomly generated numbers with differnt seeds within the same instance of python running\n",
    "\n",
    "\n",
    "## still not 100 pc sure whats going on with the numbers\n",
    "\n",
    "# https://stackoverflow.com/questions/32462273/how-to-use-random-randomstate\n"
   ]
  },
  {
   "cell_type": "code",
   "execution_count": 40,
   "metadata": {
    "scrolled": true
   },
   "outputs": [
    {
     "name": "stdout",
     "output_type": "stream",
     "text": [
      "<mtrand.RandomState object at 0x000001EDA93AC870>\n",
      "<mtrand.RandomState object at 0x000001EDA93CA1F8>\n",
      "<mtrand.RandomState object at 0x000001EDA93CA1F8>\n",
      "[ 0.77132064  0.02075195  0.63364823  0.74880388  0.49850701  0.22479665\n",
      "  0.19806286  0.76053071  0.16911084  0.08833981  0.68535982  0.95339335\n",
      "  0.00394827  0.51219226  0.81262096  0.61252607  0.72175532  0.29187607\n",
      "  0.91777412  0.71457578] \n",
      "\n",
      "[ 0.54254437  0.14217005  0.37334076  0.67413362  0.44183317  0.43401399\n",
      "  0.61776698  0.51313824  0.65039718  0.60103895  0.8052232   0.52164715\n",
      "  0.90864888  0.31923609  0.09045935  0.30070006  0.11398436  0.82868133\n",
      "  0.04689632  0.62628715] \n",
      "\n",
      "[ 0.54758616  0.819287    0.19894754  0.8568503   0.35165264  0.75464769\n",
      "  0.29596171  0.88393648  0.32551164  0.1650159   0.39252924  0.09346037\n",
      "  0.82110566  0.15115202  0.38411445  0.94426071  0.98762547  0.45630455\n",
      "  0.82612284  0.25137413] \n",
      "\n",
      "[ 0.59737165  0.90283176  0.53455795  0.59020136  0.03928177  0.35718176\n",
      "  0.07961309  0.30545992  0.33071931  0.7738303   0.03995921  0.42949218\n",
      "  0.31492687  0.63649114  0.34634715  0.04309736  0.87991517  0.76324059\n",
      "  0.87809664  0.41750914] \n",
      "\n",
      "[ 0.60557756  0.51346663  0.59783665  0.26221566  0.30087131  0.02539978\n",
      "  0.30306256  0.24207588  0.55757819  0.56550702  0.47513225  0.29279798\n",
      "  0.06425106  0.97881915  0.33970784  0.49504863  0.97708073  0.44077382\n",
      "  0.31827281  0.51979699] \n",
      "\n"
     ]
    }
   ],
   "source": [
    "\n",
    "# Create the random state rn with seed 10 \n",
    "# example adapted from https://www.machinelearningplus.com/python/numpy-tutorial-part1-array-python-examples/\n",
    "print(np.random.RandomState(None))\n",
    "\n",
    "print(np.random.RandomState())\n",
    "\n",
    "print(np.random.RandomState(100))\n",
    "\n",
    "\n",
    "\n",
    "\n",
    "rn = np.random.RandomState(10)\n",
    "\n",
    "# Create 20 random numbers between [0,1) with the rand simple random data function\n",
    "print(rn.rand(20), '\\n')\n",
    "print(rn.rand(20), '\\n')\n",
    "print(rn.rand(20), '\\n')\n",
    "print(rn.rand(20), '\\n')\n",
    "print(rn.rand(20), '\\n')\n",
    "\n"
   ]
  },
  {
   "cell_type": "markdown",
   "metadata": {},
   "source": [
    "In the above example, the random numbers generated were the same each time as the state was created locally before the simple random data function was called. If the RandomState is not set each time, numpy.random will default back to the global instance and use a random seed. "
   ]
  },
  {
   "cell_type": "code",
   "execution_count": 41,
   "metadata": {
    "scrolled": true
   },
   "outputs": [
    {
     "name": "stdout",
     "output_type": "stream",
     "text": [
      "<mtrand.RandomState object at 0x000001EDA8CD1870>\n"
     ]
    },
    {
     "data": {
      "text/plain": [
       "<function RandomState.get_state>"
      ]
     },
     "execution_count": 41,
     "metadata": {},
     "output_type": "execute_result"
    }
   ],
   "source": [
    "\n",
    "# Create the random state rn with seed 10 \n",
    "# example adapted from https://www.machinelearningplus.com/python/numpy-tutorial-part1-array-python-examples/\n",
    "\n",
    "seed = 10\n",
    "rn = np.random.RandomState() # this array has a RandomState created\n",
    "print(rn)\n",
    "\n",
    "rn.get_state\n",
    "\n",
    "\n",
    "# Create 20 random numbers between [0,1) with the rand simple random data function\n",
    "#print(rn.rand(20), '\\n') # This array has a random\n",
    "# The numbers will be the same each time once rn's RandomState is created each time\n",
    "#create the random state\n",
    "#print(rn.rand(20), '\\n')\n",
    "#create the random state\n",
    "#print(rn.rand(5), '\\n')\n",
    "\n"
   ]
  },
  {
   "cell_type": "markdown",
   "metadata": {},
   "source": [
    "### Seed\n",
    "\n",
    "seed(`[`seed`]`)takes the value selected to seed the Mersenne twister algorithm and its output. It is not called directly rather it uses the seed as input to generate Mersenne twister.[](https://docs.scipy.org/doc/numpy/reference/routines.random.html). It does not return any value as output. If the seed value is not set with this function or the RandomState function it defaults randomly generated seeds based on the computers internal clock time or internal random generator. Unlike RandomState which only affects the local instance of random method calls, the seed function acts on a global scale and affects all the numpy.random functions. If the RandomState is not set, it is randomly allocated. Seed is used when the same set of random data from the same random state is needed. This is used to test models particularly in machine learning. Its input is an integer or 1 dimensional array and if not specified, a random seed is used as mentioned above. [](https://docs.scipy.org/doc/numpy/reference/generated/numpy.random.seed.html#numpy.random.seed) \n",
    "\n"
   ]
  },
  {
   "cell_type": "code",
   "execution_count": 42,
   "metadata": {
    "scrolled": true
   },
   "outputs": [
    {
     "name": "stdout",
     "output_type": "stream",
     "text": [
      "[ 0.96289454  0.98734909  0.52343224  0.95181244  0.69985227]\n",
      "[  4.17022005e-01   7.20324493e-01   1.14374817e-04   3.02332573e-01\n",
      "   1.46755891e-01]\n",
      "[  4.17022005e-01   7.20324493e-01   1.14374817e-04   3.02332573e-01\n",
      "   1.46755891e-01]\n"
     ]
    }
   ],
   "source": [
    "\n",
    "#changes everytime as seed is randomly set\n",
    "np.random.seed()\n",
    "print(np.random.rand(5))\n",
    "\n",
    "# remains the same as seed is set\n",
    "np.random.seed(1)\n",
    "\n",
    "print(np.random.rand(5))\n",
    "np.random.seed(1)\n",
    "print(np.random.ranf(5))\n"
   ]
  },
  {
   "cell_type": "markdown",
   "metadata": {},
   "source": [
    "Rough work\n",
    "\n",
    "Container for the Mersenne Twister pseudo-random number generator.\n",
    "\n",
    "RandomState exposes a number of methods for generating random numbers drawn from a variety of probability distributions. In addition to the distribution-specific arguments, each method takes a keyword argument size that defaults to None. If size is None, then a single value is generated and returned. If size is an integer, then a 1-D array filled with generated values is returned. If size is a tuple, then an array with that shape is filled and returned.\n",
    "\n",
    "Compatibility Guarantee A fixed seed and a fixed series of calls to ‘RandomState’ methods using the same parameters will always produce the same results up to roundoff error except when the values were incorrect. Incorrect values will be fixed and the NumPy version in which the fix was made will be noted in the relevant docstring. Extension of existing parameter ranges and the addition of new parameters is allowed as long the previous behavior remains unchanged.\n",
    "Parameters:\t\n",
    "\n",
    "seed : {None, int, array_like}, optional\n",
    "\n",
    "    Random seed used to initialize the pseudo-random number generator. Can be any integer between 0 and 2**32 - 1 inclusive, an array (or other sequence) of such integers, or None (the default). If seed is None, then RandomState will try to read data from /dev/urandom (or the Windows analogue) if available or seed from the clock otherwise.\n",
    "\n",
    "Notes\n",
    "\n",
    "The Python stdlib module “random” also contains a Mersenne Twister pseudo-random number generator with a number of methods that are similar to the ones available in RandomState. RandomState, besides being NumPy-aware, has the advantage that it provides a much larger number of probability distributions to choose from. \n",
    "\n",
    "\n",
    "\n",
    "if RandomState is not used then any random numbers generate may differ the next time they are called as they are been seeded from a difference instance of RandomState\n",
    "\n",
    "If you use the functions in the numpy.random namespace, you will not get consistent pseudorandom numbers because they are pulling from a different RandomState instance than the one you just created.\n",
    "\n",
    "\n",
    "\n",
    "\n",
    "Random generator\n",
    "RandomState([seed]) \tContainer for the Mersenne Twister pseudo-random number generator.\n",
    "seed([seed]) \tSeed the generator.\n",
    "get_state() \tReturn a tuple representing the internal state of the generator.\n",
    "set_state(state) \tSet the internal state of the generator from a tuple."
   ]
  },
  {
   "cell_type": "markdown",
   "metadata": {},
   "source": [
    "### get_state\n",
    "\n",
    "get_state has no input and returns a tuple representing the internal state of the generator [](https://docs.scipy.org/doc/numpy/reference/routines.random.html). It outputs 5 items; \n",
    "\n",
    "Firstly, a string 'MT19937' which denotes the Mersenne Twister 19937 generator. Thus there are 19968 states[Ref](https://stackoverflow.com/questions/32172054/how-can-i-retrieve-the-current-seed-of-numpys-random-number-generator) that can be used to generate 2<sup>19968</sup> random values. Its state is an array of 624 32 bit integers. [ref](https://stackoverflow.com/questions/20911147/choose-random-seed-and-save-it). \n",
    "\n",
    "The second output item is this array of 624 unsigned 32 bit integer keys. Hence there is enough bits to represent all the internal states; \n",
    "\n",
    "The third output is a ....; I dont know want the 10 in the third output refers to, but I speculate its something to do with position. \n",
    "\n",
    "The fourth and fifth output refers to generator states for the standard normal variable [ref](https://stackoverflow.com/questions/44313620/converting-to-and-from-numpys-np-random-randomstate-and-pythons-random-random). The Box-Muller transformation is used by numpy which creates pairs of these variables, one for immediate use and one stored for later use. [](https://en.wikipedia.org/wiki/Box%E2%80%93Muller_transform). \n",
    "\n",
    "#### When would you use get_state?\n",
    "You would use get_state when you want to identify the current RandomState used by the Mersenne Twister in numpy.random. "
   ]
  },
  {
   "cell_type": "code",
   "execution_count": 38,
   "metadata": {
    "scrolled": false
   },
   "outputs": [
    {
     "name": "stdout",
     "output_type": "stream",
     "text": [
      "('MT19937', array([2364802715, 2187403540,  211395305,  357004163, 4065411487,\n",
      "       2008837562,  621772689, 1506403180, 2658463310,  257952789,\n",
      "       2434183843, 2432351479, 1896031638, 1023759100, 3903914922,\n",
      "       3100905717, 2805109100, 4090431341, 2174524873, 3310454904,\n",
      "        758875263, 3097247025, 1424346065, 1975298021,  464098055,\n",
      "        143144639,  288282272, 2421837128,  685962185, 1321459122,\n",
      "       3325609441, 1384453805, 1190328291, 2572767598, 1517669722,\n",
      "        131918012, 2699708123, 2569342701, 1467411346, 1763357802,\n",
      "        370678799, 1963891695,  312088909, 2839900675, 3190278940,\n",
      "        874522769, 2048156054, 3757936206,   35957807, 1218802275,\n",
      "       2589213466, 4191186164, 1811008889, 2395011459, 3736849260,\n",
      "        425937927, 2376778482,  306893469, 2261754563, 3299001077,\n",
      "       2886220860, 2043267155, 3231192615, 3356589790,  420972987,\n",
      "       1084001411, 3843139953, 3127399034, 4164889711, 2939692642,\n",
      "        925150429, 4052061477,   52685404,  830451480,  135810400,\n",
      "       1528483840, 3814782848,  586616332, 1906900874, 1184961930,\n",
      "       3941013636, 3796504539,  821048276, 2039613478, 3015784874,\n",
      "       1961993279, 2090602335, 1282282101, 3779358620, 3136468356,\n",
      "       2543935544, 3432513608, 2485038690, 3101321268,  994248776,\n",
      "        202502551, 2616791363, 3437853612, 3905946278, 2216864735,\n",
      "        678516992, 2793942579, 1420183913, 3309028133, 2002075986,\n",
      "       3187982666,  636583483, 2241908872, 2825590082,  434869771,\n",
      "       2742712158, 3335087285, 2783918381, 3123204316, 3437519843,\n",
      "       1325690684,  223783001,  759118424, 1424341184,  992738267,\n",
      "       2693658448, 1423098627, 3156639932,    6857760,  224579628,\n",
      "       1224862823, 4070553876, 3845871772,  429498687,  712588902,\n",
      "       2256828310, 3396138058, 1203170688, 2329159397, 1725345516,\n",
      "       3313588870, 4106919523, 3989262011, 3536882731,  627228052,\n",
      "       1561614094, 1382348536,  975092787, 3212107289, 1873504020,\n",
      "       3388460712, 1815631164, 1860187775, 2751347034,  282071175,\n",
      "        385247668, 1437033404, 3048544452, 2046184267, 1278957517,\n",
      "       4126738394, 4214138092, 2371113296, 3499007027, 4032090018,\n",
      "       1760760986,  121658690, 1855157391,  828200892, 4021885433,\n",
      "        579148083,  517474923, 1241182156,  755704744,  167633240,\n",
      "       3462863266, 3070734719, 3625697551, 2628074045,  503970997,\n",
      "        970138257, 1944659378,  939107174, 4222119588, 1158936055,\n",
      "        166739831,   48673845, 3260742855, 1374804863, 3479562459,\n",
      "        178878093, 2818810459, 2675992291, 1593087959, 1804720368,\n",
      "       2260107342, 1946810732,  855307850, 2984304336,  623365192,\n",
      "       3008011680, 4085110567, 4209292364, 3307516715, 3325847712,\n",
      "       4156885711, 3807575898, 2232579360, 1689674059, 2902994455,\n",
      "        537043952,  831166287, 2458271109,  757852224, 1201846705,\n",
      "       3614706924, 2143830914,  227448236,  449297707,  714086186,\n",
      "       1199911298, 2673404516, 1949067452, 1336080944, 2847707553,\n",
      "          4424357,  641877884, 4222803946, 3914153592,  377565396,\n",
      "       2582191164,  267242469, 3029250033,  900764598, 3506490887,\n",
      "        800697867, 3420884030, 2334482880, 1925551241, 2032395714,\n",
      "       3448146800,  459118594, 3999079370, 2167562577, 3221383566,\n",
      "       3019105951, 1555137694, 1963479059, 2474872567, 2161760144,\n",
      "        717113794, 1893135072, 2120407606,  288402162, 1856377149,\n",
      "       3452283222, 4078499705,  381788407, 4151062195, 2019719704,\n",
      "       2043444012,  334770984, 2744259220, 3725049268,  917905470,\n",
      "       2113616992,  993836970, 1100848593, 3948020227, 1526387273,\n",
      "       1761513391, 2614602045, 3802763520, 2806048576, 1157907577,\n",
      "       1987347533, 3270550796, 2801416913, 2683417642, 1906008538,\n",
      "       3737267874, 3768135040, 3761678311,  887864722, 2806360207,\n",
      "       2682349865, 1065001736,  312117742, 2370304875, 4255860995,\n",
      "       3872101769,  734672469, 3804546339, 4125501355, 3210466515,\n",
      "        410641745, 3682409168, 2432103469,  544511368,  542936907,\n",
      "        885220095,  632423152,  347948145, 3625335850,  726757687,\n",
      "       1351193074, 2348540978, 2306070945,  708864287,  403835306,\n",
      "       3067702605, 3242352064, 1693078699, 1612969592, 2317446457,\n",
      "       1940690814, 2187897216,  663642182,  103051878,  910420449,\n",
      "       2158946490, 3726414100,  798316631, 3053410965, 1798861673,\n",
      "       3678127679, 3912210994, 1006113902, 2259137499, 1693166900,\n",
      "       3216693701,  760494991, 3581088013, 2489536449, 4032233852,\n",
      "       4067784981,  191005822, 3050335897, 2149418751,  545632704,\n",
      "       1636916555,  690737563, 4017051517, 1924168404,  439161808,\n",
      "       2741647650,  144834709,  769788320, 2652444833,  683749794,\n",
      "        713737678, 3517232665,  547648702, 2619349920, 3754253215,\n",
      "       3198241909, 3425255997, 3213021248,  597086014, 3307945968,\n",
      "       3083160036,   59702709, 2589062626, 2596012664, 1062497317,\n",
      "       1082986136, 2122416795, 2216383417, 3981438720, 3648367628,\n",
      "       3347699678, 1089642181,   94470278, 3126897687, 2347657548,\n",
      "       2818124737, 4211191052, 1012255600, 3613364174, 3597261399,\n",
      "       3884708832, 3083565681, 2452164635, 2856813024, 4003118736,\n",
      "       2686847971, 3171216293, 1137690435, 2734556772, 3523165659,\n",
      "       3990124665, 3327042004,  214574833, 1376955177,  771895750,\n",
      "       3167559678,  810045286, 1794866987,  314516524,  926327817,\n",
      "       3191643118, 3374692249, 1315346077, 3142333619,   36379421,\n",
      "       1180204889, 2310828119, 3965111223, 3387382725,  942251318,\n",
      "       1696890140, 2278840024, 3943295976, 4212673836, 4111566369,\n",
      "        209602232, 2286616758, 1103411964, 3144024429, 1458356314,\n",
      "        621473220,  229681505, 1357642649, 2530188884, 3513565693,\n",
      "       1159999140, 1427210737, 4081425475, 1988307223,  601367977,\n",
      "       2498890559, 2131008842, 4115641690, 2490359461, 1151735089,\n",
      "       1477785037, 3182361297, 1239900397, 1271807985, 3676418191,\n",
      "        679244955, 1381353765, 2511072603, 2652355686, 1520113364,\n",
      "       3614660920, 2457687750, 2699738338, 2968167652, 3620177125,\n",
      "       1929290455, 2771679751, 3623788884, 2465686620,   15111383,\n",
      "       1529712217, 3214468377, 3250283779, 2908525957, 1389769199,\n",
      "       1539207471,  619257810, 1053270407, 3021010019, 1880644298,\n",
      "        365507475, 4122539808, 1044228314, 1679110839, 1138133880,\n",
      "       2476815340, 3086152919,  840068369, 3824839567, 3899169077,\n",
      "        580063467, 2666157945, 1898888719, 4061248179, 1882382437,\n",
      "       2337372132, 3102365260, 3812159269, 1082957830,  887204930,\n",
      "        770922770, 1797370352, 1046732851,   41856403,  168297858,\n",
      "        102812862, 3362654469, 2090245657, 3629768518, 3439124506,\n",
      "        360142360, 4077576444,   29358043, 2025904177,  882598120,\n",
      "       1920966100, 3333729005,  778819218, 3921630951, 2990592907,\n",
      "       1622622234,  872053850, 2094093446, 4130201258, 2681594437,\n",
      "       3921189969, 1435208787, 1114397662, 3239834284, 2035375898,\n",
      "       1747497392,  245290867, 4155790673, 2350312841, 2808815010,\n",
      "       3280283634, 4112497425, 2162647973, 4263540407, 2871763984,\n",
      "       1073388308,  369093713, 2574569237, 2599207810,  791810876,\n",
      "       3635087119, 2022882324, 3466675185, 3073428357,   20271324,\n",
      "        926170538, 2306220227, 3762436133, 1222369894,  133574807,\n",
      "        280576601, 2514687937, 1499564755,  910840095, 4279085580,\n",
      "       2573252702, 3354279989,  164005924, 2224302544, 3867763847,\n",
      "       2448345605, 1542538947, 3298243076, 1121799661, 3010271955,\n",
      "       3647712427, 3841913373,  528124688, 1692596091, 2033041159,\n",
      "       3291748884, 1605408156, 2243572200, 2998378611,  492155604,\n",
      "       2804306738, 1217554737, 3779183954, 3404653689, 3461148216,\n",
      "       2479723788, 2133226598, 3949808799, 2781540953, 1795726623,\n",
      "        970189990, 1037281504, 4234103931, 1984810014, 3579393943,\n",
      "        648332407,  432198168,  100730838,   49585588, 3130868245,\n",
      "       3192213179, 3121160355,  324503454, 2576364546, 2150710984,\n",
      "       4019539323, 3425384634, 2207159102, 4193834776, 3787385958,\n",
      "       1454682298, 1544527145,  268863209, 3084641923, 3103271394,\n",
      "        854839004, 2190188007, 3610616885, 1506923222, 1056273232,\n",
      "        440871436, 1286921076, 3942807354, 3283589415, 3737872255,\n",
      "       3781906474, 2584074639,  264349883, 3776232981, 1218102738,\n",
      "       1354236951, 1413683818, 2003971575, 3802489169, 2732690946,\n",
      "       2384235407, 1668905509, 1646198421,   60745000, 1094023638,\n",
      "       3004838730,  276569519,  837459826,  374801419], dtype=uint32), 265, 0, 0.0)\n",
      "265\n",
      "0\n",
      "0.0\n"
     ]
    }
   ],
   "source": [
    "#print(np.random.get_state())\n",
    "\n",
    "# adapted from https://stackoverflow.com/questions/45190558/direct-way-to-access-numpy-randomstate-object/45190832#45190832\n",
    "\n",
    "state = np.random.get_state()\n",
    "np.random.rand()\n",
    "print(state)\n",
    "\n",
    "#print(np.random.set_state(state))\n",
    "\n",
    "np.random.rand()\n",
    "\n",
    "#print(state[0]) # the algorithm used MT (2**19937) - 1 \n",
    "#print(state[1]) # used in representing the internal states\n",
    "print(state[2]) # ??? is this the state number?? it goes up in 4's every time its executed some sort of counter - restart python and see if it resets\n",
    "# it seems to have gone back to 10 - comment out the other random state calls above and see if it goes back to 2\n",
    "# is it a number that counts the number of times the random state is called in a particular session? no that didn't do anything - turn off and one jp and see if that does something\n",
    "print(state[3]) # used in the box muller transformation of the MT\n",
    "print(state[4]) # used in the box muller transformation of the MT"
   ]
  },
  {
   "cell_type": "markdown",
   "metadata": {},
   "source": [
    "### set_state\n",
    "\n",
    "If you want to use a specific RandomState you can set it with the set_state function. Set state allows the internal state of the Mersenne Twister to be fixed. \n",
    "\n",
    "numpy.random.set_state has one input, the state of the RandomState required. The state is a tuple with five entries as per get_state A string identifying the version of the Mersenne Twister used, in this case its MT19937 which is also the version of the algorithm used by Python. The next value is the list of the 624 unsigned integer keys. Then the pos value (not sure what this. The last two items in the tuple refers to generator states for the standard normal variable [ref](https://stackoverflow.com/questions/44313620/converting-to-and-from-numpys-np-random-randomstate-and-pythons-random-random). \n",
    "\n",
    "It is not necessary to input this tuple manually. get_state and set_state are used in conjunction to identify the state via get_state and to set it via set_state\n",
    "\n",
    "e.g. [ref](https://stackoverflow.com/questions/45190558/direct-way-to-access-numpy-randomstate-object)\n",
    "\n"
   ]
  },
  {
   "cell_type": "code",
   "execution_count": 53,
   "metadata": {},
   "outputs": [
    {
     "name": "stdout",
     "output_type": "stream",
     "text": [
      "[ 0.60048896  0.81461918  0.05411366  0.13051067  0.84244581  0.61834587\n",
      "  0.53128781  0.24829073  0.29507858  0.87268616] \n",
      "\n",
      "[ 0.60048896  0.81461918  0.05411366  0.13051067  0.84244581  0.61834587\n",
      "  0.53128781  0.24829073  0.29507858  0.87268616] \n",
      "\n",
      "state is not set this time \n",
      " [ 0.42166593  0.06443026  0.89698507  0.20338083  0.82622754  0.88177062\n",
      "  0.48675074  0.59846469  0.52726746  0.62482129] \n",
      "\n"
     ]
    }
   ],
   "source": [
    "state = np.random.get_state()\n",
    "print(np.random.rand(10),\"\\n\")\n",
    "\n",
    "np.random.set_state(state)\n",
    "print(np.random.rand(10),\"\\n\")\n",
    "\n",
    "print(\"state is not set this time \\n\", np.random.rand(10),\"\\n\")"
   ]
  },
  {
   "cell_type": "markdown",
   "metadata": {},
   "source": [
    "\n",
    "# Reference\n",
    "\n",
    "Idris, I. (2015). NumPy: Beginner's Guide - Third Edition. 3rd ed. BIRMINGHAM - MUMBAI: Packt Publishing. \n",
    "\n",
    "McKinney, W. (2018). Python for data analysis. Beijing [i 4 pozostałe]: O'Reilly.\n",
    "\n",
    "Docs.scipy.org. (2018). Random sampling (numpy.random) — NumPy v1.15 Manual. [online] Available at: https://docs.scipy.org/doc/numpy-1.15.1/reference/routines.random.html [Accessed 20 Oct. 2018].\n",
    "\n",
    "Vo. T.H, P., Czygan, M., Kumar, A. and Raman, K. (2017). Python. Birmingham: Packt Publishing.\n",
    "\n",
    "McLeod, S. (2018). Sampling Methods | Simply Psychology. [online] Simplypsychology.org. Available at: https://www.simplypsychology.org/sampling.html [Accessed 20 Oct. 2018].\n",
    "\n",
    "En.wikipedia.org. (2018). Simple random sample. [online] Available at: https://en.wikipedia.org/wiki/Simple_random_sample [Accessed 20 Oct. 2018].\n",
    "\n",
    "Mehta, H. (2015). Mastering Python scientific computing. 1st ed. Birmingham: Packt Publishing."
   ]
  },
  {
   "cell_type": "code",
   "execution_count": null,
   "metadata": {
    "scrolled": true
   },
   "outputs": [],
   "source": []
  },
  {
   "cell_type": "code",
   "execution_count": null,
   "metadata": {
    "scrolled": true
   },
   "outputs": [],
   "source": []
  }
 ],
 "metadata": {
  "kernelspec": {
   "display_name": "Python 3",
   "language": "python",
   "name": "python3"
  },
  "language_info": {
   "codemirror_mode": {
    "name": "ipython",
    "version": 3
   },
   "file_extension": ".py",
   "mimetype": "text/x-python",
   "name": "python",
   "nbconvert_exporter": "python",
   "pygments_lexer": "ipython3",
   "version": "3.6.6"
  }
 },
 "nbformat": 4,
 "nbformat_minor": 2
}
