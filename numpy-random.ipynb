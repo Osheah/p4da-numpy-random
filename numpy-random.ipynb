{
 "cells": [
  {
   "cell_type": "markdown",
   "metadata": {},
   "source": [
    "\n",
    "\n",
    "# Assignment - Explain the numpy.random package\n",
    "\n",
    "![numpylogo](img/numpy.jpeg)\n",
    "\n",
    "\n",
    "\n",
    "## Why are random numbers needed? \n",
    "\n",
    "The ability to generate random numbers has many useful applications. Say a researcher is interested in the effectiveness of a new ulcer drug. The population of interest is every person with ulcers. It would impractically costly and time-consuming contact everyone with ulcers, give them the drug and then compare before and after reports. Indeed, the population of people with ulcers as a total population would be impossible to judge as many people may have ulcers without ever seeking treatment.\n",
    "\n",
    "## Why take samples?\n",
    "The researcher needs to take a sample from this population. This sample should be big enough and diverse enough so that it fairly represents the wider population. The sample data is used to make **generalisations** about its population. For example, the drug’s effectiveness in a sample containing only men with ulcers aged seventy or over is unlikely to represent its effectiveness on women half that age. Sampling involves taking a sufficiently sized subset of a given population that accurately reflects the phenomena under investigation so that information from the sample can be used to infer things from the overall population. It is vital then that *the sample shares the same characteristics as its target population*. \n",
    "\n",
    "## Problems with picking samples \n",
    "Picking samples that represent a population is prone to **biases**. For example, if asked to pick a number at random between 1 and 10 there will be far more 3's and 7's than would be expected if the choice was truly random [ref](https://micro.magnet.fsu.edu/creatures/pages/random.html).\n",
    "\n",
    "One way to reduce sampling bias is to use **random sampling**. Random sampling means that every item in the target population has an *equal* chance of being selected. In the example above, the target population would be the numbers between 1 and 10 inclusive and random sampling means that each number in this interval would have an equal probability of being selected. \n",
    "\n",
    "If random sampling is not used then certain elements of the population are favoured over others which skews the results and limits its generalising ability. In reality, it is often difficult to define the target population and its sample precisely so that only the phenomena in question is investigated.  \n",
    "\n",
    "![Literary Digest](img/digest.jpg)\n",
    "\n",
    "For example in 1936 there was a phone poll conducted by The Literary Digest which predicted that the Republican Alfred Landon would win the election 57% to 43% from the Democrat F.D.Roosevelt. However, the actual results from the election was 62% in favour of FDR. The problem was sample bias. Only people with phones were polled and they were more likely to vote Republican in depression era America. People with phones were also more likely to come from a more affluent background and were not as likely to be moved by FDR’s new deal rhetoric. [Ref]( https://www.math.upenn.edu/~deturck/m170/wk4/lecture/case1.html). Random sampling does not remove sample bias but it does limit one aspect of it, biases introduced by favouring subsets of the target population rather than then every element being as likely to be selected as every other one.   \n",
    "\n",
    "## Algorithms and random numbers\n",
    "\n",
    "Computing algorithms are deterministic. They cannot generate true randomness without using some external piece of information. \n",
    "\n",
    "![lave lamps](img/lava.jpg)\n",
    "\n",
    "\n",
    "For example the DNS service Cloudflare uses its lava lamps in its head office to help generate the randomness needed for its cryptography [ref]( https://blog.cloudflare.com/randomness-101-lavarand-in-production/). Many areas of science and computing do not need true randomness. In fact, some areas require predictable ‘randomness’ so that model parameters can be tested with the same random ‘noise’. Computer algorithms use **pseudo random numbers** (Idris, 2015). To all appearances these look random but if a key piece of information is known, the whole random sequence can be predicted. There are several **pseudo random number generator** (PRNG) algorithms. \n",
    "\n",
    "One of the most widely used PRNG is the *Mersenne Twister*. A Mersenne number is one less than a power of 2. The twister aspect refers to its period length being a Mersenne prime which is ‘twisted’ by various transformations when random numbers are generated. A commonly used Mersenne twister uses 19937 as its power.  This algorithm takes a ‘seed’ value as a starting point. This is initialised into a state and transformed via reversable and non-reversable transformations in order to generate the pseudo random numbers PRN. [Ref](https://www.cryptologie.net/article/331/how-does-the-mersennes-twister-work/). The Mersenne Twister is not secure enough for cryptology however it a useful and widely used all purpose PRNG [Ref]( https://en.wikipedia.org/wiki/Mersenne_Twister).  \n",
    "\n",
    "## Random numbers in Python\n",
    "\n",
    "![python logo](img/python.png)\n",
    "\n",
    "Python has an in built random package *random*. NumPy extends this by adding extra functionality and methods in its *numpy.random* package. Both Python and Numpy.random use the Mersenne twister 19937 algorithm to generate PRNs.\n",
    "\n",
    "## Why use NumPy for generating random numbers\n",
    "\n",
    "Python's random method generates a random float number uniformly from the interval 0 inclusive to 1 exclusive [Ref]( https://docs.python.org/3/library/random.html). .random has many of the functions and methods contained in numpy.random so *why use numpy.random*?\n",
    "\n",
    "The main reason numpy.random is used over Python’s random.random package is that NumPy is designed to work with n dimensional arrays. Numpy uses less memory and is faster than lists used in the default python.   NumPy is specialised for scientific operations and has more advanced mathematical functionality than Python. It is especially useful for manipulating numerical data that can be arranged in matrices [ref](https://metaspace.blog/programming/python/python-numpy-basics/). \n",
    "\n",
    "PRN’s can be arranged in arrays, a speciality in NumPy. Numpy.random and python’s default random.random have similar functions and methods but numpy.random has some extra probability distributions common to scientific research and some extra simple random data convenience functions.  Neither are suitable for cryptography purposes. [ref](https://stackoverflow.com/questions/7029993/differences-between-numpy-random-and-random-random-in-python). \n",
    "\n",
    "The functions and methods offered in numpy.random are\n",
    "\n",
    "* simple random data\n",
    "* permutations\n",
    "* distributions\n",
    "* random generator\n",
    "\n",
    "*Simple random data* section consist of several functions that generate simple random data.Inputs can be size or range. *Permutation* functions randomly shuffle or permutes a given sequence. *Distribution* functions allow specific population distributions or ranges to be sampled. This may require statistical measures such as mean and standard deviation. Numpy.random can generate samples from continuous and descrite distributins (Idris, 2015). Lastly, the *random generator* section contains functions that allow seeds to be specified (Mehta, 2015). This is useful in cases where the exact same sequence of random data is required. Each of these sections will be explored. \n",
    "\n",
    " "
   ]
  },
  {
   "cell_type": "markdown",
   "metadata": {},
   "source": [
    "## What does Simple random data do?\n"
   ]
  },
  {
   "cell_type": "markdown",
   "metadata": {},
   "source": [
    "There are 10 simple random data functions in numpy.random namely\n",
    "\n",
    "1. rand\n",
    "2. randn\n",
    "3. randint\n",
    "4. random_integers\n",
    "5. random_sample\n",
    "6. random\n",
    "7. randf\n",
    "8. sample\n",
    "9. choice\n",
    "10. bytes\n",
    "\n",
    "[ref](https://docs.scipy.org/doc/numpy-1.15.1/reference/routines.random.html). Of these random, ranf and sample [](https://stackoverflow.com/questions/18829185/difference-between-various-numpy-random-functions)are aliases of random_sample, with similar inputs and outputs. In addition rand and randn are convenience functions, meaning that their functionality can be achived by Python's in built functions. Each of these functions are used to generate simple random data of various sizes or shapes over various intervals or ranges. Which function is used depends on the requirments. \n"
   ]
  },
  {
   "cell_type": "markdown",
   "metadata": {},
   "source": [
    "### Import libraries"
   ]
  },
  {
   "cell_type": "code",
   "execution_count": 47,
   "metadata": {
    "scrolled": true
   },
   "outputs": [],
   "source": [
    "#Import packages numpy and matplotlib.pyplot\n",
    "import numpy as np\n",
    "import random\n",
    "import matplotlib.pyplot as plt\n",
    "import pandas as pd\n",
    "# display pyplot in jupyter notebook\n",
    "%matplotlib inline"
   ]
  },
  {
   "cell_type": "markdown",
   "metadata": {},
   "source": [
    "### Python's default random function\n",
    "\n",
    "Python has the built in random function for generating simple random data."
   ]
  },
  {
   "cell_type": "code",
   "execution_count": 2,
   "metadata": {
    "scrolled": true
   },
   "outputs": [
    {
     "name": "stdout",
     "output_type": "stream",
     "text": [
      "Simple random data from python's inbuilt random function \n",
      "\n",
      "0.09912408975733789 \n",
      "\n",
      "Simple random data from python's inbuilt random function uniformly distriubted between 0 and 1 \n",
      "\n",
      "0.15109033882060585\n"
     ]
    }
   ],
   "source": [
    "r1 = random.random()\n",
    "print(\"Simple random data from python's inbuilt random function\", '\\n')\n",
    "print(r1, '\\n')\n",
    "print(\"Simple random data from python's inbuilt random function uniformly distriubted between 0 and 1\", '\\n')\n",
    "r2 = random.uniform(0,1)\n",
    "print(r2)"
   ]
  },
  {
   "cell_type": "markdown",
   "metadata": {},
   "source": [
    "numpy.random extends this, adding extra functions and methods.[ref](https://docs.scipy.org/doc/numpy-1.15.1/reference/routines.random.html) \n",
    "\n",
    "\n",
    "|Simple Random Data| Input                       | Output                                                           |\n",
    "| -----------------|:------------------------    | :--------------------------------------------------------------- |\n",
    "| rand             | d0, d1, …, dn               | Random values in a given shape                                   |               \n",
    "| randn            | d0, d1, …, dn               | sample (or samples) from the “standard normal” distribution      |              \n",
    "| randint          | low`[, high, size, dtype]`  | Return random integers from low (inclusive) to high (exclusive)  |            \n",
    "| random_integers  | low`[, high, size])` \t     | Random integers of type np.int between low and high, inclusive.  |\n",
    "| random_sample    | `[size]`                    | Random floats in the half-open interval `[0.0, 1.0)`             |               \n",
    "| random           | `[size]`                    | Random floats in the half-open interval `[0.0, 1.0)`             |               \n",
    "| ranf             | `[size]`                    | Random floats in the half-open interval `[0.0, 1.0)`             |               \n",
    "| sample           | `[size]`                    | Random floats in the half-open interval `[0.0, 1.0)`             |               \n",
    "| choice           | `a[, size, replace, p]`     | Generates a random sample from a given 1-D array                 |                     \n",
    "| bytes            | length                      | Random bytes                                                     |      \n",
    "\n",
    "### rand\n",
    "\n",
    "rand(d0, d1, ..., dn) outputs random values in a given shape. Shape refers to the arrangment of the arrays. eg. a input of  (1)is a single 1x1 matrix array, an input of (2,3) is  a 2x3 matrix array (number of rows x columns) while an input of (2,3,4) is 2 arrays consisting each consisting of 3x4 matrix arrays. \n",
    "rand is a convenience or helper function. It creates random values in a given shape [ref](https://docs.scipy.org/doc/numpy-1.15.1/reference/generated/numpy.random.rand.html#numpy.random.rand). Inputs are non negative integers, although 0 returns an empty array.  If no input is given a single number is outputed. Output arrays come from the uniform distribution (i.e. each number has the same probability of being selected) between 0 inclusive and 1 exclusive `[0, 1)` \n",
    "\n",
    "#### When would you use rand?\n",
    "Use rand if you want to generate random values from a uniform semi closed interval `[0,1)` to populate matrices (rows by columns) of a given size; note single floats can be generated with empty parameters and single element arrays can be generated with argument 1. It is similar to Python's random.random but extends the input to accept different array sizes [ref](https://docs.python.org/3/library/random.html).\n",
    "\n",
    "\n"
   ]
  },
  {
   "cell_type": "code",
   "execution_count": 3,
   "metadata": {
    "scrolled": true
   },
   "outputs": [
    {
     "name": "stdout",
     "output_type": "stream",
     "text": [
      "Generate a 2x4 matrix and fill it with random numbers \n",
      "\n",
      "[[ 0.89547834  0.39164581  0.1032664   0.59614864]\n",
      " [ 0.96495697  0.68495705  0.58590253  0.17220345]] \n",
      "\n",
      "Generate a single float \n",
      "\n",
      "0.2879539251391978 \n",
      "\n",
      "Generate a 1-d matrix \n",
      "\n",
      "[ 0.62800018] \n",
      "\n"
     ]
    }
   ],
   "source": [
    "print(\"Generate a 2x4 matrix and fill it with random numbers\", \"\\n\")\n",
    "print(np.random.rand(2,4), \"\\n\")\n",
    "print(\"Generate a single float\", \"\\n\")\n",
    "print(np.random.rand(),\"\\n\")\n",
    "print(\"Generate a 1-d matrix\", \"\\n\")\n",
    "print(np.random.rand(1),\"\\n\")\n"
   ]
  },
  {
   "cell_type": "markdown",
   "metadata": {},
   "source": [
    "### randn\n",
    "\n",
    "randn((d0, d1, ..., dn) outputs a sample(s) from the “standard normal” distribution N(0,1).\n",
    "Randn is similar to rand but takes its random numbers from the standard normal distrubution with mean 0 and standard deviation 1 N(0,1)[ref](https://docs.scipy.org/doc/numpy-1.15.1/reference/generated/numpy.random.randn.html#numpy.random.randn). It is similar to the standard_normal distrubution in NumPy.random however standard_normal can have tuples as arguments. Randn's arguements must be positive integers or integer like (such as int(1.02)). Like rand, it is a convenience function with inputs for sizes. If no input given a single random number (float) from the standard normal distribution is outputted. Outputs take the form of n dimentional arrays in the shape specifed by the inputs. If a non standard normal distribution N(m,sd<sup>2</sup>) is required, the transformation m + sd * np.random.rand() can be applied. \n",
    "\n",
    "#### When would you use randn?\n",
    "Use randn If you want to generate random values in a specified shape with values taken from the standard normal distrubution centered in a bell curve round 0 with most values falling between -3 and 3. Unlike rand - negative values can be returned. "
   ]
  },
  {
   "cell_type": "code",
   "execution_count": 4,
   "metadata": {
    "scrolled": true
   },
   "outputs": [
    {
     "name": "stdout",
     "output_type": "stream",
     "text": [
      "No input given  - single random float returned \n",
      "\n",
      "-0.8643715942807547 \n",
      "\n",
      "1 input given  - single random array from N(0,1) \n",
      "\n",
      "[-0.59881027] \n",
      "\n",
      "5 outputs a 1x1 array of 5 random floats from N(0,1) \n",
      "\n",
      "[ 1.4361698  -1.33763079 -0.85240646  1.45144442  0.75515622] \n",
      "\n",
      "outputs 2 arrays of 3x4 matrices filled with random numbers from N(0,1) \n",
      "\n",
      "[[[ 1.71216128  0.36115343 -0.547966   -0.84540779]\n",
      "  [-0.6624524  -0.91872788 -1.31806102 -0.88746461]\n",
      "  [-1.52747177 -0.02254288  0.09458488 -0.49060074]]\n",
      "\n",
      " [[ 0.03691526  0.20225109 -0.80191427 -0.87510189]\n",
      "  [ 0.5644141  -1.63070252  0.22292404 -0.1907177 ]\n",
      "  [-0.08314687  1.31495334  0.55305862  0.13484474]]] \n",
      "\n"
     ]
    }
   ],
   "source": [
    "print(\"No input given  - single random float returned\", \"\\n\")\n",
    "print(np.random.randn(), \"\\n\")\n",
    "\n",
    "print(\"1 input given  - single random array from N(0,1)\",\"\\n\")\n",
    "print(np.random.randn(1),'\\n')\n",
    "\n",
    "print(\"5 outputs a 1x1 array of 5 random floats from N(0,1)\",\"\\n\")\n",
    "print(np.random.randn(5),'\\n')\n",
    "\n",
    "print(\"outputs 2 arrays of 3x4 matrices filled with random numbers from N(0,1)\",\"\\n\")\n",
    "print(np.random.randn(2,3,4),'\\n')\n"
   ]
  },
  {
   "cell_type": "markdown",
   "metadata": {},
   "source": [
    "To see the shape of the distribution plot a histogram. This is the standard normal distrubution around 0 with standard deviation 1.  "
   ]
  },
  {
   "cell_type": "code",
   "execution_count": 5,
   "metadata": {
    "scrolled": true
   },
   "outputs": [
    {
     "data": {
      "text/plain": [
       "(array([ 1003.,   989.,   968.,   977.,  1010.,  1025.,   963.,  1053.,\n",
       "         1022.,   990.]),\n",
       " array([  2.46900627e-05,   1.00017620e-01,   2.00010549e-01,\n",
       "          3.00003478e-01,   3.99996408e-01,   4.99989337e-01,\n",
       "          5.99982267e-01,   6.99975196e-01,   7.99968126e-01,\n",
       "          8.99961055e-01,   9.99953985e-01]),\n",
       " <a list of 10 Patch objects>)"
      ]
     },
     "execution_count": 5,
     "metadata": {},
     "output_type": "execute_result"
    },
    {
     "data": {
      "image/png": "[encoded data removed]",
      "text/plain": [
       "<matplotlib.figure.Figure at 0x1c8ef3d3cc0>"
      ]
     },
     "metadata": {
      "needs_background": "light"
     },
     "output_type": "display_data"
    }
   ],
   "source": [
    "plt.subplot(1,2,1)\n",
    "x = np.random.randn(10000)\n",
    "plt.title(\"Standard Normal - randn\")\n",
    "plt.hist(x)\n",
    "plt.subplot(1,2,2)\n",
    "x = np.random.rand(10000)\n",
    "plt.title(\"Uniform - rand\")\n",
    "plt.hist(x)"
   ]
  },
  {
   "cell_type": "markdown",
   "metadata": {},
   "source": [
    "To shift the distribution from standard normal  to n N(m,sd<sup>2</sup>) use the transformation m + sd * np.random.rand()"
   ]
  },
  {
   "cell_type": "code",
   "execution_count": 6,
   "metadata": {
    "scrolled": true
   },
   "outputs": [
    {
     "name": "stdout",
     "output_type": "stream",
     "text": [
      "outputs random numbers from N(2, 9) \n",
      "\n",
      "this shifts the plot left to centre it round 2 with a spread of 9\n"
     ]
    },
    {
     "data": {
      "image/png": "[encoded data removed]",
      "text/plain": [
       "<matplotlib.figure.Figure at 0x1c8ef5daf60>"
      ]
     },
     "metadata": {
      "needs_background": "light"
     },
     "output_type": "display_data"
    }
   ],
   "source": [
    "print(\"outputs random numbers from N(2, 9)\",\"\\n\")\n",
    "plt.hist(2+3*np.random.randn(1000))\n",
    "print(\"this shifts the plot left to centre it round 2 with a spread of 9\")"
   ]
  },
  {
   "cell_type": "markdown",
   "metadata": {},
   "source": [
    "### randint\n",
    "\n",
    "randint((low`[, high, size, dtype]`))outputs random integers from low (inclusive) to high (exclusive). \n",
    "randint is differs from the two above functions in that it returns integers within a specifeid interval low (inclusive) to high (exclusive). Integers are returned from the discrete uniform distribution [ref](). Whereas rand returned numbers from the continous uniform distribution between `[0,1)`. Randint expands this interval by returing values from `[low,high)`. If no arguments are given an error is returned. If one argument is given, say h then this is assumed to be the higher bound and positive and the lower bound is 0 `[0, h)`.  Size can also be specified e.g. if 10 random numbers are required between `[0, 5)` the arguments would be (0,5,10). Data type can also be specified, the default is np.int. dTypes relate to the way memory blocks are interpreted [ref](https://stackoverflow.com/questions/9457037/what-does-dtype-do).   \n",
    "\n",
    "#### When would you use randint?\n",
    "randint would be used when integers rather than floats are required and the integers lie within a certain range. e.g. generate a random number between 1 and 10 inclusive"
   ]
  },
  {
   "cell_type": "code",
   "execution_count": 7,
   "metadata": {
    "scrolled": true
   },
   "outputs": [
    {
     "name": "stdout",
     "output_type": "stream",
     "text": [
      "Generate a random number between 1 and 10 inclusive \n",
      "\n",
      "8 \n",
      "\n",
      "Generate 3 random number between 1 and 10 inclusive \n",
      "\n",
      "[1 7 8] \n",
      "\n",
      "Generate a random positive number less than 4 \n",
      "\n",
      "1 \n",
      "\n",
      "Generate a random integer between -5 and 5 inclusive  \n",
      "\n",
      "2 \n",
      "\n"
     ]
    }
   ],
   "source": [
    "print(\"Generate a random number between 1 and 10 inclusive\",\"\\n\")\n",
    "print(np.random.randint(1, 11),\"\\n\")\n",
    "\n",
    "print(\"Generate 3 random number between 1 and 10 inclusive\",\"\\n\")\n",
    "print(np.random.randint(1, 11, 3),\"\\n\")\n",
    "\n",
    "print(\"Generate a random positive number less than 4\",\"\\n\")\n",
    "print(np.random.randint(4),\"\\n\")\n",
    "\n",
    "print(\"Generate a random integer between -5 and 5 inclusive \",\"\\n\")\n",
    "print(np.random.randint(-5, 6),\"\\n\")"
   ]
  },
  {
   "cell_type": "markdown",
   "metadata": {},
   "source": [
    "### random_integers\n",
    "\n",
    "random_integers(low`[, high, size]`) outputs random integers of type np.int between low and high, inclusive. Size refers to the number of random values required from the specified interval. This function is no longer maintained. \n",
    "\n",
    "Random_integers is very similar to randint, both return integers from a discrete uniform distribution. However random_integers is inclusive of the higher range value `[low, high]`. This function is deprecated i.e replaced, in favour of randint. Thus when called by python a warning will display, although the function will still work. Both randint and random_integers can use the transformation  a + (b - a) * (np.random.random_integers(N) - 1) / (N - 1) to give N evenly spaced integers between a and b but random_integers includes the b value whereas randind does not.\n",
    "\n",
    "#### When would you use random_integers?\n",
    "You wouldn't. The function is retired in favour of randint which was discussed above. It will still work but python will give a warning when its used.  "
   ]
  },
  {
   "cell_type": "code",
   "execution_count": 8,
   "metadata": {
    "scrolled": true
   },
   "outputs": [
    {
     "name": "stdout",
     "output_type": "stream",
     "text": [
      "Output 10 1's or 0's randomly \n",
      "\n",
      "[0 1 1 0 1 0 1 1 0 1] \n",
      "\n"
     ]
    },
    {
     "name": "stderr",
     "output_type": "stream",
     "text": [
      "C:\\ProgramData\\Anaconda3\\lib\\site-packages\\ipykernel_launcher.py:2: DeprecationWarning: This function is deprecated. Please call randint(0, 1 + 1) instead\n",
      "  \n"
     ]
    }
   ],
   "source": [
    "print(\"Output 10 1's or 0's randomly\", \"\\n\")\n",
    "print(np.random.random_integers(0,1, 10), '\\n')\n"
   ]
  },
  {
   "cell_type": "markdown",
   "metadata": {},
   "source": [
    "To specify intervals equally spaced..... ## add stuff here\n",
    "\n",
    "a,b,N=3,5,10\n",
    "print(a + (b - a) * (np.random.random_integers(N) - 1) / (N - 1), '\\n')\n",
    "print(a + (b - a) * (np.random.randint(N) - 1) / (N - 1))"
   ]
  },
  {
   "cell_type": "markdown",
   "metadata": {},
   "source": [
    "### random_sample (random, ranf and sample)\n",
    "\n",
    "random_sample(`[size]`) outputs random floats in the half-open interval `[0.0, 1.0)` [ref](https://docs.scipy.org/doc/numpy-1.15.1/reference/generated/numpy.random.random_sample.html#numpy.random.random_sample).\n",
    "Random_sample and its aliases [ref](https://stackoverflow.com/questions/18829185/difference-between-various-numpy-random-functions) random [ref](https://docs.scipy.org/doc/numpy-1.15.1/reference/generated/numpy.random.random.html#numpy.random.random), ranf [ref](https://docs.scipy.org/doc/numpy-1.15.1/reference/generated/numpy.random.ranf.html#numpy.random.ranf) and sample [ref](https://docs.scipy.org/doc/numpy-1.15.1/reference/generated/numpy.random.sample.html#numpy.random.sample) . unlike randint which returned random values from the descrite uniform distribution `[low, high)` and rand which populates arrays with random values in a given shape, random_sample returns random floats from the continous uniform distrubtion `[0,1)`. It's input is size i.e. the number of random values required. To expand values outside of U`[0,1)` to cover U`[a, b)` the transformation a +  (b - a)`*` random_sample() can be used. the size can be an integer or tuples of integers (a,b,c) \n",
    "\n",
    "#### When would you use random_sample or its aliases?\n",
    "random_sample is used when random floats are required from the continous uniform distrubution in the interval 0 inclusive to 1 exclusive. Each number is as likey to be generated as every other. A single number can be returned E.g. pick any number in the interval `[0,1)` or an array of a specified size e.g. pick 20 numbers in the interval `[0, 1)` "
   ]
  },
  {
   "cell_type": "code",
   "execution_count": 9,
   "metadata": {
    "scrolled": false
   },
   "outputs": [
    {
     "name": "stdout",
     "output_type": "stream",
     "text": [
      "generate a random float in [0,1) \n",
      "\n",
      "0.7654449579151285 \n",
      "\n",
      "generate a random float in [0,1) \n",
      "\n",
      "[ 0.4317837   0.21633465  0.23930765  0.42143649  0.38697838  0.37030334\n",
      "  0.43935906  0.06754361  0.67145933  0.20967657  0.05679562  0.5646674\n",
      "  0.35788809  0.7961566   0.01204967  0.72880827  0.17333652  0.02422842\n",
      "  0.3190803   0.74939976] \n",
      "\n"
     ]
    }
   ],
   "source": [
    "print(\"generate a random float in [0,1)\", \"\\n\")\n",
    "print(np.random.random_sample(), \"\\n\")\n",
    "\n",
    "print(\"generate a random float in [0,1)\", \"\\n\")\n",
    "print(np.random.random_sample(20), \"\\n\")\n",
    "\n"
   ]
  },
  {
   "cell_type": "code",
   "execution_count": 10,
   "metadata": {
    "scrolled": true
   },
   "outputs": [
    {
     "name": "stdout",
     "output_type": "stream",
     "text": [
      "The histogram of random_sample shows its uniform distrubution \n",
      "\n"
     ]
    },
    {
     "data": {
      "image/png": "[encoded data removed]",
      "text/plain": [
       "<matplotlib.figure.Figure at 0x1c8ef98f320>"
      ]
     },
     "metadata": {
      "needs_background": "light"
     },
     "output_type": "display_data"
    },
    {
     "name": "stdout",
     "output_type": "stream",
     "text": [
      "The aliases show a similar pattern \n",
      "\n"
     ]
    },
    {
     "data": {
      "image/png": "[encoded data removed]",
      "text/plain": [
       "<matplotlib.figure.Figure at 0x1c8ef481c88>"
      ]
     },
     "metadata": {
      "needs_background": "light"
     },
     "output_type": "display_data"
    },
    {
     "data": {
      "image/png": "[encoded data removed]",
      "text/plain": [
       "<matplotlib.figure.Figure at 0x1c8ef9b4dd8>"
      ]
     },
     "metadata": {
      "needs_background": "light"
     },
     "output_type": "display_data"
    },
    {
     "data": {
      "image/png": "[encoded data removed]",
      "text/plain": [
       "<matplotlib.figure.Figure at 0x1c8ef9ae518>"
      ]
     },
     "metadata": {
      "needs_background": "light"
     },
     "output_type": "display_data"
    }
   ],
   "source": [
    "print(\"The histogram of random_sample shows its uniform distrubution\", \"\\n\")\n",
    "plt.hist(np.random.random_sample(10000))\n",
    "plt.title(\"random_sample\")\n",
    "plt.show()\n",
    "print(\"The aliases show a similar pattern\", \"\\n\")\n",
    "plt.hist(np.random.random(10000))\n",
    "plt.title(\"random\")\n",
    "plt.show()\n",
    "plt.hist(np.random.ranf(10000))\n",
    "plt.title(\"ranf\")\n",
    "plt.show()\n",
    "plt.hist(np.random.sample(10000))\n",
    "plt.title(\"sample\")\n",
    "plt.show()\n",
    "\n"
   ]
  },
  {
   "cell_type": "markdown",
   "metadata": {},
   "source": [
    "To change the interval `U[0, 1)` from which the numbers are selected to `U[a,b)` from use the transformation a + (b - a)* random_sample()\n",
    "\n"
   ]
  },
  {
   "cell_type": "code",
   "execution_count": 11,
   "metadata": {
    "scrolled": true
   },
   "outputs": [
    {
     "name": "stdout",
     "output_type": "stream",
     "text": [
      "This outputs an 1x10 array filled with random floats between [3, 5) \n",
      "\n",
      "[ 4.0356934   3.6141537   3.92770758  3.4489535   3.84800045  4.86861126\n",
      "  3.31599934  4.51439945  4.06737764  4.41736307] \n",
      "\n"
     ]
    },
    {
     "data": {
      "image/png": "[encoded data removed]",
      "text/plain": [
       "<matplotlib.figure.Figure at 0x1c8ef9f9da0>"
      ]
     },
     "metadata": {
      "needs_background": "light"
     },
     "output_type": "display_data"
    }
   ],
   "source": [
    "print(\"This outputs an 1x10 array filled with random floats between [3, 5)\", \"\\n\")\n",
    "a,b,N=3,5,10\n",
    "x = a + (b - a) * np.random.random_sample(10) \n",
    "print(x, \"\\n\")\n",
    "plt.hist(x)\n",
    "plt.title(\"random floats in U[3,5)\")\n",
    "plt.show()\n",
    "\n"
   ]
  },
  {
   "cell_type": "markdown",
   "metadata": {},
   "source": [
    "### choice\n",
    "\n",
    "choice(a`[, size, replace, p]`) outputs a random sample from a given 1-D array [ref](https://docs.scipy.org/doc/numpy-1.15.1/reference/routines.random.html). its input is a 1 dimentional array or integer. The number of random values required can be specified by size. The difference between this function and the ones above is that here the population is specified in an array and the function returns one of these choices randomly. e.g. an input of all the harry potter book titles would randomly return one book from this population. The probability p of elements in the 1 d array can be specified (probabilities total to 1). If p is not provided then p is assumed to be uniformly distruibuted across the array. Size refers to the number of random elements from the population that are returned. There is also the option to replace which defaults to true. This refers to whether or not the random choice element is returned to the sample population and is used when unique values from the population are needed [ref](https://stackoverflow.com/questions/40689152/what-does-replacement-mean-in-numpy-random-choice). \n",
    "\n",
    "\n",
    "#### When would you use choice?\n",
    "choice is used when you want to generate a random choice from a fixed sample, you can specify if you want the choise to be returned to the selection pool or not. For example pick one Harry Potter book from a pool of all Harry potter books.\n"
   ]
  },
  {
   "cell_type": "code",
   "execution_count": 12,
   "metadata": {
    "scrolled": true
   },
   "outputs": [
    {
     "name": "stdout",
     "output_type": "stream",
     "text": [
      "List all Harry Potter books \n",
      "\n",
      "Harry Potter and the Philosopher’s Stone\n",
      "Harry Potter and the Chamber of Secrets\n",
      "Harry Potter and the Prisoner of Azkaban\n",
      "Harry Potter and the Goblet of Fire\n",
      "Harry Potter and the Order of the Phoenix\n",
      "Harry Potter and the Half-Blood Prince\n",
      "Harry Potter and the Deathly Hallows\n",
      "\n",
      "\n",
      "pick one at random \n",
      "\n",
      "['Harry Potter and the Deathly Hallows'] \n",
      "\n",
      "pick 5 books at random and remove it from the pool when picked  - only unique books will be returned for each choice \n",
      "\n",
      "['Harry Potter and the Goblet of Fire'\n",
      " 'Harry Potter and the Half-Blood Prince'\n",
      " 'Harry Potter and the Prisoner of Azkaban'\n",
      " 'Harry Potter and the Philosopher’s Stone'\n",
      " 'Harry Potter and the Order of the Phoenix'] \n",
      "\n",
      "pick 5 books at random and keep it in the pool when picked  - choices may be repeated \n",
      "\n",
      "['Harry Potter and the Chamber of Secrets'\n",
      " 'Harry Potter and the Half-Blood Prince'\n",
      " 'Harry Potter and the Deathly Hallows'\n",
      " 'Harry Potter and the Chamber of Secrets'\n",
      " 'Harry Potter and the Half-Blood Prince'] \n",
      "\n",
      "Choices can be weighted to make them more or less likely \n",
      "\n",
      "Here, Chamber of secrets more likely to be selected \n",
      "\n",
      "['Harry Potter and the Order of the Phoenix'\n",
      " 'Harry Potter and the Goblet of Fire'\n",
      " 'Harry Potter and the Goblet of Fire'\n",
      " 'Harry Potter and the Goblet of Fire'\n",
      " 'Harry Potter and the Chamber of Secrets'] \n",
      "\n"
     ]
    }
   ],
   "source": [
    "print(\"List all Harry Potter books\", \"\\n\")\n",
    "hp = ['Harry Potter and the Philosopher’s Stone', 'Harry Potter and the Chamber of Secrets', 'Harry Potter and the Prisoner of Azkaban', 'Harry Potter and the Goblet of Fire', 'Harry Potter and the Order of the Phoenix', 'Harry Potter and the Half-Blood Prince', 'Harry Potter and the Deathly Hallows']\n",
    "for book in hp:\n",
    "    print(book)\n",
    "print(\"\\n\")\n",
    "print(\"pick one at random\", \"\\n\")\n",
    "print(np.random.choice(hp, 1), '\\n')#  books can be repeatedly returned\n",
    "\n",
    "print(\"pick 5 books at random and remove it from the pool when picked  - only unique books will be returned for each choice\", \"\\n\")\n",
    "print(np.random.choice(hp, 5, replace=False), '\\n')\n",
    "# only unique books are returned\n",
    "print(\"pick 5 books at random and keep it in the pool when picked  - choices may be repeated\", \"\\n\")\n",
    "print(np.random.choice(hp, 5, replace=True), '\\n')\n",
    "print(\"Choices can be weighted to make them more or less likely\", \"\\n\")\n",
    "print(\"Here, Chamber of secrets more likely to be selected\", \"\\n\")\n",
    "print(np.random.choice(hp, 5, p=[0.2,0.5,0.1,0.1,0.015,0.03,0.055], replace=True), '\\n')\n"
   ]
  },
  {
   "cell_type": "markdown",
   "metadata": {},
   "source": [
    "### bytes\n",
    "\n",
    "bytes(length)outputs random bytes of the specified length size [Ref](https://docs.scipy.org/doc/numpy-1.15.1/reference/routines.random.html). \n",
    "\n",
    "bytes takes non negative integer inputs and outputs randomly byte strings. outputs are prefixed with b and the bytes are enclosed within apostrophies or quotation marks, hence outputs are strings of specified length [Ref](https://docs.scipy.org/doc/numpy-1.15.1/reference/generated/numpy.random.bytes.html#numpy.random.bytes). The b at the start indicates that it is a byte literal [why the b at the front](https://stackoverflow.com/questions/6269765/what-does-the-b-character-do-in-front-of-a-string-literal)\n",
    "\n",
    "#### When would you use bytes\n",
    "bytes would be used when you want to generate random byte strings"
   ]
  },
  {
   "cell_type": "code",
   "execution_count": 13,
   "metadata": {
    "scrolled": true
   },
   "outputs": [
    {
     "name": "stdout",
     "output_type": "stream",
     "text": [
      "b'' \n",
      "\n",
      "b'b' \n",
      "\n",
      "b'VV9:{\\xff\\x86\\n|\\x1e' \n",
      "\n"
     ]
    }
   ],
   "source": [
    "print(np.random.bytes(0),'\\n')\n",
    "print(np.random.bytes(1),'\\n')\n",
    "print(np.random.bytes(10),'\\n')"
   ]
  },
  {
   "cell_type": "markdown",
   "metadata": {},
   "source": [
    "Hence *Simple Random Data* contains functions for generating random elements consisting of integers, arrays, sizes and shapes from continous or discrete uniform populations or normally distributed populations that may or may not be probabilistically weighted towards some values depending on what is required. It also contains functions to randomly pick elements from a given population array such as a list or set of bytes. The next section of numpy.random to be discussed is its permutation functions. "
   ]
  },
  {
   "cell_type": "markdown",
   "metadata": {},
   "source": [
    "## What does permutations do?\n",
    "![permutation](img/perm.png)\n",
    "\n",
    "A permutation is a way of cycling through all options in a given set. For example chosing unique pairs of 3 numbers (1,2 and 3)would give 3<sup>2</sup> combinations namely (1,1)(1,2)(1,3)(2,1)(2,2)(2,3)(3,1) (3,2) (3,3). Numpy.random has two permutation functions namely [Ref](https://docs.scipy.org/doc/numpy-1.15.1/reference/routines.random.html), \n",
    "- shuffle\n",
    "- permutation\n",
    "\n",
    "The functions in this section are ways of randomly selecting elements from a finite set.\n",
    "\n",
    "### shuffle\n",
    "shuffle(x) takes an array or array like input and randomly reorders elements in the array. E.g. randomly shuffling the order of harry potter books\n",
    "\n",
    "#### When would you use shuffle?\n",
    "shuffle is used when you have an array i.e. a finite list of elements and you want to randomly shuffle them. The same list is returned but the order items are presented in has changed. "
   ]
  },
  {
   "cell_type": "code",
   "execution_count": 14,
   "metadata": {
    "scrolled": true
   },
   "outputs": [
    {
     "name": "stdout",
     "output_type": "stream",
     "text": [
      "Harry Potter books listed in order of publication date \n",
      "\n",
      "Harry Potter and the Philosopher’s Stone\n",
      "Harry Potter and the Chamber of Secrets\n",
      "Harry Potter and the Prisoner of Azkaban\n",
      "Harry Potter and the Goblet of Fire\n",
      "Harry Potter and the Order of the Phoenix\n",
      "Harry Potter and the Half-Blood Prince\n",
      "Harry Potter and the Deathly Hallows\n",
      "\n",
      "\n",
      "Harry Potter books listed in shuffled order \n",
      "\n"
     ]
    },
    {
     "data": {
      "text/plain": [
       "['Harry Potter and the Chamber of Secrets',\n",
       " 'Harry Potter and the Half-Blood Prince',\n",
       " 'Harry Potter and the Deathly Hallows',\n",
       " 'Harry Potter and the Goblet of Fire',\n",
       " 'Harry Potter and the Order of the Phoenix',\n",
       " 'Harry Potter and the Prisoner of Azkaban',\n",
       " 'Harry Potter and the Philosopher’s Stone']"
      ]
     },
     "execution_count": 14,
     "metadata": {},
     "output_type": "execute_result"
    }
   ],
   "source": [
    "hp = ['Harry Potter and the Philosopher’s Stone', 'Harry Potter and the Chamber of Secrets', 'Harry Potter and the Prisoner of Azkaban', 'Harry Potter and the Goblet of Fire', 'Harry Potter and the Order of the Phoenix', 'Harry Potter and the Half-Blood Prince', 'Harry Potter and the Deathly Hallows']\n",
    "print(\"Harry Potter books listed in order of publication date\", \"\\n\")\n",
    "for book in hp:\n",
    "    print(book)\n",
    "print(\"\\n\")    \n",
    "# shuffle the books\n",
    "print(\"Harry Potter books listed in shuffled order\", \"\\n\")\n",
    "np.random.shuffle(hp)\n",
    "\n",
    "hp\n"
   ]
  },
  {
   "cell_type": "markdown",
   "metadata": {},
   "source": [
    "You can shuffle a deck of cards and deal 5 [ref](https://www.programiz.com/python-programming/examples/shuffle-card)"
   ]
  },
  {
   "cell_type": "code",
   "execution_count": 15,
   "metadata": {
    "scrolled": true
   },
   "outputs": [
    {
     "name": "stdout",
     "output_type": "stream",
     "text": [
      "Your cards are \n",
      "\n",
      "2 of Club\n",
      "3 of Club\n",
      "13 of Diamond\n",
      "9 of Club\n",
      "7 of Spade\n"
     ]
    }
   ],
   "source": [
    "# Python program to shuffle a deck of card using the module random and draw 5 cards\n",
    "# code adapted from https://www.programiz.com/python-programming/examples/shuffle-card\n",
    "\n",
    "# import modules\n",
    "import itertools\n",
    "\n",
    "# make a deck of cards\n",
    "deck = list(itertools.product(range(1,14),['Spade','Heart','Diamond','Club']))\n",
    "\n",
    "# shuffle the cards\n",
    "np.random.shuffle(deck)\n",
    "\n",
    "# draw five cards\n",
    "print(\"Your cards are\", \"\\n\")\n",
    "for i in range(5):\n",
    "   print(deck[i][0], \"of\", deck[i][1])"
   ]
  },
  {
   "cell_type": "markdown",
   "metadata": {},
   "source": [
    "### Permutation\n",
    "\n",
    "permutation(x) has an array as an input and randomly permutates/shuffles outputs. \n",
    "\n",
    "Randomly permute a sequence, or return a permuted range [Ref](https://docs.scipy.org/doc/numpy-1.15.1/reference/routines.random.html). Unlike shuffle which reorders the original array, permutation takes a copy of the original array and shuffles the copy. The original array remains intact. In addition permutation can take integer inputs and will output a range e.g an input of 5 will output a random range populated with unique elements from 0 to 4 inclusive. [Ref](https://stackoverflow.com/questions/15474159/shuffle-vs-permute-numpy)\n",
    "\n",
    "#### When would you use permutation?\n",
    "permutation is used when you want to shuffle your array but you also want to keep a record of your unshuffled array.\n"
   ]
  },
  {
   "cell_type": "code",
   "execution_count": 16,
   "metadata": {
    "scrolled": true
   },
   "outputs": [
    {
     "name": "stdout",
     "output_type": "stream",
     "text": [
      "Harry Potter books listed in order of publication date \n",
      "\n",
      "Harry Potter and the Philosopher’s Stone\n",
      "Harry Potter and the Chamber of Secrets\n",
      "Harry Potter and the Prisoner of Azkaban\n",
      "Harry Potter and the Goblet of Fire\n",
      "Harry Potter and the Order of the Phoenix\n",
      "Harry Potter and the Half-Blood Prince\n",
      "Harry Potter and the Deathly Hallows\n",
      "\n",
      "\n",
      "books are shuffled using the permutation function \n",
      "\n",
      "['Harry Potter and the Prisoner of Azkaban'\n",
      " 'Harry Potter and the Goblet of Fire'\n",
      " 'Harry Potter and the Half-Blood Prince'\n",
      " 'Harry Potter and the Deathly Hallows'\n",
      " 'Harry Potter and the Order of the Phoenix'\n",
      " 'Harry Potter and the Chamber of Secrets'\n",
      " 'Harry Potter and the Philosopher’s Stone'] \n",
      "\n",
      "the original book order is preserved \n",
      "\n",
      "Harry Potter and the Philosopher’s Stone\n",
      "Harry Potter and the Chamber of Secrets\n",
      "Harry Potter and the Prisoner of Azkaban\n",
      "Harry Potter and the Goblet of Fire\n",
      "Harry Potter and the Order of the Phoenix\n",
      "Harry Potter and the Half-Blood Prince\n",
      "Harry Potter and the Deathly Hallows\n",
      "\n",
      "\n",
      "unlike shuffling with the shuffle function \n",
      "\n",
      "Harry Potter and the Prisoner of Azkaban\n",
      "Harry Potter and the Deathly Hallows\n",
      "Harry Potter and the Order of the Phoenix\n",
      "Harry Potter and the Half-Blood Prince\n",
      "Harry Potter and the Chamber of Secrets\n",
      "Harry Potter and the Philosopher’s Stone\n",
      "Harry Potter and the Goblet of Fire\n"
     ]
    }
   ],
   "source": [
    "print(\"Harry Potter books listed in order of publication date\", '\\n')\n",
    "\n",
    "hp = ['Harry Potter and the Philosopher’s Stone', 'Harry Potter and the Chamber of Secrets', 'Harry Potter and the Prisoner of Azkaban', 'Harry Potter and the Goblet of Fire', 'Harry Potter and the Order of the Phoenix', 'Harry Potter and the Half-Blood Prince', 'Harry Potter and the Deathly Hallows']\n",
    "for book in hp:\n",
    "    print(book)\n",
    "print('\\n')\n",
    "print(\"books are shuffled using the permutation function\",\"\\n\")\n",
    "print(np.random.permutation(hp), \"\\n\")\n",
    "print(\"the original book order is preserved\", \"\\n\")\n",
    "for book in hp:\n",
    "    print(book)\n",
    "print(\"\\n\")  \n",
    "print(\"unlike shuffling with the shuffle function\", \"\\n\")\n",
    "np.random.shuffle(hp)\n",
    "for book in hp:\n",
    "    print(book)\n",
    "#print('\\n')\n",
    "## input is an integer output is a range\n",
    "#print(np.random.permutation(5), '\\n')"
   ]
  },
  {
   "cell_type": "code",
   "execution_count": null,
   "metadata": {
    "scrolled": true
   },
   "outputs": [],
   "source": []
  },
  {
   "cell_type": "code",
   "execution_count": null,
   "metadata": {
    "scrolled": true
   },
   "outputs": [],
   "source": []
  },
  {
   "cell_type": "code",
   "execution_count": null,
   "metadata": {
    "scrolled": true
   },
   "outputs": [],
   "source": []
  },
  {
   "cell_type": "markdown",
   "metadata": {},
   "source": [
    "## What are distributions and why do we need them.\n"
   ]
  },
  {
   "cell_type": "markdown",
   "metadata": {},
   "source": [
    "A probability distribution is a table or an equation that links each outcome of a statistical experiment or event with its probability of occurring. Consider tossing a coin. It has two possible outcomes, heads or tails. Here the event is the coin toss and the outcome is the result, heads or tails. Similarly, throwing a die has 6 outcomes, 1, 2, 3, 4, 5 or 6 being the face up side. Outcomes of a statistical test often show a pattern based on the probibility of an event occuring. Eg. rolling a fair 6 faced die will produce each of the numbers 1 to 6 roughly 1/6 of the time. Similarly, tossing a non biased coin enough times will show a probability of 1/2 for both heads and tails. In each of these senarios performing the test of throwing the dice or tossing a coin, will better match its underlying probability as the number of trials or trys increases.\n",
    "\n",
    "![dice](img/die.jpg)\n",
    "\n",
    "When a random sample is generated (the event) it produces a specific outcome from a list of all possible outcomes. For example tossing a coin could produce an outcome of heads or tails. Performing this test will produce only one of these outcomes, its either heads or its tails. When the list of possible outcomes (heads or tails) are plotted against its probablity of occuring (1/2 for both Heads and Tails)you get a probability distribution. \n",
    "\n",
    "Consider the die throw; Rolling a die 10  times may give a pattern of 1,3,5,1,4,4. In this sample set, the outcome, the probability of getting a 4, is 2/10 (1/5 - two 4's from 10 throws). This is greater than the underlying probabiligy of 1/6 but the law of large numbers states [ref](https://stattrek.com/statistics/dictionary.aspx?definition=law_of_large_numbers) that the more times an event is tested, i.e. the larger the sample size is, the closer it will be to its underlying probability of that event occuring. Rolling  the die 10 times and getting two four's may have a probability not equal to 1/6 but if the dice is rolled a very large number of  times, the small deviations from 1/6 will be smoothed out and the underlying probibiliy will be constant at probability p of 1/6. This is the idea behind probibility distributions; They are equations that plot the underlying model when sample size reaches the same size as its total population.\n",
    "\n",
    "The code below simulates 10, 100, 1000 and `1000000` random rolls of a dice and calculates the probibility of each outcome.  As the sample size increases, the sample probibility tends towards the actual probility of the distribution. \n"
   ]
  },
  {
   "cell_type": "code",
   "execution_count": 17,
   "metadata": {
    "scrolled": true
   },
   "outputs": [
    {
     "name": "stdout",
     "output_type": "stream",
     "text": [
      "Sample Size is 10\n",
      "[0 1 4 1 2 0 2]\n",
      "sample prob of getting 1 0.1\n",
      "sample prob of getting 2 0.4\n",
      "sample prob of getting 3 0.1\n",
      "sample prob of getting 4 0.2\n",
      "sample prob of getting 5 0.0\n",
      "sample prob of getting 6 0.2\n",
      "actual probability 0.167 \n",
      "\n",
      "Sample Size is 100\n",
      "[ 0 14 17 10 13 24 22]\n",
      "sample prob of getting 1 0.14\n",
      "sample prob of getting 2 0.17\n",
      "sample prob of getting 3 0.1\n",
      "sample prob of getting 4 0.13\n",
      "sample prob of getting 5 0.24\n",
      "sample prob of getting 6 0.22\n",
      "actual probability 0.167 \n",
      "\n",
      "Sample Size is 1000\n",
      "[  0 160 164 145 178 174 179]\n",
      "sample prob of getting 1 0.16\n",
      "sample prob of getting 2 0.164\n",
      "sample prob of getting 3 0.145\n",
      "sample prob of getting 4 0.178\n",
      "sample prob of getting 5 0.174\n",
      "sample prob of getting 6 0.179\n",
      "actual probability 0.167 \n",
      "\n",
      "Sample Size is 1000000\n",
      "[     0 166469 166932 166282 167238 166861 166218]\n",
      "sample prob of getting 1 0.166469\n",
      "sample prob of getting 2 0.166932\n",
      "sample prob of getting 3 0.166282\n",
      "sample prob of getting 4 0.167238\n",
      "sample prob of getting 5 0.166861\n",
      "sample prob of getting 6 0.166218\n",
      "actual probability 0.167 \n",
      "\n"
     ]
    }
   ],
   "source": [
    "print(\"Sample Size is 10\")\n",
    "size=10\n",
    "outcome = np.bincount(np.random.randint(1,7,size))\n",
    "print(outcome)\n",
    "p1=outcome[1]/size\n",
    "print(\"sample prob of getting 1\",p1)\n",
    "p2=outcome[2]/size\n",
    "print(\"sample prob of getting 2\",p2)\n",
    "p3=outcome[3]/size\n",
    "print(\"sample prob of getting 3\",p3)\n",
    "p4=outcome[4]/size\n",
    "print(\"sample prob of getting 4\",p4)\n",
    "p5=outcome[5]/size\n",
    "print(\"sample prob of getting 5\",p5)\n",
    "p6=outcome[6]/size\n",
    "print(\"sample prob of getting 6\",p6)\n",
    "p = 1/6\n",
    "print(\"actual probability\",f\"{p:.3}\", \"\\n\")\n",
    "\n",
    "print(\"Sample Size is 100\")\n",
    "size=100\n",
    "outcome = np.bincount(np.random.randint(1,7,size))\n",
    "print(outcome)\n",
    "p1=outcome[1]/size\n",
    "print(\"sample prob of getting 1\",p1)\n",
    "p2=outcome[2]/size\n",
    "print(\"sample prob of getting 2\",p2)\n",
    "p3=outcome[3]/size\n",
    "print(\"sample prob of getting 3\",p3)\n",
    "p4=outcome[4]/size\n",
    "print(\"sample prob of getting 4\",p4)\n",
    "p5=outcome[5]/size\n",
    "print(\"sample prob of getting 5\",p5)\n",
    "p6=outcome[6]/size\n",
    "print(\"sample prob of getting 6\",p6)\n",
    "p = 1/6\n",
    "print(\"actual probability\",f\"{p:.3}\", \"\\n\")\n",
    "print(\"Sample Size is 1000\")\n",
    "size=1000\n",
    "outcome = np.bincount(np.random.randint(1,7,size))\n",
    "print(outcome)\n",
    "p1=outcome[1]/size\n",
    "print(\"sample prob of getting 1\",p1)\n",
    "p2=outcome[2]/size\n",
    "print(\"sample prob of getting 2\",p2)\n",
    "p3=outcome[3]/size\n",
    "print(\"sample prob of getting 3\",p3)\n",
    "p4=outcome[4]/size\n",
    "print(\"sample prob of getting 4\",p4)\n",
    "p5=outcome[5]/size\n",
    "print(\"sample prob of getting 5\",p5)\n",
    "p6=outcome[6]/size\n",
    "print(\"sample prob of getting 6\",p6)\n",
    "p = 1/6\n",
    "print(\"actual probability\",f\"{p:.3}\", \"\\n\")\n",
    "print(\"Sample Size is 1000000\")\n",
    "size=1000000\n",
    "outcome = np.bincount(np.random.randint(1,7,size))\n",
    "print(outcome)\n",
    "p1=outcome[1]/size\n",
    "print(\"sample prob of getting 1\",p1)\n",
    "p2=outcome[2]/size\n",
    "print(\"sample prob of getting 2\",p2)\n",
    "p3=outcome[3]/size\n",
    "print(\"sample prob of getting 3\",p3)\n",
    "p4=outcome[4]/size\n",
    "print(\"sample prob of getting 4\",p4)\n",
    "p5=outcome[5]/size\n",
    "print(\"sample prob of getting 5\",p5)\n",
    "p6=outcome[6]/size\n",
    "print(\"sample prob of getting 6\",p6)\n",
    "p = 1/6\n",
    "print(\"actual probability\",f\"{p:.3}\", \"\\n\")\n"
   ]
  },
  {
   "cell_type": "markdown",
   "metadata": {},
   "source": [
    "![descrite uniform distribution](img/uniform.png)\n",
    "\n",
    "\n",
    "\n",
    "### Uniform Distribution\n",
    "#### Discrete\n",
    "Often there is an underlying pattern based on this probability. For example in die throw above, each outcome of getting 1, 2, 3, 4, 5 or 6  has the underlying probabiligy of 1 divided by the number of possible outcomes i.e. 6 hence p =1/6 is the same for all the outcomes. Similarly if we were to toss a coin, there would be 2 outcomes, heads or tails but the underlying distribution would be the same as in the die throw, i.e. 1 divided by the possible outcomes, in this case 2 not 6 but its still the same for heads and tails with p = 1 divided by the number of outcomes, albeit the number of outcomes differs, 2 for the coin toss and 6 for the die throw. This type of distribution is called a **uniform distribution**. In particular it is a descrete uniform distribution. i.e outcomes are stepped, they are either 1 or 2 or 3 etc and not midway between 2 and 3. This distrubtion has a known finite set of possible outcomes; For the die throw it's the integers from 1 to 6 and for the coin toss its heads or tails. In each case the probibility is constant. \n",
    "\n"
   ]
  },
  {
   "cell_type": "code",
   "execution_count": 18,
   "metadata": {
    "scrolled": true
   },
   "outputs": [
    {
     "name": "stdout",
     "output_type": "stream",
     "text": [
      "Roll the dice \n",
      "\n",
      "2\n"
     ]
    },
    {
     "data": {
      "image/png": "[encoded data removed]",
      "text/plain": [
       "<matplotlib.figure.Figure at 0x1c8efc03cf8>"
      ]
     },
     "metadata": {
      "needs_background": "light"
     },
     "output_type": "display_data"
    }
   ],
   "source": [
    "print(\"Roll the dice\", \"\\n\")\n",
    "x=np.random.randint(1,7)\n",
    "print(x)\n",
    "plt.title(\"rolls\")\n",
    "plt.xlabel(\"face number\")\n",
    "plt.ylabel(\"count\")\n",
    "plt.hist(x)\n",
    "plt.show()"
   ]
  },
  {
   "cell_type": "markdown",
   "metadata": {},
   "source": [
    "Say you do this a million times and plot your results"
   ]
  },
  {
   "cell_type": "code",
   "execution_count": 19,
   "metadata": {
    "scrolled": true
   },
   "outputs": [
    {
     "data": {
      "image/png": "[encoded data removed]",
      "text/plain": [
       "<matplotlib.figure.Figure at 0x1c8efba8080>"
      ]
     },
     "metadata": {
      "needs_background": "light"
     },
     "output_type": "display_data"
    }
   ],
   "source": [
    "plt.title(\"1 million rolls\")\n",
    "plt.xlabel(\"face number\")\n",
    "plt.ylabel(\"count\")\n",
    "plt.hist(np.random.randint(1,7,1000000))\n",
    "plt.show()\n"
   ]
  },
  {
   "cell_type": "markdown",
   "metadata": {},
   "source": [
    "The results of the roll all seem to be equally likely, 1 million rolls with 6 possible outcomes is "
   ]
  },
  {
   "cell_type": "code",
   "execution_count": 20,
   "metadata": {
    "scrolled": true
   },
   "outputs": [
    {
     "name": "stdout",
     "output_type": "stream",
     "text": [
      "166666.67\n"
     ]
    }
   ],
   "source": [
    "print(f\"{1000000/6:.8}\")\n"
   ]
  },
  {
   "cell_type": "markdown",
   "metadata": {},
   "source": [
    "What if you extend the number of throws to its limit so that the 'sample' extends to the total population. Then you would get a probability distribution, in particular you would get a Uniform distribution over the interval 1 to 6. Values between 1 and 6 would each have the same probability (1/6th) of being face up when rolled. "
   ]
  },
  {
   "cell_type": "code",
   "execution_count": 21,
   "metadata": {
    "scrolled": true
   },
   "outputs": [
    {
     "data": {
      "image/png": "[encoded data removed]",
      "text/plain": [
       "<matplotlib.figure.Figure at 0x1c8efcb1b38>"
      ]
     },
     "metadata": {
      "needs_background": "light"
     },
     "output_type": "display_data"
    }
   ],
   "source": [
    "p=100/6\n",
    "plt.subplot(121)\n",
    "plt.xlabel(\"Sample roll\")\n",
    "plt.ylabel('Count')\n",
    "plt.title(\"Sample\")\n",
    "plt.axis([0, 7, 0, 25]) # x_start, x_end, y_start, y_end\n",
    "sample = np.random.randint(1,7,100) # You are generating 100 points between 1 and 6.\n",
    "plt.axhline(y=p, color='r')\n",
    "plt.hist(sample)\n",
    "\n",
    "plt.subplot(122)\n",
    "plt.title(\"Distribution function\")\n",
    "plt.ylabel('Count')\n",
    "plt.xlabel('X~U[0,1]')\n",
    "plt.axhline(y=p, color='r')\n",
    "updf = np.random.uniform(1,6,100)\n",
    "count, bins, ignored = plt.hist(updf, 6, facecolor='green') \n",
    "plt.subplots_adjust(bottom=1.0, right=2.0, top=2.0)\n"
   ]
  },
  {
   "cell_type": "markdown",
   "metadata": {},
   "source": [
    "Probability distributions have different 'shapes'.  "
   ]
  },
  {
   "cell_type": "markdown",
   "metadata": {},
   "source": [
    "#### Continous\n",
    "\n",
    "But what if values could be anywere along a range? For example you arrive at a bus stop to catch a very regular bus that comes exactly once an hour. However you have no idea what time it is or when the bus last left the stop. The time spent waiting would be a uniform distribution from 0 to 1 hour, with the bus equally likely to arrive at anytime within that interval. Time, temperture and measures like height do not take a fixed set of values, rather they vary on a continuum. Thus the distribution these measures form are continous along range.\n",
    "\n",
    "Say we wanted to model the bus senario. Numpy.random has a function to allow us to do this."
   ]
  },
  {
   "cell_type": "code",
   "execution_count": 22,
   "metadata": {
    "scrolled": true
   },
   "outputs": [
    {
     "name": "stdout",
     "output_type": "stream",
     "text": [
      "How long will I wait for the bus?\n",
      "0.69  hours\n"
     ]
    }
   ],
   "source": [
    "print(\"How long will I wait for the bus?\")\n",
    "print(f\"{np.random.uniform():.2}\", \" hours\")\n",
    "   "
   ]
  },
  {
   "cell_type": "markdown",
   "metadata": {},
   "source": [
    "What if I measure the waiting times daily over a year and plot the results?\n"
   ]
  },
  {
   "cell_type": "code",
   "execution_count": 23,
   "metadata": {
    "scrolled": true
   },
   "outputs": [
    {
     "name": "stdout",
     "output_type": "stream",
     "text": [
      "[  9.23900366e-01   7.71692217e-01   1.73777072e-01   8.67081449e-01\n",
      "   4.57379691e-01   9.69254834e-01   3.96154627e-01   1.08739121e-01\n",
      "   3.94506213e-01   1.85047938e-01   4.52302599e-01   8.83986371e-01\n",
      "   7.09715595e-01   1.11845136e-01   8.67039110e-01   9.13960925e-01\n",
      "   6.57284369e-01   1.39427137e-01   3.76177773e-01   9.21083549e-01\n",
      "   1.51062725e-01   4.80874238e-01   3.17362491e-01   7.23196599e-01\n",
      "   7.75884933e-01   7.71891073e-01   9.15520494e-01   5.81608719e-02\n",
      "   8.41541014e-01   2.51091869e-01   3.02195596e-01   2.30456993e-01\n",
      "   3.07836215e-01   5.69667740e-01   1.61716199e-01   4.68746640e-01\n",
      "   6.25356507e-01   9.67680423e-02   4.88008367e-01   9.21144291e-01\n",
      "   3.79258776e-01   5.32213366e-01   2.08788852e-02   1.27005853e-01\n",
      "   6.57474042e-01   7.47991277e-01   3.90620133e-01   5.26836137e-01\n",
      "   5.92883140e-01   9.08755032e-01   4.38888843e-01   8.73883801e-01\n",
      "   4.65769797e-01   3.57778342e-01   8.10138043e-02   9.54066901e-01\n",
      "   1.85637328e-01   9.28258904e-01   8.73972444e-01   6.23137472e-01\n",
      "   9.34900177e-01   7.45877195e-01   6.02548952e-01   1.68371535e-01\n",
      "   4.81525246e-01   1.25146468e-01   6.56879297e-01   5.89042800e-01\n",
      "   8.30278859e-01   3.14922678e-01   2.08737938e-01   1.66313352e-01\n",
      "   8.44344416e-01   9.29314363e-01   4.67869977e-01   2.82101667e-01\n",
      "   6.55372738e-01   6.13151447e-01   3.04150920e-01   2.30494521e-01\n",
      "   2.54270399e-01   2.99504545e-01   7.03451558e-01   1.88391465e-01\n",
      "   1.50085551e-01   2.46705873e-01   3.97719789e-03   9.35459489e-02\n",
      "   6.34848078e-01   5.41348189e-01   3.87571057e-01   8.29489642e-01\n",
      "   6.66835832e-01   8.58867661e-01   4.72239740e-01   3.96147437e-02\n",
      "   5.78463880e-01   3.62318539e-01   8.53038575e-01   3.32499660e-01\n",
      "   7.89100462e-01   5.67954069e-01   4.82852487e-01   7.58853350e-01\n",
      "   3.55101388e-02   9.25868797e-01   7.70165976e-01   1.50188957e-01\n",
      "   8.84530278e-01   9.01391895e-01   3.89919077e-01   6.86227262e-01\n",
      "   7.62539693e-01   2.92969137e-01   4.29277694e-01   5.53957088e-01\n",
      "   2.77048297e-01   3.35466916e-01   5.34618435e-01   9.99442588e-02\n",
      "   4.78013971e-01   3.77050970e-01   3.25969335e-01   5.74240665e-01\n",
      "   2.01093874e-01   9.80651233e-02   8.46172321e-01   2.47121109e-01\n",
      "   3.84198224e-01   4.30964601e-01   5.58873034e-01   4.46612322e-01\n",
      "   9.96554683e-02   7.80133442e-02   4.50633779e-02   6.63164249e-01\n",
      "   6.46826229e-01   6.81926134e-02   6.57465319e-02   2.98299686e-01\n",
      "   5.60641168e-01   9.89270887e-01   2.78792702e-01   8.13531026e-01\n",
      "   6.66274945e-01   1.85045843e-01   7.35780228e-02   4.23216822e-01\n",
      "   7.15122441e-01   4.39810156e-01   8.47418612e-02   6.09372186e-01\n",
      "   6.80630062e-01   1.50034193e-01   4.92620269e-01   3.42049551e-01\n",
      "   3.01880236e-01   2.46283290e-01   3.27685937e-01   4.79787778e-01\n",
      "   2.65944055e-02   5.15607576e-01   2.77708455e-01   4.47476437e-01\n",
      "   5.98985677e-01   3.63205983e-01   7.50005733e-01   6.93541689e-01\n",
      "   2.79868518e-01   4.17484318e-01   5.27115488e-01   6.15977256e-01\n",
      "   1.91169698e-01   9.02690909e-01   8.26415378e-01   9.41842433e-01\n",
      "   2.23175676e-01   4.84371598e-01   6.81848211e-01   1.73788363e-02\n",
      "   2.13393720e-01   1.82309503e-04   5.97031644e-01   6.31721919e-01\n",
      "   8.63434636e-01   1.23794189e-01   4.59397778e-01   7.10214228e-01\n",
      "   8.67882446e-01   1.69111451e-01   4.17654603e-01   6.22363443e-01\n",
      "   8.18004313e-01   7.34443885e-01   3.34244592e-01   7.49182714e-01\n",
      "   9.19204498e-01   6.69157778e-01   7.37984820e-01   1.42654542e-01\n",
      "   5.55564094e-01   5.00894467e-01   2.83355518e-01   5.31397215e-01\n",
      "   2.68743861e-02   6.91392622e-01   7.93866702e-01   4.80513295e-02\n",
      "   8.86474918e-01   3.33961620e-01   2.09530614e-01   9.30609311e-01\n",
      "   2.58796922e-01   4.49265265e-02   9.20509981e-01   2.99862052e-01\n",
      "   9.13922447e-01   4.91849401e-01   9.98967297e-01   4.18859716e-01\n",
      "   2.82721841e-01   5.88920539e-01   6.99521076e-02   8.34871931e-01\n",
      "   6.64521223e-01   6.33531618e-01   9.03861602e-01   9.53471601e-01\n",
      "   4.04627845e-01   6.13845121e-01   6.26753533e-01   6.48107022e-01\n",
      "   6.07933209e-02   6.29492575e-01   2.96415246e-01   3.51205186e-01\n",
      "   5.97763523e-01   8.24062314e-01   8.90866947e-02   2.29741581e-01\n",
      "   7.40637946e-01   8.18108957e-01   6.12126648e-02   9.67366920e-01\n",
      "   6.43936310e-01   9.49047782e-01   2.47016905e-01   4.10141380e-01\n",
      "   7.67599698e-01   8.41472500e-01   5.68575961e-01   5.20653818e-01\n",
      "   6.60495508e-01   3.50415100e-01   8.64298259e-02   6.34480694e-01\n",
      "   6.09969600e-01   9.02186150e-01   7.56581307e-02   2.90035488e-01\n",
      "   1.06231680e-02   4.62808942e-02   9.00661469e-01   4.77105903e-01\n",
      "   3.23019601e-01   5.89911046e-02   2.09785575e-01   9.52637472e-01\n",
      "   3.63088032e-01   3.21777675e-01   7.69099532e-01   4.45591795e-01\n",
      "   9.21606283e-01   3.83533066e-01   7.65249299e-01   2.74427208e-01\n",
      "   2.40930125e-01   8.86259572e-01   7.21437273e-01   2.48706924e-01\n",
      "   7.16854949e-01   7.89744511e-01   9.05674639e-01   1.33976287e-01\n",
      "   8.75513404e-01   7.38313724e-01   2.42672681e-01   8.72196895e-01\n",
      "   6.65759935e-01   6.82327284e-02   3.33683682e-01   9.35696462e-01\n",
      "   9.30124002e-01   8.84152546e-01   2.62349703e-02   4.82141765e-01\n",
      "   7.56192272e-01   9.51715155e-01   3.34346495e-01   5.81033889e-01\n",
      "   4.68459369e-01   3.49229396e-01   6.14928131e-01   8.33591282e-01\n",
      "   8.43264738e-01   2.85669624e-01   6.31867868e-01   2.12968099e-01\n",
      "   7.02128771e-01   5.80188387e-01   9.32135738e-01   7.84779899e-01\n",
      "   3.92543323e-01   1.56795278e-01   3.02669087e-01   9.51821342e-01\n",
      "   5.99910758e-01   7.57698786e-01   1.36215727e-01   4.89226642e-01\n",
      "   5.72654256e-01   3.78341065e-01   3.54264436e-01   9.03419225e-01\n",
      "   2.48917672e-01   2.06846941e-01   7.26116242e-01   1.82084918e-01\n",
      "   4.55263678e-01   8.52666294e-01   6.16170854e-01   5.51116724e-01\n",
      "   3.45813057e-01   8.98015425e-01   3.27460249e-01   3.92465522e-01\n",
      "   8.50089904e-01   1.11354273e-01   3.28307971e-01   4.54741332e-01\n",
      "   9.05135638e-01   6.91027326e-01   1.17616910e-01   8.54038443e-01\n",
      "   3.51301971e-01   9.18520134e-01   6.71357491e-01   3.58463335e-01\n",
      "   8.17012892e-03   6.24751643e-01   7.77566284e-01   1.79895955e-01\n",
      "   9.18488935e-01   3.68218844e-01   4.11839798e-01   5.63807429e-02\n",
      "   8.82200167e-01   1.25826250e-01   5.65333976e-01   7.40004924e-02\n",
      "   3.79506975e-01   1.18391021e-01   9.04224998e-01   6.74205958e-01\n",
      "   1.99587178e-01]\n"
     ]
    }
   ],
   "source": [
    "how_long = np.random.uniform(0,1,365)\n",
    "print(how_long)"
   ]
  },
  {
   "cell_type": "code",
   "execution_count": 24,
   "metadata": {
    "scrolled": false
   },
   "outputs": [
    {
     "data": {
      "image/png": "[encoded data removed]",
      "text/plain": [
       "<matplotlib.figure.Figure at 0x1c8efda0a90>"
      ]
     },
     "metadata": {
      "needs_background": "light"
     },
     "output_type": "display_data"
    }
   ],
   "source": [
    "plt.hist(how_long)\n",
    "plt.title(\"Waiting Time over a year\")\n",
    "plt.xlabel(\"Time\")\n",
    "plt.ylabel(\"Days\")\n",
    "plt.show()"
   ]
  },
  {
   "cell_type": "markdown",
   "metadata": {},
   "source": [
    "numpy.random.uniform takes inputs of a range low to high. Size i.e. the number of results return can also be specified. The range interval includes the lower number but excludes the higher one. All numbers within the range are equally likely to be selected. The probability density funciton for this distribution is \n",
    "\n",
    "$$p(x) = \\frac{1}{b-a}$$ where a is the low value and b is the high value. \n",
    "\n",
    "It can be written as $X\\sim U(a,\\,b)$\n",
    "\n",
    "\n",
    "### Binomial\n",
    "\n",
    "Going back to the die example, what if we were only interested in getting one of the outcomes? Say the die was rolled 100 times but we were only counting number of times 4's popped up? \n",
    "\n",
    "\n",
    " \n"
   ]
  },
  {
   "cell_type": "code",
   "execution_count": 25,
   "metadata": {
    "scrolled": false
   },
   "outputs": [
    {
     "name": "stdout",
     "output_type": "stream",
     "text": [
      "How many times was 4 faceup after 100 rolls -  15 times\n"
     ]
    },
    {
     "data": {
      "image/png": "[encoded data removed]",
      "text/plain": [
       "<matplotlib.figure.Figure at 0x1c8efd7e320>"
      ]
     },
     "metadata": {
      "needs_background": "light"
     },
     "output_type": "display_data"
    }
   ],
   "source": [
    "print(\"How many times was 4 faceup after 100 rolls - \", np.random.binomial(100,1/6), \"times\")\n",
    "plt.title(\"roll 500 dice 100 times and count the number of times 4 showed \")\n",
    "plt.xlabel(\"no of times 4 showed\")\n",
    "plt.ylabel(\"no of dice rolled\")\n",
    "plt.hist(np.random.binomial(100,1/6, 500))\n",
    "plt.show()"
   ]
  },
  {
   "cell_type": "markdown",
   "metadata": {},
   "source": [
    "4 is just as likely to pop up as any of the other faces, but the distribution pattern is different than the uniform pattern discussed earlier. There is a tendency for 4's to crop up in 100 rolls close to the 100\\6 mark. The outcome of a die roll is fixed, it can only be numbers from 1 to 6 but we are only interested in 2 outcome namely is it a 4 or not. This type of distribution is called a **binomial** distribution. It is a descrite distribution with 2 required parameters, the number of trials n, i.e. the number of times the die is rolled and the probibility associated with the outcome p i.e getting a 4 (1/6).\n",
    "\n",
    "numpy.random.binomial takes inputs n i.e. number of trials and p i.e. probability of a sucessful event. The size can also be specified. it has the probability distribution function [ref](https://docs.scipy.org/doc/numpy/reference/generated/numpy.random.binomial.html#numpy.random.binomial)\n",
    "\n",
    "$$P(N) = \\binom{n}{N}p^N(1-p)^{n-N}$$\n",
    "\n",
    "### Geometric\n",
    "\n",
    "\n",
    "\n",
    "Now suppose we were just interested in the time till the first 4 was rolled? The binomial distribution address the question of \"how many successful events from n tries\" [](https://blog.cloudera.com/blog/2015/12/common-probability-distributions-the-data-scientists-crib-sheet/). The question now becomes \"how many failures till we get the first success\". In this case we dont know what n, the number of tries, will be. This pattern is called the **geometric** distribution. \n",
    "\n",
    "\n"
   ]
  },
  {
   "cell_type": "code",
   "execution_count": 26,
   "metadata": {
    "scrolled": false
   },
   "outputs": [
    {
     "name": "stdout",
     "output_type": "stream",
     "text": [
      "How many rolls till '4' pops up? -  8 rolls\n"
     ]
    }
   ],
   "source": [
    "print(\"How many rolls till '4' pops up? - \", np.random.geometric(1/6), \"rolls\")\n"
   ]
  },
  {
   "cell_type": "markdown",
   "metadata": {},
   "source": [
    "This distribution has a different shape, it is asymmetrical with a long tail to the right. The geometric distrubtion has underlying assumptions\n",
    "1. The event is made up of independent trials i.e. events do not influence each other. \n",
    "2. There are only two outcomes, sucess or failure\n",
    "3. The probability of success is the same in each trial [](https://en.wikipedia.org/wiki/Geometric_distribution)\n"
   ]
  },
  {
   "cell_type": "code",
   "execution_count": 27,
   "metadata": {
    "scrolled": false
   },
   "outputs": [
    {
     "data": {
      "image/png": "[encoded data removed]",
      "text/plain": [
       "<matplotlib.figure.Figure at 0x1c8efc03550>"
      ]
     },
     "metadata": {
      "needs_background": "light"
     },
     "output_type": "display_data"
    }
   ],
   "source": [
    "plt.title(\"How many rolls till 4 shows up \")\n",
    "plt.xlabel(\"number of rolls\")\n",
    "plt.ylabel(\"number of dice rolled\")\n",
    "plt.hist(np.random.geometric(1/6, 500))\n",
    "plt.show()"
   ]
  },
  {
   "cell_type": "markdown",
   "metadata": {},
   "source": [
    "### Negative Binomal \n",
    "\n",
    "\n",
    "\n",
    "Now suppose we are sill interested in the number of tries till a success of 4 is reached but rather than declaring a success when the first success is reached, we want to extend the number of success, say rolling ten 4's?  "
   ]
  },
  {
   "cell_type": "code",
   "execution_count": 28,
   "metadata": {
    "scrolled": false
   },
   "outputs": [
    {
     "name": "stdout",
     "output_type": "stream",
     "text": [
      "How many rolls till 10 '4s' pops up? -  47 rolls\n"
     ]
    },
    {
     "data": {
      "image/png": "[encoded data removed]",
      "text/plain": [
       "<matplotlib.figure.Figure at 0x1c8efae7ba8>"
      ]
     },
     "metadata": {
      "needs_background": "light"
     },
     "output_type": "display_data"
    }
   ],
   "source": [
    "print(\"How many rolls till 10 '4s' pops up? - \", np.random.negative_binomial(10,1/6), \"rolls\")\n",
    "\n",
    "plt.title(\"How many rolls till 10 4's pop up \")\n",
    "plt.xlabel(\"number of rolls\")\n",
    "plt.ylabel(\"number of dice rolled\")\n",
    "plt.hist(np.random.negative_binomial(10,1/6, 500))\n",
    "plt.show()\n"
   ]
  },
  {
   "cell_type": "markdown",
   "metadata": {},
   "source": [
    "This type of distrubution is called the negative binomial distribution. \n",
    "\n",
    "numpy.random.negative_binomial has two required inputs, the number of success required n, and the probability of a success p. There is also a size option [ref](https://docs.scipy.org/doc/numpy/reference/generated/numpy.random.negative_binomial.html#numpy.random.negative_binomial). It's probability density function is\n",
    "\n",
    "$$P(N;n,p) = \\binom{N+n-1}{N}p^{n}(1-p)^{N}$$\n",
    "\n",
    "\n",
    "### Poisson\n",
    "\n",
    "\n",
    "\n",
    "What if the probability p was very small and the number of tries was very large? Say we have a 1000 faced die that will be rolled a million times. What's the distribution of getting a 4 now? In this case the n x p tends towards a constant rate $\\lambda$. This is the *Poisson* distribution. It is frequently used when counting the number of times an event occurs over an interval of time or space. Eg. the number of customers arriving in a shop.  \n",
    "\n"
   ]
  },
  {
   "cell_type": "code",
   "execution_count": 29,
   "metadata": {
    "scrolled": false
   },
   "outputs": [
    {
     "name": "stdout",
     "output_type": "stream",
     "text": [
      "How many customers arrive at a shop on a Sunday when the average Sunday rate is 100? -  102 customers\n"
     ]
    },
    {
     "data": {
      "image/png": "[encoded data removed]",
      "text/plain": [
       "<matplotlib.figure.Figure at 0x1c8efc695c0>"
      ]
     },
     "metadata": {
      "needs_background": "light"
     },
     "output_type": "display_data"
    }
   ],
   "source": [
    "print(\"How many customers arrive at a shop on a Sunday when the average Sunday rate is 100? - \", np.random.poisson(100), \"customers\")\n",
    "\n",
    "plt.title(\"How many customers arrive on Sunday \")\n",
    "plt.xlabel(\"number of customers\")\n",
    "plt.ylabel(\"number of Sunday's\")\n",
    "plt.hist(np.random.poisson(100,500))\n",
    "plt.show()"
   ]
  },
  {
   "cell_type": "markdown",
   "metadata": {},
   "source": [
    "This can be thought of as the limit of a binomial distribution when the number of trials is large and the probability of a sucess is small ()[https://medium.com/@andrew.chamberlain/deriving-the-poisson-distribution-from-the-binomial-distribution-840cc1668239]. "
   ]
  },
  {
   "cell_type": "code",
   "execution_count": 30,
   "metadata": {
    "scrolled": false
   },
   "outputs": [
    {
     "data": {
      "image/png": "[encoded data removed]",
      "text/plain": [
       "<matplotlib.figure.Figure at 0x1c8efbe5da0>"
      ]
     },
     "metadata": {
      "needs_background": "light"
     },
     "output_type": "display_data"
    }
   ],
   "source": [
    "plt.subplot(121)\n",
    "plt.title(\"Poisson How many customers arrive on Sunday \\n when average is 100 \")\n",
    "plt.xlabel(\"number of customers\")\n",
    "plt.ylabel(\"number of Sunday's\")\n",
    "plt.hist(np.random.poisson(100,500))\n",
    "\n",
    "plt.subplot(122)\n",
    "plt.title(\"Binomial How many customers arrive on Sunday when \\n 20000 potential shoppers have a probibility of shopping of 0.005 \")\n",
    "plt.xlabel(\"number of customers\")\n",
    "plt.ylabel(\"number of Sunday's\")\n",
    "plt.hist(np.random.binomial(20000, 0.005, 500))\n",
    "plt.subplots_adjust(bottom=1.0, right=2.0, top=2.0)\n"
   ]
  },
  {
   "cell_type": "markdown",
   "metadata": {},
   "source": [
    "### Normal\n",
    "\n",
    "So far the focus has been the discrete distributions, uniform, binomial, geometric, negative binomial and poisson. The continous uniform distribution was also investigated. Regarding the binomial distribution, if the number tries is very large, a bell shaped pattern emerges. "
   ]
  },
  {
   "cell_type": "code",
   "execution_count": 45,
   "metadata": {
    "scrolled": false
   },
   "outputs": [
    {
     "data": {
      "image/png": "[encoded data removed]",
      "text/plain": [
       "<matplotlib.figure.Figure at 0x1c8efbac0f0>"
      ]
     },
     "metadata": {
      "needs_background": "light"
     },
     "output_type": "display_data"
    }
   ],
   "source": [
    "plt.subplot(121)\n",
    "plt.title(\"10 trials \")\n",
    "plt.hist(np.random.binomial(100,1/6, 5))\n",
    "plt.subplot(122)\n",
    "plt.title(\"10000 trials \")\n",
    "plt.hist(np.random.binomial(100,1/6, 10000))\n",
    "plt.subplots_adjust(bottom=1.0, right=2.0, top=2.0)"
   ]
  },
  {
   "cell_type": "markdown",
   "metadata": {},
   "source": [
    "Taking this to its limit of an infinate number of trials gives one of the most ubiquitous distributions, the *Normal* distribution. This is a continous distribution that is commonly found in real world situations. For example, measure people's height and plot the results and you will find the vast majority will be clustered around the average value with almost all heights within 3 standard deviations of this average. You may get a few cases of people being extremely tall or extremely small but you wont get someone of height 1cm or 1km. Other examples of the normal distribution include marks on a test, blood pressure readings, salary  levels. For example that data below comes from the public dataset ANSUR2, in particular the male data. This is data from the U.S. Army Anthropometry survey that took several measurments of its military population [ref](http://mreed.umtri.umich.edu/mreed/downloads.html).  \n"
   ]
  },
  {
   "cell_type": "code",
   "execution_count": 92,
   "metadata": {
    "scrolled": false
   },
   "outputs": [
    {
     "name": "stdout",
     "output_type": "stream",
     "text": [
      "The Height in Inches of Male US Military in ANSUR2 dataset 2012\n",
      "0    71\n",
      "1    68\n",
      "2    68\n",
      "3    66\n",
      "4    77\n",
      "Name: Heightin, dtype: int64 \n",
      "\n",
      "count    4082.000000\n",
      "mean       70.035767\n",
      "std         2.947419\n",
      "min        60.000000\n",
      "25%        68.000000\n",
      "50%        70.000000\n",
      "75%        72.000000\n",
      "max        94.000000\n",
      "Name: Heightin, dtype: float64 \n",
      "\n"
     ]
    },
    {
     "data": {
      "image/png": "[encoded data removed]",
      "text/plain": [
       "<matplotlib.figure.Figure at 0x1c8814ba1d0>"
      ]
     },
     "metadata": {
      "needs_background": "light"
     },
     "output_type": "display_data"
    }
   ],
   "source": [
    "# data taken from http://www.ucd.ie/ecomodel/Resources/datasets_WebVersion.html in particular http://mreed.umtri.umich.edu/mreed/downloads/anthro/ANSUR2Distribution.zip\n",
    "df=pd.read_csv(\"data/ANSURIIMALEPublic.csv\", encoding = \"ISO-8859-1\")\n",
    "print(\"The Height in Inches of Male US Military in ANSUR2 dataset 2012\")\n",
    "heights = df.loc[:,'Heightin'] \n",
    "print(heights.head(), \"\\n\")\n",
    "print(heights.describe(), \"\\n\")\n",
    "plt.title(\"Histogram of height in Inches of Male ANSUR2 dataset\")\n",
    "plt.xlabel(\"height inches\")\n",
    "plt.ylabel(\"number of military personelle\")\n",
    "plt.hist(heights)\n",
    "plt.show()\n"
   ]
  },
  {
   "cell_type": "markdown",
   "metadata": {},
   "source": [
    "This shows the bell shape curve characteristic of the normal distribution. The normal distribution is especially important as many other non normal distributions tend toward a normal distribution pattern as their sample size increases under certain assumptions of each sample added being independent from each other. This is the central limit theorom [ref](http://www.ucd.ie/ecomodel/Resources/Sheet4_data_distributions_WebVersion.html#central_limit_theorem). \n",
    "\n",
    "numpy.random has two normal functions\n",
    "1. standard_normal\n",
    "2. normal\n",
    "\n",
    "#### Standard Normal\n",
    "\n",
    "numpy.random.standard_normal produces samples from the standard normal distribution. The standard normal distribution has a mean of 0 and a standard deviation of 1. \n",
    "\n",
    "Its probability density function is $$p(x)\t=\t\\frac{1}{\\sqrt{2\\pi}}e^{-\\frac{x^2}{2}}$$\n",
    "\n",
    "\n",
    "\n",
    "\n",
    "\n",
    "#### Normal\n",
    "\n",
    "The standard normal distribution is a specific case of the normal distribution. Its inputs are its mean and and standard deviation and it outputs random samples from this distribution. \n",
    "\n",
    "Its probability density function is $$p(x) = \\frac{1}{\\sqrt{ 2 \\pi \\sigma^2 }} e^{ - \\frac{ (x - \\mu)^2 } {2 \\sigma^2} }$$\n",
    "\n",
    "where $\\mu$ is the mean and $\\sigma$ the standard deviation. The square of the standard deviation, $\\sigma^2$ is called the variance.\n"
   ]
  },
  {
   "cell_type": "code",
   "execution_count": 96,
   "metadata": {},
   "outputs": [
    {
     "data": {
      "image/png": "[encoded data removed]",
      "text/plain": [
       "<matplotlib.figure.Figure at 0x1c8815a24a8>"
      ]
     },
     "metadata": {
      "needs_background": "light"
     },
     "output_type": "display_data"
    }
   ],
   "source": [
    "plt.subplot(121)\n",
    "plt.title(\"Standard Normal \\n samples centered round 0\")\n",
    "plt.hist(np.random.standard_normal(100))\n",
    "plt.subplot(122)\n",
    "plt.title(\"Normal \\n samples centered round 50 \")\n",
    "plt.hist(np.random.normal(50, 9, 100))\n",
    "plt.subplots_adjust(bottom=1.0, right=2.0, top=2.0)"
   ]
  },
  {
   "attachments": {},
   "cell_type": "markdown",
   "metadata": {},
   "source": [
    "numpy.random has 35 distribution functions. Namely \n",
    "\n",
    "1. beta - Discrete\n",
    "2. *binomial* - Discrete\n",
    "3. chisquare - Continuous\n",
    "4. dirichlet - Joint\n",
    "5. exponential - Continuous\n",
    "6. f - Continuous\n",
    "7. gamma - Continuous\n",
    "8. *geometric* - Discrete\n",
    "9. gumbel - Continuous\n",
    "10. hypergeometric - Discrete\n",
    "11. laplace - Continuous\n",
    "12. logistic - Continuous\n",
    "13. lognormal - Continuous\n",
    "14. logseries - Discrete\n",
    "15. multinomial - Joint\n",
    "16. multivariate_normal - Continuous\n",
    "17. *negative_binomial* - Discrete\n",
    "18. noncentral_chisquare - Continuous\n",
    "19. noncentral_f - Continuous\n",
    "20. *normal* - Continuous\n",
    "21. pareto - Continuous\n",
    "22. *poisson* - Discrete\n",
    "23. power - Continuous\n",
    "24. rayleigh - Continuous\n",
    "25. standard_cauchy - Continuous\n",
    "26. standard_exponential - Continuous\n",
    "27. standard_gamma - Continuous\n",
    "28. *standard_normal* - Continuous\n",
    "29. standard_t - Continuous\n",
    "30. triangular - Continuous\n",
    "31. *uniform* - Continuous\n",
    "32. vonmises - Continuous\n",
    "33. wald - Continuous\n",
    "34. weibull - Continuous\n",
    "35. zipf - Discrete\n",
    "\n",
    "\n",
    "[ref](https://en.wikipedia.org/wiki/List_of_probability_distributions)\n",
    "Each of these distributions has their own shape and parameters. numpy.random's distribution functions allows random samples to be generated from any of these probability distributions. This report has looked at 7 of these.\n",
    "\n",
    "\n",
    "1. uniform\n",
    "2. binomial\n",
    "3. geometric\n",
    "4. negative binomial \n",
    "5. poisson\n",
    "6. standard normal\n",
    "7. normal"
   ]
  },
  {
   "cell_type": "code",
   "execution_count": null,
   "metadata": {},
   "outputs": [],
   "source": [
    "3. "
   ]
  },
  {
   "cell_type": "markdown",
   "metadata": {},
   "source": [
    "## What are seeds and how are they involved in generating pseudorandom numbers. "
   ]
  },
  {
   "cell_type": "markdown",
   "metadata": {},
   "source": [
    "##  The use of seeds in generating pseudorandom numbers\n",
    "\n",
    "## Random generator\n",
    "\n",
    "Random numbers are difficult to generate. Typically when true random numbers are requied some random natural process is used such as radioactive decay levels. Computational random number generation is not truely random. Algorithms can produce long sequences of random looking data but which in reality are completely deterministic once a key value or a seed is known [](https://en.wikipedia.org/wiki/Random_number_generation#%22True%22_vs._pseudo-random_numbers). \n",
    "\n",
    "Numpy.random contains four functions involved with the generation of random data from a specified range or given population, RandomState, Seen, get_state and set_state. As noted before 'random' in this sence means pseudo random. Numpy.random uses the pseudo random number generator (PSNG) algorithm named the 'Mersenne Twister'. This is a widely used computer algorithm that is suitable for most random number generaton needs. A PSNG requires a seed as a starting point in the random  sequence. Once a seed is defined, the random sequence it generates can be predicted [](Vo. T.H et al., 2017). If no seed is given then Numpy picks a 'random' one based on either the computers internal clock settings or on the computers own random number generator [](Vo. T.H et al., 2017). \n",
    "\n",
    "- RandomState\n",
    "- Seed\n",
    "- get_state\n",
    "- set_state\n",
    "\n",
    "Simple random data function and and random distrubution functions use the same universal random seed. If you want a different seed for one particular random pattern then you can specify the unique seed with the RandomState function. This creates a local random number gererator that differs from the global one used by the other functions [](McKinny, 2018). \n",
    "\n",
    "Numpy.random has a function seed that allows the user to specify the seed and therefore generate a predictible random pattern of data. This is required when testing statistical models that require the same 'random noise' so as not to affect the statistical parameters. \n",
    "\n",
    "get_state and set_state are ways of setting a specific random state (set_state) and recalling (get_state)for specific use [](https://stackoverflow.com/questions/48504854/python-random-getstate-and-random-setstate). \n",
    "\n",
    "Each of these four functions will be discussed below. \n",
    "\n",
    "\n",
    "### RandomState\n",
    "RandomState(`[seed]`) takes the seed value for the Mersenne Twister as input and outputs the container for the Mersenne Twister pseudo-random number generator [](https://docs.scipy.org/doc/numpy-1.15.1/reference/routines.random.html). There is always an underlying RandomState in numpy. All the functions in Numpy.random operate within an global instance of a default RandomState that is not explicitly set. RandomState function is used when the same set of random numbers is required. It allows random numbers from specific instance of the random state to be generated at a local level. \n",
    "\n",
    "This means that rather than changing global seed for the Mersenne Twister, a container or instance is created with that specific seed. It is used prior to calling other numpy.random functions. RandomState, like the seed function, allows for functions that call and create random data to return the same random data when called again. RandomState comes with a wide varity of methods to call various probability distrubtions and simple random data function. \n",
    "\n",
    "Generally RandomState is prefered over seed as if seed is used all instances of random numbers called within the session will be affected but in RandomState only the instance where it is used with the random method is affected. One thing that I'm not sure off is why RandomState shows different values when called agrepeatedly run but subesquent runs s \n",
    "\n",
    "----delete----\n",
    "\n",
    "Container for the Mersenne Twister pseudo-random number generator.\n",
    "\n",
    "RandomState exposes a number of methods for generating random numbers drawn from a variety of probability distributions. In addition to the distribution-specific arguments, each method takes a keyword argument size that defaults to None. If size is None, then a single value is generated and returned. If size is an integer, then a 1-D array filled with generated values is returned. If size is a tuple, then an array with that shape is filled and returned.\n",
    "\n",
    "Compatibility Guarantee A fixed seed and a fixed series of calls to ‘RandomState’ methods using the same parameters will always produce the same results up to roundoff error except when the values were incorrect. Incorrect values will be fixed and the NumPy version in which the fix was made will be noted in the relevant docstring. Extension of existing parameter ranges and the addition of new parameters is allowed as long the previous behavior remains unchanged.\n",
    "Parameters:\t\n",
    "\n",
    "seed : {None, int, array_like}, optional\n",
    "\n",
    "    Random seed used to initialize the pseudo-random number generator. Can be any integer between 0 and 2**32 - 1 inclusive, an array (or other sequence) of such integers, or None (the default). If seed is None, then RandomState will try to read data from /dev/urandom (or the Windows analogue) if available or seed from the clock otherwise.\n",
    "\n",
    "--- end delete ----\n",
    "\n",
    "--- useful links and things to check ---\n",
    "https://stackoverflow.com/questions/5836335/consistently-create-same-random-numpy-array\n",
    "\n",
    "https://stackoverflow.com/questions/32462273/how-to-use-random-randomstate\n",
    "\n",
    "How does randomstate differ from seed? seed uses the functions of numpy.random i.e. the simple random data, permutation and distribution functions mentioned above, whereas RandomSeed uses a wide varitey of methods that are similar to numpy.random's global functions but local to just the RandomState function. \n",
    "\n",
    "\n"
   ]
  },
  {
   "cell_type": "code",
   "execution_count": 31,
   "metadata": {
    "scrolled": true
   },
   "outputs": [
    {
     "data": {
      "text/plain": [
       "\"\\n# generate a random number with seed 5\\nseed = 5\\nnp.random.seed(seed)\\nprint(np.random.rand())\\n# output is always 0.22199317108973948\\n\\n#This uses the global rand function and the seed affects all random functions within numpy.random for example \\n\\nprint(np.random.randint(10)) # picks a random integer between [0, 10) - its always 6 with a seed of 5 a different simple random function than the one rand used above\\n# This will always be 6 when the seed is 5\\n\\n\\n#another way to achive the same result without affecting other the randomness of other numpy functions is to use RandomState\\n# set the state\\nrs = np.random.RandomState(seed)\\n# call the method\\nprint(rs.rand())\\n# This will be 0.8928601514360016 \\n# however the other global function will not be affected by the RandomState's seed value and will remain at the previously 5 seeded value of 6\\nprint(np.random.randint(10))\\n#reset random seed\\n\\n# when the above code is run but the seed value is changed\\n\\n# generate a random number with seed 5\\nseed = 50\\nnp.random.seed(seed)\\nprint(np.random.rand())\\n# output is always 0.22199317108973948\\n\\n#This uses the global rand function and the seed affects all random functions within numpy.random for example \\n\\nprint(np.random.randint(10)) # picks a random integer between [0, 10) - its always 6 with a seed of 5 a different simple random function than the one rand used above\\n# This will always be 6 when the seed is 5\\n\\n\\n#another way to achive the same result without affecting other the randomness of other numpy functions is to use RandomState\\n# set the state\\nrs = np.random.RandomState(seed)\\n# call the method\\nprint(rs.rand())\\n# This will be 0.8928601514360016 \\n# however the other global function will not be affected by the RandomState's seed value and will remain at the previously 5 seeded value of 6\\nprint(np.random.randint(10))\\n#reset random seed\\n\\n# this shows that the local call to RandomState's methods same (0.49460164553802144) but the global numpy.random functions have different seeds and hence differnt random values \\n\\n# This allows you to have many instances of randomly generated numbers with differnt seeds within the same instance of python running\\n\\n\\n## still not 100 pc sure whats going on with the numbers\\n\\n# https://stackoverflow.com/questions/32462273/how-to-use-random-randomstate\\n\""
      ]
     },
     "execution_count": 31,
     "metadata": {},
     "output_type": "execute_result"
    }
   ],
   "source": [
    "'''\n",
    "# generate a random number with seed 5\n",
    "seed = 5\n",
    "np.random.seed(seed)\n",
    "print(np.random.rand())\n",
    "# output is always 0.22199317108973948\n",
    "\n",
    "#This uses the global rand function and the seed affects all random functions within numpy.random for example \n",
    "\n",
    "print(np.random.randint(10)) # picks a random integer between [0, 10) - its always 6 with a seed of 5 a different simple random function than the one rand used above\n",
    "# This will always be 6 when the seed is 5\n",
    "\n",
    "\n",
    "#another way to achive the same result without affecting other the randomness of other numpy functions is to use RandomState\n",
    "# set the state\n",
    "rs = np.random.RandomState(seed)\n",
    "# call the method\n",
    "print(rs.rand())\n",
    "# This will be 0.8928601514360016 \n",
    "# however the other global function will not be affected by the RandomState's seed value and will remain at the previously 5 seeded value of 6\n",
    "print(np.random.randint(10))\n",
    "#reset random seed\n",
    "\n",
    "# when the above code is run but the seed value is changed\n",
    "\n",
    "# generate a random number with seed 5\n",
    "seed = 50\n",
    "np.random.seed(seed)\n",
    "print(np.random.rand())\n",
    "# output is always 0.22199317108973948\n",
    "\n",
    "#This uses the global rand function and the seed affects all random functions within numpy.random for example \n",
    "\n",
    "print(np.random.randint(10)) # picks a random integer between [0, 10) - its always 6 with a seed of 5 a different simple random function than the one rand used above\n",
    "# This will always be 6 when the seed is 5\n",
    "\n",
    "\n",
    "#another way to achive the same result without affecting other the randomness of other numpy functions is to use RandomState\n",
    "# set the state\n",
    "rs = np.random.RandomState(seed)\n",
    "# call the method\n",
    "print(rs.rand())\n",
    "# This will be 0.8928601514360016 \n",
    "# however the other global function will not be affected by the RandomState's seed value and will remain at the previously 5 seeded value of 6\n",
    "print(np.random.randint(10))\n",
    "#reset random seed\n",
    "\n",
    "# this shows that the local call to RandomState's methods same (0.49460164553802144) but the global numpy.random functions have different seeds and hence differnt random values \n",
    "\n",
    "# This allows you to have many instances of randomly generated numbers with differnt seeds within the same instance of python running\n",
    "\n",
    "\n",
    "## still not 100 pc sure whats going on with the numbers\n",
    "\n",
    "# https://stackoverflow.com/questions/32462273/how-to-use-random-randomstate\n",
    "'''"
   ]
  },
  {
   "cell_type": "code",
   "execution_count": 32,
   "metadata": {
    "scrolled": true
   },
   "outputs": [
    {
     "data": {
      "text/plain": [
       "\"\\n# Create the random state rn with seed 10 \\n# example adapted from https://www.machinelearningplus.com/python/numpy-tutorial-part1-array-python-examples/\\nprint(np.random.RandomState(None))\\n\\nprint(np.random.RandomState())\\n\\nprint(np.random.RandomState(100))\\n\\n\\n\\n\\nrn = np.random.RandomState(10)\\n\\n# Create 20 random numbers between [0,1) with the rand simple random data function\\nprint(rn.rand(20), '\\n')\\nprint(rn.rand(20), '\\n')\\nprint(rn.rand(20), '\\n')\\nprint(rn.rand(20), '\\n')\\nprint(rn.rand(20), '\\n')\\n\""
      ]
     },
     "execution_count": 32,
     "metadata": {},
     "output_type": "execute_result"
    }
   ],
   "source": [
    "'''\n",
    "# Create the random state rn with seed 10 \n",
    "# example adapted from https://www.machinelearningplus.com/python/numpy-tutorial-part1-array-python-examples/\n",
    "print(np.random.RandomState(None))\n",
    "\n",
    "print(np.random.RandomState())\n",
    "\n",
    "print(np.random.RandomState(100))\n",
    "\n",
    "\n",
    "\n",
    "\n",
    "rn = np.random.RandomState(10)\n",
    "\n",
    "# Create 20 random numbers between [0,1) with the rand simple random data function\n",
    "print(rn.rand(20), '\\n')\n",
    "print(rn.rand(20), '\\n')\n",
    "print(rn.rand(20), '\\n')\n",
    "print(rn.rand(20), '\\n')\n",
    "print(rn.rand(20), '\\n')\n",
    "'''\n"
   ]
  },
  {
   "cell_type": "markdown",
   "metadata": {},
   "source": [
    "In the above example, the random numbers generated were the same each time as the state was created locally before the simple random data function was called. If the RandomState is not set each time, numpy.random will default back to the global instance and use a random seed. "
   ]
  },
  {
   "cell_type": "code",
   "execution_count": 33,
   "metadata": {
    "scrolled": true
   },
   "outputs": [
    {
     "data": {
      "text/plain": [
       "\"\\n# Create the random state rn with seed 10 \\n# example adapted from https://www.machinelearningplus.com/python/numpy-tutorial-part1-array-python-examples/\\n\\nseed = 10\\nrn = np.random.RandomState() # this array has a RandomState created\\nprint(rn)\\n\\nrn.get_state\\n\\n\\n# Create 20 random numbers between [0,1) with the rand simple random data function\\n#print(rn.rand(20), '\\n') # This array has a random\\n# The numbers will be the same each time once rn's RandomState is created each time\\n#create the random state\\n#print(rn.rand(20), '\\n')\\n#create the random state\\n#print(rn.rand(5), '\\n')\\n\\n\""
      ]
     },
     "execution_count": 33,
     "metadata": {},
     "output_type": "execute_result"
    }
   ],
   "source": [
    "'''\n",
    "# Create the random state rn with seed 10 \n",
    "# example adapted from https://www.machinelearningplus.com/python/numpy-tutorial-part1-array-python-examples/\n",
    "\n",
    "seed = 10\n",
    "rn = np.random.RandomState() # this array has a RandomState created\n",
    "print(rn)\n",
    "\n",
    "rn.get_state\n",
    "\n",
    "\n",
    "# Create 20 random numbers between [0,1) with the rand simple random data function\n",
    "#print(rn.rand(20), '\\n') # This array has a random\n",
    "# The numbers will be the same each time once rn's RandomState is created each time\n",
    "#create the random state\n",
    "#print(rn.rand(20), '\\n')\n",
    "#create the random state\n",
    "#print(rn.rand(5), '\\n')\n",
    "\n",
    "'''"
   ]
  },
  {
   "cell_type": "markdown",
   "metadata": {},
   "source": [
    "### Seed\n",
    "\n",
    "seed([seed])takes the value selected to seed the Mersenne twister algorithm and its output is not called directly rather it uses the seed input to generate Mersenne twister.[](https://docs.scipy.org/doc/numpy/reference/routines.random.html). It does not return any value as output. If the seed value is not set with this function or the RandomState functon it defaults randomly generated seeds based on the computers internal clock time or internal random generator. Unlike RandomState which only affects the local instance of random method calls, the seed function acts on a global scale and affects all the Numpy.random functions. If the RandomState is not set, it is randomly allocated. Seed is used when the same set of random data is needed. This is used to test models particularly in machine learning. Its input is an integer or 1 dimentional array and if not specified, a random seed is used as mentioned above. [](https://docs.scipy.org/doc/numpy/reference/generated/numpy.random.seed.html#numpy.random.seed) \n",
    "\n",
    "\n",
    "----delete ----\n",
    " numpy.random.seed(seed=None)\n",
    "\n",
    "    Seed the generator.\n",
    "\n",
    "    This method is called when RandomState is initialized. It can be called again to re-seed the generator. For details, see RandomState.\n",
    "    Parameters:\t\n",
    "\n",
    "    seed : int or 1-d array_like, optional\n",
    "\n",
    "        Seed for RandomState. Must be convertible to 32 bit unsigned integers.\n",
    "        \n",
    " ----delete ----\n"
   ]
  },
  {
   "cell_type": "code",
   "execution_count": 34,
   "metadata": {
    "scrolled": true
   },
   "outputs": [
    {
     "data": {
      "text/plain": [
       "'\\n#changes everytime as seed is randomly set\\nnp.random.seed()\\nprint(np.random.rand(5))\\n\\n# remains the same as seed is set\\nnp.random.seed(1)\\n\\nprint(np.random.rand(5))\\nnp.random.seed(1)\\nprint(np.random.ranf(5))\\n'"
      ]
     },
     "execution_count": 34,
     "metadata": {},
     "output_type": "execute_result"
    }
   ],
   "source": [
    "'''\n",
    "#changes everytime as seed is randomly set\n",
    "np.random.seed()\n",
    "print(np.random.rand(5))\n",
    "\n",
    "# remains the same as seed is set\n",
    "np.random.seed(1)\n",
    "\n",
    "print(np.random.rand(5))\n",
    "np.random.seed(1)\n",
    "print(np.random.ranf(5))\n",
    "'''"
   ]
  },
  {
   "cell_type": "markdown",
   "metadata": {},
   "source": [
    "Rough work\n",
    "\n",
    "Container for the Mersenne Twister pseudo-random number generator.\n",
    "\n",
    "RandomState exposes a number of methods for generating random numbers drawn from a variety of probability distributions. In addition to the distribution-specific arguments, each method takes a keyword argument size that defaults to None. If size is None, then a single value is generated and returned. If size is an integer, then a 1-D array filled with generated values is returned. If size is a tuple, then an array with that shape is filled and returned.\n",
    "\n",
    "Compatibility Guarantee A fixed seed and a fixed series of calls to ‘RandomState’ methods using the same parameters will always produce the same results up to roundoff error except when the values were incorrect. Incorrect values will be fixed and the NumPy version in which the fix was made will be noted in the relevant docstring. Extension of existing parameter ranges and the addition of new parameters is allowed as long the previous behavior remains unchanged.\n",
    "Parameters:\t\n",
    "\n",
    "seed : {None, int, array_like}, optional\n",
    "\n",
    "    Random seed used to initialize the pseudo-random number generator. Can be any integer between 0 and 2**32 - 1 inclusive, an array (or other sequence) of such integers, or None (the default). If seed is None, then RandomState will try to read data from /dev/urandom (or the Windows analogue) if available or seed from the clock otherwise.\n",
    "\n",
    "Notes\n",
    "\n",
    "The Python stdlib module “random” also contains a Mersenne Twister pseudo-random number generator with a number of methods that are similar to the ones available in RandomState. RandomState, besides being NumPy-aware, has the advantage that it provides a much larger number of probability distributions to choose from. \n",
    "\n",
    "\n",
    "\n",
    "if RandomState is not used then any random numbers generate may differ the next time they are called as they are been seeded from a difference instance of RandomState\n",
    "\n",
    "If you use the functions in the numpy.random namespace, you will not get consistent pseudorandom numbers because they are pulling from a different RandomState instance than the one you just created.\n",
    "\n",
    "\n",
    "\n",
    "\n",
    "Random generator\n",
    "RandomState([seed]) \tContainer for the Mersenne Twister pseudo-random number generator.\n",
    "seed([seed]) \tSeed the generator.\n",
    "get_state() \tReturn a tuple representing the internal state of the generator.\n",
    "set_state(state) \tSet the internal state of the generator from a tuple."
   ]
  },
  {
   "cell_type": "markdown",
   "metadata": {},
   "source": [
    "### get_state\n",
    "\n",
    "get_state has no input and returns a tuple representing the internal state of the generator [](https://docs.scipy.org/doc/numpy/reference/routines.random.html). It outputs 5 items namely a string 'MT19937' which denotes the (M)ersenne (T)wister 19937 generator. This algorithm as 2<sup>199937</sup> - 1 states [](https://stackoverflow.com/questions/32172054/how-can-i-retrieve-the-current-seed-of-numpys-random-number-generator); The second output item is an array of 624 unsigned 32 bit integer keys. 2<642`*`32> > 2<sup>199937</sup> - 1 hence there is enough bits to represent all the internal states; The third output is a ....; The fourth and fifth output refers to generator states for the standard normal varibale [](https://stackoverflow.com/questions/44313620/converting-to-and-from-numpys-np-random-randomstate-and-pythons-random-random). The Box-Muller transformation is used by Numpy which creates pairs of these variables, one for immediate use and one stored for later use. [](https://en.wikipedia.org/wiki/Box%E2%80%93Muller_transform). I dont know want the 10 in the third output refers to, but I speculate its something to do with position. \n",
    "\n",
    "\n",
    "e last two entries there refer to the state of the generator for standard normal deviates: NumPy uses the Box–Muller transform, which generates these deviates in pairs. So the first call to the gaussian generator produces two values, returns the first, and then stores the second away for later use. The second call then retrieves that second value. Thus we have extra state here that it's necessary to store and retrieve.\n",
    "\n",
    "\n",
    "\n",
    "postive integer \n",
    "\n",
    "\n",
    ", a specific 624 element array\n",
    "get_state() \tReturn a tuple representing the internal state of the generator.\n",
    "\n",
    " numpy.random.get_state()¶\n",
    "\n",
    "    Return a tuple representing the internal state of the generator.\n",
    "\n",
    "    For more details, see set_state.\n",
    "    Returns:\t\n",
    "\n",
    "    out : tuple(str, ndarray of 624 uints, int, int, float)\n",
    "\n",
    "        The returned tuple has the following items:\n",
    "\n",
    "            the string ‘MT19937’.\n",
    "            a 1-D array of 624 unsigned integer keys.\n",
    "            an integer pos.\n",
    "            an integer has_gauss.\n",
    "            a float cached_gaussian.\n",
    "\n"
   ]
  },
  {
   "cell_type": "code",
   "execution_count": 35,
   "metadata": {
    "scrolled": false
   },
   "outputs": [
    {
     "name": "stdout",
     "output_type": "stream",
     "text": [
      "('MT19937', array([ 681047108, 3432209844, 1525557672, 3786426477,  518805828,\n",
      "        608334427, 2326484548, 3690267269, 1286517025, 1866358037,\n",
      "       1554979911, 2060061204,  503793688, 1145696966,   92480167,\n",
      "       1846109959, 1505373726,  922249536, 3372236782, 1117762431,\n",
      "        416539740,  188961906, 3366579479, 1084405983, 2080509047,\n",
      "       4016972953,  937724874,  984243376,  285484227, 2407261433,\n",
      "       3366848263, 4064684171, 3640015674, 1160677592,  194430107,\n",
      "       3668675951, 2000378432, 1884035549, 1272974708,  168334019,\n",
      "       2332999755, 2780069726, 4085149640, 3971294521, 2170945726,\n",
      "       2478340911, 1955358135, 1245788489, 2491314544, 1340561683,\n",
      "       1261519930, 3778224927, 1247556503, 1116001016,  421745669,\n",
      "       1157791452, 4178960616, 1043575656, 2232987156, 1614568700,\n",
      "          4142155,  433178964, 2225337633,  764501482, 3717520093,\n",
      "       2627874789,  424661936, 3430550024, 3170203558,  194724878,\n",
      "       4025127743, 2157210097, 2860981309, 3434846147,  147882554,\n",
      "       1068740304, 1591005677, 1656129997, 2003075155,  985608592,\n",
      "       3638450540, 3714067555, 3198412157, 1896048556, 1191332613,\n",
      "       1574879019, 1097457134, 3557726922, 1056440016, 3529286686,\n",
      "       2438896710, 3546169657,  940551692,   23668498, 3923153423,\n",
      "       2504301755,  570101138, 3455924813, 4165242278,  352962421,\n",
      "       1601719839, 3802661149, 2148741486,  242804923,  190730774,\n",
      "       4026429778,  484644472, 1663913428, 2477199294, 2172502671,\n",
      "       2146068430, 3470473955, 2375242047, 1667770068, 1175916957,\n",
      "       1513900565, 3166602341, 1137347410, 2593397575, 1671664818,\n",
      "       1829872568, 2343149869, 1197658947, 2526960111, 1737073520,\n",
      "       2981161183, 2558417047, 2842313916, 3931697728, 1070247277,\n",
      "        978428004,  322444860, 4255904523,  219477761, 1904439885,\n",
      "       2233114112, 3784985715, 3420548301, 3876175640, 1759123408,\n",
      "       3748352700, 1823781035, 1109091258, 1673246349,   16520767,\n",
      "       2049270095, 2862377923, 3427201973, 3338174677, 1101491008,\n",
      "       2012271934, 2343830081,    1610035,  226677183,   13523759,\n",
      "       4057518253, 3202059097,  618963906,  256181514, 1819950498,\n",
      "       1435544479, 1175127549, 1094306402,  904293226, 3122871430,\n",
      "       3860542266, 2904337308, 3977295809, 2037228514,  812883652,\n",
      "       1659147613, 2045274069, 2976503540,  731682646, 3635512695,\n",
      "       3970578463, 2623953827, 2119453371, 2041844915, 1146477804,\n",
      "       1845410248, 2203820497,  523862014, 1431688140,  461855569,\n",
      "       2336823614, 2948641176, 3697287882, 3956655509, 3635267762,\n",
      "       2833580193, 3887488492,  323260055, 2141235294, 1274768819,\n",
      "       3305507748,  454270169, 2656196286, 1862223838, 3366259008,\n",
      "       3460197534, 2318822262,  551700051, 4097790553, 1384046927,\n",
      "       2171318154, 4039410064, 2767571623, 3072397594, 1415038424,\n",
      "       3853937169, 3604346391, 3951972859, 2776946863,  344080617,\n",
      "       3534804743, 4096038112, 2998017148,  212023130, 3564784829,\n",
      "        722219408, 4219162555, 2044147990, 2353921944, 2540641609,\n",
      "       1255266002, 3884888321, 4133270234,  860477982,  479089824,\n",
      "       1622654277, 1304820057, 3593813257,  977358613, 1911372686,\n",
      "       2938810926, 1511540577, 3084319262, 3863791649, 3936824542,\n",
      "       1724858268,  827461334, 3563399094, 1172465674,  460193648,\n",
      "       2595130407, 4212007927, 1651089189,  813900270, 1023510913,\n",
      "       2449677375,  955284631, 2811596215, 4171722861, 1677674710,\n",
      "       1038190917,  136354432, 1436431212, 3862349168, 2609693839,\n",
      "       1533987257,  667703516, 3759800365, 1163205950, 4228705239,\n",
      "       2472449091,  472392133, 1266589729, 1340907213, 3247813713,\n",
      "       3714142355, 1655232995,  436541855, 2615419175, 4096273548,\n",
      "       2977882740, 3798207749, 3160484538, 2578187950,  340251281,\n",
      "        254220208, 3344479490, 1854595811, 1342467096, 3181378912,\n",
      "       1925279472, 3192583137,  905246651,  282576751, 3723699282,\n",
      "        700276170, 1540060668,  478050829, 3253291860,  938271760,\n",
      "       3855154065, 1161125068, 4004147453, 2582187011,   62143703,\n",
      "       4106040962,  289597128,  313420009, 3755349004, 2028355885,\n",
      "        508581040, 1599604249,  343709459, 3968621870, 3189446538,\n",
      "       2766833886, 3987611375, 1259928847, 2866832659,  645958723,\n",
      "        410850405,  862518826, 1187693788,   39634368,  651159953,\n",
      "       1400729669, 1641707624, 2120485335,  492304606, 1277014143,\n",
      "       1963613979,  411281201, 3175686771, 3884422761,  377392769,\n",
      "        806902770,   38919517,  697109847, 4004073783, 1437579553,\n",
      "       3317770955, 2940504788, 3734352102, 2028968930,  117945253,\n",
      "       1871234633, 4224635754,  271073908, 2733899099, 2352947452,\n",
      "       3655965170,  705812010, 1191958733, 1528272451, 3124380764,\n",
      "       4220683038,  823474870,  724005406,  925177182, 2351802875,\n",
      "        800174113, 2440852479, 3121045741, 3175246565, 1398483751,\n",
      "       1081006200, 3844378502,   15080537, 1631302892, 3665801676,\n",
      "       2208068898, 3228739576, 4282676890, 3466464462, 1818334793,\n",
      "        395089048,  814736189, 1825808198, 2630129467, 4237004872,\n",
      "       2016443101, 1461266512, 3180452280,  219468689,  150027438,\n",
      "       1261065963, 1257177191, 3954974856, 2363011117, 1202737406,\n",
      "       3000313034, 2573886861, 3340827341, 3061376947, 4180140220,\n",
      "        634279927, 4096646173, 4105094122, 1929342725, 3402159658,\n",
      "       1770771866, 3743918076, 3446061761, 3783865149,  224029854,\n",
      "       2348035093, 1973964328, 2095984629, 1881873932, 1714864131,\n",
      "       3337356375, 2418446036,  192840709, 4148352323,  800549711,\n",
      "       1501286370, 1612444313, 2116652194, 2391938031, 2847022228,\n",
      "       2095811840, 2874433749,  124335179, 1655553406,  735755637,\n",
      "       3055212320, 4195210482, 1922582723, 1783049052,  221563603,\n",
      "       4042428076, 1300907868, 1125966355, 1629654792, 4100834653,\n",
      "       1001241018, 1457836844, 3298790274, 3471692142, 2484239534,\n",
      "       2529604087, 2064298232, 3651509555, 3507992134, 1811145918,\n",
      "       2500378740, 3611151333,  325595753, 2095766289, 2373695401,\n",
      "       1122771514,  357153614, 1359516460,  548429435, 1783667835,\n",
      "        105272720, 4294204822,  919315348, 2656904397, 2417017282,\n",
      "        107362153, 2973683649, 1217507026, 3042233803, 3482607820,\n",
      "        313494554,  427567376, 2376485399, 3311426378, 2688926657,\n",
      "       1695077049,  843368080, 2461453307,  490865100, 3423824754,\n",
      "       1909359889, 1327352335, 3932297162,  307188634, 1612703430,\n",
      "        295721847, 1761648445, 3572795928, 2194995345, 3251935626,\n",
      "       3105656825, 2257817200, 3523687396,  529553866,  145883379,\n",
      "        677818169,  135507891, 1415528972, 3079623168, 1085405061,\n",
      "       3104858888,  781818464, 1269236192, 4176561599, 2409782882,\n",
      "        410241314, 4278078702, 1042896237,   14005270, 1118970379,\n",
      "       2225172241, 3420565664, 2345817434, 2521126058,  998253016,\n",
      "       2926834302, 1247655099, 4014928393,  156319328,  165689166,\n",
      "       1698490516, 1598347979, 2076010723, 3761448215,   85827176,\n",
      "       2558986987, 4236535456, 4186676527, 1976320060, 2682362122,\n",
      "        285706342, 1341034308, 1831195293, 1120537237,  216916492,\n",
      "       4120906668, 2971030567, 1750263179,  424496684, 3020188377,\n",
      "        675357966,  557980686, 3273866727,   58944821, 1826989616,\n",
      "        418782266, 2167907206, 1813133495,  556663537, 3079280166,\n",
      "       3094555165, 2204817516, 3174558508, 4178113055,  214775576,\n",
      "        917858187, 3261314999, 3042221168, 3258960228, 3253054561,\n",
      "       1369458574, 1154870908, 1032749768,   66395767,  944737160,\n",
      "       1875430919, 2491881552, 1012762305, 2209499064,  291823440,\n",
      "       2168577396,  809149852, 1639185997, 3782818748, 3949779740,\n",
      "       2383534618,  779134094,  187980774,  448697061, 2418216517,\n",
      "       2006367751, 3163743874, 2791469144,   95545823, 1759565426,\n",
      "        257076302, 1208368779, 2098025128, 2931175006, 1342422407,\n",
      "       2122276049, 1923556064, 2391152983,  851307869, 2836282438,\n",
      "       1188862370, 2085532072, 3792955846,  420703156,  263586565,\n",
      "       3679166733,  555920862, 2768693901, 3883505764, 3053935552,\n",
      "        315325724, 2552405063,  753404940, 2176314529, 3608562911,\n",
      "         71142537, 3010563937, 3268027492, 2238230528, 3658561781,\n",
      "        314332524, 2969368927,  766443553, 3975081170,  500201524,\n",
      "       2724372115,  706395711, 1756767147,  586427222, 1695137588,\n",
      "       1577858404, 2690281755, 2575014372, 2250803612, 1649621058,\n",
      "       3880657580, 3116321584, 2763474215, 3412876766], dtype=uint32), 434, 0, 0.0)\n",
      "434\n",
      "0\n",
      "0.0\n"
     ]
    }
   ],
   "source": [
    "#print(np.random.get_state())\n",
    "\n",
    "# adapted from https://stackoverflow.com/questions/45190558/direct-way-to-access-numpy-randomstate-object/45190832#45190832\n",
    "\n",
    "state = np.random.get_state()\n",
    "np.random.rand()\n",
    "print(state)\n",
    "\n",
    "#print(np.random.set_state(state))\n",
    "\n",
    "np.random.rand()\n",
    "\n",
    "#print(state[0]) # the algorithm used MT (2**19937) - 1 \n",
    "#print(state[1]) # used in representing the internal states\n",
    "print(state[2]) # ??? is this the state number?? it goes up in 4's every time its executed some sort of counter - restart python and see if it resets\n",
    "# it seems to have gone back to 10 - comment out the other random state calls above and see if it goes back to 2\n",
    "# is it a number that counts the number of times the random state is called in a particular session? no that didn't do anything - turn off and one jp and see if that does something\n",
    "print(state[3]) # used in the box muller transformation of the MT\n",
    "print(state[4]) # used in the box muller transformation of the MT"
   ]
  },
  {
   "cell_type": "markdown",
   "metadata": {},
   "source": [
    "\n",
    "# Reference\n",
    "\n",
    "Idris, I. (2015). NumPy: Beginner's Guide - Third Edition. 3rd ed. BIRMINGHAM - MUMBAI: Packt Publishing. \n",
    "\n",
    "McKinney, W. (2018). Python for data analysis. Beijing [i 4 pozostałe]: O'Reilly.\n",
    "\n",
    "Docs.scipy.org. (2018). Random sampling (numpy.random) — NumPy v1.15 Manual. [online] Available at: https://docs.scipy.org/doc/numpy-1.15.1/reference/routines.random.html [Accessed 20 Oct. 2018].\n",
    "\n",
    "Vo. T.H, P., Czygan, M., Kumar, A. and Raman, K. (2017). Python. Birmingham: Packt Publishing.\n",
    "\n",
    "McLeod, S. (2018). Sampling Methods | Simply Psychology. [online] Simplypsychology.org. Available at: https://www.simplypsychology.org/sampling.html [Accessed 20 Oct. 2018].\n",
    "\n",
    "En.wikipedia.org. (2018). Simple random sample. [online] Available at: https://en.wikipedia.org/wiki/Simple_random_sample [Accessed 20 Oct. 2018].\n",
    "\n",
    "Mehta, H. (2015). Mastering Python scientific computing. 1st ed. Birmingham: Packt Publishing."
   ]
  },
  {
   "cell_type": "code",
   "execution_count": null,
   "metadata": {
    "scrolled": true
   },
   "outputs": [],
   "source": []
  },
  {
   "cell_type": "code",
   "execution_count": null,
   "metadata": {
    "scrolled": true
   },
   "outputs": [],
   "source": []
  }
 ],
 "metadata": {
  "kernelspec": {
   "display_name": "Python 3",
   "language": "python",
   "name": "python3"
  },
  "language_info": {
   "codemirror_mode": {
    "name": "ipython",
    "version": 3
   },
   "file_extension": ".py",
   "mimetype": "text/x-python",
   "name": "python",
   "nbconvert_exporter": "python",
   "pygments_lexer": "ipython3",
   "version": "3.6.6"
  }
 },
 "nbformat": 4,
 "nbformat_minor": 2
}
