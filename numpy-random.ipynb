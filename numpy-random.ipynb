{
 "cells": [
  {
   "cell_type": "markdown",
   "metadata": {},
   "source": [
    "\n",
    "\n",
    "# Assignment - Explain the numpy.random package\n",
    "\n",
    "![numpylogo](img/numpy.jpeg)\n",
    "\n",
    "\n",
    "\n",
    "## Why are random numbers needed? \n",
    "\n",
    "The ability to generate random numbers has many useful applications. Say a researcher is interested in the effectiveness of a new ulcer drug. The population of interest is every person with ulcers. It would impractically costly and time-consuming contact everyone with ulcers, give them the drug and then compare before and after reports. Indeed, the population of people with ulcers as a total population would be impossible to judge as many people may have ulcers without ever seeking treatment or are undiagnosed. \n",
    "\n",
    "## Why take samples?\n",
    "\n",
    "The researcher needs to take a sample from this population. This sample should be big enough and diverse enough so that it fairly represents the wider population. The sample data is used to make **generalisations** about its population. For example, a common bias in psychology research is using its student population as a sample of the general population. In reality students are not fair models of the general population as they are more likely to be from a more affluent and better educated subset of the general population (Hanel & Vione 2016). Sampling involves taking a sufficiently sized subset of a given population, that accurately reflects the phenomena under investigation,so that information from the sample can be used to infer things about the overall population. It is vital then that *the sample shares the same characteristics as its target population*. \n",
    "\n",
    "## Problems with picking samples \n",
    "\n",
    "Picking samples that represent a population is prone to **biases**. For example, if asked to pick a number at random between 1 and 10 there will be far more 3's and 7's than would be expected if the choice was truly random (Bellos,2014).\n",
    "\n",
    "One way to reduce sampling bias is to use **random sampling** (Foley, 2018). Random sampling means that every item in the target population has an *equal* chance of being selected. In the example above, the target population would be the numbers between 1 and 10 inclusive and random sampling means that each number in this interval would have an equal probability of being selected. \n",
    "\n",
    "If random sampling is not used then certain elements of the population are favoured over others which skews the results and limits its generalising ability. In reality, it is often difficult to define the target population from its sample precisely so that *only* the phenomena in question is investigated.  \n",
    "\n",
    "![Literary Digest](img/digest.jpg)\n",
    "\n",
    "For example in 1936 there was a phone poll conducted by The Literary Digest which predicted that the Republican Alfred Landon would win the election 57% to 43% from the Democrat F.D.Roosevelt. However, the actual results from the election was 62% in favour of FDR. The problem was sample bias. Only readers of digest that had phones and cars were polled and they were more likely to vote Republican in depression era America. People with cars/phones were also more likely to come from a more affluent background and were not as likely to be moved by FDR’s new deal rhetoric(Wikipedia contributors 2018a). It appears that lessons were not learned and a similar bias occurred in the 1948 Truman-Dewey United States presidential election (Foley, 2018, Wikipedia contributors, 2018a).  Random sampling does not remove sample bias but it does limit one aspect of it, biases introduced by favouring subsets of the target population rather than then every element being as likely to be selected as every other one.   \n",
    "\n",
    "\n",
    "## Algorithms and random numbers\n",
    "\n",
    "Computing algorithms are deterministic . They cannot generate true randomness without using some external piece of information(Wikipedia contributors, 2018b). \n",
    "\n",
    "![lave lamps](img/lava.jpg)\n",
    "\n",
    "\n",
    "For example the DNS service, *Cloudflare* uses a wall of lava lamps in its head office to help generate the randomness needed for its cryptography (Liebow-Feeser, 2018). Many areas of science and computing do not need true randomness. In fact, some areas require predictable ‘randomness’ so that model parameters can be tested with the same random ‘noise’. Computer algorithms use **pseudo random numbers** (Idris, 2015). To all appearances these look random but if a key piece of information is known, the whole random sequence can be predicted. There are several **pseudo random number generator**(PRNG) algorithms. \n",
    "\n",
    "One of the most widely used PRNG is the *Mersenne Twister*. A Mersenne number (or Mersenne prime) is a prime number that is one less than a power of 2 (Weisstein, 2018). The twister aspect refers to its period length being a Mersenne prime which is ‘twisted’ by various transformations when random numbers are generated (Wikipedia contributors, 2018c). A commonly used Mersenne twister uses 19937 as its power.  This algorithm takes a ‘seed’ value as a starting point. This is initialised into a state and transformed via reversible and non-reversible transformations in order to generate the pseudo random numbers PRN. (Wong, n.d.). The Mersenne Twister is not secure enough for cryptology however it a useful and widely used all purpose PRNG (Wikipedia contributors, 2018c).  \n",
    "\n",
    "## Random numbers in Python\n",
    "\n",
    "![python logo](img/python.png)\n",
    "\n",
    "Python has an in built random package *random* (Python contributors, n.d.). NumPy extends this by adding extra functionality and methods in its *numpy.random* package (Oliphant & NumPy contributors. n.d.a). Both Python and Numpy.random use the Mersenne twister 19937 algorithm to generate PRNs (Python contributors, n.d.; Stackoverflow, alexdor, n.d.).\n",
    "\n",
    "\n",
    "## Why use NumPy for generating random numbers\n",
    "\n",
    "Python's *random* method generates a random float number uniformly from the interval 0 inclusive to 1 exclusive (Python contributors, n.d.). *Random* has many of the functions and methods contained in numpy.random so *why use numpy.random?*\n",
    "\n",
    "The main reason numpy.random function is used over Python’s random.random package is that NumPy is designed to work with n dimensional arrays. Numpy uses less memory and is faster than lists used in the default python.   NumPy is specialised for scientific operations and has more advanced mathematical functionality than Python. It is especially useful for manipulating numerical data that can be arranged in matrices (Metaspace contributors, n.d.; Numpy contributiors, n.d.). \n",
    "\n",
    "PRN’s can be arranged in arrays, a speciality in NumPy (Numpy contributiors, n.d.). Numpy.random and Python’s default random.random have similar functions and methods but numpy.random has some extra probability distributions common to scientific research and some extra simple random data convenience functions (Python contributors, n.d.;Oliphant & NumPy contributors, n.d.b).  Neither are suitable for cryptography purposes (Stackoverflow, Hannele, n.d.).\n",
    "\n",
    "The functions and methods offered in numpy.random are the following (Oliphant & NumPy contributors, n.d.b): \n",
    "\n",
    "* simple random data\n",
    "* permutations\n",
    "* distributions\n",
    "* random generator\n",
    "\n",
    "*Simple random data* section consist of several functions that generate simple random data.Inputs can be size or range. *Permutation* functions randomly shuffle or permutes a given sequence. *Distribution* functions allow specific population distributions or ranges to be sampled. This may require statistical measures such as mean and standard deviation. numpy.random can generate samples from continuous and discrete distributions (Idris, 2015). Lastly, the *random generator* section contains functions that allow seeds to be specified (Mehta, 2015). This is useful in cases where the exact same sequence of random data is required. Each of these sections will be explored. \n",
    " "
   ]
  },
  {
   "cell_type": "markdown",
   "metadata": {},
   "source": [
    "## What does Simple random data do?\n"
   ]
  },
  {
   "cell_type": "markdown",
   "metadata": {},
   "source": [
    "There are 10 simple random data functions in numpy.random, namely (Oliphant & NumPy contributors, n.d.b); \n",
    "\n",
    "1. rand\n",
    "2. randn\n",
    "3. randint\n",
    "4. random_integers\n",
    "5. random_sample\n",
    "6. random\n",
    "7. randf\n",
    "8. sample\n",
    "9. choice\n",
    "10. bytes\n",
    "\n",
    "Of these random, ranf and sample are aliases of random_sample, with similar inputs and outputs (Stackoverflow, askewchan,  n.d.). In addition rand and randn are convenience functions, meaning that their functionality can be achieved by Python's in built functions (Oliphant & NumPy contributors, n.d.c, n.d.d; Python contributors, n.d.). Each of these functions are used to generate simple random data of various sizes or shapes over various intervals or ranges. Which function is used depends on the requirements. \n"
   ]
  },
  {
   "cell_type": "markdown",
   "metadata": {},
   "source": [
    "### Import libraries"
   ]
  },
  {
   "cell_type": "code",
   "execution_count": 2,
   "metadata": {
    "scrolled": true
   },
   "outputs": [],
   "source": [
    "#Import packages numpy and matplotlib.pyplot\n",
    "import numpy as np\n",
    "import random\n",
    "import matplotlib.pyplot as plt\n",
    "import pandas as pd\n",
    "# display pyplot in jupyter notebook\n",
    "%matplotlib inline"
   ]
  },
  {
   "cell_type": "markdown",
   "metadata": {},
   "source": [
    "### Python's default random function\n",
    "\n",
    "Python has the built in random function for generating simple random data (Python contributors, n.d.)."
   ]
  },
  {
   "cell_type": "code",
   "execution_count": 2,
   "metadata": {
    "scrolled": true
   },
   "outputs": [
    {
     "name": "stdout",
     "output_type": "stream",
     "text": [
      "Simple random data from python's inbuilt random function \n",
      "\n",
      "0.016605310387903804 \n",
      "\n",
      "Simple random data from python's inbuilt random function uniformly distriubted between 0 and 1 \n",
      "\n",
      "0.6013876877147913\n"
     ]
    }
   ],
   "source": [
    "r1 = random.random()\n",
    "print(\"Simple random data from python's inbuilt random function\", '\\n')\n",
    "print(r1, '\\n')\n",
    "print(\"Simple random data from python's inbuilt random function uniformly distriubted between 0 and 1\", '\\n')\n",
    "r2 = random.uniform(0,1)\n",
    "print(r2)"
   ]
  },
  {
   "cell_type": "markdown",
   "metadata": {},
   "source": [
    "numpy.random extends this, adding extra functions and methods (Oliphant & NumPy contributors, n.d.b) \n",
    "\n",
    "\n",
    "|Simple Random Data |    Input                    |     Output                                                       |\n",
    "| ----------------- |--------------------------   | ---------------------------------------------------------------  |\n",
    "| rand              | d0, d1, …, dn               | Random values in a given shape                                   |               \n",
    "| randn             | d0, d1, …, dn               | sample (or samples) from the 'standard normal' distribution      |              \n",
    "| randint           | low\\[, high, size, dtype\\]  | Return random integers from low (inclusive) to high (exclusive)  |            \n",
    "| random_integers   | low\\[, high, size \\]) \t  | Random integers of type np.int between low and high, inclusive.  |\n",
    "| random_sample     | \\[size\\]                    | Random floats in the half-open interval \\[0.0, 1.0)              |               \n",
    "| random            | \\[size\\]                    | Random floats in the half-open interval \\[0.0, 1.0)              |               \n",
    "| ranf              | \\[size\\]                    | Random floats in the half-open interval \\[0.0, 1.0)              |               \n",
    "| sample            | \\[size\\]                    | Random floats in the half-open interval \\[0.0, 1.0)              |               \n",
    "| choice            | a\\[, size, replace, p\\]     | Generates a random sample from a given 1-D array                 |                     \n",
    "| bytes             | length                      | Random bytes                                                     |      \n",
    "\n",
    "### rand\n",
    "\n",
    "rand(d0, d1, ..., dn) outputs random values in a given shape (Oliphant & NumPy contributors, n.d.c). Shape refers to the arrangement of the arrays. e.g. a input of  rand(1) is a single 1 by 1 matrix array(number of rows x columns); An input of (2,3) is  a 2 by 3 matrix array, while an input of (2,3,4) is 2 arrays consisting each consisting of 3 by 4 matrix arrays. \n",
    "rand is a convenience or helper function. It creates random values in a given shape. Inputs are non negative integers, although 0 returns an empty array.  If no input is given a single number is outputted. Output arrays come from the continuous uniform distribution i.e. each number has the same probability of being selected in the interval between 0 inclusive and 1 exclusive `[0, 1)` (square bracket indicates the number enclosed by it is included and round brackets indicates that the number enclosed by it is excluded). Rand is a convenience function as a similar output can be generated by Python's random.random function. \n",
    "\n",
    "#### When would you use rand?\n",
    "\n",
    "Use rand if you want to generate random values from a uniform semi closed interval `[`0,1) to populate matrices of a given size; note single floats can be generated with empty parameters and single element arrays can be generated with argument 1. It is similar to Python's random.random but extends the input to accept different array sizes (Python contributors, n.d.; Oliphant & NumPy contributors, n.d.c).\n"
   ]
  },
  {
   "cell_type": "code",
   "execution_count": 3,
   "metadata": {
    "scrolled": true
   },
   "outputs": [
    {
     "name": "stdout",
     "output_type": "stream",
     "text": [
      "Generate a 2 by 4 matrix filled with random numbers in [0,1) \n",
      "\n",
      "[[ 0.30532522  0.22619226  0.00339434  0.32880407]\n",
      " [ 0.7574702   0.62368054  0.17019166  0.89376965]] \n",
      "\n",
      "Generate a single float \n",
      "\n",
      "0.6038795313843236 \n",
      "\n",
      "Generate a 1-d matrix \n",
      "\n",
      "[ 0.34134008] \n",
      "\n"
     ]
    }
   ],
   "source": [
    "print(\"Generate a 2 by 4 matrix filled with random numbers in [0,1)\", \"\\n\")\n",
    "print(np.random.rand(2,4), \"\\n\")\n",
    "print(\"Generate a single float\", \"\\n\")\n",
    "print(np.random.rand(),\"\\n\")\n",
    "print(\"Generate a 1-d matrix\", \"\\n\")\n",
    "print(np.random.rand(1),\"\\n\")\n"
   ]
  },
  {
   "cell_type": "markdown",
   "metadata": {},
   "source": [
    "### randn\n",
    "\n",
    "randn((d0, d1, ..., dn) outputs a sample(s) from the *standard normal* distribution $X\\sim N(0,\\,1)$ (Oliphant & NumPy contributors, n.d.d).\n",
    "randn is similar to rand but takes its random numbers from the standard normal distribution with mean 0 and standard deviation 1. It is similar to the standard_normal distribution in Python.random (Python contributors, n.d.) however standard_normal can have tuples as arguments. Randn's arguments must be positive integers or integer like (such as int(1.02)). Like rand, it is a convenience function with inputs for sizes. If no input given a single random number (float) from the standard normal distribution is outputted. Outputs take the form of n dimensional arrays in the shape specified by the inputs. If a non-standard normal distribution $X\\sim N(\\mu,\\,\\sigma^2)$ is required, the transformation $\\mu + \\sigma * np.random.rand()$ can be applied where $\\mu$ is the mean and $\\sigma$ is the standard deviation. \n",
    "\n",
    "#### When would you use randn?\n",
    "\n",
    "Use randn If you want to generate random values in a specified shape with values taken from the standard normal distribution centered in a bell curve round 0 with most values falling between -3 and 3. Unlike rand - negative values can be returned. Transform the data random numbers from other normal distributions are required. "
   ]
  },
  {
   "cell_type": "code",
   "execution_count": 4,
   "metadata": {
    "scrolled": true
   },
   "outputs": [
    {
     "name": "stdout",
     "output_type": "stream",
     "text": [
      "No input given  - single random float returned \n",
      "\n",
      "-1.0176026910173839 \n",
      "\n",
      "1 input given  - single random array from N(0,1) \n",
      "\n",
      "[ 2.91032139] \n",
      "\n",
      "5 outputs a 1x1 array of 5 random floats from N(0,1) \n",
      "\n",
      "[-0.15185341 -1.0769845  -0.18893661  0.55725022  1.18983933] \n",
      "\n",
      "outputs 2 arrays of 3x4 matrices filled with random numbers from N(0,1) \n",
      "\n",
      "[[[ 1.11190636 -1.102967    0.06543374 -0.35008674]\n",
      "  [-1.80378655 -0.64950554 -1.91112006  0.07598063]\n",
      "  [ 1.05906872  0.08197657 -0.68325958 -0.94389142]]\n",
      "\n",
      " [[ 0.2033789   0.83093608  0.32951769 -0.54175573]\n",
      "  [ 0.03226356 -0.55691863 -0.47938894 -0.97952371]\n",
      "  [ 0.0797498  -1.65769866  0.23238819  0.66404622]]] \n",
      "\n"
     ]
    }
   ],
   "source": [
    "print(\"No input given  - single random float returned\", \"\\n\")\n",
    "print(np.random.randn(), \"\\n\")\n",
    "\n",
    "print(\"1 input given  - single random array from N(0,1)\",\"\\n\")\n",
    "print(np.random.randn(1),'\\n')\n",
    "\n",
    "print(\"5 outputs a 1x1 array of 5 random floats from N(0,1)\",\"\\n\")\n",
    "print(np.random.randn(5),'\\n')\n",
    "\n",
    "print(\"outputs 2 arrays of 3x4 matrices filled with random numbers from N(0,1)\",\"\\n\")\n",
    "print(np.random.randn(2,3,4),'\\n')\n"
   ]
  },
  {
   "cell_type": "markdown",
   "metadata": {},
   "source": [
    "To see the shape of the distribution plot a histogram. This is the standard normal distribution around its mean of 0 with a standard deviation 1.  "
   ]
  },
  {
   "cell_type": "code",
   "execution_count": 6,
   "metadata": {
    "scrolled": false
   },
   "outputs": [
    {
     "data": {
      "image/png": "[encoded data removed]",
      "text/plain": [
       "<matplotlib.figure.Figure at 0x1fa47907f28>"
      ]
     },
     "metadata": {
      "needs_background": "light"
     },
     "output_type": "display_data"
    }
   ],
   "source": [
    "plt.subplot(121)\n",
    "x = np.random.randn(10000)\n",
    "plt.title(\"Standard Normal - randn\")\n",
    "plt.hist(x)\n",
    "plt.subplot(122)\n",
    "x = np.random.rand(10000)\n",
    "plt.title(\"Uniform - rand\")\n",
    "plt.hist(x)\n",
    "plt.subplots_adjust(bottom=1.0, right=2.0, top=2.0)\n",
    "plt.show()"
   ]
  },
  {
   "cell_type": "code",
   "execution_count": 8,
   "metadata": {
    "scrolled": false
   },
   "outputs": [
    {
     "name": "stdout",
     "output_type": "stream",
     "text": [
      "To generate shaped random numbers from a normal distribution N(2, 9) \n",
      " transform randn by mean + standard deviation times randn \n",
      "\n",
      "this shifts the plot left to centre it round 2 with a spread of 9\n"
     ]
    },
    {
     "data": {
      "image/png": "[encoded data removed]",
      "text/plain": [
       "<matplotlib.figure.Figure at 0x1fa47c21898>"
      ]
     },
     "metadata": {
      "needs_background": "light"
     },
     "output_type": "display_data"
    }
   ],
   "source": [
    "print(\"To generate shaped random numbers from a normal distribution N(2, 9) \\n transform randn by mean + standard deviation times randn\",\"\\n\")\n",
    "plt.hist(2+3*np.random.randn(1000))\n",
    "print(\"this shifts the plot left to centre it round 2 with a spread of 9\")"
   ]
  },
  {
   "cell_type": "markdown",
   "metadata": {},
   "source": [
    "### randint\n",
    "\n",
    "randint((low\\[, high, size, dtype\\]))outputs random integers from low (inclusive) to high (exclusive)(Oliphant & NumPy contributors, n.d.e). \n",
    "\n",
    "randint differs from the rand and randn, in that it returns **integers** not floats, within a specified interval \\[low, high). Integers are returned from the ***discrete** uniform distribution* $X\\sim U(a,\\,b)$. \n",
    "\n",
    "Whereas rand returned numbers from the ***continuous** uniform distribution* $X\\sim U(0,\\,1)$. \n",
    "\n",
    "If no arguments are given an error is returned. If one argument is given, say h then this is assumed to be the higher bound and positive and the lower bound is assumed to be  0  i.e. \\[0, h). \n",
    "\n",
    "Size can also be specified. For example if 10 random numbers are required between [0, 5) the arguments would be (0,5,10). Data type can also be specified, the default is np.int. dTypes relate to the way memory blocks are interpreted (Stackoverflow, Joe Kington,  n.d.).   \n",
    "\n",
    "#### When would you use randint?\n",
    "\n",
    "randint would be used when integers rather than floats are required and the integers lie within a certain range. e.g. generate a random number between 1 and 10 inclusive."
   ]
  },
  {
   "cell_type": "code",
   "execution_count": 9,
   "metadata": {
    "scrolled": true
   },
   "outputs": [
    {
     "name": "stdout",
     "output_type": "stream",
     "text": [
      "Generate a random integer between 1 and 10 inclusive \n",
      "\n",
      "10 \n",
      "\n",
      "Generate 3 random integer between 1 and 10 inclusive \n",
      "\n",
      "[ 4 10  7] \n",
      "\n",
      "Generate a random non negative integer less than 4 \n",
      "\n",
      "2 \n",
      "\n",
      "Generate a random integer between -5 and 5 inclusive  \n",
      "\n",
      "-3 \n",
      "\n"
     ]
    }
   ],
   "source": [
    "print(\"Generate a random integer between 1 and 10 inclusive\",\"\\n\")\n",
    "print(np.random.randint(1, 11),\"\\n\")\n",
    "\n",
    "print(\"Generate 3 random integer between 1 and 10 inclusive\",\"\\n\")\n",
    "print(np.random.randint(1, 11, 3),\"\\n\")\n",
    "\n",
    "print(\"Generate a random non negative integer less than 4\",\"\\n\")\n",
    "print(np.random.randint(4),\"\\n\")\n",
    "\n",
    "print(\"Generate a random integer between -5 and 5 inclusive \",\"\\n\")\n",
    "print(np.random.randint(-5, 6),\"\\n\")"
   ]
  },
  {
   "cell_type": "markdown",
   "metadata": {},
   "source": [
    "### random_integers\n",
    "\n",
    "random_integers(low\\[, high, size\\]) outputs random integers of type np.int between low and high, inclusive. Size refers to the number of random values required from the specified interval. This function is no longer maintained (Oliphant & NumPy contributors, n.d.f). \n",
    "\n",
    "Random_integers is very similar to randint, both return integers from a *discrete uniform distribution*. However random_integers is *inclusive* of the higher range value \\[low, high\\]. This function is **deprecated** i.e replaced, in favour of randint. Thus when it is called by python, a warning will display; The function, however will still work. Both randint and random_integers can use the transformation  a + (b - a) * (np.random.random_integers(N) - 1) / (N - 1) to give N evenly spaced integers between a and b i.e. $X\\sim U(a,b)$ but random_integers includes the b value whereas randint does not.\n",
    "\n",
    "#### When would you use random_integers?\n",
    "\n",
    "You wouldn't. The function is retired in favour of randint. It will still work but python will give a warning when its used.  "
   ]
  },
  {
   "cell_type": "code",
   "execution_count": 8,
   "metadata": {
    "scrolled": true
   },
   "outputs": [
    {
     "name": "stdout",
     "output_type": "stream",
     "text": [
      "Output 10 1's or 0's randomly \n",
      "\n",
      "[0 0 1 1 1 0 0 1 1 0] \n",
      "\n"
     ]
    },
    {
     "name": "stderr",
     "output_type": "stream",
     "text": [
      "C:\\ProgramData\\Anaconda3\\lib\\site-packages\\ipykernel_launcher.py:2: DeprecationWarning: This function is deprecated. Please call randint(0, 1 + 1) instead\n",
      "  \n"
     ]
    }
   ],
   "source": [
    "print(\"Output ten 1's or 0's randomly\", \"\\n\")\n",
    "print(np.random.random_integers(0,1, 10), '\\n')\n"
   ]
  },
  {
   "cell_type": "markdown",
   "metadata": {},
   "source": [
    "### random_sample (random, ranf and sample)\n",
    "\n",
    "random_sample(\\[size\\]) outputs random floats in the half-open interval \\[0.0, 1.0) (Oliphant & NumPy contributors, n.d.g).\n",
    "Random_sample and its aliases (Stackoverflow, askewchan,  n.d.) random (Oliphant & NumPy contributors, n.d.h), ranf (Oliphant & NumPy contributors, n.d.i)) and sample (Oliphant & NumPy contributors, n.d.j). Unlike randint which returned random values from the *discrete uniform distribution* [low, high) and, rand which populates arrays with random values in a given shape, random_sample returns random floats from the continuous uniform distribution [0,1). It's input is size i.e. the number of random values required. To expand this to values outside of $X \\sim U(0,\\,1)$ i.e.to cover $X \\sim U(a,\\,b)$ the transformation a +  (b - a)\\* random_sample() can be used. The size can be an integer or tuples of integers (a,b,c).  \n",
    "\n",
    "#### When would you use random_sample or its aliases?\n",
    "\n",
    "random_sample is used when random floats are required from the continuous uniform distribution in the interval 0 inclusive to 1 exclusive. Each number is as likely to be generated as every other. A single number can be returned E.g. pick any number in the interval [0,1) or an array of a specified size e.g. pick 20 numbers in the interval [0, 1) "
   ]
  },
  {
   "cell_type": "code",
   "execution_count": 14,
   "metadata": {
    "scrolled": false
   },
   "outputs": [
    {
     "name": "stdout",
     "output_type": "stream",
     "text": [
      "generate a random float in [0,1) \n",
      " 0.6898202498448782 \n",
      "\n",
      "generate 20 random floats in [0,1) \n",
      " [ 0.56075976  0.91139049  0.38118312  0.30559092  0.2157542   0.91154485\n",
      "  0.34622333  0.2094047   0.146735    0.30507565  0.95894284  0.33946744\n",
      "  0.67661029  0.79510086  0.58981926  0.2290923   0.05938181  0.4477553\n",
      "  0.87276435  0.44494392] \n",
      "\n"
     ]
    }
   ],
   "source": [
    "print(\"generate a random float in [0,1) \\n\",np.random.random_sample(), \"\\n\")\n",
    "\n",
    "\n",
    "print(\"generate 20 random floats in [0,1) \\n\",np.random.random_sample(20), \"\\n\")\n",
    "\n",
    "\n"
   ]
  },
  {
   "cell_type": "code",
   "execution_count": 10,
   "metadata": {
    "scrolled": true
   },
   "outputs": [
    {
     "name": "stdout",
     "output_type": "stream",
     "text": [
      "The histogram of random_sample shows its uniform distrubution \n",
      "\n"
     ]
    },
    {
     "data": {
      "image/png": "[encoded data removed]",
      "text/plain": [
       "<matplotlib.figure.Figure at 0x1677657a7b8>"
      ]
     },
     "metadata": {
      "needs_background": "light"
     },
     "output_type": "display_data"
    },
    {
     "name": "stdout",
     "output_type": "stream",
     "text": [
      "The aliases show a similar pattern \n",
      "\n"
     ]
    },
    {
     "data": {
      "image/png": "[encoded data removed]",
      "text/plain": [
       "<matplotlib.figure.Figure at 0x16776a74b00>"
      ]
     },
     "metadata": {
      "needs_background": "light"
     },
     "output_type": "display_data"
    },
    {
     "data": {
      "image/png": "[encoded data removed]",
      "text/plain": [
       "<matplotlib.figure.Figure at 0x16776b28c50>"
      ]
     },
     "metadata": {
      "needs_background": "light"
     },
     "output_type": "display_data"
    },
    {
     "data": {
      "image/png": "[encoded data removed]",
      "text/plain": [
       "<matplotlib.figure.Figure at 0x16776b5b630>"
      ]
     },
     "metadata": {
      "needs_background": "light"
     },
     "output_type": "display_data"
    }
   ],
   "source": [
    "print(\"The histogram of random_sample shows its uniform distrubution\", \"\\n\")\n",
    "plt.hist(np.random.random_sample(10000))\n",
    "plt.title(\"random_sample\")\n",
    "plt.show()\n",
    "print(\"The aliases show a similar pattern\", \"\\n\")\n",
    "plt.hist(np.random.random(10000))\n",
    "plt.title(\"random\")\n",
    "plt.show()\n",
    "plt.hist(np.random.ranf(10000))\n",
    "plt.title(\"ranf\")\n",
    "plt.show()\n",
    "plt.hist(np.random.sample(10000))\n",
    "plt.title(\"sample\")\n",
    "plt.show()\n",
    "\n"
   ]
  },
  {
   "cell_type": "markdown",
   "metadata": {},
   "source": [
    "To change the interval $X \\sim U(0,\\,1)$ from which the numbers are selected to $X \\sim U(a,\\,b)$ use the transformation a + (b - a)* random_sample()\n",
    "\n"
   ]
  },
  {
   "cell_type": "code",
   "execution_count": 11,
   "metadata": {
    "scrolled": true
   },
   "outputs": [
    {
     "name": "stdout",
     "output_type": "stream",
     "text": [
      "This outputs an 1x10 array filled with random floats between [3, 5) \n",
      "\n",
      "[ 4.89943521  4.93422001  4.82056495  3.46305534  3.13752956  4.40394082\n",
      "  4.64801481  4.52703461  3.11063398  4.18993826] \n",
      "\n"
     ]
    },
    {
     "data": {
      "image/png": "[encoded data removed]",
      "text/plain": [
       "<matplotlib.figure.Figure at 0x1677679e0f0>"
      ]
     },
     "metadata": {
      "needs_background": "light"
     },
     "output_type": "display_data"
    }
   ],
   "source": [
    "print(\"This outputs an 1x10 array filled with random floats between [3, 5)\", \"\\n\")\n",
    "a,b,N=3,5,10\n",
    "x = a + (b - a) * np.random.random_sample(10) \n",
    "print(x, \"\\n\")\n",
    "plt.hist(x)\n",
    "plt.title(\"random floats in U[3,5)\")\n",
    "plt.show()\n",
    "\n"
   ]
  },
  {
   "cell_type": "markdown",
   "metadata": {},
   "source": [
    "### choice\n",
    "\n",
    "choice(a\\[, size, replace, p\\]) outputs a random sample from a given 1-D array (Oliphant & NumPy contributors, n.d.b). Its input is a 1 dimensional array or integer. The number of random values required can be specified by size. \n",
    "\n",
    "The difference between this function and the ones above is that here the population is specified to come from a specific finite array and the function returns one of these choices randomly. e.g. an input of all the Harry Potter book titles would randomly return one book from this population. \n",
    "\n",
    "The probability p of elements in the 1 d array can be specified (probabilities total to 1). If p is not provided then p is assumed to be uniformly distributed across the array. Size refers to the number of random elements from the population that are returned. There is also the option to replace which defaults to true. This refers to whether or not the random choice element is returned to the sample population and is used when unique values from the population are needed Oliphant & NumPy contributors, n.d.k). \n",
    "\n",
    "\n",
    "#### When would you use choice?\n",
    "\n",
    "choice is used when you want to generate a random choice from a fixed sample, you can specify if you want the choice to be returned to the selection pool or not. For example pick one Harry Potter book from a pool of all Harry potter books.\n"
   ]
  },
  {
   "cell_type": "code",
   "execution_count": 25,
   "metadata": {
    "scrolled": true
   },
   "outputs": [
    {
     "name": "stdout",
     "output_type": "stream",
     "text": [
      "List all Harry Potter books \n",
      "\n",
      "Harry Potter and the Philosopher’s Stone\n",
      "Harry Potter and the Chamber of Secrets\n",
      "Harry Potter and the Prisoner of Azkaban\n",
      "Harry Potter and the Goblet of Fire\n",
      "Harry Potter and the Order of the Phoenix\n",
      "Harry Potter and the Half-Blood Prince\n",
      "Harry Potter and the Deathly Hallows\n",
      "\n",
      "\n",
      "pick one at random \n",
      " ['Harry Potter and the Order of the Phoenix'] \n",
      "\n",
      "pick 5 books at random and remove it from the pool when picked \n",
      " - only unique books will be returned for each choice \n",
      " ['Harry Potter and the Chamber of Secrets'\n",
      " 'Harry Potter and the Goblet of Fire'\n",
      " 'Harry Potter and the Prisoner of Azkaban'\n",
      " 'Harry Potter and the Deathly Hallows'\n",
      " 'Harry Potter and the Order of the Phoenix'] \n",
      "\n",
      "pick 5 books at random and keep it in the pool when picked  \n",
      "- choices may be repeated \n",
      " ['Harry Potter and the Prisoner of Azkaban'\n",
      " 'Harry Potter and the Half-Blood Prince'\n",
      " 'Harry Potter and the Philosopher’s Stone'\n",
      " 'Harry Potter and the Goblet of Fire'\n",
      " 'Harry Potter and the Philosopher’s Stone'] \n",
      "\n",
      "Choices can be weighted to make them more or less likely \n",
      " Here, 'Chamber of Secrets' is more likely to be selected \n",
      " ['Harry Potter and the Philosopher’s Stone'\n",
      " 'Harry Potter and the Philosopher’s Stone'\n",
      " 'Harry Potter and the Chamber of Secrets'\n",
      " 'Harry Potter and the Chamber of Secrets'\n",
      " 'Harry Potter and the Chamber of Secrets'] \n",
      "\n"
     ]
    }
   ],
   "source": [
    "print(\"List all Harry Potter books\", \"\\n\")\n",
    "hp = ['Harry Potter and the Philosopher’s Stone', 'Harry Potter and the Chamber of Secrets', 'Harry Potter and the Prisoner of Azkaban', 'Harry Potter and the Goblet of Fire', 'Harry Potter and the Order of the Phoenix', 'Harry Potter and the Half-Blood Prince', 'Harry Potter and the Deathly Hallows']\n",
    "for book in hp:\n",
    "    print(book)\n",
    "print(\"\\n\")\n",
    "print(\"pick one at random \\n\",np.random.choice(hp, 1), \"\\n\")#  books can be repeatedly returned\n",
    "print(\"pick 5 books at random and remove it from the pool when picked \\n - only unique books will be returned for each choice \\n\",np.random.choice(hp, 5, replace=False), \"\\n\") # only unique books are returned\n",
    "print(\"pick 5 books at random and keep it in the pool when picked  \\n- choices may be repeated \\n\",np.random.choice(hp, 5, replace=True), \"\\n\")\n",
    "print(\"Choices can be weighted to make them more or less likely \\n Here, \\'Chamber of Secrets\\' is more likely to be selected \\n\", np.random.choice(hp, 5, p=[0.2,0.5,0.1,0.1,0.015,0.03,0.055], replace=True),\"\\n\")\n",
    "\n"
   ]
  },
  {
   "cell_type": "markdown",
   "metadata": {},
   "source": [
    "### bytes\n",
    "\n",
    "bytes(length)outputs random bytes of the specified length size (Oliphant & NumPy contributors, n.d.b). \n",
    "\n",
    "bytes takes non negative integer inputs and outputs randomly byte strings. Outputs are prefixed with b and the bytes are enclosed within apostrophes or quotation marks, hence outputs are strings of specified length (Oliphant & NumPy contributors, n.d.l).  The prefix indicates that it is a *byte literal* and will consist of ASCII characters. If the numeric value is 128 or more then escapes (\\\\) are used; bytes with a numeric value of 128 or greater must be expressed with escapes (Stackoverflow, NPE, n.d.)\n",
    "\n",
    "#### When would you use bytes\n",
    "\n",
    "bytes would be used when you want to generate random byte strings"
   ]
  },
  {
   "cell_type": "code",
   "execution_count": 31,
   "metadata": {
    "scrolled": true
   },
   "outputs": [
    {
     "name": "stdout",
     "output_type": "stream",
     "text": [
      "b'' \n",
      "\n",
      "b'=' \n",
      "\n",
      "b'\\x8dlTp\\xdc\\xd48\\x81\\xc3@' \n",
      "\n",
      "note the escapes - \\ used  b'\\xca\\x86\\x9ci`o\\xd5\\xc0\\x18\\'Z\"\\x84k\\xc7K\\xd8J\\xf5\\xcd' \n",
      "\n"
     ]
    }
   ],
   "source": [
    "print(np.random.bytes(0),'\\n')\n",
    "print(np.random.bytes(1),'\\n')\n",
    "print(np.random.bytes(10),'\\n')\n",
    "\n",
    "print(\"note the escapes - \\\\ used \", np.random.bytes(20),'\\n')"
   ]
  },
  {
   "cell_type": "markdown",
   "metadata": {},
   "source": [
    "To sum, *Simple Random Data* contains functions for generating random elements consisting of integers, arrays, sizes and shapes from continuous or discrete uniform populations or normally distributed populations that may or may not be probabilistically weighted towards some values depending on what is required. It also contains functions to randomly pick elements from a given population array such as a list or set of bytes. \n",
    "\n",
    "The next section of numpy.random to be discussed is its permutation functions. "
   ]
  },
  {
   "cell_type": "markdown",
   "metadata": {},
   "source": [
    "## What does permutations do?\n",
    "\n",
    "![permutation](img/perm.png)\n",
    "\n",
    "\n",
    "A permutation is a way of cycling through all options in a given set. For example choosing unique pairs of 3 numbers (1,2 and 3)would give $3^2$ combinations namely \n",
    "$$(1,1), (1,2), (1,3)$$ \n",
    "$$(2,1), (2,2), (2,3)$$\n",
    "$$(3,1), (3,2), (3,3)$$.\n",
    "\n",
    "numpy.random has two permutation functions namely (Oliphant & NumPy contributors, n.d.b), namely,  \n",
    "- shuffle\n",
    "- permutation\n",
    "\n",
    "The functions in this section are ways of randomly selecting elements from a finite set.\n",
    "\n",
    "### shuffle\n",
    "\n",
    "shuffle(x) takes an array or array like input and randomly reorders elements in the array (Oliphant & NumPy contributors, n.d.n). E.g. randomly shuffling the order of Harry Potter books. \n",
    "\n",
    "#### When would you use shuffle?\n",
    "\n",
    "shuffle is used when you have an array i.e. a finite list of elements and you want to randomly shuffle them. The same list is returned but the order items are presented in has changed. "
   ]
  },
  {
   "cell_type": "code",
   "execution_count": 38,
   "metadata": {
    "scrolled": true
   },
   "outputs": [
    {
     "name": "stdout",
     "output_type": "stream",
     "text": [
      "Harry Potter books listed in order of publication date \n",
      "\n",
      "Harry Potter and the Philosopher’s Stone\n",
      "Harry Potter and the Chamber of Secrets\n",
      "Harry Potter and the Prisoner of Azkaban\n",
      "Harry Potter and the Goblet of Fire\n",
      "Harry Potter and the Order of the Phoenix\n",
      "Harry Potter and the Half-Blood Prince\n",
      "Harry Potter and the Deathly Hallows\n",
      "\n",
      "\n",
      "Harry Potter books listed in shuffled order \n",
      "\n",
      "Harry Potter and the Order of the Phoenix\n",
      "Harry Potter and the Prisoner of Azkaban\n",
      "Harry Potter and the Chamber of Secrets\n",
      "Harry Potter and the Goblet of Fire\n",
      "Harry Potter and the Deathly Hallows\n",
      "Harry Potter and the Philosopher’s Stone\n",
      "Harry Potter and the Half-Blood Prince\n",
      "\n",
      "\n"
     ]
    }
   ],
   "source": [
    "hp = ['Harry Potter and the Philosopher’s Stone', 'Harry Potter and the Chamber of Secrets', 'Harry Potter and the Prisoner of Azkaban', 'Harry Potter and the Goblet of Fire', 'Harry Potter and the Order of the Phoenix', 'Harry Potter and the Half-Blood Prince', 'Harry Potter and the Deathly Hallows']\n",
    "print(\"Harry Potter books listed in order of publication date\", \"\\n\")\n",
    "for book in hp:\n",
    "    print(book)\n",
    "print(\"\\n\")    \n",
    "# shuffle the books\n",
    "np.random.shuffle(hp)\n",
    "print(\"Harry Potter books listed in shuffled order\", \"\\n\")\n",
    "for book in hp:\n",
    "    print(book)\n",
    "print(\"\\n\")\n"
   ]
  },
  {
   "cell_type": "markdown",
   "metadata": {},
   "source": [
    "For another example lets shuffle a deck of cards and then deal 5 "
   ]
  },
  {
   "cell_type": "code",
   "execution_count": 15,
   "metadata": {
    "scrolled": true
   },
   "outputs": [
    {
     "name": "stdout",
     "output_type": "stream",
     "text": [
      "Your cards are \n",
      "\n",
      "12 of Club\n",
      "9 of Diamond\n",
      "13 of Spade\n",
      "13 of Heart\n",
      "2 of Heart\n"
     ]
    }
   ],
   "source": [
    "# Python program to shuffle a deck of card using the module random and draw 5 cards\n",
    "# code taken from https://www.programiz.com/python-programming/examples/shuffle-card\n",
    "\n",
    "# import modules\n",
    "import itertools\n",
    "\n",
    "# make a deck of cards\n",
    "deck = list(itertools.product(range(1,14),['Spade','Heart','Diamond','Club']))\n",
    "\n",
    "# shuffle the cards\n",
    "np.random.shuffle(deck)\n",
    "\n",
    "# draw five cards\n",
    "print(\"Your cards are\", \"\\n\")\n",
    "for i in range(5):\n",
    "   print(deck[i][0], \"of\", deck[i][1])"
   ]
  },
  {
   "cell_type": "markdown",
   "metadata": {},
   "source": [
    "### Permutation\n",
    "\n",
    "permutation(x) has an array as an input and randomly permutes i.e. shuffles outputs. \n",
    "\n",
    "permutation randomly permute a sequence, or return a permuted range (Oliphant & NumPy contributors, n.d.b). Unlike shuffle which **reorders** the **original** array, permutation **takes a copy** of the original array and **shuffles the copy**. The original array remains intact. \n",
    "\n",
    "In addition, permutation can take integer inputs and will output a range e.g an input of 5 will output a random range populated with unique elements from 0 to 4 inclusive (Stackoverflow, ecatmur,  n.d.)\n",
    "\n",
    "#### When would you use permutation?\n",
    "\n",
    "permutation is used when you want to shuffle your array but you also want to keep a record of your original array.\n"
   ]
  },
  {
   "cell_type": "code",
   "execution_count": 45,
   "metadata": {
    "scrolled": true
   },
   "outputs": [
    {
     "name": "stdout",
     "output_type": "stream",
     "text": [
      "Harry Potter books listed in order of publication date \n",
      "\n",
      "Harry Potter and the Philosopher’s Stone\n",
      "Harry Potter and the Chamber of Secrets\n",
      "Harry Potter and the Prisoner of Azkaban\n",
      "Harry Potter and the Goblet of Fire\n",
      "Harry Potter and the Order of the Phoenix\n",
      "Harry Potter and the Half-Blood Prince\n",
      "Harry Potter and the Deathly Hallows\n",
      "\n",
      "\n",
      "books are shuffled using the permutation function \n",
      "\n",
      "['Harry Potter and the Order of the Phoenix'\n",
      " 'Harry Potter and the Goblet of Fire'\n",
      " 'Harry Potter and the Half-Blood Prince'\n",
      " 'Harry Potter and the Chamber of Secrets'\n",
      " 'Harry Potter and the Deathly Hallows'\n",
      " 'Harry Potter and the Philosopher’s Stone'\n",
      " 'Harry Potter and the Prisoner of Azkaban'] \n",
      "\n",
      "the original book order is preserved \n",
      "\n",
      "Harry Potter and the Philosopher’s Stone\n",
      "Harry Potter and the Chamber of Secrets\n",
      "Harry Potter and the Prisoner of Azkaban\n",
      "Harry Potter and the Goblet of Fire\n",
      "Harry Potter and the Order of the Phoenix\n",
      "Harry Potter and the Half-Blood Prince\n",
      "Harry Potter and the Deathly Hallows\n",
      "\n",
      "\n",
      "shuffle books with the shuffle function \n",
      "\n",
      "Harry Potter and the Order of the Phoenix\n",
      "Harry Potter and the Half-Blood Prince\n",
      "Harry Potter and the Chamber of Secrets\n",
      "Harry Potter and the Deathly Hallows\n",
      "Harry Potter and the Goblet of Fire\n",
      "Harry Potter and the Philosopher’s Stone\n",
      "Harry Potter and the Prisoner of Azkaban\n",
      " \n",
      " The order of books has changed from its original order \n",
      " and it at its new shuffled order \n",
      "\n",
      "Harry Potter and the Order of the Phoenix\n",
      "Harry Potter and the Half-Blood Prince\n",
      "Harry Potter and the Chamber of Secrets\n",
      "Harry Potter and the Deathly Hallows\n",
      "Harry Potter and the Goblet of Fire\n",
      "Harry Potter and the Philosopher’s Stone\n",
      "Harry Potter and the Prisoner of Azkaban\n"
     ]
    }
   ],
   "source": [
    "print(\"Harry Potter books listed in order of publication date\", '\\n')\n",
    "\n",
    "hp = ['Harry Potter and the Philosopher’s Stone', 'Harry Potter and the Chamber of Secrets', 'Harry Potter and the Prisoner of Azkaban', 'Harry Potter and the Goblet of Fire', 'Harry Potter and the Order of the Phoenix', 'Harry Potter and the Half-Blood Prince', 'Harry Potter and the Deathly Hallows']\n",
    "for book in hp:\n",
    "    print(book)\n",
    "print('\\n')\n",
    "print(\"books are shuffled using the permutation function\",\"\\n\")\n",
    "print(np.random.permutation(hp), \"\\n\")\n",
    "print(\"the original book order is preserved\", \"\\n\")\n",
    "for book in hp:\n",
    "    print(book)\n",
    "print(\"\\n\")  \n",
    "print(\"shuffle books with the shuffle function\", \"\\n\")\n",
    "np.random.shuffle(hp)\n",
    "for book in hp:\n",
    "    print(book)\n",
    "print(\" \\n The order of books has changed from its original order \\n and it at its new shuffled order\", \"\\n\")    \n",
    "for book in hp:\n",
    "    print(book)"
   ]
  },
  {
   "cell_type": "markdown",
   "metadata": {},
   "source": [
    "## What are distributions and why do we need them?\n"
   ]
  },
  {
   "cell_type": "markdown",
   "metadata": {},
   "source": [
    "A probability distribution is a table or an equation that links each outcome of a statistical experiment or event with its probability of occurring (Wikipedia contributors 2018d). Consider tossing a coin: This has two possible outcomes, heads or tails. Here the *event* is the coin toss and the *outcome* is heads or tails. Similarly, throwing a die has 6 outcomes, 1, 2, 3, 4, 5 or 6. Outcomes of a statistical test often show a pattern based on the probability of an event occurring. E.g. rolling a fair 6 faced die will produce each of the numbers 1 to 6 roughly 1/6 of the time. Similarly, tossing a non biased coin enough times will show a probability of 1/2 for both heads and tails. In each of these scenarios performing the test of throwing the dice or tossing a coin, will better match its underlying probability as the number of **trials** or tries increases.\n",
    "\n",
    "![dice](img/die.jpg)\n",
    "\n",
    "When a random sample is generated (the event) it produces a specific outcome from a list of all possible outcomes. For example, with the coin toss, only two outcomes are possible; its either heads or its tails. These two events are *independent* i.e previous states does not influence the probability of the current state. Rolls of the die have no memory. Believing that previous running streaks will influence future chances is a common bias named the *gambler's fallacy* (Wikipedia contributors, 2018e). When the list heads or tails outcomes are plotted against its probability of occurring (1/2 for both Heads and Tails)you get a *probability distribution*. \n",
    "\n",
    "Consider the die throw; Rolling a die 10 times may give a pattern of $1,3,5,1,4,4$ Here, the outcome i.e. probability of getting a 4, is $\\frac{2}{10}$ ($\\frac{1}{5}$ - two 4's from 10 throws). This is greater than the underlying probability of $\\frac{1}{outcomes} = \\frac{1}{6}$ but the *Law of Large Numbers* states (Stat Trek contributors, n.d.) that the more times an event is tested, i.e. the larger its sample size, the closer it will be to its underlying probability of that event occurring. Rolling  the die 10 times and getting two four's may have a probability not equal to $\\frac{1}{6}$ but if the dice is rolled a very large number of  times, the small deviations from $\\frac{1}{6}$ will be smoothed out and the underlying probability will be constant at $\\frac{1}{6}$. This is the idea behind probability distributions; They are equations that plot the underlying model when sample size reaches the same size as its total population.\n",
    "\n",
    "The code below simulates 10, 100, 1,000 and 1,000,000 random rolls of a dice and calculates the probability of each outcome.  As the sample size increases, the sample probability tends towards the actual probability of the distribution. \n"
   ]
  },
  {
   "cell_type": "code",
   "execution_count": 17,
   "metadata": {
    "scrolled": true
   },
   "outputs": [
    {
     "name": "stdout",
     "output_type": "stream",
     "text": [
      "Sample Size is 10\n",
      "[0 1 0 2 2 3 2]\n",
      "sample prob of getting 1 0.1\n",
      "sample prob of getting 2 0.0\n",
      "sample prob of getting 3 0.2\n",
      "sample prob of getting 4 0.2\n",
      "sample prob of getting 5 0.3\n",
      "sample prob of getting 6 0.2\n",
      "actual probability 0.167 \n",
      "\n",
      "Sample Size is 100\n",
      "[ 0 14 10 21 15 19 21]\n",
      "sample prob of getting 1 0.14\n",
      "sample prob of getting 2 0.1\n",
      "sample prob of getting 3 0.21\n",
      "sample prob of getting 4 0.15\n",
      "sample prob of getting 5 0.19\n",
      "sample prob of getting 6 0.21\n",
      "actual probability 0.167 \n",
      "\n",
      "Sample Size is 1000\n",
      "[  0 164 172 154 167 173 170]\n",
      "sample prob of getting 1 0.164\n",
      "sample prob of getting 2 0.172\n",
      "sample prob of getting 3 0.154\n",
      "sample prob of getting 4 0.167\n",
      "sample prob of getting 5 0.173\n",
      "sample prob of getting 6 0.17\n",
      "actual probability 0.167 \n",
      "\n",
      "Sample Size is 1000000\n",
      "[     0 166827 166314 167121 166211 166463 167064]\n",
      "sample prob of getting 1 0.166827\n",
      "sample prob of getting 2 0.166314\n",
      "sample prob of getting 3 0.167121\n",
      "sample prob of getting 4 0.166211\n",
      "sample prob of getting 5 0.166463\n",
      "sample prob of getting 6 0.167064\n",
      "actual probability 0.167 \n",
      "\n"
     ]
    }
   ],
   "source": [
    "print(\"Sample Size is 10\")\n",
    "size=10\n",
    "outcome = np.bincount(np.random.randint(1,7,size))\n",
    "print(outcome)\n",
    "p1=outcome[1]/size\n",
    "print(\"sample prob of getting 1\",p1)\n",
    "p2=outcome[2]/size\n",
    "print(\"sample prob of getting 2\",p2)\n",
    "p3=outcome[3]/size\n",
    "print(\"sample prob of getting 3\",p3)\n",
    "p4=outcome[4]/size\n",
    "print(\"sample prob of getting 4\",p4)\n",
    "p5=outcome[5]/size\n",
    "print(\"sample prob of getting 5\",p5)\n",
    "p6=outcome[6]/size\n",
    "print(\"sample prob of getting 6\",p6)\n",
    "p = 1/6\n",
    "print(\"actual probability\",f\"{p:.3}\", \"\\n\")\n",
    "\n",
    "print(\"Sample Size is 100\")\n",
    "size=100\n",
    "outcome = np.bincount(np.random.randint(1,7,size))\n",
    "print(outcome)\n",
    "p1=outcome[1]/size\n",
    "print(\"sample prob of getting 1\",p1)\n",
    "p2=outcome[2]/size\n",
    "print(\"sample prob of getting 2\",p2)\n",
    "p3=outcome[3]/size\n",
    "print(\"sample prob of getting 3\",p3)\n",
    "p4=outcome[4]/size\n",
    "print(\"sample prob of getting 4\",p4)\n",
    "p5=outcome[5]/size\n",
    "print(\"sample prob of getting 5\",p5)\n",
    "p6=outcome[6]/size\n",
    "print(\"sample prob of getting 6\",p6)\n",
    "p = 1/6\n",
    "print(\"actual probability\",f\"{p:.3}\", \"\\n\")\n",
    "print(\"Sample Size is 1000\")\n",
    "size=1000\n",
    "outcome = np.bincount(np.random.randint(1,7,size))\n",
    "print(outcome)\n",
    "p1=outcome[1]/size\n",
    "print(\"sample prob of getting 1\",p1)\n",
    "p2=outcome[2]/size\n",
    "print(\"sample prob of getting 2\",p2)\n",
    "p3=outcome[3]/size\n",
    "print(\"sample prob of getting 3\",p3)\n",
    "p4=outcome[4]/size\n",
    "print(\"sample prob of getting 4\",p4)\n",
    "p5=outcome[5]/size\n",
    "print(\"sample prob of getting 5\",p5)\n",
    "p6=outcome[6]/size\n",
    "print(\"sample prob of getting 6\",p6)\n",
    "p = 1/6\n",
    "print(\"actual probability\",f\"{p:.3}\", \"\\n\")\n",
    "print(\"Sample Size is 1000000\")\n",
    "size=1000000\n",
    "outcome = np.bincount(np.random.randint(1,7,size))\n",
    "print(outcome)\n",
    "p1=outcome[1]/size\n",
    "print(\"sample prob of getting 1\",p1)\n",
    "p2=outcome[2]/size\n",
    "print(\"sample prob of getting 2\",p2)\n",
    "p3=outcome[3]/size\n",
    "print(\"sample prob of getting 3\",p3)\n",
    "p4=outcome[4]/size\n",
    "print(\"sample prob of getting 4\",p4)\n",
    "p5=outcome[5]/size\n",
    "print(\"sample prob of getting 5\",p5)\n",
    "p6=outcome[6]/size\n",
    "print(\"sample prob of getting 6\",p6)\n",
    "p = 1/6\n",
    "print(\"actual probability\",f\"{p:.3}\", \"\\n\")\n"
   ]
  },
  {
   "cell_type": "markdown",
   "metadata": {},
   "source": [
    "![discrete uniform distribution](img/uniform.png)\n",
    "\n",
    "\n",
    "\n",
    "### Uniform Distribution\n",
    "\n",
    "#### Discrete\n",
    "Often there is an underlying pattern based on this probability. For example in the coin toss the probability was $\\frac{1}{2}$ and in the dice roll it was $\\frac{1}{6}$. In each case outcomes ($n$) were equally likely with $p = \\frac{1}{n}$. This type of distribution is called a **uniform distribution**. In particular it is a *discrete* uniform distribution. i.e outcomes are from a finite set, they are either 1 or 2 or 3 etc and not midway between 2 and 3. \n",
    "\n"
   ]
  },
  {
   "cell_type": "code",
   "execution_count": 18,
   "metadata": {
    "scrolled": true
   },
   "outputs": [
    {
     "name": "stdout",
     "output_type": "stream",
     "text": [
      "Roll the dice \n",
      "\n",
      "5\n"
     ]
    },
    {
     "data": {
      "image/png": "[encoded data removed]",
      "text/plain": [
       "<matplotlib.figure.Figure at 0x16777e90c50>"
      ]
     },
     "metadata": {
      "needs_background": "light"
     },
     "output_type": "display_data"
    }
   ],
   "source": [
    "print(\"Roll the dice\", \"\\n\")\n",
    "x=np.random.randint(1,7)\n",
    "print(x)\n",
    "plt.title(\"rolls\")\n",
    "plt.xlabel(\"face number\")\n",
    "plt.ylabel(\"count\")\n",
    "plt.hist(x)\n",
    "plt.show()"
   ]
  },
  {
   "cell_type": "markdown",
   "metadata": {},
   "source": [
    "Say you do this a million times and plot your results"
   ]
  },
  {
   "cell_type": "code",
   "execution_count": 19,
   "metadata": {
    "scrolled": true
   },
   "outputs": [
    {
     "data": {
      "image/png": "[encoded data removed]",
      "text/plain": [
       "<matplotlib.figure.Figure at 0x16777e90e10>"
      ]
     },
     "metadata": {
      "needs_background": "light"
     },
     "output_type": "display_data"
    }
   ],
   "source": [
    "plt.title(\"1 million rolls\")\n",
    "plt.xlabel(\"face number\")\n",
    "plt.ylabel(\"count\")\n",
    "plt.hist(np.random.randint(1,7,1000000))\n",
    "plt.show()\n"
   ]
  },
  {
   "cell_type": "markdown",
   "metadata": {},
   "source": [
    "The results of the roll all seem to be equally likely, 1 million rolls with 6 possible outcomes is "
   ]
  },
  {
   "cell_type": "code",
   "execution_count": 20,
   "metadata": {
    "scrolled": true
   },
   "outputs": [
    {
     "name": "stdout",
     "output_type": "stream",
     "text": [
      "166666.67\n"
     ]
    }
   ],
   "source": [
    "print(f\"{1000000/6:.8}\")\n"
   ]
  },
  {
   "cell_type": "markdown",
   "metadata": {},
   "source": [
    "Probability distributions have different 'shapes'.  \n",
    "\n",
    "#### Continous\n",
    "\n",
    "What if outcomes could be anywhere along a range rather than specific outcomes of heads or die faces? For example, you arrive at a bus stop to catch a very regular bus that comes exactly once an hour. However you have no idea what time it is or when the bus last left the stop. The time spent waiting would be a *uniform* distribution from 0 to 1 hour, with the bus equally likely to arrive at anytime within that interval. Time, temperature and measures like height do not take a fixed set of values, rather they vary on a continuum. Thus the distribution these measures form are *continuous*.\n",
    "\n",
    "Say we wanted to model the bus scenario. numpy.random has a function to allow us to do this."
   ]
  },
  {
   "cell_type": "code",
   "execution_count": 48,
   "metadata": {
    "scrolled": true
   },
   "outputs": [
    {
     "name": "stdout",
     "output_type": "stream",
     "text": [
      "How long will I wait for the bus?\n",
      "0.61  hours\n"
     ]
    }
   ],
   "source": [
    "print(\"How long will I wait for the bus?\")\n",
    "print(f\"{np.random.uniform():.2}\", \" hours\")\n",
    "   "
   ]
  },
  {
   "cell_type": "markdown",
   "metadata": {},
   "source": [
    "What if the waiting times is modeled over the course of a year and the results are plotted?\n"
   ]
  },
  {
   "cell_type": "code",
   "execution_count": 49,
   "metadata": {
    "scrolled": true
   },
   "outputs": [
    {
     "name": "stdout",
     "output_type": "stream",
     "text": [
      "[ 0.12722807  0.00481207  0.94034169  0.65963316  0.84295116  0.68608404\n",
      "  0.58969731  0.82027658  0.22881958  0.57553939  0.59997547  0.33626893\n",
      "  0.74650972  0.6475147   0.59503097  0.47393278  0.61538559  0.57705369\n",
      "  0.65644089  0.11539181  0.32595749  0.83052763  0.96931113  0.51339824\n",
      "  0.63401355  0.19493143  0.30000816  0.53333929  0.28737108  0.16408924\n",
      "  0.3115947   0.82962233  0.60710321  0.69950277  0.08059765  0.60424527\n",
      "  0.5543436   0.7321595   0.51523648  0.80782191  0.67662122  0.42810067\n",
      "  0.4150757   0.53335327  0.87966311  0.01564944  0.87958207  0.23968661\n",
      "  0.22825038  0.59844353  0.8810999   0.50799798  0.67506377  0.06148102\n",
      "  0.3397312   0.03750278  0.7981999   0.15866161  0.7606661   0.93643321\n",
      "  0.06271868  0.59719889  0.72390186  0.42083426  0.84710307  0.95892039\n",
      "  0.87711272  0.09511111  0.16509229  0.10893255  0.43981716  0.90459117\n",
      "  0.7851251   0.26857141  0.57557358  0.79734498  0.72337793  0.98019252\n",
      "  0.8619196   0.35847947  0.82648106  0.87231154  0.63140577  0.6669521\n",
      "  0.61704267  0.25729815  0.54250238  0.09365869  0.47116372  0.6020182\n",
      "  0.398423    0.79843289  0.51029784  0.04374598  0.267886    0.05682455\n",
      "  0.57007863  0.14604532  0.29388941  0.44546154  0.81056559  0.84652985\n",
      "  0.83882331  0.33281069  0.95611052  0.56768197  0.17209843  0.3951492\n",
      "  0.54079402  0.53647647  0.12808446  0.47187477  0.78113825  0.02805372\n",
      "  0.19625409  0.1982399   0.27323641  0.22780265  0.0174225   0.32280896\n",
      "  0.35045805  0.88344156  0.41711664  0.11152758  0.86864043  0.72082752\n",
      "  0.02278037  0.76251418  0.71379864  0.40867793  0.21453011  0.80038849\n",
      "  0.6579797   0.18272075  0.25338015  0.67239879  0.4354103   0.39786106\n",
      "  0.61730289  0.63608565  0.08000513  0.64096956  0.65459756  0.13956928\n",
      "  0.76887848  0.95850055  0.72901922  0.45009577  0.34649063  0.12754932\n",
      "  0.74021212  0.69069537  0.37776979  0.17688761  0.08070242  0.70059277\n",
      "  0.37584519  0.36001536  0.56443188  0.71358734  0.76556818  0.91745227\n",
      "  0.59191495  0.51363143  0.08393407  0.75331584  0.75853718  0.9357368\n",
      "  0.37311111  0.45326512  0.10221736  0.55485485  0.48638963  0.52181167\n",
      "  0.77585548  0.74013695  0.56145583  0.77139956  0.14070362  0.00116191\n",
      "  0.20805777  0.37606622  0.35406786  0.03727158  0.5365379   0.81632631\n",
      "  0.78952304  0.35339193  0.21622958  0.66158965  0.12097891  0.10172747\n",
      "  0.24341745  0.20983165  0.43098109  0.30437898  0.98603646  0.80082087\n",
      "  0.79667367  0.79120686  0.75827719  0.33219761  0.80313064  0.54933392\n",
      "  0.60888593  0.98663408  0.88654441  0.19710341  0.65645722  0.50754133\n",
      "  0.63652305  0.62851087  0.24379387  0.96581643  0.21637551  0.27119049\n",
      "  0.06139817  0.50436115  0.83224209  0.92107066  0.36330569  0.06420441\n",
      "  0.30435562  0.8262521   0.75620599  0.30787682  0.09395761  0.41748687\n",
      "  0.67728651  0.53719936  0.3442742   0.44117728  0.95979127  0.64703737\n",
      "  0.21129567  0.63058732  0.87907101  0.41556625  0.23884542  0.16865431\n",
      "  0.13402828  0.13328     0.40700218  0.17328836  0.48336504  0.61064247\n",
      "  0.42450369  0.71931704  0.54068948  0.38240875  0.15034493  0.84120852\n",
      "  0.02570445  0.70551759  0.60160584  0.79099808  0.73009634  0.34595885\n",
      "  0.79749486  0.49551132  0.73451111  0.46331023  0.72187415  0.86409622\n",
      "  0.46763807  0.67998158  0.59831308  0.44891247  0.20992663  0.44974531\n",
      "  0.42785009  0.01219954  0.17542173  0.40872943  0.88841257  0.3654428\n",
      "  0.83909438  0.12650963  0.10848955  0.99374869  0.29482067  0.54954826\n",
      "  0.55823074  0.77031608  0.73479742  0.29314951  0.07441579  0.45332324\n",
      "  0.68543663  0.98514711  0.65843297  0.69665271  0.21704573  0.79053308\n",
      "  0.55008906  0.01613389  0.41178368  0.55400189  0.36993169  0.55329249\n",
      "  0.78686241  0.92859186  0.76797674  0.66671072  0.12104353  0.43185882\n",
      "  0.40095589  0.79552394  0.51727517  0.97704682  0.16571366  0.80521991\n",
      "  0.08500133  0.40172887  0.33798065  0.26982884  0.45534845  0.0166183\n",
      "  0.31071941  0.0198583   0.12580611  0.09313334  0.31656369  0.59538044\n",
      "  0.57216457  0.66939359  0.2335915   0.08546263  0.81213477  0.3287407\n",
      "  0.56912611  0.67847706  0.68773165  0.71824787  0.37630587  0.05212667\n",
      "  0.96764128  0.60794119  0.26654726  0.61349766  0.862653    0.48427648\n",
      "  0.58510661  0.0735103   0.66426374  0.43693296  0.0666125   0.78843394\n",
      "  0.62614051  0.74494799  0.42506032  0.96011193  0.1707956   0.41308566\n",
      "  0.32115204  0.32082871  0.42555928  0.84627713  0.13243969  0.12030366\n",
      "  0.42078915  0.89033949  0.2486837   0.21293934  0.51531759]\n"
     ]
    },
    {
     "data": {
      "image/png": "[encoded data removed]",
      "text/plain": [
       "<matplotlib.figure.Figure at 0x1fa491c0160>"
      ]
     },
     "metadata": {
      "needs_background": "light"
     },
     "output_type": "display_data"
    }
   ],
   "source": [
    "how_long = np.random.uniform(0,1,365)\n",
    "print(how_long)\n",
    "plt.hist(how_long)\n",
    "plt.title(\"Waiting Time over a year\")\n",
    "plt.xlabel(\"Time\")\n",
    "plt.ylabel(\"Days\")\n",
    "plt.show()\n"
   ]
  },
  {
   "cell_type": "markdown",
   "metadata": {},
   "source": [
    "numpy.random.uniform (Oliphant & NumPy contributors, n.d.o )takes inputs of a range low to high. Size i.e. the number of results return can also be specified. The range interval includes the lower number but excludes the higher one. All numbers within the range are equally likely to be selected. The probability density function for this distribution is \n",
    "$$X\\sim Uniform(a,\\,b)$$\n",
    "$ $\n",
    "$$p(x) = \\frac{1}{b-a}$$ where a is the low value and b is the high value. \n",
    "\n",
    "\n",
    "The probability for any event in a uniform continuous distribution is given as $\\frac {1}{b-a}$ where a is the lower value of the interval and b is the higher value of the interval. \n",
    "\n",
    "\n",
    "### Binomial\n",
    "\n",
    "Going back to the die example, what if we were only interested in getting *one* of the outcomes? Say the die was rolled 100 times but we were only counting number of times 4's popped up? \n"
   ]
  },
  {
   "cell_type": "code",
   "execution_count": 25,
   "metadata": {
    "scrolled": false
   },
   "outputs": [
    {
     "name": "stdout",
     "output_type": "stream",
     "text": [
      "How many times was 4 faceup after 100 rolls -  11 times\n"
     ]
    },
    {
     "data": {
      "image/png": "[encoded data removed]",
      "text/plain": [
       "<matplotlib.figure.Figure at 0x16777fb6278>"
      ]
     },
     "metadata": {
      "needs_background": "light"
     },
     "output_type": "display_data"
    }
   ],
   "source": [
    "print(\"How many times was 4 faceup after 100 rolls - \", np.random.binomial(100,1/6), \"times\")\n",
    "plt.title(\"roll 500 dice 100 times and count the number of times 4 showed \")\n",
    "plt.xlabel(\"no of times 4 showed\")\n",
    "plt.ylabel(\"no of dice rolled\")\n",
    "plt.hist(np.random.binomial(100,1/6, 500))\n",
    "plt.show()"
   ]
  },
  {
   "cell_type": "markdown",
   "metadata": {},
   "source": [
    "4 is just as likely to pop up as any of the other faces i.e. the independence assumption holds, but the distribution pattern is different than the uniform pattern discussed earlier. Here there is not equal probability of outcomes. The probability of a success (in this case a 4) is $\\frac{1}{6}$ but the probability of a failure (i.e. not getting a 4) is $\\frac{5}{6}$. Here there is only two outcomes, success with probability $p$ or failure with probability $1-p$. This type of distribution is called a **binomial** distribution. It is a **discrete** distribution with two required parameters, the number of trials n, i.e. the number of times the die is rolled and the probability associated with a successful outcome $p$.\n",
    "\n",
    "numpy.random.binomial takes inputs n i.e. number of trials and p i.e. probability of a successful event. The size can also be specified (Oliphant & NumPy contributors, n.d.p). In the special case where the size $n = 1$ the distribution is called a *Bernoulli* distribution. The binomial distribution has the probability distribution function \n",
    "\n",
    "$$X\\sim Binomial(n,\\,p)$$\n",
    "$ $\n",
    "\n",
    "$$P(x) = \\binom{n}{x}p^x(1-p)^{n-x}$$\n",
    "\n",
    "$ $\n",
    "$$X\\sim Bernoulli(p)$$\n",
    "$ $\n",
    "$$P(x) = p^x(1-p)^{1-x}$$\n",
    "\n",
    "note that $1-p$ is the probability of the event not occurring i.e. a failure. It is sometimes denoted as $q$. \n",
    "\n",
    "\n",
    "### Geometric\n",
    "\n",
    "\n",
    "Now suppose we were just interested in the time till the first 4 was rolled? The binomial distribution address the question of \"how many successful events from n tries\" [](https://blog.cloudera.com/blog/2015/12/common-probability-distributions-the-data-scientists-crib-sheet/). The question now becomes \"how many failures till we get the first success?\". In this case we don't know what n, the number of tries, will be. This pattern is called the **geometric** distribution. \n",
    "\n"
   ]
  },
  {
   "cell_type": "code",
   "execution_count": 50,
   "metadata": {
    "scrolled": false
   },
   "outputs": [
    {
     "name": "stdout",
     "output_type": "stream",
     "text": [
      "How many rolls till a '4' pops up? -  12 rolls\n"
     ]
    }
   ],
   "source": [
    "print(\"How many rolls till a '4' pops up? - \", np.random.geometric(1/6), \"rolls\")\n"
   ]
  },
  {
   "cell_type": "markdown",
   "metadata": {},
   "source": [
    "This distribution has a different shape, it is asymmetrical with a long tail to the right (right skewed). The geometric distribution has some underlying assumptions(Wikipedia contributors, 2018f) namely, \n",
    "\n",
    "1. The event is made up of independent trials i.e. events do not influence each other as with the other distributions discussed. \n",
    "2. There are only two outcomes, success or failure\n",
    "3. The probability of success is the same in each trial \n"
   ]
  },
  {
   "cell_type": "code",
   "execution_count": 27,
   "metadata": {
    "scrolled": false
   },
   "outputs": [
    {
     "data": {
      "image/png": "[encoded data removed]",
      "text/plain": [
       "<matplotlib.figure.Figure at 0x16776e63c88>"
      ]
     },
     "metadata": {
      "needs_background": "light"
     },
     "output_type": "display_data"
    }
   ],
   "source": [
    "plt.title(\"How many rolls till 4 shows up \")\n",
    "plt.xlabel(\"number of rolls\")\n",
    "plt.ylabel(\"number of dice rolled\")\n",
    "plt.hist(np.random.geometric(1/6, 500))\n",
    "plt.show()"
   ]
  },
  {
   "cell_type": "markdown",
   "metadata": {},
   "source": [
    "## References\n",
    "\n",
    "\n",
    "Bellos, A. (2014, June 13). The World's Most Popular Numbers [Excerpt]. Retrieved November 4, 2018, from https://www.scientificamerican.com/article/most-popular-numbers-grapes-of-math/\n",
    "\n",
    "Foley, B. (2018, June 12). How to Avoid Sampling Bias in Research. Retrieved November 4, 2018, from https://www.surveygizmo.com/resources/blog/how-to-avoid-sampling-bias-in-research/\n",
    "\n",
    "Hanel, P. H., & Vione, K. C. (2016). Do Student Samples Provide an Accurate Estimate of the General Public?. PloS one, 11(12), e0168354. doi:10.1371/journal.pone.0168354\n",
    "\n",
    "Idris, I. (2015). NumPy beginners guide: Build efficient, high-speed programs using the high-performance NumPy mathematical library. Birmingham: Packt.\n",
    "\n",
    "Liebow-Feeser, J. (2018, August 29). Randomness 101: LavaRand in Production. Retrieved November 4, 2018, from https://blog.cloudflare.com/randomness-101-lavarand-in-production/\n",
    "\n",
    "Mehta, H. K. (2015). Mastering Python scientific computing: A complete guide for Python programmers to master scientific computing using Python APIs and tools. Birmingham: Packt Publishing.\n",
    "\n",
    "Metaspace contributors, (n.d.), Python – Numpy Arrays. (2018, March 25). Retrieved November 4, 2018, from https://metaspace.blog/programming/python/python-numpy-basics/\n",
    "\n",
    "Numpy contributiors. (n.d.). NumPy. Retrieved November 4, 2018, from http://www.numpy.org/\n",
    "\n",
    "Oliphant, T. E., & NumPy contributors. (n.d.a). NumPy Reference. Retrieved November 4, 2018, from https://docs.scipy.org/doc/numpy/reference/index.html\n",
    "\n",
    "Oliphant, T. E., & NumPy contributors. (n.d.b). NumPy Reference. Retrieved November 4, 2018, from https://docs.scipy.org/doc/numpy/reference/routines.random.html\n",
    "\n",
    "Oliphant, T. E., & NumPy contributors. (n.d.c). NumPy Reference. Retrieved November 4, 2018, from https://docs.scipy.org/doc/numpy/reference/generated/numpy.random.rand.html#numpy.random.rand\n",
    "\n",
    "Oliphant, T. E., & NumPy contributors. (n.d.d). NumPy Reference. Retrieved November 4, 2018, from https://docs.scipy.org/doc/numpy/reference/generated/numpy.random.randn.html#numpy.random.randn\n",
    "\n",
    "Oliphant, T. E., & NumPy contributors. (n.d.e). NumPy Reference. Retrieved November 4, 2018, from https://docs.scipy.org/doc/numpy/reference/generated/numpy.random.randint.html#numpy.random.randint\n",
    "\n",
    "Oliphant, T. E., & NumPy contributors. (n.d.f). NumPy Reference. Retrieved November 4, 2018, from https://docs.scipy.org/doc/numpy/reference/generated/numpy.random.random_integers.html#numpy.random.random_integers\n",
    "\n",
    "Oliphant, T. E., & NumPy contributors. (n.d.g). NumPy Reference. Retrieved November 4, 2018, from https://docs.scipy.org/doc/numpy-1.15.1/reference/generated/numpy.random.random_sample.html#numpy.random.random_sample\n",
    "\n",
    "Oliphant, T. E., & NumPy contributors. (n.d.h). NumPy Reference. Retrieved November 4, 2018, from https://docs.scipy.org/doc/numpy-1.15.1/reference/generated/numpy.random.random.html#numpy.random.random\n",
    "\n",
    "Oliphant, T. E., & NumPy contributors. (n.d.i). NumPy Reference. Retrieved November 4, 2018, from https://docs.scipy.org/doc/numpy-1.15.1/reference/generated/numpy.random.random.ranf.html#numpy.random.ranf\n",
    "\n",
    "Oliphant, T. E., & NumPy contributors. (n.d.j). NumPy Reference. Retrieved November 4, 2018, from https://docs.scipy.org/doc/numpy-1.15.1/reference/generated/numpy.random.random_sample.html#numpy.random.sample\n",
    "\n",
    "Oliphant, T. E., & NumPy contributors. (n.d.k). NumPy Reference. Retrieved November 4, 2018, from https://docs.scipy.org/doc/numpy/reference/generated/numpy.random.choice.html#numpy.random.choice\n",
    "\n",
    "Oliphant, T. E., & NumPy contributors. (n.d.l). NumPy Reference. Retrieved November 4, 2018, from https://docs.scipy.org/doc/numpy/reference/generated/numpy.random.bytes.html#numpy.random.bytes\n",
    "\n",
    "Oliphant, T. E., & NumPy contributors. (n.d.m). NumPy Reference. Retrieved November 4, 2018, from https://docs.scipy.org/doc/numpy/reference/generated/numpy.random.shuffle.html#numpy.random.shuffle\n",
    "\n",
    "Oliphant, T. E., & NumPy contributors. (n.d.n). NumPy Reference. Retrieved November 4, 2018, from https://docs.scipy.org/doc/numpy/reference/generated/numpy.random.permutation.html#numpy.random.permutation\n",
    "\n",
    "\n",
    "Oliphant, T. E., & NumPy contributors. (n.d.o). NumPy Reference. Retrieved November 4, 2018, from https://docs.scipy.org/doc/numpy/reference/generated/numpy.random.uniform.html#numpy.random.uniform\n",
    "\n",
    "\n",
    "Oliphant, T. E., & NumPy contributors. (n.d.p). NumPy Reference. Retrieved November 4, 2018, from https://docs.scipy.org/doc/numpy/reference/generated/numpy.random.binomial.html#numpy.random.binomial\n",
    "\n",
    "\n",
    "Python contributors. (n.d.). Random - Generate pseudo-random numbers. Retrieved November 4, 2018, from https://docs.python.org/3/library/random.html\n",
    "\n",
    "Stackoverflow, alexdor,  (n.d.). Why do the numpy and random modules give different random numbers for the same seed? Retrieved November 4, 2018, from https://stackoverflow.com/questions/49195632/why-do-the-numpy-and-random-modules-give-different-random-numbers-for-the-same-s?\n",
    "\n",
    "Stackoverflow, askewchan,  (n.d.). Difference between various numpy random functions Retrieved November 4, 2018, from https://stackoverflow.com/questions/18829185/difference-between-various-numpy-random-functions\n",
    "\n",
    "\n",
    "\n",
    "Stackoverflow, Hannele,  (n.d.). Differences between numpy.random and random.random in Python? Retrieved November 4, 2018, from https://stackoverflow.com/questions/7029993/differences-between-numpy-random-and-random-random-in-python\n",
    "\n",
    "\n",
    "Stackoverflow, Joe Kington,  (n.d.). What does .dtype do? Retrieved November 4, 2018, from https://stackoverflow.com/questions/9457037/what-does-dtype-do\n",
    "\n",
    "Stackoverflow, NPE,  (n.d.). What does the 'b' character do in front of a string literal? Retrieved November 4, 2018, from https://stackoverflow.com/questions/6269765/what-does-the-b-character-do-in-front-of-a-string-literal\n",
    "\n",
    "\n",
    "Stackoverflow, ecatmur,  (n.d.). Shuffle vs permute numpy Retrieved November 4, 2018, from https://stackoverflow.com/questions/15474159/shuffle-vs-permute-numpy\n",
    "\n",
    "Stat Trek Contributors. (n.d.). Stat Trek. Retrieved November 4, 2018, from https://stattrek.com/statistics/dictionary.aspx?definition=law_of_large_numbers\n",
    "\n",
    "\n",
    "Weisstein, Eric W. (2018) \"Mersenne Prime.\" From MathWorld--A Wolfram Web Resource.[online] Available at:  http://mathworld.wolfram.com/MersennePrime.html [Accessed 20 Oct. 2018]\n",
    "\n",
    "Wikipedia contributors. (2018a, August 15). Sampling bias. In Wikipedia, The Free Encyclopedia. Retrieved 12:53, November 4, 2018, from https://en.wikipedia.org/w/index.php?title=Sampling_bias&oldid=855021882\n",
    "\n",
    "Wikipedia contributors. (2018b, August 6). Deterministic algorithm. In Wikipedia, The Free Encyclopedia. Retrieved 12:56, November 4, 2018, from https://en.wikipedia.org/w/index.php?title=Deterministic_algorithm&oldid=853694464\n",
    "\n",
    "Wikipedia contributors. (2018c, October 20). Mersenne Twister. In Wikipedia, The Free Encyclopedia. Retrieved 13:04, November 4, 2018, from https://en.wikipedia.org/w/index.php?title=Mersenne_Twister&oldid=\n",
    "\n",
    "Wikipedia contributors. (2018d, October 13). Probability distribution. In Wikipedia, The Free Encyclopedia. Retrieved 17:24, November 4, 2018, from https://en.wikipedia.org/w/index.php?title=Probability_distribution&oldid=863786713\n",
    "\n",
    "Wikipedia contributors. (2018e, October 21). Gambler's fallacy. In Wikipedia, The Free Encyclopedia. Retrieved 17:35, November 4, 2018, from https://en.wikipedia.org/w/index.php?title=Gambler%27s_fallacy&oldid=865002258\n",
    "\n",
    "Wikipedia contributors. (2018f, October 10). Geometric distribution. In Wikipedia, The Free Encyclopedia. Retrieved 18:34, November 4, 2018, from https://en.wikipedia.org/w/index.php?title=Geometric_distribution&oldid=863324032\n",
    "\n",
    "Wong, D. (n.d.). How does the Mersenne's Twister work? Retrieved November 4, 2018, from https://www.cryptologie.net/article/331/how-does-the-mersennes-twister-work/\n",
    "\n",
    "\n",
    "\n",
    "\n",
    "\n",
    "\n"
   ]
  },
  {
   "cell_type": "markdown",
   "metadata": {},
   "source": [
    "numpy.random.geometric has one required input, its probability of a success p. The size can also be specified.  \n",
    "\n",
    "its probability density function is \n",
    "\n",
    "$$X\\sim Geometric(p)$$\n",
    "\n",
    "$$p(x)=  (1 - p)^{x-1}p $$ \n"
   ]
  },
  {
   "cell_type": "markdown",
   "metadata": {},
   "source": [
    "### Negative Binomal \n",
    "\n",
    "\n",
    "Now suppose we are sill interested in the number of tries till a success of 4 is reached; But rather than declaring a success when the first success is reached, we want to extend the number of success, say rolling ten 4's?  "
   ]
  },
  {
   "cell_type": "code",
   "execution_count": 28,
   "metadata": {
    "scrolled": false
   },
   "outputs": [
    {
     "name": "stdout",
     "output_type": "stream",
     "text": [
      "How many rolls till 10 '4s' pops up? -  41 rolls\n"
     ]
    },
    {
     "data": {
      "image/png": "[encoded data removed]",
      "text/plain": [
       "<matplotlib.figure.Figure at 0x16777e78e80>"
      ]
     },
     "metadata": {
      "needs_background": "light"
     },
     "output_type": "display_data"
    }
   ],
   "source": [
    "print(\"How many rolls till 10 '4s' pops up? - \", np.random.negative_binomial(10,1/6), \"rolls\")\n",
    "\n",
    "plt.title(\"How many rolls till 10 4's pop up \")\n",
    "plt.xlabel(\"number of rolls\")\n",
    "plt.ylabel(\"number of dice rolled\")\n",
    "plt.hist(np.random.negative_binomial(10,1/6, 500))\n",
    "plt.show()\n"
   ]
  },
  {
   "cell_type": "markdown",
   "metadata": {},
   "source": [
    "This type of distribution is called the *negative binomial* distribution. \n",
    "\n",
    "numpy.random.negative_binomial has two required inputs, the number of success required n, and the probability of a success p. There is also a size option [ref](https://docs.scipy.org/doc/numpy/reference/generated/numpy.random.negative_binomial.html#numpy.random.negative_binomial). It's probability density function is\n",
    "\n",
    "$$X\\sim NegativeBinomial(n,p)$$\n",
    "\n",
    "$$P(N;n,p) = \\binom{N+n-1}{N}p^{n}(1-p)^{N}$$\n",
    "\n",
    "again 1-p is the probability of a failure. \n",
    "\n",
    "\n",
    "### Poisson\n",
    "\n",
    "\n",
    "\n",
    "What if the probability p was very small and the number of tries was very large? Say we have a 1000 faced die that will be rolled a million times. What's the distribution of getting a 4 now? In this case the n by p ratio tends towards a constant rate $\\lambda$. This is the *Poisson* distribution. It is frequently used when counting the number of times an event occurs over an interval of time or space. E.g. the number of customers arriving in a shop over the course of a day.  \n",
    "\n"
   ]
  },
  {
   "cell_type": "code",
   "execution_count": 29,
   "metadata": {
    "scrolled": false
   },
   "outputs": [
    {
     "name": "stdout",
     "output_type": "stream",
     "text": [
      "How many customers arrive at a shop on a Sunday when the average Sunday rate is 100? -  99 customers\n"
     ]
    },
    {
     "data": {
      "image/png": "[encoded data removed]",
      "text/plain": [
       "<matplotlib.figure.Figure at 0x16777e78630>"
      ]
     },
     "metadata": {
      "needs_background": "light"
     },
     "output_type": "display_data"
    }
   ],
   "source": [
    "print(\"How many customers arrive at a shop on a Sunday when the average Sunday rate is 100? - \", np.random.poisson(100), \"customers\")\n",
    "\n",
    "plt.title(\"How many customers arrive on Sunday \")\n",
    "plt.xlabel(\"number of customers\")\n",
    "plt.ylabel(\"number of Sunday's\")\n",
    "plt.hist(np.random.poisson(100,500))\n",
    "plt.show()"
   ]
  },
  {
   "cell_type": "markdown",
   "metadata": {},
   "source": [
    "This can be thought of as the limiting case of a binomial distribution when the number of trials is very large and the probability of a success is very small [ref]([https://medium.com/@andrew.chamberlain/deriving-the-poisson-distribution-from-the-binomial-distribution-840cc1668239). "
   ]
  },
  {
   "cell_type": "code",
   "execution_count": 30,
   "metadata": {
    "scrolled": false
   },
   "outputs": [
    {
     "data": {
      "image/png": "[encoded data removed]",
      "text/plain": [
       "<matplotlib.figure.Figure at 0x167768a3da0>"
      ]
     },
     "metadata": {
      "needs_background": "light"
     },
     "output_type": "display_data"
    }
   ],
   "source": [
    "plt.subplot(121)\n",
    "plt.title(\"Poisson How many customers arrive on Sunday \\n when average is 100 \")\n",
    "plt.xlabel(\"number of customers\")\n",
    "plt.ylabel(\"number of Sunday's\")\n",
    "plt.hist(np.random.poisson(100,500))\n",
    "\n",
    "plt.subplot(122)\n",
    "plt.title(\"Binomial How many customers arrive on Sunday when \\n 20000 potential shoppers have a probibility of shopping of 0.005 \")\n",
    "plt.xlabel(\"number of customers\")\n",
    "plt.ylabel(\"number of Sunday's\")\n",
    "plt.hist(np.random.binomial(20000, 0.005, 500))\n",
    "plt.subplots_adjust(bottom=1.0, right=2.0, top=2.0)\n"
   ]
  },
  {
   "cell_type": "markdown",
   "metadata": {},
   "source": [
    "\n",
    "numpy.random.posson has 1 required input its rate $\\lambda$. Size can also be specified. \n",
    "\n",
    "Its probability density function is \n",
    "\n",
    "$$X\\sim Poisson(\\lambda)$$\n",
    "$$p(x; \\lambda)=\\frac{\\lambda^x e^{-\\lambda}}{x!}$$\n",
    "\n"
   ]
  },
  {
   "cell_type": "markdown",
   "metadata": {},
   "source": [
    "### Normal\n",
    "\n",
    "So far the focus has been the **discrete** distributions, discrete uniform, binomial, geometric, negative binomial and Poisson. The **continuous** uniform distribution was also investigated. Regarding the binomial distribution, if the number tries is very large, a bell shaped pattern emerges. "
   ]
  },
  {
   "cell_type": "code",
   "execution_count": 31,
   "metadata": {
    "scrolled": false
   },
   "outputs": [
    {
     "data": {
      "image/png": "[encoded data removed]",
      "text/plain": [
       "<matplotlib.figure.Figure at 0x16776abe5c0>"
      ]
     },
     "metadata": {
      "needs_background": "light"
     },
     "output_type": "display_data"
    }
   ],
   "source": [
    "plt.subplot(121)\n",
    "plt.title(\"10 trials \")\n",
    "plt.hist(np.random.binomial(100,1/6, 5))\n",
    "plt.subplot(122)\n",
    "plt.title(\"10000 trials \")\n",
    "plt.hist(np.random.binomial(100,1/6, 10000))\n",
    "plt.subplots_adjust(bottom=1.0, right=2.0, top=2.0)"
   ]
  },
  {
   "cell_type": "markdown",
   "metadata": {},
   "source": [
    "Taking this to its limit of an infinite number of trials gives one of the most ubiquitous distributions, the *Normal* distribution. This is a continuous distribution that is commonly found in real world situations. For example, measure people's height and plot the results and you will find the vast majority will be clustered around the average value with almost all heights within 3 standard deviations of this average. You may get a few cases of people being extremely tall or extremely small but you will not get someone of height 1 cm or 1 km. Other examples of the normal distribution include marks on an exam, blood pressure readings, salary  levels etc. For example that data below comes from the public dataset ANSUR2, in particular the male data. This is data from the U.S. Army Anthropometry survey which took several measurements of its military population and made this data publicly available [ref](http://mreed.umtri.umich.edu/mreed/downloads.html).  \n"
   ]
  },
  {
   "cell_type": "code",
   "execution_count": 32,
   "metadata": {
    "scrolled": false
   },
   "outputs": [
    {
     "name": "stdout",
     "output_type": "stream",
     "text": [
      "The Height in Inches of Male US Military Personnel from ANSUR2 dataset 2012\n",
      "0    71\n",
      "1    68\n",
      "2    68\n",
      "3    66\n",
      "4    77\n",
      "Name: Heightin, dtype: int64 \n",
      "\n",
      "count    4082.000000\n",
      "mean       70.035767\n",
      "std         2.947419\n",
      "min        60.000000\n",
      "25%        68.000000\n",
      "50%        70.000000\n",
      "75%        72.000000\n",
      "max        94.000000\n",
      "Name: Heightin, dtype: float64 \n",
      "\n"
     ]
    },
    {
     "data": {
      "image/png": "[encoded data removed]",
      "text/plain": [
       "<matplotlib.figure.Figure at 0x167780d55f8>"
      ]
     },
     "metadata": {
      "needs_background": "light"
     },
     "output_type": "display_data"
    }
   ],
   "source": [
    "# data taken from http://www.ucd.ie/ecomodel/Resources/datasets_WebVersion.html in particular http://mreed.umtri.umich.edu/mreed/downloads/anthro/ANSUR2Distribution.zip\n",
    "df=pd.read_csv(\"data/ANSURIIMALEPublic.csv\", encoding = \"ISO-8859-1\")\n",
    "print(\"The Height in Inches of Male US Military Personnel from ANSUR2 dataset 2012\")\n",
    "heights = df.loc[:,'Heightin'] \n",
    "print(heights.head(), \"\\n\")\n",
    "print(heights.describe(), \"\\n\")\n",
    "plt.title(\"Histogram of height in Inches of Male ANSUR2 dataset\")\n",
    "plt.xlabel(\"height in inches\")\n",
    "plt.ylabel(\"number of military personnel\")\n",
    "plt.hist(heights)\n",
    "plt.show()\n"
   ]
  },
  {
   "cell_type": "markdown",
   "metadata": {},
   "source": [
    "This shows the bell shape curve characteristic of the normal distribution. The normal distribution is especially important as many other non normal distributions such as the binomial one above, tend toward a normal distribution pattern as their sample size increases under certain assumptions of each sample added being independent from each other. This is the idea behind the central limit theorem [ref](http://www.ucd.ie/ecomodel/Resources/Sheet4_data_distributions_WebVersion.html#central_limit_theorem). \n",
    "\n",
    "numpy.random has two normal functions\n",
    "1. standard_normal\n",
    "2. normal\n",
    "\n",
    "#### Standard Normal\n",
    "\n",
    "numpy.random.standard_normal produces samples from the standard normal distribution. The standard normal distribution has a mean of 0 and a standard deviation of 1. \n",
    "\n",
    "\n",
    "\n",
    "Its probability density function is \n",
    "\n",
    "$$X\\sim Normal(0, 1)$$\n",
    "$$p(x)\t=\t\\frac{1}{\\sqrt{2\\pi}}e^{-\\frac{x^2}{2}}$$\n",
    "\n",
    "\n",
    "\n",
    "\n",
    "\n",
    "#### Normal\n",
    "\n",
    "The standard normal distribution is a specific case of the normal distribution with a mean of 0 and a standard deviation of 1. The normal distribution can have other values for its mean $\\mu$ and standard deviation $\\sigma$. Its inputs are $\\mu$  and $\\sigma$ and it outputs random samples from this distribution. \n",
    "\n",
    "Its probability density function is \n",
    "\n",
    "$$X\\sim Normal(\\mu, \\sigma)$$\n",
    "$$p(x) = \\frac{1}{\\sqrt{ 2 \\pi \\sigma^2 }} e^{ - \\frac{ (x - \\mu)^2 } {2 \\sigma^2} }$$\n",
    "\n",
    "where $\\mu$ is the mean and $\\sigma$ the standard deviation. The square of the standard deviation, $\\sigma^2$ is called the variance.\n"
   ]
  },
  {
   "cell_type": "code",
   "execution_count": 33,
   "metadata": {},
   "outputs": [
    {
     "data": {
      "image/png": "[encoded data removed]",
      "text/plain": [
       "<matplotlib.figure.Figure at 0x1677838c2b0>"
      ]
     },
     "metadata": {
      "needs_background": "light"
     },
     "output_type": "display_data"
    }
   ],
   "source": [
    "plt.subplot(121)\n",
    "plt.title(\"Standard Normal \\n samples centered round 0\")\n",
    "plt.hist(np.random.standard_normal(100))\n",
    "plt.subplot(122)\n",
    "plt.title(\"Normal \\n samples centered round 50 \")\n",
    "plt.hist(np.random.normal(50, 9, 100))\n",
    "plt.subplots_adjust(bottom=1.0, right=2.0, top=2.0)"
   ]
  },
  {
   "cell_type": "markdown",
   "metadata": {},
   "source": [
    "In general, numpy.random has 35 distribution functions. Namely \n",
    "\n",
    "1. beta - Discrete\n",
    "2. *binomial* - Discrete\n",
    "3. chisquare - Continuous\n",
    "4. dirichlet - Joint\n",
    "5. exponential - Continuous\n",
    "6. f - Continuous\n",
    "7. gamma - Continuous\n",
    "8. *geometric* - Discrete\n",
    "9. gumbel - Continuous\n",
    "10. hypergeometric - Discrete\n",
    "11. laplace - Continuous\n",
    "12. logistic - Continuous\n",
    "13. lognormal - Continuous\n",
    "14. logseries - Discrete\n",
    "15. multinomial - Joint\n",
    "16. multivariate_normal - Continuous\n",
    "17. *negative_binomial* - Discrete\n",
    "18. noncentral_chisquare - Continuous\n",
    "19. noncentral_f - Continuous\n",
    "20. *normal* - Continuous\n",
    "21. pareto - Continuous\n",
    "22. *poisson* - Discrete\n",
    "23. power - Continuous\n",
    "24. rayleigh - Continuous\n",
    "25. standard_cauchy - Continuous\n",
    "26. standard_exponential - Continuous\n",
    "27. standard_gamma - Continuous\n",
    "28. *standard_normal* - Continuous\n",
    "29. standard_t - Continuous\n",
    "30. triangular - Continuous\n",
    "31. *uniform* - Continuous\n",
    "32. vonmises - Continuous\n",
    "33. wald - Continuous\n",
    "34. weibull - Continuous\n",
    "35. zipf - Discrete\n",
    "\n",
    "\n",
    "[ref](https://en.wikipedia.org/wiki/List_of_probability_distributions)\n",
    "Each of these distributions has their own shape and parameters. numpy.random's distribution functions allows random samples to be generated from any of these probability distributions. This report has looked at several of these.\n",
    "\n",
    "1. Uniform, discrete and continuous\n",
    "2. Binomial including Bernoulli\n",
    "3. Geometric\n",
    "4. Negative binomial \n",
    "5. Poisson\n",
    "6. Normal including Standard Normal"
   ]
  },
  {
   "cell_type": "markdown",
   "metadata": {},
   "source": [
    "## What are seeds and how are they involved in generating pseudorandom numbers. "
   ]
  },
  {
   "cell_type": "markdown",
   "metadata": {},
   "source": [
    "\n",
    "![random seed pic](img/randseed.png)\n",
    "\n",
    "##  The use of seeds in generating pseudorandom numbers\n",
    "\n",
    "## Random generator\n",
    "\n",
    "Random numbers are difficult to generate. Typically when true random numbers are required some random natural process is used such as radioactive decay levels. Computational random number generation is not truly random. Algorithms can produce long sequences of random looking data but which in reality are completely deterministic once a key value or a seed is known [ref](https://en.wikipedia.org/wiki/Random_number_generation#%22True%22_vs._pseudo-random_numbers). \n",
    "\n",
    "numpy.random contains four functions involved with the generation of random data from a specified range or given population, RandomState, Seed, get_state and set_state. As noted before 'random' in this sense means pseudo random. Numpy.random uses the pseudo random number generator (PRNG) algorithm named the 'Mersenne Twister'. This is a widely used computer algorithm that is suitable for most random number generation needs. A PRNG requires a seed as a starting point in the random  sequence. Once a seed is defined, the random sequence it generates can be predicted [](Vo. T.H et al., 2017). If no seed is given then Numpy picks a 'random' one based on either the computers internal clock settings or on the computers own random number generator [](Vo. T.H et al., 2017). \n",
    "\n",
    "\n",
    "numpy.random operates within a RandomState and takes a randomly generated seed from within this state if none is specified.The seed is the key piece of information from which the 'random' pattern can be deterministically generated. This is required as there are times when its the exact same set of random numbers need to be produced. The functions in the random generator section allows the RandomState and its Seed to be specifically set and not randomly allocated. \n",
    "\n",
    "There are four functions \n",
    "\n",
    "- RandomState\n",
    "- Seed\n",
    "- get_state\n",
    "- set_state\n",
    "\n",
    "Simple random data functions and and random distribution functions use the same universal random seed from the same random state. If you want a different seed for one particular random pattern then you can specify the unique seed with the RandomState function. This creates a local random number gererator that differs from the global one used by the other functions [](McKinny, 2018). \n",
    "\n",
    "Numpy.random has a function *seed* that allows the user to specify the seed and therefore generate a predictable random pattern of data. This is required when testing statistical models that require the same 'random noise' so as not to affect the statistical parameters. \n",
    "\n",
    "get_state and set_state are ways of setting a specific random state (set_state) and recalling it(get_state)for specific use [](https://stackoverflow.com/questions/48504854/python-random-getstate-and-random-setstate). \n",
    "\n",
    "Each of these four functions will be discussed below. \n",
    "\n",
    "\n",
    "### RandomState\n",
    "\n",
    "![Random State](img/rstate.jpeg)\n",
    "\n",
    "\n",
    "numpy.random operates within a random state. If its not set it will be allocated randomly. \n",
    "RandomState(`[`seed`]`) takes the seed value for the Mersenne Twister algorithm as input and outputs the container for the Mersenne Twister pseudo-random number generator [REf](https://docs.scipy.org/doc/numpy-1.15.1/reference/routines.random.html). There is always an underlying RandomState in numpy. All the functions in Numpy.random operate within an global instance of a default RandomState that is not explicitly set. All the functions and methods generate their random data within this state. E.g. if numpy.random.rand is used to generate some random floats then another function is called like np.random.uniform both functions will operate within the same random state and generate data from a random seed within that state. RandomState function is used when the same set of random numbers is required. It allows random numbers from specific instance of the random state to be generated at a local or contained level. \n",
    "\n",
    "This means that rather than changing global seed for the Mersenne Twister, a container or instance is created with that specific seed. It is used prior to calling other numpy.random functions. RandomState, like the seed function, allows for functions that call and create random data to return the same random data when called again. RandomState comes with a wide varity of methods very similar to numpy.random's functions, to call various probability distributions and simple random data functions. However these are methods rather than functions as each operate within the random state created by RandomState and do not affect global settings (its random state and its seed) of numpy.random.  \n",
    "\n",
    "\n",
    "Generally RandomState is prefered over seed as if seed is used all instances of random numbers called within the session will be affected but in RandomState only the instance where it is used with the random method is affected. \n",
    "\n",
    "\n",
    "--- useful links and things to check ---\n",
    "https://stackoverflow.com/questions/5836335/consistently-create-same-random-numpy-array\n",
    "\n",
    "https://stackoverflow.com/questions/32462273/how-to-use-random-randomstate\n",
    "\n"
   ]
  },
  {
   "cell_type": "code",
   "execution_count": 34,
   "metadata": {
    "scrolled": true
   },
   "outputs": [
    {
     "name": "stdout",
     "output_type": "stream",
     "text": [
      "0.22199317108973948\n",
      "6\n",
      "0.22199317108973948\n",
      "6\n",
      "0.49460164553802144\n",
      "1\n",
      "0.49460164553802144\n",
      "4\n"
     ]
    }
   ],
   "source": [
    "# generate a random number with seed 5\n",
    "seed = 5\n",
    "np.random.seed(seed)\n",
    "print(np.random.rand())\n",
    "# output is always 0.22199317108973948\n",
    "\n",
    "#This uses the global rand function and the seed affects all random functions within numpy.random for example \n",
    "\n",
    "print(np.random.randint(10)) # picks a random integer between [0, 10) - its always 6 with a seed of 5 a different simple random function than the one rand used above\n",
    "# This will always be 6 when the seed is 5\n",
    "\n",
    "\n",
    "#another way to achive the same result without affecting other the randomness of other numpy functions is to use RandomState\n",
    "# set the state\n",
    "rs = np.random.RandomState(seed)\n",
    "# call the method\n",
    "print(rs.rand())\n",
    "# This will be 0.8928601514360016 \n",
    "# however the other global function will not be affected by the RandomState's seed value and will remain at the previously 5 seeded value of 6\n",
    "print(np.random.randint(10))\n",
    "#reset random seed\n",
    "\n",
    "# when the above code is run but the seed value is changed\n",
    "\n",
    "# generate a random number with seed 5\n",
    "seed = 50\n",
    "np.random.seed(seed)\n",
    "print(np.random.rand())\n",
    "# output is always 0.22199317108973948\n",
    "\n",
    "#This uses the global rand function and the seed affects all random functions within numpy.random for example \n",
    "\n",
    "print(np.random.randint(10)) # picks a random integer between [0, 10) - its always 6 with a seed of 5 a different simple random function than the one rand used above\n",
    "# This will always be 6 when the seed is 5\n",
    "\n",
    "\n",
    "#another way to achive the same result without affecting other the randomness of other numpy functions is to use RandomState\n",
    "# set the state\n",
    "rs = np.random.RandomState(seed)\n",
    "# call the method\n",
    "print(rs.rand())\n",
    "# This will be 0.8928601514360016 \n",
    "# however the other global function will not be affected by the RandomState's seed value and will remain at the previously 5 seeded value of 6\n",
    "print(np.random.randint(10))\n",
    "#reset random seed\n",
    "\n",
    "# this shows that the local call to RandomState's methods same (0.49460164553802144) but the global numpy.random functions have different seeds and hence differnt random values \n",
    "\n",
    "# This allows you to have many instances of randomly generated numbers with differnt seeds within the same instance of python running\n",
    "\n",
    "\n",
    "## still not 100 pc sure whats going on with the numbers\n",
    "\n",
    "# https://stackoverflow.com/questions/32462273/how-to-use-random-randomstate\n"
   ]
  },
  {
   "cell_type": "code",
   "execution_count": 35,
   "metadata": {
    "scrolled": true
   },
   "outputs": [
    {
     "name": "stdout",
     "output_type": "stream",
     "text": [
      "<mtrand.RandomState object at 0x0000016778651DC8>\n",
      "<mtrand.RandomState object at 0x0000016778651DC8>\n",
      "<mtrand.RandomState object at 0x0000016778651048>\n",
      "[ 0.77132064  0.02075195  0.63364823  0.74880388  0.49850701  0.22479665\n",
      "  0.19806286  0.76053071  0.16911084  0.08833981  0.68535982  0.95339335\n",
      "  0.00394827  0.51219226  0.81262096  0.61252607  0.72175532  0.29187607\n",
      "  0.91777412  0.71457578] \n",
      "\n",
      "[ 0.54254437  0.14217005  0.37334076  0.67413362  0.44183317  0.43401399\n",
      "  0.61776698  0.51313824  0.65039718  0.60103895  0.8052232   0.52164715\n",
      "  0.90864888  0.31923609  0.09045935  0.30070006  0.11398436  0.82868133\n",
      "  0.04689632  0.62628715] \n",
      "\n",
      "[ 0.54758616  0.819287    0.19894754  0.8568503   0.35165264  0.75464769\n",
      "  0.29596171  0.88393648  0.32551164  0.1650159   0.39252924  0.09346037\n",
      "  0.82110566  0.15115202  0.38411445  0.94426071  0.98762547  0.45630455\n",
      "  0.82612284  0.25137413] \n",
      "\n",
      "[ 0.59737165  0.90283176  0.53455795  0.59020136  0.03928177  0.35718176\n",
      "  0.07961309  0.30545992  0.33071931  0.7738303   0.03995921  0.42949218\n",
      "  0.31492687  0.63649114  0.34634715  0.04309736  0.87991517  0.76324059\n",
      "  0.87809664  0.41750914] \n",
      "\n",
      "[ 0.60557756  0.51346663  0.59783665  0.26221566  0.30087131  0.02539978\n",
      "  0.30306256  0.24207588  0.55757819  0.56550702  0.47513225  0.29279798\n",
      "  0.06425106  0.97881915  0.33970784  0.49504863  0.97708073  0.44077382\n",
      "  0.31827281  0.51979699] \n",
      "\n"
     ]
    }
   ],
   "source": [
    "\n",
    "# Create the random state rn with seed 10 \n",
    "# example adapted from https://www.machinelearningplus.com/python/numpy-tutorial-part1-array-python-examples/\n",
    "print(np.random.RandomState(None))\n",
    "\n",
    "print(np.random.RandomState())\n",
    "\n",
    "print(np.random.RandomState(100))\n",
    "\n",
    "\n",
    "\n",
    "\n",
    "rn = np.random.RandomState(10)\n",
    "\n",
    "# Create 20 random numbers between [0,1) with the rand simple random data function\n",
    "print(rn.rand(20), '\\n')\n",
    "print(rn.rand(20), '\\n')\n",
    "print(rn.rand(20), '\\n')\n",
    "print(rn.rand(20), '\\n')\n",
    "print(rn.rand(20), '\\n')\n",
    "\n"
   ]
  },
  {
   "cell_type": "markdown",
   "metadata": {},
   "source": [
    "In the above example, the random numbers generated were the same each time as the state was created locally before the simple random data function was called. If the RandomState is not set each time, numpy.random will default back to the global instance and use a random seed. "
   ]
  },
  {
   "cell_type": "code",
   "execution_count": 36,
   "metadata": {
    "scrolled": true
   },
   "outputs": [
    {
     "name": "stdout",
     "output_type": "stream",
     "text": [
      "<mtrand.RandomState object at 0x0000016777EE5708>\n"
     ]
    },
    {
     "data": {
      "text/plain": [
       "<function RandomState.get_state>"
      ]
     },
     "execution_count": 36,
     "metadata": {},
     "output_type": "execute_result"
    }
   ],
   "source": [
    "\n",
    "# Create the random state rn with seed 10 \n",
    "# example adapted from https://www.machinelearningplus.com/python/numpy-tutorial-part1-array-python-examples/\n",
    "\n",
    "seed = 10\n",
    "rn = np.random.RandomState() # this array has a RandomState created\n",
    "print(rn)\n",
    "\n",
    "rn.get_state\n",
    "\n",
    "\n",
    "# Create 20 random numbers between [0,1) with the rand simple random data function\n",
    "#print(rn.rand(20), '\\n') # This array has a random\n",
    "# The numbers will be the same each time once rn's RandomState is created each time\n",
    "#create the random state\n",
    "#print(rn.rand(20), '\\n')\n",
    "#create the random state\n",
    "#print(rn.rand(5), '\\n')\n",
    "\n"
   ]
  },
  {
   "cell_type": "markdown",
   "metadata": {},
   "source": [
    "### Seed\n",
    "\n",
    "seed(`[`seed`]`)takes the value selected to seed the Mersenne twister algorithm and its output. It is not called directly rather it uses the seed as input to generate Mersenne twister.[](https://docs.scipy.org/doc/numpy/reference/routines.random.html). It does not return any value as output. If the seed value is not set with this function or the RandomState function it defaults randomly generated seeds based on the computers internal clock time or internal random generator. Unlike RandomState which only affects the local instance of random method calls, the seed function acts on a global scale and affects all the numpy.random functions. If the RandomState is not set, it is randomly allocated. Seed is used when the same set of random data from the same random state is needed. This is used to test models particularly in machine learning. Its input is an integer or 1 dimensional array and if not specified, a random seed is used as mentioned above. [](https://docs.scipy.org/doc/numpy/reference/generated/numpy.random.seed.html#numpy.random.seed) \n",
    "\n"
   ]
  },
  {
   "cell_type": "code",
   "execution_count": 37,
   "metadata": {
    "scrolled": true
   },
   "outputs": [
    {
     "name": "stdout",
     "output_type": "stream",
     "text": [
      "[ 0.79918278  0.02319793  0.81559223  0.95200319  0.56346078]\n",
      "[  4.17022005e-01   7.20324493e-01   1.14374817e-04   3.02332573e-01\n",
      "   1.46755891e-01]\n",
      "[  4.17022005e-01   7.20324493e-01   1.14374817e-04   3.02332573e-01\n",
      "   1.46755891e-01]\n"
     ]
    }
   ],
   "source": [
    "\n",
    "#changes everytime as seed is randomly set\n",
    "np.random.seed()\n",
    "print(np.random.rand(5))\n",
    "\n",
    "# remains the same as seed is set\n",
    "np.random.seed(1)\n",
    "\n",
    "print(np.random.rand(5))\n",
    "np.random.seed(1)\n",
    "print(np.random.ranf(5))\n"
   ]
  },
  {
   "cell_type": "markdown",
   "metadata": {},
   "source": [
    "Rough work\n",
    "\n",
    "Container for the Mersenne Twister pseudo-random number generator.\n",
    "\n",
    "RandomState exposes a number of methods for generating random numbers drawn from a variety of probability distributions. In addition to the distribution-specific arguments, each method takes a keyword argument size that defaults to None. If size is None, then a single value is generated and returned. If size is an integer, then a 1-D array filled with generated values is returned. If size is a tuple, then an array with that shape is filled and returned.\n",
    "\n",
    "Compatibility Guarantee A fixed seed and a fixed series of calls to ‘RandomState’ methods using the same parameters will always produce the same results up to roundoff error except when the values were incorrect. Incorrect values will be fixed and the NumPy version in which the fix was made will be noted in the relevant docstring. Extension of existing parameter ranges and the addition of new parameters is allowed as long the previous behavior remains unchanged.\n",
    "Parameters:\t\n",
    "\n",
    "seed : {None, int, array_like}, optional\n",
    "\n",
    "    Random seed used to initialize the pseudo-random number generator. Can be any integer between 0 and 2**32 - 1 inclusive, an array (or other sequence) of such integers, or None (the default). If seed is None, then RandomState will try to read data from /dev/urandom (or the Windows analogue) if available or seed from the clock otherwise.\n",
    "\n",
    "Notes\n",
    "\n",
    "The Python stdlib module “random” also contains a Mersenne Twister pseudo-random number generator with a number of methods that are similar to the ones available in RandomState. RandomState, besides being NumPy-aware, has the advantage that it provides a much larger number of probability distributions to choose from. \n",
    "\n",
    "\n",
    "\n",
    "if RandomState is not used then any random numbers generate may differ the next time they are called as they are been seeded from a difference instance of RandomState\n",
    "\n",
    "If you use the functions in the numpy.random namespace, you will not get consistent pseudorandom numbers because they are pulling from a different RandomState instance than the one you just created.\n",
    "\n",
    "\n",
    "\n",
    "\n",
    "Random generator\n",
    "RandomState([seed]) \tContainer for the Mersenne Twister pseudo-random number generator.\n",
    "seed([seed]) \tSeed the generator.\n",
    "get_state() \tReturn a tuple representing the internal state of the generator.\n",
    "set_state(state) \tSet the internal state of the generator from a tuple."
   ]
  },
  {
   "cell_type": "markdown",
   "metadata": {},
   "source": [
    "### get_state\n",
    "\n",
    "get_state has no input and returns a tuple representing the internal state of the generator [](https://docs.scipy.org/doc/numpy/reference/routines.random.html). It outputs 5 items; \n",
    "\n",
    "Firstly, a string 'MT19937' which denotes the Mersenne Twister 19937 generator. Thus there are 19968 states[Ref](https://stackoverflow.com/questions/32172054/how-can-i-retrieve-the-current-seed-of-numpys-random-number-generator) that can be used to generate 2<sup>19968</sup> random values. Its state is an array of 624 32 bit integers. [ref](https://stackoverflow.com/questions/20911147/choose-random-seed-and-save-it). \n",
    "\n",
    "The second output item is this array of 624 unsigned 32 bit integer keys. Hence there is enough bits to represent all the internal states; \n",
    "\n",
    "The third output is a ....; I dont know want the 10 in the third output refers to, but I speculate its something to do with position. \n",
    "\n",
    "The fourth and fifth output refers to generator states for the standard normal variable [ref](https://stackoverflow.com/questions/44313620/converting-to-and-from-numpys-np-random-randomstate-and-pythons-random-random). The Box-Muller transformation is used by numpy which creates pairs of these variables, one for immediate use and one stored for later use. [](https://en.wikipedia.org/wiki/Box%E2%80%93Muller_transform). \n",
    "\n",
    "#### When would you use get_state?\n",
    "You would use get_state when you want to identify the current RandomState used by the Mersenne Twister in numpy.random. "
   ]
  },
  {
   "cell_type": "code",
   "execution_count": 38,
   "metadata": {
    "scrolled": false
   },
   "outputs": [
    {
     "name": "stdout",
     "output_type": "stream",
     "text": [
      "('MT19937', array([2629073562, 2983301384,  681580311, 4033622241,  792772838,\n",
      "       3306961981,   92883131, 1785085746, 3364128315, 2402025379,\n",
      "       3224868746, 1145213362, 3784365245, 1948434636, 2667646161,\n",
      "       2598854474,  921967201, 1345782310, 4019597455, 2906395199,\n",
      "       1349669984, 2676817993, 4201769589, 2002781766, 3540177092,\n",
      "       4224925813, 3661313599, 1709930435, 1812273278, 2973452884,\n",
      "       1592291796, 3452239013, 3588672187, 3228651068, 3191454495,\n",
      "       3286135343, 2640545275, 3096953148, 3746505897, 2292163827,\n",
      "       2164382601, 1581410039, 2413832827, 2536571847,  179684232,\n",
      "       1638923698, 3155158821, 1454330362, 4050607484,  607322300,\n",
      "       2216566078,  597866774, 1036426282,  732815996, 3131865469,\n",
      "       2440339870, 2814550949, 1479383443, 2449469876, 3810238677,\n",
      "       2923086221,  437801529, 2891199990, 1886893516, 3898673786,\n",
      "        376204646, 1392372379, 4123661669, 1140754642, 3539167101,\n",
      "       2386309702, 3740957436, 4033654965, 1720449988, 3434980330,\n",
      "       4213508374, 3576835843, 2818865106, 1653162115, 2935588114,\n",
      "       3870616539,  102614847, 1476834675, 1220770796, 1233652508,\n",
      "       2385138085, 1300608482, 2753953039,  262993567, 4009374062,\n",
      "       2143978386, 1613109469, 3072671496, 1223816410, 4088822114,\n",
      "       3382188205, 2250056281, 1926821318, 3806317775, 2882166470,\n",
      "         94227745, 2877123406, 1030225246, 1555072155,   95009460,\n",
      "       1855512191, 2840453856, 2478087736,  836340051, 1566383306,\n",
      "       2625414289, 3519123538,  840509954, 2373484829,  676528503,\n",
      "       2783662465, 3557034492, 2566048980, 2347785709, 3566819907,\n",
      "       1311855742,  198269976, 2693520819, 2127070362,  961491174,\n",
      "       3932714317,  837664826, 4277891831, 3535515583, 2831416447,\n",
      "       3505045078, 3763313683,  367436315, 3614057572, 3780746374,\n",
      "       2693039652, 2297021184, 2224934154,  698822522, 2718629137,\n",
      "       1175446314, 2603507610, 2067589016, 2280810156, 2037033584,\n",
      "       3956938481, 1112874779, 3264939860, 2054107185, 2354026721,\n",
      "       1958640221, 2844284824, 3775753525, 2462549847, 3562644229,\n",
      "       3683686884, 3714884555, 2266356233, 2808583945,  980888698,\n",
      "       1137581788, 2771236582, 1975939317, 1605707990,  614167064,\n",
      "        767063856, 4227905160, 3590303986, 2932373212, 2230415839,\n",
      "        127157074, 2328724316, 3356372094, 3215726425,  282321962,\n",
      "       4226412442,  106823192, 3925701436,  610765913,  281952627,\n",
      "       1832011890, 2670621135, 1012800992, 1489632964, 1371755819,\n",
      "       2529629289,  607643288, 3941535311, 3202770816,  284461833,\n",
      "       3696778854,  325625733, 2671656400, 1391137252, 1240723705,\n",
      "       3132941411,  314202987, 1301784708, 2575857120,  313287791,\n",
      "       3569720512,  981744121, 2986286440, 1051168756, 3881027887,\n",
      "       1088809168, 3421075971, 2655923113, 2577977181, 3968201444,\n",
      "       1406585576, 4001025594, 1854233928, 3825832114,  954907921,\n",
      "       3109212504, 1706316388, 1550715292, 2934259476, 1892992132,\n",
      "       4050317728, 4110743408,  359920673, 3542060425,  597068400,\n",
      "        843058885, 3799566677, 2064802063,  860032883, 2732673041,\n",
      "       3457529378, 3660165513, 1125914118, 4212233956, 3757086488,\n",
      "       2632116865,  462233764,  161423763,  141910303, 2265109737,\n",
      "       1983126147, 2231395445, 2147383559,  611750005, 2194081082,\n",
      "       1699618892, 3841025952, 1294478167,  936120505, 4102008957,\n",
      "       4268194620, 1994019922, 1187332833, 3953675561, 1917283619,\n",
      "        896867387, 1634068959, 3950876764,  485558549,   45383166,\n",
      "       2795959904, 1717914918, 3449856475, 3796449494, 3318166191,\n",
      "       1007512487,  480498390, 1730605673, 3972660041, 2287008439,\n",
      "        539639323, 1569683418, 3795864463,  453065119, 2449404120,\n",
      "        265049099, 3514892628, 2665563904, 2534523080, 1969344934,\n",
      "       4294466702, 1478959417, 1858551310, 3029422620, 4121720519,\n",
      "       2933843154, 3209557296, 3111170404, 4264711934, 2448282623,\n",
      "       1388503581, 1999436060,  818418468, 3283991819, 2356924521,\n",
      "       2684567658, 1424193429, 1187340812, 3847120877, 1987859863,\n",
      "       1879502046, 3422594099, 1419478013, 4148487199, 2538837125,\n",
      "       3694851522,  636350498, 1097832595, 3779331880,  351970715,\n",
      "       2534774459, 3389311029, 3762283879, 3742425828, 3882821767,\n",
      "          2683353, 1981273229, 4068324016,  539226467, 2411256222,\n",
      "       1780609115, 2059099269, 2889497980, 1123848930,  540086248,\n",
      "       3467353606, 3362203896, 4058078927,   93044840,  426751932,\n",
      "        824266620, 3444590461, 2122918776, 3339845861, 4233923286,\n",
      "       3733051177, 2957657929, 3110908772, 2551930098, 1294126893,\n",
      "       2213336821, 2124571119,   49780221, 2901327722, 2493306969,\n",
      "       2545470627,  102527300, 3876142393, 4097726412, 3510695954,\n",
      "        660912408, 2033930425, 1601509561,  969180562,  635252598,\n",
      "        177954239, 3054207519, 4122051269, 2787463443, 1664731394,\n",
      "       2907371963, 1484884283, 1560546623, 2902374922, 2395942225,\n",
      "        451352804, 3346805556, 3459298550, 3482428591,   10753957,\n",
      "       4101820340, 3306178891, 1122941824,  355877597, 1683964498,\n",
      "        238724805, 3926649337, 3197046734, 4277634633, 2288745211,\n",
      "       4202067531,  526022968, 4017453944, 1499184106, 2677441952,\n",
      "       2227353703, 1995296581, 1690255681, 2920887680,  605849491,\n",
      "       3072795503,  746910746, 2709796449, 1225135658,  657841564,\n",
      "       4070363626,  144842260, 3718575695, 3159187032,   88291794,\n",
      "       3129049475,  410962657, 1728726693, 2397606939, 4126386549,\n",
      "        751549633, 4226219908, 1549973222, 3060733996, 3741110422,\n",
      "       2530947598, 2627897488, 2317706652, 1170828427, 2671701715,\n",
      "       1153351468, 3762293788, 4093330405, 1641962571,  699324101,\n",
      "       3173743570, 1798831929, 3467616712, 4198420524, 2448981354,\n",
      "        499920867,  968642107, 2140815539, 4193124145, 1639223168,\n",
      "        284638153,  396985542, 3543438633,  237854258, 3938010494,\n",
      "         24441053, 2947436871, 1273496002,  719279415, 3574242559,\n",
      "       1040109604, 3849196601, 3250223302, 3411729501, 3031943234,\n",
      "       2932285520, 2932420675, 2011314805, 2480850074, 3207806491,\n",
      "        462404995, 3279042455, 4270524229, 1064389665, 1894847490,\n",
      "        721365878,  357178131, 2827490451, 2604438657,  242514037,\n",
      "        678802395, 1322770750, 2747624534, 4246466163, 4188936761,\n",
      "       1207204018,  980275996,  841637218, 1468131552, 4102349079,\n",
      "        586888764, 3105466755, 1628818384, 2991889790, 2801191520,\n",
      "       2114916962, 1124291831, 3242113092, 1082871720, 3625937786,\n",
      "       2796251125, 1651820702, 3427511545, 2035120316, 1024058911,\n",
      "       4209506140, 2527167744,  213886228, 2514956543, 2450260579,\n",
      "        327684603, 3444379103, 3884997363, 2844468873, 2261078634,\n",
      "       3926825101,  439487268, 3789435080, 1212963762, 4259079565,\n",
      "       2772611204, 2534236055, 2430244594,  916922266,  903950702,\n",
      "       3381351589, 2268543712, 3616954837, 1273083041, 1682465785,\n",
      "       1342921678, 2593265787, 3033724173, 2988544460, 1824668777,\n",
      "       1214999983,  257453352, 4187931679, 3523379959, 1481153225,\n",
      "       4290295859,  220376185, 4136013972,  511679284, 3510589272,\n",
      "       1404047266, 3712771231, 2125374725,   32037606, 3601685135,\n",
      "       3433623522,  841138647, 1610171318, 3920699442, 1084892922,\n",
      "       3146108732, 3672652561, 1148331655, 2473777375, 3039860130,\n",
      "       1170979324,  575756423, 1389255297,  339011744, 2351938991,\n",
      "       4050094885, 2773634239, 3715040333, 3920910597,  562407139,\n",
      "         29887881, 1623822350,  358193390, 1822261341, 1243290919,\n",
      "        755541153,  153529770,  994467513, 1339524978, 3174283928,\n",
      "       2782204324,  182251010, 1833692038, 3477775846, 2820237500,\n",
      "       2165639585, 4089211432, 4010345846, 1238643345, 3710224584,\n",
      "       2251039304, 1196168985, 3165387311, 3920626153, 1796963839,\n",
      "       2112227260, 3358845388,  593715887, 3046897033, 2968478428,\n",
      "       3846781604, 3565923316, 2452128692,   68338106, 1427007580,\n",
      "       2192917968,   75235680, 2134869635, 1857807303, 3745016485,\n",
      "       2601327385,   35512535,  559792668, 2093376088,  939608650,\n",
      "       2259549051, 2605376692, 2058599240, 2980581379, 3160415220,\n",
      "       2739135905,  254886981, 1652380747,  371107437, 1123937393,\n",
      "       4185309254,  864314942, 2739416220, 2185572068, 1163546293,\n",
      "       3491702910,  996401156, 1198755052, 2898003956,  745796080,\n",
      "       4127642404, 4237523457, 1274635091, 3144139009, 1600421663,\n",
      "       4226154574,  538248802,  373236455,  116925273], dtype=uint32), 10, 0, 0.0)\n",
      "10\n",
      "0\n",
      "0.0\n"
     ]
    }
   ],
   "source": [
    "#print(np.random.get_state())\n",
    "\n",
    "# adapted from https://stackoverflow.com/questions/45190558/direct-way-to-access-numpy-randomstate-object/45190832#45190832\n",
    "\n",
    "state = np.random.get_state()\n",
    "np.random.rand()\n",
    "print(state)\n",
    "\n",
    "#print(np.random.set_state(state))\n",
    "\n",
    "np.random.rand()\n",
    "\n",
    "#print(state[0]) # the algorithm used MT (2**19937) - 1 \n",
    "#print(state[1]) # used in representing the internal states\n",
    "print(state[2]) # ??? is this the state number?? it goes up in 4's every time its executed some sort of counter - restart python and see if it resets\n",
    "# it seems to have gone back to 10 - comment out the other random state calls above and see if it goes back to 2\n",
    "# is it a number that counts the number of times the random state is called in a particular session? no that didn't do anything - turn off and one jp and see if that does something\n",
    "print(state[3]) # used in the box muller transformation of the MT\n",
    "print(state[4]) # used in the box muller transformation of the MT"
   ]
  },
  {
   "cell_type": "markdown",
   "metadata": {},
   "source": [
    "### set_state\n",
    "\n",
    "If you want to use a specific RandomState you can set it with the set_state function. Set state allows the internal state of the Mersenne Twister to be fixed. \n",
    "\n",
    "numpy.random.set_state has one input, the state of the RandomState required. The state is a tuple with five entries as per get_state A string identifying the version of the Mersenne Twister used, in this case its MT19937 which is also the version of the algorithm used by Python. The next value is the list of the 624 unsigned integer keys. Then the pos value (not sure what this. The last two items in the tuple refers to generator states for the standard normal variable [ref](https://stackoverflow.com/questions/44313620/converting-to-and-from-numpys-np-random-randomstate-and-pythons-random-random). \n",
    "\n",
    "It is not necessary to input this tuple manually. get_state and set_state are used in conjunction to identify the state via get_state and to set it via set_state\n",
    "\n",
    "e.g. [ref](https://stackoverflow.com/questions/45190558/direct-way-to-access-numpy-randomstate-object)\n",
    "\n"
   ]
  },
  {
   "cell_type": "code",
   "execution_count": 39,
   "metadata": {
    "scrolled": true
   },
   "outputs": [
    {
     "name": "stdout",
     "output_type": "stream",
     "text": [
      "[ 0.34556073  0.39676747  0.53881673  0.41919451  0.6852195   0.20445225\n",
      "  0.87811744  0.02738759  0.67046751  0.4173048 ] \n",
      "\n",
      "[ 0.34556073  0.39676747  0.53881673  0.41919451  0.6852195   0.20445225\n",
      "  0.87811744  0.02738759  0.67046751  0.4173048 ] \n",
      "\n",
      "state is not set this time \n",
      " [ 0.55868983  0.14038694  0.19810149  0.80074457  0.96826158  0.31342418\n",
      "  0.69232262  0.87638915  0.89460666  0.08504421] \n",
      "\n"
     ]
    }
   ],
   "source": [
    "state = np.random.get_state()\n",
    "print(np.random.rand(10),\"\\n\")\n",
    "\n",
    "np.random.set_state(state)\n",
    "print(np.random.rand(10),\"\\n\")\n",
    "\n",
    "print(\"state is not set this time \\n\", np.random.rand(10),\"\\n\")"
   ]
  },
  {
   "cell_type": "markdown",
   "metadata": {},
   "source": [
    "\n",
    "#   ## old references\n",
    "\n",
    "En.wikipedia.org. (2018a). Mersenne prime. [online] Available at: https://en.wikipedia.org/wiki/Mersenne_prime [Accessed 4 Nov. 2018].\n",
    "\n",
    "En.wikipedia.org. (2018b). Mersenne Twister. [online] Available at: https://en.wikipedia.org/wiki/Mersenne_Twister [Accessed 4 Nov. 2018].\n",
    "\n",
    "The Cloudflare Blog. (2018). Randomness 101: LavaRand in Production. [online] Available at: https://blog.cloudflare.com/randomness-101-lavarand-in-production/ [Accessed 4 Nov. 2018].\n",
    "\n",
    "\n",
    "\n",
    "\n",
    "Math.upenn.edu. (2018). 1936 election: Case Study I. [online] Available at: https://www.math.upenn.edu/~deturck/m170/wk4/lecture/case1.html [Accessed 4 Nov. 2018].\n",
    "\n",
    "\n",
    "Idris, I. (2015). NumPy: Beginner's Guide - Third Edition. 3rd ed. BIRMINGHAM - MUMBAI: Packt Publishing. \n",
    "\n",
    "McKinney, W. (2018). Python for data analysis. Beijing [i 4 pozostałe]: O'Reilly.\n",
    "\n",
    "Docs.scipy.org. (2018). Random sampling (numpy.random) — NumPy v1.15 Manual. [online] Available at: https://docs.scipy.org/doc/numpy-1.15.1/reference/routines.random.html [Accessed 20 Oct. 2018].\n",
    "\n",
    "Vo. T.H, P., Czygan, M., Kumar, A. and Raman, K. (2017). Python. Birmingham: Packt Publishing.\n",
    "\n",
    "McLeod, S. (2018). Sampling Methods | Simply Psychology. [online] Simplypsychology.org. Available at: https://www.simplypsychology.org/sampling.html [Accessed 20 Oct. 2018].\n",
    "\n",
    "En.wikipedia.org. (2018). Simple random sample. [online] Available at: https://en.wikipedia.org/wiki/Simple_random_sample [Accessed 20 Oct. 2018].\n",
    "\n",
    "Mehta, H. (2015). Mastering Python scientific computing. 1st ed. Birmingham: Packt Publishing.\n",
    "\n",
    "Wong, D. (2018). How does the Mersenne's Twister work?. [online] Cryptologie.net. Available at: https://www.cryptologie.net/article/331/how-does-the-mersennes-twister-work/ [Accessed 4 Nov. 2018].\n",
    "\n",
    "Docs.python.org. (2018). random — Generate pseudo-random numbers — Python 3.7.1 documentation. [online] Available at: https://docs.python.org/3/library/random.html [Accessed 4 Nov. 2018].\n",
    "\n",
    "Stack Overflow. (2018). Why do the numpy and random modules give different random numbers for the same seed?. [online] Available at: https://stackoverflow.com/questions/49195632/why-do-the-numpy-and-random-modules-give-different-random-numbers-for-the-same-s?rq=1 [Accessed 4 Nov. 2018].\n",
    "\n",
    "\n",
    "\n",
    "Weisstein, Eric W. (2018) \"Mersenne Prime.\" From MathWorld--A Wolfram Web Resource.[online] Available at:  http://mathworld.wolfram.com/MersennePrime.html [Accessed 20 Oct. 2018]\n"
   ]
  },
  {
   "cell_type": "code",
   "execution_count": null,
   "metadata": {
    "scrolled": true
   },
   "outputs": [],
   "source": []
  },
  {
   "cell_type": "code",
   "execution_count": null,
   "metadata": {
    "scrolled": true
   },
   "outputs": [],
   "source": []
  }
 ],
 "metadata": {
  "kernelspec": {
   "display_name": "Python 3",
   "language": "python",
   "name": "python3"
  },
  "language_info": {
   "codemirror_mode": {
    "name": "ipython",
    "version": 3
   },
   "file_extension": ".py",
   "mimetype": "text/x-python",
   "name": "python",
   "nbconvert_exporter": "python",
   "pygments_lexer": "ipython3",
   "version": "3.6.6"
  }
 },
 "nbformat": 4,
 "nbformat_minor": 2
}
