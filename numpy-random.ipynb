{
 "cells": [
  {
   "cell_type": "markdown",
   "metadata": {},
   "source": [
    "# The numpy.random package"
   ]
  },
  {
   "cell_type": "markdown",
   "metadata": {},
   "source": [
    "An exploratory  investigation in to the numpy random package. The documentation can be found on scipy [here](https://docs.scipy.org/doc/numpy-1.15.0/reference/routines.random.html)"
   ]
  },
  {
   "cell_type": "markdown",
   "metadata": {},
   "source": [
    "## The overall purpose of the package"
   ]
  },
  {
   "cell_type": "markdown",
   "metadata": {},
   "source": [
    "Add definition of what random sampling is - what do I think it is? randoming picking elements from a population in a manner that is unbiased with each item selected having the same probability of being selected as any other in the overall distribution. eg randoming sampling people who ....  "
   ]
  },
  {
   "cell_type": "markdown",
   "metadata": {},
   "source": [
    "## The use of the 'Simple random data' and 'Permutations' function"
   ]
  },
  {
   "cell_type": "markdown",
   "metadata": {},
   "source": [
    "- ### Simple Random Data"
   ]
  },
  {
   "cell_type": "markdown",
   "metadata": {},
   "source": [
    "There are several random functions here \n",
    "rand(d0, d1, …, dn) \tRandom values in a given shape.\n",
    "This was explained in the video\n",
    "\n",
    "randn(d0, d1, …, dn) \tReturn a sample (or samples) from the “standard normal” distribution.\n",
    "This looks similar but from a normal distribution not a simple one\n",
    "\n",
    "randint(low[, high, size, dtype]) \tReturn random integers from low (inclusive) to high (exclusive).\n",
    "random_integers(low[, high, size]) \tRandom integers of type np.int between low and high, inclusive.\n",
    "random_sample([size]) \tReturn random floats in the half-open interval [0.0, 1.0).\n",
    "random([size]) \tReturn random floats in the half-open interval [0.0, 1.0).\n",
    "ranf([size]) \tReturn random floats in the half-open interval [0.0, 1.0).\n",
    "sample([size]) \tReturn random floats in the half-open interval [0.0, 1.0).\n",
    "\n",
    "These all look to be the same thing - there must be a difference or else why the duplication?  \n",
    "\n",
    "choice(a[, size, replace, p]) \tGenerates a random sample from a given 1-D array\n",
    "bytes(length) \tReturn random bytes. \n",
    "\n",
    "Go through them one by one\n"
   ]
  },
  {
   "cell_type": "code",
   "execution_count": 16,
   "metadata": {},
   "outputs": [],
   "source": [
    "import numpy as np\n",
    "import matplotlib.pyplot as plt\n",
    "%matplotlib inline"
   ]
  },
  {
   "cell_type": "markdown",
   "metadata": {},
   "source": [
    "- #### rand"
   ]
  },
  {
   "cell_type": "code",
   "execution_count": 19,
   "metadata": {},
   "outputs": [
    {
     "name": "stdout",
     "output_type": "stream",
     "text": [
      "[ 0.56416785]\n"
     ]
    },
    {
     "data": {
      "image/png": "[encoded data removed]",
      "text/plain": [
       "<matplotlib.figure.Figure at 0x23cfa724f60>"
      ]
     },
     "metadata": {
      "needs_background": "light"
     },
     "output_type": "display_data"
    }
   ],
   "source": [
    "x = np.random.rand(1)\n",
    "print(x)\n",
    "plt.hist(x)\n",
    "plt.show()"
   ]
  },
  {
   "cell_type": "markdown",
   "metadata": {},
   "source": [
    "seems to generate one point at 0.5"
   ]
  },
  {
   "cell_type": "code",
   "execution_count": 20,
   "metadata": {},
   "outputs": [
    {
     "name": "stdout",
     "output_type": "stream",
     "text": [
      "[ 0.18043226  0.33708044  0.34416858  0.79094904  0.68509644  0.76184659\n",
      "  0.58118473  0.59768303  0.11595283  0.1717804 ]\n"
     ]
    },
    {
     "data": {
      "image/png": "[encoded data removed]",
      "text/plain": [
       "<matplotlib.figure.Figure at 0x23cfa7556a0>"
      ]
     },
     "metadata": {
      "needs_background": "light"
     },
     "output_type": "display_data"
    }
   ],
   "source": [
    "x = np.random.rand(10)\n",
    "print(x)\n",
    "plt.hist(x)\n",
    "plt.show()"
   ]
  },
  {
   "cell_type": "code",
   "execution_count": null,
   "metadata": {},
   "outputs": [],
   "source": [
    "seems to generate 10 datapoints 3 between 0.1 and 0.2, 2 between 03 and 0.4 and 0.7 and 0.8 and 1 in each of 0.5 and 0.6 intervals."
   ]
  },
  {
   "cell_type": "code",
   "execution_count": 21,
   "metadata": {},
   "outputs": [
    {
     "name": "stdout",
     "output_type": "stream",
     "text": [
      "[[ 0.07575977  0.39550486  0.03937396  0.239352    0.86785235  0.69562445\n",
      "   0.5928791   0.6790619   0.99365894  0.12056922]\n",
      " [ 0.58958051  0.11252519  0.2804917   0.31900444  0.70300933  0.71290938\n",
      "   0.61684134  0.03582847  0.49258337  0.46910796]\n",
      " [ 0.51663933  0.02658635  0.52414347  0.37740781  0.70366195  0.99131244\n",
      "   0.09529185  0.9837484   0.96142203  0.34895148]\n",
      " [ 0.63755913  0.7717977   0.94205831  0.11997439  0.39782263  0.80639459\n",
      "   0.8498818   0.86641274  0.85479672  0.92540303]\n",
      " [ 0.77309739  0.95419897  0.0375059   0.66407707  0.8613948   0.67264808\n",
      "   0.96000213  0.78700213  0.28953954  0.76256046]]\n"
     ]
    },
    {
     "data": {
      "image/png": "[encoded data removed]",
      "text/plain": [
       "<matplotlib.figure.Figure at 0x23cfa9da550>"
      ]
     },
     "metadata": {
      "needs_background": "light"
     },
     "output_type": "display_data"
    }
   ],
   "source": [
    "x = np.random.rand(5,10)\n",
    "print(x)\n",
    "plt.hist(x)\n",
    "plt.show()"
   ]
  },
  {
   "cell_type": "markdown",
   "metadata": {},
   "source": [
    "generates 5 rows of 10 items."
   ]
  },
  {
   "cell_type": "code",
   "execution_count": 23,
   "metadata": {},
   "outputs": [
    {
     "name": "stdout",
     "output_type": "stream",
     "text": [
      "[[[ 0.24996127  0.25880963  0.34413471  0.15049433]\n",
      "  [ 0.48804347  0.65084776  0.5067051   0.4842471 ]\n",
      "  [ 0.73829644  0.08800884  0.7402523   0.20704229]]\n",
      "\n",
      " [[ 0.05478757  0.01784112  0.9738087   0.12008875]\n",
      "  [ 0.36432269  0.69060184  0.7540914   0.51992842]\n",
      "  [ 0.84290486  0.10991975  0.14623936  0.01816902]]]\n"
     ]
    }
   ],
   "source": [
    "x = np.random.rand(2, 3, 4)\n",
    "print(x) # cant seem to plot histograms in higher dims\n"
   ]
  },
  {
   "cell_type": "code",
   "execution_count": 24,
   "metadata": {},
   "outputs": [
    {
     "name": "stdout",
     "output_type": "stream",
     "text": [
      "[[[ 0.35122949  0.00701879  0.07651293  0.19485884]\n",
      "  [ 0.5213398   0.55064023  0.398833    0.99538385]]\n",
      "\n",
      " [[ 0.94326227  0.71310773  0.71474237  0.15615254]\n",
      "  [ 0.80353159  0.69116228  0.56010692  0.47513331]]\n",
      "\n",
      " [[ 0.09751895  0.96909196  0.05863483  0.46399022]\n",
      "  [ 0.98155847  0.90118686  0.51380255  0.00566205]]]\n"
     ]
    }
   ],
   "source": [
    "x = np.random.rand(3, 2, 4)\n",
    "print(x)"
   ]
  },
  {
   "cell_type": "code",
   "execution_count": 25,
   "metadata": {},
   "outputs": [
    {
     "name": "stdout",
     "output_type": "stream",
     "text": [
      "0.253753672600184\n"
     ]
    }
   ],
   "source": [
    "x = np.random.rand()\n",
    "print(x)"
   ]
  },
  {
   "cell_type": "markdown",
   "metadata": {},
   "source": [
    "different from np.random.rand(1) as its a single number not an array with a single entry. "
   ]
  },
  {
   "cell_type": "markdown",
   "metadata": {},
   "source": [
    "- #### randn"
   ]
  },
  {
   "cell_type": "code",
   "execution_count": 26,
   "metadata": {
    "scrolled": true
   },
   "outputs": [
    {
     "name": "stdout",
     "output_type": "stream",
     "text": [
      "1.5667437933053336\n"
     ]
    },
    {
     "data": {
      "image/png": "[encoded data removed]",
      "text/plain": [
       "<matplotlib.figure.Figure at 0x23cfa5a1f60>"
      ]
     },
     "metadata": {
      "needs_background": "light"
     },
     "output_type": "display_data"
    }
   ],
   "source": [
    "x = np.random.randn()\n",
    "print(x)\n",
    "plt.hist(x)\n",
    "plt.show()"
   ]
  },
  {
   "cell_type": "code",
   "execution_count": 27,
   "metadata": {},
   "outputs": [
    {
     "name": "stdout",
     "output_type": "stream",
     "text": [
      "[ 0.86183845 -1.25751271 -0.35991477 -1.77240512 -0.43443492]\n"
     ]
    },
    {
     "data": {
      "image/png": "[encoded data removed]",
      "text/plain": [
       "<matplotlib.figure.Figure at 0x23cfacbd8d0>"
      ]
     },
     "metadata": {
      "needs_background": "light"
     },
     "output_type": "display_data"
    }
   ],
   "source": [
    "x = np.random.randn(5)\n",
    "print(x)\n",
    "plt.hist(x)\n",
    "plt.show()"
   ]
  },
  {
   "cell_type": "code",
   "execution_count": 29,
   "metadata": {},
   "outputs": [
    {
     "name": "stdout",
     "output_type": "stream",
     "text": [
      "[-0.10393693  0.8616919  -0.14255308  0.66635847  0.14178394 -0.78642719\n",
      "  0.84670538  0.39602016 -1.00434951 -2.08189144 -0.11151099  0.13053619\n",
      " -1.52247924  0.61857966  0.3559816  -0.38173437  0.27790246  1.19887796\n",
      "  0.45149375 -2.34623372  1.17203362  0.47130537 -1.52550095  1.7246791\n",
      " -0.8196151  -0.88403754  1.38961808  0.46053782 -0.02844179 -1.02689668\n",
      " -0.57445948  0.22314827  1.53740031  0.81225461  2.22083239  0.34742652\n",
      "  2.71384083  0.32821017  0.20104017 -0.22532256  1.39333139  0.47850699\n",
      "  0.7069086  -0.52630579 -0.3954218   0.59991311 -0.69125495 -0.32100761\n",
      " -0.06816601  1.24365849  0.91279518 -0.32559163 -0.44919899  0.5345208\n",
      " -1.25073201  0.23538539 -0.04995054 -0.51645443 -1.14310483 -1.30929647\n",
      " -0.18714235 -1.73833879 -0.33036579 -1.15779794 -0.96490132  0.22573563\n",
      "  0.6032974   1.26968446 -0.06730127  1.60810597 -1.38633094  0.84005767\n",
      "  0.34498797 -0.14873631  0.04507375 -1.77679135 -0.10855173 -0.74724944\n",
      "  0.04300316 -0.38849127 -0.58000341 -0.0688797   1.05098381  1.22137815\n",
      "  2.59691869 -0.2767376   0.17654755 -1.18055165 -0.32320437 -0.68544345\n",
      " -0.79523028 -1.39262274 -1.42124086  0.38528489 -0.91871184  0.59089625\n",
      "  1.01220867 -1.49605262 -1.28552989 -0.91940014]\n"
     ]
    },
    {
     "data": {
      "image/png": "[encoded data removed]",
      "text/plain": [
       "<matplotlib.figure.Figure at 0x23cfaf95390>"
      ]
     },
     "metadata": {
      "needs_background": "light"
     },
     "output_type": "display_data"
    }
   ],
   "source": [
    "x = np.random.randn(100)\n",
    "print(x)\n",
    "plt.hist(x)\n",
    "plt.show()"
   ]
  },
  {
   "cell_type": "code",
   "execution_count": 30,
   "metadata": {},
   "outputs": [
    {
     "name": "stdout",
     "output_type": "stream",
     "text": [
      "[[ 1.71000888  0.82565918]\n",
      " [ 0.04170932 -0.13528152]\n",
      " [ 0.69704841  1.74374939]\n",
      " ..., \n",
      " [ 0.31726725 -0.50673731]\n",
      " [ 1.59439503  0.78338621]\n",
      " [ 0.29302699 -0.81115887]]\n"
     ]
    },
    {
     "data": {
      "image/png": "[encoded data removed]",
      "text/plain": [
       "<matplotlib.figure.Figure at 0x23cfb04b4a8>"
      ]
     },
     "metadata": {
      "needs_background": "light"
     },
     "output_type": "display_data"
    }
   ],
   "source": [
    "x = np.random.randn(1000, 2)\n",
    "print(x)\n",
    "plt.hist(x)\n",
    "plt.show()"
   ]
  },
  {
   "cell_type": "code",
   "execution_count": 32,
   "metadata": {},
   "outputs": [
    {
     "name": "stdout",
     "output_type": "stream",
     "text": [
      "[[[ 0.77629344  1.12404315  0.02676172]\n",
      "  [ 1.36628998  0.57892704 -0.79473778]]\n",
      "\n",
      " [[ 0.2194666  -1.39494183 -0.49170887]\n",
      "  [ 2.55446949  0.7325539  -0.46752835]]\n",
      "\n",
      " [[-0.81442479 -0.60955454  1.15782309]\n",
      "  [ 0.04443714  1.13372752 -0.5311694 ]]\n",
      "\n",
      " ..., \n",
      " [[ 1.01981575  0.70659521 -1.01946168]\n",
      "  [ 0.27112482  1.03248089  0.25953293]]\n",
      "\n",
      " [[ 0.8291913   0.14718768 -0.75295657]\n",
      "  [ 0.90537216 -0.36512651  0.44731397]]\n",
      "\n",
      " [[-0.35360891 -1.08671449 -1.11155875]\n",
      "  [ 1.14183644 -0.12037716  1.48902151]]]\n"
     ]
    }
   ],
   "source": [
    "x = np.random.randn(1000, 2, 3)\n",
    "print(x)\n"
   ]
  },
  {
   "cell_type": "code",
   "execution_count": null,
   "metadata": {},
   "outputs": [],
   "source": []
  },
  {
   "cell_type": "code",
   "execution_count": null,
   "metadata": {},
   "outputs": [],
   "source": []
  },
  {
   "cell_type": "code",
   "execution_count": null,
   "metadata": {},
   "outputs": [],
   "source": []
  },
  {
   "cell_type": "code",
   "execution_count": null,
   "metadata": {},
   "outputs": [],
   "source": []
  },
  {
   "cell_type": "code",
   "execution_count": null,
   "metadata": {},
   "outputs": [],
   "source": []
  },
  {
   "cell_type": "code",
   "execution_count": null,
   "metadata": {},
   "outputs": [],
   "source": []
  },
  {
   "cell_type": "code",
   "execution_count": null,
   "metadata": {},
   "outputs": [],
   "source": []
  },
  {
   "cell_type": "code",
   "execution_count": null,
   "metadata": {},
   "outputs": [],
   "source": []
  },
  {
   "cell_type": "markdown",
   "metadata": {},
   "source": [
    "- ### Permutations    "
   ]
  },
  {
   "cell_type": "markdown",
   "metadata": {},
   "source": [
    "## The use and purpose of at least five 'distributions' functions"
   ]
  },
  {
   "cell_type": "code",
   "execution_count": null,
   "metadata": {},
   "outputs": [],
   "source": []
  },
  {
   "cell_type": "markdown",
   "metadata": {},
   "source": [
    "- ### Uniform"
   ]
  },
  {
   "cell_type": "code",
   "execution_count": null,
   "metadata": {},
   "outputs": [],
   "source": []
  },
  {
   "cell_type": "markdown",
   "metadata": {},
   "source": [
    "- ### Normal"
   ]
  },
  {
   "cell_type": "markdown",
   "metadata": {},
   "source": []
  },
  {
   "cell_type": "markdown",
   "metadata": {},
   "source": [
    "- ### Binomial"
   ]
  },
  {
   "cell_type": "markdown",
   "metadata": {},
   "source": []
  },
  {
   "cell_type": "markdown",
   "metadata": {},
   "source": [
    "- ### Possion"
   ]
  },
  {
   "cell_type": "markdown",
   "metadata": {},
   "source": []
  },
  {
   "cell_type": "markdown",
   "metadata": {},
   "source": [
    " - ### Power"
   ]
  },
  {
   "cell_type": "markdown",
   "metadata": {},
   "source": [
    "##  The use of seeds in generating pseudorandom numbers"
   ]
  },
  {
   "cell_type": "code",
   "execution_count": null,
   "metadata": {},
   "outputs": [],
   "source": []
  },
  {
   "cell_type": "code",
   "execution_count": null,
   "metadata": {},
   "outputs": [],
   "source": []
  },
  {
   "cell_type": "code",
   "execution_count": null,
   "metadata": {},
   "outputs": [],
   "source": []
  },
  {
   "cell_type": "code",
   "execution_count": null,
   "metadata": {},
   "outputs": [],
   "source": []
  },
  {
   "cell_type": "code",
   "execution_count": null,
   "metadata": {},
   "outputs": [],
   "source": []
  },
  {
   "cell_type": "code",
   "execution_count": null,
   "metadata": {},
   "outputs": [],
   "source": []
  },
  {
   "cell_type": "code",
   "execution_count": null,
   "metadata": {},
   "outputs": [],
   "source": []
  }
 ],
 "metadata": {
  "kernelspec": {
   "display_name": "Python 3",
   "language": "python",
   "name": "python3"
  },
  "language_info": {
   "codemirror_mode": {
    "name": "ipython",
    "version": 3
   },
   "file_extension": ".py",
   "mimetype": "text/x-python",
   "name": "python",
   "nbconvert_exporter": "python",
   "pygments_lexer": "ipython3",
   "version": "3.6.6"
  }
 },
 "nbformat": 4,
 "nbformat_minor": 2
}
