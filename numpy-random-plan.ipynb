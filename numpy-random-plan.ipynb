{
 "cells": [
  {
   "cell_type": "markdown",
   "metadata": {},
   "source": [
    "\n",
    "\n",
    "# Assignment explain numpy.random package\n",
    "\n",
    "![numpylogo](img/numpy.jpeg)\n",
    "\n",
    "\n",
    "\n",
    "## Why are random numbers needed? \n",
    "\n",
    "The ability to generate random numbers has many useful applications. Say a researcher is interested in the effectiveness of a new ulcer drug. The population of interest is every person with ulcers. It would impractically costly and time-consuming contact everyone with ulcers, give them the drug and then compare before and after reports. Indeed, the population of people with ulcers as a total population would be impossible to judge as many people may have ulcers without ever seeking treatment.\n",
    "\n",
    "## Why take samples?\n",
    "The researcher needs to take a sample from this population. This sample should be big enough and diverse enough so that it fairly represents the wider population. The sample data is used to make **generalisations** about its population. For example, the drug’s effectiveness in a sample containing only men with ulcers aged seventy or over is unlikely to represent its effectiveness on women half that age. Sampling involves taking a sufficiently sized subset of a given population that accurately reflects the phenomena under investigation so that information from the sample can be used to infer things from the overall population. It is vital then that *the sample shares the same characteristics as its target population*. \n",
    "\n",
    "## Problems with picking samples \n",
    "Picking samples that represent a population is prone to **biases**. For example, if asked to pick a number at random between 1 and 10 there will be far more 3's and 7's than would be expected if the choice was truly random [ref](https://micro.magnet.fsu.edu/creatures/pages/random.html).\n",
    "\n",
    "One way to reduce sampling bias is to use **random sampling**. Random sampling means that every item in the target population has an *equal* chance of being selected. In the example above, the target population would be the numbers between 1 and 10 inclusive and random sampling means that each number in this interval would have an equal probability of being selected. \n",
    "\n",
    "If random sampling is not used then certain elements of the population are favoured over others which skews the results and limits its generalising ability. In reality, it is often difficult to define the target population and its sample precisely so that only the phenomena in question is investigated.  \n",
    "\n",
    "![Literary Digest](img/digest.jpg)\n",
    "\n",
    "For example in 1936 there was a phone poll conducted by The Literary Digest which predicted that the Republican Alfred Landon would win the election 57% to 43% from the Democrat F.D.Roosevelt. However, the actual results from the election was 62% in favour of FDR. The problem was sample bias. Only people with phones were polled and they were more likely to vote Republican in depression era America. People with phones were also more likely to come from a more affluent background and were not as likely to be moved by FDR’s new deal rhetoric. [Ref]( https://www.math.upenn.edu/~deturck/m170/wk4/lecture/case1.html). Random sampling does not remove sample bias but it does limit one aspect of it, biases introduced by favouring subsets of the target population rather than then every element being as likely to be selected as every other one.   \n",
    "\n",
    "## Algorithms and random numbers\n",
    "\n",
    "Computing algorithms are deterministic. They cannot generate true randomness without using some external piece of information. \n",
    "\n",
    "![lave lamps](img/lava.jpg)\n",
    "\n",
    "\n",
    "For example the DNS service Cloudflare uses its lava lamps in its head office to help generate the randomness needed for its cryptography [ref]( https://blog.cloudflare.com/randomness-101-lavarand-in-production/). Many areas of science and computing do not need true randomness. In fact, some areas require predictable ‘randomness’ so that model parameters can be tested with the same random ‘noise’. Computer algorithms use **pseudo random numbers** (Idris, 2015). To all appearances these look random but if a key piece of information is known, the whole random sequence can be predicted. There are several **pseudo random number generator** (PRNG) algorithms. \n",
    "\n",
    "One of the most widely used PRNG is the *Mersenne Twister*. A Mersenne number is one less than a power of 2. The twister aspect refers to its period length being a Mersenne prime which is ‘twisted’ by various transformations when random numbers are generated. A commonly used Mersenne twister uses 19937 as its power.  This algorithm takes a ‘seed’ value as a starting point. This is initialised into a state and transformed via reversable and non-reversable transformations in order to generate the pseudo random numbers PRN. {REf}(https://www.cryptologie.net/article/331/how-does-the-mersennes-twister-work/). The Mersenne Twister is not secure enough for cryptology however it a useful and widely used all purpose PRNG [Ref]( https://en.wikipedia.org/wiki/Mersenne_Twister).  \n",
    "\n",
    "## Random numbers in Python\n",
    "\n",
    "![python logo](img/python.png)\n",
    "\n",
    "Python has an in built random package *random*. NumPy extends this by adding extra functionality and methods in its *numpy.random* package. Both Python and Numpy.random use the Mersenne twister 19937 algorithm to generate PRNs.\n",
    "\n",
    "## Why use numpy for generating random numbers\n",
    "\n",
    "Python's random method generates a random float number uniformly from the interval 0 inclusive to 1 exclusive [Ref]( https://docs.python.org/3/library/random.html). .random has many of the functions and methods contained in numpy.random so *why use numpy.random*?\n",
    "\n",
    "The main reason numpy.random is used over Python’s random.random package is that NumPy is designed to work with n dimensional arrays. Numpy uses less memory and is faster than lists used in the default python.   NumPy is specialised for scientific operations and has more advanced mathematical functionality than Python. It is especially useful for manipulating numerical data that can be arranged in matrices [] (https://metaspace.blog/programming/python/python-numpy-basics/). \n",
    "\n",
    "PRN’s can be arranged in arrays, a speciality in NumPy. Numpy.random and python’s default random.random have similar functions and methods but numpy.random has some extra probability distributions common to scientific research and some extra simple random data convenience functions.  Neither are suitable for cryptography purposes. [ref](https://stackoverflow.com/questions/7029993/differences-between-numpy-random-and-random-random-in-python). \n",
    "\n",
    "The functions and methods offered in numpy.random are\n",
    "\n",
    "•\tsimple random data\n",
    "•\tpermutations\n",
    "•\tdistributions\n",
    "•\trandom generator\n",
    "\n",
    "*Simple random data* section consist of several functions that generate simple random data.Inputs can be size or range. *Permutation* functions randomly shuffle or permutes a given sequence. *Distribution* functions allow specific population distributions or ranges to be sampled. This may require statistical measures such as mean and standard deviation. Numpy.random can generate samples from continuous and descrite distributins (Idris, 2015). Lastly, the *random generator* section contains functions that allow seeds to be specified (Mehta, 2015). This is useful in cases where the exact same sequence of random data is required. Each of these sections will be explored. \n",
    "\n",
    " "
   ]
  },
  {
   "cell_type": "markdown",
   "metadata": {},
   "source": [
    "## What does Simple random data do?\n"
   ]
  },
  {
   "cell_type": "markdown",
   "metadata": {},
   "source": []
  },
  {
   "cell_type": "markdown",
   "metadata": {},
   "source": [
    "## What does permutations do?\n",
    " "
   ]
  },
  {
   "cell_type": "markdown",
   "metadata": {},
   "source": []
  },
  {
   "cell_type": "markdown",
   "metadata": {},
   "source": [
    "## What are distributions and why do we need them.\n"
   ]
  },
  {
   "cell_type": "code",
   "execution_count": null,
   "metadata": {},
   "outputs": [],
   "source": []
  },
  {
   "cell_type": "markdown",
   "metadata": {},
   "source": [
    "## What are seeds and how are they involved in generating pseudorandom numbers. "
   ]
  },
  {
   "cell_type": "code",
   "execution_count": null,
   "metadata": {},
   "outputs": [],
   "source": []
  },
  {
   "cell_type": "code",
   "execution_count": null,
   "metadata": {},
   "outputs": [],
   "source": []
  },
  {
   "cell_type": "code",
   "execution_count": null,
   "metadata": {},
   "outputs": [],
   "source": []
  },
  {
   "cell_type": "code",
   "execution_count": null,
   "metadata": {},
   "outputs": [],
   "source": []
  },
  {
   "cell_type": "code",
   "execution_count": null,
   "metadata": {},
   "outputs": [],
   "source": []
  },
  {
   "cell_type": "code",
   "execution_count": null,
   "metadata": {},
   "outputs": [],
   "source": []
  },
  {
   "cell_type": "code",
   "execution_count": null,
   "metadata": {},
   "outputs": [],
   "source": []
  },
  {
   "cell_type": "code",
   "execution_count": null,
   "metadata": {},
   "outputs": [],
   "source": []
  },
  {
   "cell_type": "code",
   "execution_count": null,
   "metadata": {},
   "outputs": [],
   "source": []
  },
  {
   "cell_type": "code",
   "execution_count": null,
   "metadata": {},
   "outputs": [],
   "source": []
  },
  {
   "cell_type": "code",
   "execution_count": null,
   "metadata": {},
   "outputs": [],
   "source": []
  },
  {
   "cell_type": "code",
   "execution_count": null,
   "metadata": {},
   "outputs": [],
   "source": []
  },
  {
   "cell_type": "code",
   "execution_count": null,
   "metadata": {},
   "outputs": [],
   "source": []
  },
  {
   "cell_type": "code",
   "execution_count": null,
   "metadata": {},
   "outputs": [],
   "source": []
  }
 ],
 "metadata": {
  "kernelspec": {
   "display_name": "Python 3",
   "language": "python",
   "name": "python3"
  },
  "language_info": {
   "codemirror_mode": {
    "name": "ipython",
    "version": 3
   },
   "file_extension": ".py",
   "mimetype": "text/x-python",
   "name": "python",
   "nbconvert_exporter": "python",
   "pygments_lexer": "ipython3",
   "version": "3.6.6"
  }
 },
 "nbformat": 4,
 "nbformat_minor": 2
}
